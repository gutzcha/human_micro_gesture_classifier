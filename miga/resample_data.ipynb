{
 "cells": [
  {
   "cell_type": "code",
   "execution_count": 1,
   "id": "initial_id",
   "metadata": {
    "collapsed": true,
    "ExecuteTime": {
     "end_time": "2024-05-18T14:49:56.967305800Z",
     "start_time": "2024-05-18T14:49:56.876169700Z"
    }
   },
   "outputs": [],
   "source": [
    "import os\n",
    "import os.path as osp\n",
    "import numpy as np\n",
    "import pandas as pd\n",
    "import seaborn as sns \n",
    "import matplotlib.pyplot as plt\n",
    "from glob import glob\n",
    "from const import ID2LABELS_SMG_SHORT as ID2LABELS\n",
    "import ast\n",
    "import plotly.express as px"
   ]
  },
  {
   "cell_type": "code",
   "execution_count": 2,
   "outputs": [],
   "source": [
    "os.environ['OMP_NUM_THREADS']='1'"
   ],
   "metadata": {
    "collapsed": false,
    "ExecuteTime": {
     "end_time": "2024-05-18T14:49:56.983305900Z",
     "start_time": "2024-05-18T14:49:56.969310Z"
    }
   },
   "id": "73156267b115d49e"
  },
  {
   "cell_type": "code",
   "execution_count": 3,
   "outputs": [],
   "source": [
    "experiment_folder = r'D:\\Project-mpg microgesture\\human_micro_gesture_classifier\\scripts\\miga_smg'\n",
    "run_name = 'resample_only_single_using_multi'\n",
    "data_folder = r'D:\\Project-mpg microgesture\\human_micro_gesture_classifier\\scripts\\miga_smg\\overfit_videomae_vit_base_patch16_224_kinetic_400_densepose_dual\\outputs\\extracted_features'\n",
    "\n"
   ],
   "metadata": {
    "collapsed": false,
    "ExecuteTime": {
     "end_time": "2024-05-18T14:57:35.005412100Z",
     "start_time": "2024-05-18T14:57:34.929651400Z"
    }
   },
   "id": "1eb8fb74f38558de"
  },
  {
   "cell_type": "code",
   "execution_count": 4,
   "outputs": [],
   "source": [
    "# load features\n",
    "all_file_paths = glob(osp.join(data_folder, '*.npy'))\n",
    "all_data_list = []\n",
    "for p in all_file_paths:\n",
    "    all_data_list.append(np.load(p))\n",
    "concatenated_array = np.stack(all_data_list, axis=0)"
   ],
   "metadata": {
    "collapsed": false,
    "ExecuteTime": {
     "end_time": "2024-05-18T14:57:45.801442800Z",
     "start_time": "2024-05-18T14:57:36.827701800Z"
    }
   },
   "id": "acd446cbd0cc54a"
  },
  {
   "cell_type": "code",
   "execution_count": 5,
   "outputs": [
    {
     "data": {
      "text/plain": "(4904, 770)"
     },
     "execution_count": 5,
     "metadata": {},
     "output_type": "execute_result"
    }
   ],
   "source": [
    "concatenated_array.shape"
   ],
   "metadata": {
    "collapsed": false,
    "ExecuteTime": {
     "end_time": "2024-05-18T14:57:58.965682300Z",
     "start_time": "2024-05-18T14:57:58.929648800Z"
    }
   },
   "id": "28d69aff03ebe648"
  },
  {
   "cell_type": "code",
   "execution_count": 6,
   "outputs": [],
   "source": [
    "file_ids = [float(osp.basename(f).split('.')[0].split('_ ')[1]) for f in all_file_paths]\n",
    "file_ids = np.array(file_ids).reshape(-1,1)\n",
    "concatenated_array = np.concatenate((concatenated_array,file_ids), axis=1)"
   ],
   "metadata": {
    "collapsed": false,
    "ExecuteTime": {
     "end_time": "2024-05-18T14:57:59.979648200Z",
     "start_time": "2024-05-18T14:57:59.953646200Z"
    }
   },
   "id": "c74b6e461b9b74b6"
  },
  {
   "cell_type": "code",
   "execution_count": 7,
   "outputs": [],
   "source": [
    "# Reshape the concatenated array to shape (N/2, d, 2)\n",
    "even_inds = np.expand_dims(concatenated_array[::2,: ], axis=2)\n",
    "odd_inds = np.expand_dims(concatenated_array[1::2,: ], axis=2)\n",
    "reshaped_array = np.concatenate((even_inds, odd_inds), axis=2).mean(axis=2, keepdims=False)"
   ],
   "metadata": {
    "collapsed": false,
    "ExecuteTime": {
     "end_time": "2024-05-18T14:58:01.452787900Z",
     "start_time": "2024-05-18T14:58:01.419788Z"
    }
   },
   "id": "237d22503d3d8030"
  },
  {
   "cell_type": "code",
   "execution_count": 8,
   "outputs": [],
   "source": [
    "dim_data = 768 # 0 -> target_dim\n",
    "target_dim = 17 # dim_data + 1 -> target_dim + 1 + target_dim  \n",
    "index_dim = 1 + 1"
   ],
   "metadata": {
    "collapsed": false,
    "ExecuteTime": {
     "end_time": "2024-05-18T14:58:02.452785200Z",
     "start_time": "2024-05-18T14:58:02.415785700Z"
    }
   },
   "id": "ce4591aa9c42b890"
  },
  {
   "cell_type": "code",
   "execution_count": 9,
   "outputs": [
    {
     "name": "stdout",
     "output_type": "stream",
     "text": [
      "ind_start=0, ind_end-1=767\n",
      "ind_start=768, ind_end-1=784\n",
      "ind_start=785, ind_end-1=786\n"
     ]
    }
   ],
   "source": [
    "ind_start = 0\n",
    "ind_end = ind_start + dim_data\n",
    "print(f'{ind_start=}, {ind_end-1=}')\n",
    "\n",
    "X = reshaped_array[:, ind_start:ind_end]\n",
    "\n",
    "ind_start = ind_end\n",
    "ind_end = ind_start + target_dim\n",
    "print(f'{ind_start=}, {ind_end-1=}')\n",
    "y_multihot = even_inds[:,ind_start:ind_end].astype(int)\n",
    "\n",
    "ind_start = ind_end\n",
    "ind_end = ind_start + index_dim\n",
    "print(f'{ind_start=}, {ind_end-1=}')\n",
    "inds = even_inds[:,ind_start:ind_end].astype(int)\n",
    "# y"
   ],
   "metadata": {
    "collapsed": false,
    "ExecuteTime": {
     "end_time": "2024-05-18T14:58:02.896793500Z",
     "start_time": "2024-05-18T14:58:02.865786900Z"
    }
   },
   "id": "d81a79fa4de2fbd2"
  },
  {
   "cell_type": "code",
   "execution_count": 10,
   "outputs": [
    {
     "name": "stdout",
     "output_type": "stream",
     "text": [
      "Total shape: (2452, 771)\n",
      "X shape: (2452, 768)\n",
      "y shape: (2452, 3, 1)\n",
      "inds shape: (2452, 0, 1)\n",
      "771\n"
     ]
    }
   ],
   "source": [
    "print(f'Total shape: {reshaped_array.shape}')\n",
    "print(f'X shape: {X.shape}')\n",
    "print(f'y shape: {y_multihot.shape}')\n",
    "print(f'inds shape: {inds.shape}')\n",
    "# assert X.shape[1] +  y.shape[1] + inds.shape[1] ==  reshaped_array.shape[1]\n",
    "print(X.shape[1] +  y_multihot.shape[1] + inds.shape[1])"
   ],
   "metadata": {
    "collapsed": false,
    "ExecuteTime": {
     "end_time": "2024-05-18T14:58:04.057789600Z",
     "start_time": "2024-05-18T14:58:04.025400100Z"
    }
   },
   "id": "e931937ec6f6d511"
  },
  {
   "cell_type": "code",
   "execution_count": 11,
   "outputs": [],
   "source": [
    "from sklearn.preprocessing import LabelEncoder\n",
    "# Convert multi-hot to single label by concatenating the labels\n",
    "string_labels = [''.join(map(str, label)) for label in y_multihot]\n",
    "\n",
    "# Encode the string labels to integers\n",
    "label_encoder = LabelEncoder()\n",
    "y = label_encoder.fit_transform(string_labels)\n"
   ],
   "metadata": {
    "collapsed": false,
    "ExecuteTime": {
     "end_time": "2024-05-18T14:58:05.526786400Z",
     "start_time": "2024-05-18T14:58:05.262193800Z"
    }
   },
   "id": "d1d2be6a2dee9edc"
  },
  {
   "cell_type": "code",
   "execution_count": 12,
   "outputs": [],
   "source": [
    "from sklearn.decomposition import PCA\n",
    "from sklearn.preprocessing import StandardScaler\n",
    "\n",
    "X = StandardScaler().fit_transform(X)\n",
    "\n",
    "from umap import UMAP\n",
    "reducer1 = UMAP(n_components=15,    n_neighbors=15)\n",
    "reducer2 = UMAP(n_components=2, n_neighbors=5)\n",
    "\n",
    "\n",
    "# reducer1 = PCA(n_components=15)\n",
    "# reducer2 = UMAP(n_components=2)"
   ],
   "metadata": {
    "collapsed": false,
    "ExecuteTime": {
     "end_time": "2024-05-18T14:58:12.045019800Z",
     "start_time": "2024-05-18T14:58:07.030870300Z"
    }
   },
   "id": "e8a14bf92d8536f3"
  },
  {
   "cell_type": "code",
   "execution_count": 13,
   "outputs": [],
   "source": [
    "X_reduced = reducer1.fit_transform(X, y=y)\n",
    "embedding = reducer2.fit_transform(X_reduced, y=y)\n",
    "# embedding = reducer2.fit_transform(X, y=y)\n",
    "\n",
    "# X_reduced = reducer1.fit_transform(X)\n",
    "# embedding = reducer2.fit_transform(X_reduced, y=y)"
   ],
   "metadata": {
    "collapsed": false,
    "ExecuteTime": {
     "end_time": "2024-05-18T14:58:38.698279500Z",
     "start_time": "2024-05-18T14:58:15.349585600Z"
    }
   },
   "id": "4b1032f1a6d98b0c"
  },
  {
   "cell_type": "code",
   "execution_count": 14,
   "outputs": [],
   "source": [
    "from sklearn.random_projection import SparseRandomProjection\n",
    "from sklearn.decomposition import PCA\n",
    "# recuder = PCA(n_components=15)\n",
    "# X_reduced = recuder.fit_transform(X)"
   ],
   "metadata": {
    "collapsed": false,
    "ExecuteTime": {
     "end_time": "2024-05-18T14:58:38.714273900Z",
     "start_time": "2024-05-18T14:58:38.700272600Z"
    }
   },
   "id": "3502d938b980bf28"
  },
  {
   "cell_type": "code",
   "execution_count": 15,
   "outputs": [],
   "source": [
    "from imblearn.under_sampling   import AllKNN, RepeatedEditedNearestNeighbours, EditedNearestNeighbours, NearMiss, TomekLinks,CondensedNearestNeighbour, NeighbourhoodCleaningRule, InstanceHardnessThreshold\n",
    "\n",
    "from imblearn.combine import SMOTEENN"
   ],
   "metadata": {
    "collapsed": false,
    "ExecuteTime": {
     "end_time": "2024-05-18T14:58:38.809306500Z",
     "start_time": "2024-05-18T14:58:38.716273800Z"
    }
   },
   "id": "60db2880e4ec0479"
  },
  {
   "cell_type": "code",
   "execution_count": 16,
   "outputs": [
    {
     "data": {
      "text/plain": "(2452,)"
     },
     "execution_count": 16,
     "metadata": {},
     "output_type": "execute_result"
    }
   ],
   "source": [
    "# resampler = TomekLinks(sampling_strategy='all')\n",
    "# resampler = NearMiss()\n",
    "resampler = CondensedNearestNeighbour()\n",
    "# resampler = NeighbourhoodCleaningRule()\n",
    "# resampler = InstanceHardnessThreshold()\n",
    "# resampler =  AllKNN()\n",
    "# resampler = RepeatedEditedNearestNeighbours()\n",
    "\n",
    "# resampler = SMOTEENN()\n",
    "\n",
    "X_rus, y_rus = resampler.fit_resample(X, y)\n",
    "y_rus.shape"
   ],
   "metadata": {
    "collapsed": false,
    "ExecuteTime": {
     "end_time": "2024-05-18T14:59:48.380089600Z",
     "start_time": "2024-05-18T14:58:38.812273200Z"
    }
   },
   "id": "3ab47fabf152dd6e"
  },
  {
   "cell_type": "code",
   "execution_count": 16,
   "outputs": [],
   "source": [],
   "metadata": {
    "collapsed": false,
    "ExecuteTime": {
     "end_time": "2024-05-18T14:59:48.401099Z",
     "start_time": "2024-05-18T14:59:48.381088100Z"
    }
   },
   "id": "5618c55ec257f51c"
  },
  {
   "cell_type": "code",
   "execution_count": 17,
   "outputs": [],
   "source": [
    "sample_inds = resampler.sample_indices_"
   ],
   "metadata": {
    "collapsed": false,
    "ExecuteTime": {
     "end_time": "2024-05-18T14:59:48.410087400Z",
     "start_time": "2024-05-18T14:59:48.397086800Z"
    }
   },
   "id": "ec5e70b2ace2232f"
  },
  {
   "cell_type": "code",
   "execution_count": 18,
   "outputs": [
    {
     "data": {
      "text/plain": "<Figure size 640x480 with 2 Axes>",
      "image/png": "[encoded data removed]"
     },
     "metadata": {},
     "output_type": "display_data"
    }
   ],
   "source": [
    "import matplotlib.pyplot as plt\n",
    "fig, axes = plt.subplots(nrows=1, ncols=2)\n",
    "axes[0].hist(y_rus, bins=17)\n",
    "axes[1].hist(y, bins=17)\n",
    "plt.show()"
   ],
   "metadata": {
    "collapsed": false,
    "ExecuteTime": {
     "end_time": "2024-05-18T14:59:48.633090100Z",
     "start_time": "2024-05-18T14:59:48.413108900Z"
    }
   },
   "id": "fbcc6972e5ecdc6e"
  },
  {
   "cell_type": "code",
   "execution_count": 19,
   "outputs": [
    {
     "data": {
      "text/plain": "array([   0,    1,    2, ..., 2449, 2450, 2451], dtype=int64)"
     },
     "execution_count": 19,
     "metadata": {},
     "output_type": "execute_result"
    }
   ],
   "source": [
    "y_rus"
   ],
   "metadata": {
    "collapsed": false,
    "ExecuteTime": {
     "end_time": "2024-05-18T14:59:48.651127100Z",
     "start_time": "2024-05-18T14:59:48.635088100Z"
    }
   },
   "id": "4c307d292987872f"
  },
  {
   "cell_type": "code",
   "execution_count": 20,
   "outputs": [
    {
     "data": {
      "text/plain": "   index   before    after          label\n0      0    16001    16001  Turtling neck\n1      1  3004926  3004926   Rubbing face\n2      2        0        0   Folding arms",
      "text/html": "<div>\n<style scoped>\n    .dataframe tbody tr th:only-of-type {\n        vertical-align: middle;\n    }\n\n    .dataframe tbody tr th {\n        vertical-align: top;\n    }\n\n    .dataframe thead th {\n        text-align: right;\n    }\n</style>\n<table border=\"1\" class=\"dataframe\">\n  <thead>\n    <tr style=\"text-align: right;\">\n      <th></th>\n      <th>index</th>\n      <th>before</th>\n      <th>after</th>\n      <th>label</th>\n    </tr>\n  </thead>\n  <tbody>\n    <tr>\n      <th>0</th>\n      <td>0</td>\n      <td>16001</td>\n      <td>16001</td>\n      <td>Turtling neck</td>\n    </tr>\n    <tr>\n      <th>1</th>\n      <td>1</td>\n      <td>3004926</td>\n      <td>3004926</td>\n      <td>Rubbing face</td>\n    </tr>\n    <tr>\n      <th>2</th>\n      <td>2</td>\n      <td>0</td>\n      <td>0</td>\n      <td>Folding arms</td>\n    </tr>\n  </tbody>\n</table>\n</div>"
     },
     "execution_count": 20,
     "metadata": {},
     "output_type": "execute_result"
    }
   ],
   "source": [
    "from collections import Counter\n",
    "before = np.sum(y_multihot.squeeze(), axis=0)\n",
    "after = np.sum(y_multihot.squeeze()[sample_inds,:], axis=0)\n",
    "counts = {'before': before, 'after': after}\n",
    "df_counters = pd.DataFrame.from_dict(counts)\n",
    "df_counters.sort_index(inplace=True)\n",
    "df_counters = df_counters.reset_index()\n",
    "df_counters['label'] = df_counters['index'].apply(lambda x: ID2LABELS[x+1])\n",
    "df_counters"
   ],
   "metadata": {
    "collapsed": false,
    "ExecuteTime": {
     "end_time": "2024-05-18T14:59:48.685088Z",
     "start_time": "2024-05-18T14:59:48.653086800Z"
    }
   },
   "id": "8b3babfe19ea7be1"
  },
  {
   "cell_type": "code",
   "execution_count": 21,
   "outputs": [
    {
     "data": {
      "text/plain": "(2452, 3, 1)"
     },
     "execution_count": 21,
     "metadata": {},
     "output_type": "execute_result"
    }
   ],
   "source": [
    "y_multihot.shape"
   ],
   "metadata": {
    "collapsed": false,
    "ExecuteTime": {
     "end_time": "2024-05-18T14:59:48.694096600Z",
     "start_time": "2024-05-18T14:59:48.668087400Z"
    }
   },
   "id": "b01ca4aab5f6294e"
  },
  {
   "cell_type": "code",
   "execution_count": 165,
   "outputs": [],
   "source": [
    "def multihot_to_labels(multi_hot_labels):\n",
    "    label_inds = np.where(multi_hot_labels == 1)[0]\n",
    "    ret = [ID2LABELS[x+1] for x in label_inds]\n",
    "    ret.sort()\n",
    "    return '+'.join(ret)\n",
    "\n",
    "# test\n",
    "# multi_hot_labels = df.loc[df['label'].apply(lambda x: sum(x) > 1)].iloc[2]['label']\n",
    "# multihot_to_labels(multi_hot_labels)"
   ],
   "metadata": {
    "collapsed": false,
    "ExecuteTime": {
     "end_time": "2024-05-18T09:41:46.161424800Z",
     "start_time": "2024-05-18T09:41:46.112392500Z"
    }
   },
   "id": "625c33f23e127910"
  },
  {
   "cell_type": "code",
   "execution_count": 165,
   "outputs": [],
   "source": [],
   "metadata": {
    "collapsed": false,
    "ExecuteTime": {
     "end_time": "2024-05-18T09:41:47.179623700Z",
     "start_time": "2024-05-18T09:41:47.158388900Z"
    }
   },
   "id": "d6fb67bd31197180"
  },
  {
   "cell_type": "code",
   "execution_count": 168,
   "outputs": [],
   "source": [
    "df = pd.DataFrame(zip(embedding[:,0], embedding[:, 1], y_multihot.squeeze()), columns=['emb1', 'emb2', 'label'])\n",
    "df['label'] = df['label'].apply(lambda x: multihot_to_labels(x))\n",
    "df['sample'] = 'all'\n",
    "df_sub = df.iloc[sample_inds,:].copy()\n",
    "df_sub['sample'] = 'resample'\n",
    "df_all = pd.concat([df, df_sub], axis=0)\n",
    "df_all = df_all.sort_values(by='label')\n",
    "# sns.relplot(\n",
    "#     data=df_all, x=\"emb1\", y=\"emb2\",\n",
    "#     col=\"sample\", hue=\"label\",\n",
    "#     kind=\"scatter\"\n",
    "# )"
   ],
   "metadata": {
    "collapsed": false,
    "ExecuteTime": {
     "end_time": "2024-05-18T09:42:30.331097100Z",
     "start_time": "2024-05-18T09:42:30.284077900Z"
    }
   },
   "id": "9c1db10449f4bafb"
  },
  {
   "cell_type": "code",
   "execution_count": 172,
   "outputs": [
    {
     "data": {
      "application/vnd.plotly.v1+json": {
       "data": [
        {
         "hovertemplate": "label=Adjusting hair<br>sample=all<br>emb1=%{x}<br>emb2=%{y}<extra></extra>",
         "legendgroup": "Adjusting hair",
         "marker": {
          "color": "#636efa",
          "symbol": "circle"
         },
         "mode": "markers",
         "name": "Adjusting hair",
         "showlegend": true,
         "x": [
          12.006787300109863,
          -8.858155250549316,
          -1.2127798795700073,
          -1.2808226346969604,
          -1.3995296955108643,
          -1.3874285221099854,
          -2.2345376014709473,
          -1.281235694885254,
          -2.168595314025879,
          -1.280277132987976,
          -1.2805731296539307,
          -1.789293646812439,
          -1.3525793552398682,
          -1.2788878679275513,
          -2.359431505203247,
          -1.387764573097229,
          -2.376938581466675,
          10.995194435119629,
          -1.3706024885177612,
          -1.394473671913147,
          -1.3919181823730469,
          -1.3393388986587524,
          -1.3274692296981812,
          -2.4505040645599365,
          -1.4002470970153809,
          8.75616455078125,
          -1.3436279296875,
          13.890419960021973,
          -2.2096352577209473,
          -2.326549530029297,
          -2.2249643802642822,
          -8.858041763305664,
          -1.3665220737457275,
          -1.4108394384384155,
          8.070343017578125,
          -1.2450811862945557,
          -1.3643364906311035,
          -2.46779727935791,
          -2.244442939758301,
          12.739104270935059,
          -11.75554370880127,
          -2.2276015281677246
         ],
         "xaxis": "x",
         "y": [
          -6.990147590637207,
          15.852815628051758,
          21.142580032348633,
          21.07500457763672,
          17.473297119140625,
          17.488162994384766,
          18.077302932739258,
          21.074506759643555,
          18.03386116027832,
          21.075664520263672,
          21.07524871826172,
          -1.1144661903381348,
          17.473377227783203,
          21.076955795288086,
          17.958873748779297,
          17.488876342773438,
          17.942262649536133,
          17.8557186126709,
          17.474340438842773,
          17.479114532470703,
          17.475126266479492,
          17.476314544677734,
          17.459457397460938,
          17.873167037963867,
          17.487255096435547,
          -2.1536808013916016,
          17.460716247558594,
          7.4235453605651855,
          18.064908981323242,
          17.99065589904785,
          18.097694396972656,
          15.845562934875488,
          17.476577758789062,
          17.458683013916016,
          -2.3640880584716797,
          21.11014175415039,
          17.49721908569336,
          17.851930618286133,
          18.0690975189209,
          -3.333692789077759,
          16.74521255493164,
          18.08808135986328
         ],
         "yaxis": "y",
         "type": "scattergl"
        },
        {
         "hovertemplate": "label=Adjusting hair<br>sample=resample<br>emb1=%{x}<br>emb2=%{y}<extra></extra>",
         "legendgroup": "Adjusting hair",
         "marker": {
          "color": "#636efa",
          "symbol": "circle"
         },
         "mode": "markers",
         "name": "Adjusting hair",
         "showlegend": false,
         "x": [
          -1.2788878679275513,
          10.995194435119629
         ],
         "xaxis": "x2",
         "y": [
          21.076955795288086,
          17.8557186126709
         ],
         "yaxis": "y2",
         "type": "scattergl"
        },
        {
         "hovertemplate": "label=Adjusting hair+Arms akimbo<br>sample=all<br>emb1=%{x}<br>emb2=%{y}<extra></extra>",
         "legendgroup": "Adjusting hair+Arms akimbo",
         "marker": {
          "color": "#EF553B",
          "symbol": "circle"
         },
         "mode": "markers",
         "name": "Adjusting hair+Arms akimbo",
         "showlegend": true,
         "x": [
          -1.400770902633667,
          10.17359733581543,
          10.177848815917969
         ],
         "xaxis": "x",
         "y": [
          17.50165557861328,
          1.8226816654205322,
          1.8272449970245361
         ],
         "yaxis": "y",
         "type": "scattergl"
        },
        {
         "hovertemplate": "label=Adjusting hair+Arms akimbo<br>sample=resample<br>emb1=%{x}<br>emb2=%{y}<extra></extra>",
         "legendgroup": "Adjusting hair+Arms akimbo",
         "marker": {
          "color": "#EF553B",
          "symbol": "circle"
         },
         "mode": "markers",
         "name": "Adjusting hair+Arms akimbo",
         "showlegend": false,
         "x": [
          10.17359733581543
         ],
         "xaxis": "x2",
         "y": [
          1.8226816654205322
         ],
         "yaxis": "y2",
         "type": "scattergl"
        },
        {
         "hovertemplate": "label=Adjusting hair+Arms behind<br>sample=all<br>emb1=%{x}<br>emb2=%{y}<extra></extra>",
         "legendgroup": "Adjusting hair+Arms behind",
         "marker": {
          "color": "#00cc96",
          "symbol": "circle"
         },
         "mode": "markers",
         "name": "Adjusting hair+Arms behind",
         "showlegend": true,
         "x": [
          16.34219741821289,
          13.889948844909668,
          10.165788650512695
         ],
         "xaxis": "x",
         "y": [
          10.344430923461914,
          7.423867225646973,
          1.8144432306289673
         ],
         "yaxis": "y",
         "type": "scattergl"
        },
        {
         "hovertemplate": "label=Adjusting hair+Arms behind<br>sample=resample<br>emb1=%{x}<br>emb2=%{y}<extra></extra>",
         "legendgroup": "Adjusting hair+Arms behind",
         "marker": {
          "color": "#00cc96",
          "symbol": "circle"
         },
         "mode": "markers",
         "name": "Adjusting hair+Arms behind",
         "showlegend": false,
         "x": [
          16.34219741821289
         ],
         "xaxis": "x2",
         "y": [
          10.344430923461914
         ],
         "yaxis": "y2",
         "type": "scattergl"
        },
        {
         "hovertemplate": "label=Adjusting hair+Arms behind+Crossing legs<br>sample=all<br>emb1=%{x}<br>emb2=%{y}<extra></extra>",
         "legendgroup": "Adjusting hair+Arms behind+Crossing legs",
         "marker": {
          "color": "#ab63fa",
          "symbol": "circle"
         },
         "mode": "markers",
         "name": "Adjusting hair+Arms behind+Crossing legs",
         "showlegend": true,
         "x": [
          -8.980057716369629
         ],
         "xaxis": "x",
         "y": [
          11.208534240722656
         ],
         "yaxis": "y",
         "type": "scattergl"
        },
        {
         "hovertemplate": "label=Adjusting hair+Arms behind+Crossing legs<br>sample=resample<br>emb1=%{x}<br>emb2=%{y}<extra></extra>",
         "legendgroup": "Adjusting hair+Arms behind+Crossing legs",
         "marker": {
          "color": "#ab63fa",
          "symbol": "circle"
         },
         "mode": "markers",
         "name": "Adjusting hair+Arms behind+Crossing legs",
         "showlegend": false,
         "x": [
          -8.980057716369629
         ],
         "xaxis": "x2",
         "y": [
          11.208534240722656
         ],
         "yaxis": "y2",
         "type": "scattergl"
        },
        {
         "hovertemplate": "label=Adjusting hair+Folding arms<br>sample=all<br>emb1=%{x}<br>emb2=%{y}<extra></extra>",
         "legendgroup": "Adjusting hair+Folding arms",
         "marker": {
          "color": "#FFA15A",
          "symbol": "circle"
         },
         "mode": "markers",
         "name": "Adjusting hair+Folding arms",
         "showlegend": true,
         "x": [
          5.190932750701904,
          5.196497440338135
         ],
         "xaxis": "x",
         "y": [
          -6.389556407928467,
          -6.384901523590088
         ],
         "yaxis": "y",
         "type": "scattergl"
        },
        {
         "hovertemplate": "label=Adjusting hair+Folding arms<br>sample=resample<br>emb1=%{x}<br>emb2=%{y}<extra></extra>",
         "legendgroup": "Adjusting hair+Folding arms",
         "marker": {
          "color": "#FFA15A",
          "symbol": "circle"
         },
         "mode": "markers",
         "name": "Adjusting hair+Folding arms",
         "showlegend": false,
         "x": [
          5.190932750701904
         ],
         "xaxis": "x2",
         "y": [
          -6.389556407928467
         ],
         "yaxis": "y2",
         "type": "scattergl"
        },
        {
         "hovertemplate": "label=Adjusting hair+Hand gestures<br>sample=all<br>emb1=%{x}<br>emb2=%{y}<extra></extra>",
         "legendgroup": "Adjusting hair+Hand gestures",
         "marker": {
          "color": "#19d3f3",
          "symbol": "circle"
         },
         "mode": "markers",
         "name": "Adjusting hair+Hand gestures",
         "showlegend": true,
         "x": [
          -1.1592025756835938,
          -1.966200828552246,
          -1.9656754732131958
         ],
         "xaxis": "x",
         "y": [
          -3.62105655670166,
          14.52292251586914,
          14.522603988647461
         ],
         "yaxis": "y",
         "type": "scattergl"
        },
        {
         "hovertemplate": "label=Adjusting hair+Hand gestures<br>sample=resample<br>emb1=%{x}<br>emb2=%{y}<extra></extra>",
         "legendgroup": "Adjusting hair+Hand gestures",
         "marker": {
          "color": "#19d3f3",
          "symbol": "circle"
         },
         "mode": "markers",
         "name": "Adjusting hair+Hand gestures",
         "showlegend": false,
         "x": [
          -1.1592025756835938,
          -1.966200828552246
         ],
         "xaxis": "x2",
         "y": [
          -3.62105655670166,
          14.52292251586914
         ],
         "yaxis": "y2",
         "type": "scattergl"
        },
        {
         "hovertemplate": "label=Adjusting hair+Moving legs<br>sample=all<br>emb1=%{x}<br>emb2=%{y}<extra></extra>",
         "legendgroup": "Adjusting hair+Moving legs",
         "marker": {
          "color": "#FF6692",
          "symbol": "circle"
         },
         "mode": "markers",
         "name": "Adjusting hair+Moving legs",
         "showlegend": true,
         "x": [
          -6.4653754234313965,
          16.36530876159668,
          16.405839920043945
         ],
         "xaxis": "x",
         "y": [
          3.0699779987335205,
          10.321503639221191,
          10.283147811889648
         ],
         "yaxis": "y",
         "type": "scattergl"
        },
        {
         "hovertemplate": "label=Adjusting hair+Moving legs<br>sample=resample<br>emb1=%{x}<br>emb2=%{y}<extra></extra>",
         "legendgroup": "Adjusting hair+Moving legs",
         "marker": {
          "color": "#FF6692",
          "symbol": "circle"
         },
         "mode": "markers",
         "name": "Adjusting hair+Moving legs",
         "showlegend": false,
         "x": [
          16.405839920043945
         ],
         "xaxis": "x2",
         "y": [
          10.283147811889648
         ],
         "yaxis": "y2",
         "type": "scattergl"
        },
        {
         "hovertemplate": "label=Adjusting hair+Moving legs+Rubbing hands<br>sample=all<br>emb1=%{x}<br>emb2=%{y}<extra></extra>",
         "legendgroup": "Adjusting hair+Moving legs+Rubbing hands",
         "marker": {
          "color": "#B6E880",
          "symbol": "circle"
         },
         "mode": "markers",
         "name": "Adjusting hair+Moving legs+Rubbing hands",
         "showlegend": true,
         "x": [
          8.02180004119873
         ],
         "xaxis": "x",
         "y": [
          -0.27724483609199524
         ],
         "yaxis": "y",
         "type": "scattergl"
        },
        {
         "hovertemplate": "label=Adjusting hair+Moving legs+Rubbing hands<br>sample=resample<br>emb1=%{x}<br>emb2=%{y}<extra></extra>",
         "legendgroup": "Adjusting hair+Moving legs+Rubbing hands",
         "marker": {
          "color": "#B6E880",
          "symbol": "circle"
         },
         "mode": "markers",
         "name": "Adjusting hair+Moving legs+Rubbing hands",
         "showlegend": false,
         "x": [
          8.02180004119873
         ],
         "xaxis": "x2",
         "y": [
          -0.27724483609199524
         ],
         "yaxis": "y2",
         "type": "scattergl"
        },
        {
         "hovertemplate": "label=Adjusting hair+Pulling collar+Scratching neck<br>sample=all<br>emb1=%{x}<br>emb2=%{y}<extra></extra>",
         "legendgroup": "Adjusting hair+Pulling collar+Scratching neck",
         "marker": {
          "color": "#FF97FF",
          "symbol": "circle"
         },
         "mode": "markers",
         "name": "Adjusting hair+Pulling collar+Scratching neck",
         "showlegend": true,
         "x": [
          16.378520965576172
         ],
         "xaxis": "x",
         "y": [
          10.309656143188477
         ],
         "yaxis": "y",
         "type": "scattergl"
        },
        {
         "hovertemplate": "label=Adjusting hair+Pulling collar+Scratching neck<br>sample=resample<br>emb1=%{x}<br>emb2=%{y}<extra></extra>",
         "legendgroup": "Adjusting hair+Pulling collar+Scratching neck",
         "marker": {
          "color": "#FF97FF",
          "symbol": "circle"
         },
         "mode": "markers",
         "name": "Adjusting hair+Pulling collar+Scratching neck",
         "showlegend": false,
         "x": [
          16.378520965576172
         ],
         "xaxis": "x2",
         "y": [
          10.309656143188477
         ],
         "yaxis": "y2",
         "type": "scattergl"
        },
        {
         "hovertemplate": "label=Adjusting hair+Rubbing face<br>sample=all<br>emb1=%{x}<br>emb2=%{y}<extra></extra>",
         "legendgroup": "Adjusting hair+Rubbing face",
         "marker": {
          "color": "#FECB52",
          "symbol": "circle"
         },
         "mode": "markers",
         "name": "Adjusting hair+Rubbing face",
         "showlegend": true,
         "x": [
          -2.2378478050231934
         ],
         "xaxis": "x",
         "y": [
          18.080045700073242
         ],
         "yaxis": "y",
         "type": "scattergl"
        },
        {
         "hovertemplate": "label=Adjusting hair+Rubbing face<br>sample=resample<br>emb1=%{x}<br>emb2=%{y}<extra></extra>",
         "legendgroup": "Adjusting hair+Rubbing face",
         "marker": {
          "color": "#FECB52",
          "symbol": "circle"
         },
         "mode": "markers",
         "name": "Adjusting hair+Rubbing face",
         "showlegend": false,
         "x": [
          -2.2378478050231934
         ],
         "xaxis": "x2",
         "y": [
          18.080045700073242
         ],
         "yaxis": "y2",
         "type": "scattergl"
        },
        {
         "hovertemplate": "label=Adjusting hair+Rubbing hands<br>sample=all<br>emb1=%{x}<br>emb2=%{y}<extra></extra>",
         "legendgroup": "Adjusting hair+Rubbing hands",
         "marker": {
          "color": "#636efa",
          "symbol": "circle"
         },
         "mode": "markers",
         "name": "Adjusting hair+Rubbing hands",
         "showlegend": true,
         "x": [
          -10.40239143371582,
          12.080817222595215,
          -6.13103723526001,
          11.119105339050293,
          11.119654655456543,
          7.974842548370361,
          -8.858353614807129
         ],
         "xaxis": "x",
         "y": [
          0.6503815650939941,
          -6.8221964836120605,
          -2.4646949768066406,
          8.304047584533691,
          8.305069923400879,
          -0.33930864930152893,
          15.846243858337402
         ],
         "yaxis": "y",
         "type": "scattergl"
        },
        {
         "hovertemplate": "label=Adjusting hair+Rubbing hands<br>sample=resample<br>emb1=%{x}<br>emb2=%{y}<extra></extra>",
         "legendgroup": "Adjusting hair+Rubbing hands",
         "marker": {
          "color": "#636efa",
          "symbol": "circle"
         },
         "mode": "markers",
         "name": "Adjusting hair+Rubbing hands",
         "showlegend": false,
         "x": [
          11.119105339050293
         ],
         "xaxis": "x2",
         "y": [
          8.304047584533691
         ],
         "yaxis": "y2",
         "type": "scattergl"
        },
        {
         "hovertemplate": "label=Adjusting hair+Scratching neck<br>sample=all<br>emb1=%{x}<br>emb2=%{y}<extra></extra>",
         "legendgroup": "Adjusting hair+Scratching neck",
         "marker": {
          "color": "#EF553B",
          "symbol": "circle"
         },
         "mode": "markers",
         "name": "Adjusting hair+Scratching neck",
         "showlegend": true,
         "x": [
          -2.4791455268859863
         ],
         "xaxis": "x",
         "y": [
          17.83843421936035
         ],
         "yaxis": "y",
         "type": "scattergl"
        },
        {
         "hovertemplate": "label=Adjusting hair+Scratching neck<br>sample=resample<br>emb1=%{x}<br>emb2=%{y}<extra></extra>",
         "legendgroup": "Adjusting hair+Scratching neck",
         "marker": {
          "color": "#EF553B",
          "symbol": "circle"
         },
         "mode": "markers",
         "name": "Adjusting hair+Scratching neck",
         "showlegend": false,
         "x": [
          -2.4791455268859863
         ],
         "xaxis": "x2",
         "y": [
          17.83843421936035
         ],
         "yaxis": "y2",
         "type": "scattergl"
        },
        {
         "hovertemplate": "label=Adjusting hair+Touching face<br>sample=all<br>emb1=%{x}<br>emb2=%{y}<extra></extra>",
         "legendgroup": "Adjusting hair+Touching face",
         "marker": {
          "color": "#00cc96",
          "symbol": "circle"
         },
         "mode": "markers",
         "name": "Adjusting hair+Touching face",
         "showlegend": true,
         "x": [
          8.925469398498535,
          8.068556785583496
         ],
         "xaxis": "x",
         "y": [
          -2.1261115074157715,
          -2.351316213607788
         ],
         "yaxis": "y",
         "type": "scattergl"
        },
        {
         "hovertemplate": "label=Adjusting hair+Touching face<br>sample=resample<br>emb1=%{x}<br>emb2=%{y}<extra></extra>",
         "legendgroup": "Adjusting hair+Touching face",
         "marker": {
          "color": "#00cc96",
          "symbol": "circle"
         },
         "mode": "markers",
         "name": "Adjusting hair+Touching face",
         "showlegend": false,
         "x": [
          8.925469398498535
         ],
         "xaxis": "x2",
         "y": [
          -2.1261115074157715
         ],
         "yaxis": "y2",
         "type": "scattergl"
        },
        {
         "hovertemplate": "label=Adjusting hair+Touching nose<br>sample=all<br>emb1=%{x}<br>emb2=%{y}<extra></extra>",
         "legendgroup": "Adjusting hair+Touching nose",
         "marker": {
          "color": "#ab63fa",
          "symbol": "circle"
         },
         "mode": "markers",
         "name": "Adjusting hair+Touching nose",
         "showlegend": true,
         "x": [
          15.797829627990723
         ],
         "xaxis": "x",
         "y": [
          -0.27616366744041443
         ],
         "yaxis": "y",
         "type": "scattergl"
        },
        {
         "hovertemplate": "label=Adjusting hair+Touching nose<br>sample=resample<br>emb1=%{x}<br>emb2=%{y}<extra></extra>",
         "legendgroup": "Adjusting hair+Touching nose",
         "marker": {
          "color": "#ab63fa",
          "symbol": "circle"
         },
         "mode": "markers",
         "name": "Adjusting hair+Touching nose",
         "showlegend": false,
         "x": [
          15.797829627990723
         ],
         "xaxis": "x2",
         "y": [
          -0.27616366744041443
         ],
         "yaxis": "y2",
         "type": "scattergl"
        },
        {
         "hovertemplate": "label=Arms akimbo<br>sample=all<br>emb1=%{x}<br>emb2=%{y}<extra></extra>",
         "legendgroup": "Arms akimbo",
         "marker": {
          "color": "#FFA15A",
          "symbol": "circle"
         },
         "mode": "markers",
         "name": "Arms akimbo",
         "showlegend": true,
         "x": [
          0.4696013927459717,
          -1.8258384466171265,
          -0.9166377782821655,
          -0.9231623411178589,
          -2.1117448806762695,
          -1.8909941911697388,
          3.0202884674072266,
          -1.4894598722457886,
          3.3836352825164795,
          -0.3506470322608948,
          -0.5576130747795105,
          3.631136655807495,
          3.0100181102752686,
          12.727472305297852,
          -1.8528995513916016,
          -2.0860300064086914,
          -1.9223867654800415,
          -1.2959234714508057,
          0.6594313383102417,
          3.627014636993408,
          0.7764963507652283,
          -1.4179069995880127,
          3.5897409915924072,
          3.3163704872131348,
          -2.072010040283203,
          3.287757158279419,
          -2.0982749462127686,
          -6.771289348602295,
          0.828326404094696,
          0.6265217065811157,
          -2.0016934871673584,
          -1.9430984258651733,
          7.466096878051758,
          -1.4756566286087036,
          -1.9793322086334229,
          -1.218603253364563,
          -2.071770429611206,
          4.289913654327393,
          3.5910730361938477,
          7.535686492919922,
          3.044334650039673,
          -5.818303108215332,
          0.6703187227249146,
          0.6173205375671387,
          7.395275592803955,
          -0.9080970287322998,
          -5.8153791427612305,
          4.302556991577148,
          3.4060306549072266,
          -0.860122561454773,
          3.3803744316101074,
          -1.729976773262024,
          9.234167098999023,
          -2.0873639583587646,
          -1.770051121711731,
          0.5988562107086182,
          3.035710096359253,
          -2.175532341003418,
          3.0288331508636475,
          -1.9782181978225708,
          9.24286937713623,
          3.365152597427368,
          -2.025505304336548,
          -14.554261207580566,
          3.691910743713379,
          -5.822002410888672,
          -5.8166656494140625,
          3.768434524536133,
          3.7922842502593994,
          2.699924945831299,
          7.395771026611328,
          -0.9847821593284607,
          -5.815306663513184,
          -2.118889331817627,
          -0.8928691744804382,
          -2.4589009284973145,
          -14.48961353302002,
          -10.650115966796875,
          3.384880542755127,
          -14.235722541809082,
          -14.556739807128906,
          -15.235363006591797,
          1.4243370294570923,
          1.4025369882583618,
          1.4044774770736694,
          1.3921443223953247,
          -15.315107345581055,
          0.9625831246376038,
          -0.9811114072799683,
          -15.262210845947266,
          -14.538260459899902,
          -14.552902221679688,
          -14.549349784851074,
          0.4700407087802887,
          3.7593445777893066,
          -2.286953926086426,
          3.3510022163391113,
          -15.288079261779785,
          0.7091512084007263,
          3.412212371826172,
          7.374176025390625,
          3.2913503646850586,
          -2.0581939220428467,
          -5.312579154968262,
          0.669287383556366,
          -5.312859535217285,
          6.02025032043457,
          0.21516276895999908,
          0.10593850165605545,
          -2.0433173179626465,
          -2.2825706005096436,
          4.2907328605651855,
          -1.7947471141815186,
          -5.312598705291748,
          3.634970188140869,
          -14.521565437316895,
          -5.312710285186768,
          -1.612409234046936,
          -14.509077072143555,
          -14.572821617126465,
          -1.4239251613616943,
          -6.744988918304443,
          0.4981081187725067,
          0.4558936357498169,
          -1.4179786443710327,
          -0.9392916560173035,
          -5.31278133392334,
          -1.8304232358932495,
          -1.5542895793914795,
          -5.319692611694336,
          -2.039947271347046,
          -0.9336901903152466,
          -1.7601852416992188,
          -10.427013397216797,
          6.020481109619141,
          -8.822436332702637,
          -2.446073293685913,
          -0.37634333968162537,
          3.6164228916168213,
          3.3625237941741943,
          -2.167314291000366,
          1.2911568880081177,
          8.470666885375977,
          0.7782965898513794,
          3.315044641494751,
          0.7171039581298828,
          0.7698720097541809,
          0.6981499791145325,
          2.7956161499023438,
          3.3360090255737305,
          -1.205431342124939,
          0.7751570343971252,
          2.7056119441986084,
          -1.2372846603393555,
          0.8577937483787537,
          -1.2857697010040283,
          -1.2438045740127563,
          0.8585975766181946,
          2.7183661460876465,
          0.8472612500190735,
          0.8638160824775696,
          3.0625178813934326,
          0.2873120903968811,
          0.5935352444648743,
          3.5284218788146973,
          3.060276508331299,
          0.19086305797100067,
          -1.0439646244049072,
          3.114055633544922,
          -0.9996775388717651,
          -11.570966720581055,
          -0.5738981366157532,
          -1.8724162578582764,
          -2.1341874599456787,
          3.005000591278076,
          -0.3332260251045227,
          -5.816829681396484,
          0.6935775876045227,
          7.399537563323975,
          0.6768125891685486,
          -1.6848880052566528,
          3.32529354095459,
          0.8553640842437744,
          3.5465595722198486,
          -1.6069371700286865,
          3.5591847896575928,
          -10.42039680480957,
          14.12045955657959,
          -14.21474838256836,
          0.864203155040741,
          2.864802837371826,
          0.7377122640609741,
          1.4323540925979614,
          2.8708231449127197,
          -1.2215973138809204,
          2.820389747619629,
          -14.248220443725586,
          -1.0234524011611938,
          3.2986462116241455,
          -2.0847432613372803,
          -0.045531101524829865,
          -2.1126184463500977,
          -1.2640602588653564,
          -1.7655800580978394,
          -0.33179396390914917,
          -0.4219571650028229,
          0.5250575542449951,
          -8.90816593170166,
          -0.11185485124588013,
          0.49208417534828186,
          3.0716519355773926,
          -1.891086459159851,
          -1.4830466508865356,
          -0.8572474122047424,
          0.07525479048490524,
          3.3086962699890137,
          -1.3417125940322876,
          -0.31662318110466003,
          -0.8507711887359619,
          -0.5918630361557007,
          9.257944107055664,
          -2.0965349674224854,
          -0.543703019618988,
          -1.0452525615692139,
          -0.022588981315493584,
          -1.6829906702041626,
          3.4401235580444336,
          -3.590986967086792,
          3.33821964263916,
          -3.5917842388153076,
          -8.96288013458252,
          3.2168917655944824,
          -1.8210220336914062,
          -2.03444504737854,
          3.5514302253723145,
          2.978771209716797,
          0.1192774772644043,
          -8.842896461486816,
          -8.321969985961914,
          -0.022727349773049355,
          -1.0736662149429321,
          -1.1244432926177979,
          -1.4141438007354736,
          3.5169124603271484,
          -1.124346375465393,
          -0.04336367920041084,
          -0.4301804006099701,
          3.0687358379364014,
          -0.4143598675727844,
          -0.4594196677207947,
          0.005908005405217409,
          -1.411665916442871,
          -2.04083251953125,
          -1.184393048286438,
          -1.1530205011367798,
          -0.9232537746429443,
          -1.2105222940444946,
          3.3871216773986816,
          2.8187453746795654,
          -0.005978796165436506,
          3.382763385772705,
          -1.0122638940811157,
          0.2468351572751999,
          3.2429959774017334,
          -2.141340732574463,
          -1.4227288961410522,
          -1.4730051755905151,
          3.0230932235717773,
          0.1954846829175949,
          -1.7767765522003174,
          -1.6965981721878052,
          -14.280863761901855,
          -1.2573957443237305,
          2.9876041412353516,
          -11.879232406616211,
          -2.2162837982177734,
          -1.491498589515686,
          -1.523371934890747,
          -0.46811485290527344,
          3.3223776817321777,
          9.24429988861084,
          -2.090805768966675,
          7.494579792022705,
          -1.6805551052093506,
          -12.621173858642578,
          -0.2954026162624359,
          -1.003579020500183,
          -1.6832720041275024,
          -1.011357307434082,
          3.1557650566101074,
          3.7513389587402344,
          3.6834347248077393,
          -2.065211296081543,
          2.7069597244262695,
          -8.923605918884277,
          -0.9209301471710205,
          3.239586591720581,
          3.7810637950897217,
          -2.1220223903656006,
          14.1317720413208,
          7.373757362365723,
          0.39670851826667786,
          -1.1559619903564453,
          -2.017612934112549,
          -0.9163510799407959,
          15.660200119018555,
          9.243447303771973,
          -1.5682190656661987,
          -2.1201863288879395,
          -2.0721678733825684,
          8.171032905578613,
          -5.81770658493042,
          -1.628291130065918,
          3.6466147899627686,
          -1.9493268728256226,
          -2.0508999824523926,
          -2.03013277053833,
          -1.7067146301269531,
          3.626256227493286,
          -1.1906039714813232,
          3.1922998428344727,
          -2.0352823734283447,
          -3.5886738300323486,
          -2.3055176734924316,
          -8.889528274536133,
          -0.9847090840339661,
          -8.30549430847168,
          -0.35536378622055054,
          -8.323053359985352,
          -0.41791436076164246,
          -1.4427205324172974,
          3.3425917625427246,
          3.233288288116455,
          -8.330153465270996,
          -1.3554245233535767,
          -1.4957164525985718,
          -1.05641770362854,
          -1.6885709762573242,
          -1.409586787223816,
          3.322476625442505,
          -1.8001632690429688,
          -1.7426689863204956,
          -1.7945393323898315,
          -1.3714762926101685,
          -3.5887038707733154,
          -1.0609632730484009,
          4.276774883270264,
          -1.4566290378570557,
          -1.2505072355270386,
          4.254579544067383,
          -1.4830256700515747,
          0.6968104839324951,
          -1.167596459388733,
          -1.2483265399932861,
          -1.1659804582595825,
          -0.9385941028594971,
          4.294267654418945,
          -2.284158945083618,
          3.3348371982574463,
          -2.107145071029663,
          9.236369132995605,
          3.6100564002990723,
          -0.39973074197769165,
          -0.48978176712989807,
          -0.4244040846824646,
          0.5262465476989746,
          0.5148688554763794,
          -0.3920702338218689,
          -0.7816973924636841,
          0.40933361649513245,
          -0.32112592458724976,
          -0.005391732789576054,
          3.7065372467041016,
          0.21018926799297333,
          -0.8308292031288147,
          2.9658141136169434,
          -1.4685299396514893,
          5.793184280395508,
          -2.0409023761749268,
          -1.4326443672180176,
          -3.5882718563079834,
          -3.588979482650757,
          -8.8898344039917,
          -8.91858196258545,
          -3.5882890224456787,
          -1.1083755493164062,
          -0.3536059558391571,
          -0.38672640919685364,
          -0.4012497365474701,
          2.8994314670562744,
          -0.5543274283409119,
          -0.911570131778717,
          -0.1698513627052307,
          -0.9301291704177856,
          -8.866780281066895,
          -0.9178288578987122,
          -0.7381517291069031,
          -1.159257411956787,
          3.0019724369049072,
          -0.8321866393089294,
          -1.3934333324432373,
          -0.5961534976959229,
          8.409674644470215,
          0.5303850173950195,
          -1.4210995435714722,
          -2.025921583175659,
          0.4732593297958374,
          -0.0353163480758667,
          -1.9720616340637207,
          -8.918268203735352,
          0.22035746276378632,
          -1.7808425426483154,
          3.307703733444214,
          3.6307060718536377,
          3.6949431896209717,
          3.3415398597717285,
          -1.97085440158844,
          -8.322516441345215,
          -8.844298362731934,
          -8.853638648986816,
          3.2738144397735596,
          -8.95442008972168,
          -8.901354789733887,
          -8.887953758239746,
          -1.1783130168914795,
          -1.1496424674987793,
          -2.0226895809173584,
          -2.0122179985046387,
          0.5940269827842712,
          -0.8583750128746033,
          -0.8720635771751404,
          -8.855402946472168,
          -1.9177395105361938,
          -8.873705863952637,
          -8.911548614501953,
          -8.91412353515625,
          3.640906810760498,
          -10.431082725524902,
          -14.21068286895752,
          -5.3128275871276855,
          14.140230178833008,
          3.3863704204559326,
          2.9885566234588623,
          -1.726078748703003,
          7.39401388168335,
          7.406744956970215,
          8.399408340454102,
          -1.9772160053253174,
          -0.3435280919075012,
          0.03596196696162224,
          7.420711517333984,
          -6.264891147613525,
          3.0062830448150635,
          -0.5455145239830017,
          -0.5301914811134338,
          4.295787334442139,
          -1.4000409841537476,
          7.392956733703613,
          -2.0434887409210205,
          -2.458346366882324,
          7.482484817504883,
          -2.173475742340088,
          16.180919647216797,
          16.181943893432617,
          0.2524547278881073,
          3.0182862281799316,
          3.608745813369751,
          -1.8269767761230469,
          -6.7119245529174805,
          -1.424751877784729,
          -6.7413010597229,
          7.399148464202881,
          -5.538937091827393,
          16.19696044921875,
          3.2203874588012695,
          -11.49246597290039,
          14.101730346679688,
          -14.29496955871582,
          -14.305044174194336,
          -8.495205879211426,
          -8.323294639587402,
          -15.222183227539062,
          -10.764583587646484,
          -13.929400444030762,
          -11.585244178771973,
          -14.388833999633789,
          0.8640863299369812,
          -14.26335334777832,
          -14.300076484680176,
          -1.3833104372024536,
          -2.1645750999450684,
          -15.269510269165039,
          -14.582846641540527,
          -14.60339641571045,
          -10.717802047729492,
          -14.573539733886719,
          14.131097793579102,
          -14.600462913513184,
          -0.5471566319465637,
          -11.208311080932617,
          -14.295747756958008,
          2.8271472454071045,
          -0.5318915843963623,
          3.360969066619873,
          -14.289194107055664,
          -2.0529274940490723,
          -15.262466430664062,
          -14.260090827941895,
          -14.278733253479004,
          -14.625292778015137,
          -13.978208541870117,
          -14.078495025634766,
          -2.140223741531372,
          -14.578699111938477,
          -1.6977556943893433,
          7.378697872161865,
          -0.5630854964256287,
          3.510768413543701,
          -0.6137195229530334,
          -0.616989016532898,
          14.137173652648926,
          -13.972506523132324,
          -0.9444793462753296,
          3.720261335372925,
          -0.26110684871673584,
          -0.9799355864524841,
          -3.573232650756836,
          -11.187524795532227,
          3.378448963165283,
          0.17739246785640717,
          -0.46537014842033386,
          3.3269741535186768,
          2.9934346675872803,
          -1.0085617303848267,
          -1.4196701049804688,
          -0.21249040961265564,
          0.48974525928497314,
          -0.9544162154197693,
          -2.462585687637329,
          -0.2387748807668686,
          -0.22545216977596283,
          -2.040755033493042,
          3.2930519580841064,
          9.43018627166748,
          -10.572842597961426,
          -0.5583390593528748,
          1.418452262878418,
          1.4045771360397339,
          -6.768462657928467,
          -4.144257068634033,
          2.992598533630371,
          -0.23498955368995667,
          -0.21526724100112915,
          -0.1643737107515335,
          -14.305398941040039,
          -14.284370422363281,
          0.6800746917724609,
          5.0466485023498535,
          0.488672137260437,
          -2.144076347351074,
          -0.20620512962341309,
          -0.16289621591567993,
          3.071331262588501,
          3.256355047225952,
          -0.19454635679721832,
          0.5170899033546448,
          0.5080974102020264,
          -0.15745921432971954,
          0.9733730554580688,
          -0.7499871850013733,
          -6.714415073394775,
          4.654604911804199,
          7.3867106437683105,
          -5.004101753234863,
          -6.6733012199401855,
          -2.1286747455596924,
          7.387303352355957,
          -0.4762272834777832,
          3.4168431758880615,
          16.173696517944336,
          16.181488037109375,
          0.36400848627090454,
          -2.1603806018829346,
          -11.170778274536133,
          -11.643214225769043,
          13.371156692504883,
          -2.4595773220062256,
          7.4328532218933105,
          -1.9218858480453491,
          -2.451648712158203,
          7.418149471282959,
          -0.6415787935256958,
          -0.16006676852703094,
          -0.20752978324890137,
          3.581793785095215,
          -0.2074873447418213,
          -1.1111345291137695,
          -0.20197966694831848,
          3.6589040756225586,
          -0.20011074841022491,
          7.38533353805542,
          7.384779453277588,
          16.181259155273438,
          3.0112812519073486,
          8.42165756225586,
          -1.165427327156067,
          -1.8302133083343506,
          16.178422927856445,
          7.384446620941162,
          7.383067607879639,
          7.383725166320801,
          7.386350154876709,
          8.578765869140625,
          3.0120246410369873,
          -11.032462120056152,
          -14.310171127319336,
          -15.240304946899414,
          7.590113639831543,
          -14.398449897766113,
          7.662060737609863,
          -11.870405197143555,
          5.083918571472168,
          -14.181428909301758,
          3.052891969680786,
          -0.357414573431015,
          -11.551015853881836,
          -11.899725914001465,
          7.5660719871521,
          -11.961309432983398,
          3.318976640701294,
          7.563384056091309,
          7.5950751304626465,
          -11.531305313110352,
          0.5180501937866211,
          -11.623740196228027,
          4.228245735168457,
          -11.562562942504883,
          -15.252020835876465,
          14.117910385131836,
          0.18706750869750977,
          -11.944607734680176,
          3.0161728858947754,
          -14.289983749389648,
          -14.239578247070312,
          5.046403408050537,
          14.176733016967773,
          -13.976974487304688,
          -1.1386491060256958,
          5.03608512878418,
          -1.8615769147872925,
          -11.960555076599121,
          5.054815292358398,
          -2.4608466625213623,
          7.629541397094727,
          14.15683364868164,
          0.41527700424194336,
          7.54562520980835,
          -11.379467010498047,
          -11.954957962036133,
          1.178938627243042,
          -2.1338257789611816,
          -13.765264511108398,
          -1.028831958770752,
          -2.27646541595459,
          7.6403021812438965,
          -11.60567855834961,
          7.625827312469482,
          14.086350440979004,
          3.2311160564422607,
          -3.5375633239746094,
          -0.3104134500026703,
          14.116772651672363,
          -1.4031094312667847,
          3.37070631980896,
          -15.287416458129883,
          -0.3321893513202667,
          5.065703392028809,
          -11.28023910522461,
          7.506590366363525,
          7.513000965118408,
          5.067512035369873,
          7.5565338134765625,
          -2.044020414352417,
          -14.042280197143555,
          -14.60169506072998,
          2.9794301986694336,
          -2.0702409744262695,
          3.4122047424316406,
          -13.973296165466309,
          -14.308295249938965,
          -14.617045402526855,
          -14.207576751708984,
          -1.7191126346588135,
          -1.9075249433517456,
          4.286866664886475,
          -1.0314561128616333,
          0.5450785160064697,
          7.562685966491699,
          -1.8000293970108032,
          -2.285095691680908,
          -0.9086390733718872,
          -1.117471694946289,
          -6.768782138824463,
          -5.717097282409668,
          -0.3907333016395569,
          -14.09375,
          3.3474810123443604,
          -14.295392990112305,
          -0.2121877670288086,
          -14.277268409729004,
          14.110222816467285,
          -13.766609191894531,
          -15.265321731567383,
          -10.716547966003418,
          -13.777432441711426,
          -13.764595985412598,
          -13.774523735046387,
          -13.788769721984863,
          -10.687419891357422,
          -1.037585735321045,
          -2.1344714164733887,
          14.137451171875,
          -14.609114646911621,
          -11.60729694366455,
          -13.968029022216797,
          7.654141426086426,
          14.098861694335938,
          -14.585166931152344,
          -14.235115051269531,
          -14.147234916687012,
          -15.227553367614746,
          -14.153450012207031,
          3.288602828979492,
          -11.5809907913208,
          -11.885141372680664,
          -14.165979385375977
         ],
         "xaxis": "x",
         "y": [
          6.271014213562012,
          5.038814067840576,
          7.72254753112793,
          5.749536991119385,
          8.251614570617676,
          6.330838680267334,
          19.891820907592773,
          5.898335933685303,
          -2.5860650539398193,
          7.76530647277832,
          5.193405628204346,
          -4.110336780548096,
          19.88273048400879,
          -3.3265280723571777,
          6.337612628936768,
          7.285480499267578,
          6.015638828277588,
          5.861280918121338,
          6.769488334655762,
          -4.004683971405029,
          7.962894439697266,
          5.372928142547607,
          -4.105780601501465,
          -2.421616792678833,
          5.855858325958252,
          -2.5090904235839844,
          5.84905481338501,
          -6.493043899536133,
          7.153112888336182,
          7.8332390785217285,
          7.895004749298096,
          7.664046287536621,
          13.509182929992676,
          6.639249801635742,
          9.328286170959473,
          7.220126628875732,
          9.321610450744629,
          -4.5648674964904785,
          -4.099425315856934,
          13.760724067687988,
          -1.9873876571655273,
          21.977142333984375,
          7.88913631439209,
          7.826292991638184,
          13.180355072021484,
          8.754545211791992,
          21.980939865112305,
          -4.574641704559326,
          -3.2511231899261475,
          8.279560089111328,
          -2.6932120323181152,
          7.5769877433776855,
          -4.098376274108887,
          9.345099449157715,
          7.582325458526611,
          6.428461074829102,
          -1.9519649744033813,
          7.2292094230651855,
          -1.9296764135360718,
          7.875164985656738,
          -4.100748062133789,
          -3.6620895862579346,
          9.260221481323242,
          0.7075043320655823,
          -2.673090696334839,
          21.972667694091797,
          21.979463577270508,
          -2.6686336994171143,
          -2.6682238578796387,
          -2.5544841289520264,
          13.094131469726562,
          5.803516864776611,
          21.981201171875,
          8.282252311706543,
          8.580211639404297,
          12.07359790802002,
          0.7880756855010986,
          9.656172752380371,
          -3.704021692276001,
          1.2072691917419434,
          0.7059215307235718,
          9.146122932434082,
          7.933135509490967,
          7.918006896972656,
          7.923032283782959,
          7.905480861663818,
          9.172911643981934,
          7.6912946701049805,
          7.041075706481934,
          9.180959701538086,
          0.7252941131591797,
          0.7082669138908386,
          0.7118342518806458,
          6.264399528503418,
          -2.6658828258514404,
          5.803560733795166,
          -3.2114720344543457,
          9.199747085571289,
          7.179380416870117,
          -3.7667315006256104,
          -1.840163230895996,
          -2.4468250274658203,
          7.005098342895508,
          -12.03176498413086,
          6.918474197387695,
          -12.032205581665039,
          7.505709648132324,
          5.50811767578125,
          5.28262186050415,
          5.89933967590332,
          -0.8208202719688416,
          -4.558887958526611,
          5.0323615074157715,
          -12.031729698181152,
          -4.076212406158447,
          0.7391839027404785,
          -12.032140731811523,
          9.602258682250977,
          0.7654672265052795,
          0.6890073418617249,
          5.151492118835449,
          -6.5221405029296875,
          6.1850972175598145,
          7.174377918243408,
          5.404645919799805,
          7.712080478668213,
          -12.032533645629883,
          5.0570597648620605,
          7.436261177062988,
          -12.04452133178711,
          6.885587692260742,
          7.846663475036621,
          7.581125736236572,
          9.847936630249023,
          7.505874156951904,
          -0.26711827516555786,
          12.055424690246582,
          7.730419635772705,
          -4.1067891120910645,
          -3.1576526165008545,
          7.254668712615967,
          7.862395286560059,
          16.517873764038086,
          7.971364974975586,
          -2.416675090789795,
          7.950465679168701,
          7.967348098754883,
          7.958371639251709,
          -2.6054301261901855,
          20.32160758972168,
          7.202383041381836,
          7.968820571899414,
          -2.558809757232666,
          7.253288269042969,
          7.159322738647461,
          5.920374870300293,
          5.973700523376465,
          7.153387069702148,
          -2.575655937194824,
          7.161899566650391,
          7.166433811187744,
          19.94507598876953,
          5.946601867675781,
          6.402298927307129,
          -2.646510601043701,
          19.937637329101562,
          2.9863667488098145,
          6.875977516174316,
          -2.793010711669922,
          7.027042865753174,
          9.54923152923584,
          7.720915794372559,
          7.715190410614014,
          7.300091743469238,
          19.878761291503906,
          7.7391204833984375,
          21.980619430541992,
          7.958803176879883,
          13.224076271057129,
          7.985214710235596,
          5.858578205108643,
          20.318347930908203,
          7.158382892608643,
          -4.004452228546143,
          5.886824607849121,
          -2.6790754795074463,
          9.855189323425293,
          4.273592948913574,
          1.2345694303512573,
          7.347941875457764,
          19.702857971191406,
          7.867924690246582,
          7.932173252105713,
          19.713424682617188,
          7.257554054260254,
          19.656288146972656,
          6.912513732910156,
          7.054216384887695,
          -2.8797473907470703,
          7.420152187347412,
          3.568524122238159,
          8.274238586425781,
          4.522879600524902,
          4.991853713989258,
          3.769496202468872,
          4.0917158126831055,
          6.243453502655029,
          -3.6778905391693115,
          3.634740114212036,
          6.211555004119873,
          -3.43632173538208,
          6.079974174499512,
          6.62408447265625,
          4.347311973571777,
          3.1449313163757324,
          -2.4584476947784424,
          9.681982040405273,
          3.8061046600341797,
          4.311124324798584,
          4.647594451904297,
          -4.110949516296387,
          9.309450149536133,
          3.9314827919006348,
          4.3205952644348145,
          3.261561393737793,
          -0.9952779412269592,
          -3.0620338916778564,
          -13.097932815551758,
          20.379636764526367,
          -13.095985412597656,
          -3.697633981704712,
          -2.525364875793457,
          5.037275314331055,
          9.306230545043945,
          -2.6448402404785156,
          -3.267996311187744,
          5.197013854980469,
          -3.7706515789031982,
          -4.249700546264648,
          3.4832448959350586,
          4.340519428253174,
          4.38031005859375,
          4.749807357788086,
          -2.822110891342163,
          4.386106491088867,
          3.5757687091827393,
          3.794877767562866,
          19.950393676757812,
          3.7828826904296875,
          4.49790096282959,
          3.237450122833252,
          9.711726188659668,
          9.170629501342773,
          9.584464073181152,
          9.613484382629395,
          8.792794227600098,
          9.599370002746582,
          -2.5398502349853516,
          19.640596389770508,
          3.2380530834198,
          -2.4333953857421875,
          7.678648948669434,
          5.609515190124512,
          -2.9325146675109863,
          8.78364372253418,
          5.363255023956299,
          6.626766681671143,
          -1.928640365600586,
          5.426331043243408,
          6.065638542175293,
          6.294482231140137,
          6.842140197753906,
          5.960638046264648,
          -2.678584098815918,
          10.174795150756836,
          5.824034690856934,
          6.613470077514648,
          6.578623294830322,
          4.7858147621154785,
          -2.504149913787842,
          -4.100474834442139,
          8.147483825683594,
          13.615143775939941,
          -0.9923421144485474,
          14.84106159210205,
          3.6535911560058594,
          7.6378960609436035,
          -0.9950975179672241,
          7.634698867797852,
          20.066701889038086,
          -2.6752171516418457,
          -2.7057132720947266,
          8.055441856384277,
          -2.562725067138672,
          -3.6861419677734375,
          8.7864990234375,
          -2.705087900161743,
          -2.667046308517456,
          8.992755889892578,
          4.278810024261475,
          -1.8396469354629517,
          6.057359218597412,
          9.454267501831055,
          7.880612850189209,
          8.769217491149902,
          -0.4202515184879303,
          -4.096844673156738,
          9.638757705688477,
          8.319705963134766,
          8.126629829406738,
          -0.2071657031774521,
          21.977659225463867,
          6.090042591094971,
          -4.0838303565979,
          6.013519287109375,
          7.111669063568115,
          9.257867813110352,
          7.506293773651123,
          -2.6606855392456055,
          9.579712867736816,
          -2.9130377769470215,
          5.927345275878906,
          -13.097770690917969,
          5.814434051513672,
          -3.725475788116455,
          4.506814956665039,
          -4.2657599449157715,
          4.0168328285217285,
          -4.2480363845825195,
          4.059298992156982,
          4.754457473754883,
          20.350645065307617,
          -3.4210851192474365,
          -4.241537094116211,
          4.623956203460693,
          5.603256702423096,
          4.565944671630859,
          4.92909574508667,
          5.291478157043457,
          20.302417755126953,
          5.024452209472656,
          4.963197708129883,
          5.047606468200684,
          9.710565567016602,
          -13.097610473632812,
          4.384411334991455,
          -4.552567958831787,
          9.748885154724121,
          7.25898551940918,
          -4.538466453552246,
          9.694207191467285,
          7.011632442474365,
          9.597830772399902,
          7.244418144226074,
          9.607392311096191,
          8.799155235290527,
          -4.566971778869629,
          5.810037612915039,
          20.391096115112305,
          8.260645866394043,
          -4.102093696594238,
          -4.124104022979736,
          4.036535739898682,
          3.8852169513702393,
          4.111327648162842,
          6.264874458312988,
          6.230901718139648,
          4.027308940887451,
          4.351681709289551,
          6.557319641113281,
          3.895498037338257,
          3.28375506401062,
          -2.6657354831695557,
          -8.423039436340332,
          8.134844779968262,
          -2.62073016166687,
          9.69893741607666,
          -7.649468421936035,
          9.217933654785156,
          6.706440448760986,
          -13.09783935546875,
          -13.097846031188965,
          -3.7558705806732178,
          -3.6979517936706543,
          -13.098087310791016,
          9.051789283752441,
          3.873380184173584,
          3.977736473083496,
          4.037429332733154,
          -2.6463398933410645,
          3.934131383895874,
          4.577250003814697,
          3.684227705001831,
          8.776854515075684,
          -3.6441473960876465,
          4.394549369812012,
          4.1177144050598145,
          4.469860553741455,
          19.864038467407227,
          4.320789337158203,
          4.637230396270752,
          4.679441928863525,
          10.0835542678833,
          6.1984333992004395,
          9.716043472290039,
          9.239289283752441,
          7.714714527130127,
          3.545164108276367,
          5.98602819442749,
          -3.707636833190918,
          2.952375650405884,
          -1.10486900806427,
          20.41319465637207,
          -2.68434739112854,
          -2.6793339252471924,
          20.358579635620117,
          -1.3356900215148926,
          -4.248976707458496,
          -3.6188714504241943,
          -3.6231906414031982,
          -2.4916679859161377,
          -3.7295923233032227,
          -3.7266905307769775,
          -3.6778948307037354,
          4.4456963539123535,
          9.552051544189453,
          9.299797058105469,
          9.303491592407227,
          6.416761875152588,
          4.335513114929199,
          4.340152740478516,
          -3.631359815597534,
          6.033545970916748,
          -3.7406463623046875,
          -3.714345932006836,
          -3.6841678619384766,
          -4.00393009185791,
          9.845881462097168,
          1.2542001008987427,
          -12.032391548156738,
          4.274357795715332,
          -3.4337103366851807,
          19.851919174194336,
          5.575562000274658,
          13.090397834777832,
          13.069524765014648,
          10.081242561340332,
          -1.331630825996399,
          3.7571463584899902,
          7.614283561706543,
          13.046001434326172,
          15.61410140991211,
          19.87340545654297,
          4.741664409637451,
          4.608038902282715,
          -4.569049835205078,
          5.404583930969238,
          13.109586715698242,
          5.878357410430908,
          12.072784423828125,
          -1.864165186882019,
          7.217659950256348,
          -5.436801433563232,
          -5.437502384185791,
          5.61263370513916,
          19.894081115722656,
          -4.092670440673828,
          5.032776355743408,
          -6.565983295440674,
          5.123243808746338,
          -6.529414653778076,
          13.05553913116455,
          2.160778045654297,
          -5.452638626098633,
          -3.4547736644744873,
          9.543569564819336,
          4.257059097290039,
          6.160366535186768,
          6.16526460647583,
          -1.2264763116836548,
          -10.023449897766113,
          9.111858367919922,
          9.566009521484375,
          1.5831102132797241,
          9.532794952392578,
          6.704780101776123,
          7.173577308654785,
          6.865498065948486,
          6.789988040924072,
          17.486902236938477,
          7.153598785400391,
          9.196170806884766,
          6.71919584274292,
          6.725733280181885,
          9.621617317199707,
          6.737538814544678,
          4.2499613761901855,
          6.727358818054199,
          5.197473049163818,
          9.483112335205078,
          6.1485466957092285,
          19.65972328186035,
          4.611745357513428,
          -3.295248508453369,
          6.841054439544678,
          5.841975212097168,
          9.202080726623535,
          6.870499134063721,
          6.841065406799316,
          6.7295098304748535,
          1.529558777809143,
          1.4314916133880615,
          7.2932281494140625,
          6.735019207000732,
          5.764403820037842,
          13.118700981140137,
          5.255070686340332,
          2.3785977363586426,
          5.378518104553223,
          5.372873306274414,
          4.2750115394592285,
          1.5340862274169922,
          4.542097568511963,
          -2.6435537338256836,
          7.709343433380127,
          5.808603763580322,
          14.361928939819336,
          9.480594635009766,
          -3.137263536453247,
          5.410813808441162,
          4.122889518737793,
          20.404996871948242,
          -3.280914306640625,
          7.5966362953186035,
          5.095183372497559,
          -15.218219757080078,
          6.2167863845825195,
          5.781122207641602,
          12.052535057067871,
          -15.218781471252441,
          -15.212347030639648,
          7.969927787780762,
          -2.477537155151367,
          7.438817501068115,
          9.722233772277832,
          5.264822483062744,
          7.936978340148926,
          7.922224521636963,
          -6.500533580780029,
          -3.431621789932251,
          -3.280597448348999,
          -15.241061210632324,
          -15.221385955810547,
          -15.170173645019531,
          6.80864143371582,
          6.838142395019531,
          7.988948345184326,
          -1.42311692237854,
          6.161209583282471,
          8.763772964477539,
          -15.182798385620117,
          -15.169830322265625,
          -3.4443774223327637,
          15.010711669921875,
          -15.20034408569336,
          6.228084564208984,
          6.189062595367432,
          -15.164755821228027,
          7.697433948516846,
          5.5445756912231445,
          -6.5615620613098145,
          -12.478923797607422,
          19.868675231933594,
          -3.623528003692627,
          -6.610687255859375,
          7.316949844360352,
          19.868274688720703,
          7.734851360321045,
          -2.7639663219451904,
          -5.429798126220703,
          -5.43736457824707,
          6.023256778717041,
          7.217009544372559,
          9.48265552520752,
          9.475056648254395,
          7.967283725738525,
          12.074393272399902,
          -7.215091228485107,
          7.613373279571533,
          12.09756088256836,
          19.845558166503906,
          5.426023006439209,
          -15.165992736816406,
          -15.201507568359375,
          -2.7101480960845947,
          -15.20993709564209,
          5.871142387390137,
          -15.195951461791992,
          -4.100559711456299,
          -15.204841613769531,
          19.869293212890625,
          19.86954116821289,
          -5.437184810638428,
          -2.6889004707336426,
          7.503371715545654,
          9.61143970489502,
          7.640227317810059,
          -5.43472146987915,
          19.869613647460938,
          19.87067413330078,
          19.86984634399414,
          19.868953704833984,
          1.9138379096984863,
          -3.3443028926849365,
          9.521574020385742,
          6.186119079589844,
          9.16240119934082,
          13.890105247497559,
          0.9285948276519775,
          14.021896362304688,
          10.164608001708984,
          -1.3857213258743286,
          1.2857847213745117,
          -3.425737142562866,
          7.705512046813965,
          9.594071388244629,
          10.185559272766113,
          13.865530014038086,
          10.427166938781738,
          -3.5333750247955322,
          13.860794067382812,
          13.929378509521484,
          9.557366371154785,
          6.203970432281494,
          9.498729705810547,
          -4.517978668212891,
          9.560905456542969,
          9.219034194946289,
          4.245482444763184,
          2.9939236640930176,
          10.287474632263184,
          19.88616943359375,
          6.152445316314697,
          1.2188524007797241,
          -1.4230607748031616,
          4.222614288330078,
          1.5310908555984497,
          7.143407344818115,
          -1.4327096939086914,
          7.672985076904297,
          10.250927925109863,
          -1.4154284000396729,
          12.068279266357422,
          13.982786178588867,
          4.244473934173584,
          6.0700154304504395,
          13.778393745422363,
          9.521970748901367,
          10.397981643676758,
          -8.522008895874023,
          7.3075995445251465,
          1.760589599609375,
          7.001908302307129,
          -0.8237572908401489,
          13.997946739196777,
          9.50776195526123,
          13.974542617797852,
          4.270875453948975,
          -2.884016990661621,
          11.94866943359375,
          7.731473445892334,
          4.271313190460205,
          5.3641557693481445,
          -3.2510604858398438,
          9.20069694519043,
          7.70622444152832,
          -1.4038041830062866,
          9.51252555847168,
          13.657076835632324,
          13.673298835754395,
          -1.4023054838180542,
          13.858821868896484,
          6.90234899520874,
          1.4441909790039062,
          6.723458766937256,
          19.842004776000977,
          7.392494201660156,
          -3.7500274181365967,
          1.5348984003067017,
          6.163247585296631,
          6.7324419021606445,
          1.2569708824157715,
          7.729797840118408,
          6.444528579711914,
          -4.559242248535156,
          4.437105178833008,
          6.239181041717529,
          13.857714653015137,
          5.167206287384033,
          5.812704086303711,
          8.7305269241333,
          7.412083625793457,
          -6.500957489013672,
          1.404691219329834,
          7.731527805328369,
          1.4235365390777588,
          -3.5936198234558105,
          6.827685356140137,
          7.68427038192749,
          6.835732936859131,
          4.260704040527344,
          1.7629081010818481,
          9.216568946838379,
          9.593465805053711,
          1.7462966442108154,
          1.7606638669967651,
          1.7498650550842285,
          1.7334771156311035,
          9.617616653442383,
          7.737247467041016,
          7.294024467468262,
          4.277594089508057,
          6.740347862243652,
          9.513260841369629,
          1.5393387079238892,
          14.01072883605957,
          4.269844055175781,
          6.723298072814941,
          6.89348030090332,
          1.3533028364181519,
          9.137073516845703,
          1.316994309425354,
          -3.435725212097168,
          9.545551300048828,
          10.190933227539062,
          1.3037631511688232
         ],
         "yaxis": "y",
         "type": "scattergl"
        },
        {
         "hovertemplate": "label=Arms akimbo<br>sample=resample<br>emb1=%{x}<br>emb2=%{y}<extra></extra>",
         "legendgroup": "Arms akimbo",
         "marker": {
          "color": "#FFA15A",
          "symbol": "circle"
         },
         "mode": "markers",
         "name": "Arms akimbo",
         "showlegend": false,
         "x": [
          7.383067607879639,
          -1.4830466508865356,
          -11.208311080932617,
          14.176733016967773,
          -11.944607734680176
         ],
         "xaxis": "x2",
         "y": [
          19.87067413330078,
          6.62408447265625,
          9.483112335205078,
          4.222614288330078,
          10.287474632263184
         ],
         "yaxis": "y2",
         "type": "scattergl"
        },
        {
         "hovertemplate": "label=Arms akimbo+Arms behind<br>sample=all<br>emb1=%{x}<br>emb2=%{y}<extra></extra>",
         "legendgroup": "Arms akimbo+Arms behind",
         "marker": {
          "color": "#19d3f3",
          "symbol": "circle"
         },
         "mode": "markers",
         "name": "Arms akimbo+Arms behind",
         "showlegend": true,
         "x": [
          -5.332975387573242,
          -8.789658546447754,
          0.27463749051094055,
          0.4461533725261688,
          -13.892168045043945,
          4.943857669830322,
          -13.962105751037598,
          -13.946866989135742,
          -13.919134140014648,
          -13.982601165771484,
          -13.852032661437988,
          4.943743705749512,
          -13.799222946166992,
          -13.599647521972656,
          -13.855209350585938,
          -13.898310661315918,
          -13.888406753540039,
          -13.883819580078125,
          -13.944487571716309,
          -13.663567543029785,
          -13.845625877380371,
          0.44272926449775696,
          0.4757799208164215,
          -8.10918140411377,
          -8.385467529296875,
          -13.740789413452148,
          -13.624153137207031,
          -6.382131099700928,
          0.44590404629707336,
          -13.867469787597656,
          -13.85666561126709
         ],
         "xaxis": "x",
         "y": [
          0.8780120611190796,
          11.320487022399902,
          2.892446994781494,
          2.6980738639831543,
          8.805815696716309,
          17.21672821044922,
          8.736554145812988,
          8.749939918518066,
          8.777053833007812,
          8.713008880615234,
          8.843865394592285,
          17.21660041809082,
          8.897345542907715,
          9.090511322021484,
          8.842668533325195,
          8.798501014709473,
          8.809710502624512,
          8.81407356262207,
          8.753628730773926,
          9.029156684875488,
          8.85068130493164,
          2.7029943466186523,
          2.669647455215454,
          13.684983253479004,
          11.519996643066406,
          8.954439163208008,
          9.066855430603027,
          15.461575508117676,
          2.697800636291504,
          8.830486297607422,
          8.839859008789062
         ],
         "yaxis": "y",
         "type": "scattergl"
        },
        {
         "hovertemplate": "label=Arms akimbo+Arms behind<br>sample=resample<br>emb1=%{x}<br>emb2=%{y}<extra></extra>",
         "legendgroup": "Arms akimbo+Arms behind",
         "marker": {
          "color": "#19d3f3",
          "symbol": "circle"
         },
         "mode": "markers",
         "name": "Arms akimbo+Arms behind",
         "showlegend": false,
         "x": [
          0.4757799208164215
         ],
         "xaxis": "x2",
         "y": [
          2.669647455215454
         ],
         "yaxis": "y2",
         "type": "scattergl"
        },
        {
         "hovertemplate": "label=Arms akimbo+Arms behind+Folding arms<br>sample=all<br>emb1=%{x}<br>emb2=%{y}<extra></extra>",
         "legendgroup": "Arms akimbo+Arms behind+Folding arms",
         "marker": {
          "color": "#FF6692",
          "symbol": "circle"
         },
         "mode": "markers",
         "name": "Arms akimbo+Arms behind+Folding arms",
         "showlegend": true,
         "x": [
          -8.224912643432617
         ],
         "xaxis": "x",
         "y": [
          11.663619041442871
         ],
         "yaxis": "y",
         "type": "scattergl"
        },
        {
         "hovertemplate": "label=Arms akimbo+Arms behind+Folding arms<br>sample=resample<br>emb1=%{x}<br>emb2=%{y}<extra></extra>",
         "legendgroup": "Arms akimbo+Arms behind+Folding arms",
         "marker": {
          "color": "#FF6692",
          "symbol": "circle"
         },
         "mode": "markers",
         "name": "Arms akimbo+Arms behind+Folding arms",
         "showlegend": false,
         "x": [
          -8.224912643432617
         ],
         "xaxis": "x2",
         "y": [
          11.663619041442871
         ],
         "yaxis": "y2",
         "type": "scattergl"
        },
        {
         "hovertemplate": "label=Arms akimbo+Folding arms<br>sample=all<br>emb1=%{x}<br>emb2=%{y}<extra></extra>",
         "legendgroup": "Arms akimbo+Folding arms",
         "marker": {
          "color": "#B6E880",
          "symbol": "circle"
         },
         "mode": "markers",
         "name": "Arms akimbo+Folding arms",
         "showlegend": true,
         "x": [
          8.170498847961426,
          5.080207347869873,
          -4.577229022979736,
          5.129849910736084,
          8.307760238647461,
          8.609344482421875,
          7.5653252601623535,
          8.432938575744629,
          10.045062065124512,
          10.0447998046875,
          8.395045280456543,
          8.381379127502441,
          8.43139362335205,
          8.303561210632324,
          -6.070554733276367,
          8.613859176635742,
          -10.440502166748047,
          8.304539680480957,
          8.630881309509277,
          -6.147844314575195,
          8.329818725585938,
          8.236420631408691,
          -6.295085906982422,
          5.169163227081299,
          -15.763171195983887,
          4.49318790435791,
          8.377548217773438,
          8.09913444519043,
          -3.465060234069824,
          8.561410903930664,
          -15.763134002685547,
          8.391097068786621,
          8.287154197692871,
          8.079402923583984,
          8.11815071105957,
          8.255542755126953,
          8.264068603515625,
          8.23954963684082,
          -15.763383865356445,
          8.616469383239746,
          8.338467597961426,
          8.397963523864746,
          8.37125015258789,
          -6.298597812652588,
          8.1021089553833,
          4.8429436683654785,
          8.317115783691406,
          8.380477905273438,
          -15.763283729553223,
          4.914105415344238,
          8.201939582824707,
          12.753206253051758,
          8.340177536010742,
          8.29168701171875,
          -15.76312255859375,
          8.28679370880127,
          -6.2998456954956055,
          0.4140981137752533,
          8.60889720916748,
          -15.763343811035156,
          5.167777061462402,
          8.069538116455078,
          9.445561408996582,
          8.174295425415039,
          -1.2022275924682617,
          -15.76312255859375,
          8.165945053100586,
          8.294633865356445,
          8.13587760925293,
          8.109109878540039,
          8.498811721801758,
          7.472445964813232
         ],
         "xaxis": "x",
         "y": [
          10.413848876953125,
          -1.3890161514282227,
          -8.15046501159668,
          -10.367670059204102,
          11.279913902282715,
          11.366991996765137,
          13.870335578918457,
          7.4944167137146,
          14.059515953063965,
          14.059516906738281,
          11.089546203613281,
          11.049476623535156,
          11.198043823242188,
          10.461734771728516,
          20.307836532592773,
          11.359570503234863,
          9.836996078491211,
          10.49274730682373,
          11.387115478515625,
          7.0549092292785645,
          10.805703163146973,
          11.34520435333252,
          20.519811630249023,
          -6.45247745513916,
          -3.21244215965271,
          -9.689226150512695,
          10.946533203125,
          10.284331321716309,
          3.090388774871826,
          11.325721740722656,
          -3.2124745845794678,
          11.122061729431152,
          11.303815841674805,
          10.302970886230469,
          10.324029922485352,
          11.334004402160645,
          11.319384574890137,
          10.182330131530762,
          -3.212398052215576,
          11.37061595916748,
          11.223993301391602,
          11.156149864196777,
          11.234330177307129,
          20.522626876831055,
          10.271980285644531,
          -10.068177223205566,
          10.779934883117676,
          10.987616539001465,
          -3.21246075630188,
          -1.5491827726364136,
          10.448473930358887,
          -3.3573267459869385,
          10.832805633544922,
          10.473398208618164,
          -3.2124111652374268,
          10.685688018798828,
          20.523662567138672,
          2.7333717346191406,
          11.36558723449707,
          -3.2124485969543457,
          -6.452134132385254,
          10.277738571166992,
          7.720615386962891,
          10.413262367248535,
          21.153350830078125,
          -3.2124228477478027,
          10.402036666870117,
          10.469428062438965,
          10.359993934631348,
          10.30207633972168,
          11.258996963500977,
          -1.8577507734298706
         ],
         "yaxis": "y",
         "type": "scattergl"
        },
        {
         "hovertemplate": "label=Arms akimbo+Folding arms<br>sample=resample<br>emb1=%{x}<br>emb2=%{y}<extra></extra>",
         "legendgroup": "Arms akimbo+Folding arms",
         "marker": {
          "color": "#B6E880",
          "symbol": "circle"
         },
         "mode": "markers",
         "name": "Arms akimbo+Folding arms",
         "showlegend": false,
         "x": [
          8.391097068786621,
          7.472445964813232
         ],
         "xaxis": "x2",
         "y": [
          11.122061729431152,
          -1.8577507734298706
         ],
         "yaxis": "y2",
         "type": "scattergl"
        },
        {
         "hovertemplate": "label=Arms akimbo+Folding arms+Rubbing face<br>sample=all<br>emb1=%{x}<br>emb2=%{y}<extra></extra>",
         "legendgroup": "Arms akimbo+Folding arms+Rubbing face",
         "marker": {
          "color": "#FF97FF",
          "symbol": "circle"
         },
         "mode": "markers",
         "name": "Arms akimbo+Folding arms+Rubbing face",
         "showlegend": true,
         "x": [
          12.697652816772461
         ],
         "xaxis": "x",
         "y": [
          -3.2907979488372803
         ],
         "yaxis": "y",
         "type": "scattergl"
        },
        {
         "hovertemplate": "label=Arms akimbo+Folding arms+Rubbing face<br>sample=resample<br>emb1=%{x}<br>emb2=%{y}<extra></extra>",
         "legendgroup": "Arms akimbo+Folding arms+Rubbing face",
         "marker": {
          "color": "#FF97FF",
          "symbol": "circle"
         },
         "mode": "markers",
         "name": "Arms akimbo+Folding arms+Rubbing face",
         "showlegend": false,
         "x": [
          12.697652816772461
         ],
         "xaxis": "x2",
         "y": [
          -3.2907979488372803
         ],
         "yaxis": "y2",
         "type": "scattergl"
        },
        {
         "hovertemplate": "label=Arms akimbo+Folding arms+Rubbing hands<br>sample=all<br>emb1=%{x}<br>emb2=%{y}<extra></extra>",
         "legendgroup": "Arms akimbo+Folding arms+Rubbing hands",
         "marker": {
          "color": "#FECB52",
          "symbol": "circle"
         },
         "mode": "markers",
         "name": "Arms akimbo+Folding arms+Rubbing hands",
         "showlegend": true,
         "x": [
          8.320971488952637
         ],
         "xaxis": "x",
         "y": [
          10.787003517150879
         ],
         "yaxis": "y",
         "type": "scattergl"
        },
        {
         "hovertemplate": "label=Arms akimbo+Folding arms+Rubbing hands<br>sample=resample<br>emb1=%{x}<br>emb2=%{y}<extra></extra>",
         "legendgroup": "Arms akimbo+Folding arms+Rubbing hands",
         "marker": {
          "color": "#FECB52",
          "symbol": "circle"
         },
         "mode": "markers",
         "name": "Arms akimbo+Folding arms+Rubbing hands",
         "showlegend": false,
         "x": [
          8.320971488952637
         ],
         "xaxis": "x2",
         "y": [
          10.787003517150879
         ],
         "yaxis": "y2",
         "type": "scattergl"
        },
        {
         "hovertemplate": "label=Arms akimbo+Hand gestures<br>sample=all<br>emb1=%{x}<br>emb2=%{y}<extra></extra>",
         "legendgroup": "Arms akimbo+Hand gestures",
         "marker": {
          "color": "#636efa",
          "symbol": "circle"
         },
         "mode": "markers",
         "name": "Arms akimbo+Hand gestures",
         "showlegend": true,
         "x": [
          17.01261329650879,
          16.899169921875,
          17.033531188964844,
          -1.1463525295257568,
          0.14048638939857483,
          16.88238525390625,
          16.839092254638672,
          -1.143070936203003,
          -0.11958976835012436,
          17.077775955200195,
          -1.1496318578720093,
          17.08139991760254,
          0.1394152194261551,
          16.98483657836914,
          17.07957649230957,
          -0.9694848656654358,
          17.058034896850586,
          16.982824325561523,
          16.873868942260742,
          0.13983361423015594,
          17.064037322998047,
          17.032142639160156,
          17.091005325317383
         ],
         "xaxis": "x",
         "y": [
          6.240518569946289,
          6.126044273376465,
          6.261620998382568,
          -3.644510507583618,
          -3.165012836456299,
          6.109461307525635,
          6.06588888168335,
          -3.6644396781921387,
          -3.354194164276123,
          6.306427478790283,
          -3.6413164138793945,
          6.310328006744385,
          -3.1655242443084717,
          6.212679862976074,
          6.308500289916992,
          -3.7089483737945557,
          6.2862067222595215,
          6.211050510406494,
          6.100852966308594,
          -3.165361166000366,
          6.292953014373779,
          6.260181903839111,
          6.319524765014648
         ],
         "yaxis": "y",
         "type": "scattergl"
        },
        {
         "hovertemplate": "label=Arms akimbo+Hand gestures<br>sample=resample<br>emb1=%{x}<br>emb2=%{y}<extra></extra>",
         "legendgroup": "Arms akimbo+Hand gestures",
         "marker": {
          "color": "#636efa",
          "symbol": "circle"
         },
         "mode": "markers",
         "name": "Arms akimbo+Hand gestures",
         "showlegend": false,
         "x": [
          17.064037322998047,
          -1.1496318578720093,
          16.839092254638672
         ],
         "xaxis": "x2",
         "y": [
          6.292953014373779,
          -3.6413164138793945,
          6.06588888168335
         ],
         "yaxis": "y2",
         "type": "scattergl"
        },
        {
         "hovertemplate": "label=Arms akimbo+Hand gestures+Moving legs<br>sample=all<br>emb1=%{x}<br>emb2=%{y}<extra></extra>",
         "legendgroup": "Arms akimbo+Hand gestures+Moving legs",
         "marker": {
          "color": "#EF553B",
          "symbol": "circle"
         },
         "mode": "markers",
         "name": "Arms akimbo+Hand gestures+Moving legs",
         "showlegend": true,
         "x": [
          -1.5794768333435059
         ],
         "xaxis": "x",
         "y": [
          -3.929676055908203
         ],
         "yaxis": "y",
         "type": "scattergl"
        },
        {
         "hovertemplate": "label=Arms akimbo+Hand gestures+Moving legs<br>sample=resample<br>emb1=%{x}<br>emb2=%{y}<extra></extra>",
         "legendgroup": "Arms akimbo+Hand gestures+Moving legs",
         "marker": {
          "color": "#EF553B",
          "symbol": "circle"
         },
         "mode": "markers",
         "name": "Arms akimbo+Hand gestures+Moving legs",
         "showlegend": false,
         "x": [
          -1.5794768333435059
         ],
         "xaxis": "x2",
         "y": [
          -3.929676055908203
         ],
         "yaxis": "y2",
         "type": "scattergl"
        },
        {
         "hovertemplate": "label=Arms akimbo+Holding arms<br>sample=all<br>emb1=%{x}<br>emb2=%{y}<extra></extra>",
         "legendgroup": "Arms akimbo+Holding arms",
         "marker": {
          "color": "#00cc96",
          "symbol": "circle"
         },
         "mode": "markers",
         "name": "Arms akimbo+Holding arms",
         "showlegend": true,
         "x": [
          -0.06469158083200455,
          2.4724981784820557,
          1.0227097272872925,
          9.200459480285645,
          -9.68014907836914,
          1.0380367040634155,
          9.228767395019531,
          -9.680642127990723,
          2.472482442855835
         ],
         "xaxis": "x",
         "y": [
          3.656121015548706,
          -4.801612377166748,
          -11.576684951782227,
          -6.704763889312744,
          0.938410758972168,
          -11.573909759521484,
          -6.760636329650879,
          0.9374008178710938,
          -4.80171012878418
         ],
         "yaxis": "y",
         "type": "scattergl"
        },
        {
         "hovertemplate": "label=Arms akimbo+Holding arms<br>sample=resample<br>emb1=%{x}<br>emb2=%{y}<extra></extra>",
         "legendgroup": "Arms akimbo+Holding arms",
         "marker": {
          "color": "#00cc96",
          "symbol": "circle"
         },
         "mode": "markers",
         "name": "Arms akimbo+Holding arms",
         "showlegend": false,
         "x": [
          9.200459480285645
         ],
         "xaxis": "x2",
         "y": [
          -6.704763889312744
         ],
         "yaxis": "y2",
         "type": "scattergl"
        },
        {
         "hovertemplate": "label=Arms akimbo+Moving legs<br>sample=all<br>emb1=%{x}<br>emb2=%{y}<extra></extra>",
         "legendgroup": "Arms akimbo+Moving legs",
         "marker": {
          "color": "#ab63fa",
          "symbol": "circle"
         },
         "mode": "markers",
         "name": "Arms akimbo+Moving legs",
         "showlegend": true,
         "x": [
          7.419111728668213,
          -0.0068316590040922165,
          -6.671503067016602,
          4.836831092834473,
          5.634735584259033,
          5.6338043212890625,
          -1.293449878692627,
          -6.655946254730225,
          -6.6704230308532715,
          5.633646011352539,
          5.634226322174072,
          -0.866463840007782,
          11.038016319274902,
          5.6339921951293945,
          -1.568411946296692,
          -6.671635627746582,
          1.3955483436584473,
          3.529280185699463,
          5.6340861320495605,
          5.633890151977539,
          -0.18051394820213318,
          -8.957147598266602,
          3.195821762084961,
          -6.159585952758789,
          3.5519680976867676,
          -0.616719663143158,
          5.633719444274902,
          -6.664536476135254,
          7.912661552429199,
          4.113763332366943,
          4.94160270690918,
          -6.6716628074646,
          4.302958011627197,
          -18.545644760131836,
          -1.2052971124649048,
          -2.069749355316162,
          -1.8776222467422485,
          -9.598372459411621,
          -9.598349571228027,
          5.634096145629883,
          4.952724933624268
         ],
         "xaxis": "x",
         "y": [
          13.045909881591797,
          3.2506120204925537,
          -6.660123348236084,
          9.241293907165527,
          20.986467361450195,
          20.98685646057129,
          7.274109363555908,
          -6.675136089324951,
          -6.661390781402588,
          20.98665428161621,
          20.98664665222168,
          8.668045043945312,
          17.812101364135742,
          20.98648452758789,
          -3.9221699237823486,
          -6.658954620361328,
          -2.4025838375091553,
          14.543191909790039,
          20.98627281188965,
          20.986286163330078,
          7.630639553070068,
          5.374639511108398,
          15.091934204101562,
          7.030986785888672,
          2.4329938888549805,
          5.369463920593262,
          20.98676872253418,
          -6.666521072387695,
          4.587740421295166,
          -4.439805507659912,
          -1.5228744745254517,
          -6.660272121429443,
          -4.577084064483643,
          9.55703353881836,
          9.59550952911377,
          9.321520805358887,
          6.251504898071289,
          -1.4309840202331543,
          -1.4309954643249512,
          20.986204147338867,
          -1.5101197957992554
         ],
         "yaxis": "y",
         "type": "scattergl"
        },
        {
         "hovertemplate": "label=Arms akimbo+Moving legs<br>sample=resample<br>emb1=%{x}<br>emb2=%{y}<extra></extra>",
         "legendgroup": "Arms akimbo+Moving legs",
         "marker": {
          "color": "#ab63fa",
          "symbol": "circle"
         },
         "mode": "markers",
         "name": "Arms akimbo+Moving legs",
         "showlegend": false,
         "x": [
          -1.568411946296692,
          -18.545644760131836,
          11.038016319274902,
          -9.598349571228027
         ],
         "xaxis": "x2",
         "y": [
          -3.9221699237823486,
          9.55703353881836,
          17.812101364135742,
          -1.4309954643249512
         ],
         "yaxis": "y2",
         "type": "scattergl"
        },
        {
         "hovertemplate": "label=Arms akimbo+Moving legs+Rubbing hands<br>sample=all<br>emb1=%{x}<br>emb2=%{y}<extra></extra>",
         "legendgroup": "Arms akimbo+Moving legs+Rubbing hands",
         "marker": {
          "color": "#FFA15A",
          "symbol": "circle"
         },
         "mode": "markers",
         "name": "Arms akimbo+Moving legs+Rubbing hands",
         "showlegend": true,
         "x": [
          8.547944068908691
         ],
         "xaxis": "x",
         "y": [
          1.555851697921753
         ],
         "yaxis": "y",
         "type": "scattergl"
        },
        {
         "hovertemplate": "label=Arms akimbo+Moving legs+Rubbing hands<br>sample=resample<br>emb1=%{x}<br>emb2=%{y}<extra></extra>",
         "legendgroup": "Arms akimbo+Moving legs+Rubbing hands",
         "marker": {
          "color": "#FFA15A",
          "symbol": "circle"
         },
         "mode": "markers",
         "name": "Arms akimbo+Moving legs+Rubbing hands",
         "showlegend": false,
         "x": [
          8.547944068908691
         ],
         "xaxis": "x2",
         "y": [
          1.555851697921753
         ],
         "yaxis": "y2",
         "type": "scattergl"
        },
        {
         "hovertemplate": "label=Arms akimbo+Playing wobjects<br>sample=all<br>emb1=%{x}<br>emb2=%{y}<extra></extra>",
         "legendgroup": "Arms akimbo+Playing wobjects",
         "marker": {
          "color": "#19d3f3",
          "symbol": "circle"
         },
         "mode": "markers",
         "name": "Arms akimbo+Playing wobjects",
         "showlegend": true,
         "x": [
          -6.5437541007995605,
          0.18185974657535553
         ],
         "xaxis": "x",
         "y": [
          15.171297073364258,
          7.4037580490112305
         ],
         "yaxis": "y",
         "type": "scattergl"
        },
        {
         "hovertemplate": "label=Arms akimbo+Playing wobjects<br>sample=resample<br>emb1=%{x}<br>emb2=%{y}<extra></extra>",
         "legendgroup": "Arms akimbo+Playing wobjects",
         "marker": {
          "color": "#19d3f3",
          "symbol": "circle"
         },
         "mode": "markers",
         "name": "Arms akimbo+Playing wobjects",
         "showlegend": false,
         "x": [
          -6.5437541007995605
         ],
         "xaxis": "x2",
         "y": [
          15.171297073364258
         ],
         "yaxis": "y2",
         "type": "scattergl"
        },
        {
         "hovertemplate": "label=Arms akimbo+Rubbing face<br>sample=all<br>emb1=%{x}<br>emb2=%{y}<extra></extra>",
         "legendgroup": "Arms akimbo+Rubbing face",
         "marker": {
          "color": "#FF6692",
          "symbol": "circle"
         },
         "mode": "markers",
         "name": "Arms akimbo+Rubbing face",
         "showlegend": true,
         "x": [
          10.341972351074219,
          9.141721725463867,
          1.5594041347503662
         ],
         "xaxis": "x",
         "y": [
          7.144107818603516,
          -3.7366178035736084,
          0.26384052634239197
         ],
         "yaxis": "y",
         "type": "scattergl"
        },
        {
         "hovertemplate": "label=Arms akimbo+Rubbing face<br>sample=resample<br>emb1=%{x}<br>emb2=%{y}<extra></extra>",
         "legendgroup": "Arms akimbo+Rubbing face",
         "marker": {
          "color": "#FF6692",
          "symbol": "circle"
         },
         "mode": "markers",
         "name": "Arms akimbo+Rubbing face",
         "showlegend": false,
         "x": [
          10.341972351074219,
          1.5594041347503662
         ],
         "xaxis": "x2",
         "y": [
          7.144107818603516,
          0.26384052634239197
         ],
         "yaxis": "y2",
         "type": "scattergl"
        },
        {
         "hovertemplate": "label=Arms akimbo+Rubbing hands<br>sample=all<br>emb1=%{x}<br>emb2=%{y}<extra></extra>",
         "legendgroup": "Arms akimbo+Rubbing hands",
         "marker": {
          "color": "#B6E880",
          "symbol": "circle"
         },
         "mode": "markers",
         "name": "Arms akimbo+Rubbing hands",
         "showlegend": true,
         "x": [
          8.277867317199707,
          4.34307336807251,
          3.357875108718872,
          3.372885227203369,
          8.28077507019043,
          3.334587574005127,
          2.866147994995117,
          3.024954080581665,
          8.278162002563477,
          -5.789331436157227,
          3.3260223865509033,
          8.566529273986816,
          10.35534381866455,
          2.5503175258636475,
          10.347359657287598,
          -5.6184468269348145,
          -5.096989631652832,
          2.513746500015259,
          4.583130359649658,
          10.355504035949707,
          10.354958534240723,
          8.547320365905762,
          -9.296350479125977,
          8.536811828613281,
          2.6575686931610107,
          8.57861328125,
          6.320976734161377,
          8.579038619995117,
          8.579549789428711,
          3.182309627532959,
          13.926305770874023,
          17.729122161865234,
          3.1159780025482178,
          3.2204439640045166,
          6.323094367980957,
          3.363013744354248,
          -5.788454055786133,
          0.8631709218025208,
          8.100238800048828,
          8.581680297851562,
          4.6739654541015625,
          3.1686618328094482,
          8.518255233764648,
          9.104524612426758,
          -5.313464641571045,
          3.3534998893737793,
          8.582664489746094,
          8.527288436889648,
          3.391878843307495,
          10.355435371398926,
          8.53752613067627,
          -5.610273838043213,
          13.926346778869629,
          8.577509880065918,
          17.716238021850586,
          8.35148811340332,
          -8.505861282348633,
          13.92634105682373,
          -8.390207290649414,
          2.5914113521575928,
          7.416713237762451,
          2.771296262741089,
          17.718948364257812,
          -9.296250343322754,
          -8.764601707458496,
          -9.296283721923828,
          8.509629249572754,
          -3.537714958190918,
          -9.296239852905273,
          -9.296472549438477,
          -9.29625129699707,
          2.5297255516052246,
          7.40824031829834,
          2.6939022541046143,
          8.291303634643555,
          -14.099104881286621,
          -8.306599617004395,
          2.9536993503570557,
          2.6153063774108887,
          2.815599203109741,
          2.5426998138427734,
          2.5189976692199707,
          8.271872520446777,
          2.597153663635254,
          17.714550018310547,
          2.7782182693481445,
          -8.506595611572266,
          8.495140075683594,
          2.634397506713867,
          2.528064012527466,
          8.272082328796387,
          2.812974691390991,
          2.7835497856140137,
          17.71763801574707,
          17.71751594543457,
          2.5292131900787354,
          13.926370620727539,
          17.721967697143555,
          3.342111349105835,
          2.5098626613616943,
          7.313608169555664,
          2.5049870014190674,
          8.435449600219727,
          13.926329612731934,
          7.293571472167969,
          10.355846405029297
         ],
         "xaxis": "x",
         "y": [
          1.1469329595565796,
          12.987016677856445,
          15.054304122924805,
          15.035534858703613,
          1.1467469930648804,
          15.054666519165039,
          15.436028480529785,
          15.275513648986816,
          1.147071123123169,
          1.4218670129776,
          15.073624610900879,
          1.767911672592163,
          0.3781038224697113,
          15.771523475646973,
          0.3811657726764679,
          -2.2591660022735596,
          -3.3304033279418945,
          15.81004810333252,
          14.259305000305176,
          0.3781701922416687,
          0.3780936896800995,
          1.3817752599716187,
          -12.152395248413086,
          1.747267246246338,
          15.66137981414795,
          1.9234024286270142,
          -0.9034186005592346,
          1.9107789993286133,
          1.8969779014587402,
          15.108317375183105,
          0.334354043006897,
          1.5201187133789062,
          15.182890892028809,
          15.06014633178711,
          -0.9025141596794128,
          15.051520347595215,
          1.423709750175476,
          7.1660566329956055,
          -0.2500532269477844,
          1.9332010746002197,
          -9.882943153381348,
          15.134040832519531,
          1.35747230052948,
          -3.702789306640625,
          -4.715656280517578,
          15.053065299987793,
          1.8584330081939697,
          1.323803424835205,
          15.022235870361328,
          0.37816372513771057,
          1.7272950410842896,
          -2.252769947052002,
          0.33438214659690857,
          1.8757929801940918,
          1.5314874649047852,
          10.122802734375,
          -1.2535521984100342,
          0.33433687686920166,
          -0.9364518523216248,
          15.728452682495117,
          -1.8435276746749878,
          15.534869194030762,
          1.529137372970581,
          -12.152373313903809,
          -0.34565269947052,
          -12.152457237243652,
          1.408218264579773,
          11.948670387268066,
          -12.152332305908203,
          -12.15281867980957,
          -12.152358055114746,
          15.792835235595703,
          -1.843802809715271,
          15.623618125915527,
          1.161197304725647,
          1.4132695198059082,
          -10.007491111755371,
          15.346922874450684,
          15.705585479736328,
          15.493896484375,
          15.77742862701416,
          15.801342964172363,
          1.141564130783081,
          15.724444389343262,
          1.5329208374023438,
          15.530445098876953,
          -1.2511682510375977,
          1.3699034452438354,
          15.687223434448242,
          15.79636001586914,
          1.1393147706985474,
          15.495244026184082,
          15.527413368225098,
          1.5300793647766113,
          1.5303624868392944,
          15.79476261138916,
          0.3344363272190094,
          1.5267655849456787,
          15.066605567932129,
          15.811372756958008,
          -1.8833653926849365,
          15.811806678771973,
          1.307761311531067,
          0.33430221676826477,
          -1.9055222272872925,
          0.37852856516838074
         ],
         "yaxis": "y",
         "type": "scattergl"
        },
        {
         "hovertemplate": "label=Arms akimbo+Rubbing hands<br>sample=resample<br>emb1=%{x}<br>emb2=%{y}<extra></extra>",
         "legendgroup": "Arms akimbo+Rubbing hands",
         "marker": {
          "color": "#B6E880",
          "symbol": "circle"
         },
         "mode": "markers",
         "name": "Arms akimbo+Rubbing hands",
         "showlegend": false,
         "x": [
          -8.306599617004395,
          17.71751594543457
         ],
         "xaxis": "x2",
         "y": [
          -10.007491111755371,
          1.5303624868392944
         ],
         "yaxis": "y2",
         "type": "scattergl"
        },
        {
         "hovertemplate": "label=Arms akimbo+Rubbing hands+Turtling neck<br>sample=all<br>emb1=%{x}<br>emb2=%{y}<extra></extra>",
         "legendgroup": "Arms akimbo+Rubbing hands+Turtling neck",
         "marker": {
          "color": "#FF97FF",
          "symbol": "circle"
         },
         "mode": "markers",
         "name": "Arms akimbo+Rubbing hands+Turtling neck",
         "showlegend": true,
         "x": [
          -8.846028327941895
         ],
         "xaxis": "x",
         "y": [
          -0.2364678531885147
         ],
         "yaxis": "y",
         "type": "scattergl"
        },
        {
         "hovertemplate": "label=Arms akimbo+Rubbing hands+Turtling neck<br>sample=resample<br>emb1=%{x}<br>emb2=%{y}<extra></extra>",
         "legendgroup": "Arms akimbo+Rubbing hands+Turtling neck",
         "marker": {
          "color": "#FF97FF",
          "symbol": "circle"
         },
         "mode": "markers",
         "name": "Arms akimbo+Rubbing hands+Turtling neck",
         "showlegend": false,
         "x": [
          -8.846028327941895
         ],
         "xaxis": "x2",
         "y": [
          -0.2364678531885147
         ],
         "yaxis": "y2",
         "type": "scattergl"
        },
        {
         "hovertemplate": "label=Arms akimbo+Scratching body<br>sample=all<br>emb1=%{x}<br>emb2=%{y}<extra></extra>",
         "legendgroup": "Arms akimbo+Scratching body",
         "marker": {
          "color": "#FECB52",
          "symbol": "circle"
         },
         "mode": "markers",
         "name": "Arms akimbo+Scratching body",
         "showlegend": true,
         "x": [
          -5.181185722351074,
          15.813740730285645
         ],
         "xaxis": "x",
         "y": [
          5.089170932769775,
          -0.259988933801651
         ],
         "yaxis": "y",
         "type": "scattergl"
        },
        {
         "hovertemplate": "label=Arms akimbo+Scratching body<br>sample=resample<br>emb1=%{x}<br>emb2=%{y}<extra></extra>",
         "legendgroup": "Arms akimbo+Scratching body",
         "marker": {
          "color": "#FECB52",
          "symbol": "circle"
         },
         "mode": "markers",
         "name": "Arms akimbo+Scratching body",
         "showlegend": false,
         "x": [
          -5.181185722351074
         ],
         "xaxis": "x2",
         "y": [
          5.089170932769775
         ],
         "yaxis": "y2",
         "type": "scattergl"
        },
        {
         "hovertemplate": "label=Arms akimbo+Scratching neck<br>sample=all<br>emb1=%{x}<br>emb2=%{y}<extra></extra>",
         "legendgroup": "Arms akimbo+Scratching neck",
         "marker": {
          "color": "#636efa",
          "symbol": "circle"
         },
         "mode": "markers",
         "name": "Arms akimbo+Scratching neck",
         "showlegend": true,
         "x": [
          0.45792102813720703,
          8.423487663269043
         ],
         "xaxis": "x",
         "y": [
          2.6868114471435547,
          7.496476173400879
         ],
         "yaxis": "y",
         "type": "scattergl"
        },
        {
         "hovertemplate": "label=Arms akimbo+Scratching neck<br>sample=resample<br>emb1=%{x}<br>emb2=%{y}<extra></extra>",
         "legendgroup": "Arms akimbo+Scratching neck",
         "marker": {
          "color": "#636efa",
          "symbol": "circle"
         },
         "mode": "markers",
         "name": "Arms akimbo+Scratching neck",
         "showlegend": false,
         "x": [
          8.423487663269043
         ],
         "xaxis": "x2",
         "y": [
          7.496476173400879
         ],
         "yaxis": "y2",
         "type": "scattergl"
        },
        {
         "hovertemplate": "label=Arms akimbo+Touching face<br>sample=all<br>emb1=%{x}<br>emb2=%{y}<extra></extra>",
         "legendgroup": "Arms akimbo+Touching face",
         "marker": {
          "color": "#EF553B",
          "symbol": "circle"
         },
         "mode": "markers",
         "name": "Arms akimbo+Touching face",
         "showlegend": true,
         "x": [
          -1.5454994440078735,
          15.043060302734375,
          -1.5454541444778442,
          1.5697321891784668,
          -3.571418523788452,
          1.5165156126022339,
          8.082393646240234,
          4.58673095703125,
          15.009943962097168,
          3.344193935394287,
          -2.0790133476257324,
          9.326757431030273,
          -14.305680274963379,
          -16.49498748779297,
          3.56013822555542,
          -11.361604690551758,
          -11.043965339660645,
          15.00796127319336,
          15.007277488708496,
          15.02774429321289,
          7.431935787200928,
          15.018400192260742,
          -2.1435229778289795,
          3.814133882522583,
          -1.303808569908142,
          9.22939682006836,
          15.00170612335205,
          -1.5454672574996948,
          -1.5459394454956055
         ],
         "xaxis": "x",
         "y": [
          -10.993102073669434,
          -4.695738315582275,
          -10.993040084838867,
          0.27740561962127686,
          14.365610122680664,
          0.23213018476963043,
          -2.375359535217285,
          -12.549818992614746,
          -4.671001434326172,
          -2.4303412437438965,
          8.185879707336426,
          -2.629584789276123,
          6.168056011199951,
          5.451305389404297,
          -5.916592597961426,
          9.526674270629883,
          9.510431289672852,
          -4.669188022613525,
          -4.668624401092529,
          -4.6870503425598145,
          -7.212637424468994,
          -4.6764750480651855,
          8.789679527282715,
          -2.6669294834136963,
          6.9727325439453125,
          -4.03481912612915,
          -4.661387920379639,
          -10.993162155151367,
          -10.993890762329102
         ],
         "yaxis": "y",
         "type": "scattergl"
        },
        {
         "hovertemplate": "label=Arms akimbo+Touching face<br>sample=resample<br>emb1=%{x}<br>emb2=%{y}<extra></extra>",
         "legendgroup": "Arms akimbo+Touching face",
         "marker": {
          "color": "#EF553B",
          "symbol": "circle"
         },
         "mode": "markers",
         "name": "Arms akimbo+Touching face",
         "showlegend": false,
         "x": [
          -16.49498748779297,
          -11.361604690551758
         ],
         "xaxis": "x2",
         "y": [
          5.451305389404297,
          9.526674270629883
         ],
         "yaxis": "y2",
         "type": "scattergl"
        },
        {
         "hovertemplate": "label=Arms akimbo+Touching nose<br>sample=all<br>emb1=%{x}<br>emb2=%{y}<extra></extra>",
         "legendgroup": "Arms akimbo+Touching nose",
         "marker": {
          "color": "#00cc96",
          "symbol": "circle"
         },
         "mode": "markers",
         "name": "Arms akimbo+Touching nose",
         "showlegend": true,
         "x": [
          -4.252633094787598,
          -4.252786159515381,
          15.654476165771484,
          3.3243672847747803,
          15.76622200012207
         ],
         "xaxis": "x",
         "y": [
          1.9349347352981567,
          1.9350168704986572,
          -0.42664438486099243,
          -2.498120069503784,
          -0.3089871108531952
         ],
         "yaxis": "y",
         "type": "scattergl"
        },
        {
         "hovertemplate": "label=Arms akimbo+Touching nose<br>sample=resample<br>emb1=%{x}<br>emb2=%{y}<extra></extra>",
         "legendgroup": "Arms akimbo+Touching nose",
         "marker": {
          "color": "#00cc96",
          "symbol": "circle"
         },
         "mode": "markers",
         "name": "Arms akimbo+Touching nose",
         "showlegend": false,
         "x": [
          3.3243672847747803
         ],
         "xaxis": "x2",
         "y": [
          -2.498120069503784
         ],
         "yaxis": "y2",
         "type": "scattergl"
        },
        {
         "hovertemplate": "label=Arms akimbo+Turtling neck<br>sample=all<br>emb1=%{x}<br>emb2=%{y}<extra></extra>",
         "legendgroup": "Arms akimbo+Turtling neck",
         "marker": {
          "color": "#ab63fa",
          "symbol": "circle"
         },
         "mode": "markers",
         "name": "Arms akimbo+Turtling neck",
         "showlegend": true,
         "x": [
          10.010383605957031,
          5.090897083282471,
          14.128714561462402,
          2.666464328765869,
          5.090933322906494,
          10.011575698852539,
          -11.30988883972168,
          -8.872425079345703,
          -8.849038124084473
         ],
         "xaxis": "x",
         "y": [
          4.326679229736328,
          7.509842872619629,
          4.282566547393799,
          -2.533938407897949,
          7.510263919830322,
          4.32658052444458,
          -3.9119365215301514,
          -0.21102887392044067,
          -0.23117923736572266
         ],
         "yaxis": "y",
         "type": "scattergl"
        },
        {
         "hovertemplate": "label=Arms akimbo+Turtling neck<br>sample=resample<br>emb1=%{x}<br>emb2=%{y}<extra></extra>",
         "legendgroup": "Arms akimbo+Turtling neck",
         "marker": {
          "color": "#ab63fa",
          "symbol": "circle"
         },
         "mode": "markers",
         "name": "Arms akimbo+Turtling neck",
         "showlegend": false,
         "x": [
          2.666464328765869
         ],
         "xaxis": "x2",
         "y": [
          -2.533938407897949
         ],
         "yaxis": "y2",
         "type": "scattergl"
        },
        {
         "hovertemplate": "label=Arms behind<br>sample=all<br>emb1=%{x}<br>emb2=%{y}<extra></extra>",
         "legendgroup": "Arms behind",
         "marker": {
          "color": "#FFA15A",
          "symbol": "circle"
         },
         "mode": "markers",
         "name": "Arms behind",
         "showlegend": true,
         "x": [
          -8.070021629333496,
          -16.724689483642578,
          -7.958512306213379,
          -7.98647928237915,
          -8.009765625,
          -7.972049713134766,
          -7.998155117034912,
          -8.007500648498535,
          -8.087141990661621,
          -8.0028076171875,
          13.37352180480957,
          -8.026154518127441,
          -8.018388748168945,
          -8.007243156433105,
          -7.955515384674072,
          -7.989520072937012,
          -8.097991943359375,
          13.367831230163574,
          -8.086880683898926,
          -7.9900288581848145,
          -8.104450225830078,
          -8.314801216125488,
          -8.01003360748291,
          -8.192134857177734,
          -6.265194892883301,
          -7.985893249511719,
          -7.914052963256836,
          -7.998271942138672,
          -8.020527839660645,
          -8.117769241333008,
          -8.196910858154297,
          -8.025680541992188,
          -7.963919162750244,
          -8.019871711730957,
          13.647825241088867,
          -7.945466995239258,
          -8.028996467590332,
          -8.024718284606934,
          -8.006951332092285,
          -7.986967086791992,
          -8.27877140045166,
          -7.997962951660156,
          13.376168251037598,
          13.871960639953613,
          -6.265036582946777,
          -8.049928665161133,
          -7.960514545440674,
          13.621175765991211,
          13.820520401000977,
          -8.011609077453613,
          13.776885986328125,
          13.37343978881836,
          -8.057673454284668,
          -8.019033432006836,
          -3.547869920730591,
          -7.900903701782227,
          -8.072017669677734,
          -12.6226167678833,
          13.76654052734375,
          1.0339981317520142,
          -8.01795768737793,
          13.444459915161133,
          -8.030179023742676,
          13.388063430786133,
          -7.994453430175781,
          -8.008633613586426,
          13.630877494812012,
          13.889115333557129,
          13.362668991088867,
          13.690881729125977,
          -8.01977825164795,
          13.872748374938965,
          13.876315116882324,
          -8.178078651428223,
          -7.937276840209961,
          -12.627052307128906,
          -6.272675037384033,
          -12.62677001953125,
          -12.603439331054688,
          10.779955863952637,
          -7.942986488342285,
          -12.626810073852539
         ],
         "xaxis": "x",
         "y": [
          13.711493492126465,
          1.1101224422454834,
          14.273103713989258,
          12.160752296447754,
          13.815956115722656,
          13.004173278808594,
          12.071212768554688,
          14.225375175476074,
          13.702570915222168,
          12.076969146728516,
          7.963965892791748,
          13.802990913391113,
          13.144644737243652,
          14.201456069946289,
          12.971586227416992,
          12.135238647460938,
          13.683860778808594,
          7.969934940338135,
          13.694530487060547,
          12.147836685180664,
          13.679818153381348,
          11.5770902633667,
          12.086421012878418,
          11.711146354675293,
          15.612707138061523,
          12.993282318115234,
          12.61590576171875,
          12.07219409942627,
          12.062291145324707,
          11.85230541229248,
          11.699261665344238,
          13.158855438232422,
          12.217351913452148,
          14.030491828918457,
          7.653576850891113,
          13.027722358703613,
          13.197525024414062,
          13.951835632324219,
          12.076136589050293,
          12.165457725524902,
          11.607832908630371,
          12.070135116577148,
          7.961272239685059,
          7.441164016723633,
          15.614738464355469,
          13.749473571777344,
          12.992255210876465,
          7.686138153076172,
          7.492045879364014,
          14.16898250579834,
          7.532960891723633,
          7.952856063842773,
          13.744171142578125,
          13.742238998413086,
          11.950085639953613,
          12.66277027130127,
          13.64892292022705,
          14.83984088897705,
          7.542407512664795,
          -11.577281951904297,
          13.13476848602295,
          7.887780666351318,
          13.17255687713623,
          7.949399471282959,
          13.093506813049316,
          14.220902442932129,
          7.668664932250977,
          7.424648284912109,
          7.976039886474609,
          7.61522102355957,
          14.088314056396484,
          7.441944599151611,
          7.437575817108154,
          -9.876761436462402,
          13.036704063415527,
          14.835573196411133,
          15.604759216308594,
          14.835792541503906,
          14.858804702758789,
          18.073348999023438,
          12.887308120727539,
          14.835634231567383
         ],
         "yaxis": "y",
         "type": "scattergl"
        },
        {
         "hovertemplate": "label=Arms behind<br>sample=resample<br>emb1=%{x}<br>emb2=%{y}<extra></extra>",
         "legendgroup": "Arms behind",
         "marker": {
          "color": "#FFA15A",
          "symbol": "circle"
         },
         "mode": "markers",
         "name": "Arms behind",
         "showlegend": false,
         "x": [
          -6.272675037384033,
          10.779955863952637
         ],
         "xaxis": "x2",
         "y": [
          15.604759216308594,
          18.073348999023438
         ],
         "yaxis": "y2",
         "type": "scattergl"
        },
        {
         "hovertemplate": "label=Arms behind+Crossing legs<br>sample=all<br>emb1=%{x}<br>emb2=%{y}<extra></extra>",
         "legendgroup": "Arms behind+Crossing legs",
         "marker": {
          "color": "#19d3f3",
          "symbol": "circle"
         },
         "mode": "markers",
         "name": "Arms behind+Crossing legs",
         "showlegend": true,
         "x": [
          -8.14480972290039,
          -7.936627388000488,
          -8.160030364990234
         ],
         "xaxis": "x",
         "y": [
          13.708680152893066,
          12.998067855834961,
          13.730243682861328
         ],
         "yaxis": "y",
         "type": "scattergl"
        },
        {
         "hovertemplate": "label=Arms behind+Crossing legs<br>sample=resample<br>emb1=%{x}<br>emb2=%{y}<extra></extra>",
         "legendgroup": "Arms behind+Crossing legs",
         "marker": {
          "color": "#19d3f3",
          "symbol": "circle"
         },
         "mode": "markers",
         "name": "Arms behind+Crossing legs",
         "showlegend": false,
         "x": [
          -8.14480972290039
         ],
         "xaxis": "x2",
         "y": [
          13.708680152893066
         ],
         "yaxis": "y2",
         "type": "scattergl"
        },
        {
         "hovertemplate": "label=Arms behind+Folding arms<br>sample=all<br>emb1=%{x}<br>emb2=%{y}<extra></extra>",
         "legendgroup": "Arms behind+Folding arms",
         "marker": {
          "color": "#FF6692",
          "symbol": "circle"
         },
         "mode": "markers",
         "name": "Arms behind+Folding arms",
         "showlegend": true,
         "x": [
          0.43996545672416687,
          5.083111763000488
         ],
         "xaxis": "x",
         "y": [
          2.710677146911621,
          -6.49812126159668
         ],
         "yaxis": "y",
         "type": "scattergl"
        },
        {
         "hovertemplate": "label=Arms behind+Folding arms<br>sample=resample<br>emb1=%{x}<br>emb2=%{y}<extra></extra>",
         "legendgroup": "Arms behind+Folding arms",
         "marker": {
          "color": "#FF6692",
          "symbol": "circle"
         },
         "mode": "markers",
         "name": "Arms behind+Folding arms",
         "showlegend": false,
         "x": [
          5.083111763000488
         ],
         "xaxis": "x2",
         "y": [
          -6.49812126159668
         ],
         "yaxis": "y2",
         "type": "scattergl"
        },
        {
         "hovertemplate": "label=Arms behind+Holding arms<br>sample=all<br>emb1=%{x}<br>emb2=%{y}<extra></extra>",
         "legendgroup": "Arms behind+Holding arms",
         "marker": {
          "color": "#B6E880",
          "symbol": "circle"
         },
         "mode": "markers",
         "name": "Arms behind+Holding arms",
         "showlegend": true,
         "x": [
          1.3743419647216797
         ],
         "xaxis": "x",
         "y": [
          -11.520490646362305
         ],
         "yaxis": "y",
         "type": "scattergl"
        },
        {
         "hovertemplate": "label=Arms behind+Holding arms<br>sample=resample<br>emb1=%{x}<br>emb2=%{y}<extra></extra>",
         "legendgroup": "Arms behind+Holding arms",
         "marker": {
          "color": "#B6E880",
          "symbol": "circle"
         },
         "mode": "markers",
         "name": "Arms behind+Holding arms",
         "showlegend": false,
         "x": [
          1.3743419647216797
         ],
         "xaxis": "x2",
         "y": [
          -11.520490646362305
         ],
         "yaxis": "y2",
         "type": "scattergl"
        },
        {
         "hovertemplate": "label=Arms behind+Moving legs<br>sample=all<br>emb1=%{x}<br>emb2=%{y}<extra></extra>",
         "legendgroup": "Arms behind+Moving legs",
         "marker": {
          "color": "#FF97FF",
          "symbol": "circle"
         },
         "mode": "markers",
         "name": "Arms behind+Moving legs",
         "showlegend": true,
         "x": [
          -6.259169578552246,
          -8.128992080688477
         ],
         "xaxis": "x",
         "y": [
          15.62369155883789,
          13.702746391296387
         ],
         "yaxis": "y",
         "type": "scattergl"
        },
        {
         "hovertemplate": "label=Arms behind+Moving legs<br>sample=resample<br>emb1=%{x}<br>emb2=%{y}<extra></extra>",
         "legendgroup": "Arms behind+Moving legs",
         "marker": {
          "color": "#FF97FF",
          "symbol": "circle"
         },
         "mode": "markers",
         "name": "Arms behind+Moving legs",
         "showlegend": false,
         "x": [
          -6.259169578552246
         ],
         "xaxis": "x2",
         "y": [
          15.62369155883789
         ],
         "yaxis": "y2",
         "type": "scattergl"
        },
        {
         "hovertemplate": "label=Arms behind+Playing wobjects<br>sample=all<br>emb1=%{x}<br>emb2=%{y}<extra></extra>",
         "legendgroup": "Arms behind+Playing wobjects",
         "marker": {
          "color": "#FECB52",
          "symbol": "circle"
         },
         "mode": "markers",
         "name": "Arms behind+Playing wobjects",
         "showlegend": true,
         "x": [
          -13.576348304748535,
          -4.963369369506836
         ],
         "xaxis": "x",
         "y": [
          9.109445571899414,
          11.99146842956543
         ],
         "yaxis": "y",
         "type": "scattergl"
        },
        {
         "hovertemplate": "label=Arms behind+Playing wobjects<br>sample=resample<br>emb1=%{x}<br>emb2=%{y}<extra></extra>",
         "legendgroup": "Arms behind+Playing wobjects",
         "marker": {
          "color": "#FECB52",
          "symbol": "circle"
         },
         "mode": "markers",
         "name": "Arms behind+Playing wobjects",
         "showlegend": false,
         "x": [
          -4.963369369506836
         ],
         "xaxis": "x2",
         "y": [
          11.99146842956543
         ],
         "yaxis": "y2",
         "type": "scattergl"
        },
        {
         "hovertemplate": "label=Arms behind+Rubbing face<br>sample=all<br>emb1=%{x}<br>emb2=%{y}<extra></extra>",
         "legendgroup": "Arms behind+Rubbing face",
         "marker": {
          "color": "#636efa",
          "symbol": "circle"
         },
         "mode": "markers",
         "name": "Arms behind+Rubbing face",
         "showlegend": true,
         "x": [
          -8.938478469848633,
          16.35986328125
         ],
         "xaxis": "x",
         "y": [
          11.23654842376709,
          10.326102256774902
         ],
         "yaxis": "y",
         "type": "scattergl"
        },
        {
         "hovertemplate": "label=Arms behind+Rubbing face<br>sample=resample<br>emb1=%{x}<br>emb2=%{y}<extra></extra>",
         "legendgroup": "Arms behind+Rubbing face",
         "marker": {
          "color": "#636efa",
          "symbol": "circle"
         },
         "mode": "markers",
         "name": "Arms behind+Rubbing face",
         "showlegend": false,
         "x": [
          -8.938478469848633
         ],
         "xaxis": "x2",
         "y": [
          11.23654842376709
         ],
         "yaxis": "y2",
         "type": "scattergl"
        },
        {
         "hovertemplate": "label=Arms behind+Rubbing hands<br>sample=all<br>emb1=%{x}<br>emb2=%{y}<extra></extra>",
         "legendgroup": "Arms behind+Rubbing hands",
         "marker": {
          "color": "#EF553B",
          "symbol": "circle"
         },
         "mode": "markers",
         "name": "Arms behind+Rubbing hands",
         "showlegend": true,
         "x": [
          -5.611213207244873,
          -8.858431816101074,
          -8.01073932647705,
          -7.854424953460693,
          -5.596469879150391
         ],
         "xaxis": "x",
         "y": [
          -2.2719736099243164,
          15.849658966064453,
          14.236715316772461,
          12.662318229675293,
          -3.0446228981018066
         ],
         "yaxis": "y",
         "type": "scattergl"
        },
        {
         "hovertemplate": "label=Arms behind+Rubbing hands<br>sample=resample<br>emb1=%{x}<br>emb2=%{y}<extra></extra>",
         "legendgroup": "Arms behind+Rubbing hands",
         "marker": {
          "color": "#EF553B",
          "symbol": "circle"
         },
         "mode": "markers",
         "name": "Arms behind+Rubbing hands",
         "showlegend": false,
         "x": [
          -5.611213207244873
         ],
         "xaxis": "x2",
         "y": [
          -2.2719736099243164
         ],
         "yaxis": "y2",
         "type": "scattergl"
        },
        {
         "hovertemplate": "label=Arms behind+Scratching body<br>sample=all<br>emb1=%{x}<br>emb2=%{y}<extra></extra>",
         "legendgroup": "Arms behind+Scratching body",
         "marker": {
          "color": "#00cc96",
          "symbol": "circle"
         },
         "mode": "markers",
         "name": "Arms behind+Scratching body",
         "showlegend": true,
         "x": [
          -13.99065113067627
         ],
         "xaxis": "x",
         "y": [
          8.707501411437988
         ],
         "yaxis": "y",
         "type": "scattergl"
        },
        {
         "hovertemplate": "label=Arms behind+Scratching body<br>sample=resample<br>emb1=%{x}<br>emb2=%{y}<extra></extra>",
         "legendgroup": "Arms behind+Scratching body",
         "marker": {
          "color": "#00cc96",
          "symbol": "circle"
         },
         "mode": "markers",
         "name": "Arms behind+Scratching body",
         "showlegend": false,
         "x": [
          -13.99065113067627
         ],
         "xaxis": "x2",
         "y": [
          8.707501411437988
         ],
         "yaxis": "y2",
         "type": "scattergl"
        },
        {
         "hovertemplate": "label=Arms behind+Scratching neck<br>sample=all<br>emb1=%{x}<br>emb2=%{y}<extra></extra>",
         "legendgroup": "Arms behind+Scratching neck",
         "marker": {
          "color": "#ab63fa",
          "symbol": "circle"
         },
         "mode": "markers",
         "name": "Arms behind+Scratching neck",
         "showlegend": true,
         "x": [
          13.912571907043457
         ],
         "xaxis": "x",
         "y": [
          7.401066780090332
         ],
         "yaxis": "y",
         "type": "scattergl"
        },
        {
         "hovertemplate": "label=Arms behind+Scratching neck<br>sample=resample<br>emb1=%{x}<br>emb2=%{y}<extra></extra>",
         "legendgroup": "Arms behind+Scratching neck",
         "marker": {
          "color": "#ab63fa",
          "symbol": "circle"
         },
         "mode": "markers",
         "name": "Arms behind+Scratching neck",
         "showlegend": false,
         "x": [
          13.912571907043457
         ],
         "xaxis": "x2",
         "y": [
          7.401066780090332
         ],
         "yaxis": "y2",
         "type": "scattergl"
        },
        {
         "hovertemplate": "label=Arms behind+Touching face<br>sample=all<br>emb1=%{x}<br>emb2=%{y}<extra></extra>",
         "legendgroup": "Arms behind+Touching face",
         "marker": {
          "color": "#FFA15A",
          "symbol": "circle"
         },
         "mode": "markers",
         "name": "Arms behind+Touching face",
         "showlegend": true,
         "x": [
          -8.971142768859863,
          -8.824392318725586,
          -8.57930850982666,
          -8.562784194946289,
          -8.838176727294922,
          -8.933542251586914,
          -8.952229499816895,
          -8.965568542480469,
          -8.536157608032227,
          -8.955205917358398
         ],
         "xaxis": "x",
         "y": [
          11.218159675598145,
          11.314498901367188,
          11.417668342590332,
          11.427200317382812,
          11.30301284790039,
          11.235812187194824,
          11.229406356811523,
          11.214975357055664,
          11.437427520751953,
          11.227580070495605
         ],
         "yaxis": "y",
         "type": "scattergl"
        },
        {
         "hovertemplate": "label=Arms behind+Touching face<br>sample=resample<br>emb1=%{x}<br>emb2=%{y}<extra></extra>",
         "legendgroup": "Arms behind+Touching face",
         "marker": {
          "color": "#FFA15A",
          "symbol": "circle"
         },
         "mode": "markers",
         "name": "Arms behind+Touching face",
         "showlegend": false,
         "x": [
          -8.971142768859863
         ],
         "xaxis": "x2",
         "y": [
          11.218159675598145
         ],
         "yaxis": "y2",
         "type": "scattergl"
        },
        {
         "hovertemplate": "label=Arms behind+Touching nose<br>sample=all<br>emb1=%{x}<br>emb2=%{y}<extra></extra>",
         "legendgroup": "Arms behind+Touching nose",
         "marker": {
          "color": "#19d3f3",
          "symbol": "circle"
         },
         "mode": "markers",
         "name": "Arms behind+Touching nose",
         "showlegend": true,
         "x": [
          -13.582306861877441
         ],
         "xaxis": "x",
         "y": [
          9.106642723083496
         ],
         "yaxis": "y",
         "type": "scattergl"
        },
        {
         "hovertemplate": "label=Arms behind+Touching nose<br>sample=resample<br>emb1=%{x}<br>emb2=%{y}<extra></extra>",
         "legendgroup": "Arms behind+Touching nose",
         "marker": {
          "color": "#19d3f3",
          "symbol": "circle"
         },
         "mode": "markers",
         "name": "Arms behind+Touching nose",
         "showlegend": false,
         "x": [
          -13.582306861877441
         ],
         "xaxis": "x2",
         "y": [
          9.106642723083496
         ],
         "yaxis": "y2",
         "type": "scattergl"
        },
        {
         "hovertemplate": "label=Crossing legs<br>sample=all<br>emb1=%{x}<br>emb2=%{y}<extra></extra>",
         "legendgroup": "Crossing legs",
         "marker": {
          "color": "#FF6692",
          "symbol": "circle"
         },
         "mode": "markers",
         "name": "Crossing legs",
         "showlegend": true,
         "x": [
          4.287625312805176,
          4.289045810699463,
          4.258808612823486,
          4.255041122436523,
          10.740046501159668,
          4.267099380493164,
          10.754552841186523,
          10.738775253295898,
          4.311643123626709,
          -6.1519365310668945,
          4.2795915603637695,
          10.752854347229004,
          10.739310264587402,
          4.2582316398620605
         ],
         "xaxis": "x",
         "y": [
          0.38415589928627014,
          0.3856544494628906,
          0.36557847261428833,
          0.3635009527206421,
          3.045729637145996,
          0.3704211115837097,
          3.053567409515381,
          3.0450661182403564,
          0.4057953655719757,
          2.724496841430664,
          0.37867558002471924,
          3.0527350902557373,
          3.0453226566314697,
          0.36532917618751526
         ],
         "yaxis": "y",
         "type": "scattergl"
        },
        {
         "hovertemplate": "label=Crossing legs<br>sample=resample<br>emb1=%{x}<br>emb2=%{y}<extra></extra>",
         "legendgroup": "Crossing legs",
         "marker": {
          "color": "#FF6692",
          "symbol": "circle"
         },
         "mode": "markers",
         "name": "Crossing legs",
         "showlegend": false,
         "x": [
          10.739310264587402
         ],
         "xaxis": "x2",
         "y": [
          3.0453226566314697
         ],
         "yaxis": "y2",
         "type": "scattergl"
        },
        {
         "hovertemplate": "label=Crossing legs+Moving legs<br>sample=all<br>emb1=%{x}<br>emb2=%{y}<extra></extra>",
         "legendgroup": "Crossing legs+Moving legs",
         "marker": {
          "color": "#B6E880",
          "symbol": "circle"
         },
         "mode": "markers",
         "name": "Crossing legs+Moving legs",
         "showlegend": true,
         "x": [
          4.253791332244873
         ],
         "xaxis": "x",
         "y": [
          0.36183860898017883
         ],
         "yaxis": "y",
         "type": "scattergl"
        },
        {
         "hovertemplate": "label=Crossing legs+Moving legs<br>sample=resample<br>emb1=%{x}<br>emb2=%{y}<extra></extra>",
         "legendgroup": "Crossing legs+Moving legs",
         "marker": {
          "color": "#B6E880",
          "symbol": "circle"
         },
         "mode": "markers",
         "name": "Crossing legs+Moving legs",
         "showlegend": false,
         "x": [
          4.253791332244873
         ],
         "xaxis": "x2",
         "y": [
          0.36183860898017883
         ],
         "yaxis": "y2",
         "type": "scattergl"
        },
        {
         "hovertemplate": "label=Folding arms<br>sample=all<br>emb1=%{x}<br>emb2=%{y}<extra></extra>",
         "legendgroup": "Folding arms",
         "marker": {
          "color": "#FF97FF",
          "symbol": "circle"
         },
         "mode": "markers",
         "name": "Folding arms",
         "showlegend": true,
         "x": [
          9.445083618164062,
          9.478368759155273,
          -3.436736822128296,
          9.192391395568848,
          10.84227180480957,
          4.517944812774658,
          -3.408647298812866,
          4.558326244354248,
          -6.041354656219482,
          10.837695121765137,
          5.01957368850708,
          -8.269538879394531,
          4.924933910369873,
          0.3171885311603546,
          4.460592269897461,
          10.688971519470215,
          4.8950910568237305,
          0.3167417645454407,
          4.971033573150635,
          10.444564819335938,
          4.9302287101745605,
          9.16422176361084,
          10.2432222366333,
          10.424511909484863,
          9.168183326721191,
          9.075822830200195,
          -3.446780204772949,
          9.183717727661133,
          -6.0820746421813965,
          9.992753982543945,
          4.904370307922363,
          9.519007682800293,
          -4.576329708099365,
          -2.0413951873779297,
          5.084600925445557,
          9.063200950622559,
          9.093881607055664,
          9.337639808654785,
          9.303120613098145,
          8.542243957519531,
          8.614176750183105,
          8.545327186584473,
          10.25039005279541,
          8.853175163269043,
          9.341165542602539,
          0.31686583161354065,
          8.53635311126709,
          8.546353340148926,
          8.51822566986084,
          9.00151252746582,
          10.74719524383545,
          8.549789428710938,
          8.570277214050293,
          4.910739421844482,
          8.53442096710205,
          8.961028099060059,
          4.898800373077393,
          -6.056392192840576,
          10.119490623474121,
          9.355012893676758,
          9.30831241607666,
          -11.971138954162598,
          9.325526237487793,
          4.559234142303467,
          4.817788124084473,
          9.41763687133789,
          10.173338890075684,
          10.08659839630127,
          -6.259521484375,
          9.674103736877441,
          9.171233177185059,
          9.820111274719238,
          10.60542106628418,
          9.688511848449707,
          9.517610549926758,
          5.114345550537109,
          4.521244525909424,
          -8.264006614685059,
          9.324333190917969,
          -6.051814079284668,
          10.117706298828125,
          4.446746826171875,
          10.799820899963379,
          8.606501579284668,
          -4.577859401702881,
          -3.4076623916625977,
          5.026021480560303,
          10.728625297546387,
          -3.381627321243286,
          10.355320930480957,
          10.206104278564453,
          10.33096694946289,
          8.535503387451172,
          4.774898052215576,
          9.967676162719727,
          10.6530122756958,
          10.52410888671875,
          -3.4456732273101807,
          9.476767539978027,
          -2.6030876636505127,
          0.3171546161174774,
          -4.542022705078125,
          10.83494758605957,
          7.425312042236328,
          -3.445810317993164,
          10.06081771850586,
          4.897607326507568,
          9.933943748474121,
          10.021798133850098,
          4.739973545074463,
          7.425832748413086,
          5.120177268981934,
          9.469074249267578,
          4.895923137664795,
          5.1248064041137695,
          8.714234352111816,
          10.661211013793945,
          8.69604206085205,
          9.320871353149414,
          10.072640419006348,
          10.30288314819336,
          5.121932506561279,
          4.44911003112793,
          8.665860176086426,
          9.326376914978027,
          -1.0087783336639404,
          8.672229766845703,
          9.469619750976562,
          10.096980094909668,
          4.949943542480469,
          8.673094749450684,
          -3.081361770629883,
          9.917381286621094,
          4.4487080574035645,
          -3.446624994277954,
          9.963249206542969,
          9.672931671142578,
          5.123592853546143
         ],
         "xaxis": "x",
         "y": [
          7.441947937011719,
          7.705750465393066,
          3.065455913543701,
          7.347754955291748,
          6.6836748123168945,
          -9.714015007019043,
          3.0364413261413574,
          -9.755722999572754,
          20.279438018798828,
          6.68789529800415,
          -6.546553134918213,
          -9.968650817871094,
          -6.622801303863525,
          18.928022384643555,
          -9.65689754486084,
          6.829929828643799,
          -6.648429870605469,
          18.927757263183594,
          -6.585836410522461,
          7.056889057159424,
          -6.618679523468018,
          7.30811071395874,
          7.245107173919678,
          7.077414512634277,
          7.322626113891602,
          7.207301616668701,
          3.0750467777252197,
          7.335948467254639,
          20.319040298461914,
          7.624283313751221,
          -6.63919734954834,
          7.53347110748291,
          -8.1508150100708,
          -6.358532905578613,
          -6.49965238571167,
          7.180172443389893,
          7.230140209197998,
          7.890684127807617,
          7.9691386222839355,
          8.516769409179688,
          8.461064338684082,
          8.5147123336792,
          7.23167085647583,
          6.871536731719971,
          7.948117256164551,
          18.92774772644043,
          8.521686553955078,
          8.519185066223145,
          8.539203643798828,
          7.091983795166016,
          6.775367736816406,
          8.510787963867188,
          8.500176429748535,
          -10.140381813049316,
          8.525470733642578,
          7.0343337059021,
          -6.645478248596191,
          20.293439865112305,
          7.727977275848389,
          7.929332733154297,
          8.034470558166504,
          10.45659065246582,
          8.01492977142334,
          -9.7559814453125,
          -10.039543151855469,
          7.76239013671875,
          7.322405815124512,
          7.713537693023682,
          20.48738670349121,
          7.670680999755859,
          7.326082706451416,
          7.51558256149292,
          6.9081549644470215,
          7.6804118156433105,
          7.674681663513184,
          -10.35197639465332,
          -9.717867851257324,
          -9.96333122253418,
          7.440855026245117,
          20.289295196533203,
          7.360422611236572,
          -9.643193244934082,
          6.724318504333496,
          11.364188194274902,
          -8.152674674987793,
          3.033973455429077,
          -10.260916709899902,
          6.793753147125244,
          3.0086333751678467,
          7.137136459350586,
          7.289435386657715,
          7.159668445587158,
          8.521568298339844,
          -9.992088317871094,
          7.588667869567871,
          6.8650407791137695,
          6.984236717224121,
          3.0749001502990723,
          7.714914798736572,
          1.3902571201324463,
          18.927392959594727,
          -8.18421745300293,
          6.690585136413574,
          13.03281307220459,
          3.075017213821411,
          7.689054489135742,
          -6.6466450691223145,
          7.5835041999816895,
          7.508615970611572,
          -9.953904151916504,
          13.038792610168457,
          -10.358160972595215,
          7.717613697052002,
          -6.646049499511719,
          -10.363043785095215,
          6.690227031707764,
          6.857427597045898,
          6.6648478507995605,
          8.009572982788086,
          7.402019023895264,
          7.195780277252197,
          -10.359823226928711,
          -9.645346641540527,
          6.6351799964904785,
          8.019364356994629,
          15.397566795349121,
          6.6396942138671875,
          7.706692695617676,
          7.713364124298096,
          -6.604351997375488,
          6.642816066741943,
          -4.434634685516357,
          7.586789608001709,
          -9.64505672454834,
          3.0748934745788574,
          7.542660236358643,
          7.6901774406433105,
          -10.361812591552734
         ],
         "yaxis": "y",
         "type": "scattergl"
        },
        {
         "hovertemplate": "label=Folding arms<br>sample=resample<br>emb1=%{x}<br>emb2=%{y}<extra></extra>",
         "legendgroup": "Folding arms",
         "marker": {
          "color": "#FF97FF",
          "symbol": "circle"
         },
         "mode": "markers",
         "name": "Folding arms",
         "showlegend": false,
         "x": [
          -3.408647298812866
         ],
         "xaxis": "x2",
         "y": [
          3.0364413261413574
         ],
         "yaxis": "y2",
         "type": "scattergl"
        },
        {
         "hovertemplate": "label=Folding arms+Moving legs<br>sample=all<br>emb1=%{x}<br>emb2=%{y}<extra></extra>",
         "legendgroup": "Folding arms+Moving legs",
         "marker": {
          "color": "#FECB52",
          "symbol": "circle"
         },
         "mode": "markers",
         "name": "Folding arms+Moving legs",
         "showlegend": true,
         "x": [
          8.726719856262207,
          4.822728633880615,
          8.767791748046875,
          9.16897964477539,
          3.342235803604126,
          -10.220870018005371,
          4.834788799285889,
          -6.302473068237305
         ],
         "xaxis": "x",
         "y": [
          6.712055206298828,
          -10.050750732421875,
          6.7672014236450195,
          7.3473615646362305,
          -3.38871169090271,
          5.739970684051514,
          -10.065028190612793,
          20.52667236328125
         ],
         "yaxis": "y",
         "type": "scattergl"
        },
        {
         "hovertemplate": "label=Folding arms+Moving legs<br>sample=resample<br>emb1=%{x}<br>emb2=%{y}<extra></extra>",
         "legendgroup": "Folding arms+Moving legs",
         "marker": {
          "color": "#FECB52",
          "symbol": "circle"
         },
         "mode": "markers",
         "name": "Folding arms+Moving legs",
         "showlegend": false,
         "x": [
          4.834788799285889
         ],
         "xaxis": "x2",
         "y": [
          -10.065028190612793
         ],
         "yaxis": "y2",
         "type": "scattergl"
        },
        {
         "hovertemplate": "label=Folding arms+Moving legs+Scratching neck<br>sample=all<br>emb1=%{x}<br>emb2=%{y}<extra></extra>",
         "legendgroup": "Folding arms+Moving legs+Scratching neck",
         "marker": {
          "color": "#636efa",
          "symbol": "circle"
         },
         "mode": "markers",
         "name": "Folding arms+Moving legs+Scratching neck",
         "showlegend": true,
         "x": [
          8.853231430053711
         ],
         "xaxis": "x",
         "y": [
          6.887794017791748
         ],
         "yaxis": "y",
         "type": "scattergl"
        },
        {
         "hovertemplate": "label=Folding arms+Moving legs+Scratching neck<br>sample=resample<br>emb1=%{x}<br>emb2=%{y}<extra></extra>",
         "legendgroup": "Folding arms+Moving legs+Scratching neck",
         "marker": {
          "color": "#636efa",
          "symbol": "circle"
         },
         "mode": "markers",
         "name": "Folding arms+Moving legs+Scratching neck",
         "showlegend": false,
         "x": [
          8.853231430053711
         ],
         "xaxis": "x2",
         "y": [
          6.887794017791748
         ],
         "yaxis": "y2",
         "type": "scattergl"
        },
        {
         "hovertemplate": "label=Folding arms+Moving legs+Touching face<br>sample=all<br>emb1=%{x}<br>emb2=%{y}<extra></extra>",
         "legendgroup": "Folding arms+Moving legs+Touching face",
         "marker": {
          "color": "#EF553B",
          "symbol": "circle"
         },
         "mode": "markers",
         "name": "Folding arms+Moving legs+Touching face",
         "showlegend": true,
         "x": [
          5.125124454498291
         ],
         "xaxis": "x",
         "y": [
          -10.364081382751465
         ],
         "yaxis": "y",
         "type": "scattergl"
        },
        {
         "hovertemplate": "label=Folding arms+Moving legs+Touching face<br>sample=resample<br>emb1=%{x}<br>emb2=%{y}<extra></extra>",
         "legendgroup": "Folding arms+Moving legs+Touching face",
         "marker": {
          "color": "#EF553B",
          "symbol": "circle"
         },
         "mode": "markers",
         "name": "Folding arms+Moving legs+Touching face",
         "showlegend": false,
         "x": [
          5.125124454498291
         ],
         "xaxis": "x2",
         "y": [
          -10.364081382751465
         ],
         "yaxis": "y2",
         "type": "scattergl"
        },
        {
         "hovertemplate": "label=Folding arms+Pulling collar<br>sample=all<br>emb1=%{x}<br>emb2=%{y}<extra></extra>",
         "legendgroup": "Folding arms+Pulling collar",
         "marker": {
          "color": "#00cc96",
          "symbol": "circle"
         },
         "mode": "markers",
         "name": "Folding arms+Pulling collar",
         "showlegend": true,
         "x": [
          12.710267066955566,
          12.717048645019531
         ],
         "xaxis": "x",
         "y": [
          -3.3178858757019043,
          -3.313004493713379
         ],
         "yaxis": "y",
         "type": "scattergl"
        },
        {
         "hovertemplate": "label=Folding arms+Pulling collar<br>sample=resample<br>emb1=%{x}<br>emb2=%{y}<extra></extra>",
         "legendgroup": "Folding arms+Pulling collar",
         "marker": {
          "color": "#00cc96",
          "symbol": "circle"
         },
         "mode": "markers",
         "name": "Folding arms+Pulling collar",
         "showlegend": false,
         "x": [
          12.717048645019531
         ],
         "xaxis": "x2",
         "y": [
          -3.313004493713379
         ],
         "yaxis": "y2",
         "type": "scattergl"
        },
        {
         "hovertemplate": "label=Folding arms+Rubbing face<br>sample=all<br>emb1=%{x}<br>emb2=%{y}<extra></extra>",
         "legendgroup": "Folding arms+Rubbing face",
         "marker": {
          "color": "#ab63fa",
          "symbol": "circle"
         },
         "mode": "markers",
         "name": "Folding arms+Rubbing face",
         "showlegend": true,
         "x": [
          15.576257705688477,
          -3.38726806640625,
          8.586795806884766,
          8.584338188171387,
          8.605681419372559,
          4.917104721069336,
          8.58825969696045,
          15.576159477233887,
          8.5905179977417,
          15.578554153442383,
          15.577079772949219,
          8.588168144226074
         ],
         "xaxis": "x",
         "y": [
          4.338409900665283,
          3.015209674835205,
          16.653377532958984,
          16.65087127685547,
          16.67259979248047,
          -6.626957416534424,
          16.655254364013672,
          4.338326454162598,
          16.657155990600586,
          4.338494777679443,
          4.3385772705078125,
          16.654611587524414
         ],
         "yaxis": "y",
         "type": "scattergl"
        },
        {
         "hovertemplate": "label=Folding arms+Rubbing face<br>sample=resample<br>emb1=%{x}<br>emb2=%{y}<extra></extra>",
         "legendgroup": "Folding arms+Rubbing face",
         "marker": {
          "color": "#ab63fa",
          "symbol": "circle"
         },
         "mode": "markers",
         "name": "Folding arms+Rubbing face",
         "showlegend": false,
         "x": [
          8.5905179977417
         ],
         "xaxis": "x2",
         "y": [
          16.657155990600586
         ],
         "yaxis": "y2",
         "type": "scattergl"
        },
        {
         "hovertemplate": "label=Folding arms+Rubbing hands<br>sample=all<br>emb1=%{x}<br>emb2=%{y}<extra></extra>",
         "legendgroup": "Folding arms+Rubbing hands",
         "marker": {
          "color": "#FFA15A",
          "symbol": "circle"
         },
         "mode": "markers",
         "name": "Folding arms+Rubbing hands",
         "showlegend": true,
         "x": [
          -10.431821823120117
         ],
         "xaxis": "x",
         "y": [
          0.6833080649375916
         ],
         "yaxis": "y",
         "type": "scattergl"
        },
        {
         "hovertemplate": "label=Folding arms+Rubbing hands<br>sample=resample<br>emb1=%{x}<br>emb2=%{y}<extra></extra>",
         "legendgroup": "Folding arms+Rubbing hands",
         "marker": {
          "color": "#FFA15A",
          "symbol": "circle"
         },
         "mode": "markers",
         "name": "Folding arms+Rubbing hands",
         "showlegend": false,
         "x": [
          -10.431821823120117
         ],
         "xaxis": "x2",
         "y": [
          0.6833080649375916
         ],
         "yaxis": "y2",
         "type": "scattergl"
        },
        {
         "hovertemplate": "label=Folding arms+Scratching body<br>sample=all<br>emb1=%{x}<br>emb2=%{y}<extra></extra>",
         "legendgroup": "Folding arms+Scratching body",
         "marker": {
          "color": "#19d3f3",
          "symbol": "circle"
         },
         "mode": "markers",
         "name": "Folding arms+Scratching body",
         "showlegend": true,
         "x": [
          -5.296528339385986
         ],
         "xaxis": "x",
         "y": [
          5.07779598236084
         ],
         "yaxis": "y",
         "type": "scattergl"
        },
        {
         "hovertemplate": "label=Folding arms+Scratching body<br>sample=resample<br>emb1=%{x}<br>emb2=%{y}<extra></extra>",
         "legendgroup": "Folding arms+Scratching body",
         "marker": {
          "color": "#19d3f3",
          "symbol": "circle"
         },
         "mode": "markers",
         "name": "Folding arms+Scratching body",
         "showlegend": false,
         "x": [
          -5.296528339385986
         ],
         "xaxis": "x2",
         "y": [
          5.07779598236084
         ],
         "yaxis": "y2",
         "type": "scattergl"
        },
        {
         "hovertemplate": "label=Folding arms+Scratching neck<br>sample=all<br>emb1=%{x}<br>emb2=%{y}<extra></extra>",
         "legendgroup": "Folding arms+Scratching neck",
         "marker": {
          "color": "#FF6692",
          "symbol": "circle"
         },
         "mode": "markers",
         "name": "Folding arms+Scratching neck",
         "showlegend": true,
         "x": [
          -8.315229415893555
         ],
         "xaxis": "x",
         "y": [
          -10.01539134979248
         ],
         "yaxis": "y",
         "type": "scattergl"
        },
        {
         "hovertemplate": "label=Folding arms+Scratching neck<br>sample=resample<br>emb1=%{x}<br>emb2=%{y}<extra></extra>",
         "legendgroup": "Folding arms+Scratching neck",
         "marker": {
          "color": "#FF6692",
          "symbol": "circle"
         },
         "mode": "markers",
         "name": "Folding arms+Scratching neck",
         "showlegend": false,
         "x": [
          -8.315229415893555
         ],
         "xaxis": "x2",
         "y": [
          -10.01539134979248
         ],
         "yaxis": "y2",
         "type": "scattergl"
        },
        {
         "hovertemplate": "label=Folding arms+Scratching neck+Touching face<br>sample=all<br>emb1=%{x}<br>emb2=%{y}<extra></extra>",
         "legendgroup": "Folding arms+Scratching neck+Touching face",
         "marker": {
          "color": "#B6E880",
          "symbol": "circle"
         },
         "mode": "markers",
         "name": "Folding arms+Scratching neck+Touching face",
         "showlegend": true,
         "x": [
          12.726483345031738
         ],
         "xaxis": "x",
         "y": [
          -3.3245577812194824
         ],
         "yaxis": "y",
         "type": "scattergl"
        },
        {
         "hovertemplate": "label=Folding arms+Scratching neck+Touching face<br>sample=resample<br>emb1=%{x}<br>emb2=%{y}<extra></extra>",
         "legendgroup": "Folding arms+Scratching neck+Touching face",
         "marker": {
          "color": "#B6E880",
          "symbol": "circle"
         },
         "mode": "markers",
         "name": "Folding arms+Scratching neck+Touching face",
         "showlegend": false,
         "x": [
          12.726483345031738
         ],
         "xaxis": "x2",
         "y": [
          -3.3245577812194824
         ],
         "yaxis": "y2",
         "type": "scattergl"
        },
        {
         "hovertemplate": "label=Folding arms+Touching face<br>sample=all<br>emb1=%{x}<br>emb2=%{y}<extra></extra>",
         "legendgroup": "Folding arms+Touching face",
         "marker": {
          "color": "#FF97FF",
          "symbol": "circle"
         },
         "mode": "markers",
         "name": "Folding arms+Touching face",
         "showlegend": true,
         "x": [
          4.626428127288818,
          9.410213470458984,
          6.501519680023193,
          9.381234169006348,
          12.735271453857422,
          -2.923788070678711,
          -1.7537851333618164,
          12.747037887573242,
          -2.9239182472229004,
          6.501190185546875,
          -6.365050315856934,
          2.3056797981262207,
          10.412997245788574,
          4.738544464111328,
          12.741158485412598,
          12.740229606628418,
          12.736321449279785,
          12.718611717224121
         ],
         "xaxis": "x",
         "y": [
          -9.829035758972168,
          7.759009838104248,
          -5.150968074798584,
          7.786923885345459,
          -3.3207309246063232,
          12.73393726348877,
          -1.0726652145385742,
          -3.2814416885375977,
          12.732897758483887,
          -5.151401996612549,
          2.9566330909729004,
          -8.92501163482666,
          7.083829879760742,
          -9.952072143554688,
          -3.327632427215576,
          -3.3307669162750244,
          -3.3342039585113525,
          -3.3066024780273438
         ],
         "yaxis": "y",
         "type": "scattergl"
        },
        {
         "hovertemplate": "label=Folding arms+Touching face<br>sample=resample<br>emb1=%{x}<br>emb2=%{y}<extra></extra>",
         "legendgroup": "Folding arms+Touching face",
         "marker": {
          "color": "#FF97FF",
          "symbol": "circle"
         },
         "mode": "markers",
         "name": "Folding arms+Touching face",
         "showlegend": false,
         "x": [
          -2.923788070678711,
          -6.365050315856934
         ],
         "xaxis": "x2",
         "y": [
          12.73393726348877,
          2.9566330909729004
         ],
         "yaxis": "y2",
         "type": "scattergl"
        },
        {
         "hovertemplate": "label=Hand gestures<br>sample=all<br>emb1=%{x}<br>emb2=%{y}<extra></extra>",
         "legendgroup": "Hand gestures",
         "marker": {
          "color": "#FECB52",
          "symbol": "circle"
         },
         "mode": "markers",
         "name": "Hand gestures",
         "showlegend": true,
         "x": [
          -0.27257153391838074,
          -1.1975423097610474,
          -0.8025954365730286,
          -0.8043257594108582,
          -1.577867031097412,
          -0.3233838677406311,
          -1.5755735635757446,
          -0.11566439270973206,
          -0.2855354845523834,
          -0.25990912318229675,
          -0.37318506836891174,
          -0.9388270974159241,
          -0.3084779381752014,
          -0.8476353883743286,
          -0.9320352673530579,
          -0.1540234535932541,
          -0.3649957776069641,
          -0.8760076761245728,
          -0.4341766834259033,
          -0.15931235253810883,
          -1.5757437944412231,
          -0.3522301912307739,
          -1.5566526651382446,
          -0.30492889881134033,
          -0.36750975251197815
         ],
         "xaxis": "x",
         "y": [
          -3.465758800506592,
          21.15795135498047,
          -3.6372859477996826,
          -3.660780191421509,
          -3.928795099258423,
          -3.5059707164764404,
          -3.9276273250579834,
          -3.3528542518615723,
          -3.486762523651123,
          -3.4558775424957275,
          -3.5607352256774902,
          -3.6901564598083496,
          -3.5079987049102783,
          -3.6693968772888184,
          -3.6899168491363525,
          -3.3814873695373535,
          -3.5646636486053467,
          -3.6768991947174072,
          -3.5819520950317383,
          -3.3811910152435303,
          -3.9274709224700928,
          -3.546445846557617,
          -3.9189813137054443,
          -3.4877283573150635,
          -3.561079263687134
         ],
         "yaxis": "y",
         "type": "scattergl"
        },
        {
         "hovertemplate": "label=Hand gestures<br>sample=resample<br>emb1=%{x}<br>emb2=%{y}<extra></extra>",
         "legendgroup": "Hand gestures",
         "marker": {
          "color": "#FECB52",
          "symbol": "circle"
         },
         "mode": "markers",
         "name": "Hand gestures",
         "showlegend": false,
         "x": [
          -0.9388270974159241,
          -0.3649957776069641,
          -1.5755735635757446
         ],
         "xaxis": "x2",
         "y": [
          -3.6901564598083496,
          -3.5646636486053467,
          -3.9276273250579834
         ],
         "yaxis": "y2",
         "type": "scattergl"
        },
        {
         "hovertemplate": "label=Hand gestures+Holding arms<br>sample=all<br>emb1=%{x}<br>emb2=%{y}<extra></extra>",
         "legendgroup": "Hand gestures+Holding arms",
         "marker": {
          "color": "#636efa",
          "symbol": "circle"
         },
         "mode": "markers",
         "name": "Hand gestures+Holding arms",
         "showlegend": true,
         "x": [
          -0.26886534690856934,
          9.888312339782715
         ],
         "xaxis": "x",
         "y": [
          -3.4644365310668945,
          -7.681637763977051
         ],
         "yaxis": "y",
         "type": "scattergl"
        },
        {
         "hovertemplate": "label=Hand gestures+Holding arms<br>sample=resample<br>emb1=%{x}<br>emb2=%{y}<extra></extra>",
         "legendgroup": "Hand gestures+Holding arms",
         "marker": {
          "color": "#636efa",
          "symbol": "circle"
         },
         "mode": "markers",
         "name": "Hand gestures+Holding arms",
         "showlegend": false,
         "x": [
          9.888312339782715,
          -0.26886534690856934
         ],
         "xaxis": "x2",
         "y": [
          -7.681637763977051,
          -3.4644365310668945
         ],
         "yaxis": "y2",
         "type": "scattergl"
        },
        {
         "hovertemplate": "label=Hand gestures+Moving legs<br>sample=all<br>emb1=%{x}<br>emb2=%{y}<extra></extra>",
         "legendgroup": "Hand gestures+Moving legs",
         "marker": {
          "color": "#EF553B",
          "symbol": "circle"
         },
         "mode": "markers",
         "name": "Hand gestures+Moving legs",
         "showlegend": true,
         "x": [
          0.1262916922569275,
          10.994720458984375
         ],
         "xaxis": "x",
         "y": [
          -3.175576686859131,
          17.855939865112305
         ],
         "yaxis": "y",
         "type": "scattergl"
        },
        {
         "hovertemplate": "label=Hand gestures+Moving legs<br>sample=resample<br>emb1=%{x}<br>emb2=%{y}<extra></extra>",
         "legendgroup": "Hand gestures+Moving legs",
         "marker": {
          "color": "#EF553B",
          "symbol": "circle"
         },
         "mode": "markers",
         "name": "Hand gestures+Moving legs",
         "showlegend": false,
         "x": [
          0.1262916922569275,
          10.994720458984375
         ],
         "xaxis": "x2",
         "y": [
          -3.175576686859131,
          17.855939865112305
         ],
         "yaxis": "y2",
         "type": "scattergl"
        },
        {
         "hovertemplate": "label=Hand gestures+Pulling collar<br>sample=all<br>emb1=%{x}<br>emb2=%{y}<extra></extra>",
         "legendgroup": "Hand gestures+Pulling collar",
         "marker": {
          "color": "#00cc96",
          "symbol": "circle"
         },
         "mode": "markers",
         "name": "Hand gestures+Pulling collar",
         "showlegend": true,
         "x": [
          12.716046333312988,
          -1.9745135307312012
         ],
         "xaxis": "x",
         "y": [
          -3.3135218620300293,
          14.531188011169434
         ],
         "yaxis": "y",
         "type": "scattergl"
        },
        {
         "hovertemplate": "label=Hand gestures+Pulling collar<br>sample=resample<br>emb1=%{x}<br>emb2=%{y}<extra></extra>",
         "legendgroup": "Hand gestures+Pulling collar",
         "marker": {
          "color": "#00cc96",
          "symbol": "circle"
         },
         "mode": "markers",
         "name": "Hand gestures+Pulling collar",
         "showlegend": false,
         "x": [
          12.716046333312988,
          -1.9745135307312012
         ],
         "xaxis": "x2",
         "y": [
          -3.3135218620300293,
          14.531188011169434
         ],
         "yaxis": "y2",
         "type": "scattergl"
        },
        {
         "hovertemplate": "label=Hand gestures+Rubbing face<br>sample=all<br>emb1=%{x}<br>emb2=%{y}<extra></extra>",
         "legendgroup": "Hand gestures+Rubbing face",
         "marker": {
          "color": "#ab63fa",
          "symbol": "circle"
         },
         "mode": "markers",
         "name": "Hand gestures+Rubbing face",
         "showlegend": true,
         "x": [
          -1.964759349822998
         ],
         "xaxis": "x",
         "y": [
          14.521373748779297
         ],
         "yaxis": "y",
         "type": "scattergl"
        },
        {
         "hovertemplate": "label=Hand gestures+Rubbing face<br>sample=resample<br>emb1=%{x}<br>emb2=%{y}<extra></extra>",
         "legendgroup": "Hand gestures+Rubbing face",
         "marker": {
          "color": "#ab63fa",
          "symbol": "circle"
         },
         "mode": "markers",
         "name": "Hand gestures+Rubbing face",
         "showlegend": false,
         "x": [
          -1.964759349822998
         ],
         "xaxis": "x2",
         "y": [
          14.521373748779297
         ],
         "yaxis": "y2",
         "type": "scattergl"
        },
        {
         "hovertemplate": "label=Hand gestures+Rubbing hands<br>sample=all<br>emb1=%{x}<br>emb2=%{y}<extra></extra>",
         "legendgroup": "Hand gestures+Rubbing hands",
         "marker": {
          "color": "#FFA15A",
          "symbol": "circle"
         },
         "mode": "markers",
         "name": "Hand gestures+Rubbing hands",
         "showlegend": true,
         "x": [
          -1.1174156665802002,
          -8.857961654663086
         ],
         "xaxis": "x",
         "y": [
          -3.698563814163208,
          15.845124244689941
         ],
         "yaxis": "y",
         "type": "scattergl"
        },
        {
         "hovertemplate": "label=Hand gestures+Rubbing hands<br>sample=resample<br>emb1=%{x}<br>emb2=%{y}<extra></extra>",
         "legendgroup": "Hand gestures+Rubbing hands",
         "marker": {
          "color": "#FFA15A",
          "symbol": "circle"
         },
         "mode": "markers",
         "name": "Hand gestures+Rubbing hands",
         "showlegend": false,
         "x": [
          -8.857961654663086,
          -1.1174156665802002
         ],
         "xaxis": "x2",
         "y": [
          15.845124244689941,
          -3.698563814163208
         ],
         "yaxis": "y2",
         "type": "scattergl"
        },
        {
         "hovertemplate": "label=Hand gestures+Scratching body<br>sample=all<br>emb1=%{x}<br>emb2=%{y}<extra></extra>",
         "legendgroup": "Hand gestures+Scratching body",
         "marker": {
          "color": "#19d3f3",
          "symbol": "circle"
         },
         "mode": "markers",
         "name": "Hand gestures+Scratching body",
         "showlegend": true,
         "x": [
          -5.235498905181885
         ],
         "xaxis": "x",
         "y": [
          5.032278537750244
         ],
         "yaxis": "y",
         "type": "scattergl"
        },
        {
         "hovertemplate": "label=Hand gestures+Scratching body<br>sample=resample<br>emb1=%{x}<br>emb2=%{y}<extra></extra>",
         "legendgroup": "Hand gestures+Scratching body",
         "marker": {
          "color": "#19d3f3",
          "symbol": "circle"
         },
         "mode": "markers",
         "name": "Hand gestures+Scratching body",
         "showlegend": false,
         "x": [
          -5.235498905181885
         ],
         "xaxis": "x2",
         "y": [
          5.032278537750244
         ],
         "yaxis": "y2",
         "type": "scattergl"
        },
        {
         "hovertemplate": "label=Hand gestures+Touching face<br>sample=all<br>emb1=%{x}<br>emb2=%{y}<extra></extra>",
         "legendgroup": "Hand gestures+Touching face",
         "marker": {
          "color": "#FF6692",
          "symbol": "circle"
         },
         "mode": "markers",
         "name": "Hand gestures+Touching face",
         "showlegend": true,
         "x": [
          10.7522611618042,
          -1.9603230953216553,
          10.752253532409668,
          -1.9604445695877075
         ],
         "xaxis": "x",
         "y": [
          18.099491119384766,
          14.516889572143555,
          18.099510192871094,
          14.517202377319336
         ],
         "yaxis": "y",
         "type": "scattergl"
        },
        {
         "hovertemplate": "label=Hand gestures+Touching face<br>sample=resample<br>emb1=%{x}<br>emb2=%{y}<extra></extra>",
         "legendgroup": "Hand gestures+Touching face",
         "marker": {
          "color": "#FF6692",
          "symbol": "circle"
         },
         "mode": "markers",
         "name": "Hand gestures+Touching face",
         "showlegend": false,
         "x": [
          -1.9604445695877075,
          10.7522611618042
         ],
         "xaxis": "x2",
         "y": [
          14.517202377319336,
          18.099491119384766
         ],
         "yaxis": "y2",
         "type": "scattergl"
        },
        {
         "hovertemplate": "label=Holding arms<br>sample=all<br>emb1=%{x}<br>emb2=%{y}<extra></extra>",
         "legendgroup": "Holding arms",
         "marker": {
          "color": "#B6E880",
          "symbol": "circle"
         },
         "mode": "markers",
         "name": "Holding arms",
         "showlegend": true,
         "x": [
          -6.4126176834106445,
          -6.378854751586914,
          1.5041640996932983,
          8.737703323364258,
          -10.102324485778809,
          9.200207710266113,
          9.265375137329102,
          8.951330184936523,
          -10.391326904296875,
          9.20151138305664,
          9.210546493530273,
          -6.48825216293335,
          9.203714370727539,
          8.73319149017334,
          9.26441478729248,
          9.267419815063477,
          9.881149291992188,
          -6.4057769775390625,
          1.4726561307907104,
          -10.112812995910645,
          -4.868725776672363,
          9.199661254882812,
          1.4298759698867798,
          -10.388856887817383,
          -10.392001152038574,
          1.3821836709976196,
          -10.37932014465332,
          1.5275882482528687,
          9.886329650878906,
          1.5093976259231567,
          9.26861572265625,
          1.5276126861572266,
          -10.389159202575684,
          -4.865533351898193,
          -8.191926956176758,
          1.5081977844238281,
          -10.10093879699707,
          -6.3950581550598145,
          1.3508085012435913,
          1.333078384399414,
          -4.875223159790039,
          1.525372862815857,
          -10.404879570007324,
          -10.392145156860352,
          -6.361138343811035,
          -10.397700309753418,
          -10.386338233947754,
          -10.379273414611816,
          8.733515739440918,
          -5.644825458526611,
          -10.409112930297852,
          -10.389164924621582,
          -10.11916732788086,
          8.951289176940918,
          -10.394258499145508,
          1.470263123512268,
          9.88658332824707,
          -10.11612606048584,
          9.226405143737793,
          1.3898341655731201,
          -10.399802207946777,
          -10.349403381347656,
          8.951325416564941,
          -4.868828296661377,
          -10.369446754455566,
          -10.389055252075195,
          -10.142623901367188
         ],
         "xaxis": "x",
         "y": [
          15.426907539367676,
          15.460733413696289,
          -11.412635803222656,
          9.899065017700195,
          -8.479323387145996,
          -6.703968524932861,
          -6.629856586456299,
          -9.501323699951172,
          -8.050848960876465,
          -6.715689182281494,
          -6.734068870544434,
          15.270898818969727,
          -6.720352649688721,
          9.901395797729492,
          -6.6298828125,
          -6.627644062042236,
          -7.670067310333252,
          15.424891471862793,
          -11.44118881225586,
          -8.464722633361816,
          4.461733341217041,
          -6.707040786743164,
          -11.478087425231934,
          -7.770816802978516,
          -8.050227165222168,
          -11.517294883728027,
          -8.058296203613281,
          -11.396718978881836,
          -7.678045272827148,
          -11.411554336547852,
          -6.621675968170166,
          -11.39687442779541,
          -7.76985502243042,
          4.457943439483643,
          -9.890860557556152,
          -11.414555549621582,
          -8.481374740600586,
          15.443572998046875,
          -11.541701316833496,
          -11.557587623596191,
          4.471993923187256,
          -11.398717880249023,
          -8.016475677490234,
          -8.051861763000488,
          15.479825019836426,
          -8.032639503479004,
          -8.060648918151855,
          -8.057903289794922,
          9.90066909790039,
          -2.332712173461914,
          -7.992496967315674,
          -7.776265621185303,
          -8.456999778747559,
          -9.50139331817627,
          -8.036133766174316,
          -11.443699836730957,
          -7.678035736083984,
          -8.460636138916016,
          -6.750812530517578,
          -11.512588500976562,
          -8.029003143310547,
          -8.104392051696777,
          -9.501412391662598,
          4.461604595184326,
          -8.090106964111328,
          -7.7735371589660645,
          -8.425233840942383
         ],
         "yaxis": "y",
         "type": "scattergl"
        },
        {
         "hovertemplate": "label=Holding arms<br>sample=resample<br>emb1=%{x}<br>emb2=%{y}<extra></extra>",
         "legendgroup": "Holding arms",
         "marker": {
          "color": "#B6E880",
          "symbol": "circle"
         },
         "mode": "markers",
         "name": "Holding arms",
         "showlegend": false,
         "x": [
          -6.48825216293335
         ],
         "xaxis": "x2",
         "y": [
          15.270898818969727
         ],
         "yaxis": "y2",
         "type": "scattergl"
        },
        {
         "hovertemplate": "label=Holding arms+Moving legs<br>sample=all<br>emb1=%{x}<br>emb2=%{y}<extra></extra>",
         "legendgroup": "Holding arms+Moving legs",
         "marker": {
          "color": "#FF97FF",
          "symbol": "circle"
         },
         "mode": "markers",
         "name": "Holding arms+Moving legs",
         "showlegend": true,
         "x": [
          -8.977433204650879,
          -7.098668098449707,
          8.951363563537598,
          -7.100704193115234,
          1.335160732269287
         ],
         "xaxis": "x",
         "y": [
          3.471585750579834,
          -4.155452251434326,
          -9.501838684082031,
          -4.155827522277832,
          -11.55048656463623
         ],
         "yaxis": "y",
         "type": "scattergl"
        },
        {
         "hovertemplate": "label=Holding arms+Moving legs<br>sample=resample<br>emb1=%{x}<br>emb2=%{y}<extra></extra>",
         "legendgroup": "Holding arms+Moving legs",
         "marker": {
          "color": "#FF97FF",
          "symbol": "circle"
         },
         "mode": "markers",
         "name": "Holding arms+Moving legs",
         "showlegend": false,
         "x": [
          -7.100704193115234
         ],
         "xaxis": "x2",
         "y": [
          -4.155827522277832
         ],
         "yaxis": "y2",
         "type": "scattergl"
        },
        {
         "hovertemplate": "label=Holding arms+Rubbing face<br>sample=all<br>emb1=%{x}<br>emb2=%{y}<extra></extra>",
         "legendgroup": "Holding arms+Rubbing face",
         "marker": {
          "color": "#FECB52",
          "symbol": "circle"
         },
         "mode": "markers",
         "name": "Holding arms+Rubbing face",
         "showlegend": true,
         "x": [
          1.302109718322754
         ],
         "xaxis": "x",
         "y": [
          -11.568792343139648
         ],
         "yaxis": "y",
         "type": "scattergl"
        },
        {
         "hovertemplate": "label=Holding arms+Rubbing face<br>sample=resample<br>emb1=%{x}<br>emb2=%{y}<extra></extra>",
         "legendgroup": "Holding arms+Rubbing face",
         "marker": {
          "color": "#FECB52",
          "symbol": "circle"
         },
         "mode": "markers",
         "name": "Holding arms+Rubbing face",
         "showlegend": false,
         "x": [
          1.302109718322754
         ],
         "xaxis": "x2",
         "y": [
          -11.568792343139648
         ],
         "yaxis": "y2",
         "type": "scattergl"
        },
        {
         "hovertemplate": "label=Holding arms+Rubbing hands<br>sample=all<br>emb1=%{x}<br>emb2=%{y}<extra></extra>",
         "legendgroup": "Holding arms+Rubbing hands",
         "marker": {
          "color": "#636efa",
          "symbol": "circle"
         },
         "mode": "markers",
         "name": "Holding arms+Rubbing hands",
         "showlegend": true,
         "x": [
          -4.386475563049316,
          1.0457696914672852,
          9.207554817199707
         ],
         "xaxis": "x",
         "y": [
          -3.1160597801208496,
          -11.574039459228516,
          -6.6953864097595215
         ],
         "yaxis": "y",
         "type": "scattergl"
        },
        {
         "hovertemplate": "label=Holding arms+Rubbing hands<br>sample=resample<br>emb1=%{x}<br>emb2=%{y}<extra></extra>",
         "legendgroup": "Holding arms+Rubbing hands",
         "marker": {
          "color": "#636efa",
          "symbol": "circle"
         },
         "mode": "markers",
         "name": "Holding arms+Rubbing hands",
         "showlegend": false,
         "x": [
          1.0457696914672852,
          -4.386475563049316
         ],
         "xaxis": "x2",
         "y": [
          -11.574039459228516,
          -3.1160597801208496
         ],
         "yaxis": "y2",
         "type": "scattergl"
        },
        {
         "hovertemplate": "label=Holding arms+Scratching body<br>sample=all<br>emb1=%{x}<br>emb2=%{y}<extra></extra>",
         "legendgroup": "Holding arms+Scratching body",
         "marker": {
          "color": "#EF553B",
          "symbol": "circle"
         },
         "mode": "markers",
         "name": "Holding arms+Scratching body",
         "showlegend": true,
         "x": [
          -5.222838401794434
         ],
         "xaxis": "x",
         "y": [
          5.029170989990234
         ],
         "yaxis": "y",
         "type": "scattergl"
        },
        {
         "hovertemplate": "label=Holding arms+Scratching body<br>sample=resample<br>emb1=%{x}<br>emb2=%{y}<extra></extra>",
         "legendgroup": "Holding arms+Scratching body",
         "marker": {
          "color": "#EF553B",
          "symbol": "circle"
         },
         "mode": "markers",
         "name": "Holding arms+Scratching body",
         "showlegend": false,
         "x": [
          -5.222838401794434
         ],
         "xaxis": "x2",
         "y": [
          5.029170989990234
         ],
         "yaxis": "y2",
         "type": "scattergl"
        },
        {
         "hovertemplate": "label=Holding arms+Touching face<br>sample=all<br>emb1=%{x}<br>emb2=%{y}<extra></extra>",
         "legendgroup": "Holding arms+Touching face",
         "marker": {
          "color": "#00cc96",
          "symbol": "circle"
         },
         "mode": "markers",
         "name": "Holding arms+Touching face",
         "showlegend": true,
         "x": [
          -13.428535461425781,
          -13.428315162658691,
          -13.428484916687012,
          -13.428494453430176,
          3.2828316688537598
         ],
         "xaxis": "x",
         "y": [
          4.582661151885986,
          4.582845211029053,
          4.5824408531188965,
          4.5823588371276855,
          -5.864101886749268
         ],
         "yaxis": "y",
         "type": "scattergl"
        },
        {
         "hovertemplate": "label=Holding arms+Touching face<br>sample=resample<br>emb1=%{x}<br>emb2=%{y}<extra></extra>",
         "legendgroup": "Holding arms+Touching face",
         "marker": {
          "color": "#00cc96",
          "symbol": "circle"
         },
         "mode": "markers",
         "name": "Holding arms+Touching face",
         "showlegend": false,
         "x": [
          -13.428535461425781
         ],
         "xaxis": "x2",
         "y": [
          4.582661151885986
         ],
         "yaxis": "y2",
         "type": "scattergl"
        },
        {
         "hovertemplate": "label=Moving legs<br>sample=all<br>emb1=%{x}<br>emb2=%{y}<extra></extra>",
         "legendgroup": "Moving legs",
         "marker": {
          "color": "#ab63fa",
          "symbol": "circle"
         },
         "mode": "markers",
         "name": "Moving legs",
         "showlegend": true,
         "x": [
          -2.8180322647094727,
          -17.17506217956543,
          4.865182399749756,
          -0.26169344782829285,
          -17.201745986938477,
          1.0672515630722046,
          -3.10056209564209,
          -2.4924213886260986,
          -2.516077756881714,
          -2.484139919281006,
          -2.4985196590423584,
          4.829321384429932,
          -2.457902669906616,
          8.42314624786377,
          -2.051703691482544,
          0.8224042057991028,
          -2.035400152206421,
          -2.0363926887512207,
          -2.532494306564331,
          -0.27198025584220886,
          0.947566568851471,
          11.068578720092773,
          1.246640920639038,
          0.9778711199760437,
          0.512580156326294,
          -0.29062318801879883,
          -2.528399705886841,
          -2.5420663356781006,
          4.803118705749512,
          7.424628734588623,
          -8.848672866821289,
          -0.3102530837059021,
          -10.424578666687012,
          1.2287824153900146,
          -17.054054260253906,
          -7.558664321899414,
          -0.3971642553806305,
          11.065787315368652,
          -0.27473801374435425,
          -0.2929142713546753,
          -5.014941215515137,
          0.673760175704956,
          -16.72296905517578,
          -5.452576160430908,
          -5.015177249908447,
          -2.477357864379883,
          4.183432102203369,
          0.941118597984314,
          3.401548385620117,
          1.1823323965072632,
          1.2216628789901733,
          4.828514099121094,
          7.5652031898498535,
          0.7570198178291321,
          1.2101110219955444,
          -0.09962146729230881,
          1.1709377765655518,
          0.5093083381652832,
          -18.541322708129883,
          0.55512535572052,
          1.5458104610443115,
          2.3017778396606445,
          -18.55140495300293,
          11.0015230178833,
          -1.128985047340393,
          -17.9666748046875,
          0.6182017922401428,
          0.6016052961349487,
          1.0676679611206055,
          3.3324081897735596,
          1.1249141693115234,
          2.9836878776550293,
          11.070947647094727,
          10.886738777160645,
          0.588821291923523,
          1.214410424232483,
          0.9284000992774963,
          0.7270603775978088,
          3.0060477256774902,
          1.2134473323822021,
          -2.8049917221069336,
          3.47090482711792,
          -18.552900314331055,
          1.1837211847305298,
          -9.990791320800781,
          -10.591483116149902,
          -10.143568992614746,
          4.839772701263428,
          -0.011244616471230984,
          2.979320764541626,
          -5.636879920959473,
          2.9797909259796143,
          1.1861621141433716,
          0.307329386472702,
          -17.099538803100586,
          -17.897716522216797,
          -18.54865074157715,
          1.4168243408203125,
          0.5979171991348267,
          11.059234619140625,
          -0.7917541861534119,
          -0.16816066205501556,
          -18.070316314697266,
          -5.569769382476807,
          2.29245662689209,
          -8.61693000793457,
          0.743362545967102,
          0.5179719924926758,
          2.24592924118042,
          1.21642005443573,
          0.7559912204742432,
          -1.1475038528442383,
          1.360378384590149,
          1.544740915298462,
          1.2432591915130615,
          1.0331594944000244,
          -17.13995361328125,
          2.8937952518463135,
          -0.01941436156630516,
          -5.58738374710083,
          -8.57602596282959,
          13.921403884887695,
          -9.4254150390625,
          -9.848504066467285,
          3.373513698577881,
          0.5779346227645874,
          -9.99710464477539,
          4.204923629760742,
          -1.1838217973709106,
          -5.100365161895752,
          -2.8019556999206543,
          2.941765546798706,
          -10.368517875671387,
          4.181699752807617,
          -3.075770139694214,
          -8.177899360656738,
          1.1431127786636353,
          -16.73295021057129,
          -0.6614415645599365,
          -17.54521369934082,
          2.9321775436401367,
          -9.6500244140625,
          1.5417340993881226,
          1.5498069524765015,
          -5.010631561279297,
          -10.384049415588379,
          4.8267998695373535,
          0.9161345958709717,
          1.2871315479278564,
          1.1928465366363525,
          -18.547901153564453,
          -1.119995355606079,
          3.9644081592559814,
          0.6089861392974854,
          -10.592103958129883,
          -0.6323807835578918,
          -17.005189895629883,
          -7.687904357910156,
          -1.3333908319473267,
          0.5548810958862305,
          11.072906494140625,
          -0.3025870621204376,
          -18.044513702392578,
          -16.739299774169922,
          -17.951669692993164,
          1.1758806705474854,
          -1.9555000066757202,
          4.15557336807251,
          -6.079029083251953,
          -7.839268684387207,
          -5.794672012329102,
          -7.781632900238037,
          0.5990223288536072,
          3.62876296043396,
          -10.568346977233887,
          3.11922287940979,
          3.6863129138946533,
          -8.556653022766113,
          -5.513916015625,
          4.038860321044922,
          2.896275281906128,
          -8.863418579101562,
          -5.427805423736572,
          11.051776885986328,
          -10.421577453613281,
          3.921652317047119,
          0.5345610976219177,
          -5.5420966148376465,
          -10.41213321685791,
          7.700164794921875,
          -5.579935550689697,
          7.69751501083374,
          0.9095994830131531,
          3.5900115966796875,
          3.74515962600708,
          -9.605344772338867,
          3.6741480827331543,
          1.217276930809021,
          -17.25987434387207,
          1.5383281707763672,
          -7.646210670471191,
          -16.731008529663086,
          -5.003152847290039,
          0.5151084661483765,
          -5.105381011962891,
          1.1382356882095337,
          4.293410778045654,
          3.5364089012145996,
          4.110539436340332,
          -1.7615630626678467,
          -5.687743663787842,
          -1.7522917985916138,
          4.84633207321167,
          0.5942533016204834,
          -17.050203323364258,
          -17.330018997192383,
          -17.129968643188477,
          -5.3389763832092285,
          -17.010908126831055,
          -17.047739028930664,
          -17.032691955566406,
          3.702662706375122,
          -9.633678436279297,
          3.380359411239624,
          3.7507903575897217,
          -17.155723571777344,
          -3.054910659790039,
          4.316766262054443,
          -17.39850425720215,
          -0.2998422086238861,
          3.638352870941162,
          11.068595886230469,
          -17.91826629638672,
          0.6606653928756714,
          -17.428756713867188,
          3.7503864765167236,
          -1.1556729078292847,
          -16.75472640991211,
          0.4029308259487152,
          -17.959041595458984,
          4.890619277954102,
          -5.604697227478027,
          1.5815860033035278,
          3.8864078521728516,
          2.9814774990081787,
          -0.08131144940853119,
          -10.224212646484375,
          -0.3142291009426117,
          -0.29058822989463806,
          -0.5747227072715759,
          -2.631321668624878,
          0.9453685879707336,
          -0.25232750177383423,
          0.7794049978256226,
          0.5287972688674927,
          -4.99315071105957,
          -0.023627402260899544,
          -0.30808717012405396,
          -5.481247425079346,
          -16.79468536376953,
          1.193485975265503,
          -17.820573806762695,
          3.9094908237457275,
          3.197638988494873,
          -16.763410568237305,
          -10.059874534606934,
          0.5159305930137634,
          -0.30355364084243774,
          -10.193276405334473,
          -5.66365385055542,
          -5.601501941680908,
          1.1575602293014526,
          2.29144549369812,
          -17.971363067626953,
          -1.1773879528045654,
          -7.643942832946777,
          0.9768873453140259,
          -3.1096627712249756,
          -0.15794961154460907,
          1.2551709413528442,
          2.9313011169433594,
          0.9323508143424988,
          1.5191562175750732,
          -10.04637622833252,
          4.308035373687744,
          3.293149948120117,
          7.64398193359375,
          7.700236797332764,
          2.923239231109619,
          -18.277435302734375,
          7.707653522491455,
          4.18341064453125,
          7.632267475128174,
          -18.434772491455078,
          7.627134799957275,
          4.023587226867676,
          -18.443803787231445,
          7.629181385040283,
          -0.3250717520713806,
          7.713398456573486,
          7.636207103729248,
          7.616791725158691,
          -10.602322578430176,
          -18.436763763427734,
          -3.5715227127075195,
          11.042006492614746,
          -18.439090728759766,
          1.1822327375411987,
          -9.883586883544922,
          -9.613286018371582,
          4.181917190551758,
          3.640498399734497,
          -5.016706466674805,
          -5.101817607879639,
          3.8248846530914307,
          -10.090649604797363,
          -17.942983627319336,
          7.721755027770996,
          -17.955272674560547,
          -9.781410217285156,
          -17.917644500732422,
          3.9730000495910645,
          7.647552490234375,
          -5.660760402679443,
          -5.244520664215088,
          -5.558207988739014,
          -10.263686180114746,
          -17.90501594543457,
          -8.76061725616455,
          7.697103023529053,
          3.1522696018218994,
          -5.346643447875977,
          7.6293463706970215,
          13.921548843383789,
          3.250391721725464,
          -9.632622718811035,
          -16.781314849853516,
          -16.995647430419922,
          -17.007709503173828,
          -1.549171805381775,
          -17.416162490844727,
          -17.054929733276367,
          -16.752294540405273,
          4.815626621246338,
          4.08641242980957,
          -5.636620998382568,
          0.6477013230323792,
          4.860397815704346,
          -8.642021179199219,
          4.187182426452637,
          -10.590386390686035,
          -5.095524787902832,
          -10.048386573791504,
          -5.13051700592041,
          -17.031661987304688,
          -5.346943378448486,
          -17.20546531677246,
          -9.621833801269531,
          -17.447391510009766,
          -10.179328918457031,
          2.947786569595337,
          3.9918341636657715,
          -18.43025016784668,
          7.6275482177734375,
          3.704232692718506,
          3.7030105590820312,
          7.632458209991455,
          -18.43842315673828,
          3.6394338607788086,
          -16.72897720336914,
          7.718846321105957,
          7.6291704177856445,
          13.921487808227539,
          -16.888565063476562,
          -5.4645161628723145,
          3.650390863418579,
          4.02172327041626,
          4.069325923919678,
          7.6484198570251465,
          1.1792421340942383,
          -8.828723907470703,
          -18.552597045898438,
          -6.931934356689453,
          -6.117259979248047,
          -0.3004962205886841,
          -6.131926536560059,
          0.09589473158121109,
          -2.8396801948547363,
          -6.469239234924316,
          -6.149525165557861,
          -6.22207498550415,
          7.397417068481445,
          0.6167373061180115,
          0.5237078666687012,
          -7.178092002868652,
          -5.1019368171691895,
          4.416515350341797,
          -5.996009826660156,
          -2.4775619506835938,
          0.6165285706520081,
          4.83856725692749,
          -7.57732629776001,
          -0.47526246309280396,
          -6.183392524719238,
          -6.754526138305664,
          -6.073461532592773,
          -6.679248332977295,
          3.3185019493103027,
          -4.964219570159912,
          3.31744647026062,
          1.1795799732208252,
          0.9438108205795288,
          -5.7076544761657715,
          -5.934497356414795,
          1.549290657043457,
          -6.763608455657959,
          4.008218765258789,
          3.481340169906616,
          3.7292778491973877,
          -5.548433780670166,
          4.91511344909668,
          -5.5042901039123535,
          3.4820570945739746,
          -5.904168128967285,
          -5.635553359985352,
          -3.0814971923828125,
          -6.7841596603393555,
          0.27987825870513916,
          -1.0083508491516113,
          -3.118665933609009,
          1.2126778364181519,
          2.2738776206970215,
          -1.013264775276184,
          0.4870546758174896,
          4.824620246887207,
          4.844884872436523,
          11.074055671691895,
          2.2632482051849365,
          -8.204142570495605,
          -2.765514850616455,
          -2.752628803253174,
          -3.1428382396698,
          -6.073714733123779,
          2.2590854167938232,
          -3.0769402980804443,
          1.1405165195465088,
          1.2132866382598877,
          -9.431415557861328,
          3.3184986114501953,
          3.318593978881836,
          6.762787818908691,
          -1.0076677799224854,
          -2.4294278621673584,
          -1.0112627744674683,
          0.6209786534309387,
          -2.507290840148926,
          -1.0085177421569824,
          -5.686359405517578,
          -2.033719539642334,
          -2.474874496459961,
          -2.0770819187164307,
          -2.0886647701263428,
          -1.8894470930099487,
          1.125462293624878,
          -10.4108304977417,
          1.5519670248031616,
          -5.596132755279541,
          -10.43521785736084,
          -2.5204036235809326,
          2.188033103942871,
          -5.413846015930176,
          0.1282213181257248,
          -2.071439266204834,
          -9.614825248718262,
          0.6446352005004883,
          -10.056482315063477,
          -6.426441192626953,
          6.761115074157715,
          7.227680683135986,
          -8.633898735046387,
          -0.9078433513641357,
          -0.46394845843315125,
          4.015758037567139,
          -10.450465202331543,
          -6.007264137268066,
          -6.6804609298706055,
          0.5233286023139954,
          -5.590511322021484,
          3.9765048027038574,
          -2.996147871017456,
          -2.525029420852661,
          -2.49963116645813,
          -2.170555830001831,
          4.8843536376953125,
          4.36130428314209,
          7.635036468505859,
          6.922782897949219,
          -10.163314819335938,
          -7.450099945068359,
          6.769928932189941,
          6.997846603393555,
          3.9980576038360596,
          -10.428186416625977,
          -10.425129890441895,
          -7.644777774810791,
          7.613111972808838,
          -10.44353199005127,
          -5.598472595214844,
          1.1965123414993286,
          -10.4041166305542,
          -10.211159706115723,
          -8.923041343688965,
          3.31904673576355,
          7.482663154602051,
          8.033208847045898,
          -10.288642883300781,
          -5.213237762451172,
          -5.529524326324463,
          -5.4731526374816895,
          -5.537772178649902,
          -8.565561294555664,
          -6.2784223556518555,
          3.593258857727051,
          -1.1282706260681152,
          -6.1216864585876465,
          -10.601487159729004,
          7.0488786697387695,
          -1.1321508884429932,
          6.992489337921143,
          -8.901371955871582,
          11.063082695007324,
          -8.861335754394531,
          4.07151460647583,
          -7.756618499755859,
          3.5534801483154297,
          -0.2981716990470886,
          4.042121887207031,
          -5.485127925872803,
          6.95845890045166,
          -5.498730182647705,
          -9.95993709564209,
          -10.57311725616455,
          3.5144448280334473,
          7.9996018409729,
          -6.187673091888428,
          9.554153442382812,
          -10.36481761932373,
          6.975654602050781,
          11.056876182556152,
          -5.192990779876709,
          3.5970659255981445,
          3.5495359897613525,
          11.047036170959473,
          -5.448476314544678,
          -8.842336654663086,
          3.514612913131714,
          3.5311291217803955,
          0.6194706559181213,
          -5.573665142059326,
          -5.391488552093506,
          0.6153119206428528,
          -8.91751766204834,
          3.8158621788024902,
          2.304598331451416,
          -5.615793704986572,
          -5.187749862670898,
          -7.48915958404541,
          3.85542368888855,
          -6.225117206573486,
          -8.874347686767578,
          -8.762524604797363,
          -8.925411224365234,
          3.8594608306884766,
          3.62908935546875,
          2.3161580562591553,
          -8.837727546691895,
          3.828467845916748,
          0.25170835852622986,
          3.6724281311035156,
          -5.456083297729492,
          3.518620014190674,
          4.0581135749816895,
          4.0184221267700195,
          -18.432159423828125,
          -8.745119094848633,
          -8.870923042297363,
          0.30260542035102844,
          3.9553165435791016,
          -8.912679672241211,
          4.050616264343262,
          3.637044668197632,
          -8.82205867767334,
          -6.214174747467041,
          4.0109124183654785,
          -5.551789283752441,
          -5.533961772918701,
          3.4946300983428955,
          -5.534734725952148,
          -7.622035980224609,
          3.8517069816589355,
          -10.399868965148926,
          -5.34202241897583,
          -5.451019763946533,
          -5.404054164886475,
          -7.5722975730896,
          -2.3914880752563477,
          -2.4543075561523438,
          -5.488359451293945,
          3.5879454612731934,
          -3.089388132095337,
          3.848412036895752,
          -5.457703590393066,
          -7.172049522399902,
          -0.302481085062027,
          4.058639049530029,
          3.9960591793060303,
          -5.569500923156738,
          3.4838192462921143,
          -5.586977481842041,
          4.026040077209473,
          1.0971744060516357,
          -2.750967502593994,
          6.768904209136963,
          6.998780727386475,
          7.049318790435791,
          7.940537929534912,
          6.900074005126953,
          4.793323040008545,
          -5.447488307952881,
          -5.526879787445068,
          -5.491247653961182,
          -5.194840908050537,
          -6.139230728149414,
          4.036886215209961,
          -5.582993030548096,
          -8.78058910369873,
          -5.453372478485107,
          -6.170548439025879,
          -8.873836517333984,
          -8.845876693725586,
          -5.598692893981934,
          -5.568330764770508,
          3.9829111099243164,
          -0.15857572853565216,
          3.504058837890625,
          -6.437762260437012,
          -0.40445810556411743,
          -5.45484733581543,
          -5.5453009605407715,
          -8.593216771259904E-4,
          7.957352638244629,
          -0.32117709517478943,
          -5.6143479347229,
          4.415338039398193,
          -6.083224296569824,
          7.4178338050842285,
          -7.645636081695557,
          -5.2879438400268555,
          -7.177731037139893,
          -6.9620561599731445,
          -5.45275354385376,
          -5.3594231605529785,
          -7.178581714630127,
          -7.117941856384277,
          2.261121988296509,
          -6.085612773895264,
          -3.0607869625091553,
          -2.666430711746216,
          -6.0113348960876465,
          10.843406677246094,
          -5.8889689445495605,
          4.834395885467529,
          -5.964380264282227,
          -3.087733268737793,
          -5.9370622634887695,
          -5.967576026916504,
          -7.183681011199951,
          -7.162812232971191,
          -7.19850492477417,
          -6.1829023361206055,
          -6.737918376922607,
          -7.193812370300293,
          -5.957919120788574,
          3.73818039894104,
          -6.764736652374268,
          -5.121808052062988,
          -2.7587785720825195,
          -7.652163982391357,
          -6.386136054992676,
          -1.0249556303024292,
          1.1866661310195923,
          1.2044376134872437,
          1.1285542249679565,
          -1.589460849761963,
          -0.2933626174926758,
          -1.1516848802566528,
          7.327365875244141,
          -0.4970596730709076,
          -2.5164201259613037,
          -1.3708089590072632,
          -1.074027419090271,
          -1.0252190828323364,
          0.5930134057998657,
          -1.7962168455123901,
          -1.622111201286316,
          -1.9439107179641724,
          -1.42710542678833,
          -1.5197736024856567,
          -0.8062806129455566,
          -5.473034858703613,
          -8.863870620727539,
          3.5181727409362793,
          -14.138526916503906,
          3.9479408264160156,
          -6.091662406921387,
          -6.110384941101074,
          -3.088999032974243,
          -7.256436824798584,
          -6.085034370422363,
          -1.7743984460830688,
          -7.659657955169678,
          -5.663120746612549,
          -6.4647216796875,
          -8.571150779724121,
          -8.555829048156738,
          -8.511759757995605,
          -6.461808204650879,
          3.753265619277954,
          -8.45620346069336,
          -8.483357429504395,
          -8.464411735534668,
          -5.418818473815918,
          -8.861804962158203,
          -8.513581275939941,
          -5.494126319885254,
          -7.722421169281006,
          -7.701501846313477,
          -8.462715148925781,
          -0.2652733027935028,
          -10.081071853637695,
          -10.207375526428223,
          11.063833236694336,
          -8.606884002685547,
          -8.578350067138672,
          10.97363567352295,
          -0.8808915615081787,
          -8.761722564697266,
          -8.709637641906738,
          -8.475362777709961,
          -8.596513748168945,
          -8.62309741973877,
          -8.64958381652832,
          -9.540047645568848,
          -6.2297234535217285,
          -9.388426780700684,
          2.862558603286743,
          -3.0876386165618896,
          12.664163589477539,
          -9.119619369506836,
          -8.869702339172363,
          -9.421012878417969,
          -8.869085311889648,
          -9.425777435302734,
          -10.599669456481934,
          -14.139408111572266,
          -14.139262199401855,
          12.664043426513672,
          -8.466450691223145,
          -10.040136337280273,
          -1.657848596572876,
          -9.40135383605957,
          -10.048408508300781,
          12.664280891418457,
          -10.006131172180176,
          -5.453704357147217,
          -8.858733177185059,
          -9.992383003234863,
          -10.59882640838623,
          -9.424936294555664,
          7.692177772521973,
          3.4955861568450928,
          -7.766716957092285,
          11.076342582702637,
          -5.19061279296875,
          -8.561453819274902,
          -9.428223609924316,
          -1.5135027170181274,
          -1.536415696144104,
          -6.903350353240967,
          6.954405784606934,
          8.023191452026367,
          7.580681800842285,
          7.642067909240723,
          7.908663272857666,
          6.975600242614746,
          3.350773811340332,
          7.593181610107422,
          6.762875080108643,
          6.8007893562316895,
          6.761443614959717,
          -5.69618034362793,
          0.32869967818260193,
          -2.4897310733795166,
          -2.5369229316711426,
          -2.0428659915924072,
          8.024459838867188,
          -2.510392427444458,
          -2.505904197692871,
          -1.5696152448654175,
          -5.286584377288818,
          -5.580250263214111,
          -6.144099712371826,
          -2.5046701431274414,
          -0.6683714985847473,
          -2.4523379802703857,
          -2.535369873046875,
          1.3923546075820923,
          -11.982595443725586,
          -1.0170034170150757,
          6.9344801902771,
          1.3920872211456299,
          6.757884979248047,
          6.768141269683838,
          7.42295503616333,
          7.596344470977783,
          -6.266608715057373,
          10.785441398620605,
          7.423585891723633,
          7.533923625946045,
          7.307977199554443,
          -14.139352798461914,
          7.096827507019043,
          6.989956378936768,
          3.492703914642334,
          7.607509613037109,
          8.009429931640625,
          -14.139781951904297,
          10.76128101348877,
          -10.003244400024414,
          7.523611545562744,
          6.755229949951172,
          10.75165843963623,
          -14.13929271697998,
          -2.580946683883667,
          -2.5231215953826904,
          -5.478756904602051,
          0.32627198100090027,
          8.013367652893066,
          -1.008426308631897,
          -8.751516342163086,
          -1.498094081878662,
          3.4935572147369385,
          3.477781057357788,
          -0.6495233774185181,
          1.2348270416259766,
          -0.6942856907844543,
          -2.013643980026245,
          -5.492552757263184,
          -11.98188591003418,
          -1.270510196685791,
          0.9371739029884338,
          -1.1451548337936401,
          -8.785873413085938,
          -8.761539459228516,
          -1.9482097625732422,
          -5.9460272789001465,
          11.068619728088379,
          -8.761141777038574,
          7.229067802429199,
          -1.2730541229248047,
          -5.565381050109863,
          -1.5580425262451172,
          -0.3139978349208832,
          -5.593226432800293,
          -1.9334473609924316,
          -1.4575022459030151,
          -8.749326705932617,
          -1.8603627681732178,
          -5.9393630027771,
          -11.982691764831543,
          2.2213547229766846,
          -5.3983540534973145,
          6.895380973815918,
          7.620723247528076,
          -5.489510536193848,
          7.842924118041992,
          6.754151344299316,
          0.3576812446117401,
          6.915926456451416,
          3.930208206176758,
          -5.578489303588867,
          7.533619403839111,
          -0.3769340217113495,
          6.972314834594727,
          -1.4836387634277344,
          4.897523880004883,
          -2.5572104454040527,
          -0.7199132442474365,
          -6.440966606140137,
          -8.883935928344727,
          6.924134254455566,
          4.360665798187256,
          -5.924152851104736,
          3.5391135215759277,
          -2.264329671859741,
          -5.058001518249512
         ],
         "xaxis": "x",
         "y": [
          1.603757381439209,
          1.9048867225646973,
          9.272001266479492,
          -8.65870189666748,
          1.9151558876037598,
          -8.530317306518555,
          1.529578685760498,
          -6.528283596038818,
          -6.51439905166626,
          -6.52156925201416,
          1.2571388483047485,
          9.234228134155273,
          -6.5435943603515625,
          7.493175029754639,
          -6.41245698928833,
          12.735143661499023,
          -6.495439529418945,
          -6.358061790466309,
          1.2853965759277344,
          -8.572362899780273,
          -8.516993522644043,
          9.245662689208984,
          13.7750825881958,
          13.423550605773926,
          -8.486688613891602,
          -8.75533390045166,
          -6.505115985870361,
          -6.478565216064453,
          9.208381652832031,
          13.039764404296875,
          2.143263101577759,
          -8.723742485046387,
          4.8285298347473145,
          13.792083740234375,
          1.9090871810913086,
          5.830938339233398,
          -7.620549201965332,
          17.784013748168945,
          -7.779902935028076,
          -8.679309844970703,
          8.049421310424805,
          12.367385864257812,
          1.1109402179718018,
          1.0942853689193726,
          8.058955192565918,
          -6.536884784698486,
          7.143540859222412,
          12.925840377807617,
          5.645671844482422,
          13.690418243408203,
          13.327981948852539,
          9.234795570373535,
          4.510613918304443,
          13.333707809448242,
          13.764116287231445,
          -8.395591735839844,
          -8.537248611450195,
          12.226173400878906,
          9.556483268737793,
          12.300946235656738,
          13.538537979125977,
          -8.932241439819336,
          9.558021545410156,
          17.849416732788086,
          -6.773251056671143,
          2.3255224227905273,
          12.36379337310791,
          12.245497703552246,
          -8.530218124389648,
          5.615190505981445,
          13.214916229248047,
          5.295532703399658,
          17.77854347229004,
          17.96599769592285,
          12.278505325317383,
          13.429733276367188,
          12.922379493713379,
          13.329294204711914,
          5.306405544281006,
          13.80958366394043,
          1.6186596155166626,
          5.667686939239502,
          9.55815315246582,
          13.726539611816406,
          5.935611724853516,
          6.02541446685791,
          6.226675510406494,
          9.245712280273438,
          -8.316633224487305,
          5.290897369384766,
          6.133913516998291,
          5.307060241699219,
          13.717567443847656,
          -8.485228538513184,
          1.8062068223953247,
          2.2935397624969482,
          9.557558059692383,
          13.50672435760498,
          12.331896781921387,
          17.79071807861328,
          -7.501830101013184,
          -8.002638816833496,
          2.347198009490967,
          1.2488229274749756,
          -8.934611320495605,
          5.5047430992126465,
          13.317782402038574,
          12.23496150970459,
          -8.960265159606934,
          13.730759620666504,
          13.335688591003418,
          -6.794698715209961,
          13.506388664245605,
          13.561598777770996,
          13.652881622314453,
          13.08955192565918,
          1.8839335441589355,
          5.525568962097168,
          -8.2991361618042,
          8.701464653015137,
          5.511488914489746,
          5.7788591384887695,
          5.294220447540283,
          5.488570213317871,
          5.631605625152588,
          12.24106216430664,
          6.321086883544922,
          6.0565924644470215,
          21.17131805419922,
          6.137228012084961,
          1.5926796197891235,
          5.47543478012085,
          6.062613487243652,
          7.141524791717529,
          1.5240260362625122,
          -9.876840591430664,
          13.25482177734375,
          1.121769905090332,
          -7.9180121421813965,
          2.1207778453826904,
          5.479991912841797,
          6.7837934494018555,
          13.553506851196289,
          13.545516014099121,
          8.043539047241211,
          4.873798847198486,
          9.23223876953125,
          12.889643669128418,
          13.727505683898926,
          13.655046463012695,
          9.557449340820312,
          -6.767853260040283,
          6.029855728149414,
          -8.500505447387695,
          6.023043632507324,
          -7.796778202056885,
          1.9126304388046265,
          5.770254135131836,
          -6.930070877075195,
          12.180334091186523,
          17.776945114135742,
          -7.7515177726745605,
          2.343703031539917,
          1.1331772804260254,
          2.3182780742645264,
          -8.507562637329102,
          -1.3207390308380127,
          7.09513521194458,
          2.6505112648010254,
          5.646968841552734,
          7.755695819854736,
          5.726492881774902,
          -8.49950885772705,
          5.694014072418213,
          6.028326034545898,
          5.612714767456055,
          5.710788249969482,
          5.536097526550293,
          2.1925742626190186,
          6.874205589294434,
          5.51617431640625,
          3.510575532913208,
          1.081777811050415,
          9.240198135375977,
          4.8275065422058105,
          6.723144054412842,
          12.19877815246582,
          9.352214813232422,
          4.8261399269104,
          -13.985512733459473,
          1.2509831190109253,
          -13.991623878479004,
          12.879100799560547,
          6.368242263793945,
          5.763281345367432,
          6.855589389801025,
          5.718709945678711,
          13.737445831298828,
          1.9559646844863892,
          13.510634422302246,
          -5.039786338806152,
          1.1181379556655884,
          8.053475379943848,
          12.23501205444336,
          6.13615083694458,
          13.680964469909668,
          6.051064491271973,
          6.329352855682373,
          6.172407150268555,
          -1.080919623374939,
          1.4100028276443481,
          -1.0692410469055176,
          9.252270698547363,
          12.315428733825684,
          1.902125597000122,
          2.036139726638794,
          1.926289677619934,
          0.8956422805786133,
          1.9107462167739868,
          1.8412418365478516,
          1.889908790588379,
          5.730627536773682,
          6.820321083068848,
          5.628096580505371,
          6.501998424530029,
          1.9412468671798706,
          1.5325915813446045,
          6.0329389572143555,
          2.040992021560669,
          -8.714849472045898,
          5.777687072753906,
          9.24534797668457,
          2.2892770767211914,
          -8.501773834228516,
          2.063347816467285,
          6.488527774810791,
          -6.801424503326416,
          1.1555908918380737,
          -8.494587898254395,
          2.3225491046905518,
          9.297308921813965,
          8.171697616577148,
          13.510588645935059,
          5.910177707672119,
          5.283252716064453,
          -8.25347900390625,
          5.772183895111084,
          -7.689438343048096,
          -7.686214447021484,
          -7.575607776641846,
          1.4172481298446655,
          12.934953689575195,
          -8.644598007202148,
          13.345709800720215,
          12.24334716796875,
          8.04835033416748,
          -8.229272842407227,
          -7.719561576843262,
          1.1146767139434814,
          1.2483144998550415,
          13.32045841217041,
          2.2409651279449463,
          5.92454195022583,
          5.644058704376221,
          1.1749449968338013,
          6.214977264404297,
          12.246199607849121,
          -8.717292785644531,
          6.245967864990234,
          1.3731492757797241,
          6.17745304107666,
          13.292607307434082,
          -8.936376571655273,
          2.3197317123413086,
          -6.829044818878174,
          5.796897888183594,
          -8.496706008911133,
          1.5424758195877075,
          -8.184876441955566,
          13.505598068237305,
          5.412608623504639,
          12.969147682189941,
          13.549342155456543,
          6.143143177032471,
          6.048567295074463,
          5.638823986053467,
          -13.718317031860352,
          -14.007946968078613,
          5.4922637939453125,
          2.4044785499572754,
          -13.911979675292969,
          7.141964912414551,
          -13.700831413269043,
          2.447038173675537,
          -13.69764232635498,
          6.231154441833496,
          2.449699878692627,
          -13.700777053833008,
          -8.512229919433594,
          -13.95190143585205,
          -13.701347351074219,
          -13.650582313537598,
          6.013036251068115,
          2.44759464263916,
          14.365449905395508,
          9.236981391906738,
          2.4489123821258545,
          -8.54142951965332,
          6.453701019287109,
          6.848502159118652,
          7.142242908477783,
          5.712011337280273,
          8.052732467651367,
          6.1343207359313965,
          6.381986141204834,
          6.227672100067139,
          2.313603401184082,
          -13.936342239379883,
          2.322711706161499,
          6.603036880493164,
          2.298083543777466,
          2.4016780853271484,
          -13.717689514160156,
          1.4041668176651,
          6.107536315917969,
          6.1404290199279785,
          5.038637638092041,
          2.290519952774048,
          3.7340378761291504,
          -14.000988960266113,
          5.650596618652344,
          8.174015998840332,
          -13.696637153625488,
          5.779446601867676,
          5.644967079162598,
          6.824465751647949,
          1.2160042524337769,
          1.9216630458831787,
          1.896239995956421,
          -7.362704277038574,
          2.061929225921631,
          1.9399502277374268,
          1.153376579284668,
          9.220521926879883,
          6.132796764373779,
          6.1392741203308105,
          12.43301010131836,
          9.266336441040039,
          5.064265727996826,
          6.0551276206970215,
          6.027770042419434,
          6.139270305633545,
          6.259098052978516,
          6.137625694274902,
          1.890505313873291,
          0.9017280340194702,
          1.9366036653518677,
          6.840356826782227,
          2.0747082233428955,
          6.228618144989014,
          5.543420314788818,
          5.969147205352783,
          2.4461677074432373,
          -13.698283195495605,
          5.744840621948242,
          5.741845607757568,
          -13.704683303833008,
          2.4483773708343506,
          6.357658386230469,
          1.1152288913726807,
          -13.961281776428223,
          -13.699767112731934,
          5.779919147491455,
          1.4641724824905396,
          1.0950745344161987,
          6.397193908691406,
          6.207120418548584,
          6.185693740844727,
          -13.741111755371094,
          -8.498754501342773,
          3.5517256259918213,
          9.558184623718262,
          6.232637405395508,
          7.1488847732543945,
          -7.697869777679443,
          7.097334861755371,
          -8.422182083129883,
          1.6595649719238281,
          6.305606365203857,
          7.026706695556641,
          6.498895168304443,
          4.878110408782959,
          12.290831565856934,
          12.18587875366211,
          6.142858982086182,
          8.083980560302734,
          5.980966567993164,
          7.330695629119873,
          -6.528304576873779,
          11.853638648986816,
          9.243327140808105,
          5.837155818939209,
          -7.622457027435303,
          6.5339250564575195,
          6.215102672576904,
          2.6420235633850098,
          6.257970333099365,
          16.586923599243164,
          8.08842658996582,
          16.58620834350586,
          -8.51698112487793,
          12.9301118850708,
          1.4012995958328247,
          6.179028034210205,
          13.539531707763672,
          6.210127830505371,
          2.380556344985962,
          2.6462104320526123,
          2.5351428985595703,
          9.067498207092285,
          9.321695327758789,
          8.862072944641113,
          2.615854263305664,
          7.49808931350708,
          8.132380485534668,
          1.5196096897125244,
          6.163668632507324,
          -8.453417778015137,
          15.392512321472168,
          1.5208194255828857,
          -8.48621654510498,
          -8.944801330566406,
          15.411078453063965,
          12.183619499206543,
          9.230077743530273,
          9.250328063964844,
          9.247535705566406,
          -8.95012378692627,
          5.630272388458252,
          1.6929147243499756,
          1.7071396112442017,
          1.5287630558013916,
          7.212712287902832,
          -8.948896408081055,
          1.508833646774292,
          13.331125259399414,
          13.771702766418457,
          5.293429851531982,
          16.58722686767578,
          16.587173461914062,
          3.5350606441497803,
          15.387256622314453,
          -6.569424152374268,
          15.39964771270752,
          12.315718650817871,
          1.2652485370635986,
          15.379647254943848,
          1.470202088356018,
          -6.336317539215088,
          -6.529278755187988,
          -6.426391124725342,
          -6.422926425933838,
          -6.722501277923584,
          -8.537073135375977,
          4.886574745178223,
          13.59229850769043,
          2.1706788539886475,
          4.827250957489014,
          -6.542492389678955,
          -8.933870315551758,
          1.0555319786071777,
          -8.399984359741211,
          -6.397750377655029,
          6.84444522857666,
          11.806618690490723,
          5.45189905166626,
          3.025912046432495,
          3.0696330070495605,
          4.8907623291015625,
          11.392352104187012,
          -7.559747219085693,
          -7.712339878082275,
          6.835464954376221,
          4.8082475662231445,
          2.577381134033203,
          6.266485214233398,
          12.149045944213867,
          9.473751068115234,
          6.764354705810547,
          1.4772241115570068,
          -6.493628025054932,
          1.2584319114685059,
          -6.433572292327881,
          9.291301727294922,
          6.01190185546875,
          4.698238372802734,
          4.402497291564941,
          6.220736980438232,
          5.924588203430176,
          3.1062541007995605,
          4.065164089202881,
          6.826571464538574,
          4.888577461242676,
          4.838881015777588,
          -5.040077209472656,
          4.671510219573975,
          4.804347038269043,
          9.454805374145508,
          13.32931137084961,
          4.897148609161377,
          5.102321624755859,
          3.4933502674102783,
          16.590251922607422,
          4.425558090209961,
          4.501801013946533,
          4.994532108306885,
          8.14054012298584,
          9.076964378356934,
          9.027061462402344,
          8.93090534210205,
          5.526529788970947,
          2.8557403087615967,
          2.787236213684082,
          21.226457595825195,
          2.685279369354248,
          6.011911869049072,
          4.162625312805176,
          -6.775109767913818,
          4.168637752532959,
          3.5077290534973145,
          9.243388175964355,
          3.5195252895355225,
          2.49306583404541,
          5.704674243927002,
          2.6488797664642334,
          -8.466290473937988,
          2.5075855255126953,
          9.103472709655762,
          4.432018756866455,
          9.11408519744873,
          6.360500335693359,
          6.03097677230835,
          2.6490697860717773,
          4.501532554626465,
          6.579963684082031,
          7.737440586090088,
          4.944557189941406,
          4.0647292137146,
          9.241860389709473,
          0.5028069615364075,
          2.7959914207458496,
          2.6570167541503906,
          9.238449096679688,
          9.01410961151123,
          3.5430755615234375,
          2.6145591735839844,
          2.695511817932129,
          11.830487251281738,
          8.750682830810547,
          6.118648529052734,
          11.853280067443848,
          3.4953737258911133,
          2.852811574935913,
          -8.927908897399902,
          8.218647956848145,
          0.4925096929073334,
          5.912566184997559,
          2.8616178035736084,
          2.785813570022583,
          2.193321943283081,
          3.6473281383514404,
          2.2848947048187256,
          2.86537504196167,
          2.776200771331787,
          -8.914772987365723,
          3.546539545059204,
          2.8520078659057617,
          -8.529509544372559,
          2.843726396560669,
          9.082752227783203,
          2.5854647159576416,
          2.4836673736572266,
          2.3490817546844482,
          2.4469735622406006,
          2.0036826133728027,
          2.1820690631866455,
          -8.476797103881836,
          2.6387739181518555,
          3.4961416721343994,
          2.489506244659424,
          2.822234869003296,
          3.558544635772705,
          2.7830307483673096,
          2.5256590843200684,
          9.01851749420166,
          9.021164894104004,
          2.6746647357940674,
          9.033330917358398,
          5.810908794403076,
          2.8677265644073486,
          4.8093342781066895,
          0.8909317851066589,
          9.231364250183105,
          8.210098266601562,
          5.850434303283691,
          -6.482288360595703,
          -6.521717548370361,
          9.078035354614258,
          2.7807586193084717,
          -4.440672874450684,
          2.841940402984619,
          9.071612358093262,
          6.100380897521973,
          -8.720243453979492,
          2.5226891040802,
          2.4751434326171875,
          8.787981033325195,
          2.52152943611145,
          9.505810737609863,
          2.466745138168335,
          -8.522244453430176,
          1.7138538360595703,
          3.0903635025024414,
          4.114101409912109,
          4.097662448883057,
          4.563540458679199,
          4.3835015296936035,
          9.198786735534668,
          9.0809907913208,
          8.20362377166748,
          2.2122154235839844,
          0.5072116851806641,
          2.7062668800354004,
          2.5232534408569336,
          8.685714721679688,
          3.590461015701294,
          9.084415435791016,
          2.7380707263946533,
          3.543269634246826,
          3.5363128185272217,
          9.48595905303955,
          8.777860641479492,
          2.3966898918151855,
          -8.620051383972168,
          2.675055503845215,
          3.04137921333313,
          -8.360112190246582,
          9.112178802490234,
          8.89822769165039,
          -8.296528816223145,
          4.555557727813721,
          -7.707571029663086,
          9.498351097106934,
          5.985689163208008,
          2.652052402496338,
          4.858306407928467,
          -5.040370464324951,
          6.109783172607422,
          6.093299388885498,
          6.048739433288574,
          6.130098819732666,
          6.115929126739502,
          6.116278171539307,
          6.129191875457764,
          -8.951780319213867,
          6.26947021484375,
          1.490795612335205,
          1.4449071884155273,
          6.234097480773926,
          6.682552337646484,
          6.167179107666016,
          9.239264488220215,
          6.188371181488037,
          -4.440299034118652,
          6.157702922821045,
          6.192280292510986,
          6.129228591918945,
          6.140671730041504,
          6.12052583694458,
          6.555213451385498,
          6.227139472961426,
          6.126172065734863,
          6.184803485870361,
          6.518285751342773,
          6.197770595550537,
          6.130934715270996,
          1.7055749893188477,
          -5.035222053527832,
          2.980586290359497,
          -7.421600818634033,
          -8.546487808227539,
          13.355887413024902,
          -8.571925163269043,
          -6.9558515548706055,
          -8.728376388549805,
          -7.364346504211426,
          4.894351959228516,
          -7.651961326599121,
          1.2571465969085693,
          -7.2694783210754395,
          -7.400612831115723,
          -7.439203262329102,
          -8.49882984161377,
          -6.814611434936523,
          -6.935155391693115,
          -7.558292865753174,
          -7.023533821105957,
          -7.34852933883667,
          -7.670886993408203,
          2.2111258506774902,
          5.369853496551514,
          2.4837350845336914,
          -4.079774856567383,
          2.442465305328369,
          2.6583712100982666,
          2.6777524948120117,
          -4.441196918487549,
          6.050622940063477,
          2.6536166667938232,
          -1.0945186614990234,
          -5.037295818328857,
          6.137666702270508,
          3.0770668983459473,
          5.487919330596924,
          5.467238903045654,
          5.536565780639648,
          3.066237449645996,
          6.500388145446777,
          5.075136184692383,
          5.124075412750244,
          5.094750881195068,
          1.0893083810806274,
          3.5476670265197754,
          5.437122821807861,
          2.2093400955200195,
          5.771377086639404,
          5.76557731628418,
          5.092670440673828,
          -8.650324821472168,
          5.3676862716674805,
          5.064404010772705,
          17.78630256652832,
          5.499813556671143,
          5.120857238769531,
          17.877492904663086,
          8.273676872253418,
          5.226794719696045,
          5.455745220184326,
          5.565081596374512,
          5.456894874572754,
          5.146860599517822,
          5.491188049316406,
          5.375113010406494,
          2.7985150814056396,
          5.3473100662231445,
          5.532536029815674,
          -4.441868782043457,
          -6.313164234161377,
          5.365721702575684,
          5.380908012390137,
          5.3068084716796875,
          5.390622138977051,
          5.30167818069458,
          6.014906406402588,
          -4.079615116119385,
          -4.079481601715088,
          -6.313211917877197,
          5.106103897094727,
          5.415632724761963,
          -6.90870475769043,
          5.335689544677734,
          5.43960428237915,
          -6.313077926635742,
          5.462588310241699,
          1.1485341787338257,
          5.365994453430176,
          5.468455791473389,
          5.993003845214844,
          5.311275482177734,
          -13.995928764343262,
          2.3595125675201416,
          5.697249889373779,
          17.77378273010254,
          0.4968470633029938,
          5.522769451141357,
          5.2972798347473145,
          -7.001974105834961,
          -6.9948954582214355,
          6.194582939147949,
          4.104496955871582,
          4.493628025054932,
          4.740813732147217,
          4.726747989654541,
          4.539638042449951,
          4.01540994644165,
          5.631739139556885,
          4.475861549377441,
          3.531514883041382,
          3.617783784866333,
          3.528944730758667,
          6.1308064460754395,
          -8.485740661621094,
          -6.528876304626465,
          1.2909295558929443,
          -6.357609272003174,
          4.497799396514893,
          1.2672185897827148,
          1.2655152082443237,
          -6.967204570770264,
          6.109696865081787,
          8.737903594970703,
          20.379501342773438,
          1.2594623565673828,
          -7.867080211639404,
          -6.547290802001953,
          1.3012802600860596,
          -2.4048187732696533,
          10.507906913757324,
          -7.445785999298096,
          4.3929924964904785,
          -2.404850721359253,
          3.531736135482788,
          3.1022703647613525,
          4.859539031982422,
          4.624476432800293,
          -2.401893138885498,
          18.068065643310547,
          4.857433319091797,
          4.468363285064697,
          4.9007568359375,
          -4.079591751098633,
          4.843493461608887,
          4.0968017578125,
          5.655381679534912,
          4.498547554016113,
          4.492825031280518,
          -4.079599857330322,
          18.09236717224121,
          5.564021110534668,
          4.797926425933838,
          3.4826064109802246,
          18.102094650268555,
          -4.0796122550964355,
          1.3032439947128296,
          1.2792869806289673,
          1.1109833717346191,
          -8.485311508178711,
          4.51652717590332,
          15.392912864685059,
          2.0047531127929688,
          -7.3193864822387695,
          2.720653772354126,
          2.305076837539673,
          -7.795313358306885,
          -8.565396308898926,
          -7.829388618469238,
          -7.62185001373291,
          8.283390998840332,
          10.506688117980957,
          -7.328829765319824,
          -8.515894889831543,
          -6.841392993927002,
          2.0569305419921875,
          2.019441604614258,
          -7.575051784515381,
          7.416133880615234,
          9.245182037353516,
          2.0188655853271484,
          4.899496078491211,
          -7.293521881103516,
          8.25537395477295,
          -7.357944011688232,
          -8.732999801635742,
          9.489482879638672,
          -7.555913925170898,
          -7.293583393096924,
          2.0028133392333984,
          -7.51996374130249,
          7.428430557250977,
          10.50842571258545,
          -8.96395206451416,
          8.197956085205078,
          4.372241497039795,
          4.548680305480957,
          2.2104990482330322,
          4.620332717895508,
          3.5050811767578125,
          -8.491204261779785,
          4.42711067199707,
          5.946013450622559,
          9.462442398071289,
          4.4525017738342285,
          -8.395925521850586,
          4.054497718811035,
          -7.344353199005127,
          9.305524826049805,
          1.3191449642181396,
          -7.837435245513916,
          -2.2567663192749023,
          2.208991050720215,
          4.4305243492126465,
          6.012663841247559,
          7.43635368347168,
          2.533461332321167,
          -6.6070027351379395,
          8.080668449401855
         ],
         "yaxis": "y",
         "type": "scattergl"
        },
        {
         "hovertemplate": "label=Moving legs<br>sample=resample<br>emb1=%{x}<br>emb2=%{y}<extra></extra>",
         "legendgroup": "Moving legs",
         "marker": {
          "color": "#ab63fa",
          "symbol": "circle"
         },
         "mode": "markers",
         "name": "Moving legs",
         "showlegend": false,
         "x": [
          -1.9555000066757202,
          11.0015230178833,
          13.921403884887695,
          3.31744647026062
         ],
         "xaxis": "x2",
         "y": [
          -1.3207390308380127,
          17.849416732788086,
          5.7788591384887695,
          16.58620834350586
         ],
         "yaxis": "y2",
         "type": "scattergl"
        },
        {
         "hovertemplate": "label=Moving legs+Playing wobjects<br>sample=all<br>emb1=%{x}<br>emb2=%{y}<extra></extra>",
         "legendgroup": "Moving legs+Playing wobjects",
         "marker": {
          "color": "#FFA15A",
          "symbol": "circle"
         },
         "mode": "markers",
         "name": "Moving legs+Playing wobjects",
         "showlegend": true,
         "x": [
          -4.954648017883301
         ],
         "xaxis": "x",
         "y": [
          12.028168678283691
         ],
         "yaxis": "y",
         "type": "scattergl"
        },
        {
         "hovertemplate": "label=Moving legs+Playing wobjects<br>sample=resample<br>emb1=%{x}<br>emb2=%{y}<extra></extra>",
         "legendgroup": "Moving legs+Playing wobjects",
         "marker": {
          "color": "#FFA15A",
          "symbol": "circle"
         },
         "mode": "markers",
         "name": "Moving legs+Playing wobjects",
         "showlegend": false,
         "x": [
          -4.954648017883301
         ],
         "xaxis": "x2",
         "y": [
          12.028168678283691
         ],
         "yaxis": "y2",
         "type": "scattergl"
        },
        {
         "hovertemplate": "label=Moving legs+Pulling collar<br>sample=all<br>emb1=%{x}<br>emb2=%{y}<extra></extra>",
         "legendgroup": "Moving legs+Pulling collar",
         "marker": {
          "color": "#19d3f3",
          "symbol": "circle"
         },
         "mode": "markers",
         "name": "Moving legs+Pulling collar",
         "showlegend": true,
         "x": [
          10.862894058227539
         ],
         "xaxis": "x",
         "y": [
          12.812108993530273
         ],
         "yaxis": "y",
         "type": "scattergl"
        },
        {
         "hovertemplate": "label=Moving legs+Pulling collar<br>sample=resample<br>emb1=%{x}<br>emb2=%{y}<extra></extra>",
         "legendgroup": "Moving legs+Pulling collar",
         "marker": {
          "color": "#19d3f3",
          "symbol": "circle"
         },
         "mode": "markers",
         "name": "Moving legs+Pulling collar",
         "showlegend": false,
         "x": [
          10.862894058227539
         ],
         "xaxis": "x2",
         "y": [
          12.812108993530273
         ],
         "yaxis": "y2",
         "type": "scattergl"
        },
        {
         "hovertemplate": "label=Moving legs+Rubbing face<br>sample=all<br>emb1=%{x}<br>emb2=%{y}<extra></extra>",
         "legendgroup": "Moving legs+Rubbing face",
         "marker": {
          "color": "#FF6692",
          "symbol": "circle"
         },
         "mode": "markers",
         "name": "Moving legs+Rubbing face",
         "showlegend": true,
         "x": [
          7.5053181648254395
         ],
         "xaxis": "x",
         "y": [
          -1.8653557300567627
         ],
         "yaxis": "y",
         "type": "scattergl"
        },
        {
         "hovertemplate": "label=Moving legs+Rubbing face<br>sample=resample<br>emb1=%{x}<br>emb2=%{y}<extra></extra>",
         "legendgroup": "Moving legs+Rubbing face",
         "marker": {
          "color": "#FF6692",
          "symbol": "circle"
         },
         "mode": "markers",
         "name": "Moving legs+Rubbing face",
         "showlegend": false,
         "x": [
          7.5053181648254395
         ],
         "xaxis": "x2",
         "y": [
          -1.8653557300567627
         ],
         "yaxis": "y2",
         "type": "scattergl"
        },
        {
         "hovertemplate": "label=Moving legs+Rubbing hands<br>sample=all<br>emb1=%{x}<br>emb2=%{y}<extra></extra>",
         "legendgroup": "Moving legs+Rubbing hands",
         "marker": {
          "color": "#B6E880",
          "symbol": "circle"
         },
         "mode": "markers",
         "name": "Moving legs+Rubbing hands",
         "showlegend": true,
         "x": [
          12.019689559936523,
          8.542949676513672,
          -4.424313068389893,
          -10.238629341125488,
          -10.23844051361084,
          12.012858390808105,
          12.016690254211426,
          3.370253086090088,
          -5.072395324707031,
          12.523849487304688,
          3.5412886142730713
         ],
         "xaxis": "x",
         "y": [
          -6.952585697174072,
          1.5075868368148804,
          -3.3368637561798096,
          5.74088191986084,
          5.7497172355651855,
          -6.962929725646973,
          -6.95868444442749,
          14.83751392364502,
          -3.225947618484497,
          -6.439975261688232,
          14.518745422363281
         ],
         "yaxis": "y",
         "type": "scattergl"
        },
        {
         "hovertemplate": "label=Moving legs+Rubbing hands<br>sample=resample<br>emb1=%{x}<br>emb2=%{y}<extra></extra>",
         "legendgroup": "Moving legs+Rubbing hands",
         "marker": {
          "color": "#B6E880",
          "symbol": "circle"
         },
         "mode": "markers",
         "name": "Moving legs+Rubbing hands",
         "showlegend": false,
         "x": [
          8.542949676513672
         ],
         "xaxis": "x2",
         "y": [
          1.5075868368148804
         ],
         "yaxis": "y2",
         "type": "scattergl"
        },
        {
         "hovertemplate": "label=Moving legs+Scratching body<br>sample=all<br>emb1=%{x}<br>emb2=%{y}<extra></extra>",
         "legendgroup": "Moving legs+Scratching body",
         "marker": {
          "color": "#FF97FF",
          "symbol": "circle"
         },
         "mode": "markers",
         "name": "Moving legs+Scratching body",
         "showlegend": true,
         "x": [
          -5.2588911056518555,
          -5.218567371368408,
          -5.253807067871094
         ],
         "xaxis": "x",
         "y": [
          5.034909725189209,
          0.5659915208816528,
          5.035499572753906
         ],
         "yaxis": "y",
         "type": "scattergl"
        },
        {
         "hovertemplate": "label=Moving legs+Scratching body<br>sample=resample<br>emb1=%{x}<br>emb2=%{y}<extra></extra>",
         "legendgroup": "Moving legs+Scratching body",
         "marker": {
          "color": "#FF97FF",
          "symbol": "circle"
         },
         "mode": "markers",
         "name": "Moving legs+Scratching body",
         "showlegend": false,
         "x": [
          -5.218567371368408
         ],
         "xaxis": "x2",
         "y": [
          0.5659915208816528
         ],
         "yaxis": "y2",
         "type": "scattergl"
        },
        {
         "hovertemplate": "label=Moving legs+Scratching neck<br>sample=all<br>emb1=%{x}<br>emb2=%{y}<extra></extra>",
         "legendgroup": "Moving legs+Scratching neck",
         "marker": {
          "color": "#FECB52",
          "symbol": "circle"
         },
         "mode": "markers",
         "name": "Moving legs+Scratching neck",
         "showlegend": true,
         "x": [
          4.764883518218994
         ],
         "xaxis": "x",
         "y": [
          -12.375739097595215
         ],
         "yaxis": "y",
         "type": "scattergl"
        },
        {
         "hovertemplate": "label=Moving legs+Scratching neck<br>sample=resample<br>emb1=%{x}<br>emb2=%{y}<extra></extra>",
         "legendgroup": "Moving legs+Scratching neck",
         "marker": {
          "color": "#FECB52",
          "symbol": "circle"
         },
         "mode": "markers",
         "name": "Moving legs+Scratching neck",
         "showlegend": false,
         "x": [
          4.764883518218994
         ],
         "xaxis": "x2",
         "y": [
          -12.375739097595215
         ],
         "yaxis": "y2",
         "type": "scattergl"
        },
        {
         "hovertemplate": "label=Moving legs+Touching face<br>sample=all<br>emb1=%{x}<br>emb2=%{y}<extra></extra>",
         "legendgroup": "Moving legs+Touching face",
         "marker": {
          "color": "#636efa",
          "symbol": "circle"
         },
         "mode": "markers",
         "name": "Moving legs+Touching face",
         "showlegend": true,
         "x": [
          6.769167423248291,
          -11.88167953491211,
          -4.095226764678955,
          -4.094533443450928,
          -12.152364730834961,
          -4.095146179199219,
          11.069074630737305,
          -14.139222145080566
         ],
         "xaxis": "x",
         "y": [
          3.076453685760498,
          -2.269364833831787,
          -7.283150672912598,
          -7.282728672027588,
          -2.489856481552124,
          -7.282864093780518,
          17.78066635131836,
          -4.079707145690918
         ],
         "yaxis": "y",
         "type": "scattergl"
        },
        {
         "hovertemplate": "label=Moving legs+Touching face<br>sample=resample<br>emb1=%{x}<br>emb2=%{y}<extra></extra>",
         "legendgroup": "Moving legs+Touching face",
         "marker": {
          "color": "#636efa",
          "symbol": "circle"
         },
         "mode": "markers",
         "name": "Moving legs+Touching face",
         "showlegend": false,
         "x": [
          11.069074630737305,
          6.769167423248291
         ],
         "xaxis": "x2",
         "y": [
          17.78066635131836,
          3.076453685760498
         ],
         "yaxis": "y2",
         "type": "scattergl"
        },
        {
         "hovertemplate": "label=Moving legs+Touching nose<br>sample=all<br>emb1=%{x}<br>emb2=%{y}<extra></extra>",
         "legendgroup": "Moving legs+Touching nose",
         "marker": {
          "color": "#EF553B",
          "symbol": "circle"
         },
         "mode": "markers",
         "name": "Moving legs+Touching nose",
         "showlegend": true,
         "x": [
          15.678452491760254
         ],
         "xaxis": "x",
         "y": [
          -0.4021276831626892
         ],
         "yaxis": "y",
         "type": "scattergl"
        },
        {
         "hovertemplate": "label=Moving legs+Touching nose<br>sample=resample<br>emb1=%{x}<br>emb2=%{y}<extra></extra>",
         "legendgroup": "Moving legs+Touching nose",
         "marker": {
          "color": "#EF553B",
          "symbol": "circle"
         },
         "mode": "markers",
         "name": "Moving legs+Touching nose",
         "showlegend": false,
         "x": [
          15.678452491760254
         ],
         "xaxis": "x2",
         "y": [
          -0.4021276831626892
         ],
         "yaxis": "y2",
         "type": "scattergl"
        },
        {
         "hovertemplate": "label=Moving legs+Turtling neck<br>sample=all<br>emb1=%{x}<br>emb2=%{y}<extra></extra>",
         "legendgroup": "Moving legs+Turtling neck",
         "marker": {
          "color": "#00cc96",
          "symbol": "circle"
         },
         "mode": "markers",
         "name": "Moving legs+Turtling neck",
         "showlegend": true,
         "x": [
          -3.0886292457580566
         ],
         "xaxis": "x",
         "y": [
          -4.4406418800354
         ],
         "yaxis": "y",
         "type": "scattergl"
        },
        {
         "hovertemplate": "label=Moving legs+Turtling neck<br>sample=resample<br>emb1=%{x}<br>emb2=%{y}<extra></extra>",
         "legendgroup": "Moving legs+Turtling neck",
         "marker": {
          "color": "#00cc96",
          "symbol": "circle"
         },
         "mode": "markers",
         "name": "Moving legs+Turtling neck",
         "showlegend": false,
         "x": [
          -3.0886292457580566
         ],
         "xaxis": "x2",
         "y": [
          -4.4406418800354
         ],
         "yaxis": "y2",
         "type": "scattergl"
        },
        {
         "hovertemplate": "label=Playing wobjects<br>sample=all<br>emb1=%{x}<br>emb2=%{y}<extra></extra>",
         "legendgroup": "Playing wobjects",
         "marker": {
          "color": "#ab63fa",
          "symbol": "circle"
         },
         "mode": "markers",
         "name": "Playing wobjects",
         "showlegend": true,
         "x": [
          -4.9386186599731445,
          -1.9358569383621216,
          -4.81591272354126,
          -4.924765110015869,
          9.88964557647705,
          -4.941856861114502,
          -4.9437479972839355,
          -4.890049934387207,
          1.4454666376113892,
          -4.940744400024414,
          -4.8146820068359375,
          -4.898467540740967,
          -4.821358680725098,
          -4.947360515594482,
          -4.837501525878906,
          -4.850004196166992,
          -11.040814399719238,
          -4.960461616516113,
          10.081899642944336,
          -3.448470115661621,
          0.312513530254364,
          -4.978393077850342,
          -4.925534248352051,
          0.6540771126747131
         ],
         "xaxis": "x",
         "y": [
          12.062408447265625,
          -1.301552414894104,
          12.350129127502441,
          12.148200035095215,
          -7.6837263107299805,
          12.08979606628418,
          12.120991706848145,
          12.201745986938477,
          7.948397636413574,
          12.05141830444336,
          12.338105201721191,
          12.019203186035156,
          12.31930923461914,
          12.068690299987793,
          12.289782524108887,
          12.266036033630371,
          9.514707565307617,
          12.092161178588867,
          7.708461284637451,
          3.0763304233551025,
          7.280386924743652,
          11.894819259643555,
          12.047412872314453,
          8.009472846984863
         ],
         "yaxis": "y",
         "type": "scattergl"
        },
        {
         "hovertemplate": "label=Playing wobjects<br>sample=resample<br>emb1=%{x}<br>emb2=%{y}<extra></extra>",
         "legendgroup": "Playing wobjects",
         "marker": {
          "color": "#ab63fa",
          "symbol": "circle"
         },
         "mode": "markers",
         "name": "Playing wobjects",
         "showlegend": false,
         "x": [
          10.081899642944336,
          -11.040814399719238
         ],
         "xaxis": "x2",
         "y": [
          7.708461284637451,
          9.514707565307617
         ],
         "yaxis": "y2",
         "type": "scattergl"
        },
        {
         "hovertemplate": "label=Playing wobjects+Rubbing face<br>sample=all<br>emb1=%{x}<br>emb2=%{y}<extra></extra>",
         "legendgroup": "Playing wobjects+Rubbing face",
         "marker": {
          "color": "#FFA15A",
          "symbol": "circle"
         },
         "mode": "markers",
         "name": "Playing wobjects+Rubbing face",
         "showlegend": true,
         "x": [
          -4.94524621963501,
          1.5181347131729126
         ],
         "xaxis": "x",
         "y": [
          12.048929214477539,
          0.23397912085056305
         ],
         "yaxis": "y",
         "type": "scattergl"
        },
        {
         "hovertemplate": "label=Playing wobjects+Rubbing face<br>sample=resample<br>emb1=%{x}<br>emb2=%{y}<extra></extra>",
         "legendgroup": "Playing wobjects+Rubbing face",
         "marker": {
          "color": "#FFA15A",
          "symbol": "circle"
         },
         "mode": "markers",
         "name": "Playing wobjects+Rubbing face",
         "showlegend": false,
         "x": [
          1.5181347131729126
         ],
         "xaxis": "x2",
         "y": [
          0.23397912085056305
         ],
         "yaxis": "y2",
         "type": "scattergl"
        },
        {
         "hovertemplate": "label=Playing wobjects+Rubbing hands<br>sample=all<br>emb1=%{x}<br>emb2=%{y}<extra></extra>",
         "legendgroup": "Playing wobjects+Rubbing hands",
         "marker": {
          "color": "#19d3f3",
          "symbol": "circle"
         },
         "mode": "markers",
         "name": "Playing wobjects+Rubbing hands",
         "showlegend": true,
         "x": [
          -5.61517333984375,
          7.957730293273926,
          -5.207651615142822,
          8.95028018951416
         ],
         "xaxis": "x",
         "y": [
          -2.2567005157470703,
          -0.35624125599861145,
          5.064508438110352,
          -9.502948760986328
         ],
         "yaxis": "y",
         "type": "scattergl"
        },
        {
         "hovertemplate": "label=Playing wobjects+Rubbing hands<br>sample=resample<br>emb1=%{x}<br>emb2=%{y}<extra></extra>",
         "legendgroup": "Playing wobjects+Rubbing hands",
         "marker": {
          "color": "#19d3f3",
          "symbol": "circle"
         },
         "mode": "markers",
         "name": "Playing wobjects+Rubbing hands",
         "showlegend": false,
         "x": [
          -5.61517333984375
         ],
         "xaxis": "x2",
         "y": [
          -2.2567005157470703
         ],
         "yaxis": "y2",
         "type": "scattergl"
        },
        {
         "hovertemplate": "label=Playing wobjects+Turtling neck<br>sample=all<br>emb1=%{x}<br>emb2=%{y}<extra></extra>",
         "legendgroup": "Playing wobjects+Turtling neck",
         "marker": {
          "color": "#FF6692",
          "symbol": "circle"
         },
         "mode": "markers",
         "name": "Playing wobjects+Turtling neck",
         "showlegend": true,
         "x": [
          -4.909994602203369
         ],
         "xaxis": "x",
         "y": [
          12.16519546508789
         ],
         "yaxis": "y",
         "type": "scattergl"
        },
        {
         "hovertemplate": "label=Playing wobjects+Turtling neck<br>sample=resample<br>emb1=%{x}<br>emb2=%{y}<extra></extra>",
         "legendgroup": "Playing wobjects+Turtling neck",
         "marker": {
          "color": "#FF6692",
          "symbol": "circle"
         },
         "mode": "markers",
         "name": "Playing wobjects+Turtling neck",
         "showlegend": false,
         "x": [
          -4.909994602203369
         ],
         "xaxis": "x2",
         "y": [
          12.16519546508789
         ],
         "yaxis": "y2",
         "type": "scattergl"
        },
        {
         "hovertemplate": "label=Pulling collar<br>sample=all<br>emb1=%{x}<br>emb2=%{y}<extra></extra>",
         "legendgroup": "Pulling collar",
         "marker": {
          "color": "#B6E880",
          "symbol": "circle"
         },
         "mode": "markers",
         "name": "Pulling collar",
         "showlegend": true,
         "x": [
          16.356647491455078,
          16.355270385742188,
          4.918761253356934,
          16.373851776123047,
          16.354707717895508,
          16.35619354248047,
          16.32426643371582,
          16.361425399780273
         ],
         "xaxis": "x",
         "y": [
          10.329476356506348,
          10.33092212677002,
          -12.384387016296387,
          10.312374114990234,
          10.331482887268066,
          10.329855918884277,
          10.361157417297363,
          10.324175834655762
         ],
         "yaxis": "y",
         "type": "scattergl"
        },
        {
         "hovertemplate": "label=Pulling collar<br>sample=resample<br>emb1=%{x}<br>emb2=%{y}<extra></extra>",
         "legendgroup": "Pulling collar",
         "marker": {
          "color": "#B6E880",
          "symbol": "circle"
         },
         "mode": "markers",
         "name": "Pulling collar",
         "showlegend": false,
         "x": [
          4.918761253356934
         ],
         "xaxis": "x2",
         "y": [
          -12.384387016296387
         ],
         "yaxis": "y2",
         "type": "scattergl"
        },
        {
         "hovertemplate": "label=Pulling collar+Rubbing hands<br>sample=all<br>emb1=%{x}<br>emb2=%{y}<extra></extra>",
         "legendgroup": "Pulling collar+Rubbing hands",
         "marker": {
          "color": "#FF97FF",
          "symbol": "circle"
         },
         "mode": "markers",
         "name": "Pulling collar+Rubbing hands",
         "showlegend": true,
         "x": [
          -10.429397583007812
         ],
         "xaxis": "x",
         "y": [
          0.679246187210083
         ],
         "yaxis": "y",
         "type": "scattergl"
        },
        {
         "hovertemplate": "label=Pulling collar+Rubbing hands<br>sample=resample<br>emb1=%{x}<br>emb2=%{y}<extra></extra>",
         "legendgroup": "Pulling collar+Rubbing hands",
         "marker": {
          "color": "#FF97FF",
          "symbol": "circle"
         },
         "mode": "markers",
         "name": "Pulling collar+Rubbing hands",
         "showlegend": false,
         "x": [
          -10.429397583007812
         ],
         "xaxis": "x2",
         "y": [
          0.679246187210083
         ],
         "yaxis": "y2",
         "type": "scattergl"
        },
        {
         "hovertemplate": "label=Pulling collar+Scratching neck<br>sample=all<br>emb1=%{x}<br>emb2=%{y}<extra></extra>",
         "legendgroup": "Pulling collar+Scratching neck",
         "marker": {
          "color": "#FECB52",
          "symbol": "circle"
         },
         "mode": "markers",
         "name": "Pulling collar+Scratching neck",
         "showlegend": true,
         "x": [
          16.383193969726562
         ],
         "xaxis": "x",
         "y": [
          10.305262565612793
         ],
         "yaxis": "y",
         "type": "scattergl"
        },
        {
         "hovertemplate": "label=Pulling collar+Scratching neck<br>sample=resample<br>emb1=%{x}<br>emb2=%{y}<extra></extra>",
         "legendgroup": "Pulling collar+Scratching neck",
         "marker": {
          "color": "#FECB52",
          "symbol": "circle"
         },
         "mode": "markers",
         "name": "Pulling collar+Scratching neck",
         "showlegend": false,
         "x": [
          16.383193969726562
         ],
         "xaxis": "x2",
         "y": [
          10.305262565612793
         ],
         "yaxis": "y2",
         "type": "scattergl"
        },
        {
         "hovertemplate": "label=Rubbing face<br>sample=all<br>emb1=%{x}<br>emb2=%{y}<extra></extra>",
         "legendgroup": "Rubbing face",
         "marker": {
          "color": "#636efa",
          "symbol": "circle"
         },
         "mode": "markers",
         "name": "Rubbing face",
         "showlegend": true,
         "x": [
          -11.81482982635498,
          8.07885456085205,
          -11.852418899536133,
          -1.225732684135437,
          1.494662880897522,
          8.456077575683594,
          7.923036575317383,
          -8.345675468444824,
          -8.341569900512695,
          9.1724271774292,
          7.77625846862793,
          7.431890487670898,
          7.86055850982666,
          -7.777858257293701,
          10.133017539978027,
          1.5629689693450928,
          7.928438186645508,
          8.454757690429688,
          10.13814640045166,
          -11.854548454284668,
          7.779618263244629,
          -3.571028232574463,
          1.5816744565963745,
          1.4975669384002686,
          -11.832573890686035,
          1.5436149835586548,
          1.5534632205963135,
          7.72984504699707,
          13.921635627746582,
          7.754818916320801,
          5.150481700897217,
          1.502089023590088,
          -12.179832458496094,
          7.9606852531433105,
          -11.857741355895996,
          7.430324077606201
         ],
         "xaxis": "x",
         "y": [
          -2.2065165042877197,
          -2.288656234741211,
          -2.2430620193481445,
          21.129653930664062,
          0.21436670422554016,
          16.500627517700195,
          -1.8570204973220825,
          -10.045520782470703,
          -10.042217254638672,
          -2.1445188522338867,
          -1.9685440063476562,
          -7.211274147033691,
          -1.962354302406311,
          -1.1599678993225098,
          1.8081133365631104,
          0.2713964283466339,
          -1.832522988319397,
          16.499074935913086,
          1.8059285879135132,
          -2.2425625324249268,
          -1.9577257633209229,
          14.366400718688965,
          0.28990447521209717,
          0.21644224226474762,
          -2.2199888229370117,
          0.25240933895111084,
          0.26162463426589966,
          -1.9381977319717407,
          5.779509544372559,
          -1.9462381601333618,
          -6.4626078605651855,
          0.2194325476884842,
          10.286748886108398,
          -1.801648736000061,
          -2.2460415363311768,
          -7.208848476409912
         ],
         "yaxis": "y",
         "type": "scattergl"
        },
        {
         "hovertemplate": "label=Rubbing face<br>sample=resample<br>emb1=%{x}<br>emb2=%{y}<extra></extra>",
         "legendgroup": "Rubbing face",
         "marker": {
          "color": "#636efa",
          "symbol": "circle"
         },
         "mode": "markers",
         "name": "Rubbing face",
         "showlegend": false,
         "x": [
          -7.777858257293701,
          13.921635627746582,
          -12.179832458496094
         ],
         "xaxis": "x2",
         "y": [
          -1.1599678993225098,
          5.779509544372559,
          10.286748886108398
         ],
         "yaxis": "y2",
         "type": "scattergl"
        },
        {
         "hovertemplate": "label=Rubbing face+Rubbing hands<br>sample=all<br>emb1=%{x}<br>emb2=%{y}<extra></extra>",
         "legendgroup": "Rubbing face+Rubbing hands",
         "marker": {
          "color": "#EF553B",
          "symbol": "circle"
         },
         "mode": "markers",
         "name": "Rubbing face+Rubbing hands",
         "showlegend": true,
         "x": [
          12.326711654663086,
          -17.75043487548828,
          -17.750415802001953,
          -3.538986921310425,
          8.576082229614258,
          -17.740867614746094,
          -17.750314712524414,
          7.852619647979736,
          -17.750410079956055
         ],
         "xaxis": "x",
         "y": [
          -6.555612087249756,
          -2.0349977016448975,
          -2.035635232925415,
          11.949121475219727,
          1.9310685396194458,
          -2.022319793701172,
          -2.0355215072631836,
          -2.018289804458618,
          -2.0351338386535645
         ],
         "yaxis": "y",
         "type": "scattergl"
        },
        {
         "hovertemplate": "label=Rubbing face+Rubbing hands<br>sample=resample<br>emb1=%{x}<br>emb2=%{y}<extra></extra>",
         "legendgroup": "Rubbing face+Rubbing hands",
         "marker": {
          "color": "#EF553B",
          "symbol": "circle"
         },
         "mode": "markers",
         "name": "Rubbing face+Rubbing hands",
         "showlegend": false,
         "x": [
          12.326711654663086
         ],
         "xaxis": "x2",
         "y": [
          -6.555612087249756
         ],
         "yaxis": "y2",
         "type": "scattergl"
        },
        {
         "hovertemplate": "label=Rubbing face+Scratching neck<br>sample=all<br>emb1=%{x}<br>emb2=%{y}<extra></extra>",
         "legendgroup": "Rubbing face+Scratching neck",
         "marker": {
          "color": "#00cc96",
          "symbol": "circle"
         },
         "mode": "markers",
         "name": "Rubbing face+Scratching neck",
         "showlegend": true,
         "x": [
          9.236016273498535
         ],
         "xaxis": "x",
         "y": [
          -4.065546035766602
         ],
         "yaxis": "y",
         "type": "scattergl"
        },
        {
         "hovertemplate": "label=Rubbing face+Scratching neck<br>sample=resample<br>emb1=%{x}<br>emb2=%{y}<extra></extra>",
         "legendgroup": "Rubbing face+Scratching neck",
         "marker": {
          "color": "#00cc96",
          "symbol": "circle"
         },
         "mode": "markers",
         "name": "Rubbing face+Scratching neck",
         "showlegend": false,
         "x": [
          9.236016273498535
         ],
         "xaxis": "x2",
         "y": [
          -4.065546035766602
         ],
         "yaxis": "y2",
         "type": "scattergl"
        },
        {
         "hovertemplate": "label=Rubbing face+Touching face<br>sample=all<br>emb1=%{x}<br>emb2=%{y}<extra></extra>",
         "legendgroup": "Rubbing face+Touching face",
         "marker": {
          "color": "#ab63fa",
          "symbol": "circle"
         },
         "mode": "markers",
         "name": "Rubbing face+Touching face",
         "showlegend": true,
         "x": [
          -11.022818565368652,
          7.433626174926758,
          1.5823243856430054,
          -11.733378410339355,
          -12.20509147644043
         ],
         "xaxis": "x",
         "y": [
          9.509674072265625,
          -7.215654373168945,
          0.2857152223587036,
          -2.1290345191955566,
          -2.5338478088378906
         ],
         "yaxis": "y",
         "type": "scattergl"
        },
        {
         "hovertemplate": "label=Rubbing face+Touching face<br>sample=resample<br>emb1=%{x}<br>emb2=%{y}<extra></extra>",
         "legendgroup": "Rubbing face+Touching face",
         "marker": {
          "color": "#ab63fa",
          "symbol": "circle"
         },
         "mode": "markers",
         "name": "Rubbing face+Touching face",
         "showlegend": false,
         "x": [
          -11.733378410339355
         ],
         "xaxis": "x2",
         "y": [
          -2.1290345191955566
         ],
         "yaxis": "y2",
         "type": "scattergl"
        },
        {
         "hovertemplate": "label=Rubbing hands<br>sample=all<br>emb1=%{x}<br>emb2=%{y}<extra></extra>",
         "legendgroup": "Rubbing hands",
         "marker": {
          "color": "#FFA15A",
          "symbol": "circle"
         },
         "mode": "markers",
         "name": "Rubbing hands",
         "showlegend": true,
         "x": [
          -4.851896286010742,
          8.07352352142334,
          12.04572868347168,
          7.996546745300293,
          -4.951816082000732,
          4.189560890197754,
          3.958699941635132,
          4.182573318481445,
          -5.07780122756958,
          -5.613032341003418,
          -4.399391174316406,
          -5.159669399261475,
          -4.9940505027771,
          7.4173102378845215,
          -5.102738857269287,
          4.171067714691162,
          4.220395088195801,
          -5.148542881011963,
          -5.068562984466553,
          4.329192638397217,
          4.160005569458008,
          -5.783045768737793,
          -5.112587928771973,
          -4.843327045440674,
          -5.023449420928955,
          -5.089221954345703,
          4.168267250061035,
          3.9156250953674316,
          4.1802167892456055,
          3.8903915882110596,
          -5.130666732788086,
          -4.666271209716797,
          -5.087440490722656,
          -5.129307746887207,
          -5.324767112731934,
          -5.297234535217285,
          -5.07797908782959,
          -5.714498996734619,
          -5.1151862144470215,
          -5.05559778213501,
          -4.67427921295166,
          4.263203144073486,
          -5.155667781829834,
          -1.946586012840271,
          4.182278633117676,
          3.8867757320404053,
          8.001306533813477,
          -5.641766548156738,
          -5.330303192138672,
          -5.144713401794434,
          -4.322384357452393,
          -5.321845531463623,
          -5.1186017990112305,
          -5.134367942810059,
          -5.078763008117676,
          -8.857121467590332,
          -6.30173397064209,
          -5.42318868637085,
          -4.332168102264404,
          -5.579354286193848,
          -5.6368536949157715,
          -5.624375343322754,
          -10.404840469360352,
          -10.402790069580078,
          -10.404577255249023,
          -6.856465816497803,
          12.346390724182129,
          -4.96246862411499,
          -7.770435333251953,
          -8.371268272399902,
          12.577446937561035,
          -8.273438453674316,
          -8.612863540649414,
          4.596817970275879,
          -7.763111114501953,
          -5.530138969421387,
          -10.434503555297852,
          -5.744787216186523,
          -5.582202911376953,
          14.019227027893066,
          -11.536578178405762,
          -8.205571174621582,
          -5.709609508514404,
          -10.42888355255127,
          -10.669569969177246,
          -8.184037208557129,
          -8.593751907348633,
          -8.629396438598633,
          -8.564909934997559,
          -8.239763259887695,
          -8.227861404418945,
          -4.328022003173828,
          4.176321983337402,
          -5.584786415100098,
          -5.5134124755859375,
          -5.187580585479736,
          -6.458543300628662,
          -5.560879230499268,
          -6.793398857116699,
          -5.558952808380127,
          -5.303866863250732,
          -6.6429877281188965,
          -5.502310752868652,
          14.048072814941406,
          -6.378820419311523,
          7.989301681518555,
          -10.421067237854004,
          -5.051846027374268,
          -5.485661506652832,
          -6.290050029754639,
          -8.321332931518555,
          -6.965989589691162,
          -6.95342493057251,
          -6.9472975730896,
          -8.373573303222656,
          -8.387846946716309,
          -5.373071193695068,
          -10.120095252990723,
          -6.435669898986816,
          -6.321520805358887,
          -6.371400833129883,
          -10.39328384399414,
          -6.8653669357299805,
          -6.928713321685791,
          -8.362401008605957,
          -7.807485103607178,
          -8.14571762084961,
          -8.353331565856934,
          -8.252930641174316,
          -5.756737232208252,
          -6.906877517700195,
          -7.789715766906738,
          -8.111942291259766,
          -7.774324417114258,
          -7.830205917358398,
          -6.924070835113525,
          -8.031754493713379,
          -6.261745929718018,
          -5.878938674926758,
          -8.370356559753418,
          3.8159048557281494,
          -5.7298903465271,
          -4.868200778961182,
          -5.078357696533203,
          -5.06469202041626,
          -4.99107027053833,
          4.173909664154053,
          -4.885105609893799,
          -4.978482723236084,
          8.0404052734375,
          -4.8529791831970215,
          -4.226141452789307,
          -5.115726470947266,
          3.520958185195923,
          7.996154308319092,
          -4.12210750579834,
          8.32374095916748,
          12.042291641235352,
          4.588196277618408,
          4.579646110534668,
          3.9057607650756836,
          -8.85791015625,
          4.3376054763793945,
          -5.196334362030029,
          12.042152404785156,
          4.166438579559326,
          3.8810348510742188,
          7.997471809387207,
          7.970069885253906,
          4.595739364624023,
          -8.857874870300293,
          12.064081192016602,
          4.3171210289001465,
          -4.951398849487305,
          4.032161235809326,
          -4.170696258544922,
          -4.144805431365967,
          -5.1472930908203125,
          -5.031301021575928,
          -4.152468204498291,
          -4.324164390563965,
          -5.061243057250977,
          -4.202127933502197,
          8.028861999511719,
          -5.00482702255249,
          12.045804977416992,
          12.330280303955078,
          4.068049430847168,
          7.980711460113525,
          -5.113224506378174,
          4.3607048988342285,
          -4.302518367767334,
          -12.620582580566406,
          -5.113945960998535,
          12.527711868286133,
          -4.9678263664245605,
          12.325104713439941,
          12.559368133544922,
          12.113859176635742,
          12.082649230957031,
          -4.2017083168029785,
          -4.173391819000244,
          4.268687725067139,
          3.5576958656311035,
          -4.542821407318115,
          3.957371234893799,
          4.341793537139893,
          4.078709602355957,
          7.9911370277404785,
          4.34138822555542,
          4.564102649688721,
          12.121135711669922,
          -4.9256720542907715,
          -1.9409542083740234,
          -10.41850471496582,
          -5.720953464508057,
          -4.158476829528809,
          4.097911357879639,
          -5.0876545906066895,
          8.535720825195312,
          -5.022858619689941,
          3.87966251373291,
          4.556835174560547,
          -6.674862861633301,
          3.870307207107544,
          -4.861520767211914,
          2.64965558052063,
          -5.326443195343018,
          8.561870574951172,
          4.064562797546387
         ],
         "xaxis": "x",
         "y": [
          -3.4111430644989014,
          -0.269266277551651,
          -6.651517391204834,
          -0.3162223994731903,
          -4.389518737792969,
          13.1052827835083,
          14.018332481384277,
          13.133695602416992,
          -4.430240154266357,
          -3.0296247005462646,
          -3.350559949874878,
          -4.530317306518555,
          -3.201777458190918,
          -1.8448779582977295,
          -4.417318344116211,
          13.141225814819336,
          13.067426681518555,
          -4.512581825256348,
          -4.402518272399902,
          14.153964042663574,
          13.133479118347168,
          -2.825957775115967,
          -3.638288736343384,
          -2.7333579063415527,
          -4.3868865966796875,
          -3.7741167545318604,
          13.12928295135498,
          13.95562744140625,
          13.112308502197266,
          13.927193641662598,
          -3.7758264541625977,
          -3.3589375019073486,
          -3.2629199028015137,
          -3.8550608158111572,
          -4.726300239562988,
          -4.6937479972839355,
          -4.422364234924316,
          1.3561375141143799,
          -3.835103750228882,
          -3.700716257095337,
          -3.379379987716675,
          14.13595962524414,
          -3.9693963527679443,
          -1.3147456645965576,
          13.108628273010254,
          13.996641159057617,
          -0.31394079327583313,
          8.132589340209961,
          -4.730860233306885,
          -4.002055644989014,
          -3.063570261001587,
          -4.714369773864746,
          -3.8117003440856934,
          -3.9604454040527344,
          -4.415045261383057,
          15.840423583984375,
          -2.3751211166381836,
          -2.7147834300994873,
          -3.057027578353882,
          -3.049321174621582,
          -2.4183614253997803,
          -2.336472749710083,
          0.6559675335884094,
          0.6553674340248108,
          0.6569837331771851,
          -2.0805575847625732,
          -6.553009033203125,
          -2.8393399715423584,
          -1.1650487184524536,
          -0.9721547365188599,
          -6.398595333099365,
          -9.973356246948242,
          -0.530936598777771,
          14.26494312286377,
          -1.1712589263916016,
          -3.1064364910125732,
          0.6891632676124573,
          -2.5717530250549316,
          -2.94339919090271,
          4.372233867645264,
          9.579020500183105,
          -9.90451431274414,
          -2.938094139099121,
          0.6803457140922546,
          9.629789352416992,
          -1.0478386878967285,
          -0.5676863193511963,
          -0.518730103969574,
          -0.6048691868782043,
          -9.939323425292969,
          -9.92795181274414,
          -3.074190616607666,
          13.115675926208496,
          -3.038001775741577,
          -2.836430072784424,
          -2.8450376987457275,
          -2.327950954437256,
          -2.972637891769409,
          -2.1132140159606934,
          -3.102278232574463,
          -2.758880138397217,
          -2.2098591327667236,
          -2.6000146865844727,
          4.347464084625244,
          -2.308661699295044,
          -0.3249530494213104,
          0.6720874905586243,
          -3.6984405517578125,
          -2.630741834640503,
          -2.384559154510498,
          -1.0589549541473389,
          -1.9916657209396362,
          -2.0017497539520264,
          -2.005755662918091,
          -0.9780967235565186,
          -0.9761874079704285,
          -2.7261486053466797,
          -8.4557466506958,
          -2.338097095489502,
          -2.374033212661743,
          -2.307917833328247,
          0.6460695862770081,
          -2.063615560531616,
          -2.01560378074646,
          -0.9879947900772095,
          -1.1483490467071533,
          -1.0694001913070679,
          -0.9891370534896851,
          -1.0382832288742065,
          -2.865139961242676,
          -2.0355989933013916,
          -1.15471613407135,
          -1.0905729532241821,
          -1.1595078706741333,
          -1.1424925327301025,
          -2.022580623626709,
          -1.09494948387146,
          -2.4029018878936768,
          -2.698721170425415,
          -0.9771538972854614,
          14.064423561096191,
          -2.903165817260742,
          -2.7468621730804443,
          -3.136753559112549,
          -4.378432750701904,
          -2.965585947036743,
          13.12124252319336,
          -2.7618160247802734,
          -2.918735980987549,
          -0.27821412682533264,
          -2.7291297912597656,
          -3.3702211380004883,
          -3.328596830368042,
          14.55717945098877,
          -0.3171376883983612,
          -3.456420660018921,
          -0.12908518314361572,
          -6.6611247062683105,
          14.261691093444824,
          14.258069038391113,
          13.868603706359863,
          15.844194412231445,
          14.177382469177246,
          -4.570821762084961,
          -6.661433696746826,
          13.124412536621094,
          13.95160961151123,
          -0.3213164806365967,
          -0.3484368324279785,
          14.26159381866455,
          15.844136238098145,
          -6.637828826904297,
          13.000884056091309,
          -4.3874382972717285,
          14.0585355758667,
          -3.4130823612213135,
          -3.4302449226379395,
          -3.3290371894836426,
          -4.374124050140381,
          -3.4235801696777344,
          -3.0619254112243652,
          -3.206036329269409,
          -3.3964810371398926,
          -0.29442518949508667,
          -4.40995454788208,
          -6.6655120849609375,
          -6.552917957305908,
          13.370183944702148,
          -0.32624998688697815,
          -3.767709732055664,
          12.970602989196777,
          -3.3481757640838623,
          14.841448783874512,
          -3.5125529766082764,
          -6.434300422668457,
          -4.403963565826416,
          -6.576443672180176,
          -6.40848970413208,
          -6.75089168548584,
          -6.725460052490234,
          -3.39414381980896,
          -3.406587839126587,
          14.13854694366455,
          14.483784675598145,
          -3.368915319442749,
          14.018807411193848,
          12.986322402954102,
          13.339426040649414,
          -0.328202486038208,
          12.984766960144043,
          14.250035285949707,
          -6.743328094482422,
          -4.362037658691406,
          -1.3079761266708374,
          0.6690042018890381,
          1.3756157159805298,
          -3.422590494155884,
          13.31019401550293,
          -2.9424662590026855,
          1.7048892974853516,
          -3.0836122035980225,
          13.953768730163574,
          14.25082778930664,
          -6.648101806640625,
          13.92455005645752,
          -2.7292542457580566,
          15.669159889221191,
          -4.726595401763916,
          1.3537015914916992,
          13.373830795288086
         ],
         "yaxis": "y",
         "type": "scattergl"
        },
        {
         "hovertemplate": "label=Rubbing hands<br>sample=resample<br>emb1=%{x}<br>emb2=%{y}<extra></extra>",
         "legendgroup": "Rubbing hands",
         "marker": {
          "color": "#FFA15A",
          "symbol": "circle"
         },
         "mode": "markers",
         "name": "Rubbing hands",
         "showlegend": false,
         "x": [
          -8.227861404418945,
          -4.9678263664245605
         ],
         "xaxis": "x2",
         "y": [
          -9.92795181274414,
          -4.403963565826416
         ],
         "yaxis": "y2",
         "type": "scattergl"
        },
        {
         "hovertemplate": "label=Rubbing hands+Scratching body<br>sample=all<br>emb1=%{x}<br>emb2=%{y}<extra></extra>",
         "legendgroup": "Rubbing hands+Scratching body",
         "marker": {
          "color": "#19d3f3",
          "symbol": "circle"
         },
         "mode": "markers",
         "name": "Rubbing hands+Scratching body",
         "showlegend": true,
         "x": [
          -5.22119140625,
          -5.222817420959473
         ],
         "xaxis": "x",
         "y": [
          5.024954795837402,
          5.027775764465332
         ],
         "yaxis": "y",
         "type": "scattergl"
        },
        {
         "hovertemplate": "label=Rubbing hands+Scratching body<br>sample=resample<br>emb1=%{x}<br>emb2=%{y}<extra></extra>",
         "legendgroup": "Rubbing hands+Scratching body",
         "marker": {
          "color": "#19d3f3",
          "symbol": "circle"
         },
         "mode": "markers",
         "name": "Rubbing hands+Scratching body",
         "showlegend": false,
         "x": [
          -5.222817420959473
         ],
         "xaxis": "x2",
         "y": [
          5.027775764465332
         ],
         "yaxis": "y2",
         "type": "scattergl"
        },
        {
         "hovertemplate": "label=Rubbing hands+Scratching neck<br>sample=all<br>emb1=%{x}<br>emb2=%{y}<extra></extra>",
         "legendgroup": "Rubbing hands+Scratching neck",
         "marker": {
          "color": "#FF6692",
          "symbol": "circle"
         },
         "mode": "markers",
         "name": "Rubbing hands+Scratching neck",
         "showlegend": true,
         "x": [
          12.483272552490234
         ],
         "xaxis": "x",
         "y": [
          -6.463971138000488
         ],
         "yaxis": "y",
         "type": "scattergl"
        },
        {
         "hovertemplate": "label=Rubbing hands+Scratching neck<br>sample=resample<br>emb1=%{x}<br>emb2=%{y}<extra></extra>",
         "legendgroup": "Rubbing hands+Scratching neck",
         "marker": {
          "color": "#FF6692",
          "symbol": "circle"
         },
         "mode": "markers",
         "name": "Rubbing hands+Scratching neck",
         "showlegend": false,
         "x": [
          12.483272552490234
         ],
         "xaxis": "x2",
         "y": [
          -6.463971138000488
         ],
         "yaxis": "y2",
         "type": "scattergl"
        },
        {
         "hovertemplate": "label=Rubbing hands+Touching face<br>sample=all<br>emb1=%{x}<br>emb2=%{y}<extra></extra>",
         "legendgroup": "Rubbing hands+Touching face",
         "marker": {
          "color": "#B6E880",
          "symbol": "circle"
         },
         "mode": "markers",
         "name": "Rubbing hands+Touching face",
         "showlegend": true,
         "x": [
          -10.392549514770508,
          -11.762615203857422,
          -11.778825759887695,
          12.442575454711914,
          -11.792293548583984,
          8.437763214111328,
          12.636581420898438,
          8.444279670715332,
          -11.473226547241211,
          -5.437018394470215,
          -11.486177444458008,
          8.399683952331543,
          -11.514669418334961,
          -11.478055953979492,
          -11.781126976013184,
          -11.78125,
          -10.394189834594727,
          -10.43380355834961,
          11.993512153625488,
          -11.688673973083496,
          -11.736347198486328,
          -11.477375984191895,
          8.439537048339844,
          -11.778454780578613,
          -11.482772827148438,
          9.112603187561035
         ],
         "xaxis": "x",
         "y": [
          0.6469296813011169,
          16.752628326416016,
          16.76841163635254,
          -6.48820161819458,
          16.782020568847656,
          -0.06458887457847595,
          -6.339238166809082,
          -0.0596083365380764,
          16.473220825195312,
          -2.7147908210754395,
          16.48668098449707,
          -0.09442704170942307,
          16.513694763183594,
          16.478103637695312,
          16.771472930908203,
          16.770925521850586,
          0.6489755511283875,
          0.685470461845398,
          -6.988623142242432,
          16.680788040161133,
          16.72654914855957,
          16.477266311645508,
          -0.06307234615087509,
          16.768245697021484,
          16.482664108276367,
          -3.667473077774048
         ],
         "yaxis": "y",
         "type": "scattergl"
        },
        {
         "hovertemplate": "label=Rubbing hands+Touching face<br>sample=resample<br>emb1=%{x}<br>emb2=%{y}<extra></extra>",
         "legendgroup": "Rubbing hands+Touching face",
         "marker": {
          "color": "#B6E880",
          "symbol": "circle"
         },
         "mode": "markers",
         "name": "Rubbing hands+Touching face",
         "showlegend": false,
         "x": [
          -11.736347198486328
         ],
         "xaxis": "x2",
         "y": [
          16.72654914855957
         ],
         "yaxis": "y2",
         "type": "scattergl"
        },
        {
         "hovertemplate": "label=Rubbing hands+Turtling neck<br>sample=all<br>emb1=%{x}<br>emb2=%{y}<extra></extra>",
         "legendgroup": "Rubbing hands+Turtling neck",
         "marker": {
          "color": "#FF97FF",
          "symbol": "circle"
         },
         "mode": "markers",
         "name": "Rubbing hands+Turtling neck",
         "showlegend": true,
         "x": [
          -8.52790641784668,
          -8.251540184020996,
          -8.526915550231934,
          -8.833357810974121,
          -11.585617065429688,
          -10.644305229187012
         ],
         "xaxis": "x",
         "y": [
          -1.2656179666519165,
          -9.950986862182617,
          -1.2654249668121338,
          -0.2525894343852997,
          9.538435935974121,
          9.644437789916992
         ],
         "yaxis": "y",
         "type": "scattergl"
        },
        {
         "hovertemplate": "label=Rubbing hands+Turtling neck<br>sample=resample<br>emb1=%{x}<br>emb2=%{y}<extra></extra>",
         "legendgroup": "Rubbing hands+Turtling neck",
         "marker": {
          "color": "#FF97FF",
          "symbol": "circle"
         },
         "mode": "markers",
         "name": "Rubbing hands+Turtling neck",
         "showlegend": false,
         "x": [
          -8.251540184020996
         ],
         "xaxis": "x2",
         "y": [
          -9.950986862182617
         ],
         "yaxis": "y2",
         "type": "scattergl"
        },
        {
         "hovertemplate": "label=Scratching body<br>sample=all<br>emb1=%{x}<br>emb2=%{y}<extra></extra>",
         "legendgroup": "Scratching body",
         "marker": {
          "color": "#FECB52",
          "symbol": "circle"
         },
         "mode": "markers",
         "name": "Scratching body",
         "showlegend": true,
         "x": [
          -5.195867538452148,
          -5.237300872802734,
          -6.560380935668945,
          -6.5747833251953125
         ],
         "xaxis": "x",
         "y": [
          5.001715183258057,
          5.035369873046875,
          15.120287895202637,
          15.110788345336914
         ],
         "yaxis": "y",
         "type": "scattergl"
        },
        {
         "hovertemplate": "label=Scratching body<br>sample=resample<br>emb1=%{x}<br>emb2=%{y}<extra></extra>",
         "legendgroup": "Scratching body",
         "marker": {
          "color": "#FECB52",
          "symbol": "circle"
         },
         "mode": "markers",
         "name": "Scratching body",
         "showlegend": false,
         "x": [
          -5.195867538452148
         ],
         "xaxis": "x2",
         "y": [
          5.001715183258057
         ],
         "yaxis": "y2",
         "type": "scattergl"
        },
        {
         "hovertemplate": "label=Scratching body+Touching face<br>sample=all<br>emb1=%{x}<br>emb2=%{y}<extra></extra>",
         "legendgroup": "Scratching body+Touching face",
         "marker": {
          "color": "#636efa",
          "symbol": "circle"
         },
         "mode": "markers",
         "name": "Scratching body+Touching face",
         "showlegend": true,
         "x": [
          -0.025432009249925613
         ],
         "xaxis": "x",
         "y": [
          3.8296573162078857
         ],
         "yaxis": "y",
         "type": "scattergl"
        },
        {
         "hovertemplate": "label=Scratching body+Touching face<br>sample=resample<br>emb1=%{x}<br>emb2=%{y}<extra></extra>",
         "legendgroup": "Scratching body+Touching face",
         "marker": {
          "color": "#636efa",
          "symbol": "circle"
         },
         "mode": "markers",
         "name": "Scratching body+Touching face",
         "showlegend": false,
         "x": [
          -0.025432009249925613
         ],
         "xaxis": "x2",
         "y": [
          3.8296573162078857
         ],
         "yaxis": "y2",
         "type": "scattergl"
        },
        {
         "hovertemplate": "label=Scratching body+Touching nose<br>sample=all<br>emb1=%{x}<br>emb2=%{y}<extra></extra>",
         "legendgroup": "Scratching body+Touching nose",
         "marker": {
          "color": "#EF553B",
          "symbol": "circle"
         },
         "mode": "markers",
         "name": "Scratching body+Touching nose",
         "showlegend": true,
         "x": [
          15.796056747436523
         ],
         "xaxis": "x",
         "y": [
          -0.27779603004455566
         ],
         "yaxis": "y",
         "type": "scattergl"
        },
        {
         "hovertemplate": "label=Scratching body+Touching nose<br>sample=resample<br>emb1=%{x}<br>emb2=%{y}<extra></extra>",
         "legendgroup": "Scratching body+Touching nose",
         "marker": {
          "color": "#EF553B",
          "symbol": "circle"
         },
         "mode": "markers",
         "name": "Scratching body+Touching nose",
         "showlegend": false,
         "x": [
          15.796056747436523
         ],
         "xaxis": "x2",
         "y": [
          -0.27779603004455566
         ],
         "yaxis": "y2",
         "type": "scattergl"
        },
        {
         "hovertemplate": "label=Scratching neck<br>sample=all<br>emb1=%{x}<br>emb2=%{y}<extra></extra>",
         "legendgroup": "Scratching neck",
         "marker": {
          "color": "#00cc96",
          "symbol": "circle"
         },
         "mode": "markers",
         "name": "Scratching neck",
         "showlegend": true,
         "x": [
          4.745279788970947,
          4.730208396911621,
          -1.1790897846221924,
          4.731368541717529,
          18.65323257446289,
          16.390857696533203,
          4.654027938842773,
          4.591468811035156,
          4.7212042808532715,
          18.638477325439453,
          18.65432357788086,
          18.654888153076172,
          4.593691349029541,
          4.724740982055664,
          13.350685119628906,
          18.654813766479492,
          4.769721984863281,
          4.784695148468018,
          4.930220127105713,
          4.571908950805664,
          18.65552520751953,
          4.929715156555176,
          4.5705342292785645,
          4.55620813369751,
          16.386314392089844,
          -2.2086341381073
         ],
         "xaxis": "x",
         "y": [
          -12.395197868347168,
          -12.422481536865234,
          21.176332473754883,
          -12.410300254821777,
          3.719834089279175,
          10.298169136047363,
          -12.490927696228027,
          -12.546758651733398,
          -12.417774200439453,
          3.704972505569458,
          3.720985174179077,
          3.7232906818389893,
          -12.545758247375488,
          -12.416178703308105,
          11.463082313537598,
          3.721412181854248,
          -12.377315521240234,
          -12.3999605178833,
          -12.380231857299805,
          -12.568950653076172,
          3.7220356464385986,
          -12.379928588867188,
          -12.570533752441406,
          -12.584867477416992,
          10.302247047424316,
          18.091556549072266
         ],
         "yaxis": "y",
         "type": "scattergl"
        },
        {
         "hovertemplate": "label=Scratching neck<br>sample=resample<br>emb1=%{x}<br>emb2=%{y}<extra></extra>",
         "legendgroup": "Scratching neck",
         "marker": {
          "color": "#00cc96",
          "symbol": "circle"
         },
         "mode": "markers",
         "name": "Scratching neck",
         "showlegend": false,
         "x": [
          16.390857696533203,
          4.654027938842773
         ],
         "xaxis": "x2",
         "y": [
          10.298169136047363,
          -12.490927696228027
         ],
         "yaxis": "y2",
         "type": "scattergl"
        },
        {
         "hovertemplate": "label=Scratching neck+Touching face<br>sample=all<br>emb1=%{x}<br>emb2=%{y}<extra></extra>",
         "legendgroup": "Scratching neck+Touching face",
         "marker": {
          "color": "#ab63fa",
          "symbol": "circle"
         },
         "mode": "markers",
         "name": "Scratching neck+Touching face",
         "showlegend": true,
         "x": [
          13.348325729370117,
          5.788411617279053,
          -2.4503350257873535,
          4.592978477478027,
          4.750990390777588
         ],
         "xaxis": "x",
         "y": [
          11.463213920593262,
          -7.646784782409668,
          17.87268829345703,
          -12.535125732421875,
          -9.966231346130371
         ],
         "yaxis": "y",
         "type": "scattergl"
        },
        {
         "hovertemplate": "label=Scratching neck+Touching face<br>sample=resample<br>emb1=%{x}<br>emb2=%{y}<extra></extra>",
         "legendgroup": "Scratching neck+Touching face",
         "marker": {
          "color": "#ab63fa",
          "symbol": "circle"
         },
         "mode": "markers",
         "name": "Scratching neck+Touching face",
         "showlegend": false,
         "x": [
          13.348325729370117
         ],
         "xaxis": "x2",
         "y": [
          11.463213920593262
         ],
         "yaxis": "y2",
         "type": "scattergl"
        },
        {
         "hovertemplate": "label=Touching face<br>sample=all<br>emb1=%{x}<br>emb2=%{y}<extra></extra>",
         "legendgroup": "Touching face",
         "marker": {
          "color": "#FFA15A",
          "symbol": "circle"
         },
         "mode": "markers",
         "name": "Touching face",
         "showlegend": true,
         "x": [
          13.288546562194824,
          5.792403221130371,
          9.022468566894531,
          10.710281372070312,
          13.2876615524292,
          -11.738211631774902,
          5.79015588760376,
          9.037759780883789,
          3.5068953037261963,
          13.262659072875977,
          3.515887498855591,
          -12.18276596069336,
          -1.9457049369812012,
          8.173620223999023,
          13.344582557678223,
          3.135915756225586,
          3.1186580657958984,
          -5.974102020263672,
          8.175908088684082,
          8.208587646484375,
          4.618561267852783,
          10.68871784210205,
          5.790942668914795,
          10.715103149414062,
          -12.196721076965332,
          1.496224284172058,
          10.132247924804688,
          -12.191240310668945,
          7.432753086090088,
          -12.209399223327637,
          -16.46848487854004,
          -11.8858642578125,
          -1.1770541667938232,
          -16.49434471130371,
          -16.491403579711914,
          -1.1669995784759521,
          11.044475555419922,
          10.142574310302734,
          -16.489381790161133,
          -16.488155364990234,
          -12.191900253295898,
          13.3336820602417,
          13.285507202148438,
          -3.562833070755005,
          8.916536331176758,
          -3.539334297180176,
          -3.570438861846924,
          -3.5845983028411865,
          8.181818008422852,
          -12.206808090209961,
          10.862890243530273,
          12.565814971923828,
          -11.70544147491455,
          -3.571418523788452,
          5.777287006378174,
          13.28683853149414,
          13.28614616394043,
          9.255979537963867,
          1.5415623188018799,
          13.245418548583984,
          9.321639060974121,
          9.004134178161621,
          8.98713493347168,
          9.319368362426758,
          9.153182029724121,
          10.868285179138184,
          9.119385719299316,
          10.696264266967773,
          9.285696029663086,
          13.310646057128906,
          13.302494049072266,
          3.5346405506134033,
          3.53701114654541,
          9.167380332946777,
          3.258727550506592,
          9.03396224975586,
          10.872550964355469,
          3.4808664321899414,
          9.303138732910156,
          9.167694091796875,
          10.862852096557617,
          9.286689758300781,
          9.324501037597656,
          3.4959299564361572,
          9.120616912841797,
          8.958953857421875,
          13.260913848876953,
          7.526207447052002,
          9.008191108703613,
          8.648900032043457,
          9.168282508850098,
          3.518733501434326,
          3.539106607437134,
          9.16242504119873,
          3.520702600479126,
          9.23606014251709,
          9.070837020874023,
          8.96549129486084,
          12.719849586486816,
          9.181333541870117,
          13.302488327026367,
          13.25440788269043,
          3.28070330619812,
          9.069198608398438,
          9.2937650680542,
          13.258070945739746,
          9.27961254119873,
          9.03483772277832,
          3.537069082260132,
          8.173932075500488,
          9.173181533813477,
          9.162493705749512,
          10.680081367492676,
          3.120871067047119,
          7.431408405303955,
          10.145665168762207,
          9.096858978271484,
          3.407381534576416,
          10.686175346374512,
          -12.191404342651367,
          9.081582069396973,
          5.788626194000244,
          10.6898775100708,
          -1.1889147758483887,
          9.147012710571289,
          13.325444221496582,
          5.790877819061279,
          5.808823108673096,
          5.800059795379639,
          4.598765850067139,
          10.110942840576172,
          8.532604217529297,
          10.102729797363281,
          1.5659805536270142,
          9.105180740356445,
          7.432211399078369,
          9.269953727722168,
          9.2838134765625,
          9.257697105407715,
          -12.62013053894043,
          8.185588836669922,
          9.27016830444336,
          9.135128021240234,
          8.23762035369873,
          -12.183380126953125,
          10.098470687866211,
          9.120454788208008,
          9.260881423950195,
          3.1247596740722656,
          8.16907787322998
         ],
         "xaxis": "x",
         "y": [
          12.02574348449707,
          -7.6499762535095215,
          -3.3333632946014404,
          12.624143600463867,
          12.019844055175781,
          -2.135132312774658,
          -7.647613048553467,
          -3.330162286758423,
          -5.854034423828125,
          11.933451652526855,
          -5.850433349609375,
          10.28198528289795,
          -1.3128710985183716,
          -3.068032741546631,
          11.467432975769043,
          -6.006973743438721,
          -6.03103494644165,
          7.353309631347656,
          -3.066366195678711,
          -3.0879642963409424,
          -12.509563446044922,
          12.602283477783203,
          -7.648406505584717,
          12.634387969970703,
          -2.5270028114318848,
          0.2155863493680954,
          1.7745834589004517,
          -2.522536039352417,
          -7.214359283447266,
          -2.5376646518707275,
          5.426290035247803,
          -2.269141674041748,
          -3.6129112243652344,
          5.451501846313477,
          5.448697090148926,
          -3.6191537380218506,
          17.80579376220703,
          1.7784743309020996,
          5.44789981842041,
          5.445923328399658,
          -2.522993564605713,
          11.477042198181152,
          12.005447387695312,
          14.375935554504395,
          -2.1587817668914795,
          11.949234008789062,
          14.3670015335083,
          14.35290241241455,
          -3.031353712081909,
          -2.5357346534729004,
          12.811060905456543,
          -6.405344486236572,
          -2.1034562587738037,
          14.365906715393066,
          -7.64007568359375,
          12.010743141174316,
          12.007648468017578,
          -2.782900094985962,
          0.25223636627197266,
          11.566754341125488,
          -2.6070122718811035,
          -3.3408055305480957,
          -3.307802438735962,
          -2.6113662719726562,
          -2.44870662689209,
          12.80566692352295,
          -3.7127983570098877,
          12.611863136291504,
          -2.677020311355591,
          11.49803638458252,
          11.505387306213379,
          -5.866033554077148,
          -5.896430015563965,
          -2.1095635890960693,
          -5.8764967918396,
          -3.3568460941314697,
          12.822992324829102,
          -5.850642681121826,
          -2.624602794647217,
          -2.088552474975586,
          12.812063217163086,
          -2.498091459274292,
          -2.576786994934082,
          -5.854400634765625,
          -3.7108564376831055,
          -2.2190027236938477,
          11.553345680236816,
          -1.8717983961105347,
          -2.2685530185699463,
          6.6176676750183105,
          -2.115018606185913,
          -5.881260871887207,
          -5.903587818145752,
          -3.0141544342041016,
          -5.882542133331299,
          -4.1021575927734375,
          -3.4871132373809814,
          -2.204923152923584,
          -3.3097128868103027,
          -2.1522586345672607,
          11.506412506103516,
          11.60435676574707,
          -5.868969917297363,
          -2.3387296199798584,
          -2.5750555992126465,
          11.556278228759766,
          -2.6482934951782227,
          -3.3099770545959473,
          -5.8840107917785645,
          -3.0654232501983643,
          -2.133443593978882,
          -2.110367774963379,
          12.590275764465332,
          -6.031956672668457,
          -7.214874267578125,
          1.7755143642425537,
          -2.35937237739563,
          -5.843140125274658,
          12.599462509155273,
          10.273725509643555,
          -2.373673439025879,
          -7.647405624389648,
          12.603317260742188,
          21.166528701782227,
          -2.126770496368408,
          11.486626625061035,
          -7.64963960647583,
          -7.668173789978027,
          -7.655421257019043,
          -12.530771255493164,
          1.765994668006897,
          16.590805053710938,
          1.7639262676239014,
          0.27614080905914307,
          -2.377617359161377,
          -7.213505268096924,
          -2.51501727104187,
          -2.6179161071777344,
          -2.6350769996643066,
          14.841994285583496,
          -3.0617663860321045,
          -2.624556303024292,
          -2.123507022857666,
          -3.0746023654937744,
          10.2810697555542,
          1.7521964311599731,
          -3.700103282928467,
          -2.715202569961548,
          -6.03513240814209,
          -3.065861463546753
         ],
         "yaxis": "y",
         "type": "scattergl"
        },
        {
         "hovertemplate": "label=Touching face<br>sample=resample<br>emb1=%{x}<br>emb2=%{y}<extra></extra>",
         "legendgroup": "Touching face",
         "marker": {
          "color": "#FFA15A",
          "symbol": "circle"
         },
         "mode": "markers",
         "name": "Touching face",
         "showlegend": false,
         "x": [
          11.044475555419922,
          -1.1669995784759521,
          -16.46848487854004,
          9.004134178161621
         ],
         "xaxis": "x2",
         "y": [
          17.80579376220703,
          -3.6191537380218506,
          5.426290035247803,
          -3.3408055305480957
         ],
         "yaxis": "y2",
         "type": "scattergl"
        },
        {
         "hovertemplate": "label=Touching nose<br>sample=all<br>emb1=%{x}<br>emb2=%{y}<extra></extra>",
         "legendgroup": "Touching nose",
         "marker": {
          "color": "#19d3f3",
          "symbol": "circle"
         },
         "mode": "markers",
         "name": "Touching nose",
         "showlegend": true,
         "x": [
          15.676451683044434,
          15.751355171203613,
          15.67851448059082,
          15.757322311401367,
          15.711359024047852,
          15.747797966003418
         ],
         "xaxis": "x",
         "y": [
          -0.4059370160102844,
          -0.32523563504219055,
          -0.403178870677948,
          -0.31876489520072937,
          -0.3675648272037506,
          -0.3311096429824829
         ],
         "yaxis": "y",
         "type": "scattergl"
        },
        {
         "hovertemplate": "label=Touching nose<br>sample=resample<br>emb1=%{x}<br>emb2=%{y}<extra></extra>",
         "legendgroup": "Touching nose",
         "marker": {
          "color": "#19d3f3",
          "symbol": "circle"
         },
         "mode": "markers",
         "name": "Touching nose",
         "showlegend": false,
         "x": [
          15.711359024047852
         ],
         "xaxis": "x2",
         "y": [
          -0.3675648272037506
         ],
         "yaxis": "y2",
         "type": "scattergl"
        },
        {
         "hovertemplate": "label=Turtling neck<br>sample=all<br>emb1=%{x}<br>emb2=%{y}<extra></extra>",
         "legendgroup": "Turtling neck",
         "marker": {
          "color": "#FF6692",
          "symbol": "circle"
         },
         "mode": "markers",
         "name": "Turtling neck",
         "showlegend": true,
         "x": [
          -11.309499740600586,
          1.7666091918945312,
          -10.709580421447754,
          -13.093759536743164,
          -11.30919361114502,
          -13.082621574401855,
          -6.131758689880371,
          -13.098848342895508,
          -13.096868515014648,
          -11.62458324432373,
          -3.029575824737549,
          -13.111299514770508,
          -13.097521781921387,
          7.3748250007629395,
          -0.43542784452438354,
          1.7668218612670898,
          -3.0880320072174072,
          -3.0209858417510986,
          -0.4369528591632843,
          -11.30938720703125,
          1.7667478322982788,
          -13.095598220825195,
          -13.05843734741211,
          -0.4371207058429718,
          -13.09768009185791,
          -13.09406852722168,
          -0.44047924876213074,
          -13.073790550231934,
          -13.113938331604004,
          -13.093998908996582,
          1.7662020921707153,
          -11.308941841125488,
          -6.525815010070801
         ],
         "xaxis": "x",
         "y": [
          -3.9122965335845947,
          1.5719568729400635,
          9.602555274963379,
          12.815156936645508,
          -3.911698579788208,
          12.795494079589844,
          20.368385314941406,
          12.821381568908691,
          12.819437980651855,
          9.499713897705078,
          -4.385093688964844,
          12.83542537689209,
          12.82165241241455,
          -1.845507025718689,
          10.500870704650879,
          1.572209119796753,
          -4.442532539367676,
          -4.377688407897949,
          10.498061180114746,
          -3.912269115447998,
          1.5721789598464966,
          12.81946849822998,
          12.775943756103516,
          10.49853801727295,
          12.822487831115723,
          12.818663597106934,
          10.495915412902832,
          12.78904914855957,
          12.839448928833008,
          12.818808555603027,
          1.5722483396530151,
          -3.912947416305542,
          15.139400482177734
         ],
         "yaxis": "y",
         "type": "scattergl"
        },
        {
         "hovertemplate": "label=Turtling neck<br>sample=resample<br>emb1=%{x}<br>emb2=%{y}<extra></extra>",
         "legendgroup": "Turtling neck",
         "marker": {
          "color": "#FF6692",
          "symbol": "circle"
         },
         "mode": "markers",
         "name": "Turtling neck",
         "showlegend": false,
         "x": [
          -3.0209858417510986,
          -11.62458324432373
         ],
         "xaxis": "x2",
         "y": [
          -4.377688407897949,
          9.499713897705078
         ],
         "yaxis": "y2",
         "type": "scattergl"
        }
       ],
       "layout": {
        "template": {
         "data": {
          "histogram2dcontour": [
           {
            "type": "histogram2dcontour",
            "colorbar": {
             "outlinewidth": 0,
             "ticks": ""
            },
            "colorscale": [
             [
              0.0,
              "#0d0887"
             ],
             [
              0.1111111111111111,
              "#46039f"
             ],
             [
              0.2222222222222222,
              "#7201a8"
             ],
             [
              0.3333333333333333,
              "#9c179e"
             ],
             [
              0.4444444444444444,
              "#bd3786"
             ],
             [
              0.5555555555555556,
              "#d8576b"
             ],
             [
              0.6666666666666666,
              "#ed7953"
             ],
             [
              0.7777777777777778,
              "#fb9f3a"
             ],
             [
              0.8888888888888888,
              "#fdca26"
             ],
             [
              1.0,
              "#f0f921"
             ]
            ]
           }
          ],
          "choropleth": [
           {
            "type": "choropleth",
            "colorbar": {
             "outlinewidth": 0,
             "ticks": ""
            }
           }
          ],
          "histogram2d": [
           {
            "type": "histogram2d",
            "colorbar": {
             "outlinewidth": 0,
             "ticks": ""
            },
            "colorscale": [
             [
              0.0,
              "#0d0887"
             ],
             [
              0.1111111111111111,
              "#46039f"
             ],
             [
              0.2222222222222222,
              "#7201a8"
             ],
             [
              0.3333333333333333,
              "#9c179e"
             ],
             [
              0.4444444444444444,
              "#bd3786"
             ],
             [
              0.5555555555555556,
              "#d8576b"
             ],
             [
              0.6666666666666666,
              "#ed7953"
             ],
             [
              0.7777777777777778,
              "#fb9f3a"
             ],
             [
              0.8888888888888888,
              "#fdca26"
             ],
             [
              1.0,
              "#f0f921"
             ]
            ]
           }
          ],
          "heatmap": [
           {
            "type": "heatmap",
            "colorbar": {
             "outlinewidth": 0,
             "ticks": ""
            },
            "colorscale": [
             [
              0.0,
              "#0d0887"
             ],
             [
              0.1111111111111111,
              "#46039f"
             ],
             [
              0.2222222222222222,
              "#7201a8"
             ],
             [
              0.3333333333333333,
              "#9c179e"
             ],
             [
              0.4444444444444444,
              "#bd3786"
             ],
             [
              0.5555555555555556,
              "#d8576b"
             ],
             [
              0.6666666666666666,
              "#ed7953"
             ],
             [
              0.7777777777777778,
              "#fb9f3a"
             ],
             [
              0.8888888888888888,
              "#fdca26"
             ],
             [
              1.0,
              "#f0f921"
             ]
            ]
           }
          ],
          "heatmapgl": [
           {
            "type": "heatmapgl",
            "colorbar": {
             "outlinewidth": 0,
             "ticks": ""
            },
            "colorscale": [
             [
              0.0,
              "#0d0887"
             ],
             [
              0.1111111111111111,
              "#46039f"
             ],
             [
              0.2222222222222222,
              "#7201a8"
             ],
             [
              0.3333333333333333,
              "#9c179e"
             ],
             [
              0.4444444444444444,
              "#bd3786"
             ],
             [
              0.5555555555555556,
              "#d8576b"
             ],
             [
              0.6666666666666666,
              "#ed7953"
             ],
             [
              0.7777777777777778,
              "#fb9f3a"
             ],
             [
              0.8888888888888888,
              "#fdca26"
             ],
             [
              1.0,
              "#f0f921"
             ]
            ]
           }
          ],
          "contourcarpet": [
           {
            "type": "contourcarpet",
            "colorbar": {
             "outlinewidth": 0,
             "ticks": ""
            }
           }
          ],
          "contour": [
           {
            "type": "contour",
            "colorbar": {
             "outlinewidth": 0,
             "ticks": ""
            },
            "colorscale": [
             [
              0.0,
              "#0d0887"
             ],
             [
              0.1111111111111111,
              "#46039f"
             ],
             [
              0.2222222222222222,
              "#7201a8"
             ],
             [
              0.3333333333333333,
              "#9c179e"
             ],
             [
              0.4444444444444444,
              "#bd3786"
             ],
             [
              0.5555555555555556,
              "#d8576b"
             ],
             [
              0.6666666666666666,
              "#ed7953"
             ],
             [
              0.7777777777777778,
              "#fb9f3a"
             ],
             [
              0.8888888888888888,
              "#fdca26"
             ],
             [
              1.0,
              "#f0f921"
             ]
            ]
           }
          ],
          "surface": [
           {
            "type": "surface",
            "colorbar": {
             "outlinewidth": 0,
             "ticks": ""
            },
            "colorscale": [
             [
              0.0,
              "#0d0887"
             ],
             [
              0.1111111111111111,
              "#46039f"
             ],
             [
              0.2222222222222222,
              "#7201a8"
             ],
             [
              0.3333333333333333,
              "#9c179e"
             ],
             [
              0.4444444444444444,
              "#bd3786"
             ],
             [
              0.5555555555555556,
              "#d8576b"
             ],
             [
              0.6666666666666666,
              "#ed7953"
             ],
             [
              0.7777777777777778,
              "#fb9f3a"
             ],
             [
              0.8888888888888888,
              "#fdca26"
             ],
             [
              1.0,
              "#f0f921"
             ]
            ]
           }
          ],
          "mesh3d": [
           {
            "type": "mesh3d",
            "colorbar": {
             "outlinewidth": 0,
             "ticks": ""
            }
           }
          ],
          "scatter": [
           {
            "marker": {
             "line": {
              "color": "#283442"
             }
            },
            "type": "scatter"
           }
          ],
          "parcoords": [
           {
            "type": "parcoords",
            "line": {
             "colorbar": {
              "outlinewidth": 0,
              "ticks": ""
             }
            }
           }
          ],
          "scatterpolargl": [
           {
            "type": "scatterpolargl",
            "marker": {
             "colorbar": {
              "outlinewidth": 0,
              "ticks": ""
             }
            }
           }
          ],
          "bar": [
           {
            "error_x": {
             "color": "#f2f5fa"
            },
            "error_y": {
             "color": "#f2f5fa"
            },
            "marker": {
             "line": {
              "color": "rgb(17,17,17)",
              "width": 0.5
             },
             "pattern": {
              "fillmode": "overlay",
              "size": 10,
              "solidity": 0.2
             }
            },
            "type": "bar"
           }
          ],
          "scattergeo": [
           {
            "type": "scattergeo",
            "marker": {
             "colorbar": {
              "outlinewidth": 0,
              "ticks": ""
             }
            }
           }
          ],
          "scatterpolar": [
           {
            "type": "scatterpolar",
            "marker": {
             "colorbar": {
              "outlinewidth": 0,
              "ticks": ""
             }
            }
           }
          ],
          "histogram": [
           {
            "marker": {
             "pattern": {
              "fillmode": "overlay",
              "size": 10,
              "solidity": 0.2
             }
            },
            "type": "histogram"
           }
          ],
          "scattergl": [
           {
            "marker": {
             "line": {
              "color": "#283442"
             }
            },
            "type": "scattergl"
           }
          ],
          "scatter3d": [
           {
            "type": "scatter3d",
            "line": {
             "colorbar": {
              "outlinewidth": 0,
              "ticks": ""
             }
            },
            "marker": {
             "colorbar": {
              "outlinewidth": 0,
              "ticks": ""
             }
            }
           }
          ],
          "scattermapbox": [
           {
            "type": "scattermapbox",
            "marker": {
             "colorbar": {
              "outlinewidth": 0,
              "ticks": ""
             }
            }
           }
          ],
          "scatterternary": [
           {
            "type": "scatterternary",
            "marker": {
             "colorbar": {
              "outlinewidth": 0,
              "ticks": ""
             }
            }
           }
          ],
          "scattercarpet": [
           {
            "type": "scattercarpet",
            "marker": {
             "colorbar": {
              "outlinewidth": 0,
              "ticks": ""
             }
            }
           }
          ],
          "carpet": [
           {
            "aaxis": {
             "endlinecolor": "#A2B1C6",
             "gridcolor": "#506784",
             "linecolor": "#506784",
             "minorgridcolor": "#506784",
             "startlinecolor": "#A2B1C6"
            },
            "baxis": {
             "endlinecolor": "#A2B1C6",
             "gridcolor": "#506784",
             "linecolor": "#506784",
             "minorgridcolor": "#506784",
             "startlinecolor": "#A2B1C6"
            },
            "type": "carpet"
           }
          ],
          "table": [
           {
            "cells": {
             "fill": {
              "color": "#506784"
             },
             "line": {
              "color": "rgb(17,17,17)"
             }
            },
            "header": {
             "fill": {
              "color": "#2a3f5f"
             },
             "line": {
              "color": "rgb(17,17,17)"
             }
            },
            "type": "table"
           }
          ],
          "barpolar": [
           {
            "marker": {
             "line": {
              "color": "rgb(17,17,17)",
              "width": 0.5
             },
             "pattern": {
              "fillmode": "overlay",
              "size": 10,
              "solidity": 0.2
             }
            },
            "type": "barpolar"
           }
          ],
          "pie": [
           {
            "automargin": true,
            "type": "pie"
           }
          ]
         },
         "layout": {
          "autotypenumbers": "strict",
          "colorway": [
           "#636efa",
           "#EF553B",
           "#00cc96",
           "#ab63fa",
           "#FFA15A",
           "#19d3f3",
           "#FF6692",
           "#B6E880",
           "#FF97FF",
           "#FECB52"
          ],
          "font": {
           "color": "#f2f5fa"
          },
          "hovermode": "closest",
          "hoverlabel": {
           "align": "left"
          },
          "paper_bgcolor": "rgb(17,17,17)",
          "plot_bgcolor": "rgb(17,17,17)",
          "polar": {
           "bgcolor": "rgb(17,17,17)",
           "angularaxis": {
            "gridcolor": "#506784",
            "linecolor": "#506784",
            "ticks": ""
           },
           "radialaxis": {
            "gridcolor": "#506784",
            "linecolor": "#506784",
            "ticks": ""
           }
          },
          "ternary": {
           "bgcolor": "rgb(17,17,17)",
           "aaxis": {
            "gridcolor": "#506784",
            "linecolor": "#506784",
            "ticks": ""
           },
           "baxis": {
            "gridcolor": "#506784",
            "linecolor": "#506784",
            "ticks": ""
           },
           "caxis": {
            "gridcolor": "#506784",
            "linecolor": "#506784",
            "ticks": ""
           }
          },
          "coloraxis": {
           "colorbar": {
            "outlinewidth": 0,
            "ticks": ""
           }
          },
          "colorscale": {
           "sequential": [
            [
             0.0,
             "#0d0887"
            ],
            [
             0.1111111111111111,
             "#46039f"
            ],
            [
             0.2222222222222222,
             "#7201a8"
            ],
            [
             0.3333333333333333,
             "#9c179e"
            ],
            [
             0.4444444444444444,
             "#bd3786"
            ],
            [
             0.5555555555555556,
             "#d8576b"
            ],
            [
             0.6666666666666666,
             "#ed7953"
            ],
            [
             0.7777777777777778,
             "#fb9f3a"
            ],
            [
             0.8888888888888888,
             "#fdca26"
            ],
            [
             1.0,
             "#f0f921"
            ]
           ],
           "sequentialminus": [
            [
             0.0,
             "#0d0887"
            ],
            [
             0.1111111111111111,
             "#46039f"
            ],
            [
             0.2222222222222222,
             "#7201a8"
            ],
            [
             0.3333333333333333,
             "#9c179e"
            ],
            [
             0.4444444444444444,
             "#bd3786"
            ],
            [
             0.5555555555555556,
             "#d8576b"
            ],
            [
             0.6666666666666666,
             "#ed7953"
            ],
            [
             0.7777777777777778,
             "#fb9f3a"
            ],
            [
             0.8888888888888888,
             "#fdca26"
            ],
            [
             1.0,
             "#f0f921"
            ]
           ],
           "diverging": [
            [
             0,
             "#8e0152"
            ],
            [
             0.1,
             "#c51b7d"
            ],
            [
             0.2,
             "#de77ae"
            ],
            [
             0.3,
             "#f1b6da"
            ],
            [
             0.4,
             "#fde0ef"
            ],
            [
             0.5,
             "#f7f7f7"
            ],
            [
             0.6,
             "#e6f5d0"
            ],
            [
             0.7,
             "#b8e186"
            ],
            [
             0.8,
             "#7fbc41"
            ],
            [
             0.9,
             "#4d9221"
            ],
            [
             1,
             "#276419"
            ]
           ]
          },
          "xaxis": {
           "gridcolor": "#283442",
           "linecolor": "#506784",
           "ticks": "",
           "title": {
            "standoff": 15
           },
           "zerolinecolor": "#283442",
           "automargin": true,
           "zerolinewidth": 2
          },
          "yaxis": {
           "gridcolor": "#283442",
           "linecolor": "#506784",
           "ticks": "",
           "title": {
            "standoff": 15
           },
           "zerolinecolor": "#283442",
           "automargin": true,
           "zerolinewidth": 2
          },
          "scene": {
           "xaxis": {
            "backgroundcolor": "rgb(17,17,17)",
            "gridcolor": "#506784",
            "linecolor": "#506784",
            "showbackground": true,
            "ticks": "",
            "zerolinecolor": "#C8D4E3",
            "gridwidth": 2
           },
           "yaxis": {
            "backgroundcolor": "rgb(17,17,17)",
            "gridcolor": "#506784",
            "linecolor": "#506784",
            "showbackground": true,
            "ticks": "",
            "zerolinecolor": "#C8D4E3",
            "gridwidth": 2
           },
           "zaxis": {
            "backgroundcolor": "rgb(17,17,17)",
            "gridcolor": "#506784",
            "linecolor": "#506784",
            "showbackground": true,
            "ticks": "",
            "zerolinecolor": "#C8D4E3",
            "gridwidth": 2
           }
          },
          "shapedefaults": {
           "line": {
            "color": "#f2f5fa"
           }
          },
          "annotationdefaults": {
           "arrowcolor": "#f2f5fa",
           "arrowhead": 0,
           "arrowwidth": 1
          },
          "geo": {
           "bgcolor": "rgb(17,17,17)",
           "landcolor": "rgb(17,17,17)",
           "subunitcolor": "#506784",
           "showland": true,
           "showlakes": true,
           "lakecolor": "rgb(17,17,17)"
          },
          "title": {
           "x": 0.05
          },
          "updatemenudefaults": {
           "bgcolor": "#506784",
           "borderwidth": 0
          },
          "sliderdefaults": {
           "bgcolor": "#C8D4E3",
           "borderwidth": 1,
           "bordercolor": "rgb(17,17,17)",
           "tickwidth": 0
          },
          "mapbox": {
           "style": "dark"
          }
         }
        },
        "xaxis": {
         "anchor": "y",
         "domain": [
          0.0,
          0.49
         ],
         "title": {
          "text": "emb1"
         }
        },
        "yaxis": {
         "anchor": "x",
         "domain": [
          0.0,
          1.0
         ],
         "title": {
          "text": "emb2"
         }
        },
        "xaxis2": {
         "anchor": "y2",
         "domain": [
          0.51,
          1.0
         ],
         "matches": "x",
         "title": {
          "text": "emb1"
         }
        },
        "yaxis2": {
         "anchor": "x2",
         "domain": [
          0.0,
          1.0
         ],
         "matches": "y",
         "showticklabels": false
        },
        "annotations": [
         {
          "font": {},
          "showarrow": false,
          "text": "sample=all",
          "x": 0.245,
          "xanchor": "center",
          "xref": "paper",
          "y": 1.0,
          "yanchor": "bottom",
          "yref": "paper"
         },
         {
          "font": {},
          "showarrow": false,
          "text": "sample=resample",
          "x": 0.755,
          "xanchor": "center",
          "xref": "paper",
          "y": 1.0,
          "yanchor": "bottom",
          "yref": "paper"
         }
        ],
        "legend": {
         "title": {
          "text": "label"
         },
         "tracegroupgap": 0
        },
        "title": {
         "text": "Scatter plot of emb1 vs emb2 faceted by sample and colored by label"
        },
        "margin": {
         "l": 20,
         "r": 20,
         "t": 40,
         "b": 20
        },
        "height": 600,
        "width": 1600
       },
       "config": {
        "plotlyServerURL": "https://plot.ly"
       }
      },
      "text/html": "<div>                            <div id=\"3e8e5b16-d697-415c-84c2-108468b33609\" class=\"plotly-graph-div\" style=\"height:600px; width:1600px;\"></div>            <script type=\"text/javascript\">                require([\"plotly\"], function(Plotly) {                    window.PLOTLYENV=window.PLOTLYENV || {};                                    if (document.getElementById(\"3e8e5b16-d697-415c-84c2-108468b33609\")) {                    Plotly.newPlot(                        \"3e8e5b16-d697-415c-84c2-108468b33609\",                        [{\"hovertemplate\":\"label=Adjusting hair\\u003cbr\\u003esample=all\\u003cbr\\u003eemb1=%{x}\\u003cbr\\u003eemb2=%{y}\\u003cextra\\u003e\\u003c\\u002fextra\\u003e\",\"legendgroup\":\"Adjusting hair\",\"marker\":{\"color\":\"#636efa\",\"symbol\":\"circle\"},\"mode\":\"markers\",\"name\":\"Adjusting hair\",\"showlegend\":true,\"x\":[12.006787300109863,-8.858155250549316,-1.2127798795700073,-1.2808226346969604,-1.3995296955108643,-1.3874285221099854,-2.2345376014709473,-1.281235694885254,-2.168595314025879,-1.280277132987976,-1.2805731296539307,-1.789293646812439,-1.3525793552398682,-1.2788878679275513,-2.359431505203247,-1.387764573097229,-2.376938581466675,10.995194435119629,-1.3706024885177612,-1.394473671913147,-1.3919181823730469,-1.3393388986587524,-1.3274692296981812,-2.4505040645599365,-1.4002470970153809,8.75616455078125,-1.3436279296875,13.890419960021973,-2.2096352577209473,-2.326549530029297,-2.2249643802642822,-8.858041763305664,-1.3665220737457275,-1.4108394384384155,8.070343017578125,-1.2450811862945557,-1.3643364906311035,-2.46779727935791,-2.244442939758301,12.739104270935059,-11.75554370880127,-2.2276015281677246],\"xaxis\":\"x\",\"y\":[-6.990147590637207,15.852815628051758,21.142580032348633,21.07500457763672,17.473297119140625,17.488162994384766,18.077302932739258,21.074506759643555,18.03386116027832,21.075664520263672,21.07524871826172,-1.1144661903381348,17.473377227783203,21.076955795288086,17.958873748779297,17.488876342773438,17.942262649536133,17.8557186126709,17.474340438842773,17.479114532470703,17.475126266479492,17.476314544677734,17.459457397460938,17.873167037963867,17.487255096435547,-2.1536808013916016,17.460716247558594,7.4235453605651855,18.064908981323242,17.99065589904785,18.097694396972656,15.845562934875488,17.476577758789062,17.458683013916016,-2.3640880584716797,21.11014175415039,17.49721908569336,17.851930618286133,18.0690975189209,-3.333692789077759,16.74521255493164,18.08808135986328],\"yaxis\":\"y\",\"type\":\"scattergl\"},{\"hovertemplate\":\"label=Adjusting hair\\u003cbr\\u003esample=resample\\u003cbr\\u003eemb1=%{x}\\u003cbr\\u003eemb2=%{y}\\u003cextra\\u003e\\u003c\\u002fextra\\u003e\",\"legendgroup\":\"Adjusting hair\",\"marker\":{\"color\":\"#636efa\",\"symbol\":\"circle\"},\"mode\":\"markers\",\"name\":\"Adjusting hair\",\"showlegend\":false,\"x\":[-1.2788878679275513,10.995194435119629],\"xaxis\":\"x2\",\"y\":[21.076955795288086,17.8557186126709],\"yaxis\":\"y2\",\"type\":\"scattergl\"},{\"hovertemplate\":\"label=Adjusting hair+Arms akimbo\\u003cbr\\u003esample=all\\u003cbr\\u003eemb1=%{x}\\u003cbr\\u003eemb2=%{y}\\u003cextra\\u003e\\u003c\\u002fextra\\u003e\",\"legendgroup\":\"Adjusting hair+Arms akimbo\",\"marker\":{\"color\":\"#EF553B\",\"symbol\":\"circle\"},\"mode\":\"markers\",\"name\":\"Adjusting hair+Arms akimbo\",\"showlegend\":true,\"x\":[-1.400770902633667,10.17359733581543,10.177848815917969],\"xaxis\":\"x\",\"y\":[17.50165557861328,1.8226816654205322,1.8272449970245361],\"yaxis\":\"y\",\"type\":\"scattergl\"},{\"hovertemplate\":\"label=Adjusting hair+Arms akimbo\\u003cbr\\u003esample=resample\\u003cbr\\u003eemb1=%{x}\\u003cbr\\u003eemb2=%{y}\\u003cextra\\u003e\\u003c\\u002fextra\\u003e\",\"legendgroup\":\"Adjusting hair+Arms akimbo\",\"marker\":{\"color\":\"#EF553B\",\"symbol\":\"circle\"},\"mode\":\"markers\",\"name\":\"Adjusting hair+Arms akimbo\",\"showlegend\":false,\"x\":[10.17359733581543],\"xaxis\":\"x2\",\"y\":[1.8226816654205322],\"yaxis\":\"y2\",\"type\":\"scattergl\"},{\"hovertemplate\":\"label=Adjusting hair+Arms behind\\u003cbr\\u003esample=all\\u003cbr\\u003eemb1=%{x}\\u003cbr\\u003eemb2=%{y}\\u003cextra\\u003e\\u003c\\u002fextra\\u003e\",\"legendgroup\":\"Adjusting hair+Arms behind\",\"marker\":{\"color\":\"#00cc96\",\"symbol\":\"circle\"},\"mode\":\"markers\",\"name\":\"Adjusting hair+Arms behind\",\"showlegend\":true,\"x\":[16.34219741821289,13.889948844909668,10.165788650512695],\"xaxis\":\"x\",\"y\":[10.344430923461914,7.423867225646973,1.8144432306289673],\"yaxis\":\"y\",\"type\":\"scattergl\"},{\"hovertemplate\":\"label=Adjusting hair+Arms behind\\u003cbr\\u003esample=resample\\u003cbr\\u003eemb1=%{x}\\u003cbr\\u003eemb2=%{y}\\u003cextra\\u003e\\u003c\\u002fextra\\u003e\",\"legendgroup\":\"Adjusting hair+Arms behind\",\"marker\":{\"color\":\"#00cc96\",\"symbol\":\"circle\"},\"mode\":\"markers\",\"name\":\"Adjusting hair+Arms behind\",\"showlegend\":false,\"x\":[16.34219741821289],\"xaxis\":\"x2\",\"y\":[10.344430923461914],\"yaxis\":\"y2\",\"type\":\"scattergl\"},{\"hovertemplate\":\"label=Adjusting hair+Arms behind+Crossing legs\\u003cbr\\u003esample=all\\u003cbr\\u003eemb1=%{x}\\u003cbr\\u003eemb2=%{y}\\u003cextra\\u003e\\u003c\\u002fextra\\u003e\",\"legendgroup\":\"Adjusting hair+Arms behind+Crossing legs\",\"marker\":{\"color\":\"#ab63fa\",\"symbol\":\"circle\"},\"mode\":\"markers\",\"name\":\"Adjusting hair+Arms behind+Crossing legs\",\"showlegend\":true,\"x\":[-8.980057716369629],\"xaxis\":\"x\",\"y\":[11.208534240722656],\"yaxis\":\"y\",\"type\":\"scattergl\"},{\"hovertemplate\":\"label=Adjusting hair+Arms behind+Crossing legs\\u003cbr\\u003esample=resample\\u003cbr\\u003eemb1=%{x}\\u003cbr\\u003eemb2=%{y}\\u003cextra\\u003e\\u003c\\u002fextra\\u003e\",\"legendgroup\":\"Adjusting hair+Arms behind+Crossing legs\",\"marker\":{\"color\":\"#ab63fa\",\"symbol\":\"circle\"},\"mode\":\"markers\",\"name\":\"Adjusting hair+Arms behind+Crossing legs\",\"showlegend\":false,\"x\":[-8.980057716369629],\"xaxis\":\"x2\",\"y\":[11.208534240722656],\"yaxis\":\"y2\",\"type\":\"scattergl\"},{\"hovertemplate\":\"label=Adjusting hair+Folding arms\\u003cbr\\u003esample=all\\u003cbr\\u003eemb1=%{x}\\u003cbr\\u003eemb2=%{y}\\u003cextra\\u003e\\u003c\\u002fextra\\u003e\",\"legendgroup\":\"Adjusting hair+Folding arms\",\"marker\":{\"color\":\"#FFA15A\",\"symbol\":\"circle\"},\"mode\":\"markers\",\"name\":\"Adjusting hair+Folding arms\",\"showlegend\":true,\"x\":[5.190932750701904,5.196497440338135],\"xaxis\":\"x\",\"y\":[-6.389556407928467,-6.384901523590088],\"yaxis\":\"y\",\"type\":\"scattergl\"},{\"hovertemplate\":\"label=Adjusting hair+Folding arms\\u003cbr\\u003esample=resample\\u003cbr\\u003eemb1=%{x}\\u003cbr\\u003eemb2=%{y}\\u003cextra\\u003e\\u003c\\u002fextra\\u003e\",\"legendgroup\":\"Adjusting hair+Folding arms\",\"marker\":{\"color\":\"#FFA15A\",\"symbol\":\"circle\"},\"mode\":\"markers\",\"name\":\"Adjusting hair+Folding arms\",\"showlegend\":false,\"x\":[5.190932750701904],\"xaxis\":\"x2\",\"y\":[-6.389556407928467],\"yaxis\":\"y2\",\"type\":\"scattergl\"},{\"hovertemplate\":\"label=Adjusting hair+Hand gestures\\u003cbr\\u003esample=all\\u003cbr\\u003eemb1=%{x}\\u003cbr\\u003eemb2=%{y}\\u003cextra\\u003e\\u003c\\u002fextra\\u003e\",\"legendgroup\":\"Adjusting hair+Hand gestures\",\"marker\":{\"color\":\"#19d3f3\",\"symbol\":\"circle\"},\"mode\":\"markers\",\"name\":\"Adjusting hair+Hand gestures\",\"showlegend\":true,\"x\":[-1.1592025756835938,-1.966200828552246,-1.9656754732131958],\"xaxis\":\"x\",\"y\":[-3.62105655670166,14.52292251586914,14.522603988647461],\"yaxis\":\"y\",\"type\":\"scattergl\"},{\"hovertemplate\":\"label=Adjusting hair+Hand gestures\\u003cbr\\u003esample=resample\\u003cbr\\u003eemb1=%{x}\\u003cbr\\u003eemb2=%{y}\\u003cextra\\u003e\\u003c\\u002fextra\\u003e\",\"legendgroup\":\"Adjusting hair+Hand gestures\",\"marker\":{\"color\":\"#19d3f3\",\"symbol\":\"circle\"},\"mode\":\"markers\",\"name\":\"Adjusting hair+Hand gestures\",\"showlegend\":false,\"x\":[-1.1592025756835938,-1.966200828552246],\"xaxis\":\"x2\",\"y\":[-3.62105655670166,14.52292251586914],\"yaxis\":\"y2\",\"type\":\"scattergl\"},{\"hovertemplate\":\"label=Adjusting hair+Moving legs\\u003cbr\\u003esample=all\\u003cbr\\u003eemb1=%{x}\\u003cbr\\u003eemb2=%{y}\\u003cextra\\u003e\\u003c\\u002fextra\\u003e\",\"legendgroup\":\"Adjusting hair+Moving legs\",\"marker\":{\"color\":\"#FF6692\",\"symbol\":\"circle\"},\"mode\":\"markers\",\"name\":\"Adjusting hair+Moving legs\",\"showlegend\":true,\"x\":[-6.4653754234313965,16.36530876159668,16.405839920043945],\"xaxis\":\"x\",\"y\":[3.0699779987335205,10.321503639221191,10.283147811889648],\"yaxis\":\"y\",\"type\":\"scattergl\"},{\"hovertemplate\":\"label=Adjusting hair+Moving legs\\u003cbr\\u003esample=resample\\u003cbr\\u003eemb1=%{x}\\u003cbr\\u003eemb2=%{y}\\u003cextra\\u003e\\u003c\\u002fextra\\u003e\",\"legendgroup\":\"Adjusting hair+Moving legs\",\"marker\":{\"color\":\"#FF6692\",\"symbol\":\"circle\"},\"mode\":\"markers\",\"name\":\"Adjusting hair+Moving legs\",\"showlegend\":false,\"x\":[16.405839920043945],\"xaxis\":\"x2\",\"y\":[10.283147811889648],\"yaxis\":\"y2\",\"type\":\"scattergl\"},{\"hovertemplate\":\"label=Adjusting hair+Moving legs+Rubbing hands\\u003cbr\\u003esample=all\\u003cbr\\u003eemb1=%{x}\\u003cbr\\u003eemb2=%{y}\\u003cextra\\u003e\\u003c\\u002fextra\\u003e\",\"legendgroup\":\"Adjusting hair+Moving legs+Rubbing hands\",\"marker\":{\"color\":\"#B6E880\",\"symbol\":\"circle\"},\"mode\":\"markers\",\"name\":\"Adjusting hair+Moving legs+Rubbing hands\",\"showlegend\":true,\"x\":[8.02180004119873],\"xaxis\":\"x\",\"y\":[-0.27724483609199524],\"yaxis\":\"y\",\"type\":\"scattergl\"},{\"hovertemplate\":\"label=Adjusting hair+Moving legs+Rubbing hands\\u003cbr\\u003esample=resample\\u003cbr\\u003eemb1=%{x}\\u003cbr\\u003eemb2=%{y}\\u003cextra\\u003e\\u003c\\u002fextra\\u003e\",\"legendgroup\":\"Adjusting hair+Moving legs+Rubbing hands\",\"marker\":{\"color\":\"#B6E880\",\"symbol\":\"circle\"},\"mode\":\"markers\",\"name\":\"Adjusting hair+Moving legs+Rubbing hands\",\"showlegend\":false,\"x\":[8.02180004119873],\"xaxis\":\"x2\",\"y\":[-0.27724483609199524],\"yaxis\":\"y2\",\"type\":\"scattergl\"},{\"hovertemplate\":\"label=Adjusting hair+Pulling collar+Scratching neck\\u003cbr\\u003esample=all\\u003cbr\\u003eemb1=%{x}\\u003cbr\\u003eemb2=%{y}\\u003cextra\\u003e\\u003c\\u002fextra\\u003e\",\"legendgroup\":\"Adjusting hair+Pulling collar+Scratching neck\",\"marker\":{\"color\":\"#FF97FF\",\"symbol\":\"circle\"},\"mode\":\"markers\",\"name\":\"Adjusting hair+Pulling collar+Scratching neck\",\"showlegend\":true,\"x\":[16.378520965576172],\"xaxis\":\"x\",\"y\":[10.309656143188477],\"yaxis\":\"y\",\"type\":\"scattergl\"},{\"hovertemplate\":\"label=Adjusting hair+Pulling collar+Scratching neck\\u003cbr\\u003esample=resample\\u003cbr\\u003eemb1=%{x}\\u003cbr\\u003eemb2=%{y}\\u003cextra\\u003e\\u003c\\u002fextra\\u003e\",\"legendgroup\":\"Adjusting hair+Pulling collar+Scratching neck\",\"marker\":{\"color\":\"#FF97FF\",\"symbol\":\"circle\"},\"mode\":\"markers\",\"name\":\"Adjusting hair+Pulling collar+Scratching neck\",\"showlegend\":false,\"x\":[16.378520965576172],\"xaxis\":\"x2\",\"y\":[10.309656143188477],\"yaxis\":\"y2\",\"type\":\"scattergl\"},{\"hovertemplate\":\"label=Adjusting hair+Rubbing face\\u003cbr\\u003esample=all\\u003cbr\\u003eemb1=%{x}\\u003cbr\\u003eemb2=%{y}\\u003cextra\\u003e\\u003c\\u002fextra\\u003e\",\"legendgroup\":\"Adjusting hair+Rubbing face\",\"marker\":{\"color\":\"#FECB52\",\"symbol\":\"circle\"},\"mode\":\"markers\",\"name\":\"Adjusting hair+Rubbing face\",\"showlegend\":true,\"x\":[-2.2378478050231934],\"xaxis\":\"x\",\"y\":[18.080045700073242],\"yaxis\":\"y\",\"type\":\"scattergl\"},{\"hovertemplate\":\"label=Adjusting hair+Rubbing face\\u003cbr\\u003esample=resample\\u003cbr\\u003eemb1=%{x}\\u003cbr\\u003eemb2=%{y}\\u003cextra\\u003e\\u003c\\u002fextra\\u003e\",\"legendgroup\":\"Adjusting hair+Rubbing face\",\"marker\":{\"color\":\"#FECB52\",\"symbol\":\"circle\"},\"mode\":\"markers\",\"name\":\"Adjusting hair+Rubbing face\",\"showlegend\":false,\"x\":[-2.2378478050231934],\"xaxis\":\"x2\",\"y\":[18.080045700073242],\"yaxis\":\"y2\",\"type\":\"scattergl\"},{\"hovertemplate\":\"label=Adjusting hair+Rubbing hands\\u003cbr\\u003esample=all\\u003cbr\\u003eemb1=%{x}\\u003cbr\\u003eemb2=%{y}\\u003cextra\\u003e\\u003c\\u002fextra\\u003e\",\"legendgroup\":\"Adjusting hair+Rubbing hands\",\"marker\":{\"color\":\"#636efa\",\"symbol\":\"circle\"},\"mode\":\"markers\",\"name\":\"Adjusting hair+Rubbing hands\",\"showlegend\":true,\"x\":[-10.40239143371582,12.080817222595215,-6.13103723526001,11.119105339050293,11.119654655456543,7.974842548370361,-8.858353614807129],\"xaxis\":\"x\",\"y\":[0.6503815650939941,-6.8221964836120605,-2.4646949768066406,8.304047584533691,8.305069923400879,-0.33930864930152893,15.846243858337402],\"yaxis\":\"y\",\"type\":\"scattergl\"},{\"hovertemplate\":\"label=Adjusting hair+Rubbing hands\\u003cbr\\u003esample=resample\\u003cbr\\u003eemb1=%{x}\\u003cbr\\u003eemb2=%{y}\\u003cextra\\u003e\\u003c\\u002fextra\\u003e\",\"legendgroup\":\"Adjusting hair+Rubbing hands\",\"marker\":{\"color\":\"#636efa\",\"symbol\":\"circle\"},\"mode\":\"markers\",\"name\":\"Adjusting hair+Rubbing hands\",\"showlegend\":false,\"x\":[11.119105339050293],\"xaxis\":\"x2\",\"y\":[8.304047584533691],\"yaxis\":\"y2\",\"type\":\"scattergl\"},{\"hovertemplate\":\"label=Adjusting hair+Scratching neck\\u003cbr\\u003esample=all\\u003cbr\\u003eemb1=%{x}\\u003cbr\\u003eemb2=%{y}\\u003cextra\\u003e\\u003c\\u002fextra\\u003e\",\"legendgroup\":\"Adjusting hair+Scratching neck\",\"marker\":{\"color\":\"#EF553B\",\"symbol\":\"circle\"},\"mode\":\"markers\",\"name\":\"Adjusting hair+Scratching neck\",\"showlegend\":true,\"x\":[-2.4791455268859863],\"xaxis\":\"x\",\"y\":[17.83843421936035],\"yaxis\":\"y\",\"type\":\"scattergl\"},{\"hovertemplate\":\"label=Adjusting hair+Scratching neck\\u003cbr\\u003esample=resample\\u003cbr\\u003eemb1=%{x}\\u003cbr\\u003eemb2=%{y}\\u003cextra\\u003e\\u003c\\u002fextra\\u003e\",\"legendgroup\":\"Adjusting hair+Scratching neck\",\"marker\":{\"color\":\"#EF553B\",\"symbol\":\"circle\"},\"mode\":\"markers\",\"name\":\"Adjusting hair+Scratching neck\",\"showlegend\":false,\"x\":[-2.4791455268859863],\"xaxis\":\"x2\",\"y\":[17.83843421936035],\"yaxis\":\"y2\",\"type\":\"scattergl\"},{\"hovertemplate\":\"label=Adjusting hair+Touching face\\u003cbr\\u003esample=all\\u003cbr\\u003eemb1=%{x}\\u003cbr\\u003eemb2=%{y}\\u003cextra\\u003e\\u003c\\u002fextra\\u003e\",\"legendgroup\":\"Adjusting hair+Touching face\",\"marker\":{\"color\":\"#00cc96\",\"symbol\":\"circle\"},\"mode\":\"markers\",\"name\":\"Adjusting hair+Touching face\",\"showlegend\":true,\"x\":[8.925469398498535,8.068556785583496],\"xaxis\":\"x\",\"y\":[-2.1261115074157715,-2.351316213607788],\"yaxis\":\"y\",\"type\":\"scattergl\"},{\"hovertemplate\":\"label=Adjusting hair+Touching face\\u003cbr\\u003esample=resample\\u003cbr\\u003eemb1=%{x}\\u003cbr\\u003eemb2=%{y}\\u003cextra\\u003e\\u003c\\u002fextra\\u003e\",\"legendgroup\":\"Adjusting hair+Touching face\",\"marker\":{\"color\":\"#00cc96\",\"symbol\":\"circle\"},\"mode\":\"markers\",\"name\":\"Adjusting hair+Touching face\",\"showlegend\":false,\"x\":[8.925469398498535],\"xaxis\":\"x2\",\"y\":[-2.1261115074157715],\"yaxis\":\"y2\",\"type\":\"scattergl\"},{\"hovertemplate\":\"label=Adjusting hair+Touching nose\\u003cbr\\u003esample=all\\u003cbr\\u003eemb1=%{x}\\u003cbr\\u003eemb2=%{y}\\u003cextra\\u003e\\u003c\\u002fextra\\u003e\",\"legendgroup\":\"Adjusting hair+Touching nose\",\"marker\":{\"color\":\"#ab63fa\",\"symbol\":\"circle\"},\"mode\":\"markers\",\"name\":\"Adjusting hair+Touching nose\",\"showlegend\":true,\"x\":[15.797829627990723],\"xaxis\":\"x\",\"y\":[-0.27616366744041443],\"yaxis\":\"y\",\"type\":\"scattergl\"},{\"hovertemplate\":\"label=Adjusting hair+Touching nose\\u003cbr\\u003esample=resample\\u003cbr\\u003eemb1=%{x}\\u003cbr\\u003eemb2=%{y}\\u003cextra\\u003e\\u003c\\u002fextra\\u003e\",\"legendgroup\":\"Adjusting hair+Touching nose\",\"marker\":{\"color\":\"#ab63fa\",\"symbol\":\"circle\"},\"mode\":\"markers\",\"name\":\"Adjusting hair+Touching nose\",\"showlegend\":false,\"x\":[15.797829627990723],\"xaxis\":\"x2\",\"y\":[-0.27616366744041443],\"yaxis\":\"y2\",\"type\":\"scattergl\"},{\"hovertemplate\":\"label=Arms akimbo\\u003cbr\\u003esample=all\\u003cbr\\u003eemb1=%{x}\\u003cbr\\u003eemb2=%{y}\\u003cextra\\u003e\\u003c\\u002fextra\\u003e\",\"legendgroup\":\"Arms akimbo\",\"marker\":{\"color\":\"#FFA15A\",\"symbol\":\"circle\"},\"mode\":\"markers\",\"name\":\"Arms akimbo\",\"showlegend\":true,\"x\":[0.4696013927459717,-1.8258384466171265,-0.9166377782821655,-0.9231623411178589,-2.1117448806762695,-1.8909941911697388,3.0202884674072266,-1.4894598722457886,3.3836352825164795,-0.3506470322608948,-0.5576130747795105,3.631136655807495,3.0100181102752686,12.727472305297852,-1.8528995513916016,-2.0860300064086914,-1.9223867654800415,-1.2959234714508057,0.6594313383102417,3.627014636993408,0.7764963507652283,-1.4179069995880127,3.5897409915924072,3.3163704872131348,-2.072010040283203,3.287757158279419,-2.0982749462127686,-6.771289348602295,0.828326404094696,0.6265217065811157,-2.0016934871673584,-1.9430984258651733,7.466096878051758,-1.4756566286087036,-1.9793322086334229,-1.218603253364563,-2.071770429611206,4.289913654327393,3.5910730361938477,7.535686492919922,3.044334650039673,-5.818303108215332,0.6703187227249146,0.6173205375671387,7.395275592803955,-0.9080970287322998,-5.8153791427612305,4.302556991577148,3.4060306549072266,-0.860122561454773,3.3803744316101074,-1.729976773262024,9.234167098999023,-2.0873639583587646,-1.770051121711731,0.5988562107086182,3.035710096359253,-2.175532341003418,3.0288331508636475,-1.9782181978225708,9.24286937713623,3.365152597427368,-2.025505304336548,-14.554261207580566,3.691910743713379,-5.822002410888672,-5.8166656494140625,3.768434524536133,3.7922842502593994,2.699924945831299,7.395771026611328,-0.9847821593284607,-5.815306663513184,-2.118889331817627,-0.8928691744804382,-2.4589009284973145,-14.48961353302002,-10.650115966796875,3.384880542755127,-14.235722541809082,-14.556739807128906,-15.235363006591797,1.4243370294570923,1.4025369882583618,1.4044774770736694,1.3921443223953247,-15.315107345581055,0.9625831246376038,-0.9811114072799683,-15.262210845947266,-14.538260459899902,-14.552902221679688,-14.549349784851074,0.4700407087802887,3.7593445777893066,-2.286953926086426,3.3510022163391113,-15.288079261779785,0.7091512084007263,3.412212371826172,7.374176025390625,3.2913503646850586,-2.0581939220428467,-5.312579154968262,0.669287383556366,-5.312859535217285,6.02025032043457,0.21516276895999908,0.10593850165605545,-2.0433173179626465,-2.2825706005096436,4.2907328605651855,-1.7947471141815186,-5.312598705291748,3.634970188140869,-14.521565437316895,-5.312710285186768,-1.612409234046936,-14.509077072143555,-14.572821617126465,-1.4239251613616943,-6.744988918304443,0.4981081187725067,0.4558936357498169,-1.4179786443710327,-0.9392916560173035,-5.31278133392334,-1.8304232358932495,-1.5542895793914795,-5.319692611694336,-2.039947271347046,-0.9336901903152466,-1.7601852416992188,-10.427013397216797,6.020481109619141,-8.822436332702637,-2.446073293685913,-0.37634333968162537,3.6164228916168213,3.3625237941741943,-2.167314291000366,1.2911568880081177,8.470666885375977,0.7782965898513794,3.315044641494751,0.7171039581298828,0.7698720097541809,0.6981499791145325,2.7956161499023438,3.3360090255737305,-1.205431342124939,0.7751570343971252,2.7056119441986084,-1.2372846603393555,0.8577937483787537,-1.2857697010040283,-1.2438045740127563,0.8585975766181946,2.7183661460876465,0.8472612500190735,0.8638160824775696,3.0625178813934326,0.2873120903968811,0.5935352444648743,3.5284218788146973,3.060276508331299,0.19086305797100067,-1.0439646244049072,3.114055633544922,-0.9996775388717651,-11.570966720581055,-0.5738981366157532,-1.8724162578582764,-2.1341874599456787,3.005000591278076,-0.3332260251045227,-5.816829681396484,0.6935775876045227,7.399537563323975,0.6768125891685486,-1.6848880052566528,3.32529354095459,0.8553640842437744,3.5465595722198486,-1.6069371700286865,3.5591847896575928,-10.42039680480957,14.12045955657959,-14.21474838256836,0.864203155040741,2.864802837371826,0.7377122640609741,1.4323540925979614,2.8708231449127197,-1.2215973138809204,2.820389747619629,-14.248220443725586,-1.0234524011611938,3.2986462116241455,-2.0847432613372803,-0.045531101524829865,-2.1126184463500977,-1.2640602588653564,-1.7655800580978394,-0.33179396390914917,-0.4219571650028229,0.5250575542449951,-8.90816593170166,-0.11185485124588013,0.49208417534828186,3.0716519355773926,-1.891086459159851,-1.4830466508865356,-0.8572474122047424,0.07525479048490524,3.3086962699890137,-1.3417125940322876,-0.31662318110466003,-0.8507711887359619,-0.5918630361557007,9.257944107055664,-2.0965349674224854,-0.543703019618988,-1.0452525615692139,-0.022588981315493584,-1.6829906702041626,3.4401235580444336,-3.590986967086792,3.33821964263916,-3.5917842388153076,-8.96288013458252,3.2168917655944824,-1.8210220336914062,-2.03444504737854,3.5514302253723145,2.978771209716797,0.1192774772644043,-8.842896461486816,-8.321969985961914,-0.022727349773049355,-1.0736662149429321,-1.1244432926177979,-1.4141438007354736,3.5169124603271484,-1.124346375465393,-0.04336367920041084,-0.4301804006099701,3.0687358379364014,-0.4143598675727844,-0.4594196677207947,0.005908005405217409,-1.411665916442871,-2.04083251953125,-1.184393048286438,-1.1530205011367798,-0.9232537746429443,-1.2105222940444946,3.3871216773986816,2.8187453746795654,-0.005978796165436506,3.382763385772705,-1.0122638940811157,0.2468351572751999,3.2429959774017334,-2.141340732574463,-1.4227288961410522,-1.4730051755905151,3.0230932235717773,0.1954846829175949,-1.7767765522003174,-1.6965981721878052,-14.280863761901855,-1.2573957443237305,2.9876041412353516,-11.879232406616211,-2.2162837982177734,-1.491498589515686,-1.523371934890747,-0.46811485290527344,3.3223776817321777,9.24429988861084,-2.090805768966675,7.494579792022705,-1.6805551052093506,-12.621173858642578,-0.2954026162624359,-1.003579020500183,-1.6832720041275024,-1.011357307434082,3.1557650566101074,3.7513389587402344,3.6834347248077393,-2.065211296081543,2.7069597244262695,-8.923605918884277,-0.9209301471710205,3.239586591720581,3.7810637950897217,-2.1220223903656006,14.1317720413208,7.373757362365723,0.39670851826667786,-1.1559619903564453,-2.017612934112549,-0.9163510799407959,15.660200119018555,9.243447303771973,-1.5682190656661987,-2.1201863288879395,-2.0721678733825684,8.171032905578613,-5.81770658493042,-1.628291130065918,3.6466147899627686,-1.9493268728256226,-2.0508999824523926,-2.03013277053833,-1.7067146301269531,3.626256227493286,-1.1906039714813232,3.1922998428344727,-2.0352823734283447,-3.5886738300323486,-2.3055176734924316,-8.889528274536133,-0.9847090840339661,-8.30549430847168,-0.35536378622055054,-8.323053359985352,-0.41791436076164246,-1.4427205324172974,3.3425917625427246,3.233288288116455,-8.330153465270996,-1.3554245233535767,-1.4957164525985718,-1.05641770362854,-1.6885709762573242,-1.409586787223816,3.322476625442505,-1.8001632690429688,-1.7426689863204956,-1.7945393323898315,-1.3714762926101685,-3.5887038707733154,-1.0609632730484009,4.276774883270264,-1.4566290378570557,-1.2505072355270386,4.254579544067383,-1.4830256700515747,0.6968104839324951,-1.167596459388733,-1.2483265399932861,-1.1659804582595825,-0.9385941028594971,4.294267654418945,-2.284158945083618,3.3348371982574463,-2.107145071029663,9.236369132995605,3.6100564002990723,-0.39973074197769165,-0.48978176712989807,-0.4244040846824646,0.5262465476989746,0.5148688554763794,-0.3920702338218689,-0.7816973924636841,0.40933361649513245,-0.32112592458724976,-0.005391732789576054,3.7065372467041016,0.21018926799297333,-0.8308292031288147,2.9658141136169434,-1.4685299396514893,5.793184280395508,-2.0409023761749268,-1.4326443672180176,-3.5882718563079834,-3.588979482650757,-8.8898344039917,-8.91858196258545,-3.5882890224456787,-1.1083755493164062,-0.3536059558391571,-0.38672640919685364,-0.4012497365474701,2.8994314670562744,-0.5543274283409119,-0.911570131778717,-0.1698513627052307,-0.9301291704177856,-8.866780281066895,-0.9178288578987122,-0.7381517291069031,-1.159257411956787,3.0019724369049072,-0.8321866393089294,-1.3934333324432373,-0.5961534976959229,8.409674644470215,0.5303850173950195,-1.4210995435714722,-2.025921583175659,0.4732593297958374,-0.0353163480758667,-1.9720616340637207,-8.918268203735352,0.22035746276378632,-1.7808425426483154,3.307703733444214,3.6307060718536377,3.6949431896209717,3.3415398597717285,-1.97085440158844,-8.322516441345215,-8.844298362731934,-8.853638648986816,3.2738144397735596,-8.95442008972168,-8.901354789733887,-8.887953758239746,-1.1783130168914795,-1.1496424674987793,-2.0226895809173584,-2.0122179985046387,0.5940269827842712,-0.8583750128746033,-0.8720635771751404,-8.855402946472168,-1.9177395105361938,-8.873705863952637,-8.911548614501953,-8.91412353515625,3.640906810760498,-10.431082725524902,-14.21068286895752,-5.3128275871276855,14.140230178833008,3.3863704204559326,2.9885566234588623,-1.726078748703003,7.39401388168335,7.406744956970215,8.399408340454102,-1.9772160053253174,-0.3435280919075012,0.03596196696162224,7.420711517333984,-6.264891147613525,3.0062830448150635,-0.5455145239830017,-0.5301914811134338,4.295787334442139,-1.4000409841537476,7.392956733703613,-2.0434887409210205,-2.458346366882324,7.482484817504883,-2.173475742340088,16.180919647216797,16.181943893432617,0.2524547278881073,3.0182862281799316,3.608745813369751,-1.8269767761230469,-6.7119245529174805,-1.424751877784729,-6.7413010597229,7.399148464202881,-5.538937091827393,16.19696044921875,3.2203874588012695,-11.49246597290039,14.101730346679688,-14.29496955871582,-14.305044174194336,-8.495205879211426,-8.323294639587402,-15.222183227539062,-10.764583587646484,-13.929400444030762,-11.585244178771973,-14.388833999633789,0.8640863299369812,-14.26335334777832,-14.300076484680176,-1.3833104372024536,-2.1645750999450684,-15.269510269165039,-14.582846641540527,-14.60339641571045,-10.717802047729492,-14.573539733886719,14.131097793579102,-14.600462913513184,-0.5471566319465637,-11.208311080932617,-14.295747756958008,2.8271472454071045,-0.5318915843963623,3.360969066619873,-14.289194107055664,-2.0529274940490723,-15.262466430664062,-14.260090827941895,-14.278733253479004,-14.625292778015137,-13.978208541870117,-14.078495025634766,-2.140223741531372,-14.578699111938477,-1.6977556943893433,7.378697872161865,-0.5630854964256287,3.510768413543701,-0.6137195229530334,-0.616989016532898,14.137173652648926,-13.972506523132324,-0.9444793462753296,3.720261335372925,-0.26110684871673584,-0.9799355864524841,-3.573232650756836,-11.187524795532227,3.378448963165283,0.17739246785640717,-0.46537014842033386,3.3269741535186768,2.9934346675872803,-1.0085617303848267,-1.4196701049804688,-0.21249040961265564,0.48974525928497314,-0.9544162154197693,-2.462585687637329,-0.2387748807668686,-0.22545216977596283,-2.040755033493042,3.2930519580841064,9.43018627166748,-10.572842597961426,-0.5583390593528748,1.418452262878418,1.4045771360397339,-6.768462657928467,-4.144257068634033,2.992598533630371,-0.23498955368995667,-0.21526724100112915,-0.1643737107515335,-14.305398941040039,-14.284370422363281,0.6800746917724609,5.0466485023498535,0.488672137260437,-2.144076347351074,-0.20620512962341309,-0.16289621591567993,3.071331262588501,3.256355047225952,-0.19454635679721832,0.5170899033546448,0.5080974102020264,-0.15745921432971954,0.9733730554580688,-0.7499871850013733,-6.714415073394775,4.654604911804199,7.3867106437683105,-5.004101753234863,-6.6733012199401855,-2.1286747455596924,7.387303352355957,-0.4762272834777832,3.4168431758880615,16.173696517944336,16.181488037109375,0.36400848627090454,-2.1603806018829346,-11.170778274536133,-11.643214225769043,13.371156692504883,-2.4595773220062256,7.4328532218933105,-1.9218858480453491,-2.451648712158203,7.418149471282959,-0.6415787935256958,-0.16006676852703094,-0.20752978324890137,3.581793785095215,-0.2074873447418213,-1.1111345291137695,-0.20197966694831848,3.6589040756225586,-0.20011074841022491,7.38533353805542,7.384779453277588,16.181259155273438,3.0112812519073486,8.42165756225586,-1.165427327156067,-1.8302133083343506,16.178422927856445,7.384446620941162,7.383067607879639,7.383725166320801,7.386350154876709,8.578765869140625,3.0120246410369873,-11.032462120056152,-14.310171127319336,-15.240304946899414,7.590113639831543,-14.398449897766113,7.662060737609863,-11.870405197143555,5.083918571472168,-14.181428909301758,3.052891969680786,-0.357414573431015,-11.551015853881836,-11.899725914001465,7.5660719871521,-11.961309432983398,3.318976640701294,7.563384056091309,7.5950751304626465,-11.531305313110352,0.5180501937866211,-11.623740196228027,4.228245735168457,-11.562562942504883,-15.252020835876465,14.117910385131836,0.18706750869750977,-11.944607734680176,3.0161728858947754,-14.289983749389648,-14.239578247070312,5.046403408050537,14.176733016967773,-13.976974487304688,-1.1386491060256958,5.03608512878418,-1.8615769147872925,-11.960555076599121,5.054815292358398,-2.4608466625213623,7.629541397094727,14.15683364868164,0.41527700424194336,7.54562520980835,-11.379467010498047,-11.954957962036133,1.178938627243042,-2.1338257789611816,-13.765264511108398,-1.028831958770752,-2.27646541595459,7.6403021812438965,-11.60567855834961,7.625827312469482,14.086350440979004,3.2311160564422607,-3.5375633239746094,-0.3104134500026703,14.116772651672363,-1.4031094312667847,3.37070631980896,-15.287416458129883,-0.3321893513202667,5.065703392028809,-11.28023910522461,7.506590366363525,7.513000965118408,5.067512035369873,7.5565338134765625,-2.044020414352417,-14.042280197143555,-14.60169506072998,2.9794301986694336,-2.0702409744262695,3.4122047424316406,-13.973296165466309,-14.308295249938965,-14.617045402526855,-14.207576751708984,-1.7191126346588135,-1.9075249433517456,4.286866664886475,-1.0314561128616333,0.5450785160064697,7.562685966491699,-1.8000293970108032,-2.285095691680908,-0.9086390733718872,-1.117471694946289,-6.768782138824463,-5.717097282409668,-0.3907333016395569,-14.09375,3.3474810123443604,-14.295392990112305,-0.2121877670288086,-14.277268409729004,14.110222816467285,-13.766609191894531,-15.265321731567383,-10.716547966003418,-13.777432441711426,-13.764595985412598,-13.774523735046387,-13.788769721984863,-10.687419891357422,-1.037585735321045,-2.1344714164733887,14.137451171875,-14.609114646911621,-11.60729694366455,-13.968029022216797,7.654141426086426,14.098861694335938,-14.585166931152344,-14.235115051269531,-14.147234916687012,-15.227553367614746,-14.153450012207031,3.288602828979492,-11.5809907913208,-11.885141372680664,-14.165979385375977],\"xaxis\":\"x\",\"y\":[6.271014213562012,5.038814067840576,7.72254753112793,5.749536991119385,8.251614570617676,6.330838680267334,19.891820907592773,5.898335933685303,-2.5860650539398193,7.76530647277832,5.193405628204346,-4.110336780548096,19.88273048400879,-3.3265280723571777,6.337612628936768,7.285480499267578,6.015638828277588,5.861280918121338,6.769488334655762,-4.004683971405029,7.962894439697266,5.372928142547607,-4.105780601501465,-2.421616792678833,5.855858325958252,-2.5090904235839844,5.84905481338501,-6.493043899536133,7.153112888336182,7.8332390785217285,7.895004749298096,7.664046287536621,13.509182929992676,6.639249801635742,9.328286170959473,7.220126628875732,9.321610450744629,-4.5648674964904785,-4.099425315856934,13.760724067687988,-1.9873876571655273,21.977142333984375,7.88913631439209,7.826292991638184,13.180355072021484,8.754545211791992,21.980939865112305,-4.574641704559326,-3.2511231899261475,8.279560089111328,-2.6932120323181152,7.5769877433776855,-4.098376274108887,9.345099449157715,7.582325458526611,6.428461074829102,-1.9519649744033813,7.2292094230651855,-1.9296764135360718,7.875164985656738,-4.100748062133789,-3.6620895862579346,9.260221481323242,0.7075043320655823,-2.673090696334839,21.972667694091797,21.979463577270508,-2.6686336994171143,-2.6682238578796387,-2.5544841289520264,13.094131469726562,5.803516864776611,21.981201171875,8.282252311706543,8.580211639404297,12.07359790802002,0.7880756855010986,9.656172752380371,-3.704021692276001,1.2072691917419434,0.7059215307235718,9.146122932434082,7.933135509490967,7.918006896972656,7.923032283782959,7.905480861663818,9.172911643981934,7.6912946701049805,7.041075706481934,9.180959701538086,0.7252941131591797,0.7082669138908386,0.7118342518806458,6.264399528503418,-2.6658828258514404,5.803560733795166,-3.2114720344543457,9.199747085571289,7.179380416870117,-3.7667315006256104,-1.840163230895996,-2.4468250274658203,7.005098342895508,-12.03176498413086,6.918474197387695,-12.032205581665039,7.505709648132324,5.50811767578125,5.28262186050415,5.89933967590332,-0.8208202719688416,-4.558887958526611,5.0323615074157715,-12.031729698181152,-4.076212406158447,0.7391839027404785,-12.032140731811523,9.602258682250977,0.7654672265052795,0.6890073418617249,5.151492118835449,-6.5221405029296875,6.1850972175598145,7.174377918243408,5.404645919799805,7.712080478668213,-12.032533645629883,5.0570597648620605,7.436261177062988,-12.04452133178711,6.885587692260742,7.846663475036621,7.581125736236572,9.847936630249023,7.505874156951904,-0.26711827516555786,12.055424690246582,7.730419635772705,-4.1067891120910645,-3.1576526165008545,7.254668712615967,7.862395286560059,16.517873764038086,7.971364974975586,-2.416675090789795,7.950465679168701,7.967348098754883,7.958371639251709,-2.6054301261901855,20.32160758972168,7.202383041381836,7.968820571899414,-2.558809757232666,7.253288269042969,7.159322738647461,5.920374870300293,5.973700523376465,7.153387069702148,-2.575655937194824,7.161899566650391,7.166433811187744,19.94507598876953,5.946601867675781,6.402298927307129,-2.646510601043701,19.937637329101562,2.9863667488098145,6.875977516174316,-2.793010711669922,7.027042865753174,9.54923152923584,7.720915794372559,7.715190410614014,7.300091743469238,19.878761291503906,7.7391204833984375,21.980619430541992,7.958803176879883,13.224076271057129,7.985214710235596,5.858578205108643,20.318347930908203,7.158382892608643,-4.004452228546143,5.886824607849121,-2.6790754795074463,9.855189323425293,4.273592948913574,1.2345694303512573,7.347941875457764,19.702857971191406,7.867924690246582,7.932173252105713,19.713424682617188,7.257554054260254,19.656288146972656,6.912513732910156,7.054216384887695,-2.8797473907470703,7.420152187347412,3.568524122238159,8.274238586425781,4.522879600524902,4.991853713989258,3.769496202468872,4.0917158126831055,6.243453502655029,-3.6778905391693115,3.634740114212036,6.211555004119873,-3.43632173538208,6.079974174499512,6.62408447265625,4.347311973571777,3.1449313163757324,-2.4584476947784424,9.681982040405273,3.8061046600341797,4.311124324798584,4.647594451904297,-4.110949516296387,9.309450149536133,3.9314827919006348,4.3205952644348145,3.261561393737793,-0.9952779412269592,-3.0620338916778564,-13.097932815551758,20.379636764526367,-13.095985412597656,-3.697633981704712,-2.525364875793457,5.037275314331055,9.306230545043945,-2.6448402404785156,-3.267996311187744,5.197013854980469,-3.7706515789031982,-4.249700546264648,3.4832448959350586,4.340519428253174,4.38031005859375,4.749807357788086,-2.822110891342163,4.386106491088867,3.5757687091827393,3.794877767562866,19.950393676757812,3.7828826904296875,4.49790096282959,3.237450122833252,9.711726188659668,9.170629501342773,9.584464073181152,9.613484382629395,8.792794227600098,9.599370002746582,-2.5398502349853516,19.640596389770508,3.2380530834198,-2.4333953857421875,7.678648948669434,5.609515190124512,-2.9325146675109863,8.78364372253418,5.363255023956299,6.626766681671143,-1.928640365600586,5.426331043243408,6.065638542175293,6.294482231140137,6.842140197753906,5.960638046264648,-2.678584098815918,10.174795150756836,5.824034690856934,6.613470077514648,6.578623294830322,4.7858147621154785,-2.504149913787842,-4.100474834442139,8.147483825683594,13.615143775939941,-0.9923421144485474,14.84106159210205,3.6535911560058594,7.6378960609436035,-0.9950975179672241,7.634698867797852,20.066701889038086,-2.6752171516418457,-2.7057132720947266,8.055441856384277,-2.562725067138672,-3.6861419677734375,8.7864990234375,-2.705087900161743,-2.667046308517456,8.992755889892578,4.278810024261475,-1.8396469354629517,6.057359218597412,9.454267501831055,7.880612850189209,8.769217491149902,-0.4202515184879303,-4.096844673156738,9.638757705688477,8.319705963134766,8.126629829406738,-0.2071657031774521,21.977659225463867,6.090042591094971,-4.0838303565979,6.013519287109375,7.111669063568115,9.257867813110352,7.506293773651123,-2.6606855392456055,9.579712867736816,-2.9130377769470215,5.927345275878906,-13.097770690917969,5.814434051513672,-3.725475788116455,4.506814956665039,-4.2657599449157715,4.0168328285217285,-4.2480363845825195,4.059298992156982,4.754457473754883,20.350645065307617,-3.4210851192474365,-4.241537094116211,4.623956203460693,5.603256702423096,4.565944671630859,4.92909574508667,5.291478157043457,20.302417755126953,5.024452209472656,4.963197708129883,5.047606468200684,9.710565567016602,-13.097610473632812,4.384411334991455,-4.552567958831787,9.748885154724121,7.25898551940918,-4.538466453552246,9.694207191467285,7.011632442474365,9.597830772399902,7.244418144226074,9.607392311096191,8.799155235290527,-4.566971778869629,5.810037612915039,20.391096115112305,8.260645866394043,-4.102093696594238,-4.124104022979736,4.036535739898682,3.8852169513702393,4.111327648162842,6.264874458312988,6.230901718139648,4.027308940887451,4.351681709289551,6.557319641113281,3.895498037338257,3.28375506401062,-2.6657354831695557,-8.423039436340332,8.134844779968262,-2.62073016166687,9.69893741607666,-7.649468421936035,9.217933654785156,6.706440448760986,-13.09783935546875,-13.097846031188965,-3.7558705806732178,-3.6979517936706543,-13.098087310791016,9.051789283752441,3.873380184173584,3.977736473083496,4.037429332733154,-2.6463398933410645,3.934131383895874,4.577250003814697,3.684227705001831,8.776854515075684,-3.6441473960876465,4.394549369812012,4.1177144050598145,4.469860553741455,19.864038467407227,4.320789337158203,4.637230396270752,4.679441928863525,10.0835542678833,6.1984333992004395,9.716043472290039,9.239289283752441,7.714714527130127,3.545164108276367,5.98602819442749,-3.707636833190918,2.952375650405884,-1.10486900806427,20.41319465637207,-2.68434739112854,-2.6793339252471924,20.358579635620117,-1.3356900215148926,-4.248976707458496,-3.6188714504241943,-3.6231906414031982,-2.4916679859161377,-3.7295923233032227,-3.7266905307769775,-3.6778948307037354,4.4456963539123535,9.552051544189453,9.299797058105469,9.303491592407227,6.416761875152588,4.335513114929199,4.340152740478516,-3.631359815597534,6.033545970916748,-3.7406463623046875,-3.714345932006836,-3.6841678619384766,-4.00393009185791,9.845881462097168,1.2542001008987427,-12.032391548156738,4.274357795715332,-3.4337103366851807,19.851919174194336,5.575562000274658,13.090397834777832,13.069524765014648,10.081242561340332,-1.331630825996399,3.7571463584899902,7.614283561706543,13.046001434326172,15.61410140991211,19.87340545654297,4.741664409637451,4.608038902282715,-4.569049835205078,5.404583930969238,13.109586715698242,5.878357410430908,12.072784423828125,-1.864165186882019,7.217659950256348,-5.436801433563232,-5.437502384185791,5.61263370513916,19.894081115722656,-4.092670440673828,5.032776355743408,-6.565983295440674,5.123243808746338,-6.529414653778076,13.05553913116455,2.160778045654297,-5.452638626098633,-3.4547736644744873,9.543569564819336,4.257059097290039,6.160366535186768,6.16526460647583,-1.2264763116836548,-10.023449897766113,9.111858367919922,9.566009521484375,1.5831102132797241,9.532794952392578,6.704780101776123,7.173577308654785,6.865498065948486,6.789988040924072,17.486902236938477,7.153598785400391,9.196170806884766,6.71919584274292,6.725733280181885,9.621617317199707,6.737538814544678,4.2499613761901855,6.727358818054199,5.197473049163818,9.483112335205078,6.1485466957092285,19.65972328186035,4.611745357513428,-3.295248508453369,6.841054439544678,5.841975212097168,9.202080726623535,6.870499134063721,6.841065406799316,6.7295098304748535,1.529558777809143,1.4314916133880615,7.2932281494140625,6.735019207000732,5.764403820037842,13.118700981140137,5.255070686340332,2.3785977363586426,5.378518104553223,5.372873306274414,4.2750115394592285,1.5340862274169922,4.542097568511963,-2.6435537338256836,7.709343433380127,5.808603763580322,14.361928939819336,9.480594635009766,-3.137263536453247,5.410813808441162,4.122889518737793,20.404996871948242,-3.280914306640625,7.5966362953186035,5.095183372497559,-15.218219757080078,6.2167863845825195,5.781122207641602,12.052535057067871,-15.218781471252441,-15.212347030639648,7.969927787780762,-2.477537155151367,7.438817501068115,9.722233772277832,5.264822483062744,7.936978340148926,7.922224521636963,-6.500533580780029,-3.431621789932251,-3.280597448348999,-15.241061210632324,-15.221385955810547,-15.170173645019531,6.80864143371582,6.838142395019531,7.988948345184326,-1.42311692237854,6.161209583282471,8.763772964477539,-15.182798385620117,-15.169830322265625,-3.4443774223327637,15.010711669921875,-15.20034408569336,6.228084564208984,6.189062595367432,-15.164755821228027,7.697433948516846,5.5445756912231445,-6.5615620613098145,-12.478923797607422,19.868675231933594,-3.623528003692627,-6.610687255859375,7.316949844360352,19.868274688720703,7.734851360321045,-2.7639663219451904,-5.429798126220703,-5.43736457824707,6.023256778717041,7.217009544372559,9.48265552520752,9.475056648254395,7.967283725738525,12.074393272399902,-7.215091228485107,7.613373279571533,12.09756088256836,19.845558166503906,5.426023006439209,-15.165992736816406,-15.201507568359375,-2.7101480960845947,-15.20993709564209,5.871142387390137,-15.195951461791992,-4.100559711456299,-15.204841613769531,19.869293212890625,19.86954116821289,-5.437184810638428,-2.6889004707336426,7.503371715545654,9.61143970489502,7.640227317810059,-5.43472146987915,19.869613647460938,19.87067413330078,19.86984634399414,19.868953704833984,1.9138379096984863,-3.3443028926849365,9.521574020385742,6.186119079589844,9.16240119934082,13.890105247497559,0.9285948276519775,14.021896362304688,10.164608001708984,-1.3857213258743286,1.2857847213745117,-3.425737142562866,7.705512046813965,9.594071388244629,10.185559272766113,13.865530014038086,10.427166938781738,-3.5333750247955322,13.860794067382812,13.929378509521484,9.557366371154785,6.203970432281494,9.498729705810547,-4.517978668212891,9.560905456542969,9.219034194946289,4.245482444763184,2.9939236640930176,10.287474632263184,19.88616943359375,6.152445316314697,1.2188524007797241,-1.4230607748031616,4.222614288330078,1.5310908555984497,7.143407344818115,-1.4327096939086914,7.672985076904297,10.250927925109863,-1.4154284000396729,12.068279266357422,13.982786178588867,4.244473934173584,6.0700154304504395,13.778393745422363,9.521970748901367,10.397981643676758,-8.522008895874023,7.3075995445251465,1.760589599609375,7.001908302307129,-0.8237572908401489,13.997946739196777,9.50776195526123,13.974542617797852,4.270875453948975,-2.884016990661621,11.94866943359375,7.731473445892334,4.271313190460205,5.3641557693481445,-3.2510604858398438,9.20069694519043,7.70622444152832,-1.4038041830062866,9.51252555847168,13.657076835632324,13.673298835754395,-1.4023054838180542,13.858821868896484,6.90234899520874,1.4441909790039062,6.723458766937256,19.842004776000977,7.392494201660156,-3.7500274181365967,1.5348984003067017,6.163247585296631,6.7324419021606445,1.2569708824157715,7.729797840118408,6.444528579711914,-4.559242248535156,4.437105178833008,6.239181041717529,13.857714653015137,5.167206287384033,5.812704086303711,8.7305269241333,7.412083625793457,-6.500957489013672,1.404691219329834,7.731527805328369,1.4235365390777588,-3.5936198234558105,6.827685356140137,7.68427038192749,6.835732936859131,4.260704040527344,1.7629081010818481,9.216568946838379,9.593465805053711,1.7462966442108154,1.7606638669967651,1.7498650550842285,1.7334771156311035,9.617616653442383,7.737247467041016,7.294024467468262,4.277594089508057,6.740347862243652,9.513260841369629,1.5393387079238892,14.01072883605957,4.269844055175781,6.723298072814941,6.89348030090332,1.3533028364181519,9.137073516845703,1.316994309425354,-3.435725212097168,9.545551300048828,10.190933227539062,1.3037631511688232],\"yaxis\":\"y\",\"type\":\"scattergl\"},{\"hovertemplate\":\"label=Arms akimbo\\u003cbr\\u003esample=resample\\u003cbr\\u003eemb1=%{x}\\u003cbr\\u003eemb2=%{y}\\u003cextra\\u003e\\u003c\\u002fextra\\u003e\",\"legendgroup\":\"Arms akimbo\",\"marker\":{\"color\":\"#FFA15A\",\"symbol\":\"circle\"},\"mode\":\"markers\",\"name\":\"Arms akimbo\",\"showlegend\":false,\"x\":[7.383067607879639,-1.4830466508865356,-11.208311080932617,14.176733016967773,-11.944607734680176],\"xaxis\":\"x2\",\"y\":[19.87067413330078,6.62408447265625,9.483112335205078,4.222614288330078,10.287474632263184],\"yaxis\":\"y2\",\"type\":\"scattergl\"},{\"hovertemplate\":\"label=Arms akimbo+Arms behind\\u003cbr\\u003esample=all\\u003cbr\\u003eemb1=%{x}\\u003cbr\\u003eemb2=%{y}\\u003cextra\\u003e\\u003c\\u002fextra\\u003e\",\"legendgroup\":\"Arms akimbo+Arms behind\",\"marker\":{\"color\":\"#19d3f3\",\"symbol\":\"circle\"},\"mode\":\"markers\",\"name\":\"Arms akimbo+Arms behind\",\"showlegend\":true,\"x\":[-5.332975387573242,-8.789658546447754,0.27463749051094055,0.4461533725261688,-13.892168045043945,4.943857669830322,-13.962105751037598,-13.946866989135742,-13.919134140014648,-13.982601165771484,-13.852032661437988,4.943743705749512,-13.799222946166992,-13.599647521972656,-13.855209350585938,-13.898310661315918,-13.888406753540039,-13.883819580078125,-13.944487571716309,-13.663567543029785,-13.845625877380371,0.44272926449775696,0.4757799208164215,-8.10918140411377,-8.385467529296875,-13.740789413452148,-13.624153137207031,-6.382131099700928,0.44590404629707336,-13.867469787597656,-13.85666561126709],\"xaxis\":\"x\",\"y\":[0.8780120611190796,11.320487022399902,2.892446994781494,2.6980738639831543,8.805815696716309,17.21672821044922,8.736554145812988,8.749939918518066,8.777053833007812,8.713008880615234,8.843865394592285,17.21660041809082,8.897345542907715,9.090511322021484,8.842668533325195,8.798501014709473,8.809710502624512,8.81407356262207,8.753628730773926,9.029156684875488,8.85068130493164,2.7029943466186523,2.669647455215454,13.684983253479004,11.519996643066406,8.954439163208008,9.066855430603027,15.461575508117676,2.697800636291504,8.830486297607422,8.839859008789062],\"yaxis\":\"y\",\"type\":\"scattergl\"},{\"hovertemplate\":\"label=Arms akimbo+Arms behind\\u003cbr\\u003esample=resample\\u003cbr\\u003eemb1=%{x}\\u003cbr\\u003eemb2=%{y}\\u003cextra\\u003e\\u003c\\u002fextra\\u003e\",\"legendgroup\":\"Arms akimbo+Arms behind\",\"marker\":{\"color\":\"#19d3f3\",\"symbol\":\"circle\"},\"mode\":\"markers\",\"name\":\"Arms akimbo+Arms behind\",\"showlegend\":false,\"x\":[0.4757799208164215],\"xaxis\":\"x2\",\"y\":[2.669647455215454],\"yaxis\":\"y2\",\"type\":\"scattergl\"},{\"hovertemplate\":\"label=Arms akimbo+Arms behind+Folding arms\\u003cbr\\u003esample=all\\u003cbr\\u003eemb1=%{x}\\u003cbr\\u003eemb2=%{y}\\u003cextra\\u003e\\u003c\\u002fextra\\u003e\",\"legendgroup\":\"Arms akimbo+Arms behind+Folding arms\",\"marker\":{\"color\":\"#FF6692\",\"symbol\":\"circle\"},\"mode\":\"markers\",\"name\":\"Arms akimbo+Arms behind+Folding arms\",\"showlegend\":true,\"x\":[-8.224912643432617],\"xaxis\":\"x\",\"y\":[11.663619041442871],\"yaxis\":\"y\",\"type\":\"scattergl\"},{\"hovertemplate\":\"label=Arms akimbo+Arms behind+Folding arms\\u003cbr\\u003esample=resample\\u003cbr\\u003eemb1=%{x}\\u003cbr\\u003eemb2=%{y}\\u003cextra\\u003e\\u003c\\u002fextra\\u003e\",\"legendgroup\":\"Arms akimbo+Arms behind+Folding arms\",\"marker\":{\"color\":\"#FF6692\",\"symbol\":\"circle\"},\"mode\":\"markers\",\"name\":\"Arms akimbo+Arms behind+Folding arms\",\"showlegend\":false,\"x\":[-8.224912643432617],\"xaxis\":\"x2\",\"y\":[11.663619041442871],\"yaxis\":\"y2\",\"type\":\"scattergl\"},{\"hovertemplate\":\"label=Arms akimbo+Folding arms\\u003cbr\\u003esample=all\\u003cbr\\u003eemb1=%{x}\\u003cbr\\u003eemb2=%{y}\\u003cextra\\u003e\\u003c\\u002fextra\\u003e\",\"legendgroup\":\"Arms akimbo+Folding arms\",\"marker\":{\"color\":\"#B6E880\",\"symbol\":\"circle\"},\"mode\":\"markers\",\"name\":\"Arms akimbo+Folding arms\",\"showlegend\":true,\"x\":[8.170498847961426,5.080207347869873,-4.577229022979736,5.129849910736084,8.307760238647461,8.609344482421875,7.5653252601623535,8.432938575744629,10.045062065124512,10.0447998046875,8.395045280456543,8.381379127502441,8.43139362335205,8.303561210632324,-6.070554733276367,8.613859176635742,-10.440502166748047,8.304539680480957,8.630881309509277,-6.147844314575195,8.329818725585938,8.236420631408691,-6.295085906982422,5.169163227081299,-15.763171195983887,4.49318790435791,8.377548217773438,8.09913444519043,-3.465060234069824,8.561410903930664,-15.763134002685547,8.391097068786621,8.287154197692871,8.079402923583984,8.11815071105957,8.255542755126953,8.264068603515625,8.23954963684082,-15.763383865356445,8.616469383239746,8.338467597961426,8.397963523864746,8.37125015258789,-6.298597812652588,8.1021089553833,4.8429436683654785,8.317115783691406,8.380477905273438,-15.763283729553223,4.914105415344238,8.201939582824707,12.753206253051758,8.340177536010742,8.29168701171875,-15.76312255859375,8.28679370880127,-6.2998456954956055,0.4140981137752533,8.60889720916748,-15.763343811035156,5.167777061462402,8.069538116455078,9.445561408996582,8.174295425415039,-1.2022275924682617,-15.76312255859375,8.165945053100586,8.294633865356445,8.13587760925293,8.109109878540039,8.498811721801758,7.472445964813232],\"xaxis\":\"x\",\"y\":[10.413848876953125,-1.3890161514282227,-8.15046501159668,-10.367670059204102,11.279913902282715,11.366991996765137,13.870335578918457,7.4944167137146,14.059515953063965,14.059516906738281,11.089546203613281,11.049476623535156,11.198043823242188,10.461734771728516,20.307836532592773,11.359570503234863,9.836996078491211,10.49274730682373,11.387115478515625,7.0549092292785645,10.805703163146973,11.34520435333252,20.519811630249023,-6.45247745513916,-3.21244215965271,-9.689226150512695,10.946533203125,10.284331321716309,3.090388774871826,11.325721740722656,-3.2124745845794678,11.122061729431152,11.303815841674805,10.302970886230469,10.324029922485352,11.334004402160645,11.319384574890137,10.182330131530762,-3.212398052215576,11.37061595916748,11.223993301391602,11.156149864196777,11.234330177307129,20.522626876831055,10.271980285644531,-10.068177223205566,10.779934883117676,10.987616539001465,-3.21246075630188,-1.5491827726364136,10.448473930358887,-3.3573267459869385,10.832805633544922,10.473398208618164,-3.2124111652374268,10.685688018798828,20.523662567138672,2.7333717346191406,11.36558723449707,-3.2124485969543457,-6.452134132385254,10.277738571166992,7.720615386962891,10.413262367248535,21.153350830078125,-3.2124228477478027,10.402036666870117,10.469428062438965,10.359993934631348,10.30207633972168,11.258996963500977,-1.8577507734298706],\"yaxis\":\"y\",\"type\":\"scattergl\"},{\"hovertemplate\":\"label=Arms akimbo+Folding arms\\u003cbr\\u003esample=resample\\u003cbr\\u003eemb1=%{x}\\u003cbr\\u003eemb2=%{y}\\u003cextra\\u003e\\u003c\\u002fextra\\u003e\",\"legendgroup\":\"Arms akimbo+Folding arms\",\"marker\":{\"color\":\"#B6E880\",\"symbol\":\"circle\"},\"mode\":\"markers\",\"name\":\"Arms akimbo+Folding arms\",\"showlegend\":false,\"x\":[8.391097068786621,7.472445964813232],\"xaxis\":\"x2\",\"y\":[11.122061729431152,-1.8577507734298706],\"yaxis\":\"y2\",\"type\":\"scattergl\"},{\"hovertemplate\":\"label=Arms akimbo+Folding arms+Rubbing face\\u003cbr\\u003esample=all\\u003cbr\\u003eemb1=%{x}\\u003cbr\\u003eemb2=%{y}\\u003cextra\\u003e\\u003c\\u002fextra\\u003e\",\"legendgroup\":\"Arms akimbo+Folding arms+Rubbing face\",\"marker\":{\"color\":\"#FF97FF\",\"symbol\":\"circle\"},\"mode\":\"markers\",\"name\":\"Arms akimbo+Folding arms+Rubbing face\",\"showlegend\":true,\"x\":[12.697652816772461],\"xaxis\":\"x\",\"y\":[-3.2907979488372803],\"yaxis\":\"y\",\"type\":\"scattergl\"},{\"hovertemplate\":\"label=Arms akimbo+Folding arms+Rubbing face\\u003cbr\\u003esample=resample\\u003cbr\\u003eemb1=%{x}\\u003cbr\\u003eemb2=%{y}\\u003cextra\\u003e\\u003c\\u002fextra\\u003e\",\"legendgroup\":\"Arms akimbo+Folding arms+Rubbing face\",\"marker\":{\"color\":\"#FF97FF\",\"symbol\":\"circle\"},\"mode\":\"markers\",\"name\":\"Arms akimbo+Folding arms+Rubbing face\",\"showlegend\":false,\"x\":[12.697652816772461],\"xaxis\":\"x2\",\"y\":[-3.2907979488372803],\"yaxis\":\"y2\",\"type\":\"scattergl\"},{\"hovertemplate\":\"label=Arms akimbo+Folding arms+Rubbing hands\\u003cbr\\u003esample=all\\u003cbr\\u003eemb1=%{x}\\u003cbr\\u003eemb2=%{y}\\u003cextra\\u003e\\u003c\\u002fextra\\u003e\",\"legendgroup\":\"Arms akimbo+Folding arms+Rubbing hands\",\"marker\":{\"color\":\"#FECB52\",\"symbol\":\"circle\"},\"mode\":\"markers\",\"name\":\"Arms akimbo+Folding arms+Rubbing hands\",\"showlegend\":true,\"x\":[8.320971488952637],\"xaxis\":\"x\",\"y\":[10.787003517150879],\"yaxis\":\"y\",\"type\":\"scattergl\"},{\"hovertemplate\":\"label=Arms akimbo+Folding arms+Rubbing hands\\u003cbr\\u003esample=resample\\u003cbr\\u003eemb1=%{x}\\u003cbr\\u003eemb2=%{y}\\u003cextra\\u003e\\u003c\\u002fextra\\u003e\",\"legendgroup\":\"Arms akimbo+Folding arms+Rubbing hands\",\"marker\":{\"color\":\"#FECB52\",\"symbol\":\"circle\"},\"mode\":\"markers\",\"name\":\"Arms akimbo+Folding arms+Rubbing hands\",\"showlegend\":false,\"x\":[8.320971488952637],\"xaxis\":\"x2\",\"y\":[10.787003517150879],\"yaxis\":\"y2\",\"type\":\"scattergl\"},{\"hovertemplate\":\"label=Arms akimbo+Hand gestures\\u003cbr\\u003esample=all\\u003cbr\\u003eemb1=%{x}\\u003cbr\\u003eemb2=%{y}\\u003cextra\\u003e\\u003c\\u002fextra\\u003e\",\"legendgroup\":\"Arms akimbo+Hand gestures\",\"marker\":{\"color\":\"#636efa\",\"symbol\":\"circle\"},\"mode\":\"markers\",\"name\":\"Arms akimbo+Hand gestures\",\"showlegend\":true,\"x\":[17.01261329650879,16.899169921875,17.033531188964844,-1.1463525295257568,0.14048638939857483,16.88238525390625,16.839092254638672,-1.143070936203003,-0.11958976835012436,17.077775955200195,-1.1496318578720093,17.08139991760254,0.1394152194261551,16.98483657836914,17.07957649230957,-0.9694848656654358,17.058034896850586,16.982824325561523,16.873868942260742,0.13983361423015594,17.064037322998047,17.032142639160156,17.091005325317383],\"xaxis\":\"x\",\"y\":[6.240518569946289,6.126044273376465,6.261620998382568,-3.644510507583618,-3.165012836456299,6.109461307525635,6.06588888168335,-3.6644396781921387,-3.354194164276123,6.306427478790283,-3.6413164138793945,6.310328006744385,-3.1655242443084717,6.212679862976074,6.308500289916992,-3.7089483737945557,6.2862067222595215,6.211050510406494,6.100852966308594,-3.165361166000366,6.292953014373779,6.260181903839111,6.319524765014648],\"yaxis\":\"y\",\"type\":\"scattergl\"},{\"hovertemplate\":\"label=Arms akimbo+Hand gestures\\u003cbr\\u003esample=resample\\u003cbr\\u003eemb1=%{x}\\u003cbr\\u003eemb2=%{y}\\u003cextra\\u003e\\u003c\\u002fextra\\u003e\",\"legendgroup\":\"Arms akimbo+Hand gestures\",\"marker\":{\"color\":\"#636efa\",\"symbol\":\"circle\"},\"mode\":\"markers\",\"name\":\"Arms akimbo+Hand gestures\",\"showlegend\":false,\"x\":[17.064037322998047,-1.1496318578720093,16.839092254638672],\"xaxis\":\"x2\",\"y\":[6.292953014373779,-3.6413164138793945,6.06588888168335],\"yaxis\":\"y2\",\"type\":\"scattergl\"},{\"hovertemplate\":\"label=Arms akimbo+Hand gestures+Moving legs\\u003cbr\\u003esample=all\\u003cbr\\u003eemb1=%{x}\\u003cbr\\u003eemb2=%{y}\\u003cextra\\u003e\\u003c\\u002fextra\\u003e\",\"legendgroup\":\"Arms akimbo+Hand gestures+Moving legs\",\"marker\":{\"color\":\"#EF553B\",\"symbol\":\"circle\"},\"mode\":\"markers\",\"name\":\"Arms akimbo+Hand gestures+Moving legs\",\"showlegend\":true,\"x\":[-1.5794768333435059],\"xaxis\":\"x\",\"y\":[-3.929676055908203],\"yaxis\":\"y\",\"type\":\"scattergl\"},{\"hovertemplate\":\"label=Arms akimbo+Hand gestures+Moving legs\\u003cbr\\u003esample=resample\\u003cbr\\u003eemb1=%{x}\\u003cbr\\u003eemb2=%{y}\\u003cextra\\u003e\\u003c\\u002fextra\\u003e\",\"legendgroup\":\"Arms akimbo+Hand gestures+Moving legs\",\"marker\":{\"color\":\"#EF553B\",\"symbol\":\"circle\"},\"mode\":\"markers\",\"name\":\"Arms akimbo+Hand gestures+Moving legs\",\"showlegend\":false,\"x\":[-1.5794768333435059],\"xaxis\":\"x2\",\"y\":[-3.929676055908203],\"yaxis\":\"y2\",\"type\":\"scattergl\"},{\"hovertemplate\":\"label=Arms akimbo+Holding arms\\u003cbr\\u003esample=all\\u003cbr\\u003eemb1=%{x}\\u003cbr\\u003eemb2=%{y}\\u003cextra\\u003e\\u003c\\u002fextra\\u003e\",\"legendgroup\":\"Arms akimbo+Holding arms\",\"marker\":{\"color\":\"#00cc96\",\"symbol\":\"circle\"},\"mode\":\"markers\",\"name\":\"Arms akimbo+Holding arms\",\"showlegend\":true,\"x\":[-0.06469158083200455,2.4724981784820557,1.0227097272872925,9.200459480285645,-9.68014907836914,1.0380367040634155,9.228767395019531,-9.680642127990723,2.472482442855835],\"xaxis\":\"x\",\"y\":[3.656121015548706,-4.801612377166748,-11.576684951782227,-6.704763889312744,0.938410758972168,-11.573909759521484,-6.760636329650879,0.9374008178710938,-4.80171012878418],\"yaxis\":\"y\",\"type\":\"scattergl\"},{\"hovertemplate\":\"label=Arms akimbo+Holding arms\\u003cbr\\u003esample=resample\\u003cbr\\u003eemb1=%{x}\\u003cbr\\u003eemb2=%{y}\\u003cextra\\u003e\\u003c\\u002fextra\\u003e\",\"legendgroup\":\"Arms akimbo+Holding arms\",\"marker\":{\"color\":\"#00cc96\",\"symbol\":\"circle\"},\"mode\":\"markers\",\"name\":\"Arms akimbo+Holding arms\",\"showlegend\":false,\"x\":[9.200459480285645],\"xaxis\":\"x2\",\"y\":[-6.704763889312744],\"yaxis\":\"y2\",\"type\":\"scattergl\"},{\"hovertemplate\":\"label=Arms akimbo+Moving legs\\u003cbr\\u003esample=all\\u003cbr\\u003eemb1=%{x}\\u003cbr\\u003eemb2=%{y}\\u003cextra\\u003e\\u003c\\u002fextra\\u003e\",\"legendgroup\":\"Arms akimbo+Moving legs\",\"marker\":{\"color\":\"#ab63fa\",\"symbol\":\"circle\"},\"mode\":\"markers\",\"name\":\"Arms akimbo+Moving legs\",\"showlegend\":true,\"x\":[7.419111728668213,-0.0068316590040922165,-6.671503067016602,4.836831092834473,5.634735584259033,5.6338043212890625,-1.293449878692627,-6.655946254730225,-6.6704230308532715,5.633646011352539,5.634226322174072,-0.866463840007782,11.038016319274902,5.6339921951293945,-1.568411946296692,-6.671635627746582,1.3955483436584473,3.529280185699463,5.6340861320495605,5.633890151977539,-0.18051394820213318,-8.957147598266602,3.195821762084961,-6.159585952758789,3.5519680976867676,-0.616719663143158,5.633719444274902,-6.664536476135254,7.912661552429199,4.113763332366943,4.94160270690918,-6.6716628074646,4.302958011627197,-18.545644760131836,-1.2052971124649048,-2.069749355316162,-1.8776222467422485,-9.598372459411621,-9.598349571228027,5.634096145629883,4.952724933624268],\"xaxis\":\"x\",\"y\":[13.045909881591797,3.2506120204925537,-6.660123348236084,9.241293907165527,20.986467361450195,20.98685646057129,7.274109363555908,-6.675136089324951,-6.661390781402588,20.98665428161621,20.98664665222168,8.668045043945312,17.812101364135742,20.98648452758789,-3.9221699237823486,-6.658954620361328,-2.4025838375091553,14.543191909790039,20.98627281188965,20.986286163330078,7.630639553070068,5.374639511108398,15.091934204101562,7.030986785888672,2.4329938888549805,5.369463920593262,20.98676872253418,-6.666521072387695,4.587740421295166,-4.439805507659912,-1.5228744745254517,-6.660272121429443,-4.577084064483643,9.55703353881836,9.59550952911377,9.321520805358887,6.251504898071289,-1.4309840202331543,-1.4309954643249512,20.986204147338867,-1.5101197957992554],\"yaxis\":\"y\",\"type\":\"scattergl\"},{\"hovertemplate\":\"label=Arms akimbo+Moving legs\\u003cbr\\u003esample=resample\\u003cbr\\u003eemb1=%{x}\\u003cbr\\u003eemb2=%{y}\\u003cextra\\u003e\\u003c\\u002fextra\\u003e\",\"legendgroup\":\"Arms akimbo+Moving legs\",\"marker\":{\"color\":\"#ab63fa\",\"symbol\":\"circle\"},\"mode\":\"markers\",\"name\":\"Arms akimbo+Moving legs\",\"showlegend\":false,\"x\":[-1.568411946296692,-18.545644760131836,11.038016319274902,-9.598349571228027],\"xaxis\":\"x2\",\"y\":[-3.9221699237823486,9.55703353881836,17.812101364135742,-1.4309954643249512],\"yaxis\":\"y2\",\"type\":\"scattergl\"},{\"hovertemplate\":\"label=Arms akimbo+Moving legs+Rubbing hands\\u003cbr\\u003esample=all\\u003cbr\\u003eemb1=%{x}\\u003cbr\\u003eemb2=%{y}\\u003cextra\\u003e\\u003c\\u002fextra\\u003e\",\"legendgroup\":\"Arms akimbo+Moving legs+Rubbing hands\",\"marker\":{\"color\":\"#FFA15A\",\"symbol\":\"circle\"},\"mode\":\"markers\",\"name\":\"Arms akimbo+Moving legs+Rubbing hands\",\"showlegend\":true,\"x\":[8.547944068908691],\"xaxis\":\"x\",\"y\":[1.555851697921753],\"yaxis\":\"y\",\"type\":\"scattergl\"},{\"hovertemplate\":\"label=Arms akimbo+Moving legs+Rubbing hands\\u003cbr\\u003esample=resample\\u003cbr\\u003eemb1=%{x}\\u003cbr\\u003eemb2=%{y}\\u003cextra\\u003e\\u003c\\u002fextra\\u003e\",\"legendgroup\":\"Arms akimbo+Moving legs+Rubbing hands\",\"marker\":{\"color\":\"#FFA15A\",\"symbol\":\"circle\"},\"mode\":\"markers\",\"name\":\"Arms akimbo+Moving legs+Rubbing hands\",\"showlegend\":false,\"x\":[8.547944068908691],\"xaxis\":\"x2\",\"y\":[1.555851697921753],\"yaxis\":\"y2\",\"type\":\"scattergl\"},{\"hovertemplate\":\"label=Arms akimbo+Playing wobjects\\u003cbr\\u003esample=all\\u003cbr\\u003eemb1=%{x}\\u003cbr\\u003eemb2=%{y}\\u003cextra\\u003e\\u003c\\u002fextra\\u003e\",\"legendgroup\":\"Arms akimbo+Playing wobjects\",\"marker\":{\"color\":\"#19d3f3\",\"symbol\":\"circle\"},\"mode\":\"markers\",\"name\":\"Arms akimbo+Playing wobjects\",\"showlegend\":true,\"x\":[-6.5437541007995605,0.18185974657535553],\"xaxis\":\"x\",\"y\":[15.171297073364258,7.4037580490112305],\"yaxis\":\"y\",\"type\":\"scattergl\"},{\"hovertemplate\":\"label=Arms akimbo+Playing wobjects\\u003cbr\\u003esample=resample\\u003cbr\\u003eemb1=%{x}\\u003cbr\\u003eemb2=%{y}\\u003cextra\\u003e\\u003c\\u002fextra\\u003e\",\"legendgroup\":\"Arms akimbo+Playing wobjects\",\"marker\":{\"color\":\"#19d3f3\",\"symbol\":\"circle\"},\"mode\":\"markers\",\"name\":\"Arms akimbo+Playing wobjects\",\"showlegend\":false,\"x\":[-6.5437541007995605],\"xaxis\":\"x2\",\"y\":[15.171297073364258],\"yaxis\":\"y2\",\"type\":\"scattergl\"},{\"hovertemplate\":\"label=Arms akimbo+Rubbing face\\u003cbr\\u003esample=all\\u003cbr\\u003eemb1=%{x}\\u003cbr\\u003eemb2=%{y}\\u003cextra\\u003e\\u003c\\u002fextra\\u003e\",\"legendgroup\":\"Arms akimbo+Rubbing face\",\"marker\":{\"color\":\"#FF6692\",\"symbol\":\"circle\"},\"mode\":\"markers\",\"name\":\"Arms akimbo+Rubbing face\",\"showlegend\":true,\"x\":[10.341972351074219,9.141721725463867,1.5594041347503662],\"xaxis\":\"x\",\"y\":[7.144107818603516,-3.7366178035736084,0.26384052634239197],\"yaxis\":\"y\",\"type\":\"scattergl\"},{\"hovertemplate\":\"label=Arms akimbo+Rubbing face\\u003cbr\\u003esample=resample\\u003cbr\\u003eemb1=%{x}\\u003cbr\\u003eemb2=%{y}\\u003cextra\\u003e\\u003c\\u002fextra\\u003e\",\"legendgroup\":\"Arms akimbo+Rubbing face\",\"marker\":{\"color\":\"#FF6692\",\"symbol\":\"circle\"},\"mode\":\"markers\",\"name\":\"Arms akimbo+Rubbing face\",\"showlegend\":false,\"x\":[10.341972351074219,1.5594041347503662],\"xaxis\":\"x2\",\"y\":[7.144107818603516,0.26384052634239197],\"yaxis\":\"y2\",\"type\":\"scattergl\"},{\"hovertemplate\":\"label=Arms akimbo+Rubbing hands\\u003cbr\\u003esample=all\\u003cbr\\u003eemb1=%{x}\\u003cbr\\u003eemb2=%{y}\\u003cextra\\u003e\\u003c\\u002fextra\\u003e\",\"legendgroup\":\"Arms akimbo+Rubbing hands\",\"marker\":{\"color\":\"#B6E880\",\"symbol\":\"circle\"},\"mode\":\"markers\",\"name\":\"Arms akimbo+Rubbing hands\",\"showlegend\":true,\"x\":[8.277867317199707,4.34307336807251,3.357875108718872,3.372885227203369,8.28077507019043,3.334587574005127,2.866147994995117,3.024954080581665,8.278162002563477,-5.789331436157227,3.3260223865509033,8.566529273986816,10.35534381866455,2.5503175258636475,10.347359657287598,-5.6184468269348145,-5.096989631652832,2.513746500015259,4.583130359649658,10.355504035949707,10.354958534240723,8.547320365905762,-9.296350479125977,8.536811828613281,2.6575686931610107,8.57861328125,6.320976734161377,8.579038619995117,8.579549789428711,3.182309627532959,13.926305770874023,17.729122161865234,3.1159780025482178,3.2204439640045166,6.323094367980957,3.363013744354248,-5.788454055786133,0.8631709218025208,8.100238800048828,8.581680297851562,4.6739654541015625,3.1686618328094482,8.518255233764648,9.104524612426758,-5.313464641571045,3.3534998893737793,8.582664489746094,8.527288436889648,3.391878843307495,10.355435371398926,8.53752613067627,-5.610273838043213,13.926346778869629,8.577509880065918,17.716238021850586,8.35148811340332,-8.505861282348633,13.92634105682373,-8.390207290649414,2.5914113521575928,7.416713237762451,2.771296262741089,17.718948364257812,-9.296250343322754,-8.764601707458496,-9.296283721923828,8.509629249572754,-3.537714958190918,-9.296239852905273,-9.296472549438477,-9.29625129699707,2.5297255516052246,7.40824031829834,2.6939022541046143,8.291303634643555,-14.099104881286621,-8.306599617004395,2.9536993503570557,2.6153063774108887,2.815599203109741,2.5426998138427734,2.5189976692199707,8.271872520446777,2.597153663635254,17.714550018310547,2.7782182693481445,-8.506595611572266,8.495140075683594,2.634397506713867,2.528064012527466,8.272082328796387,2.812974691390991,2.7835497856140137,17.71763801574707,17.71751594543457,2.5292131900787354,13.926370620727539,17.721967697143555,3.342111349105835,2.5098626613616943,7.313608169555664,2.5049870014190674,8.435449600219727,13.926329612731934,7.293571472167969,10.355846405029297],\"xaxis\":\"x\",\"y\":[1.1469329595565796,12.987016677856445,15.054304122924805,15.035534858703613,1.1467469930648804,15.054666519165039,15.436028480529785,15.275513648986816,1.147071123123169,1.4218670129776,15.073624610900879,1.767911672592163,0.3781038224697113,15.771523475646973,0.3811657726764679,-2.2591660022735596,-3.3304033279418945,15.81004810333252,14.259305000305176,0.3781701922416687,0.3780936896800995,1.3817752599716187,-12.152395248413086,1.747267246246338,15.66137981414795,1.9234024286270142,-0.9034186005592346,1.9107789993286133,1.8969779014587402,15.108317375183105,0.334354043006897,1.5201187133789062,15.182890892028809,15.06014633178711,-0.9025141596794128,15.051520347595215,1.423709750175476,7.1660566329956055,-0.2500532269477844,1.9332010746002197,-9.882943153381348,15.134040832519531,1.35747230052948,-3.702789306640625,-4.715656280517578,15.053065299987793,1.8584330081939697,1.323803424835205,15.022235870361328,0.37816372513771057,1.7272950410842896,-2.252769947052002,0.33438214659690857,1.8757929801940918,1.5314874649047852,10.122802734375,-1.2535521984100342,0.33433687686920166,-0.9364518523216248,15.728452682495117,-1.8435276746749878,15.534869194030762,1.529137372970581,-12.152373313903809,-0.34565269947052,-12.152457237243652,1.408218264579773,11.948670387268066,-12.152332305908203,-12.15281867980957,-12.152358055114746,15.792835235595703,-1.843802809715271,15.623618125915527,1.161197304725647,1.4132695198059082,-10.007491111755371,15.346922874450684,15.705585479736328,15.493896484375,15.77742862701416,15.801342964172363,1.141564130783081,15.724444389343262,1.5329208374023438,15.530445098876953,-1.2511682510375977,1.3699034452438354,15.687223434448242,15.79636001586914,1.1393147706985474,15.495244026184082,15.527413368225098,1.5300793647766113,1.5303624868392944,15.79476261138916,0.3344363272190094,1.5267655849456787,15.066605567932129,15.811372756958008,-1.8833653926849365,15.811806678771973,1.307761311531067,0.33430221676826477,-1.9055222272872925,0.37852856516838074],\"yaxis\":\"y\",\"type\":\"scattergl\"},{\"hovertemplate\":\"label=Arms akimbo+Rubbing hands\\u003cbr\\u003esample=resample\\u003cbr\\u003eemb1=%{x}\\u003cbr\\u003eemb2=%{y}\\u003cextra\\u003e\\u003c\\u002fextra\\u003e\",\"legendgroup\":\"Arms akimbo+Rubbing hands\",\"marker\":{\"color\":\"#B6E880\",\"symbol\":\"circle\"},\"mode\":\"markers\",\"name\":\"Arms akimbo+Rubbing hands\",\"showlegend\":false,\"x\":[-8.306599617004395,17.71751594543457],\"xaxis\":\"x2\",\"y\":[-10.007491111755371,1.5303624868392944],\"yaxis\":\"y2\",\"type\":\"scattergl\"},{\"hovertemplate\":\"label=Arms akimbo+Rubbing hands+Turtling neck\\u003cbr\\u003esample=all\\u003cbr\\u003eemb1=%{x}\\u003cbr\\u003eemb2=%{y}\\u003cextra\\u003e\\u003c\\u002fextra\\u003e\",\"legendgroup\":\"Arms akimbo+Rubbing hands+Turtling neck\",\"marker\":{\"color\":\"#FF97FF\",\"symbol\":\"circle\"},\"mode\":\"markers\",\"name\":\"Arms akimbo+Rubbing hands+Turtling neck\",\"showlegend\":true,\"x\":[-8.846028327941895],\"xaxis\":\"x\",\"y\":[-0.2364678531885147],\"yaxis\":\"y\",\"type\":\"scattergl\"},{\"hovertemplate\":\"label=Arms akimbo+Rubbing hands+Turtling neck\\u003cbr\\u003esample=resample\\u003cbr\\u003eemb1=%{x}\\u003cbr\\u003eemb2=%{y}\\u003cextra\\u003e\\u003c\\u002fextra\\u003e\",\"legendgroup\":\"Arms akimbo+Rubbing hands+Turtling neck\",\"marker\":{\"color\":\"#FF97FF\",\"symbol\":\"circle\"},\"mode\":\"markers\",\"name\":\"Arms akimbo+Rubbing hands+Turtling neck\",\"showlegend\":false,\"x\":[-8.846028327941895],\"xaxis\":\"x2\",\"y\":[-0.2364678531885147],\"yaxis\":\"y2\",\"type\":\"scattergl\"},{\"hovertemplate\":\"label=Arms akimbo+Scratching body\\u003cbr\\u003esample=all\\u003cbr\\u003eemb1=%{x}\\u003cbr\\u003eemb2=%{y}\\u003cextra\\u003e\\u003c\\u002fextra\\u003e\",\"legendgroup\":\"Arms akimbo+Scratching body\",\"marker\":{\"color\":\"#FECB52\",\"symbol\":\"circle\"},\"mode\":\"markers\",\"name\":\"Arms akimbo+Scratching body\",\"showlegend\":true,\"x\":[-5.181185722351074,15.813740730285645],\"xaxis\":\"x\",\"y\":[5.089170932769775,-0.259988933801651],\"yaxis\":\"y\",\"type\":\"scattergl\"},{\"hovertemplate\":\"label=Arms akimbo+Scratching body\\u003cbr\\u003esample=resample\\u003cbr\\u003eemb1=%{x}\\u003cbr\\u003eemb2=%{y}\\u003cextra\\u003e\\u003c\\u002fextra\\u003e\",\"legendgroup\":\"Arms akimbo+Scratching body\",\"marker\":{\"color\":\"#FECB52\",\"symbol\":\"circle\"},\"mode\":\"markers\",\"name\":\"Arms akimbo+Scratching body\",\"showlegend\":false,\"x\":[-5.181185722351074],\"xaxis\":\"x2\",\"y\":[5.089170932769775],\"yaxis\":\"y2\",\"type\":\"scattergl\"},{\"hovertemplate\":\"label=Arms akimbo+Scratching neck\\u003cbr\\u003esample=all\\u003cbr\\u003eemb1=%{x}\\u003cbr\\u003eemb2=%{y}\\u003cextra\\u003e\\u003c\\u002fextra\\u003e\",\"legendgroup\":\"Arms akimbo+Scratching neck\",\"marker\":{\"color\":\"#636efa\",\"symbol\":\"circle\"},\"mode\":\"markers\",\"name\":\"Arms akimbo+Scratching neck\",\"showlegend\":true,\"x\":[0.45792102813720703,8.423487663269043],\"xaxis\":\"x\",\"y\":[2.6868114471435547,7.496476173400879],\"yaxis\":\"y\",\"type\":\"scattergl\"},{\"hovertemplate\":\"label=Arms akimbo+Scratching neck\\u003cbr\\u003esample=resample\\u003cbr\\u003eemb1=%{x}\\u003cbr\\u003eemb2=%{y}\\u003cextra\\u003e\\u003c\\u002fextra\\u003e\",\"legendgroup\":\"Arms akimbo+Scratching neck\",\"marker\":{\"color\":\"#636efa\",\"symbol\":\"circle\"},\"mode\":\"markers\",\"name\":\"Arms akimbo+Scratching neck\",\"showlegend\":false,\"x\":[8.423487663269043],\"xaxis\":\"x2\",\"y\":[7.496476173400879],\"yaxis\":\"y2\",\"type\":\"scattergl\"},{\"hovertemplate\":\"label=Arms akimbo+Touching face\\u003cbr\\u003esample=all\\u003cbr\\u003eemb1=%{x}\\u003cbr\\u003eemb2=%{y}\\u003cextra\\u003e\\u003c\\u002fextra\\u003e\",\"legendgroup\":\"Arms akimbo+Touching face\",\"marker\":{\"color\":\"#EF553B\",\"symbol\":\"circle\"},\"mode\":\"markers\",\"name\":\"Arms akimbo+Touching face\",\"showlegend\":true,\"x\":[-1.5454994440078735,15.043060302734375,-1.5454541444778442,1.5697321891784668,-3.571418523788452,1.5165156126022339,8.082393646240234,4.58673095703125,15.009943962097168,3.344193935394287,-2.0790133476257324,9.326757431030273,-14.305680274963379,-16.49498748779297,3.56013822555542,-11.361604690551758,-11.043965339660645,15.00796127319336,15.007277488708496,15.02774429321289,7.431935787200928,15.018400192260742,-2.1435229778289795,3.814133882522583,-1.303808569908142,9.22939682006836,15.00170612335205,-1.5454672574996948,-1.5459394454956055],\"xaxis\":\"x\",\"y\":[-10.993102073669434,-4.695738315582275,-10.993040084838867,0.27740561962127686,14.365610122680664,0.23213018476963043,-2.375359535217285,-12.549818992614746,-4.671001434326172,-2.4303412437438965,8.185879707336426,-2.629584789276123,6.168056011199951,5.451305389404297,-5.916592597961426,9.526674270629883,9.510431289672852,-4.669188022613525,-4.668624401092529,-4.6870503425598145,-7.212637424468994,-4.6764750480651855,8.789679527282715,-2.6669294834136963,6.9727325439453125,-4.03481912612915,-4.661387920379639,-10.993162155151367,-10.993890762329102],\"yaxis\":\"y\",\"type\":\"scattergl\"},{\"hovertemplate\":\"label=Arms akimbo+Touching face\\u003cbr\\u003esample=resample\\u003cbr\\u003eemb1=%{x}\\u003cbr\\u003eemb2=%{y}\\u003cextra\\u003e\\u003c\\u002fextra\\u003e\",\"legendgroup\":\"Arms akimbo+Touching face\",\"marker\":{\"color\":\"#EF553B\",\"symbol\":\"circle\"},\"mode\":\"markers\",\"name\":\"Arms akimbo+Touching face\",\"showlegend\":false,\"x\":[-16.49498748779297,-11.361604690551758],\"xaxis\":\"x2\",\"y\":[5.451305389404297,9.526674270629883],\"yaxis\":\"y2\",\"type\":\"scattergl\"},{\"hovertemplate\":\"label=Arms akimbo+Touching nose\\u003cbr\\u003esample=all\\u003cbr\\u003eemb1=%{x}\\u003cbr\\u003eemb2=%{y}\\u003cextra\\u003e\\u003c\\u002fextra\\u003e\",\"legendgroup\":\"Arms akimbo+Touching nose\",\"marker\":{\"color\":\"#00cc96\",\"symbol\":\"circle\"},\"mode\":\"markers\",\"name\":\"Arms akimbo+Touching nose\",\"showlegend\":true,\"x\":[-4.252633094787598,-4.252786159515381,15.654476165771484,3.3243672847747803,15.76622200012207],\"xaxis\":\"x\",\"y\":[1.9349347352981567,1.9350168704986572,-0.42664438486099243,-2.498120069503784,-0.3089871108531952],\"yaxis\":\"y\",\"type\":\"scattergl\"},{\"hovertemplate\":\"label=Arms akimbo+Touching nose\\u003cbr\\u003esample=resample\\u003cbr\\u003eemb1=%{x}\\u003cbr\\u003eemb2=%{y}\\u003cextra\\u003e\\u003c\\u002fextra\\u003e\",\"legendgroup\":\"Arms akimbo+Touching nose\",\"marker\":{\"color\":\"#00cc96\",\"symbol\":\"circle\"},\"mode\":\"markers\",\"name\":\"Arms akimbo+Touching nose\",\"showlegend\":false,\"x\":[3.3243672847747803],\"xaxis\":\"x2\",\"y\":[-2.498120069503784],\"yaxis\":\"y2\",\"type\":\"scattergl\"},{\"hovertemplate\":\"label=Arms akimbo+Turtling neck\\u003cbr\\u003esample=all\\u003cbr\\u003eemb1=%{x}\\u003cbr\\u003eemb2=%{y}\\u003cextra\\u003e\\u003c\\u002fextra\\u003e\",\"legendgroup\":\"Arms akimbo+Turtling neck\",\"marker\":{\"color\":\"#ab63fa\",\"symbol\":\"circle\"},\"mode\":\"markers\",\"name\":\"Arms akimbo+Turtling neck\",\"showlegend\":true,\"x\":[10.010383605957031,5.090897083282471,14.128714561462402,2.666464328765869,5.090933322906494,10.011575698852539,-11.30988883972168,-8.872425079345703,-8.849038124084473],\"xaxis\":\"x\",\"y\":[4.326679229736328,7.509842872619629,4.282566547393799,-2.533938407897949,7.510263919830322,4.32658052444458,-3.9119365215301514,-0.21102887392044067,-0.23117923736572266],\"yaxis\":\"y\",\"type\":\"scattergl\"},{\"hovertemplate\":\"label=Arms akimbo+Turtling neck\\u003cbr\\u003esample=resample\\u003cbr\\u003eemb1=%{x}\\u003cbr\\u003eemb2=%{y}\\u003cextra\\u003e\\u003c\\u002fextra\\u003e\",\"legendgroup\":\"Arms akimbo+Turtling neck\",\"marker\":{\"color\":\"#ab63fa\",\"symbol\":\"circle\"},\"mode\":\"markers\",\"name\":\"Arms akimbo+Turtling neck\",\"showlegend\":false,\"x\":[2.666464328765869],\"xaxis\":\"x2\",\"y\":[-2.533938407897949],\"yaxis\":\"y2\",\"type\":\"scattergl\"},{\"hovertemplate\":\"label=Arms behind\\u003cbr\\u003esample=all\\u003cbr\\u003eemb1=%{x}\\u003cbr\\u003eemb2=%{y}\\u003cextra\\u003e\\u003c\\u002fextra\\u003e\",\"legendgroup\":\"Arms behind\",\"marker\":{\"color\":\"#FFA15A\",\"symbol\":\"circle\"},\"mode\":\"markers\",\"name\":\"Arms behind\",\"showlegend\":true,\"x\":[-8.070021629333496,-16.724689483642578,-7.958512306213379,-7.98647928237915,-8.009765625,-7.972049713134766,-7.998155117034912,-8.007500648498535,-8.087141990661621,-8.0028076171875,13.37352180480957,-8.026154518127441,-8.018388748168945,-8.007243156433105,-7.955515384674072,-7.989520072937012,-8.097991943359375,13.367831230163574,-8.086880683898926,-7.9900288581848145,-8.104450225830078,-8.314801216125488,-8.01003360748291,-8.192134857177734,-6.265194892883301,-7.985893249511719,-7.914052963256836,-7.998271942138672,-8.020527839660645,-8.117769241333008,-8.196910858154297,-8.025680541992188,-7.963919162750244,-8.019871711730957,13.647825241088867,-7.945466995239258,-8.028996467590332,-8.024718284606934,-8.006951332092285,-7.986967086791992,-8.27877140045166,-7.997962951660156,13.376168251037598,13.871960639953613,-6.265036582946777,-8.049928665161133,-7.960514545440674,13.621175765991211,13.820520401000977,-8.011609077453613,13.776885986328125,13.37343978881836,-8.057673454284668,-8.019033432006836,-3.547869920730591,-7.900903701782227,-8.072017669677734,-12.6226167678833,13.76654052734375,1.0339981317520142,-8.01795768737793,13.444459915161133,-8.030179023742676,13.388063430786133,-7.994453430175781,-8.008633613586426,13.630877494812012,13.889115333557129,13.362668991088867,13.690881729125977,-8.01977825164795,13.872748374938965,13.876315116882324,-8.178078651428223,-7.937276840209961,-12.627052307128906,-6.272675037384033,-12.62677001953125,-12.603439331054688,10.779955863952637,-7.942986488342285,-12.626810073852539],\"xaxis\":\"x\",\"y\":[13.711493492126465,1.1101224422454834,14.273103713989258,12.160752296447754,13.815956115722656,13.004173278808594,12.071212768554688,14.225375175476074,13.702570915222168,12.076969146728516,7.963965892791748,13.802990913391113,13.144644737243652,14.201456069946289,12.971586227416992,12.135238647460938,13.683860778808594,7.969934940338135,13.694530487060547,12.147836685180664,13.679818153381348,11.5770902633667,12.086421012878418,11.711146354675293,15.612707138061523,12.993282318115234,12.61590576171875,12.07219409942627,12.062291145324707,11.85230541229248,11.699261665344238,13.158855438232422,12.217351913452148,14.030491828918457,7.653576850891113,13.027722358703613,13.197525024414062,13.951835632324219,12.076136589050293,12.165457725524902,11.607832908630371,12.070135116577148,7.961272239685059,7.441164016723633,15.614738464355469,13.749473571777344,12.992255210876465,7.686138153076172,7.492045879364014,14.16898250579834,7.532960891723633,7.952856063842773,13.744171142578125,13.742238998413086,11.950085639953613,12.66277027130127,13.64892292022705,14.83984088897705,7.542407512664795,-11.577281951904297,13.13476848602295,7.887780666351318,13.17255687713623,7.949399471282959,13.093506813049316,14.220902442932129,7.668664932250977,7.424648284912109,7.976039886474609,7.61522102355957,14.088314056396484,7.441944599151611,7.437575817108154,-9.876761436462402,13.036704063415527,14.835573196411133,15.604759216308594,14.835792541503906,14.858804702758789,18.073348999023438,12.887308120727539,14.835634231567383],\"yaxis\":\"y\",\"type\":\"scattergl\"},{\"hovertemplate\":\"label=Arms behind\\u003cbr\\u003esample=resample\\u003cbr\\u003eemb1=%{x}\\u003cbr\\u003eemb2=%{y}\\u003cextra\\u003e\\u003c\\u002fextra\\u003e\",\"legendgroup\":\"Arms behind\",\"marker\":{\"color\":\"#FFA15A\",\"symbol\":\"circle\"},\"mode\":\"markers\",\"name\":\"Arms behind\",\"showlegend\":false,\"x\":[-6.272675037384033,10.779955863952637],\"xaxis\":\"x2\",\"y\":[15.604759216308594,18.073348999023438],\"yaxis\":\"y2\",\"type\":\"scattergl\"},{\"hovertemplate\":\"label=Arms behind+Crossing legs\\u003cbr\\u003esample=all\\u003cbr\\u003eemb1=%{x}\\u003cbr\\u003eemb2=%{y}\\u003cextra\\u003e\\u003c\\u002fextra\\u003e\",\"legendgroup\":\"Arms behind+Crossing legs\",\"marker\":{\"color\":\"#19d3f3\",\"symbol\":\"circle\"},\"mode\":\"markers\",\"name\":\"Arms behind+Crossing legs\",\"showlegend\":true,\"x\":[-8.14480972290039,-7.936627388000488,-8.160030364990234],\"xaxis\":\"x\",\"y\":[13.708680152893066,12.998067855834961,13.730243682861328],\"yaxis\":\"y\",\"type\":\"scattergl\"},{\"hovertemplate\":\"label=Arms behind+Crossing legs\\u003cbr\\u003esample=resample\\u003cbr\\u003eemb1=%{x}\\u003cbr\\u003eemb2=%{y}\\u003cextra\\u003e\\u003c\\u002fextra\\u003e\",\"legendgroup\":\"Arms behind+Crossing legs\",\"marker\":{\"color\":\"#19d3f3\",\"symbol\":\"circle\"},\"mode\":\"markers\",\"name\":\"Arms behind+Crossing legs\",\"showlegend\":false,\"x\":[-8.14480972290039],\"xaxis\":\"x2\",\"y\":[13.708680152893066],\"yaxis\":\"y2\",\"type\":\"scattergl\"},{\"hovertemplate\":\"label=Arms behind+Folding arms\\u003cbr\\u003esample=all\\u003cbr\\u003eemb1=%{x}\\u003cbr\\u003eemb2=%{y}\\u003cextra\\u003e\\u003c\\u002fextra\\u003e\",\"legendgroup\":\"Arms behind+Folding arms\",\"marker\":{\"color\":\"#FF6692\",\"symbol\":\"circle\"},\"mode\":\"markers\",\"name\":\"Arms behind+Folding arms\",\"showlegend\":true,\"x\":[0.43996545672416687,5.083111763000488],\"xaxis\":\"x\",\"y\":[2.710677146911621,-6.49812126159668],\"yaxis\":\"y\",\"type\":\"scattergl\"},{\"hovertemplate\":\"label=Arms behind+Folding arms\\u003cbr\\u003esample=resample\\u003cbr\\u003eemb1=%{x}\\u003cbr\\u003eemb2=%{y}\\u003cextra\\u003e\\u003c\\u002fextra\\u003e\",\"legendgroup\":\"Arms behind+Folding arms\",\"marker\":{\"color\":\"#FF6692\",\"symbol\":\"circle\"},\"mode\":\"markers\",\"name\":\"Arms behind+Folding arms\",\"showlegend\":false,\"x\":[5.083111763000488],\"xaxis\":\"x2\",\"y\":[-6.49812126159668],\"yaxis\":\"y2\",\"type\":\"scattergl\"},{\"hovertemplate\":\"label=Arms behind+Holding arms\\u003cbr\\u003esample=all\\u003cbr\\u003eemb1=%{x}\\u003cbr\\u003eemb2=%{y}\\u003cextra\\u003e\\u003c\\u002fextra\\u003e\",\"legendgroup\":\"Arms behind+Holding arms\",\"marker\":{\"color\":\"#B6E880\",\"symbol\":\"circle\"},\"mode\":\"markers\",\"name\":\"Arms behind+Holding arms\",\"showlegend\":true,\"x\":[1.3743419647216797],\"xaxis\":\"x\",\"y\":[-11.520490646362305],\"yaxis\":\"y\",\"type\":\"scattergl\"},{\"hovertemplate\":\"label=Arms behind+Holding arms\\u003cbr\\u003esample=resample\\u003cbr\\u003eemb1=%{x}\\u003cbr\\u003eemb2=%{y}\\u003cextra\\u003e\\u003c\\u002fextra\\u003e\",\"legendgroup\":\"Arms behind+Holding arms\",\"marker\":{\"color\":\"#B6E880\",\"symbol\":\"circle\"},\"mode\":\"markers\",\"name\":\"Arms behind+Holding arms\",\"showlegend\":false,\"x\":[1.3743419647216797],\"xaxis\":\"x2\",\"y\":[-11.520490646362305],\"yaxis\":\"y2\",\"type\":\"scattergl\"},{\"hovertemplate\":\"label=Arms behind+Moving legs\\u003cbr\\u003esample=all\\u003cbr\\u003eemb1=%{x}\\u003cbr\\u003eemb2=%{y}\\u003cextra\\u003e\\u003c\\u002fextra\\u003e\",\"legendgroup\":\"Arms behind+Moving legs\",\"marker\":{\"color\":\"#FF97FF\",\"symbol\":\"circle\"},\"mode\":\"markers\",\"name\":\"Arms behind+Moving legs\",\"showlegend\":true,\"x\":[-6.259169578552246,-8.128992080688477],\"xaxis\":\"x\",\"y\":[15.62369155883789,13.702746391296387],\"yaxis\":\"y\",\"type\":\"scattergl\"},{\"hovertemplate\":\"label=Arms behind+Moving legs\\u003cbr\\u003esample=resample\\u003cbr\\u003eemb1=%{x}\\u003cbr\\u003eemb2=%{y}\\u003cextra\\u003e\\u003c\\u002fextra\\u003e\",\"legendgroup\":\"Arms behind+Moving legs\",\"marker\":{\"color\":\"#FF97FF\",\"symbol\":\"circle\"},\"mode\":\"markers\",\"name\":\"Arms behind+Moving legs\",\"showlegend\":false,\"x\":[-6.259169578552246],\"xaxis\":\"x2\",\"y\":[15.62369155883789],\"yaxis\":\"y2\",\"type\":\"scattergl\"},{\"hovertemplate\":\"label=Arms behind+Playing wobjects\\u003cbr\\u003esample=all\\u003cbr\\u003eemb1=%{x}\\u003cbr\\u003eemb2=%{y}\\u003cextra\\u003e\\u003c\\u002fextra\\u003e\",\"legendgroup\":\"Arms behind+Playing wobjects\",\"marker\":{\"color\":\"#FECB52\",\"symbol\":\"circle\"},\"mode\":\"markers\",\"name\":\"Arms behind+Playing wobjects\",\"showlegend\":true,\"x\":[-13.576348304748535,-4.963369369506836],\"xaxis\":\"x\",\"y\":[9.109445571899414,11.99146842956543],\"yaxis\":\"y\",\"type\":\"scattergl\"},{\"hovertemplate\":\"label=Arms behind+Playing wobjects\\u003cbr\\u003esample=resample\\u003cbr\\u003eemb1=%{x}\\u003cbr\\u003eemb2=%{y}\\u003cextra\\u003e\\u003c\\u002fextra\\u003e\",\"legendgroup\":\"Arms behind+Playing wobjects\",\"marker\":{\"color\":\"#FECB52\",\"symbol\":\"circle\"},\"mode\":\"markers\",\"name\":\"Arms behind+Playing wobjects\",\"showlegend\":false,\"x\":[-4.963369369506836],\"xaxis\":\"x2\",\"y\":[11.99146842956543],\"yaxis\":\"y2\",\"type\":\"scattergl\"},{\"hovertemplate\":\"label=Arms behind+Rubbing face\\u003cbr\\u003esample=all\\u003cbr\\u003eemb1=%{x}\\u003cbr\\u003eemb2=%{y}\\u003cextra\\u003e\\u003c\\u002fextra\\u003e\",\"legendgroup\":\"Arms behind+Rubbing face\",\"marker\":{\"color\":\"#636efa\",\"symbol\":\"circle\"},\"mode\":\"markers\",\"name\":\"Arms behind+Rubbing face\",\"showlegend\":true,\"x\":[-8.938478469848633,16.35986328125],\"xaxis\":\"x\",\"y\":[11.23654842376709,10.326102256774902],\"yaxis\":\"y\",\"type\":\"scattergl\"},{\"hovertemplate\":\"label=Arms behind+Rubbing face\\u003cbr\\u003esample=resample\\u003cbr\\u003eemb1=%{x}\\u003cbr\\u003eemb2=%{y}\\u003cextra\\u003e\\u003c\\u002fextra\\u003e\",\"legendgroup\":\"Arms behind+Rubbing face\",\"marker\":{\"color\":\"#636efa\",\"symbol\":\"circle\"},\"mode\":\"markers\",\"name\":\"Arms behind+Rubbing face\",\"showlegend\":false,\"x\":[-8.938478469848633],\"xaxis\":\"x2\",\"y\":[11.23654842376709],\"yaxis\":\"y2\",\"type\":\"scattergl\"},{\"hovertemplate\":\"label=Arms behind+Rubbing hands\\u003cbr\\u003esample=all\\u003cbr\\u003eemb1=%{x}\\u003cbr\\u003eemb2=%{y}\\u003cextra\\u003e\\u003c\\u002fextra\\u003e\",\"legendgroup\":\"Arms behind+Rubbing hands\",\"marker\":{\"color\":\"#EF553B\",\"symbol\":\"circle\"},\"mode\":\"markers\",\"name\":\"Arms behind+Rubbing hands\",\"showlegend\":true,\"x\":[-5.611213207244873,-8.858431816101074,-8.01073932647705,-7.854424953460693,-5.596469879150391],\"xaxis\":\"x\",\"y\":[-2.2719736099243164,15.849658966064453,14.236715316772461,12.662318229675293,-3.0446228981018066],\"yaxis\":\"y\",\"type\":\"scattergl\"},{\"hovertemplate\":\"label=Arms behind+Rubbing hands\\u003cbr\\u003esample=resample\\u003cbr\\u003eemb1=%{x}\\u003cbr\\u003eemb2=%{y}\\u003cextra\\u003e\\u003c\\u002fextra\\u003e\",\"legendgroup\":\"Arms behind+Rubbing hands\",\"marker\":{\"color\":\"#EF553B\",\"symbol\":\"circle\"},\"mode\":\"markers\",\"name\":\"Arms behind+Rubbing hands\",\"showlegend\":false,\"x\":[-5.611213207244873],\"xaxis\":\"x2\",\"y\":[-2.2719736099243164],\"yaxis\":\"y2\",\"type\":\"scattergl\"},{\"hovertemplate\":\"label=Arms behind+Scratching body\\u003cbr\\u003esample=all\\u003cbr\\u003eemb1=%{x}\\u003cbr\\u003eemb2=%{y}\\u003cextra\\u003e\\u003c\\u002fextra\\u003e\",\"legendgroup\":\"Arms behind+Scratching body\",\"marker\":{\"color\":\"#00cc96\",\"symbol\":\"circle\"},\"mode\":\"markers\",\"name\":\"Arms behind+Scratching body\",\"showlegend\":true,\"x\":[-13.99065113067627],\"xaxis\":\"x\",\"y\":[8.707501411437988],\"yaxis\":\"y\",\"type\":\"scattergl\"},{\"hovertemplate\":\"label=Arms behind+Scratching body\\u003cbr\\u003esample=resample\\u003cbr\\u003eemb1=%{x}\\u003cbr\\u003eemb2=%{y}\\u003cextra\\u003e\\u003c\\u002fextra\\u003e\",\"legendgroup\":\"Arms behind+Scratching body\",\"marker\":{\"color\":\"#00cc96\",\"symbol\":\"circle\"},\"mode\":\"markers\",\"name\":\"Arms behind+Scratching body\",\"showlegend\":false,\"x\":[-13.99065113067627],\"xaxis\":\"x2\",\"y\":[8.707501411437988],\"yaxis\":\"y2\",\"type\":\"scattergl\"},{\"hovertemplate\":\"label=Arms behind+Scratching neck\\u003cbr\\u003esample=all\\u003cbr\\u003eemb1=%{x}\\u003cbr\\u003eemb2=%{y}\\u003cextra\\u003e\\u003c\\u002fextra\\u003e\",\"legendgroup\":\"Arms behind+Scratching neck\",\"marker\":{\"color\":\"#ab63fa\",\"symbol\":\"circle\"},\"mode\":\"markers\",\"name\":\"Arms behind+Scratching neck\",\"showlegend\":true,\"x\":[13.912571907043457],\"xaxis\":\"x\",\"y\":[7.401066780090332],\"yaxis\":\"y\",\"type\":\"scattergl\"},{\"hovertemplate\":\"label=Arms behind+Scratching neck\\u003cbr\\u003esample=resample\\u003cbr\\u003eemb1=%{x}\\u003cbr\\u003eemb2=%{y}\\u003cextra\\u003e\\u003c\\u002fextra\\u003e\",\"legendgroup\":\"Arms behind+Scratching neck\",\"marker\":{\"color\":\"#ab63fa\",\"symbol\":\"circle\"},\"mode\":\"markers\",\"name\":\"Arms behind+Scratching neck\",\"showlegend\":false,\"x\":[13.912571907043457],\"xaxis\":\"x2\",\"y\":[7.401066780090332],\"yaxis\":\"y2\",\"type\":\"scattergl\"},{\"hovertemplate\":\"label=Arms behind+Touching face\\u003cbr\\u003esample=all\\u003cbr\\u003eemb1=%{x}\\u003cbr\\u003eemb2=%{y}\\u003cextra\\u003e\\u003c\\u002fextra\\u003e\",\"legendgroup\":\"Arms behind+Touching face\",\"marker\":{\"color\":\"#FFA15A\",\"symbol\":\"circle\"},\"mode\":\"markers\",\"name\":\"Arms behind+Touching face\",\"showlegend\":true,\"x\":[-8.971142768859863,-8.824392318725586,-8.57930850982666,-8.562784194946289,-8.838176727294922,-8.933542251586914,-8.952229499816895,-8.965568542480469,-8.536157608032227,-8.955205917358398],\"xaxis\":\"x\",\"y\":[11.218159675598145,11.314498901367188,11.417668342590332,11.427200317382812,11.30301284790039,11.235812187194824,11.229406356811523,11.214975357055664,11.437427520751953,11.227580070495605],\"yaxis\":\"y\",\"type\":\"scattergl\"},{\"hovertemplate\":\"label=Arms behind+Touching face\\u003cbr\\u003esample=resample\\u003cbr\\u003eemb1=%{x}\\u003cbr\\u003eemb2=%{y}\\u003cextra\\u003e\\u003c\\u002fextra\\u003e\",\"legendgroup\":\"Arms behind+Touching face\",\"marker\":{\"color\":\"#FFA15A\",\"symbol\":\"circle\"},\"mode\":\"markers\",\"name\":\"Arms behind+Touching face\",\"showlegend\":false,\"x\":[-8.971142768859863],\"xaxis\":\"x2\",\"y\":[11.218159675598145],\"yaxis\":\"y2\",\"type\":\"scattergl\"},{\"hovertemplate\":\"label=Arms behind+Touching nose\\u003cbr\\u003esample=all\\u003cbr\\u003eemb1=%{x}\\u003cbr\\u003eemb2=%{y}\\u003cextra\\u003e\\u003c\\u002fextra\\u003e\",\"legendgroup\":\"Arms behind+Touching nose\",\"marker\":{\"color\":\"#19d3f3\",\"symbol\":\"circle\"},\"mode\":\"markers\",\"name\":\"Arms behind+Touching nose\",\"showlegend\":true,\"x\":[-13.582306861877441],\"xaxis\":\"x\",\"y\":[9.106642723083496],\"yaxis\":\"y\",\"type\":\"scattergl\"},{\"hovertemplate\":\"label=Arms behind+Touching nose\\u003cbr\\u003esample=resample\\u003cbr\\u003eemb1=%{x}\\u003cbr\\u003eemb2=%{y}\\u003cextra\\u003e\\u003c\\u002fextra\\u003e\",\"legendgroup\":\"Arms behind+Touching nose\",\"marker\":{\"color\":\"#19d3f3\",\"symbol\":\"circle\"},\"mode\":\"markers\",\"name\":\"Arms behind+Touching nose\",\"showlegend\":false,\"x\":[-13.582306861877441],\"xaxis\":\"x2\",\"y\":[9.106642723083496],\"yaxis\":\"y2\",\"type\":\"scattergl\"},{\"hovertemplate\":\"label=Crossing legs\\u003cbr\\u003esample=all\\u003cbr\\u003eemb1=%{x}\\u003cbr\\u003eemb2=%{y}\\u003cextra\\u003e\\u003c\\u002fextra\\u003e\",\"legendgroup\":\"Crossing legs\",\"marker\":{\"color\":\"#FF6692\",\"symbol\":\"circle\"},\"mode\":\"markers\",\"name\":\"Crossing legs\",\"showlegend\":true,\"x\":[4.287625312805176,4.289045810699463,4.258808612823486,4.255041122436523,10.740046501159668,4.267099380493164,10.754552841186523,10.738775253295898,4.311643123626709,-6.1519365310668945,4.2795915603637695,10.752854347229004,10.739310264587402,4.2582316398620605],\"xaxis\":\"x\",\"y\":[0.38415589928627014,0.3856544494628906,0.36557847261428833,0.3635009527206421,3.045729637145996,0.3704211115837097,3.053567409515381,3.0450661182403564,0.4057953655719757,2.724496841430664,0.37867558002471924,3.0527350902557373,3.0453226566314697,0.36532917618751526],\"yaxis\":\"y\",\"type\":\"scattergl\"},{\"hovertemplate\":\"label=Crossing legs\\u003cbr\\u003esample=resample\\u003cbr\\u003eemb1=%{x}\\u003cbr\\u003eemb2=%{y}\\u003cextra\\u003e\\u003c\\u002fextra\\u003e\",\"legendgroup\":\"Crossing legs\",\"marker\":{\"color\":\"#FF6692\",\"symbol\":\"circle\"},\"mode\":\"markers\",\"name\":\"Crossing legs\",\"showlegend\":false,\"x\":[10.739310264587402],\"xaxis\":\"x2\",\"y\":[3.0453226566314697],\"yaxis\":\"y2\",\"type\":\"scattergl\"},{\"hovertemplate\":\"label=Crossing legs+Moving legs\\u003cbr\\u003esample=all\\u003cbr\\u003eemb1=%{x}\\u003cbr\\u003eemb2=%{y}\\u003cextra\\u003e\\u003c\\u002fextra\\u003e\",\"legendgroup\":\"Crossing legs+Moving legs\",\"marker\":{\"color\":\"#B6E880\",\"symbol\":\"circle\"},\"mode\":\"markers\",\"name\":\"Crossing legs+Moving legs\",\"showlegend\":true,\"x\":[4.253791332244873],\"xaxis\":\"x\",\"y\":[0.36183860898017883],\"yaxis\":\"y\",\"type\":\"scattergl\"},{\"hovertemplate\":\"label=Crossing legs+Moving legs\\u003cbr\\u003esample=resample\\u003cbr\\u003eemb1=%{x}\\u003cbr\\u003eemb2=%{y}\\u003cextra\\u003e\\u003c\\u002fextra\\u003e\",\"legendgroup\":\"Crossing legs+Moving legs\",\"marker\":{\"color\":\"#B6E880\",\"symbol\":\"circle\"},\"mode\":\"markers\",\"name\":\"Crossing legs+Moving legs\",\"showlegend\":false,\"x\":[4.253791332244873],\"xaxis\":\"x2\",\"y\":[0.36183860898017883],\"yaxis\":\"y2\",\"type\":\"scattergl\"},{\"hovertemplate\":\"label=Folding arms\\u003cbr\\u003esample=all\\u003cbr\\u003eemb1=%{x}\\u003cbr\\u003eemb2=%{y}\\u003cextra\\u003e\\u003c\\u002fextra\\u003e\",\"legendgroup\":\"Folding arms\",\"marker\":{\"color\":\"#FF97FF\",\"symbol\":\"circle\"},\"mode\":\"markers\",\"name\":\"Folding arms\",\"showlegend\":true,\"x\":[9.445083618164062,9.478368759155273,-3.436736822128296,9.192391395568848,10.84227180480957,4.517944812774658,-3.408647298812866,4.558326244354248,-6.041354656219482,10.837695121765137,5.01957368850708,-8.269538879394531,4.924933910369873,0.3171885311603546,4.460592269897461,10.688971519470215,4.8950910568237305,0.3167417645454407,4.971033573150635,10.444564819335938,4.9302287101745605,9.16422176361084,10.2432222366333,10.424511909484863,9.168183326721191,9.075822830200195,-3.446780204772949,9.183717727661133,-6.0820746421813965,9.992753982543945,4.904370307922363,9.519007682800293,-4.576329708099365,-2.0413951873779297,5.084600925445557,9.063200950622559,9.093881607055664,9.337639808654785,9.303120613098145,8.542243957519531,8.614176750183105,8.545327186584473,10.25039005279541,8.853175163269043,9.341165542602539,0.31686583161354065,8.53635311126709,8.546353340148926,8.51822566986084,9.00151252746582,10.74719524383545,8.549789428710938,8.570277214050293,4.910739421844482,8.53442096710205,8.961028099060059,4.898800373077393,-6.056392192840576,10.119490623474121,9.355012893676758,9.30831241607666,-11.971138954162598,9.325526237487793,4.559234142303467,4.817788124084473,9.41763687133789,10.173338890075684,10.08659839630127,-6.259521484375,9.674103736877441,9.171233177185059,9.820111274719238,10.60542106628418,9.688511848449707,9.517610549926758,5.114345550537109,4.521244525909424,-8.264006614685059,9.324333190917969,-6.051814079284668,10.117706298828125,4.446746826171875,10.799820899963379,8.606501579284668,-4.577859401702881,-3.4076623916625977,5.026021480560303,10.728625297546387,-3.381627321243286,10.355320930480957,10.206104278564453,10.33096694946289,8.535503387451172,4.774898052215576,9.967676162719727,10.6530122756958,10.52410888671875,-3.4456732273101807,9.476767539978027,-2.6030876636505127,0.3171546161174774,-4.542022705078125,10.83494758605957,7.425312042236328,-3.445810317993164,10.06081771850586,4.897607326507568,9.933943748474121,10.021798133850098,4.739973545074463,7.425832748413086,5.120177268981934,9.469074249267578,4.895923137664795,5.1248064041137695,8.714234352111816,10.661211013793945,8.69604206085205,9.320871353149414,10.072640419006348,10.30288314819336,5.121932506561279,4.44911003112793,8.665860176086426,9.326376914978027,-1.0087783336639404,8.672229766845703,9.469619750976562,10.096980094909668,4.949943542480469,8.673094749450684,-3.081361770629883,9.917381286621094,4.4487080574035645,-3.446624994277954,9.963249206542969,9.672931671142578,5.123592853546143],\"xaxis\":\"x\",\"y\":[7.441947937011719,7.705750465393066,3.065455913543701,7.347754955291748,6.6836748123168945,-9.714015007019043,3.0364413261413574,-9.755722999572754,20.279438018798828,6.68789529800415,-6.546553134918213,-9.968650817871094,-6.622801303863525,18.928022384643555,-9.65689754486084,6.829929828643799,-6.648429870605469,18.927757263183594,-6.585836410522461,7.056889057159424,-6.618679523468018,7.30811071395874,7.245107173919678,7.077414512634277,7.322626113891602,7.207301616668701,3.0750467777252197,7.335948467254639,20.319040298461914,7.624283313751221,-6.63919734954834,7.53347110748291,-8.1508150100708,-6.358532905578613,-6.49965238571167,7.180172443389893,7.230140209197998,7.890684127807617,7.9691386222839355,8.516769409179688,8.461064338684082,8.5147123336792,7.23167085647583,6.871536731719971,7.948117256164551,18.92774772644043,8.521686553955078,8.519185066223145,8.539203643798828,7.091983795166016,6.775367736816406,8.510787963867188,8.500176429748535,-10.140381813049316,8.525470733642578,7.0343337059021,-6.645478248596191,20.293439865112305,7.727977275848389,7.929332733154297,8.034470558166504,10.45659065246582,8.01492977142334,-9.7559814453125,-10.039543151855469,7.76239013671875,7.322405815124512,7.713537693023682,20.48738670349121,7.670680999755859,7.326082706451416,7.51558256149292,6.9081549644470215,7.6804118156433105,7.674681663513184,-10.35197639465332,-9.717867851257324,-9.96333122253418,7.440855026245117,20.289295196533203,7.360422611236572,-9.643193244934082,6.724318504333496,11.364188194274902,-8.152674674987793,3.033973455429077,-10.260916709899902,6.793753147125244,3.0086333751678467,7.137136459350586,7.289435386657715,7.159668445587158,8.521568298339844,-9.992088317871094,7.588667869567871,6.8650407791137695,6.984236717224121,3.0749001502990723,7.714914798736572,1.3902571201324463,18.927392959594727,-8.18421745300293,6.690585136413574,13.03281307220459,3.075017213821411,7.689054489135742,-6.6466450691223145,7.5835041999816895,7.508615970611572,-9.953904151916504,13.038792610168457,-10.358160972595215,7.717613697052002,-6.646049499511719,-10.363043785095215,6.690227031707764,6.857427597045898,6.6648478507995605,8.009572982788086,7.402019023895264,7.195780277252197,-10.359823226928711,-9.645346641540527,6.6351799964904785,8.019364356994629,15.397566795349121,6.6396942138671875,7.706692695617676,7.713364124298096,-6.604351997375488,6.642816066741943,-4.434634685516357,7.586789608001709,-9.64505672454834,3.0748934745788574,7.542660236358643,7.6901774406433105,-10.361812591552734],\"yaxis\":\"y\",\"type\":\"scattergl\"},{\"hovertemplate\":\"label=Folding arms\\u003cbr\\u003esample=resample\\u003cbr\\u003eemb1=%{x}\\u003cbr\\u003eemb2=%{y}\\u003cextra\\u003e\\u003c\\u002fextra\\u003e\",\"legendgroup\":\"Folding arms\",\"marker\":{\"color\":\"#FF97FF\",\"symbol\":\"circle\"},\"mode\":\"markers\",\"name\":\"Folding arms\",\"showlegend\":false,\"x\":[-3.408647298812866],\"xaxis\":\"x2\",\"y\":[3.0364413261413574],\"yaxis\":\"y2\",\"type\":\"scattergl\"},{\"hovertemplate\":\"label=Folding arms+Moving legs\\u003cbr\\u003esample=all\\u003cbr\\u003eemb1=%{x}\\u003cbr\\u003eemb2=%{y}\\u003cextra\\u003e\\u003c\\u002fextra\\u003e\",\"legendgroup\":\"Folding arms+Moving legs\",\"marker\":{\"color\":\"#FECB52\",\"symbol\":\"circle\"},\"mode\":\"markers\",\"name\":\"Folding arms+Moving legs\",\"showlegend\":true,\"x\":[8.726719856262207,4.822728633880615,8.767791748046875,9.16897964477539,3.342235803604126,-10.220870018005371,4.834788799285889,-6.302473068237305],\"xaxis\":\"x\",\"y\":[6.712055206298828,-10.050750732421875,6.7672014236450195,7.3473615646362305,-3.38871169090271,5.739970684051514,-10.065028190612793,20.52667236328125],\"yaxis\":\"y\",\"type\":\"scattergl\"},{\"hovertemplate\":\"label=Folding arms+Moving legs\\u003cbr\\u003esample=resample\\u003cbr\\u003eemb1=%{x}\\u003cbr\\u003eemb2=%{y}\\u003cextra\\u003e\\u003c\\u002fextra\\u003e\",\"legendgroup\":\"Folding arms+Moving legs\",\"marker\":{\"color\":\"#FECB52\",\"symbol\":\"circle\"},\"mode\":\"markers\",\"name\":\"Folding arms+Moving legs\",\"showlegend\":false,\"x\":[4.834788799285889],\"xaxis\":\"x2\",\"y\":[-10.065028190612793],\"yaxis\":\"y2\",\"type\":\"scattergl\"},{\"hovertemplate\":\"label=Folding arms+Moving legs+Scratching neck\\u003cbr\\u003esample=all\\u003cbr\\u003eemb1=%{x}\\u003cbr\\u003eemb2=%{y}\\u003cextra\\u003e\\u003c\\u002fextra\\u003e\",\"legendgroup\":\"Folding arms+Moving legs+Scratching neck\",\"marker\":{\"color\":\"#636efa\",\"symbol\":\"circle\"},\"mode\":\"markers\",\"name\":\"Folding arms+Moving legs+Scratching neck\",\"showlegend\":true,\"x\":[8.853231430053711],\"xaxis\":\"x\",\"y\":[6.887794017791748],\"yaxis\":\"y\",\"type\":\"scattergl\"},{\"hovertemplate\":\"label=Folding arms+Moving legs+Scratching neck\\u003cbr\\u003esample=resample\\u003cbr\\u003eemb1=%{x}\\u003cbr\\u003eemb2=%{y}\\u003cextra\\u003e\\u003c\\u002fextra\\u003e\",\"legendgroup\":\"Folding arms+Moving legs+Scratching neck\",\"marker\":{\"color\":\"#636efa\",\"symbol\":\"circle\"},\"mode\":\"markers\",\"name\":\"Folding arms+Moving legs+Scratching neck\",\"showlegend\":false,\"x\":[8.853231430053711],\"xaxis\":\"x2\",\"y\":[6.887794017791748],\"yaxis\":\"y2\",\"type\":\"scattergl\"},{\"hovertemplate\":\"label=Folding arms+Moving legs+Touching face\\u003cbr\\u003esample=all\\u003cbr\\u003eemb1=%{x}\\u003cbr\\u003eemb2=%{y}\\u003cextra\\u003e\\u003c\\u002fextra\\u003e\",\"legendgroup\":\"Folding arms+Moving legs+Touching face\",\"marker\":{\"color\":\"#EF553B\",\"symbol\":\"circle\"},\"mode\":\"markers\",\"name\":\"Folding arms+Moving legs+Touching face\",\"showlegend\":true,\"x\":[5.125124454498291],\"xaxis\":\"x\",\"y\":[-10.364081382751465],\"yaxis\":\"y\",\"type\":\"scattergl\"},{\"hovertemplate\":\"label=Folding arms+Moving legs+Touching face\\u003cbr\\u003esample=resample\\u003cbr\\u003eemb1=%{x}\\u003cbr\\u003eemb2=%{y}\\u003cextra\\u003e\\u003c\\u002fextra\\u003e\",\"legendgroup\":\"Folding arms+Moving legs+Touching face\",\"marker\":{\"color\":\"#EF553B\",\"symbol\":\"circle\"},\"mode\":\"markers\",\"name\":\"Folding arms+Moving legs+Touching face\",\"showlegend\":false,\"x\":[5.125124454498291],\"xaxis\":\"x2\",\"y\":[-10.364081382751465],\"yaxis\":\"y2\",\"type\":\"scattergl\"},{\"hovertemplate\":\"label=Folding arms+Pulling collar\\u003cbr\\u003esample=all\\u003cbr\\u003eemb1=%{x}\\u003cbr\\u003eemb2=%{y}\\u003cextra\\u003e\\u003c\\u002fextra\\u003e\",\"legendgroup\":\"Folding arms+Pulling collar\",\"marker\":{\"color\":\"#00cc96\",\"symbol\":\"circle\"},\"mode\":\"markers\",\"name\":\"Folding arms+Pulling collar\",\"showlegend\":true,\"x\":[12.710267066955566,12.717048645019531],\"xaxis\":\"x\",\"y\":[-3.3178858757019043,-3.313004493713379],\"yaxis\":\"y\",\"type\":\"scattergl\"},{\"hovertemplate\":\"label=Folding arms+Pulling collar\\u003cbr\\u003esample=resample\\u003cbr\\u003eemb1=%{x}\\u003cbr\\u003eemb2=%{y}\\u003cextra\\u003e\\u003c\\u002fextra\\u003e\",\"legendgroup\":\"Folding arms+Pulling collar\",\"marker\":{\"color\":\"#00cc96\",\"symbol\":\"circle\"},\"mode\":\"markers\",\"name\":\"Folding arms+Pulling collar\",\"showlegend\":false,\"x\":[12.717048645019531],\"xaxis\":\"x2\",\"y\":[-3.313004493713379],\"yaxis\":\"y2\",\"type\":\"scattergl\"},{\"hovertemplate\":\"label=Folding arms+Rubbing face\\u003cbr\\u003esample=all\\u003cbr\\u003eemb1=%{x}\\u003cbr\\u003eemb2=%{y}\\u003cextra\\u003e\\u003c\\u002fextra\\u003e\",\"legendgroup\":\"Folding arms+Rubbing face\",\"marker\":{\"color\":\"#ab63fa\",\"symbol\":\"circle\"},\"mode\":\"markers\",\"name\":\"Folding arms+Rubbing face\",\"showlegend\":true,\"x\":[15.576257705688477,-3.38726806640625,8.586795806884766,8.584338188171387,8.605681419372559,4.917104721069336,8.58825969696045,15.576159477233887,8.5905179977417,15.578554153442383,15.577079772949219,8.588168144226074],\"xaxis\":\"x\",\"y\":[4.338409900665283,3.015209674835205,16.653377532958984,16.65087127685547,16.67259979248047,-6.626957416534424,16.655254364013672,4.338326454162598,16.657155990600586,4.338494777679443,4.3385772705078125,16.654611587524414],\"yaxis\":\"y\",\"type\":\"scattergl\"},{\"hovertemplate\":\"label=Folding arms+Rubbing face\\u003cbr\\u003esample=resample\\u003cbr\\u003eemb1=%{x}\\u003cbr\\u003eemb2=%{y}\\u003cextra\\u003e\\u003c\\u002fextra\\u003e\",\"legendgroup\":\"Folding arms+Rubbing face\",\"marker\":{\"color\":\"#ab63fa\",\"symbol\":\"circle\"},\"mode\":\"markers\",\"name\":\"Folding arms+Rubbing face\",\"showlegend\":false,\"x\":[8.5905179977417],\"xaxis\":\"x2\",\"y\":[16.657155990600586],\"yaxis\":\"y2\",\"type\":\"scattergl\"},{\"hovertemplate\":\"label=Folding arms+Rubbing hands\\u003cbr\\u003esample=all\\u003cbr\\u003eemb1=%{x}\\u003cbr\\u003eemb2=%{y}\\u003cextra\\u003e\\u003c\\u002fextra\\u003e\",\"legendgroup\":\"Folding arms+Rubbing hands\",\"marker\":{\"color\":\"#FFA15A\",\"symbol\":\"circle\"},\"mode\":\"markers\",\"name\":\"Folding arms+Rubbing hands\",\"showlegend\":true,\"x\":[-10.431821823120117],\"xaxis\":\"x\",\"y\":[0.6833080649375916],\"yaxis\":\"y\",\"type\":\"scattergl\"},{\"hovertemplate\":\"label=Folding arms+Rubbing hands\\u003cbr\\u003esample=resample\\u003cbr\\u003eemb1=%{x}\\u003cbr\\u003eemb2=%{y}\\u003cextra\\u003e\\u003c\\u002fextra\\u003e\",\"legendgroup\":\"Folding arms+Rubbing hands\",\"marker\":{\"color\":\"#FFA15A\",\"symbol\":\"circle\"},\"mode\":\"markers\",\"name\":\"Folding arms+Rubbing hands\",\"showlegend\":false,\"x\":[-10.431821823120117],\"xaxis\":\"x2\",\"y\":[0.6833080649375916],\"yaxis\":\"y2\",\"type\":\"scattergl\"},{\"hovertemplate\":\"label=Folding arms+Scratching body\\u003cbr\\u003esample=all\\u003cbr\\u003eemb1=%{x}\\u003cbr\\u003eemb2=%{y}\\u003cextra\\u003e\\u003c\\u002fextra\\u003e\",\"legendgroup\":\"Folding arms+Scratching body\",\"marker\":{\"color\":\"#19d3f3\",\"symbol\":\"circle\"},\"mode\":\"markers\",\"name\":\"Folding arms+Scratching body\",\"showlegend\":true,\"x\":[-5.296528339385986],\"xaxis\":\"x\",\"y\":[5.07779598236084],\"yaxis\":\"y\",\"type\":\"scattergl\"},{\"hovertemplate\":\"label=Folding arms+Scratching body\\u003cbr\\u003esample=resample\\u003cbr\\u003eemb1=%{x}\\u003cbr\\u003eemb2=%{y}\\u003cextra\\u003e\\u003c\\u002fextra\\u003e\",\"legendgroup\":\"Folding arms+Scratching body\",\"marker\":{\"color\":\"#19d3f3\",\"symbol\":\"circle\"},\"mode\":\"markers\",\"name\":\"Folding arms+Scratching body\",\"showlegend\":false,\"x\":[-5.296528339385986],\"xaxis\":\"x2\",\"y\":[5.07779598236084],\"yaxis\":\"y2\",\"type\":\"scattergl\"},{\"hovertemplate\":\"label=Folding arms+Scratching neck\\u003cbr\\u003esample=all\\u003cbr\\u003eemb1=%{x}\\u003cbr\\u003eemb2=%{y}\\u003cextra\\u003e\\u003c\\u002fextra\\u003e\",\"legendgroup\":\"Folding arms+Scratching neck\",\"marker\":{\"color\":\"#FF6692\",\"symbol\":\"circle\"},\"mode\":\"markers\",\"name\":\"Folding arms+Scratching neck\",\"showlegend\":true,\"x\":[-8.315229415893555],\"xaxis\":\"x\",\"y\":[-10.01539134979248],\"yaxis\":\"y\",\"type\":\"scattergl\"},{\"hovertemplate\":\"label=Folding arms+Scratching neck\\u003cbr\\u003esample=resample\\u003cbr\\u003eemb1=%{x}\\u003cbr\\u003eemb2=%{y}\\u003cextra\\u003e\\u003c\\u002fextra\\u003e\",\"legendgroup\":\"Folding arms+Scratching neck\",\"marker\":{\"color\":\"#FF6692\",\"symbol\":\"circle\"},\"mode\":\"markers\",\"name\":\"Folding arms+Scratching neck\",\"showlegend\":false,\"x\":[-8.315229415893555],\"xaxis\":\"x2\",\"y\":[-10.01539134979248],\"yaxis\":\"y2\",\"type\":\"scattergl\"},{\"hovertemplate\":\"label=Folding arms+Scratching neck+Touching face\\u003cbr\\u003esample=all\\u003cbr\\u003eemb1=%{x}\\u003cbr\\u003eemb2=%{y}\\u003cextra\\u003e\\u003c\\u002fextra\\u003e\",\"legendgroup\":\"Folding arms+Scratching neck+Touching face\",\"marker\":{\"color\":\"#B6E880\",\"symbol\":\"circle\"},\"mode\":\"markers\",\"name\":\"Folding arms+Scratching neck+Touching face\",\"showlegend\":true,\"x\":[12.726483345031738],\"xaxis\":\"x\",\"y\":[-3.3245577812194824],\"yaxis\":\"y\",\"type\":\"scattergl\"},{\"hovertemplate\":\"label=Folding arms+Scratching neck+Touching face\\u003cbr\\u003esample=resample\\u003cbr\\u003eemb1=%{x}\\u003cbr\\u003eemb2=%{y}\\u003cextra\\u003e\\u003c\\u002fextra\\u003e\",\"legendgroup\":\"Folding arms+Scratching neck+Touching face\",\"marker\":{\"color\":\"#B6E880\",\"symbol\":\"circle\"},\"mode\":\"markers\",\"name\":\"Folding arms+Scratching neck+Touching face\",\"showlegend\":false,\"x\":[12.726483345031738],\"xaxis\":\"x2\",\"y\":[-3.3245577812194824],\"yaxis\":\"y2\",\"type\":\"scattergl\"},{\"hovertemplate\":\"label=Folding arms+Touching face\\u003cbr\\u003esample=all\\u003cbr\\u003eemb1=%{x}\\u003cbr\\u003eemb2=%{y}\\u003cextra\\u003e\\u003c\\u002fextra\\u003e\",\"legendgroup\":\"Folding arms+Touching face\",\"marker\":{\"color\":\"#FF97FF\",\"symbol\":\"circle\"},\"mode\":\"markers\",\"name\":\"Folding arms+Touching face\",\"showlegend\":true,\"x\":[4.626428127288818,9.410213470458984,6.501519680023193,9.381234169006348,12.735271453857422,-2.923788070678711,-1.7537851333618164,12.747037887573242,-2.9239182472229004,6.501190185546875,-6.365050315856934,2.3056797981262207,10.412997245788574,4.738544464111328,12.741158485412598,12.740229606628418,12.736321449279785,12.718611717224121],\"xaxis\":\"x\",\"y\":[-9.829035758972168,7.759009838104248,-5.150968074798584,7.786923885345459,-3.3207309246063232,12.73393726348877,-1.0726652145385742,-3.2814416885375977,12.732897758483887,-5.151401996612549,2.9566330909729004,-8.92501163482666,7.083829879760742,-9.952072143554688,-3.327632427215576,-3.3307669162750244,-3.3342039585113525,-3.3066024780273438],\"yaxis\":\"y\",\"type\":\"scattergl\"},{\"hovertemplate\":\"label=Folding arms+Touching face\\u003cbr\\u003esample=resample\\u003cbr\\u003eemb1=%{x}\\u003cbr\\u003eemb2=%{y}\\u003cextra\\u003e\\u003c\\u002fextra\\u003e\",\"legendgroup\":\"Folding arms+Touching face\",\"marker\":{\"color\":\"#FF97FF\",\"symbol\":\"circle\"},\"mode\":\"markers\",\"name\":\"Folding arms+Touching face\",\"showlegend\":false,\"x\":[-2.923788070678711,-6.365050315856934],\"xaxis\":\"x2\",\"y\":[12.73393726348877,2.9566330909729004],\"yaxis\":\"y2\",\"type\":\"scattergl\"},{\"hovertemplate\":\"label=Hand gestures\\u003cbr\\u003esample=all\\u003cbr\\u003eemb1=%{x}\\u003cbr\\u003eemb2=%{y}\\u003cextra\\u003e\\u003c\\u002fextra\\u003e\",\"legendgroup\":\"Hand gestures\",\"marker\":{\"color\":\"#FECB52\",\"symbol\":\"circle\"},\"mode\":\"markers\",\"name\":\"Hand gestures\",\"showlegend\":true,\"x\":[-0.27257153391838074,-1.1975423097610474,-0.8025954365730286,-0.8043257594108582,-1.577867031097412,-0.3233838677406311,-1.5755735635757446,-0.11566439270973206,-0.2855354845523834,-0.25990912318229675,-0.37318506836891174,-0.9388270974159241,-0.3084779381752014,-0.8476353883743286,-0.9320352673530579,-0.1540234535932541,-0.3649957776069641,-0.8760076761245728,-0.4341766834259033,-0.15931235253810883,-1.5757437944412231,-0.3522301912307739,-1.5566526651382446,-0.30492889881134033,-0.36750975251197815],\"xaxis\":\"x\",\"y\":[-3.465758800506592,21.15795135498047,-3.6372859477996826,-3.660780191421509,-3.928795099258423,-3.5059707164764404,-3.9276273250579834,-3.3528542518615723,-3.486762523651123,-3.4558775424957275,-3.5607352256774902,-3.6901564598083496,-3.5079987049102783,-3.6693968772888184,-3.6899168491363525,-3.3814873695373535,-3.5646636486053467,-3.6768991947174072,-3.5819520950317383,-3.3811910152435303,-3.9274709224700928,-3.546445846557617,-3.9189813137054443,-3.4877283573150635,-3.561079263687134],\"yaxis\":\"y\",\"type\":\"scattergl\"},{\"hovertemplate\":\"label=Hand gestures\\u003cbr\\u003esample=resample\\u003cbr\\u003eemb1=%{x}\\u003cbr\\u003eemb2=%{y}\\u003cextra\\u003e\\u003c\\u002fextra\\u003e\",\"legendgroup\":\"Hand gestures\",\"marker\":{\"color\":\"#FECB52\",\"symbol\":\"circle\"},\"mode\":\"markers\",\"name\":\"Hand gestures\",\"showlegend\":false,\"x\":[-0.9388270974159241,-0.3649957776069641,-1.5755735635757446],\"xaxis\":\"x2\",\"y\":[-3.6901564598083496,-3.5646636486053467,-3.9276273250579834],\"yaxis\":\"y2\",\"type\":\"scattergl\"},{\"hovertemplate\":\"label=Hand gestures+Holding arms\\u003cbr\\u003esample=all\\u003cbr\\u003eemb1=%{x}\\u003cbr\\u003eemb2=%{y}\\u003cextra\\u003e\\u003c\\u002fextra\\u003e\",\"legendgroup\":\"Hand gestures+Holding arms\",\"marker\":{\"color\":\"#636efa\",\"symbol\":\"circle\"},\"mode\":\"markers\",\"name\":\"Hand gestures+Holding arms\",\"showlegend\":true,\"x\":[-0.26886534690856934,9.888312339782715],\"xaxis\":\"x\",\"y\":[-3.4644365310668945,-7.681637763977051],\"yaxis\":\"y\",\"type\":\"scattergl\"},{\"hovertemplate\":\"label=Hand gestures+Holding arms\\u003cbr\\u003esample=resample\\u003cbr\\u003eemb1=%{x}\\u003cbr\\u003eemb2=%{y}\\u003cextra\\u003e\\u003c\\u002fextra\\u003e\",\"legendgroup\":\"Hand gestures+Holding arms\",\"marker\":{\"color\":\"#636efa\",\"symbol\":\"circle\"},\"mode\":\"markers\",\"name\":\"Hand gestures+Holding arms\",\"showlegend\":false,\"x\":[9.888312339782715,-0.26886534690856934],\"xaxis\":\"x2\",\"y\":[-7.681637763977051,-3.4644365310668945],\"yaxis\":\"y2\",\"type\":\"scattergl\"},{\"hovertemplate\":\"label=Hand gestures+Moving legs\\u003cbr\\u003esample=all\\u003cbr\\u003eemb1=%{x}\\u003cbr\\u003eemb2=%{y}\\u003cextra\\u003e\\u003c\\u002fextra\\u003e\",\"legendgroup\":\"Hand gestures+Moving legs\",\"marker\":{\"color\":\"#EF553B\",\"symbol\":\"circle\"},\"mode\":\"markers\",\"name\":\"Hand gestures+Moving legs\",\"showlegend\":true,\"x\":[0.1262916922569275,10.994720458984375],\"xaxis\":\"x\",\"y\":[-3.175576686859131,17.855939865112305],\"yaxis\":\"y\",\"type\":\"scattergl\"},{\"hovertemplate\":\"label=Hand gestures+Moving legs\\u003cbr\\u003esample=resample\\u003cbr\\u003eemb1=%{x}\\u003cbr\\u003eemb2=%{y}\\u003cextra\\u003e\\u003c\\u002fextra\\u003e\",\"legendgroup\":\"Hand gestures+Moving legs\",\"marker\":{\"color\":\"#EF553B\",\"symbol\":\"circle\"},\"mode\":\"markers\",\"name\":\"Hand gestures+Moving legs\",\"showlegend\":false,\"x\":[0.1262916922569275,10.994720458984375],\"xaxis\":\"x2\",\"y\":[-3.175576686859131,17.855939865112305],\"yaxis\":\"y2\",\"type\":\"scattergl\"},{\"hovertemplate\":\"label=Hand gestures+Pulling collar\\u003cbr\\u003esample=all\\u003cbr\\u003eemb1=%{x}\\u003cbr\\u003eemb2=%{y}\\u003cextra\\u003e\\u003c\\u002fextra\\u003e\",\"legendgroup\":\"Hand gestures+Pulling collar\",\"marker\":{\"color\":\"#00cc96\",\"symbol\":\"circle\"},\"mode\":\"markers\",\"name\":\"Hand gestures+Pulling collar\",\"showlegend\":true,\"x\":[12.716046333312988,-1.9745135307312012],\"xaxis\":\"x\",\"y\":[-3.3135218620300293,14.531188011169434],\"yaxis\":\"y\",\"type\":\"scattergl\"},{\"hovertemplate\":\"label=Hand gestures+Pulling collar\\u003cbr\\u003esample=resample\\u003cbr\\u003eemb1=%{x}\\u003cbr\\u003eemb2=%{y}\\u003cextra\\u003e\\u003c\\u002fextra\\u003e\",\"legendgroup\":\"Hand gestures+Pulling collar\",\"marker\":{\"color\":\"#00cc96\",\"symbol\":\"circle\"},\"mode\":\"markers\",\"name\":\"Hand gestures+Pulling collar\",\"showlegend\":false,\"x\":[12.716046333312988,-1.9745135307312012],\"xaxis\":\"x2\",\"y\":[-3.3135218620300293,14.531188011169434],\"yaxis\":\"y2\",\"type\":\"scattergl\"},{\"hovertemplate\":\"label=Hand gestures+Rubbing face\\u003cbr\\u003esample=all\\u003cbr\\u003eemb1=%{x}\\u003cbr\\u003eemb2=%{y}\\u003cextra\\u003e\\u003c\\u002fextra\\u003e\",\"legendgroup\":\"Hand gestures+Rubbing face\",\"marker\":{\"color\":\"#ab63fa\",\"symbol\":\"circle\"},\"mode\":\"markers\",\"name\":\"Hand gestures+Rubbing face\",\"showlegend\":true,\"x\":[-1.964759349822998],\"xaxis\":\"x\",\"y\":[14.521373748779297],\"yaxis\":\"y\",\"type\":\"scattergl\"},{\"hovertemplate\":\"label=Hand gestures+Rubbing face\\u003cbr\\u003esample=resample\\u003cbr\\u003eemb1=%{x}\\u003cbr\\u003eemb2=%{y}\\u003cextra\\u003e\\u003c\\u002fextra\\u003e\",\"legendgroup\":\"Hand gestures+Rubbing face\",\"marker\":{\"color\":\"#ab63fa\",\"symbol\":\"circle\"},\"mode\":\"markers\",\"name\":\"Hand gestures+Rubbing face\",\"showlegend\":false,\"x\":[-1.964759349822998],\"xaxis\":\"x2\",\"y\":[14.521373748779297],\"yaxis\":\"y2\",\"type\":\"scattergl\"},{\"hovertemplate\":\"label=Hand gestures+Rubbing hands\\u003cbr\\u003esample=all\\u003cbr\\u003eemb1=%{x}\\u003cbr\\u003eemb2=%{y}\\u003cextra\\u003e\\u003c\\u002fextra\\u003e\",\"legendgroup\":\"Hand gestures+Rubbing hands\",\"marker\":{\"color\":\"#FFA15A\",\"symbol\":\"circle\"},\"mode\":\"markers\",\"name\":\"Hand gestures+Rubbing hands\",\"showlegend\":true,\"x\":[-1.1174156665802002,-8.857961654663086],\"xaxis\":\"x\",\"y\":[-3.698563814163208,15.845124244689941],\"yaxis\":\"y\",\"type\":\"scattergl\"},{\"hovertemplate\":\"label=Hand gestures+Rubbing hands\\u003cbr\\u003esample=resample\\u003cbr\\u003eemb1=%{x}\\u003cbr\\u003eemb2=%{y}\\u003cextra\\u003e\\u003c\\u002fextra\\u003e\",\"legendgroup\":\"Hand gestures+Rubbing hands\",\"marker\":{\"color\":\"#FFA15A\",\"symbol\":\"circle\"},\"mode\":\"markers\",\"name\":\"Hand gestures+Rubbing hands\",\"showlegend\":false,\"x\":[-8.857961654663086,-1.1174156665802002],\"xaxis\":\"x2\",\"y\":[15.845124244689941,-3.698563814163208],\"yaxis\":\"y2\",\"type\":\"scattergl\"},{\"hovertemplate\":\"label=Hand gestures+Scratching body\\u003cbr\\u003esample=all\\u003cbr\\u003eemb1=%{x}\\u003cbr\\u003eemb2=%{y}\\u003cextra\\u003e\\u003c\\u002fextra\\u003e\",\"legendgroup\":\"Hand gestures+Scratching body\",\"marker\":{\"color\":\"#19d3f3\",\"symbol\":\"circle\"},\"mode\":\"markers\",\"name\":\"Hand gestures+Scratching body\",\"showlegend\":true,\"x\":[-5.235498905181885],\"xaxis\":\"x\",\"y\":[5.032278537750244],\"yaxis\":\"y\",\"type\":\"scattergl\"},{\"hovertemplate\":\"label=Hand gestures+Scratching body\\u003cbr\\u003esample=resample\\u003cbr\\u003eemb1=%{x}\\u003cbr\\u003eemb2=%{y}\\u003cextra\\u003e\\u003c\\u002fextra\\u003e\",\"legendgroup\":\"Hand gestures+Scratching body\",\"marker\":{\"color\":\"#19d3f3\",\"symbol\":\"circle\"},\"mode\":\"markers\",\"name\":\"Hand gestures+Scratching body\",\"showlegend\":false,\"x\":[-5.235498905181885],\"xaxis\":\"x2\",\"y\":[5.032278537750244],\"yaxis\":\"y2\",\"type\":\"scattergl\"},{\"hovertemplate\":\"label=Hand gestures+Touching face\\u003cbr\\u003esample=all\\u003cbr\\u003eemb1=%{x}\\u003cbr\\u003eemb2=%{y}\\u003cextra\\u003e\\u003c\\u002fextra\\u003e\",\"legendgroup\":\"Hand gestures+Touching face\",\"marker\":{\"color\":\"#FF6692\",\"symbol\":\"circle\"},\"mode\":\"markers\",\"name\":\"Hand gestures+Touching face\",\"showlegend\":true,\"x\":[10.7522611618042,-1.9603230953216553,10.752253532409668,-1.9604445695877075],\"xaxis\":\"x\",\"y\":[18.099491119384766,14.516889572143555,18.099510192871094,14.517202377319336],\"yaxis\":\"y\",\"type\":\"scattergl\"},{\"hovertemplate\":\"label=Hand gestures+Touching face\\u003cbr\\u003esample=resample\\u003cbr\\u003eemb1=%{x}\\u003cbr\\u003eemb2=%{y}\\u003cextra\\u003e\\u003c\\u002fextra\\u003e\",\"legendgroup\":\"Hand gestures+Touching face\",\"marker\":{\"color\":\"#FF6692\",\"symbol\":\"circle\"},\"mode\":\"markers\",\"name\":\"Hand gestures+Touching face\",\"showlegend\":false,\"x\":[-1.9604445695877075,10.7522611618042],\"xaxis\":\"x2\",\"y\":[14.517202377319336,18.099491119384766],\"yaxis\":\"y2\",\"type\":\"scattergl\"},{\"hovertemplate\":\"label=Holding arms\\u003cbr\\u003esample=all\\u003cbr\\u003eemb1=%{x}\\u003cbr\\u003eemb2=%{y}\\u003cextra\\u003e\\u003c\\u002fextra\\u003e\",\"legendgroup\":\"Holding arms\",\"marker\":{\"color\":\"#B6E880\",\"symbol\":\"circle\"},\"mode\":\"markers\",\"name\":\"Holding arms\",\"showlegend\":true,\"x\":[-6.4126176834106445,-6.378854751586914,1.5041640996932983,8.737703323364258,-10.102324485778809,9.200207710266113,9.265375137329102,8.951330184936523,-10.391326904296875,9.20151138305664,9.210546493530273,-6.48825216293335,9.203714370727539,8.73319149017334,9.26441478729248,9.267419815063477,9.881149291992188,-6.4057769775390625,1.4726561307907104,-10.112812995910645,-4.868725776672363,9.199661254882812,1.4298759698867798,-10.388856887817383,-10.392001152038574,1.3821836709976196,-10.37932014465332,1.5275882482528687,9.886329650878906,1.5093976259231567,9.26861572265625,1.5276126861572266,-10.389159202575684,-4.865533351898193,-8.191926956176758,1.5081977844238281,-10.10093879699707,-6.3950581550598145,1.3508085012435913,1.333078384399414,-4.875223159790039,1.525372862815857,-10.404879570007324,-10.392145156860352,-6.361138343811035,-10.397700309753418,-10.386338233947754,-10.379273414611816,8.733515739440918,-5.644825458526611,-10.409112930297852,-10.389164924621582,-10.11916732788086,8.951289176940918,-10.394258499145508,1.470263123512268,9.88658332824707,-10.11612606048584,9.226405143737793,1.3898341655731201,-10.399802207946777,-10.349403381347656,8.951325416564941,-4.868828296661377,-10.369446754455566,-10.389055252075195,-10.142623901367188],\"xaxis\":\"x\",\"y\":[15.426907539367676,15.460733413696289,-11.412635803222656,9.899065017700195,-8.479323387145996,-6.703968524932861,-6.629856586456299,-9.501323699951172,-8.050848960876465,-6.715689182281494,-6.734068870544434,15.270898818969727,-6.720352649688721,9.901395797729492,-6.6298828125,-6.627644062042236,-7.670067310333252,15.424891471862793,-11.44118881225586,-8.464722633361816,4.461733341217041,-6.707040786743164,-11.478087425231934,-7.770816802978516,-8.050227165222168,-11.517294883728027,-8.058296203613281,-11.396718978881836,-7.678045272827148,-11.411554336547852,-6.621675968170166,-11.39687442779541,-7.76985502243042,4.457943439483643,-9.890860557556152,-11.414555549621582,-8.481374740600586,15.443572998046875,-11.541701316833496,-11.557587623596191,4.471993923187256,-11.398717880249023,-8.016475677490234,-8.051861763000488,15.479825019836426,-8.032639503479004,-8.060648918151855,-8.057903289794922,9.90066909790039,-2.332712173461914,-7.992496967315674,-7.776265621185303,-8.456999778747559,-9.50139331817627,-8.036133766174316,-11.443699836730957,-7.678035736083984,-8.460636138916016,-6.750812530517578,-11.512588500976562,-8.029003143310547,-8.104392051696777,-9.501412391662598,4.461604595184326,-8.090106964111328,-7.7735371589660645,-8.425233840942383],\"yaxis\":\"y\",\"type\":\"scattergl\"},{\"hovertemplate\":\"label=Holding arms\\u003cbr\\u003esample=resample\\u003cbr\\u003eemb1=%{x}\\u003cbr\\u003eemb2=%{y}\\u003cextra\\u003e\\u003c\\u002fextra\\u003e\",\"legendgroup\":\"Holding arms\",\"marker\":{\"color\":\"#B6E880\",\"symbol\":\"circle\"},\"mode\":\"markers\",\"name\":\"Holding arms\",\"showlegend\":false,\"x\":[-6.48825216293335],\"xaxis\":\"x2\",\"y\":[15.270898818969727],\"yaxis\":\"y2\",\"type\":\"scattergl\"},{\"hovertemplate\":\"label=Holding arms+Moving legs\\u003cbr\\u003esample=all\\u003cbr\\u003eemb1=%{x}\\u003cbr\\u003eemb2=%{y}\\u003cextra\\u003e\\u003c\\u002fextra\\u003e\",\"legendgroup\":\"Holding arms+Moving legs\",\"marker\":{\"color\":\"#FF97FF\",\"symbol\":\"circle\"},\"mode\":\"markers\",\"name\":\"Holding arms+Moving legs\",\"showlegend\":true,\"x\":[-8.977433204650879,-7.098668098449707,8.951363563537598,-7.100704193115234,1.335160732269287],\"xaxis\":\"x\",\"y\":[3.471585750579834,-4.155452251434326,-9.501838684082031,-4.155827522277832,-11.55048656463623],\"yaxis\":\"y\",\"type\":\"scattergl\"},{\"hovertemplate\":\"label=Holding arms+Moving legs\\u003cbr\\u003esample=resample\\u003cbr\\u003eemb1=%{x}\\u003cbr\\u003eemb2=%{y}\\u003cextra\\u003e\\u003c\\u002fextra\\u003e\",\"legendgroup\":\"Holding arms+Moving legs\",\"marker\":{\"color\":\"#FF97FF\",\"symbol\":\"circle\"},\"mode\":\"markers\",\"name\":\"Holding arms+Moving legs\",\"showlegend\":false,\"x\":[-7.100704193115234],\"xaxis\":\"x2\",\"y\":[-4.155827522277832],\"yaxis\":\"y2\",\"type\":\"scattergl\"},{\"hovertemplate\":\"label=Holding arms+Rubbing face\\u003cbr\\u003esample=all\\u003cbr\\u003eemb1=%{x}\\u003cbr\\u003eemb2=%{y}\\u003cextra\\u003e\\u003c\\u002fextra\\u003e\",\"legendgroup\":\"Holding arms+Rubbing face\",\"marker\":{\"color\":\"#FECB52\",\"symbol\":\"circle\"},\"mode\":\"markers\",\"name\":\"Holding arms+Rubbing face\",\"showlegend\":true,\"x\":[1.302109718322754],\"xaxis\":\"x\",\"y\":[-11.568792343139648],\"yaxis\":\"y\",\"type\":\"scattergl\"},{\"hovertemplate\":\"label=Holding arms+Rubbing face\\u003cbr\\u003esample=resample\\u003cbr\\u003eemb1=%{x}\\u003cbr\\u003eemb2=%{y}\\u003cextra\\u003e\\u003c\\u002fextra\\u003e\",\"legendgroup\":\"Holding arms+Rubbing face\",\"marker\":{\"color\":\"#FECB52\",\"symbol\":\"circle\"},\"mode\":\"markers\",\"name\":\"Holding arms+Rubbing face\",\"showlegend\":false,\"x\":[1.302109718322754],\"xaxis\":\"x2\",\"y\":[-11.568792343139648],\"yaxis\":\"y2\",\"type\":\"scattergl\"},{\"hovertemplate\":\"label=Holding arms+Rubbing hands\\u003cbr\\u003esample=all\\u003cbr\\u003eemb1=%{x}\\u003cbr\\u003eemb2=%{y}\\u003cextra\\u003e\\u003c\\u002fextra\\u003e\",\"legendgroup\":\"Holding arms+Rubbing hands\",\"marker\":{\"color\":\"#636efa\",\"symbol\":\"circle\"},\"mode\":\"markers\",\"name\":\"Holding arms+Rubbing hands\",\"showlegend\":true,\"x\":[-4.386475563049316,1.0457696914672852,9.207554817199707],\"xaxis\":\"x\",\"y\":[-3.1160597801208496,-11.574039459228516,-6.6953864097595215],\"yaxis\":\"y\",\"type\":\"scattergl\"},{\"hovertemplate\":\"label=Holding arms+Rubbing hands\\u003cbr\\u003esample=resample\\u003cbr\\u003eemb1=%{x}\\u003cbr\\u003eemb2=%{y}\\u003cextra\\u003e\\u003c\\u002fextra\\u003e\",\"legendgroup\":\"Holding arms+Rubbing hands\",\"marker\":{\"color\":\"#636efa\",\"symbol\":\"circle\"},\"mode\":\"markers\",\"name\":\"Holding arms+Rubbing hands\",\"showlegend\":false,\"x\":[1.0457696914672852,-4.386475563049316],\"xaxis\":\"x2\",\"y\":[-11.574039459228516,-3.1160597801208496],\"yaxis\":\"y2\",\"type\":\"scattergl\"},{\"hovertemplate\":\"label=Holding arms+Scratching body\\u003cbr\\u003esample=all\\u003cbr\\u003eemb1=%{x}\\u003cbr\\u003eemb2=%{y}\\u003cextra\\u003e\\u003c\\u002fextra\\u003e\",\"legendgroup\":\"Holding arms+Scratching body\",\"marker\":{\"color\":\"#EF553B\",\"symbol\":\"circle\"},\"mode\":\"markers\",\"name\":\"Holding arms+Scratching body\",\"showlegend\":true,\"x\":[-5.222838401794434],\"xaxis\":\"x\",\"y\":[5.029170989990234],\"yaxis\":\"y\",\"type\":\"scattergl\"},{\"hovertemplate\":\"label=Holding arms+Scratching body\\u003cbr\\u003esample=resample\\u003cbr\\u003eemb1=%{x}\\u003cbr\\u003eemb2=%{y}\\u003cextra\\u003e\\u003c\\u002fextra\\u003e\",\"legendgroup\":\"Holding arms+Scratching body\",\"marker\":{\"color\":\"#EF553B\",\"symbol\":\"circle\"},\"mode\":\"markers\",\"name\":\"Holding arms+Scratching body\",\"showlegend\":false,\"x\":[-5.222838401794434],\"xaxis\":\"x2\",\"y\":[5.029170989990234],\"yaxis\":\"y2\",\"type\":\"scattergl\"},{\"hovertemplate\":\"label=Holding arms+Touching face\\u003cbr\\u003esample=all\\u003cbr\\u003eemb1=%{x}\\u003cbr\\u003eemb2=%{y}\\u003cextra\\u003e\\u003c\\u002fextra\\u003e\",\"legendgroup\":\"Holding arms+Touching face\",\"marker\":{\"color\":\"#00cc96\",\"symbol\":\"circle\"},\"mode\":\"markers\",\"name\":\"Holding arms+Touching face\",\"showlegend\":true,\"x\":[-13.428535461425781,-13.428315162658691,-13.428484916687012,-13.428494453430176,3.2828316688537598],\"xaxis\":\"x\",\"y\":[4.582661151885986,4.582845211029053,4.5824408531188965,4.5823588371276855,-5.864101886749268],\"yaxis\":\"y\",\"type\":\"scattergl\"},{\"hovertemplate\":\"label=Holding arms+Touching face\\u003cbr\\u003esample=resample\\u003cbr\\u003eemb1=%{x}\\u003cbr\\u003eemb2=%{y}\\u003cextra\\u003e\\u003c\\u002fextra\\u003e\",\"legendgroup\":\"Holding arms+Touching face\",\"marker\":{\"color\":\"#00cc96\",\"symbol\":\"circle\"},\"mode\":\"markers\",\"name\":\"Holding arms+Touching face\",\"showlegend\":false,\"x\":[-13.428535461425781],\"xaxis\":\"x2\",\"y\":[4.582661151885986],\"yaxis\":\"y2\",\"type\":\"scattergl\"},{\"hovertemplate\":\"label=Moving legs\\u003cbr\\u003esample=all\\u003cbr\\u003eemb1=%{x}\\u003cbr\\u003eemb2=%{y}\\u003cextra\\u003e\\u003c\\u002fextra\\u003e\",\"legendgroup\":\"Moving legs\",\"marker\":{\"color\":\"#ab63fa\",\"symbol\":\"circle\"},\"mode\":\"markers\",\"name\":\"Moving legs\",\"showlegend\":true,\"x\":[-2.8180322647094727,-17.17506217956543,4.865182399749756,-0.26169344782829285,-17.201745986938477,1.0672515630722046,-3.10056209564209,-2.4924213886260986,-2.516077756881714,-2.484139919281006,-2.4985196590423584,4.829321384429932,-2.457902669906616,8.42314624786377,-2.051703691482544,0.8224042057991028,-2.035400152206421,-2.0363926887512207,-2.532494306564331,-0.27198025584220886,0.947566568851471,11.068578720092773,1.246640920639038,0.9778711199760437,0.512580156326294,-0.29062318801879883,-2.528399705886841,-2.5420663356781006,4.803118705749512,7.424628734588623,-8.848672866821289,-0.3102530837059021,-10.424578666687012,1.2287824153900146,-17.054054260253906,-7.558664321899414,-0.3971642553806305,11.065787315368652,-0.27473801374435425,-0.2929142713546753,-5.014941215515137,0.673760175704956,-16.72296905517578,-5.452576160430908,-5.015177249908447,-2.477357864379883,4.183432102203369,0.941118597984314,3.401548385620117,1.1823323965072632,1.2216628789901733,4.828514099121094,7.5652031898498535,0.7570198178291321,1.2101110219955444,-0.09962146729230881,1.1709377765655518,0.5093083381652832,-18.541322708129883,0.55512535572052,1.5458104610443115,2.3017778396606445,-18.55140495300293,11.0015230178833,-1.128985047340393,-17.9666748046875,0.6182017922401428,0.6016052961349487,1.0676679611206055,3.3324081897735596,1.1249141693115234,2.9836878776550293,11.070947647094727,10.886738777160645,0.588821291923523,1.214410424232483,0.9284000992774963,0.7270603775978088,3.0060477256774902,1.2134473323822021,-2.8049917221069336,3.47090482711792,-18.552900314331055,1.1837211847305298,-9.990791320800781,-10.591483116149902,-10.143568992614746,4.839772701263428,-0.011244616471230984,2.979320764541626,-5.636879920959473,2.9797909259796143,1.1861621141433716,0.307329386472702,-17.099538803100586,-17.897716522216797,-18.54865074157715,1.4168243408203125,0.5979171991348267,11.059234619140625,-0.7917541861534119,-0.16816066205501556,-18.070316314697266,-5.569769382476807,2.29245662689209,-8.61693000793457,0.743362545967102,0.5179719924926758,2.24592924118042,1.21642005443573,0.7559912204742432,-1.1475038528442383,1.360378384590149,1.544740915298462,1.2432591915130615,1.0331594944000244,-17.13995361328125,2.8937952518463135,-0.01941436156630516,-5.58738374710083,-8.57602596282959,13.921403884887695,-9.4254150390625,-9.848504066467285,3.373513698577881,0.5779346227645874,-9.99710464477539,4.204923629760742,-1.1838217973709106,-5.100365161895752,-2.8019556999206543,2.941765546798706,-10.368517875671387,4.181699752807617,-3.075770139694214,-8.177899360656738,1.1431127786636353,-16.73295021057129,-0.6614415645599365,-17.54521369934082,2.9321775436401367,-9.6500244140625,1.5417340993881226,1.5498069524765015,-5.010631561279297,-10.384049415588379,4.8267998695373535,0.9161345958709717,1.2871315479278564,1.1928465366363525,-18.547901153564453,-1.119995355606079,3.9644081592559814,0.6089861392974854,-10.592103958129883,-0.6323807835578918,-17.005189895629883,-7.687904357910156,-1.3333908319473267,0.5548810958862305,11.072906494140625,-0.3025870621204376,-18.044513702392578,-16.739299774169922,-17.951669692993164,1.1758806705474854,-1.9555000066757202,4.15557336807251,-6.079029083251953,-7.839268684387207,-5.794672012329102,-7.781632900238037,0.5990223288536072,3.62876296043396,-10.568346977233887,3.11922287940979,3.6863129138946533,-8.556653022766113,-5.513916015625,4.038860321044922,2.896275281906128,-8.863418579101562,-5.427805423736572,11.051776885986328,-10.421577453613281,3.921652317047119,0.5345610976219177,-5.5420966148376465,-10.41213321685791,7.700164794921875,-5.579935550689697,7.69751501083374,0.9095994830131531,3.5900115966796875,3.74515962600708,-9.605344772338867,3.6741480827331543,1.217276930809021,-17.25987434387207,1.5383281707763672,-7.646210670471191,-16.731008529663086,-5.003152847290039,0.5151084661483765,-5.105381011962891,1.1382356882095337,4.293410778045654,3.5364089012145996,4.110539436340332,-1.7615630626678467,-5.687743663787842,-1.7522917985916138,4.84633207321167,0.5942533016204834,-17.050203323364258,-17.330018997192383,-17.129968643188477,-5.3389763832092285,-17.010908126831055,-17.047739028930664,-17.032691955566406,3.702662706375122,-9.633678436279297,3.380359411239624,3.7507903575897217,-17.155723571777344,-3.054910659790039,4.316766262054443,-17.39850425720215,-0.2998422086238861,3.638352870941162,11.068595886230469,-17.91826629638672,0.6606653928756714,-17.428756713867188,3.7503864765167236,-1.1556729078292847,-16.75472640991211,0.4029308259487152,-17.959041595458984,4.890619277954102,-5.604697227478027,1.5815860033035278,3.8864078521728516,2.9814774990081787,-0.08131144940853119,-10.224212646484375,-0.3142291009426117,-0.29058822989463806,-0.5747227072715759,-2.631321668624878,0.9453685879707336,-0.25232750177383423,0.7794049978256226,0.5287972688674927,-4.99315071105957,-0.023627402260899544,-0.30808717012405396,-5.481247425079346,-16.79468536376953,1.193485975265503,-17.820573806762695,3.9094908237457275,3.197638988494873,-16.763410568237305,-10.059874534606934,0.5159305930137634,-0.30355364084243774,-10.193276405334473,-5.66365385055542,-5.601501941680908,1.1575602293014526,2.29144549369812,-17.971363067626953,-1.1773879528045654,-7.643942832946777,0.9768873453140259,-3.1096627712249756,-0.15794961154460907,1.2551709413528442,2.9313011169433594,0.9323508143424988,1.5191562175750732,-10.04637622833252,4.308035373687744,3.293149948120117,7.64398193359375,7.700236797332764,2.923239231109619,-18.277435302734375,7.707653522491455,4.18341064453125,7.632267475128174,-18.434772491455078,7.627134799957275,4.023587226867676,-18.443803787231445,7.629181385040283,-0.3250717520713806,7.713398456573486,7.636207103729248,7.616791725158691,-10.602322578430176,-18.436763763427734,-3.5715227127075195,11.042006492614746,-18.439090728759766,1.1822327375411987,-9.883586883544922,-9.613286018371582,4.181917190551758,3.640498399734497,-5.016706466674805,-5.101817607879639,3.8248846530914307,-10.090649604797363,-17.942983627319336,7.721755027770996,-17.955272674560547,-9.781410217285156,-17.917644500732422,3.9730000495910645,7.647552490234375,-5.660760402679443,-5.244520664215088,-5.558207988739014,-10.263686180114746,-17.90501594543457,-8.76061725616455,7.697103023529053,3.1522696018218994,-5.346643447875977,7.6293463706970215,13.921548843383789,3.250391721725464,-9.632622718811035,-16.781314849853516,-16.995647430419922,-17.007709503173828,-1.549171805381775,-17.416162490844727,-17.054929733276367,-16.752294540405273,4.815626621246338,4.08641242980957,-5.636620998382568,0.6477013230323792,4.860397815704346,-8.642021179199219,4.187182426452637,-10.590386390686035,-5.095524787902832,-10.048386573791504,-5.13051700592041,-17.031661987304688,-5.346943378448486,-17.20546531677246,-9.621833801269531,-17.447391510009766,-10.179328918457031,2.947786569595337,3.9918341636657715,-18.43025016784668,7.6275482177734375,3.704232692718506,3.7030105590820312,7.632458209991455,-18.43842315673828,3.6394338607788086,-16.72897720336914,7.718846321105957,7.6291704177856445,13.921487808227539,-16.888565063476562,-5.4645161628723145,3.650390863418579,4.02172327041626,4.069325923919678,7.6484198570251465,1.1792421340942383,-8.828723907470703,-18.552597045898438,-6.931934356689453,-6.117259979248047,-0.3004962205886841,-6.131926536560059,0.09589473158121109,-2.8396801948547363,-6.469239234924316,-6.149525165557861,-6.22207498550415,7.397417068481445,0.6167373061180115,0.5237078666687012,-7.178092002868652,-5.1019368171691895,4.416515350341797,-5.996009826660156,-2.4775619506835938,0.6165285706520081,4.83856725692749,-7.57732629776001,-0.47526246309280396,-6.183392524719238,-6.754526138305664,-6.073461532592773,-6.679248332977295,3.3185019493103027,-4.964219570159912,3.31744647026062,1.1795799732208252,0.9438108205795288,-5.7076544761657715,-5.934497356414795,1.549290657043457,-6.763608455657959,4.008218765258789,3.481340169906616,3.7292778491973877,-5.548433780670166,4.91511344909668,-5.5042901039123535,3.4820570945739746,-5.904168128967285,-5.635553359985352,-3.0814971923828125,-6.7841596603393555,0.27987825870513916,-1.0083508491516113,-3.118665933609009,1.2126778364181519,2.2738776206970215,-1.013264775276184,0.4870546758174896,4.824620246887207,4.844884872436523,11.074055671691895,2.2632482051849365,-8.204142570495605,-2.765514850616455,-2.752628803253174,-3.1428382396698,-6.073714733123779,2.2590854167938232,-3.0769402980804443,1.1405165195465088,1.2132866382598877,-9.431415557861328,3.3184986114501953,3.318593978881836,6.762787818908691,-1.0076677799224854,-2.4294278621673584,-1.0112627744674683,0.6209786534309387,-2.507290840148926,-1.0085177421569824,-5.686359405517578,-2.033719539642334,-2.474874496459961,-2.0770819187164307,-2.0886647701263428,-1.8894470930099487,1.125462293624878,-10.4108304977417,1.5519670248031616,-5.596132755279541,-10.43521785736084,-2.5204036235809326,2.188033103942871,-5.413846015930176,0.1282213181257248,-2.071439266204834,-9.614825248718262,0.6446352005004883,-10.056482315063477,-6.426441192626953,6.761115074157715,7.227680683135986,-8.633898735046387,-0.9078433513641357,-0.46394845843315125,4.015758037567139,-10.450465202331543,-6.007264137268066,-6.6804609298706055,0.5233286023139954,-5.590511322021484,3.9765048027038574,-2.996147871017456,-2.525029420852661,-2.49963116645813,-2.170555830001831,4.8843536376953125,4.36130428314209,7.635036468505859,6.922782897949219,-10.163314819335938,-7.450099945068359,6.769928932189941,6.997846603393555,3.9980576038360596,-10.428186416625977,-10.425129890441895,-7.644777774810791,7.613111972808838,-10.44353199005127,-5.598472595214844,1.1965123414993286,-10.4041166305542,-10.211159706115723,-8.923041343688965,3.31904673576355,7.482663154602051,8.033208847045898,-10.288642883300781,-5.213237762451172,-5.529524326324463,-5.4731526374816895,-5.537772178649902,-8.565561294555664,-6.2784223556518555,3.593258857727051,-1.1282706260681152,-6.1216864585876465,-10.601487159729004,7.0488786697387695,-1.1321508884429932,6.992489337921143,-8.901371955871582,11.063082695007324,-8.861335754394531,4.07151460647583,-7.756618499755859,3.5534801483154297,-0.2981716990470886,4.042121887207031,-5.485127925872803,6.95845890045166,-5.498730182647705,-9.95993709564209,-10.57311725616455,3.5144448280334473,7.9996018409729,-6.187673091888428,9.554153442382812,-10.36481761932373,6.975654602050781,11.056876182556152,-5.192990779876709,3.5970659255981445,3.5495359897613525,11.047036170959473,-5.448476314544678,-8.842336654663086,3.514612913131714,3.5311291217803955,0.6194706559181213,-5.573665142059326,-5.391488552093506,0.6153119206428528,-8.91751766204834,3.8158621788024902,2.304598331451416,-5.615793704986572,-5.187749862670898,-7.48915958404541,3.85542368888855,-6.225117206573486,-8.874347686767578,-8.762524604797363,-8.925411224365234,3.8594608306884766,3.62908935546875,2.3161580562591553,-8.837727546691895,3.828467845916748,0.25170835852622986,3.6724281311035156,-5.456083297729492,3.518620014190674,4.0581135749816895,4.0184221267700195,-18.432159423828125,-8.745119094848633,-8.870923042297363,0.30260542035102844,3.9553165435791016,-8.912679672241211,4.050616264343262,3.637044668197632,-8.82205867767334,-6.214174747467041,4.0109124183654785,-5.551789283752441,-5.533961772918701,3.4946300983428955,-5.534734725952148,-7.622035980224609,3.8517069816589355,-10.399868965148926,-5.34202241897583,-5.451019763946533,-5.404054164886475,-7.5722975730896,-2.3914880752563477,-2.4543075561523438,-5.488359451293945,3.5879454612731934,-3.089388132095337,3.848412036895752,-5.457703590393066,-7.172049522399902,-0.302481085062027,4.058639049530029,3.9960591793060303,-5.569500923156738,3.4838192462921143,-5.586977481842041,4.026040077209473,1.0971744060516357,-2.750967502593994,6.768904209136963,6.998780727386475,7.049318790435791,7.940537929534912,6.900074005126953,4.793323040008545,-5.447488307952881,-5.526879787445068,-5.491247653961182,-5.194840908050537,-6.139230728149414,4.036886215209961,-5.582993030548096,-8.78058910369873,-5.453372478485107,-6.170548439025879,-8.873836517333984,-8.845876693725586,-5.598692893981934,-5.568330764770508,3.9829111099243164,-0.15857572853565216,3.504058837890625,-6.437762260437012,-0.40445810556411743,-5.45484733581543,-5.5453009605407715,-0.0008593216771259904,7.957352638244629,-0.32117709517478943,-5.6143479347229,4.415338039398193,-6.083224296569824,7.4178338050842285,-7.645636081695557,-5.2879438400268555,-7.177731037139893,-6.9620561599731445,-5.45275354385376,-5.3594231605529785,-7.178581714630127,-7.117941856384277,2.261121988296509,-6.085612773895264,-3.0607869625091553,-2.666430711746216,-6.0113348960876465,10.843406677246094,-5.8889689445495605,4.834395885467529,-5.964380264282227,-3.087733268737793,-5.9370622634887695,-5.967576026916504,-7.183681011199951,-7.162812232971191,-7.19850492477417,-6.1829023361206055,-6.737918376922607,-7.193812370300293,-5.957919120788574,3.73818039894104,-6.764736652374268,-5.121808052062988,-2.7587785720825195,-7.652163982391357,-6.386136054992676,-1.0249556303024292,1.1866661310195923,1.2044376134872437,1.1285542249679565,-1.589460849761963,-0.2933626174926758,-1.1516848802566528,7.327365875244141,-0.4970596730709076,-2.5164201259613037,-1.3708089590072632,-1.074027419090271,-1.0252190828323364,0.5930134057998657,-1.7962168455123901,-1.622111201286316,-1.9439107179641724,-1.42710542678833,-1.5197736024856567,-0.8062806129455566,-5.473034858703613,-8.863870620727539,3.5181727409362793,-14.138526916503906,3.9479408264160156,-6.091662406921387,-6.110384941101074,-3.088999032974243,-7.256436824798584,-6.085034370422363,-1.7743984460830688,-7.659657955169678,-5.663120746612549,-6.4647216796875,-8.571150779724121,-8.555829048156738,-8.511759757995605,-6.461808204650879,3.753265619277954,-8.45620346069336,-8.483357429504395,-8.464411735534668,-5.418818473815918,-8.861804962158203,-8.513581275939941,-5.494126319885254,-7.722421169281006,-7.701501846313477,-8.462715148925781,-0.2652733027935028,-10.081071853637695,-10.207375526428223,11.063833236694336,-8.606884002685547,-8.578350067138672,10.97363567352295,-0.8808915615081787,-8.761722564697266,-8.709637641906738,-8.475362777709961,-8.596513748168945,-8.62309741973877,-8.64958381652832,-9.540047645568848,-6.2297234535217285,-9.388426780700684,2.862558603286743,-3.0876386165618896,12.664163589477539,-9.119619369506836,-8.869702339172363,-9.421012878417969,-8.869085311889648,-9.425777435302734,-10.599669456481934,-14.139408111572266,-14.139262199401855,12.664043426513672,-8.466450691223145,-10.040136337280273,-1.657848596572876,-9.40135383605957,-10.048408508300781,12.664280891418457,-10.006131172180176,-5.453704357147217,-8.858733177185059,-9.992383003234863,-10.59882640838623,-9.424936294555664,7.692177772521973,3.4955861568450928,-7.766716957092285,11.076342582702637,-5.19061279296875,-8.561453819274902,-9.428223609924316,-1.5135027170181274,-1.536415696144104,-6.903350353240967,6.954405784606934,8.023191452026367,7.580681800842285,7.642067909240723,7.908663272857666,6.975600242614746,3.350773811340332,7.593181610107422,6.762875080108643,6.8007893562316895,6.761443614959717,-5.69618034362793,0.32869967818260193,-2.4897310733795166,-2.5369229316711426,-2.0428659915924072,8.024459838867188,-2.510392427444458,-2.505904197692871,-1.5696152448654175,-5.286584377288818,-5.580250263214111,-6.144099712371826,-2.5046701431274414,-0.6683714985847473,-2.4523379802703857,-2.535369873046875,1.3923546075820923,-11.982595443725586,-1.0170034170150757,6.9344801902771,1.3920872211456299,6.757884979248047,6.768141269683838,7.42295503616333,7.596344470977783,-6.266608715057373,10.785441398620605,7.423585891723633,7.533923625946045,7.307977199554443,-14.139352798461914,7.096827507019043,6.989956378936768,3.492703914642334,7.607509613037109,8.009429931640625,-14.139781951904297,10.76128101348877,-10.003244400024414,7.523611545562744,6.755229949951172,10.75165843963623,-14.13929271697998,-2.580946683883667,-2.5231215953826904,-5.478756904602051,0.32627198100090027,8.013367652893066,-1.008426308631897,-8.751516342163086,-1.498094081878662,3.4935572147369385,3.477781057357788,-0.6495233774185181,1.2348270416259766,-0.6942856907844543,-2.013643980026245,-5.492552757263184,-11.98188591003418,-1.270510196685791,0.9371739029884338,-1.1451548337936401,-8.785873413085938,-8.761539459228516,-1.9482097625732422,-5.9460272789001465,11.068619728088379,-8.761141777038574,7.229067802429199,-1.2730541229248047,-5.565381050109863,-1.5580425262451172,-0.3139978349208832,-5.593226432800293,-1.9334473609924316,-1.4575022459030151,-8.749326705932617,-1.8603627681732178,-5.9393630027771,-11.982691764831543,2.2213547229766846,-5.3983540534973145,6.895380973815918,7.620723247528076,-5.489510536193848,7.842924118041992,6.754151344299316,0.3576812446117401,6.915926456451416,3.930208206176758,-5.578489303588867,7.533619403839111,-0.3769340217113495,6.972314834594727,-1.4836387634277344,4.897523880004883,-2.5572104454040527,-0.7199132442474365,-6.440966606140137,-8.883935928344727,6.924134254455566,4.360665798187256,-5.924152851104736,3.5391135215759277,-2.264329671859741,-5.058001518249512],\"xaxis\":\"x\",\"y\":[1.603757381439209,1.9048867225646973,9.272001266479492,-8.65870189666748,1.9151558876037598,-8.530317306518555,1.529578685760498,-6.528283596038818,-6.51439905166626,-6.52156925201416,1.2571388483047485,9.234228134155273,-6.5435943603515625,7.493175029754639,-6.41245698928833,12.735143661499023,-6.495439529418945,-6.358061790466309,1.2853965759277344,-8.572362899780273,-8.516993522644043,9.245662689208984,13.7750825881958,13.423550605773926,-8.486688613891602,-8.75533390045166,-6.505115985870361,-6.478565216064453,9.208381652832031,13.039764404296875,2.143263101577759,-8.723742485046387,4.8285298347473145,13.792083740234375,1.9090871810913086,5.830938339233398,-7.620549201965332,17.784013748168945,-7.779902935028076,-8.679309844970703,8.049421310424805,12.367385864257812,1.1109402179718018,1.0942853689193726,8.058955192565918,-6.536884784698486,7.143540859222412,12.925840377807617,5.645671844482422,13.690418243408203,13.327981948852539,9.234795570373535,4.510613918304443,13.333707809448242,13.764116287231445,-8.395591735839844,-8.537248611450195,12.226173400878906,9.556483268737793,12.300946235656738,13.538537979125977,-8.932241439819336,9.558021545410156,17.849416732788086,-6.773251056671143,2.3255224227905273,12.36379337310791,12.245497703552246,-8.530218124389648,5.615190505981445,13.214916229248047,5.295532703399658,17.77854347229004,17.96599769592285,12.278505325317383,13.429733276367188,12.922379493713379,13.329294204711914,5.306405544281006,13.80958366394043,1.6186596155166626,5.667686939239502,9.55815315246582,13.726539611816406,5.935611724853516,6.02541446685791,6.226675510406494,9.245712280273438,-8.316633224487305,5.290897369384766,6.133913516998291,5.307060241699219,13.717567443847656,-8.485228538513184,1.8062068223953247,2.2935397624969482,9.557558059692383,13.50672435760498,12.331896781921387,17.79071807861328,-7.501830101013184,-8.002638816833496,2.347198009490967,1.2488229274749756,-8.934611320495605,5.5047430992126465,13.317782402038574,12.23496150970459,-8.960265159606934,13.730759620666504,13.335688591003418,-6.794698715209961,13.506388664245605,13.561598777770996,13.652881622314453,13.08955192565918,1.8839335441589355,5.525568962097168,-8.2991361618042,8.701464653015137,5.511488914489746,5.7788591384887695,5.294220447540283,5.488570213317871,5.631605625152588,12.24106216430664,6.321086883544922,6.0565924644470215,21.17131805419922,6.137228012084961,1.5926796197891235,5.47543478012085,6.062613487243652,7.141524791717529,1.5240260362625122,-9.876840591430664,13.25482177734375,1.121769905090332,-7.9180121421813965,2.1207778453826904,5.479991912841797,6.7837934494018555,13.553506851196289,13.545516014099121,8.043539047241211,4.873798847198486,9.23223876953125,12.889643669128418,13.727505683898926,13.655046463012695,9.557449340820312,-6.767853260040283,6.029855728149414,-8.500505447387695,6.023043632507324,-7.796778202056885,1.9126304388046265,5.770254135131836,-6.930070877075195,12.180334091186523,17.776945114135742,-7.7515177726745605,2.343703031539917,1.1331772804260254,2.3182780742645264,-8.507562637329102,-1.3207390308380127,7.09513521194458,2.6505112648010254,5.646968841552734,7.755695819854736,5.726492881774902,-8.49950885772705,5.694014072418213,6.028326034545898,5.612714767456055,5.710788249969482,5.536097526550293,2.1925742626190186,6.874205589294434,5.51617431640625,3.510575532913208,1.081777811050415,9.240198135375977,4.8275065422058105,6.723144054412842,12.19877815246582,9.352214813232422,4.8261399269104,-13.985512733459473,1.2509831190109253,-13.991623878479004,12.879100799560547,6.368242263793945,5.763281345367432,6.855589389801025,5.718709945678711,13.737445831298828,1.9559646844863892,13.510634422302246,-5.039786338806152,1.1181379556655884,8.053475379943848,12.23501205444336,6.13615083694458,13.680964469909668,6.051064491271973,6.329352855682373,6.172407150268555,-1.080919623374939,1.4100028276443481,-1.0692410469055176,9.252270698547363,12.315428733825684,1.902125597000122,2.036139726638794,1.926289677619934,0.8956422805786133,1.9107462167739868,1.8412418365478516,1.889908790588379,5.730627536773682,6.820321083068848,5.628096580505371,6.501998424530029,1.9412468671798706,1.5325915813446045,6.0329389572143555,2.040992021560669,-8.714849472045898,5.777687072753906,9.24534797668457,2.2892770767211914,-8.501773834228516,2.063347816467285,6.488527774810791,-6.801424503326416,1.1555908918380737,-8.494587898254395,2.3225491046905518,9.297308921813965,8.171697616577148,13.510588645935059,5.910177707672119,5.283252716064453,-8.25347900390625,5.772183895111084,-7.689438343048096,-7.686214447021484,-7.575607776641846,1.4172481298446655,12.934953689575195,-8.644598007202148,13.345709800720215,12.24334716796875,8.04835033416748,-8.229272842407227,-7.719561576843262,1.1146767139434814,1.2483144998550415,13.32045841217041,2.2409651279449463,5.92454195022583,5.644058704376221,1.1749449968338013,6.214977264404297,12.246199607849121,-8.717292785644531,6.245967864990234,1.3731492757797241,6.17745304107666,13.292607307434082,-8.936376571655273,2.3197317123413086,-6.829044818878174,5.796897888183594,-8.496706008911133,1.5424758195877075,-8.184876441955566,13.505598068237305,5.412608623504639,12.969147682189941,13.549342155456543,6.143143177032471,6.048567295074463,5.638823986053467,-13.718317031860352,-14.007946968078613,5.4922637939453125,2.4044785499572754,-13.911979675292969,7.141964912414551,-13.700831413269043,2.447038173675537,-13.69764232635498,6.231154441833496,2.449699878692627,-13.700777053833008,-8.512229919433594,-13.95190143585205,-13.701347351074219,-13.650582313537598,6.013036251068115,2.44759464263916,14.365449905395508,9.236981391906738,2.4489123821258545,-8.54142951965332,6.453701019287109,6.848502159118652,7.142242908477783,5.712011337280273,8.052732467651367,6.1343207359313965,6.381986141204834,6.227672100067139,2.313603401184082,-13.936342239379883,2.322711706161499,6.603036880493164,2.298083543777466,2.4016780853271484,-13.717689514160156,1.4041668176651,6.107536315917969,6.1404290199279785,5.038637638092041,2.290519952774048,3.7340378761291504,-14.000988960266113,5.650596618652344,8.174015998840332,-13.696637153625488,5.779446601867676,5.644967079162598,6.824465751647949,1.2160042524337769,1.9216630458831787,1.896239995956421,-7.362704277038574,2.061929225921631,1.9399502277374268,1.153376579284668,9.220521926879883,6.132796764373779,6.1392741203308105,12.43301010131836,9.266336441040039,5.064265727996826,6.0551276206970215,6.027770042419434,6.139270305633545,6.259098052978516,6.137625694274902,1.890505313873291,0.9017280340194702,1.9366036653518677,6.840356826782227,2.0747082233428955,6.228618144989014,5.543420314788818,5.969147205352783,2.4461677074432373,-13.698283195495605,5.744840621948242,5.741845607757568,-13.704683303833008,2.4483773708343506,6.357658386230469,1.1152288913726807,-13.961281776428223,-13.699767112731934,5.779919147491455,1.4641724824905396,1.0950745344161987,6.397193908691406,6.207120418548584,6.185693740844727,-13.741111755371094,-8.498754501342773,3.5517256259918213,9.558184623718262,6.232637405395508,7.1488847732543945,-7.697869777679443,7.097334861755371,-8.422182083129883,1.6595649719238281,6.305606365203857,7.026706695556641,6.498895168304443,4.878110408782959,12.290831565856934,12.18587875366211,6.142858982086182,8.083980560302734,5.980966567993164,7.330695629119873,-6.528304576873779,11.853638648986816,9.243327140808105,5.837155818939209,-7.622457027435303,6.5339250564575195,6.215102672576904,2.6420235633850098,6.257970333099365,16.586923599243164,8.08842658996582,16.58620834350586,-8.51698112487793,12.9301118850708,1.4012995958328247,6.179028034210205,13.539531707763672,6.210127830505371,2.380556344985962,2.6462104320526123,2.5351428985595703,9.067498207092285,9.321695327758789,8.862072944641113,2.615854263305664,7.49808931350708,8.132380485534668,1.5196096897125244,6.163668632507324,-8.453417778015137,15.392512321472168,1.5208194255828857,-8.48621654510498,-8.944801330566406,15.411078453063965,12.183619499206543,9.230077743530273,9.250328063964844,9.247535705566406,-8.95012378692627,5.630272388458252,1.6929147243499756,1.7071396112442017,1.5287630558013916,7.212712287902832,-8.948896408081055,1.508833646774292,13.331125259399414,13.771702766418457,5.293429851531982,16.58722686767578,16.587173461914062,3.5350606441497803,15.387256622314453,-6.569424152374268,15.39964771270752,12.315718650817871,1.2652485370635986,15.379647254943848,1.470202088356018,-6.336317539215088,-6.529278755187988,-6.426391124725342,-6.422926425933838,-6.722501277923584,-8.537073135375977,4.886574745178223,13.59229850769043,2.1706788539886475,4.827250957489014,-6.542492389678955,-8.933870315551758,1.0555319786071777,-8.399984359741211,-6.397750377655029,6.84444522857666,11.806618690490723,5.45189905166626,3.025912046432495,3.0696330070495605,4.8907623291015625,11.392352104187012,-7.559747219085693,-7.712339878082275,6.835464954376221,4.8082475662231445,2.577381134033203,6.266485214233398,12.149045944213867,9.473751068115234,6.764354705810547,1.4772241115570068,-6.493628025054932,1.2584319114685059,-6.433572292327881,9.291301727294922,6.01190185546875,4.698238372802734,4.402497291564941,6.220736980438232,5.924588203430176,3.1062541007995605,4.065164089202881,6.826571464538574,4.888577461242676,4.838881015777588,-5.040077209472656,4.671510219573975,4.804347038269043,9.454805374145508,13.32931137084961,4.897148609161377,5.102321624755859,3.4933502674102783,16.590251922607422,4.425558090209961,4.501801013946533,4.994532108306885,8.14054012298584,9.076964378356934,9.027061462402344,8.93090534210205,5.526529788970947,2.8557403087615967,2.787236213684082,21.226457595825195,2.685279369354248,6.011911869049072,4.162625312805176,-6.775109767913818,4.168637752532959,3.5077290534973145,9.243388175964355,3.5195252895355225,2.49306583404541,5.704674243927002,2.6488797664642334,-8.466290473937988,2.5075855255126953,9.103472709655762,4.432018756866455,9.11408519744873,6.360500335693359,6.03097677230835,2.6490697860717773,4.501532554626465,6.579963684082031,7.737440586090088,4.944557189941406,4.0647292137146,9.241860389709473,0.5028069615364075,2.7959914207458496,2.6570167541503906,9.238449096679688,9.01410961151123,3.5430755615234375,2.6145591735839844,2.695511817932129,11.830487251281738,8.750682830810547,6.118648529052734,11.853280067443848,3.4953737258911133,2.852811574935913,-8.927908897399902,8.218647956848145,0.4925096929073334,5.912566184997559,2.8616178035736084,2.785813570022583,2.193321943283081,3.6473281383514404,2.2848947048187256,2.86537504196167,2.776200771331787,-8.914772987365723,3.546539545059204,2.8520078659057617,-8.529509544372559,2.843726396560669,9.082752227783203,2.5854647159576416,2.4836673736572266,2.3490817546844482,2.4469735622406006,2.0036826133728027,2.1820690631866455,-8.476797103881836,2.6387739181518555,3.4961416721343994,2.489506244659424,2.822234869003296,3.558544635772705,2.7830307483673096,2.5256590843200684,9.01851749420166,9.021164894104004,2.6746647357940674,9.033330917358398,5.810908794403076,2.8677265644073486,4.8093342781066895,0.8909317851066589,9.231364250183105,8.210098266601562,5.850434303283691,-6.482288360595703,-6.521717548370361,9.078035354614258,2.7807586193084717,-4.440672874450684,2.841940402984619,9.071612358093262,6.100380897521973,-8.720243453979492,2.5226891040802,2.4751434326171875,8.787981033325195,2.52152943611145,9.505810737609863,2.466745138168335,-8.522244453430176,1.7138538360595703,3.0903635025024414,4.114101409912109,4.097662448883057,4.563540458679199,4.3835015296936035,9.198786735534668,9.0809907913208,8.20362377166748,2.2122154235839844,0.5072116851806641,2.7062668800354004,2.5232534408569336,8.685714721679688,3.590461015701294,9.084415435791016,2.7380707263946533,3.543269634246826,3.5363128185272217,9.48595905303955,8.777860641479492,2.3966898918151855,-8.620051383972168,2.675055503845215,3.04137921333313,-8.360112190246582,9.112178802490234,8.89822769165039,-8.296528816223145,4.555557727813721,-7.707571029663086,9.498351097106934,5.985689163208008,2.652052402496338,4.858306407928467,-5.040370464324951,6.109783172607422,6.093299388885498,6.048739433288574,6.130098819732666,6.115929126739502,6.116278171539307,6.129191875457764,-8.951780319213867,6.26947021484375,1.490795612335205,1.4449071884155273,6.234097480773926,6.682552337646484,6.167179107666016,9.239264488220215,6.188371181488037,-4.440299034118652,6.157702922821045,6.192280292510986,6.129228591918945,6.140671730041504,6.12052583694458,6.555213451385498,6.227139472961426,6.126172065734863,6.184803485870361,6.518285751342773,6.197770595550537,6.130934715270996,1.7055749893188477,-5.035222053527832,2.980586290359497,-7.421600818634033,-8.546487808227539,13.355887413024902,-8.571925163269043,-6.9558515548706055,-8.728376388549805,-7.364346504211426,4.894351959228516,-7.651961326599121,1.2571465969085693,-7.2694783210754395,-7.400612831115723,-7.439203262329102,-8.49882984161377,-6.814611434936523,-6.935155391693115,-7.558292865753174,-7.023533821105957,-7.34852933883667,-7.670886993408203,2.2111258506774902,5.369853496551514,2.4837350845336914,-4.079774856567383,2.442465305328369,2.6583712100982666,2.6777524948120117,-4.441196918487549,6.050622940063477,2.6536166667938232,-1.0945186614990234,-5.037295818328857,6.137666702270508,3.0770668983459473,5.487919330596924,5.467238903045654,5.536565780639648,3.066237449645996,6.500388145446777,5.075136184692383,5.124075412750244,5.094750881195068,1.0893083810806274,3.5476670265197754,5.437122821807861,2.2093400955200195,5.771377086639404,5.76557731628418,5.092670440673828,-8.650324821472168,5.3676862716674805,5.064404010772705,17.78630256652832,5.499813556671143,5.120857238769531,17.877492904663086,8.273676872253418,5.226794719696045,5.455745220184326,5.565081596374512,5.456894874572754,5.146860599517822,5.491188049316406,5.375113010406494,2.7985150814056396,5.3473100662231445,5.532536029815674,-4.441868782043457,-6.313164234161377,5.365721702575684,5.380908012390137,5.3068084716796875,5.390622138977051,5.30167818069458,6.014906406402588,-4.079615116119385,-4.079481601715088,-6.313211917877197,5.106103897094727,5.415632724761963,-6.90870475769043,5.335689544677734,5.43960428237915,-6.313077926635742,5.462588310241699,1.1485341787338257,5.365994453430176,5.468455791473389,5.993003845214844,5.311275482177734,-13.995928764343262,2.3595125675201416,5.697249889373779,17.77378273010254,0.4968470633029938,5.522769451141357,5.2972798347473145,-7.001974105834961,-6.9948954582214355,6.194582939147949,4.104496955871582,4.493628025054932,4.740813732147217,4.726747989654541,4.539638042449951,4.01540994644165,5.631739139556885,4.475861549377441,3.531514883041382,3.617783784866333,3.528944730758667,6.1308064460754395,-8.485740661621094,-6.528876304626465,1.2909295558929443,-6.357609272003174,4.497799396514893,1.2672185897827148,1.2655152082443237,-6.967204570770264,6.109696865081787,8.737903594970703,20.379501342773438,1.2594623565673828,-7.867080211639404,-6.547290802001953,1.3012802600860596,-2.4048187732696533,10.507906913757324,-7.445785999298096,4.3929924964904785,-2.404850721359253,3.531736135482788,3.1022703647613525,4.859539031982422,4.624476432800293,-2.401893138885498,18.068065643310547,4.857433319091797,4.468363285064697,4.9007568359375,-4.079591751098633,4.843493461608887,4.0968017578125,5.655381679534912,4.498547554016113,4.492825031280518,-4.079599857330322,18.09236717224121,5.564021110534668,4.797926425933838,3.4826064109802246,18.102094650268555,-4.0796122550964355,1.3032439947128296,1.2792869806289673,1.1109833717346191,-8.485311508178711,4.51652717590332,15.392912864685059,2.0047531127929688,-7.3193864822387695,2.720653772354126,2.305076837539673,-7.795313358306885,-8.565396308898926,-7.829388618469238,-7.62185001373291,8.283390998840332,10.506688117980957,-7.328829765319824,-8.515894889831543,-6.841392993927002,2.0569305419921875,2.019441604614258,-7.575051784515381,7.416133880615234,9.245182037353516,2.0188655853271484,4.899496078491211,-7.293521881103516,8.25537395477295,-7.357944011688232,-8.732999801635742,9.489482879638672,-7.555913925170898,-7.293583393096924,2.0028133392333984,-7.51996374130249,7.428430557250977,10.50842571258545,-8.96395206451416,8.197956085205078,4.372241497039795,4.548680305480957,2.2104990482330322,4.620332717895508,3.5050811767578125,-8.491204261779785,4.42711067199707,5.946013450622559,9.462442398071289,4.4525017738342285,-8.395925521850586,4.054497718811035,-7.344353199005127,9.305524826049805,1.3191449642181396,-7.837435245513916,-2.2567663192749023,2.208991050720215,4.4305243492126465,6.012663841247559,7.43635368347168,2.533461332321167,-6.6070027351379395,8.080668449401855],\"yaxis\":\"y\",\"type\":\"scattergl\"},{\"hovertemplate\":\"label=Moving legs\\u003cbr\\u003esample=resample\\u003cbr\\u003eemb1=%{x}\\u003cbr\\u003eemb2=%{y}\\u003cextra\\u003e\\u003c\\u002fextra\\u003e\",\"legendgroup\":\"Moving legs\",\"marker\":{\"color\":\"#ab63fa\",\"symbol\":\"circle\"},\"mode\":\"markers\",\"name\":\"Moving legs\",\"showlegend\":false,\"x\":[-1.9555000066757202,11.0015230178833,13.921403884887695,3.31744647026062],\"xaxis\":\"x2\",\"y\":[-1.3207390308380127,17.849416732788086,5.7788591384887695,16.58620834350586],\"yaxis\":\"y2\",\"type\":\"scattergl\"},{\"hovertemplate\":\"label=Moving legs+Playing wobjects\\u003cbr\\u003esample=all\\u003cbr\\u003eemb1=%{x}\\u003cbr\\u003eemb2=%{y}\\u003cextra\\u003e\\u003c\\u002fextra\\u003e\",\"legendgroup\":\"Moving legs+Playing wobjects\",\"marker\":{\"color\":\"#FFA15A\",\"symbol\":\"circle\"},\"mode\":\"markers\",\"name\":\"Moving legs+Playing wobjects\",\"showlegend\":true,\"x\":[-4.954648017883301],\"xaxis\":\"x\",\"y\":[12.028168678283691],\"yaxis\":\"y\",\"type\":\"scattergl\"},{\"hovertemplate\":\"label=Moving legs+Playing wobjects\\u003cbr\\u003esample=resample\\u003cbr\\u003eemb1=%{x}\\u003cbr\\u003eemb2=%{y}\\u003cextra\\u003e\\u003c\\u002fextra\\u003e\",\"legendgroup\":\"Moving legs+Playing wobjects\",\"marker\":{\"color\":\"#FFA15A\",\"symbol\":\"circle\"},\"mode\":\"markers\",\"name\":\"Moving legs+Playing wobjects\",\"showlegend\":false,\"x\":[-4.954648017883301],\"xaxis\":\"x2\",\"y\":[12.028168678283691],\"yaxis\":\"y2\",\"type\":\"scattergl\"},{\"hovertemplate\":\"label=Moving legs+Pulling collar\\u003cbr\\u003esample=all\\u003cbr\\u003eemb1=%{x}\\u003cbr\\u003eemb2=%{y}\\u003cextra\\u003e\\u003c\\u002fextra\\u003e\",\"legendgroup\":\"Moving legs+Pulling collar\",\"marker\":{\"color\":\"#19d3f3\",\"symbol\":\"circle\"},\"mode\":\"markers\",\"name\":\"Moving legs+Pulling collar\",\"showlegend\":true,\"x\":[10.862894058227539],\"xaxis\":\"x\",\"y\":[12.812108993530273],\"yaxis\":\"y\",\"type\":\"scattergl\"},{\"hovertemplate\":\"label=Moving legs+Pulling collar\\u003cbr\\u003esample=resample\\u003cbr\\u003eemb1=%{x}\\u003cbr\\u003eemb2=%{y}\\u003cextra\\u003e\\u003c\\u002fextra\\u003e\",\"legendgroup\":\"Moving legs+Pulling collar\",\"marker\":{\"color\":\"#19d3f3\",\"symbol\":\"circle\"},\"mode\":\"markers\",\"name\":\"Moving legs+Pulling collar\",\"showlegend\":false,\"x\":[10.862894058227539],\"xaxis\":\"x2\",\"y\":[12.812108993530273],\"yaxis\":\"y2\",\"type\":\"scattergl\"},{\"hovertemplate\":\"label=Moving legs+Rubbing face\\u003cbr\\u003esample=all\\u003cbr\\u003eemb1=%{x}\\u003cbr\\u003eemb2=%{y}\\u003cextra\\u003e\\u003c\\u002fextra\\u003e\",\"legendgroup\":\"Moving legs+Rubbing face\",\"marker\":{\"color\":\"#FF6692\",\"symbol\":\"circle\"},\"mode\":\"markers\",\"name\":\"Moving legs+Rubbing face\",\"showlegend\":true,\"x\":[7.5053181648254395],\"xaxis\":\"x\",\"y\":[-1.8653557300567627],\"yaxis\":\"y\",\"type\":\"scattergl\"},{\"hovertemplate\":\"label=Moving legs+Rubbing face\\u003cbr\\u003esample=resample\\u003cbr\\u003eemb1=%{x}\\u003cbr\\u003eemb2=%{y}\\u003cextra\\u003e\\u003c\\u002fextra\\u003e\",\"legendgroup\":\"Moving legs+Rubbing face\",\"marker\":{\"color\":\"#FF6692\",\"symbol\":\"circle\"},\"mode\":\"markers\",\"name\":\"Moving legs+Rubbing face\",\"showlegend\":false,\"x\":[7.5053181648254395],\"xaxis\":\"x2\",\"y\":[-1.8653557300567627],\"yaxis\":\"y2\",\"type\":\"scattergl\"},{\"hovertemplate\":\"label=Moving legs+Rubbing hands\\u003cbr\\u003esample=all\\u003cbr\\u003eemb1=%{x}\\u003cbr\\u003eemb2=%{y}\\u003cextra\\u003e\\u003c\\u002fextra\\u003e\",\"legendgroup\":\"Moving legs+Rubbing hands\",\"marker\":{\"color\":\"#B6E880\",\"symbol\":\"circle\"},\"mode\":\"markers\",\"name\":\"Moving legs+Rubbing hands\",\"showlegend\":true,\"x\":[12.019689559936523,8.542949676513672,-4.424313068389893,-10.238629341125488,-10.23844051361084,12.012858390808105,12.016690254211426,3.370253086090088,-5.072395324707031,12.523849487304688,3.5412886142730713],\"xaxis\":\"x\",\"y\":[-6.952585697174072,1.5075868368148804,-3.3368637561798096,5.74088191986084,5.7497172355651855,-6.962929725646973,-6.95868444442749,14.83751392364502,-3.225947618484497,-6.439975261688232,14.518745422363281],\"yaxis\":\"y\",\"type\":\"scattergl\"},{\"hovertemplate\":\"label=Moving legs+Rubbing hands\\u003cbr\\u003esample=resample\\u003cbr\\u003eemb1=%{x}\\u003cbr\\u003eemb2=%{y}\\u003cextra\\u003e\\u003c\\u002fextra\\u003e\",\"legendgroup\":\"Moving legs+Rubbing hands\",\"marker\":{\"color\":\"#B6E880\",\"symbol\":\"circle\"},\"mode\":\"markers\",\"name\":\"Moving legs+Rubbing hands\",\"showlegend\":false,\"x\":[8.542949676513672],\"xaxis\":\"x2\",\"y\":[1.5075868368148804],\"yaxis\":\"y2\",\"type\":\"scattergl\"},{\"hovertemplate\":\"label=Moving legs+Scratching body\\u003cbr\\u003esample=all\\u003cbr\\u003eemb1=%{x}\\u003cbr\\u003eemb2=%{y}\\u003cextra\\u003e\\u003c\\u002fextra\\u003e\",\"legendgroup\":\"Moving legs+Scratching body\",\"marker\":{\"color\":\"#FF97FF\",\"symbol\":\"circle\"},\"mode\":\"markers\",\"name\":\"Moving legs+Scratching body\",\"showlegend\":true,\"x\":[-5.2588911056518555,-5.218567371368408,-5.253807067871094],\"xaxis\":\"x\",\"y\":[5.034909725189209,0.5659915208816528,5.035499572753906],\"yaxis\":\"y\",\"type\":\"scattergl\"},{\"hovertemplate\":\"label=Moving legs+Scratching body\\u003cbr\\u003esample=resample\\u003cbr\\u003eemb1=%{x}\\u003cbr\\u003eemb2=%{y}\\u003cextra\\u003e\\u003c\\u002fextra\\u003e\",\"legendgroup\":\"Moving legs+Scratching body\",\"marker\":{\"color\":\"#FF97FF\",\"symbol\":\"circle\"},\"mode\":\"markers\",\"name\":\"Moving legs+Scratching body\",\"showlegend\":false,\"x\":[-5.218567371368408],\"xaxis\":\"x2\",\"y\":[0.5659915208816528],\"yaxis\":\"y2\",\"type\":\"scattergl\"},{\"hovertemplate\":\"label=Moving legs+Scratching neck\\u003cbr\\u003esample=all\\u003cbr\\u003eemb1=%{x}\\u003cbr\\u003eemb2=%{y}\\u003cextra\\u003e\\u003c\\u002fextra\\u003e\",\"legendgroup\":\"Moving legs+Scratching neck\",\"marker\":{\"color\":\"#FECB52\",\"symbol\":\"circle\"},\"mode\":\"markers\",\"name\":\"Moving legs+Scratching neck\",\"showlegend\":true,\"x\":[4.764883518218994],\"xaxis\":\"x\",\"y\":[-12.375739097595215],\"yaxis\":\"y\",\"type\":\"scattergl\"},{\"hovertemplate\":\"label=Moving legs+Scratching neck\\u003cbr\\u003esample=resample\\u003cbr\\u003eemb1=%{x}\\u003cbr\\u003eemb2=%{y}\\u003cextra\\u003e\\u003c\\u002fextra\\u003e\",\"legendgroup\":\"Moving legs+Scratching neck\",\"marker\":{\"color\":\"#FECB52\",\"symbol\":\"circle\"},\"mode\":\"markers\",\"name\":\"Moving legs+Scratching neck\",\"showlegend\":false,\"x\":[4.764883518218994],\"xaxis\":\"x2\",\"y\":[-12.375739097595215],\"yaxis\":\"y2\",\"type\":\"scattergl\"},{\"hovertemplate\":\"label=Moving legs+Touching face\\u003cbr\\u003esample=all\\u003cbr\\u003eemb1=%{x}\\u003cbr\\u003eemb2=%{y}\\u003cextra\\u003e\\u003c\\u002fextra\\u003e\",\"legendgroup\":\"Moving legs+Touching face\",\"marker\":{\"color\":\"#636efa\",\"symbol\":\"circle\"},\"mode\":\"markers\",\"name\":\"Moving legs+Touching face\",\"showlegend\":true,\"x\":[6.769167423248291,-11.88167953491211,-4.095226764678955,-4.094533443450928,-12.152364730834961,-4.095146179199219,11.069074630737305,-14.139222145080566],\"xaxis\":\"x\",\"y\":[3.076453685760498,-2.269364833831787,-7.283150672912598,-7.282728672027588,-2.489856481552124,-7.282864093780518,17.78066635131836,-4.079707145690918],\"yaxis\":\"y\",\"type\":\"scattergl\"},{\"hovertemplate\":\"label=Moving legs+Touching face\\u003cbr\\u003esample=resample\\u003cbr\\u003eemb1=%{x}\\u003cbr\\u003eemb2=%{y}\\u003cextra\\u003e\\u003c\\u002fextra\\u003e\",\"legendgroup\":\"Moving legs+Touching face\",\"marker\":{\"color\":\"#636efa\",\"symbol\":\"circle\"},\"mode\":\"markers\",\"name\":\"Moving legs+Touching face\",\"showlegend\":false,\"x\":[11.069074630737305,6.769167423248291],\"xaxis\":\"x2\",\"y\":[17.78066635131836,3.076453685760498],\"yaxis\":\"y2\",\"type\":\"scattergl\"},{\"hovertemplate\":\"label=Moving legs+Touching nose\\u003cbr\\u003esample=all\\u003cbr\\u003eemb1=%{x}\\u003cbr\\u003eemb2=%{y}\\u003cextra\\u003e\\u003c\\u002fextra\\u003e\",\"legendgroup\":\"Moving legs+Touching nose\",\"marker\":{\"color\":\"#EF553B\",\"symbol\":\"circle\"},\"mode\":\"markers\",\"name\":\"Moving legs+Touching nose\",\"showlegend\":true,\"x\":[15.678452491760254],\"xaxis\":\"x\",\"y\":[-0.4021276831626892],\"yaxis\":\"y\",\"type\":\"scattergl\"},{\"hovertemplate\":\"label=Moving legs+Touching nose\\u003cbr\\u003esample=resample\\u003cbr\\u003eemb1=%{x}\\u003cbr\\u003eemb2=%{y}\\u003cextra\\u003e\\u003c\\u002fextra\\u003e\",\"legendgroup\":\"Moving legs+Touching nose\",\"marker\":{\"color\":\"#EF553B\",\"symbol\":\"circle\"},\"mode\":\"markers\",\"name\":\"Moving legs+Touching nose\",\"showlegend\":false,\"x\":[15.678452491760254],\"xaxis\":\"x2\",\"y\":[-0.4021276831626892],\"yaxis\":\"y2\",\"type\":\"scattergl\"},{\"hovertemplate\":\"label=Moving legs+Turtling neck\\u003cbr\\u003esample=all\\u003cbr\\u003eemb1=%{x}\\u003cbr\\u003eemb2=%{y}\\u003cextra\\u003e\\u003c\\u002fextra\\u003e\",\"legendgroup\":\"Moving legs+Turtling neck\",\"marker\":{\"color\":\"#00cc96\",\"symbol\":\"circle\"},\"mode\":\"markers\",\"name\":\"Moving legs+Turtling neck\",\"showlegend\":true,\"x\":[-3.0886292457580566],\"xaxis\":\"x\",\"y\":[-4.4406418800354],\"yaxis\":\"y\",\"type\":\"scattergl\"},{\"hovertemplate\":\"label=Moving legs+Turtling neck\\u003cbr\\u003esample=resample\\u003cbr\\u003eemb1=%{x}\\u003cbr\\u003eemb2=%{y}\\u003cextra\\u003e\\u003c\\u002fextra\\u003e\",\"legendgroup\":\"Moving legs+Turtling neck\",\"marker\":{\"color\":\"#00cc96\",\"symbol\":\"circle\"},\"mode\":\"markers\",\"name\":\"Moving legs+Turtling neck\",\"showlegend\":false,\"x\":[-3.0886292457580566],\"xaxis\":\"x2\",\"y\":[-4.4406418800354],\"yaxis\":\"y2\",\"type\":\"scattergl\"},{\"hovertemplate\":\"label=Playing wobjects\\u003cbr\\u003esample=all\\u003cbr\\u003eemb1=%{x}\\u003cbr\\u003eemb2=%{y}\\u003cextra\\u003e\\u003c\\u002fextra\\u003e\",\"legendgroup\":\"Playing wobjects\",\"marker\":{\"color\":\"#ab63fa\",\"symbol\":\"circle\"},\"mode\":\"markers\",\"name\":\"Playing wobjects\",\"showlegend\":true,\"x\":[-4.9386186599731445,-1.9358569383621216,-4.81591272354126,-4.924765110015869,9.88964557647705,-4.941856861114502,-4.9437479972839355,-4.890049934387207,1.4454666376113892,-4.940744400024414,-4.8146820068359375,-4.898467540740967,-4.821358680725098,-4.947360515594482,-4.837501525878906,-4.850004196166992,-11.040814399719238,-4.960461616516113,10.081899642944336,-3.448470115661621,0.312513530254364,-4.978393077850342,-4.925534248352051,0.6540771126747131],\"xaxis\":\"x\",\"y\":[12.062408447265625,-1.301552414894104,12.350129127502441,12.148200035095215,-7.6837263107299805,12.08979606628418,12.120991706848145,12.201745986938477,7.948397636413574,12.05141830444336,12.338105201721191,12.019203186035156,12.31930923461914,12.068690299987793,12.289782524108887,12.266036033630371,9.514707565307617,12.092161178588867,7.708461284637451,3.0763304233551025,7.280386924743652,11.894819259643555,12.047412872314453,8.009472846984863],\"yaxis\":\"y\",\"type\":\"scattergl\"},{\"hovertemplate\":\"label=Playing wobjects\\u003cbr\\u003esample=resample\\u003cbr\\u003eemb1=%{x}\\u003cbr\\u003eemb2=%{y}\\u003cextra\\u003e\\u003c\\u002fextra\\u003e\",\"legendgroup\":\"Playing wobjects\",\"marker\":{\"color\":\"#ab63fa\",\"symbol\":\"circle\"},\"mode\":\"markers\",\"name\":\"Playing wobjects\",\"showlegend\":false,\"x\":[10.081899642944336,-11.040814399719238],\"xaxis\":\"x2\",\"y\":[7.708461284637451,9.514707565307617],\"yaxis\":\"y2\",\"type\":\"scattergl\"},{\"hovertemplate\":\"label=Playing wobjects+Rubbing face\\u003cbr\\u003esample=all\\u003cbr\\u003eemb1=%{x}\\u003cbr\\u003eemb2=%{y}\\u003cextra\\u003e\\u003c\\u002fextra\\u003e\",\"legendgroup\":\"Playing wobjects+Rubbing face\",\"marker\":{\"color\":\"#FFA15A\",\"symbol\":\"circle\"},\"mode\":\"markers\",\"name\":\"Playing wobjects+Rubbing face\",\"showlegend\":true,\"x\":[-4.94524621963501,1.5181347131729126],\"xaxis\":\"x\",\"y\":[12.048929214477539,0.23397912085056305],\"yaxis\":\"y\",\"type\":\"scattergl\"},{\"hovertemplate\":\"label=Playing wobjects+Rubbing face\\u003cbr\\u003esample=resample\\u003cbr\\u003eemb1=%{x}\\u003cbr\\u003eemb2=%{y}\\u003cextra\\u003e\\u003c\\u002fextra\\u003e\",\"legendgroup\":\"Playing wobjects+Rubbing face\",\"marker\":{\"color\":\"#FFA15A\",\"symbol\":\"circle\"},\"mode\":\"markers\",\"name\":\"Playing wobjects+Rubbing face\",\"showlegend\":false,\"x\":[1.5181347131729126],\"xaxis\":\"x2\",\"y\":[0.23397912085056305],\"yaxis\":\"y2\",\"type\":\"scattergl\"},{\"hovertemplate\":\"label=Playing wobjects+Rubbing hands\\u003cbr\\u003esample=all\\u003cbr\\u003eemb1=%{x}\\u003cbr\\u003eemb2=%{y}\\u003cextra\\u003e\\u003c\\u002fextra\\u003e\",\"legendgroup\":\"Playing wobjects+Rubbing hands\",\"marker\":{\"color\":\"#19d3f3\",\"symbol\":\"circle\"},\"mode\":\"markers\",\"name\":\"Playing wobjects+Rubbing hands\",\"showlegend\":true,\"x\":[-5.61517333984375,7.957730293273926,-5.207651615142822,8.95028018951416],\"xaxis\":\"x\",\"y\":[-2.2567005157470703,-0.35624125599861145,5.064508438110352,-9.502948760986328],\"yaxis\":\"y\",\"type\":\"scattergl\"},{\"hovertemplate\":\"label=Playing wobjects+Rubbing hands\\u003cbr\\u003esample=resample\\u003cbr\\u003eemb1=%{x}\\u003cbr\\u003eemb2=%{y}\\u003cextra\\u003e\\u003c\\u002fextra\\u003e\",\"legendgroup\":\"Playing wobjects+Rubbing hands\",\"marker\":{\"color\":\"#19d3f3\",\"symbol\":\"circle\"},\"mode\":\"markers\",\"name\":\"Playing wobjects+Rubbing hands\",\"showlegend\":false,\"x\":[-5.61517333984375],\"xaxis\":\"x2\",\"y\":[-2.2567005157470703],\"yaxis\":\"y2\",\"type\":\"scattergl\"},{\"hovertemplate\":\"label=Playing wobjects+Turtling neck\\u003cbr\\u003esample=all\\u003cbr\\u003eemb1=%{x}\\u003cbr\\u003eemb2=%{y}\\u003cextra\\u003e\\u003c\\u002fextra\\u003e\",\"legendgroup\":\"Playing wobjects+Turtling neck\",\"marker\":{\"color\":\"#FF6692\",\"symbol\":\"circle\"},\"mode\":\"markers\",\"name\":\"Playing wobjects+Turtling neck\",\"showlegend\":true,\"x\":[-4.909994602203369],\"xaxis\":\"x\",\"y\":[12.16519546508789],\"yaxis\":\"y\",\"type\":\"scattergl\"},{\"hovertemplate\":\"label=Playing wobjects+Turtling neck\\u003cbr\\u003esample=resample\\u003cbr\\u003eemb1=%{x}\\u003cbr\\u003eemb2=%{y}\\u003cextra\\u003e\\u003c\\u002fextra\\u003e\",\"legendgroup\":\"Playing wobjects+Turtling neck\",\"marker\":{\"color\":\"#FF6692\",\"symbol\":\"circle\"},\"mode\":\"markers\",\"name\":\"Playing wobjects+Turtling neck\",\"showlegend\":false,\"x\":[-4.909994602203369],\"xaxis\":\"x2\",\"y\":[12.16519546508789],\"yaxis\":\"y2\",\"type\":\"scattergl\"},{\"hovertemplate\":\"label=Pulling collar\\u003cbr\\u003esample=all\\u003cbr\\u003eemb1=%{x}\\u003cbr\\u003eemb2=%{y}\\u003cextra\\u003e\\u003c\\u002fextra\\u003e\",\"legendgroup\":\"Pulling collar\",\"marker\":{\"color\":\"#B6E880\",\"symbol\":\"circle\"},\"mode\":\"markers\",\"name\":\"Pulling collar\",\"showlegend\":true,\"x\":[16.356647491455078,16.355270385742188,4.918761253356934,16.373851776123047,16.354707717895508,16.35619354248047,16.32426643371582,16.361425399780273],\"xaxis\":\"x\",\"y\":[10.329476356506348,10.33092212677002,-12.384387016296387,10.312374114990234,10.331482887268066,10.329855918884277,10.361157417297363,10.324175834655762],\"yaxis\":\"y\",\"type\":\"scattergl\"},{\"hovertemplate\":\"label=Pulling collar\\u003cbr\\u003esample=resample\\u003cbr\\u003eemb1=%{x}\\u003cbr\\u003eemb2=%{y}\\u003cextra\\u003e\\u003c\\u002fextra\\u003e\",\"legendgroup\":\"Pulling collar\",\"marker\":{\"color\":\"#B6E880\",\"symbol\":\"circle\"},\"mode\":\"markers\",\"name\":\"Pulling collar\",\"showlegend\":false,\"x\":[4.918761253356934],\"xaxis\":\"x2\",\"y\":[-12.384387016296387],\"yaxis\":\"y2\",\"type\":\"scattergl\"},{\"hovertemplate\":\"label=Pulling collar+Rubbing hands\\u003cbr\\u003esample=all\\u003cbr\\u003eemb1=%{x}\\u003cbr\\u003eemb2=%{y}\\u003cextra\\u003e\\u003c\\u002fextra\\u003e\",\"legendgroup\":\"Pulling collar+Rubbing hands\",\"marker\":{\"color\":\"#FF97FF\",\"symbol\":\"circle\"},\"mode\":\"markers\",\"name\":\"Pulling collar+Rubbing hands\",\"showlegend\":true,\"x\":[-10.429397583007812],\"xaxis\":\"x\",\"y\":[0.679246187210083],\"yaxis\":\"y\",\"type\":\"scattergl\"},{\"hovertemplate\":\"label=Pulling collar+Rubbing hands\\u003cbr\\u003esample=resample\\u003cbr\\u003eemb1=%{x}\\u003cbr\\u003eemb2=%{y}\\u003cextra\\u003e\\u003c\\u002fextra\\u003e\",\"legendgroup\":\"Pulling collar+Rubbing hands\",\"marker\":{\"color\":\"#FF97FF\",\"symbol\":\"circle\"},\"mode\":\"markers\",\"name\":\"Pulling collar+Rubbing hands\",\"showlegend\":false,\"x\":[-10.429397583007812],\"xaxis\":\"x2\",\"y\":[0.679246187210083],\"yaxis\":\"y2\",\"type\":\"scattergl\"},{\"hovertemplate\":\"label=Pulling collar+Scratching neck\\u003cbr\\u003esample=all\\u003cbr\\u003eemb1=%{x}\\u003cbr\\u003eemb2=%{y}\\u003cextra\\u003e\\u003c\\u002fextra\\u003e\",\"legendgroup\":\"Pulling collar+Scratching neck\",\"marker\":{\"color\":\"#FECB52\",\"symbol\":\"circle\"},\"mode\":\"markers\",\"name\":\"Pulling collar+Scratching neck\",\"showlegend\":true,\"x\":[16.383193969726562],\"xaxis\":\"x\",\"y\":[10.305262565612793],\"yaxis\":\"y\",\"type\":\"scattergl\"},{\"hovertemplate\":\"label=Pulling collar+Scratching neck\\u003cbr\\u003esample=resample\\u003cbr\\u003eemb1=%{x}\\u003cbr\\u003eemb2=%{y}\\u003cextra\\u003e\\u003c\\u002fextra\\u003e\",\"legendgroup\":\"Pulling collar+Scratching neck\",\"marker\":{\"color\":\"#FECB52\",\"symbol\":\"circle\"},\"mode\":\"markers\",\"name\":\"Pulling collar+Scratching neck\",\"showlegend\":false,\"x\":[16.383193969726562],\"xaxis\":\"x2\",\"y\":[10.305262565612793],\"yaxis\":\"y2\",\"type\":\"scattergl\"},{\"hovertemplate\":\"label=Rubbing face\\u003cbr\\u003esample=all\\u003cbr\\u003eemb1=%{x}\\u003cbr\\u003eemb2=%{y}\\u003cextra\\u003e\\u003c\\u002fextra\\u003e\",\"legendgroup\":\"Rubbing face\",\"marker\":{\"color\":\"#636efa\",\"symbol\":\"circle\"},\"mode\":\"markers\",\"name\":\"Rubbing face\",\"showlegend\":true,\"x\":[-11.81482982635498,8.07885456085205,-11.852418899536133,-1.225732684135437,1.494662880897522,8.456077575683594,7.923036575317383,-8.345675468444824,-8.341569900512695,9.1724271774292,7.77625846862793,7.431890487670898,7.86055850982666,-7.777858257293701,10.133017539978027,1.5629689693450928,7.928438186645508,8.454757690429688,10.13814640045166,-11.854548454284668,7.779618263244629,-3.571028232574463,1.5816744565963745,1.4975669384002686,-11.832573890686035,1.5436149835586548,1.5534632205963135,7.72984504699707,13.921635627746582,7.754818916320801,5.150481700897217,1.502089023590088,-12.179832458496094,7.9606852531433105,-11.857741355895996,7.430324077606201],\"xaxis\":\"x\",\"y\":[-2.2065165042877197,-2.288656234741211,-2.2430620193481445,21.129653930664062,0.21436670422554016,16.500627517700195,-1.8570204973220825,-10.045520782470703,-10.042217254638672,-2.1445188522338867,-1.9685440063476562,-7.211274147033691,-1.962354302406311,-1.1599678993225098,1.8081133365631104,0.2713964283466339,-1.832522988319397,16.499074935913086,1.8059285879135132,-2.2425625324249268,-1.9577257633209229,14.366400718688965,0.28990447521209717,0.21644224226474762,-2.2199888229370117,0.25240933895111084,0.26162463426589966,-1.9381977319717407,5.779509544372559,-1.9462381601333618,-6.4626078605651855,0.2194325476884842,10.286748886108398,-1.801648736000061,-2.2460415363311768,-7.208848476409912],\"yaxis\":\"y\",\"type\":\"scattergl\"},{\"hovertemplate\":\"label=Rubbing face\\u003cbr\\u003esample=resample\\u003cbr\\u003eemb1=%{x}\\u003cbr\\u003eemb2=%{y}\\u003cextra\\u003e\\u003c\\u002fextra\\u003e\",\"legendgroup\":\"Rubbing face\",\"marker\":{\"color\":\"#636efa\",\"symbol\":\"circle\"},\"mode\":\"markers\",\"name\":\"Rubbing face\",\"showlegend\":false,\"x\":[-7.777858257293701,13.921635627746582,-12.179832458496094],\"xaxis\":\"x2\",\"y\":[-1.1599678993225098,5.779509544372559,10.286748886108398],\"yaxis\":\"y2\",\"type\":\"scattergl\"},{\"hovertemplate\":\"label=Rubbing face+Rubbing hands\\u003cbr\\u003esample=all\\u003cbr\\u003eemb1=%{x}\\u003cbr\\u003eemb2=%{y}\\u003cextra\\u003e\\u003c\\u002fextra\\u003e\",\"legendgroup\":\"Rubbing face+Rubbing hands\",\"marker\":{\"color\":\"#EF553B\",\"symbol\":\"circle\"},\"mode\":\"markers\",\"name\":\"Rubbing face+Rubbing hands\",\"showlegend\":true,\"x\":[12.326711654663086,-17.75043487548828,-17.750415802001953,-3.538986921310425,8.576082229614258,-17.740867614746094,-17.750314712524414,7.852619647979736,-17.750410079956055],\"xaxis\":\"x\",\"y\":[-6.555612087249756,-2.0349977016448975,-2.035635232925415,11.949121475219727,1.9310685396194458,-2.022319793701172,-2.0355215072631836,-2.018289804458618,-2.0351338386535645],\"yaxis\":\"y\",\"type\":\"scattergl\"},{\"hovertemplate\":\"label=Rubbing face+Rubbing hands\\u003cbr\\u003esample=resample\\u003cbr\\u003eemb1=%{x}\\u003cbr\\u003eemb2=%{y}\\u003cextra\\u003e\\u003c\\u002fextra\\u003e\",\"legendgroup\":\"Rubbing face+Rubbing hands\",\"marker\":{\"color\":\"#EF553B\",\"symbol\":\"circle\"},\"mode\":\"markers\",\"name\":\"Rubbing face+Rubbing hands\",\"showlegend\":false,\"x\":[12.326711654663086],\"xaxis\":\"x2\",\"y\":[-6.555612087249756],\"yaxis\":\"y2\",\"type\":\"scattergl\"},{\"hovertemplate\":\"label=Rubbing face+Scratching neck\\u003cbr\\u003esample=all\\u003cbr\\u003eemb1=%{x}\\u003cbr\\u003eemb2=%{y}\\u003cextra\\u003e\\u003c\\u002fextra\\u003e\",\"legendgroup\":\"Rubbing face+Scratching neck\",\"marker\":{\"color\":\"#00cc96\",\"symbol\":\"circle\"},\"mode\":\"markers\",\"name\":\"Rubbing face+Scratching neck\",\"showlegend\":true,\"x\":[9.236016273498535],\"xaxis\":\"x\",\"y\":[-4.065546035766602],\"yaxis\":\"y\",\"type\":\"scattergl\"},{\"hovertemplate\":\"label=Rubbing face+Scratching neck\\u003cbr\\u003esample=resample\\u003cbr\\u003eemb1=%{x}\\u003cbr\\u003eemb2=%{y}\\u003cextra\\u003e\\u003c\\u002fextra\\u003e\",\"legendgroup\":\"Rubbing face+Scratching neck\",\"marker\":{\"color\":\"#00cc96\",\"symbol\":\"circle\"},\"mode\":\"markers\",\"name\":\"Rubbing face+Scratching neck\",\"showlegend\":false,\"x\":[9.236016273498535],\"xaxis\":\"x2\",\"y\":[-4.065546035766602],\"yaxis\":\"y2\",\"type\":\"scattergl\"},{\"hovertemplate\":\"label=Rubbing face+Touching face\\u003cbr\\u003esample=all\\u003cbr\\u003eemb1=%{x}\\u003cbr\\u003eemb2=%{y}\\u003cextra\\u003e\\u003c\\u002fextra\\u003e\",\"legendgroup\":\"Rubbing face+Touching face\",\"marker\":{\"color\":\"#ab63fa\",\"symbol\":\"circle\"},\"mode\":\"markers\",\"name\":\"Rubbing face+Touching face\",\"showlegend\":true,\"x\":[-11.022818565368652,7.433626174926758,1.5823243856430054,-11.733378410339355,-12.20509147644043],\"xaxis\":\"x\",\"y\":[9.509674072265625,-7.215654373168945,0.2857152223587036,-2.1290345191955566,-2.5338478088378906],\"yaxis\":\"y\",\"type\":\"scattergl\"},{\"hovertemplate\":\"label=Rubbing face+Touching face\\u003cbr\\u003esample=resample\\u003cbr\\u003eemb1=%{x}\\u003cbr\\u003eemb2=%{y}\\u003cextra\\u003e\\u003c\\u002fextra\\u003e\",\"legendgroup\":\"Rubbing face+Touching face\",\"marker\":{\"color\":\"#ab63fa\",\"symbol\":\"circle\"},\"mode\":\"markers\",\"name\":\"Rubbing face+Touching face\",\"showlegend\":false,\"x\":[-11.733378410339355],\"xaxis\":\"x2\",\"y\":[-2.1290345191955566],\"yaxis\":\"y2\",\"type\":\"scattergl\"},{\"hovertemplate\":\"label=Rubbing hands\\u003cbr\\u003esample=all\\u003cbr\\u003eemb1=%{x}\\u003cbr\\u003eemb2=%{y}\\u003cextra\\u003e\\u003c\\u002fextra\\u003e\",\"legendgroup\":\"Rubbing hands\",\"marker\":{\"color\":\"#FFA15A\",\"symbol\":\"circle\"},\"mode\":\"markers\",\"name\":\"Rubbing hands\",\"showlegend\":true,\"x\":[-4.851896286010742,8.07352352142334,12.04572868347168,7.996546745300293,-4.951816082000732,4.189560890197754,3.958699941635132,4.182573318481445,-5.07780122756958,-5.613032341003418,-4.399391174316406,-5.159669399261475,-4.9940505027771,7.4173102378845215,-5.102738857269287,4.171067714691162,4.220395088195801,-5.148542881011963,-5.068562984466553,4.329192638397217,4.160005569458008,-5.783045768737793,-5.112587928771973,-4.843327045440674,-5.023449420928955,-5.089221954345703,4.168267250061035,3.9156250953674316,4.1802167892456055,3.8903915882110596,-5.130666732788086,-4.666271209716797,-5.087440490722656,-5.129307746887207,-5.324767112731934,-5.297234535217285,-5.07797908782959,-5.714498996734619,-5.1151862144470215,-5.05559778213501,-4.67427921295166,4.263203144073486,-5.155667781829834,-1.946586012840271,4.182278633117676,3.8867757320404053,8.001306533813477,-5.641766548156738,-5.330303192138672,-5.144713401794434,-4.322384357452393,-5.321845531463623,-5.1186017990112305,-5.134367942810059,-5.078763008117676,-8.857121467590332,-6.30173397064209,-5.42318868637085,-4.332168102264404,-5.579354286193848,-5.6368536949157715,-5.624375343322754,-10.404840469360352,-10.402790069580078,-10.404577255249023,-6.856465816497803,12.346390724182129,-4.96246862411499,-7.770435333251953,-8.371268272399902,12.577446937561035,-8.273438453674316,-8.612863540649414,4.596817970275879,-7.763111114501953,-5.530138969421387,-10.434503555297852,-5.744787216186523,-5.582202911376953,14.019227027893066,-11.536578178405762,-8.205571174621582,-5.709609508514404,-10.42888355255127,-10.669569969177246,-8.184037208557129,-8.593751907348633,-8.629396438598633,-8.564909934997559,-8.239763259887695,-8.227861404418945,-4.328022003173828,4.176321983337402,-5.584786415100098,-5.5134124755859375,-5.187580585479736,-6.458543300628662,-5.560879230499268,-6.793398857116699,-5.558952808380127,-5.303866863250732,-6.6429877281188965,-5.502310752868652,14.048072814941406,-6.378820419311523,7.989301681518555,-10.421067237854004,-5.051846027374268,-5.485661506652832,-6.290050029754639,-8.321332931518555,-6.965989589691162,-6.95342493057251,-6.9472975730896,-8.373573303222656,-8.387846946716309,-5.373071193695068,-10.120095252990723,-6.435669898986816,-6.321520805358887,-6.371400833129883,-10.39328384399414,-6.8653669357299805,-6.928713321685791,-8.362401008605957,-7.807485103607178,-8.14571762084961,-8.353331565856934,-8.252930641174316,-5.756737232208252,-6.906877517700195,-7.789715766906738,-8.111942291259766,-7.774324417114258,-7.830205917358398,-6.924070835113525,-8.031754493713379,-6.261745929718018,-5.878938674926758,-8.370356559753418,3.8159048557281494,-5.7298903465271,-4.868200778961182,-5.078357696533203,-5.06469202041626,-4.99107027053833,4.173909664154053,-4.885105609893799,-4.978482723236084,8.0404052734375,-4.8529791831970215,-4.226141452789307,-5.115726470947266,3.520958185195923,7.996154308319092,-4.12210750579834,8.32374095916748,12.042291641235352,4.588196277618408,4.579646110534668,3.9057607650756836,-8.85791015625,4.3376054763793945,-5.196334362030029,12.042152404785156,4.166438579559326,3.8810348510742188,7.997471809387207,7.970069885253906,4.595739364624023,-8.857874870300293,12.064081192016602,4.3171210289001465,-4.951398849487305,4.032161235809326,-4.170696258544922,-4.144805431365967,-5.1472930908203125,-5.031301021575928,-4.152468204498291,-4.324164390563965,-5.061243057250977,-4.202127933502197,8.028861999511719,-5.00482702255249,12.045804977416992,12.330280303955078,4.068049430847168,7.980711460113525,-5.113224506378174,4.3607048988342285,-4.302518367767334,-12.620582580566406,-5.113945960998535,12.527711868286133,-4.9678263664245605,12.325104713439941,12.559368133544922,12.113859176635742,12.082649230957031,-4.2017083168029785,-4.173391819000244,4.268687725067139,3.5576958656311035,-4.542821407318115,3.957371234893799,4.341793537139893,4.078709602355957,7.9911370277404785,4.34138822555542,4.564102649688721,12.121135711669922,-4.9256720542907715,-1.9409542083740234,-10.41850471496582,-5.720953464508057,-4.158476829528809,4.097911357879639,-5.0876545906066895,8.535720825195312,-5.022858619689941,3.87966251373291,4.556835174560547,-6.674862861633301,3.870307207107544,-4.861520767211914,2.64965558052063,-5.326443195343018,8.561870574951172,4.064562797546387],\"xaxis\":\"x\",\"y\":[-3.4111430644989014,-0.269266277551651,-6.651517391204834,-0.3162223994731903,-4.389518737792969,13.1052827835083,14.018332481384277,13.133695602416992,-4.430240154266357,-3.0296247005462646,-3.350559949874878,-4.530317306518555,-3.201777458190918,-1.8448779582977295,-4.417318344116211,13.141225814819336,13.067426681518555,-4.512581825256348,-4.402518272399902,14.153964042663574,13.133479118347168,-2.825957775115967,-3.638288736343384,-2.7333579063415527,-4.3868865966796875,-3.7741167545318604,13.12928295135498,13.95562744140625,13.112308502197266,13.927193641662598,-3.7758264541625977,-3.3589375019073486,-3.2629199028015137,-3.8550608158111572,-4.726300239562988,-4.6937479972839355,-4.422364234924316,1.3561375141143799,-3.835103750228882,-3.700716257095337,-3.379379987716675,14.13595962524414,-3.9693963527679443,-1.3147456645965576,13.108628273010254,13.996641159057617,-0.31394079327583313,8.132589340209961,-4.730860233306885,-4.002055644989014,-3.063570261001587,-4.714369773864746,-3.8117003440856934,-3.9604454040527344,-4.415045261383057,15.840423583984375,-2.3751211166381836,-2.7147834300994873,-3.057027578353882,-3.049321174621582,-2.4183614253997803,-2.336472749710083,0.6559675335884094,0.6553674340248108,0.6569837331771851,-2.0805575847625732,-6.553009033203125,-2.8393399715423584,-1.1650487184524536,-0.9721547365188599,-6.398595333099365,-9.973356246948242,-0.530936598777771,14.26494312286377,-1.1712589263916016,-3.1064364910125732,0.6891632676124573,-2.5717530250549316,-2.94339919090271,4.372233867645264,9.579020500183105,-9.90451431274414,-2.938094139099121,0.6803457140922546,9.629789352416992,-1.0478386878967285,-0.5676863193511963,-0.518730103969574,-0.6048691868782043,-9.939323425292969,-9.92795181274414,-3.074190616607666,13.115675926208496,-3.038001775741577,-2.836430072784424,-2.8450376987457275,-2.327950954437256,-2.972637891769409,-2.1132140159606934,-3.102278232574463,-2.758880138397217,-2.2098591327667236,-2.6000146865844727,4.347464084625244,-2.308661699295044,-0.3249530494213104,0.6720874905586243,-3.6984405517578125,-2.630741834640503,-2.384559154510498,-1.0589549541473389,-1.9916657209396362,-2.0017497539520264,-2.005755662918091,-0.9780967235565186,-0.9761874079704285,-2.7261486053466797,-8.4557466506958,-2.338097095489502,-2.374033212661743,-2.307917833328247,0.6460695862770081,-2.063615560531616,-2.01560378074646,-0.9879947900772095,-1.1483490467071533,-1.0694001913070679,-0.9891370534896851,-1.0382832288742065,-2.865139961242676,-2.0355989933013916,-1.15471613407135,-1.0905729532241821,-1.1595078706741333,-1.1424925327301025,-2.022580623626709,-1.09494948387146,-2.4029018878936768,-2.698721170425415,-0.9771538972854614,14.064423561096191,-2.903165817260742,-2.7468621730804443,-3.136753559112549,-4.378432750701904,-2.965585947036743,13.12124252319336,-2.7618160247802734,-2.918735980987549,-0.27821412682533264,-2.7291297912597656,-3.3702211380004883,-3.328596830368042,14.55717945098877,-0.3171376883983612,-3.456420660018921,-0.12908518314361572,-6.6611247062683105,14.261691093444824,14.258069038391113,13.868603706359863,15.844194412231445,14.177382469177246,-4.570821762084961,-6.661433696746826,13.124412536621094,13.95160961151123,-0.3213164806365967,-0.3484368324279785,14.26159381866455,15.844136238098145,-6.637828826904297,13.000884056091309,-4.3874382972717285,14.0585355758667,-3.4130823612213135,-3.4302449226379395,-3.3290371894836426,-4.374124050140381,-3.4235801696777344,-3.0619254112243652,-3.206036329269409,-3.3964810371398926,-0.29442518949508667,-4.40995454788208,-6.6655120849609375,-6.552917957305908,13.370183944702148,-0.32624998688697815,-3.767709732055664,12.970602989196777,-3.3481757640838623,14.841448783874512,-3.5125529766082764,-6.434300422668457,-4.403963565826416,-6.576443672180176,-6.40848970413208,-6.75089168548584,-6.725460052490234,-3.39414381980896,-3.406587839126587,14.13854694366455,14.483784675598145,-3.368915319442749,14.018807411193848,12.986322402954102,13.339426040649414,-0.328202486038208,12.984766960144043,14.250035285949707,-6.743328094482422,-4.362037658691406,-1.3079761266708374,0.6690042018890381,1.3756157159805298,-3.422590494155884,13.31019401550293,-2.9424662590026855,1.7048892974853516,-3.0836122035980225,13.953768730163574,14.25082778930664,-6.648101806640625,13.92455005645752,-2.7292542457580566,15.669159889221191,-4.726595401763916,1.3537015914916992,13.373830795288086],\"yaxis\":\"y\",\"type\":\"scattergl\"},{\"hovertemplate\":\"label=Rubbing hands\\u003cbr\\u003esample=resample\\u003cbr\\u003eemb1=%{x}\\u003cbr\\u003eemb2=%{y}\\u003cextra\\u003e\\u003c\\u002fextra\\u003e\",\"legendgroup\":\"Rubbing hands\",\"marker\":{\"color\":\"#FFA15A\",\"symbol\":\"circle\"},\"mode\":\"markers\",\"name\":\"Rubbing hands\",\"showlegend\":false,\"x\":[-8.227861404418945,-4.9678263664245605],\"xaxis\":\"x2\",\"y\":[-9.92795181274414,-4.403963565826416],\"yaxis\":\"y2\",\"type\":\"scattergl\"},{\"hovertemplate\":\"label=Rubbing hands+Scratching body\\u003cbr\\u003esample=all\\u003cbr\\u003eemb1=%{x}\\u003cbr\\u003eemb2=%{y}\\u003cextra\\u003e\\u003c\\u002fextra\\u003e\",\"legendgroup\":\"Rubbing hands+Scratching body\",\"marker\":{\"color\":\"#19d3f3\",\"symbol\":\"circle\"},\"mode\":\"markers\",\"name\":\"Rubbing hands+Scratching body\",\"showlegend\":true,\"x\":[-5.22119140625,-5.222817420959473],\"xaxis\":\"x\",\"y\":[5.024954795837402,5.027775764465332],\"yaxis\":\"y\",\"type\":\"scattergl\"},{\"hovertemplate\":\"label=Rubbing hands+Scratching body\\u003cbr\\u003esample=resample\\u003cbr\\u003eemb1=%{x}\\u003cbr\\u003eemb2=%{y}\\u003cextra\\u003e\\u003c\\u002fextra\\u003e\",\"legendgroup\":\"Rubbing hands+Scratching body\",\"marker\":{\"color\":\"#19d3f3\",\"symbol\":\"circle\"},\"mode\":\"markers\",\"name\":\"Rubbing hands+Scratching body\",\"showlegend\":false,\"x\":[-5.222817420959473],\"xaxis\":\"x2\",\"y\":[5.027775764465332],\"yaxis\":\"y2\",\"type\":\"scattergl\"},{\"hovertemplate\":\"label=Rubbing hands+Scratching neck\\u003cbr\\u003esample=all\\u003cbr\\u003eemb1=%{x}\\u003cbr\\u003eemb2=%{y}\\u003cextra\\u003e\\u003c\\u002fextra\\u003e\",\"legendgroup\":\"Rubbing hands+Scratching neck\",\"marker\":{\"color\":\"#FF6692\",\"symbol\":\"circle\"},\"mode\":\"markers\",\"name\":\"Rubbing hands+Scratching neck\",\"showlegend\":true,\"x\":[12.483272552490234],\"xaxis\":\"x\",\"y\":[-6.463971138000488],\"yaxis\":\"y\",\"type\":\"scattergl\"},{\"hovertemplate\":\"label=Rubbing hands+Scratching neck\\u003cbr\\u003esample=resample\\u003cbr\\u003eemb1=%{x}\\u003cbr\\u003eemb2=%{y}\\u003cextra\\u003e\\u003c\\u002fextra\\u003e\",\"legendgroup\":\"Rubbing hands+Scratching neck\",\"marker\":{\"color\":\"#FF6692\",\"symbol\":\"circle\"},\"mode\":\"markers\",\"name\":\"Rubbing hands+Scratching neck\",\"showlegend\":false,\"x\":[12.483272552490234],\"xaxis\":\"x2\",\"y\":[-6.463971138000488],\"yaxis\":\"y2\",\"type\":\"scattergl\"},{\"hovertemplate\":\"label=Rubbing hands+Touching face\\u003cbr\\u003esample=all\\u003cbr\\u003eemb1=%{x}\\u003cbr\\u003eemb2=%{y}\\u003cextra\\u003e\\u003c\\u002fextra\\u003e\",\"legendgroup\":\"Rubbing hands+Touching face\",\"marker\":{\"color\":\"#B6E880\",\"symbol\":\"circle\"},\"mode\":\"markers\",\"name\":\"Rubbing hands+Touching face\",\"showlegend\":true,\"x\":[-10.392549514770508,-11.762615203857422,-11.778825759887695,12.442575454711914,-11.792293548583984,8.437763214111328,12.636581420898438,8.444279670715332,-11.473226547241211,-5.437018394470215,-11.486177444458008,8.399683952331543,-11.514669418334961,-11.478055953979492,-11.781126976013184,-11.78125,-10.394189834594727,-10.43380355834961,11.993512153625488,-11.688673973083496,-11.736347198486328,-11.477375984191895,8.439537048339844,-11.778454780578613,-11.482772827148438,9.112603187561035],\"xaxis\":\"x\",\"y\":[0.6469296813011169,16.752628326416016,16.76841163635254,-6.48820161819458,16.782020568847656,-0.06458887457847595,-6.339238166809082,-0.0596083365380764,16.473220825195312,-2.7147908210754395,16.48668098449707,-0.09442704170942307,16.513694763183594,16.478103637695312,16.771472930908203,16.770925521850586,0.6489755511283875,0.685470461845398,-6.988623142242432,16.680788040161133,16.72654914855957,16.477266311645508,-0.06307234615087509,16.768245697021484,16.482664108276367,-3.667473077774048],\"yaxis\":\"y\",\"type\":\"scattergl\"},{\"hovertemplate\":\"label=Rubbing hands+Touching face\\u003cbr\\u003esample=resample\\u003cbr\\u003eemb1=%{x}\\u003cbr\\u003eemb2=%{y}\\u003cextra\\u003e\\u003c\\u002fextra\\u003e\",\"legendgroup\":\"Rubbing hands+Touching face\",\"marker\":{\"color\":\"#B6E880\",\"symbol\":\"circle\"},\"mode\":\"markers\",\"name\":\"Rubbing hands+Touching face\",\"showlegend\":false,\"x\":[-11.736347198486328],\"xaxis\":\"x2\",\"y\":[16.72654914855957],\"yaxis\":\"y2\",\"type\":\"scattergl\"},{\"hovertemplate\":\"label=Rubbing hands+Turtling neck\\u003cbr\\u003esample=all\\u003cbr\\u003eemb1=%{x}\\u003cbr\\u003eemb2=%{y}\\u003cextra\\u003e\\u003c\\u002fextra\\u003e\",\"legendgroup\":\"Rubbing hands+Turtling neck\",\"marker\":{\"color\":\"#FF97FF\",\"symbol\":\"circle\"},\"mode\":\"markers\",\"name\":\"Rubbing hands+Turtling neck\",\"showlegend\":true,\"x\":[-8.52790641784668,-8.251540184020996,-8.526915550231934,-8.833357810974121,-11.585617065429688,-10.644305229187012],\"xaxis\":\"x\",\"y\":[-1.2656179666519165,-9.950986862182617,-1.2654249668121338,-0.2525894343852997,9.538435935974121,9.644437789916992],\"yaxis\":\"y\",\"type\":\"scattergl\"},{\"hovertemplate\":\"label=Rubbing hands+Turtling neck\\u003cbr\\u003esample=resample\\u003cbr\\u003eemb1=%{x}\\u003cbr\\u003eemb2=%{y}\\u003cextra\\u003e\\u003c\\u002fextra\\u003e\",\"legendgroup\":\"Rubbing hands+Turtling neck\",\"marker\":{\"color\":\"#FF97FF\",\"symbol\":\"circle\"},\"mode\":\"markers\",\"name\":\"Rubbing hands+Turtling neck\",\"showlegend\":false,\"x\":[-8.251540184020996],\"xaxis\":\"x2\",\"y\":[-9.950986862182617],\"yaxis\":\"y2\",\"type\":\"scattergl\"},{\"hovertemplate\":\"label=Scratching body\\u003cbr\\u003esample=all\\u003cbr\\u003eemb1=%{x}\\u003cbr\\u003eemb2=%{y}\\u003cextra\\u003e\\u003c\\u002fextra\\u003e\",\"legendgroup\":\"Scratching body\",\"marker\":{\"color\":\"#FECB52\",\"symbol\":\"circle\"},\"mode\":\"markers\",\"name\":\"Scratching body\",\"showlegend\":true,\"x\":[-5.195867538452148,-5.237300872802734,-6.560380935668945,-6.5747833251953125],\"xaxis\":\"x\",\"y\":[5.001715183258057,5.035369873046875,15.120287895202637,15.110788345336914],\"yaxis\":\"y\",\"type\":\"scattergl\"},{\"hovertemplate\":\"label=Scratching body\\u003cbr\\u003esample=resample\\u003cbr\\u003eemb1=%{x}\\u003cbr\\u003eemb2=%{y}\\u003cextra\\u003e\\u003c\\u002fextra\\u003e\",\"legendgroup\":\"Scratching body\",\"marker\":{\"color\":\"#FECB52\",\"symbol\":\"circle\"},\"mode\":\"markers\",\"name\":\"Scratching body\",\"showlegend\":false,\"x\":[-5.195867538452148],\"xaxis\":\"x2\",\"y\":[5.001715183258057],\"yaxis\":\"y2\",\"type\":\"scattergl\"},{\"hovertemplate\":\"label=Scratching body+Touching face\\u003cbr\\u003esample=all\\u003cbr\\u003eemb1=%{x}\\u003cbr\\u003eemb2=%{y}\\u003cextra\\u003e\\u003c\\u002fextra\\u003e\",\"legendgroup\":\"Scratching body+Touching face\",\"marker\":{\"color\":\"#636efa\",\"symbol\":\"circle\"},\"mode\":\"markers\",\"name\":\"Scratching body+Touching face\",\"showlegend\":true,\"x\":[-0.025432009249925613],\"xaxis\":\"x\",\"y\":[3.8296573162078857],\"yaxis\":\"y\",\"type\":\"scattergl\"},{\"hovertemplate\":\"label=Scratching body+Touching face\\u003cbr\\u003esample=resample\\u003cbr\\u003eemb1=%{x}\\u003cbr\\u003eemb2=%{y}\\u003cextra\\u003e\\u003c\\u002fextra\\u003e\",\"legendgroup\":\"Scratching body+Touching face\",\"marker\":{\"color\":\"#636efa\",\"symbol\":\"circle\"},\"mode\":\"markers\",\"name\":\"Scratching body+Touching face\",\"showlegend\":false,\"x\":[-0.025432009249925613],\"xaxis\":\"x2\",\"y\":[3.8296573162078857],\"yaxis\":\"y2\",\"type\":\"scattergl\"},{\"hovertemplate\":\"label=Scratching body+Touching nose\\u003cbr\\u003esample=all\\u003cbr\\u003eemb1=%{x}\\u003cbr\\u003eemb2=%{y}\\u003cextra\\u003e\\u003c\\u002fextra\\u003e\",\"legendgroup\":\"Scratching body+Touching nose\",\"marker\":{\"color\":\"#EF553B\",\"symbol\":\"circle\"},\"mode\":\"markers\",\"name\":\"Scratching body+Touching nose\",\"showlegend\":true,\"x\":[15.796056747436523],\"xaxis\":\"x\",\"y\":[-0.27779603004455566],\"yaxis\":\"y\",\"type\":\"scattergl\"},{\"hovertemplate\":\"label=Scratching body+Touching nose\\u003cbr\\u003esample=resample\\u003cbr\\u003eemb1=%{x}\\u003cbr\\u003eemb2=%{y}\\u003cextra\\u003e\\u003c\\u002fextra\\u003e\",\"legendgroup\":\"Scratching body+Touching nose\",\"marker\":{\"color\":\"#EF553B\",\"symbol\":\"circle\"},\"mode\":\"markers\",\"name\":\"Scratching body+Touching nose\",\"showlegend\":false,\"x\":[15.796056747436523],\"xaxis\":\"x2\",\"y\":[-0.27779603004455566],\"yaxis\":\"y2\",\"type\":\"scattergl\"},{\"hovertemplate\":\"label=Scratching neck\\u003cbr\\u003esample=all\\u003cbr\\u003eemb1=%{x}\\u003cbr\\u003eemb2=%{y}\\u003cextra\\u003e\\u003c\\u002fextra\\u003e\",\"legendgroup\":\"Scratching neck\",\"marker\":{\"color\":\"#00cc96\",\"symbol\":\"circle\"},\"mode\":\"markers\",\"name\":\"Scratching neck\",\"showlegend\":true,\"x\":[4.745279788970947,4.730208396911621,-1.1790897846221924,4.731368541717529,18.65323257446289,16.390857696533203,4.654027938842773,4.591468811035156,4.7212042808532715,18.638477325439453,18.65432357788086,18.654888153076172,4.593691349029541,4.724740982055664,13.350685119628906,18.654813766479492,4.769721984863281,4.784695148468018,4.930220127105713,4.571908950805664,18.65552520751953,4.929715156555176,4.5705342292785645,4.55620813369751,16.386314392089844,-2.2086341381073],\"xaxis\":\"x\",\"y\":[-12.395197868347168,-12.422481536865234,21.176332473754883,-12.410300254821777,3.719834089279175,10.298169136047363,-12.490927696228027,-12.546758651733398,-12.417774200439453,3.704972505569458,3.720985174179077,3.7232906818389893,-12.545758247375488,-12.416178703308105,11.463082313537598,3.721412181854248,-12.377315521240234,-12.3999605178833,-12.380231857299805,-12.568950653076172,3.7220356464385986,-12.379928588867188,-12.570533752441406,-12.584867477416992,10.302247047424316,18.091556549072266],\"yaxis\":\"y\",\"type\":\"scattergl\"},{\"hovertemplate\":\"label=Scratching neck\\u003cbr\\u003esample=resample\\u003cbr\\u003eemb1=%{x}\\u003cbr\\u003eemb2=%{y}\\u003cextra\\u003e\\u003c\\u002fextra\\u003e\",\"legendgroup\":\"Scratching neck\",\"marker\":{\"color\":\"#00cc96\",\"symbol\":\"circle\"},\"mode\":\"markers\",\"name\":\"Scratching neck\",\"showlegend\":false,\"x\":[16.390857696533203,4.654027938842773],\"xaxis\":\"x2\",\"y\":[10.298169136047363,-12.490927696228027],\"yaxis\":\"y2\",\"type\":\"scattergl\"},{\"hovertemplate\":\"label=Scratching neck+Touching face\\u003cbr\\u003esample=all\\u003cbr\\u003eemb1=%{x}\\u003cbr\\u003eemb2=%{y}\\u003cextra\\u003e\\u003c\\u002fextra\\u003e\",\"legendgroup\":\"Scratching neck+Touching face\",\"marker\":{\"color\":\"#ab63fa\",\"symbol\":\"circle\"},\"mode\":\"markers\",\"name\":\"Scratching neck+Touching face\",\"showlegend\":true,\"x\":[13.348325729370117,5.788411617279053,-2.4503350257873535,4.592978477478027,4.750990390777588],\"xaxis\":\"x\",\"y\":[11.463213920593262,-7.646784782409668,17.87268829345703,-12.535125732421875,-9.966231346130371],\"yaxis\":\"y\",\"type\":\"scattergl\"},{\"hovertemplate\":\"label=Scratching neck+Touching face\\u003cbr\\u003esample=resample\\u003cbr\\u003eemb1=%{x}\\u003cbr\\u003eemb2=%{y}\\u003cextra\\u003e\\u003c\\u002fextra\\u003e\",\"legendgroup\":\"Scratching neck+Touching face\",\"marker\":{\"color\":\"#ab63fa\",\"symbol\":\"circle\"},\"mode\":\"markers\",\"name\":\"Scratching neck+Touching face\",\"showlegend\":false,\"x\":[13.348325729370117],\"xaxis\":\"x2\",\"y\":[11.463213920593262],\"yaxis\":\"y2\",\"type\":\"scattergl\"},{\"hovertemplate\":\"label=Touching face\\u003cbr\\u003esample=all\\u003cbr\\u003eemb1=%{x}\\u003cbr\\u003eemb2=%{y}\\u003cextra\\u003e\\u003c\\u002fextra\\u003e\",\"legendgroup\":\"Touching face\",\"marker\":{\"color\":\"#FFA15A\",\"symbol\":\"circle\"},\"mode\":\"markers\",\"name\":\"Touching face\",\"showlegend\":true,\"x\":[13.288546562194824,5.792403221130371,9.022468566894531,10.710281372070312,13.2876615524292,-11.738211631774902,5.79015588760376,9.037759780883789,3.5068953037261963,13.262659072875977,3.515887498855591,-12.18276596069336,-1.9457049369812012,8.173620223999023,13.344582557678223,3.135915756225586,3.1186580657958984,-5.974102020263672,8.175908088684082,8.208587646484375,4.618561267852783,10.68871784210205,5.790942668914795,10.715103149414062,-12.196721076965332,1.496224284172058,10.132247924804688,-12.191240310668945,7.432753086090088,-12.209399223327637,-16.46848487854004,-11.8858642578125,-1.1770541667938232,-16.49434471130371,-16.491403579711914,-1.1669995784759521,11.044475555419922,10.142574310302734,-16.489381790161133,-16.488155364990234,-12.191900253295898,13.3336820602417,13.285507202148438,-3.562833070755005,8.916536331176758,-3.539334297180176,-3.570438861846924,-3.5845983028411865,8.181818008422852,-12.206808090209961,10.862890243530273,12.565814971923828,-11.70544147491455,-3.571418523788452,5.777287006378174,13.28683853149414,13.28614616394043,9.255979537963867,1.5415623188018799,13.245418548583984,9.321639060974121,9.004134178161621,8.98713493347168,9.319368362426758,9.153182029724121,10.868285179138184,9.119385719299316,10.696264266967773,9.285696029663086,13.310646057128906,13.302494049072266,3.5346405506134033,3.53701114654541,9.167380332946777,3.258727550506592,9.03396224975586,10.872550964355469,3.4808664321899414,9.303138732910156,9.167694091796875,10.862852096557617,9.286689758300781,9.324501037597656,3.4959299564361572,9.120616912841797,8.958953857421875,13.260913848876953,7.526207447052002,9.008191108703613,8.648900032043457,9.168282508850098,3.518733501434326,3.539106607437134,9.16242504119873,3.520702600479126,9.23606014251709,9.070837020874023,8.96549129486084,12.719849586486816,9.181333541870117,13.302488327026367,13.25440788269043,3.28070330619812,9.069198608398438,9.2937650680542,13.258070945739746,9.27961254119873,9.03483772277832,3.537069082260132,8.173932075500488,9.173181533813477,9.162493705749512,10.680081367492676,3.120871067047119,7.431408405303955,10.145665168762207,9.096858978271484,3.407381534576416,10.686175346374512,-12.191404342651367,9.081582069396973,5.788626194000244,10.6898775100708,-1.1889147758483887,9.147012710571289,13.325444221496582,5.790877819061279,5.808823108673096,5.800059795379639,4.598765850067139,10.110942840576172,8.532604217529297,10.102729797363281,1.5659805536270142,9.105180740356445,7.432211399078369,9.269953727722168,9.2838134765625,9.257697105407715,-12.62013053894043,8.185588836669922,9.27016830444336,9.135128021240234,8.23762035369873,-12.183380126953125,10.098470687866211,9.120454788208008,9.260881423950195,3.1247596740722656,8.16907787322998],\"xaxis\":\"x\",\"y\":[12.02574348449707,-7.6499762535095215,-3.3333632946014404,12.624143600463867,12.019844055175781,-2.135132312774658,-7.647613048553467,-3.330162286758423,-5.854034423828125,11.933451652526855,-5.850433349609375,10.28198528289795,-1.3128710985183716,-3.068032741546631,11.467432975769043,-6.006973743438721,-6.03103494644165,7.353309631347656,-3.066366195678711,-3.0879642963409424,-12.509563446044922,12.602283477783203,-7.648406505584717,12.634387969970703,-2.5270028114318848,0.2155863493680954,1.7745834589004517,-2.522536039352417,-7.214359283447266,-2.5376646518707275,5.426290035247803,-2.269141674041748,-3.6129112243652344,5.451501846313477,5.448697090148926,-3.6191537380218506,17.80579376220703,1.7784743309020996,5.44789981842041,5.445923328399658,-2.522993564605713,11.477042198181152,12.005447387695312,14.375935554504395,-2.1587817668914795,11.949234008789062,14.3670015335083,14.35290241241455,-3.031353712081909,-2.5357346534729004,12.811060905456543,-6.405344486236572,-2.1034562587738037,14.365906715393066,-7.64007568359375,12.010743141174316,12.007648468017578,-2.782900094985962,0.25223636627197266,11.566754341125488,-2.6070122718811035,-3.3408055305480957,-3.307802438735962,-2.6113662719726562,-2.44870662689209,12.80566692352295,-3.7127983570098877,12.611863136291504,-2.677020311355591,11.49803638458252,11.505387306213379,-5.866033554077148,-5.896430015563965,-2.1095635890960693,-5.8764967918396,-3.3568460941314697,12.822992324829102,-5.850642681121826,-2.624602794647217,-2.088552474975586,12.812063217163086,-2.498091459274292,-2.576786994934082,-5.854400634765625,-3.7108564376831055,-2.2190027236938477,11.553345680236816,-1.8717983961105347,-2.2685530185699463,6.6176676750183105,-2.115018606185913,-5.881260871887207,-5.903587818145752,-3.0141544342041016,-5.882542133331299,-4.1021575927734375,-3.4871132373809814,-2.204923152923584,-3.3097128868103027,-2.1522586345672607,11.506412506103516,11.60435676574707,-5.868969917297363,-2.3387296199798584,-2.5750555992126465,11.556278228759766,-2.6482934951782227,-3.3099770545959473,-5.8840107917785645,-3.0654232501983643,-2.133443593978882,-2.110367774963379,12.590275764465332,-6.031956672668457,-7.214874267578125,1.7755143642425537,-2.35937237739563,-5.843140125274658,12.599462509155273,10.273725509643555,-2.373673439025879,-7.647405624389648,12.603317260742188,21.166528701782227,-2.126770496368408,11.486626625061035,-7.64963960647583,-7.668173789978027,-7.655421257019043,-12.530771255493164,1.765994668006897,16.590805053710938,1.7639262676239014,0.27614080905914307,-2.377617359161377,-7.213505268096924,-2.51501727104187,-2.6179161071777344,-2.6350769996643066,14.841994285583496,-3.0617663860321045,-2.624556303024292,-2.123507022857666,-3.0746023654937744,10.2810697555542,1.7521964311599731,-3.700103282928467,-2.715202569961548,-6.03513240814209,-3.065861463546753],\"yaxis\":\"y\",\"type\":\"scattergl\"},{\"hovertemplate\":\"label=Touching face\\u003cbr\\u003esample=resample\\u003cbr\\u003eemb1=%{x}\\u003cbr\\u003eemb2=%{y}\\u003cextra\\u003e\\u003c\\u002fextra\\u003e\",\"legendgroup\":\"Touching face\",\"marker\":{\"color\":\"#FFA15A\",\"symbol\":\"circle\"},\"mode\":\"markers\",\"name\":\"Touching face\",\"showlegend\":false,\"x\":[11.044475555419922,-1.1669995784759521,-16.46848487854004,9.004134178161621],\"xaxis\":\"x2\",\"y\":[17.80579376220703,-3.6191537380218506,5.426290035247803,-3.3408055305480957],\"yaxis\":\"y2\",\"type\":\"scattergl\"},{\"hovertemplate\":\"label=Touching nose\\u003cbr\\u003esample=all\\u003cbr\\u003eemb1=%{x}\\u003cbr\\u003eemb2=%{y}\\u003cextra\\u003e\\u003c\\u002fextra\\u003e\",\"legendgroup\":\"Touching nose\",\"marker\":{\"color\":\"#19d3f3\",\"symbol\":\"circle\"},\"mode\":\"markers\",\"name\":\"Touching nose\",\"showlegend\":true,\"x\":[15.676451683044434,15.751355171203613,15.67851448059082,15.757322311401367,15.711359024047852,15.747797966003418],\"xaxis\":\"x\",\"y\":[-0.4059370160102844,-0.32523563504219055,-0.403178870677948,-0.31876489520072937,-0.3675648272037506,-0.3311096429824829],\"yaxis\":\"y\",\"type\":\"scattergl\"},{\"hovertemplate\":\"label=Touching nose\\u003cbr\\u003esample=resample\\u003cbr\\u003eemb1=%{x}\\u003cbr\\u003eemb2=%{y}\\u003cextra\\u003e\\u003c\\u002fextra\\u003e\",\"legendgroup\":\"Touching nose\",\"marker\":{\"color\":\"#19d3f3\",\"symbol\":\"circle\"},\"mode\":\"markers\",\"name\":\"Touching nose\",\"showlegend\":false,\"x\":[15.711359024047852],\"xaxis\":\"x2\",\"y\":[-0.3675648272037506],\"yaxis\":\"y2\",\"type\":\"scattergl\"},{\"hovertemplate\":\"label=Turtling neck\\u003cbr\\u003esample=all\\u003cbr\\u003eemb1=%{x}\\u003cbr\\u003eemb2=%{y}\\u003cextra\\u003e\\u003c\\u002fextra\\u003e\",\"legendgroup\":\"Turtling neck\",\"marker\":{\"color\":\"#FF6692\",\"symbol\":\"circle\"},\"mode\":\"markers\",\"name\":\"Turtling neck\",\"showlegend\":true,\"x\":[-11.309499740600586,1.7666091918945312,-10.709580421447754,-13.093759536743164,-11.30919361114502,-13.082621574401855,-6.131758689880371,-13.098848342895508,-13.096868515014648,-11.62458324432373,-3.029575824737549,-13.111299514770508,-13.097521781921387,7.3748250007629395,-0.43542784452438354,1.7668218612670898,-3.0880320072174072,-3.0209858417510986,-0.4369528591632843,-11.30938720703125,1.7667478322982788,-13.095598220825195,-13.05843734741211,-0.4371207058429718,-13.09768009185791,-13.09406852722168,-0.44047924876213074,-13.073790550231934,-13.113938331604004,-13.093998908996582,1.7662020921707153,-11.308941841125488,-6.525815010070801],\"xaxis\":\"x\",\"y\":[-3.9122965335845947,1.5719568729400635,9.602555274963379,12.815156936645508,-3.911698579788208,12.795494079589844,20.368385314941406,12.821381568908691,12.819437980651855,9.499713897705078,-4.385093688964844,12.83542537689209,12.82165241241455,-1.845507025718689,10.500870704650879,1.572209119796753,-4.442532539367676,-4.377688407897949,10.498061180114746,-3.912269115447998,1.5721789598464966,12.81946849822998,12.775943756103516,10.49853801727295,12.822487831115723,12.818663597106934,10.495915412902832,12.78904914855957,12.839448928833008,12.818808555603027,1.5722483396530151,-3.912947416305542,15.139400482177734],\"yaxis\":\"y\",\"type\":\"scattergl\"},{\"hovertemplate\":\"label=Turtling neck\\u003cbr\\u003esample=resample\\u003cbr\\u003eemb1=%{x}\\u003cbr\\u003eemb2=%{y}\\u003cextra\\u003e\\u003c\\u002fextra\\u003e\",\"legendgroup\":\"Turtling neck\",\"marker\":{\"color\":\"#FF6692\",\"symbol\":\"circle\"},\"mode\":\"markers\",\"name\":\"Turtling neck\",\"showlegend\":false,\"x\":[-3.0209858417510986,-11.62458324432373],\"xaxis\":\"x2\",\"y\":[-4.377688407897949,9.499713897705078],\"yaxis\":\"y2\",\"type\":\"scattergl\"}],                        {\"template\":{\"data\":{\"histogram2dcontour\":[{\"type\":\"histogram2dcontour\",\"colorbar\":{\"outlinewidth\":0,\"ticks\":\"\"},\"colorscale\":[[0.0,\"#0d0887\"],[0.1111111111111111,\"#46039f\"],[0.2222222222222222,\"#7201a8\"],[0.3333333333333333,\"#9c179e\"],[0.4444444444444444,\"#bd3786\"],[0.5555555555555556,\"#d8576b\"],[0.6666666666666666,\"#ed7953\"],[0.7777777777777778,\"#fb9f3a\"],[0.8888888888888888,\"#fdca26\"],[1.0,\"#f0f921\"]]}],\"choropleth\":[{\"type\":\"choropleth\",\"colorbar\":{\"outlinewidth\":0,\"ticks\":\"\"}}],\"histogram2d\":[{\"type\":\"histogram2d\",\"colorbar\":{\"outlinewidth\":0,\"ticks\":\"\"},\"colorscale\":[[0.0,\"#0d0887\"],[0.1111111111111111,\"#46039f\"],[0.2222222222222222,\"#7201a8\"],[0.3333333333333333,\"#9c179e\"],[0.4444444444444444,\"#bd3786\"],[0.5555555555555556,\"#d8576b\"],[0.6666666666666666,\"#ed7953\"],[0.7777777777777778,\"#fb9f3a\"],[0.8888888888888888,\"#fdca26\"],[1.0,\"#f0f921\"]]}],\"heatmap\":[{\"type\":\"heatmap\",\"colorbar\":{\"outlinewidth\":0,\"ticks\":\"\"},\"colorscale\":[[0.0,\"#0d0887\"],[0.1111111111111111,\"#46039f\"],[0.2222222222222222,\"#7201a8\"],[0.3333333333333333,\"#9c179e\"],[0.4444444444444444,\"#bd3786\"],[0.5555555555555556,\"#d8576b\"],[0.6666666666666666,\"#ed7953\"],[0.7777777777777778,\"#fb9f3a\"],[0.8888888888888888,\"#fdca26\"],[1.0,\"#f0f921\"]]}],\"heatmapgl\":[{\"type\":\"heatmapgl\",\"colorbar\":{\"outlinewidth\":0,\"ticks\":\"\"},\"colorscale\":[[0.0,\"#0d0887\"],[0.1111111111111111,\"#46039f\"],[0.2222222222222222,\"#7201a8\"],[0.3333333333333333,\"#9c179e\"],[0.4444444444444444,\"#bd3786\"],[0.5555555555555556,\"#d8576b\"],[0.6666666666666666,\"#ed7953\"],[0.7777777777777778,\"#fb9f3a\"],[0.8888888888888888,\"#fdca26\"],[1.0,\"#f0f921\"]]}],\"contourcarpet\":[{\"type\":\"contourcarpet\",\"colorbar\":{\"outlinewidth\":0,\"ticks\":\"\"}}],\"contour\":[{\"type\":\"contour\",\"colorbar\":{\"outlinewidth\":0,\"ticks\":\"\"},\"colorscale\":[[0.0,\"#0d0887\"],[0.1111111111111111,\"#46039f\"],[0.2222222222222222,\"#7201a8\"],[0.3333333333333333,\"#9c179e\"],[0.4444444444444444,\"#bd3786\"],[0.5555555555555556,\"#d8576b\"],[0.6666666666666666,\"#ed7953\"],[0.7777777777777778,\"#fb9f3a\"],[0.8888888888888888,\"#fdca26\"],[1.0,\"#f0f921\"]]}],\"surface\":[{\"type\":\"surface\",\"colorbar\":{\"outlinewidth\":0,\"ticks\":\"\"},\"colorscale\":[[0.0,\"#0d0887\"],[0.1111111111111111,\"#46039f\"],[0.2222222222222222,\"#7201a8\"],[0.3333333333333333,\"#9c179e\"],[0.4444444444444444,\"#bd3786\"],[0.5555555555555556,\"#d8576b\"],[0.6666666666666666,\"#ed7953\"],[0.7777777777777778,\"#fb9f3a\"],[0.8888888888888888,\"#fdca26\"],[1.0,\"#f0f921\"]]}],\"mesh3d\":[{\"type\":\"mesh3d\",\"colorbar\":{\"outlinewidth\":0,\"ticks\":\"\"}}],\"scatter\":[{\"marker\":{\"line\":{\"color\":\"#283442\"}},\"type\":\"scatter\"}],\"parcoords\":[{\"type\":\"parcoords\",\"line\":{\"colorbar\":{\"outlinewidth\":0,\"ticks\":\"\"}}}],\"scatterpolargl\":[{\"type\":\"scatterpolargl\",\"marker\":{\"colorbar\":{\"outlinewidth\":0,\"ticks\":\"\"}}}],\"bar\":[{\"error_x\":{\"color\":\"#f2f5fa\"},\"error_y\":{\"color\":\"#f2f5fa\"},\"marker\":{\"line\":{\"color\":\"rgb(17,17,17)\",\"width\":0.5},\"pattern\":{\"fillmode\":\"overlay\",\"size\":10,\"solidity\":0.2}},\"type\":\"bar\"}],\"scattergeo\":[{\"type\":\"scattergeo\",\"marker\":{\"colorbar\":{\"outlinewidth\":0,\"ticks\":\"\"}}}],\"scatterpolar\":[{\"type\":\"scatterpolar\",\"marker\":{\"colorbar\":{\"outlinewidth\":0,\"ticks\":\"\"}}}],\"histogram\":[{\"marker\":{\"pattern\":{\"fillmode\":\"overlay\",\"size\":10,\"solidity\":0.2}},\"type\":\"histogram\"}],\"scattergl\":[{\"marker\":{\"line\":{\"color\":\"#283442\"}},\"type\":\"scattergl\"}],\"scatter3d\":[{\"type\":\"scatter3d\",\"line\":{\"colorbar\":{\"outlinewidth\":0,\"ticks\":\"\"}},\"marker\":{\"colorbar\":{\"outlinewidth\":0,\"ticks\":\"\"}}}],\"scattermapbox\":[{\"type\":\"scattermapbox\",\"marker\":{\"colorbar\":{\"outlinewidth\":0,\"ticks\":\"\"}}}],\"scatterternary\":[{\"type\":\"scatterternary\",\"marker\":{\"colorbar\":{\"outlinewidth\":0,\"ticks\":\"\"}}}],\"scattercarpet\":[{\"type\":\"scattercarpet\",\"marker\":{\"colorbar\":{\"outlinewidth\":0,\"ticks\":\"\"}}}],\"carpet\":[{\"aaxis\":{\"endlinecolor\":\"#A2B1C6\",\"gridcolor\":\"#506784\",\"linecolor\":\"#506784\",\"minorgridcolor\":\"#506784\",\"startlinecolor\":\"#A2B1C6\"},\"baxis\":{\"endlinecolor\":\"#A2B1C6\",\"gridcolor\":\"#506784\",\"linecolor\":\"#506784\",\"minorgridcolor\":\"#506784\",\"startlinecolor\":\"#A2B1C6\"},\"type\":\"carpet\"}],\"table\":[{\"cells\":{\"fill\":{\"color\":\"#506784\"},\"line\":{\"color\":\"rgb(17,17,17)\"}},\"header\":{\"fill\":{\"color\":\"#2a3f5f\"},\"line\":{\"color\":\"rgb(17,17,17)\"}},\"type\":\"table\"}],\"barpolar\":[{\"marker\":{\"line\":{\"color\":\"rgb(17,17,17)\",\"width\":0.5},\"pattern\":{\"fillmode\":\"overlay\",\"size\":10,\"solidity\":0.2}},\"type\":\"barpolar\"}],\"pie\":[{\"automargin\":true,\"type\":\"pie\"}]},\"layout\":{\"autotypenumbers\":\"strict\",\"colorway\":[\"#636efa\",\"#EF553B\",\"#00cc96\",\"#ab63fa\",\"#FFA15A\",\"#19d3f3\",\"#FF6692\",\"#B6E880\",\"#FF97FF\",\"#FECB52\"],\"font\":{\"color\":\"#f2f5fa\"},\"hovermode\":\"closest\",\"hoverlabel\":{\"align\":\"left\"},\"paper_bgcolor\":\"rgb(17,17,17)\",\"plot_bgcolor\":\"rgb(17,17,17)\",\"polar\":{\"bgcolor\":\"rgb(17,17,17)\",\"angularaxis\":{\"gridcolor\":\"#506784\",\"linecolor\":\"#506784\",\"ticks\":\"\"},\"radialaxis\":{\"gridcolor\":\"#506784\",\"linecolor\":\"#506784\",\"ticks\":\"\"}},\"ternary\":{\"bgcolor\":\"rgb(17,17,17)\",\"aaxis\":{\"gridcolor\":\"#506784\",\"linecolor\":\"#506784\",\"ticks\":\"\"},\"baxis\":{\"gridcolor\":\"#506784\",\"linecolor\":\"#506784\",\"ticks\":\"\"},\"caxis\":{\"gridcolor\":\"#506784\",\"linecolor\":\"#506784\",\"ticks\":\"\"}},\"coloraxis\":{\"colorbar\":{\"outlinewidth\":0,\"ticks\":\"\"}},\"colorscale\":{\"sequential\":[[0.0,\"#0d0887\"],[0.1111111111111111,\"#46039f\"],[0.2222222222222222,\"#7201a8\"],[0.3333333333333333,\"#9c179e\"],[0.4444444444444444,\"#bd3786\"],[0.5555555555555556,\"#d8576b\"],[0.6666666666666666,\"#ed7953\"],[0.7777777777777778,\"#fb9f3a\"],[0.8888888888888888,\"#fdca26\"],[1.0,\"#f0f921\"]],\"sequentialminus\":[[0.0,\"#0d0887\"],[0.1111111111111111,\"#46039f\"],[0.2222222222222222,\"#7201a8\"],[0.3333333333333333,\"#9c179e\"],[0.4444444444444444,\"#bd3786\"],[0.5555555555555556,\"#d8576b\"],[0.6666666666666666,\"#ed7953\"],[0.7777777777777778,\"#fb9f3a\"],[0.8888888888888888,\"#fdca26\"],[1.0,\"#f0f921\"]],\"diverging\":[[0,\"#8e0152\"],[0.1,\"#c51b7d\"],[0.2,\"#de77ae\"],[0.3,\"#f1b6da\"],[0.4,\"#fde0ef\"],[0.5,\"#f7f7f7\"],[0.6,\"#e6f5d0\"],[0.7,\"#b8e186\"],[0.8,\"#7fbc41\"],[0.9,\"#4d9221\"],[1,\"#276419\"]]},\"xaxis\":{\"gridcolor\":\"#283442\",\"linecolor\":\"#506784\",\"ticks\":\"\",\"title\":{\"standoff\":15},\"zerolinecolor\":\"#283442\",\"automargin\":true,\"zerolinewidth\":2},\"yaxis\":{\"gridcolor\":\"#283442\",\"linecolor\":\"#506784\",\"ticks\":\"\",\"title\":{\"standoff\":15},\"zerolinecolor\":\"#283442\",\"automargin\":true,\"zerolinewidth\":2},\"scene\":{\"xaxis\":{\"backgroundcolor\":\"rgb(17,17,17)\",\"gridcolor\":\"#506784\",\"linecolor\":\"#506784\",\"showbackground\":true,\"ticks\":\"\",\"zerolinecolor\":\"#C8D4E3\",\"gridwidth\":2},\"yaxis\":{\"backgroundcolor\":\"rgb(17,17,17)\",\"gridcolor\":\"#506784\",\"linecolor\":\"#506784\",\"showbackground\":true,\"ticks\":\"\",\"zerolinecolor\":\"#C8D4E3\",\"gridwidth\":2},\"zaxis\":{\"backgroundcolor\":\"rgb(17,17,17)\",\"gridcolor\":\"#506784\",\"linecolor\":\"#506784\",\"showbackground\":true,\"ticks\":\"\",\"zerolinecolor\":\"#C8D4E3\",\"gridwidth\":2}},\"shapedefaults\":{\"line\":{\"color\":\"#f2f5fa\"}},\"annotationdefaults\":{\"arrowcolor\":\"#f2f5fa\",\"arrowhead\":0,\"arrowwidth\":1},\"geo\":{\"bgcolor\":\"rgb(17,17,17)\",\"landcolor\":\"rgb(17,17,17)\",\"subunitcolor\":\"#506784\",\"showland\":true,\"showlakes\":true,\"lakecolor\":\"rgb(17,17,17)\"},\"title\":{\"x\":0.05},\"updatemenudefaults\":{\"bgcolor\":\"#506784\",\"borderwidth\":0},\"sliderdefaults\":{\"bgcolor\":\"#C8D4E3\",\"borderwidth\":1,\"bordercolor\":\"rgb(17,17,17)\",\"tickwidth\":0},\"mapbox\":{\"style\":\"dark\"}}},\"xaxis\":{\"anchor\":\"y\",\"domain\":[0.0,0.49],\"title\":{\"text\":\"emb1\"}},\"yaxis\":{\"anchor\":\"x\",\"domain\":[0.0,1.0],\"title\":{\"text\":\"emb2\"}},\"xaxis2\":{\"anchor\":\"y2\",\"domain\":[0.51,1.0],\"matches\":\"x\",\"title\":{\"text\":\"emb1\"}},\"yaxis2\":{\"anchor\":\"x2\",\"domain\":[0.0,1.0],\"matches\":\"y\",\"showticklabels\":false},\"annotations\":[{\"font\":{},\"showarrow\":false,\"text\":\"sample=all\",\"x\":0.245,\"xanchor\":\"center\",\"xref\":\"paper\",\"y\":1.0,\"yanchor\":\"bottom\",\"yref\":\"paper\"},{\"font\":{},\"showarrow\":false,\"text\":\"sample=resample\",\"x\":0.755,\"xanchor\":\"center\",\"xref\":\"paper\",\"y\":1.0,\"yanchor\":\"bottom\",\"yref\":\"paper\"}],\"legend\":{\"title\":{\"text\":\"label\"},\"tracegroupgap\":0},\"title\":{\"text\":\"Scatter plot of emb1 vs emb2 faceted by sample and colored by label\"},\"margin\":{\"l\":20,\"r\":20,\"t\":40,\"b\":20},\"height\":600,\"width\":1600},                        {\"responsive\": true}                    ).then(function(){\n                            \nvar gd = document.getElementById('3e8e5b16-d697-415c-84c2-108468b33609');\nvar x = new MutationObserver(function (mutations, observer) {{\n        var display = window.getComputedStyle(gd).display;\n        if (!display || display === 'none') {{\n            console.log([gd, 'removed!']);\n            Plotly.purge(gd);\n            observer.disconnect();\n        }}\n}});\n\n// Listen for the removal of the full notebook cells\nvar notebookContainer = gd.closest('#notebook-container');\nif (notebookContainer) {{\n    x.observe(notebookContainer, {childList: true});\n}}\n\n// Listen for the clearing of the current output cell\nvar outputEl = gd.closest('.output');\nif (outputEl) {{\n    x.observe(outputEl, {childList: true});\n}}\n\n                        })                };                });            </script>        </div>"
     },
     "metadata": {},
     "output_type": "display_data"
    }
   ],
   "source": [
    "def scatter_plot(df_all):\n",
    "# Create the scatter plot with Plotly Express\n",
    "    fig = px.scatter(\n",
    "        df_all, x='emb1', y='emb2',\n",
    "        facet_col='sample', color='label',\n",
    "        title='Scatter plot of emb1 vs emb2 faceted by sample and colored by label'\n",
    "    )\n",
    "    \n",
    "    # Update layout for better spacing between facets\n",
    "    fig.update_layout(margin=dict(l=20, r=20, t=40, b=20), height=600, width=1600)\n",
    "    \n",
    "    \n",
    "    # Show the plot\n",
    "    fig.show()\n",
    "scatter_plot(df_all)"
   ],
   "metadata": {
    "collapsed": false,
    "ExecuteTime": {
     "end_time": "2024-05-18T09:50:18.338708200Z",
     "start_time": "2024-05-18T09:50:17.772699500Z"
    }
   },
   "id": "4f5d0baa3ae594d5"
  },
  {
   "cell_type": "code",
   "execution_count": 115,
   "outputs": [],
   "source": [
    "# from collections import Counter\n",
    "# before = Counter([a[0] for a in y])\n",
    "# after = Counter([a for a in y_rus])\n",
    "# counts = {'before': before, 'after': after}\n",
    "# df_counters = pd.DataFrame.from_dict(counts)\n",
    "# df_counters.sort_index(inplace=True)\n",
    "# df_counters = df_counters.reset_index()\n",
    "# df_counters['label'] = df_counters['index'].apply(lambda x: ID2LABELS[x+1])\n",
    "# df_counters\n",
    "# df = pd.DataFrame(zip(embedding[:,0], embedding[:, 1], y_multihot), columns=['emb1', 'emb2', 'label'])\n",
    "# df['label'] = df['label'].apply(lambda x: ID2LABELS[x[0]+1])\n",
    "# df['sample'] = 'all'\n",
    "# df_sub = df.iloc[sample_inds,:].copy()\n",
    "# df_sub['sample'] = 'resample'\n",
    "# df_all = pd.concat([df, df_sub], axis=0)\n",
    "# sns.relplot(\n",
    "#     data=df_all, x=\"emb1\", y=\"emb2\",\n",
    "#     col=\"sample\", hue=\"label\",\n",
    "#     kind=\"scatter\"\n",
    "# )"
   ],
   "metadata": {
    "collapsed": false,
    "ExecuteTime": {
     "end_time": "2024-05-18T09:15:46.140565400Z",
     "start_time": "2024-05-18T09:15:46.123558400Z"
    }
   },
   "id": "ad69113b0adc299c"
  },
  {
   "cell_type": "code",
   "execution_count": 118,
   "outputs": [
    {
     "ename": "KeyError",
     "evalue": "25",
     "output_type": "error",
     "traceback": [
      "\u001B[1;31m---------------------------------------------------------------------------\u001B[0m",
      "\u001B[1;31mKeyError\u001B[0m                                  Traceback (most recent call last)",
      "Cell \u001B[1;32mIn[118], line 3\u001B[0m\n\u001B[0;32m      1\u001B[0m df \u001B[38;5;241m=\u001B[39m pd\u001B[38;5;241m.\u001B[39mDataFrame(\u001B[38;5;28mzip\u001B[39m(embedding[:,\u001B[38;5;241m0\u001B[39m], embedding[:, \u001B[38;5;241m1\u001B[39m], y), columns\u001B[38;5;241m=\u001B[39m[\u001B[38;5;124m'\u001B[39m\u001B[38;5;124memb1\u001B[39m\u001B[38;5;124m'\u001B[39m, \u001B[38;5;124m'\u001B[39m\u001B[38;5;124memb2\u001B[39m\u001B[38;5;124m'\u001B[39m, \u001B[38;5;124m'\u001B[39m\u001B[38;5;124mlabel\u001B[39m\u001B[38;5;124m'\u001B[39m])\n\u001B[0;32m      2\u001B[0m \u001B[38;5;66;03m# df['label'] = df['label'].apply(lambda x: ID2LABELS[x[0]+1])\u001B[39;00m\n\u001B[1;32m----> 3\u001B[0m df[\u001B[38;5;124m'\u001B[39m\u001B[38;5;124mlabel\u001B[39m\u001B[38;5;124m'\u001B[39m] \u001B[38;5;241m=\u001B[39m \u001B[43mdf\u001B[49m\u001B[43m[\u001B[49m\u001B[38;5;124;43m'\u001B[39;49m\u001B[38;5;124;43mlabel\u001B[39;49m\u001B[38;5;124;43m'\u001B[39;49m\u001B[43m]\u001B[49m\u001B[38;5;241;43m.\u001B[39;49m\u001B[43mapply\u001B[49m\u001B[43m(\u001B[49m\u001B[38;5;28;43;01mlambda\u001B[39;49;00m\u001B[43m \u001B[49m\u001B[43mx\u001B[49m\u001B[43m:\u001B[49m\u001B[43m \u001B[49m\u001B[43mID2LABELS\u001B[49m\u001B[43m[\u001B[49m\u001B[43mx\u001B[49m\u001B[38;5;241;43m+\u001B[39;49m\u001B[38;5;241;43m1\u001B[39;49m\u001B[43m]\u001B[49m\u001B[43m)\u001B[49m\n\u001B[0;32m      4\u001B[0m df[\u001B[38;5;124m'\u001B[39m\u001B[38;5;124msample\u001B[39m\u001B[38;5;124m'\u001B[39m] \u001B[38;5;241m=\u001B[39m \u001B[38;5;124m'\u001B[39m\u001B[38;5;124mall\u001B[39m\u001B[38;5;124m'\u001B[39m\n\u001B[0;32m      5\u001B[0m df_sub \u001B[38;5;241m=\u001B[39m df\u001B[38;5;241m.\u001B[39miloc[sample_inds,:]\u001B[38;5;241m.\u001B[39mcopy()\n",
      "File \u001B[1;32m~\\anaconda3\\envs\\micro\\lib\\site-packages\\pandas\\core\\series.py:4908\u001B[0m, in \u001B[0;36mSeries.apply\u001B[1;34m(self, func, convert_dtype, args, by_row, **kwargs)\u001B[0m\n\u001B[0;32m   4780\u001B[0m \u001B[38;5;28;01mdef\u001B[39;00m \u001B[38;5;21mapply\u001B[39m(\n\u001B[0;32m   4781\u001B[0m     \u001B[38;5;28mself\u001B[39m,\n\u001B[0;32m   4782\u001B[0m     func: AggFuncType,\n\u001B[1;32m   (...)\u001B[0m\n\u001B[0;32m   4787\u001B[0m     \u001B[38;5;241m*\u001B[39m\u001B[38;5;241m*\u001B[39mkwargs,\n\u001B[0;32m   4788\u001B[0m ) \u001B[38;5;241m-\u001B[39m\u001B[38;5;241m>\u001B[39m DataFrame \u001B[38;5;241m|\u001B[39m Series:\n\u001B[0;32m   4789\u001B[0m \u001B[38;5;250m    \u001B[39m\u001B[38;5;124;03m\"\"\"\u001B[39;00m\n\u001B[0;32m   4790\u001B[0m \u001B[38;5;124;03m    Invoke function on values of Series.\u001B[39;00m\n\u001B[0;32m   4791\u001B[0m \n\u001B[1;32m   (...)\u001B[0m\n\u001B[0;32m   4906\u001B[0m \u001B[38;5;124;03m    dtype: float64\u001B[39;00m\n\u001B[0;32m   4907\u001B[0m \u001B[38;5;124;03m    \"\"\"\u001B[39;00m\n\u001B[1;32m-> 4908\u001B[0m     \u001B[38;5;28;01mreturn\u001B[39;00m \u001B[43mSeriesApply\u001B[49m\u001B[43m(\u001B[49m\n\u001B[0;32m   4909\u001B[0m \u001B[43m        \u001B[49m\u001B[38;5;28;43mself\u001B[39;49m\u001B[43m,\u001B[49m\n\u001B[0;32m   4910\u001B[0m \u001B[43m        \u001B[49m\u001B[43mfunc\u001B[49m\u001B[43m,\u001B[49m\n\u001B[0;32m   4911\u001B[0m \u001B[43m        \u001B[49m\u001B[43mconvert_dtype\u001B[49m\u001B[38;5;241;43m=\u001B[39;49m\u001B[43mconvert_dtype\u001B[49m\u001B[43m,\u001B[49m\n\u001B[0;32m   4912\u001B[0m \u001B[43m        \u001B[49m\u001B[43mby_row\u001B[49m\u001B[38;5;241;43m=\u001B[39;49m\u001B[43mby_row\u001B[49m\u001B[43m,\u001B[49m\n\u001B[0;32m   4913\u001B[0m \u001B[43m        \u001B[49m\u001B[43margs\u001B[49m\u001B[38;5;241;43m=\u001B[39;49m\u001B[43margs\u001B[49m\u001B[43m,\u001B[49m\n\u001B[0;32m   4914\u001B[0m \u001B[43m        \u001B[49m\u001B[43mkwargs\u001B[49m\u001B[38;5;241;43m=\u001B[39;49m\u001B[43mkwargs\u001B[49m\u001B[43m,\u001B[49m\n\u001B[0;32m   4915\u001B[0m \u001B[43m    \u001B[49m\u001B[43m)\u001B[49m\u001B[38;5;241;43m.\u001B[39;49m\u001B[43mapply\u001B[49m\u001B[43m(\u001B[49m\u001B[43m)\u001B[49m\n",
      "File \u001B[1;32m~\\anaconda3\\envs\\micro\\lib\\site-packages\\pandas\\core\\apply.py:1427\u001B[0m, in \u001B[0;36mSeriesApply.apply\u001B[1;34m(self)\u001B[0m\n\u001B[0;32m   1424\u001B[0m     \u001B[38;5;28;01mreturn\u001B[39;00m \u001B[38;5;28mself\u001B[39m\u001B[38;5;241m.\u001B[39mapply_compat()\n\u001B[0;32m   1426\u001B[0m \u001B[38;5;66;03m# self.func is Callable\u001B[39;00m\n\u001B[1;32m-> 1427\u001B[0m \u001B[38;5;28;01mreturn\u001B[39;00m \u001B[38;5;28;43mself\u001B[39;49m\u001B[38;5;241;43m.\u001B[39;49m\u001B[43mapply_standard\u001B[49m\u001B[43m(\u001B[49m\u001B[43m)\u001B[49m\n",
      "File \u001B[1;32m~\\anaconda3\\envs\\micro\\lib\\site-packages\\pandas\\core\\apply.py:1507\u001B[0m, in \u001B[0;36mSeriesApply.apply_standard\u001B[1;34m(self)\u001B[0m\n\u001B[0;32m   1501\u001B[0m \u001B[38;5;66;03m# row-wise access\u001B[39;00m\n\u001B[0;32m   1502\u001B[0m \u001B[38;5;66;03m# apply doesn't have a `na_action` keyword and for backward compat reasons\u001B[39;00m\n\u001B[0;32m   1503\u001B[0m \u001B[38;5;66;03m# we need to give `na_action=\"ignore\"` for categorical data.\u001B[39;00m\n\u001B[0;32m   1504\u001B[0m \u001B[38;5;66;03m# TODO: remove the `na_action=\"ignore\"` when that default has been changed in\u001B[39;00m\n\u001B[0;32m   1505\u001B[0m \u001B[38;5;66;03m#  Categorical (GH51645).\u001B[39;00m\n\u001B[0;32m   1506\u001B[0m action \u001B[38;5;241m=\u001B[39m \u001B[38;5;124m\"\u001B[39m\u001B[38;5;124mignore\u001B[39m\u001B[38;5;124m\"\u001B[39m \u001B[38;5;28;01mif\u001B[39;00m \u001B[38;5;28misinstance\u001B[39m(obj\u001B[38;5;241m.\u001B[39mdtype, CategoricalDtype) \u001B[38;5;28;01melse\u001B[39;00m \u001B[38;5;28;01mNone\u001B[39;00m\n\u001B[1;32m-> 1507\u001B[0m mapped \u001B[38;5;241m=\u001B[39m \u001B[43mobj\u001B[49m\u001B[38;5;241;43m.\u001B[39;49m\u001B[43m_map_values\u001B[49m\u001B[43m(\u001B[49m\n\u001B[0;32m   1508\u001B[0m \u001B[43m    \u001B[49m\u001B[43mmapper\u001B[49m\u001B[38;5;241;43m=\u001B[39;49m\u001B[43mcurried\u001B[49m\u001B[43m,\u001B[49m\u001B[43m \u001B[49m\u001B[43mna_action\u001B[49m\u001B[38;5;241;43m=\u001B[39;49m\u001B[43maction\u001B[49m\u001B[43m,\u001B[49m\u001B[43m \u001B[49m\u001B[43mconvert\u001B[49m\u001B[38;5;241;43m=\u001B[39;49m\u001B[38;5;28;43mself\u001B[39;49m\u001B[38;5;241;43m.\u001B[39;49m\u001B[43mconvert_dtype\u001B[49m\n\u001B[0;32m   1509\u001B[0m \u001B[43m\u001B[49m\u001B[43m)\u001B[49m\n\u001B[0;32m   1511\u001B[0m \u001B[38;5;28;01mif\u001B[39;00m \u001B[38;5;28mlen\u001B[39m(mapped) \u001B[38;5;129;01mand\u001B[39;00m \u001B[38;5;28misinstance\u001B[39m(mapped[\u001B[38;5;241m0\u001B[39m], ABCSeries):\n\u001B[0;32m   1512\u001B[0m     \u001B[38;5;66;03m# GH#43986 Need to do list(mapped) in order to get treated as nested\u001B[39;00m\n\u001B[0;32m   1513\u001B[0m     \u001B[38;5;66;03m#  See also GH#25959 regarding EA support\u001B[39;00m\n\u001B[0;32m   1514\u001B[0m     \u001B[38;5;28;01mreturn\u001B[39;00m obj\u001B[38;5;241m.\u001B[39m_constructor_expanddim(\u001B[38;5;28mlist\u001B[39m(mapped), index\u001B[38;5;241m=\u001B[39mobj\u001B[38;5;241m.\u001B[39mindex)\n",
      "File \u001B[1;32m~\\anaconda3\\envs\\micro\\lib\\site-packages\\pandas\\core\\base.py:921\u001B[0m, in \u001B[0;36mIndexOpsMixin._map_values\u001B[1;34m(self, mapper, na_action, convert)\u001B[0m\n\u001B[0;32m    918\u001B[0m \u001B[38;5;28;01mif\u001B[39;00m \u001B[38;5;28misinstance\u001B[39m(arr, ExtensionArray):\n\u001B[0;32m    919\u001B[0m     \u001B[38;5;28;01mreturn\u001B[39;00m arr\u001B[38;5;241m.\u001B[39mmap(mapper, na_action\u001B[38;5;241m=\u001B[39mna_action)\n\u001B[1;32m--> 921\u001B[0m \u001B[38;5;28;01mreturn\u001B[39;00m \u001B[43malgorithms\u001B[49m\u001B[38;5;241;43m.\u001B[39;49m\u001B[43mmap_array\u001B[49m\u001B[43m(\u001B[49m\u001B[43marr\u001B[49m\u001B[43m,\u001B[49m\u001B[43m \u001B[49m\u001B[43mmapper\u001B[49m\u001B[43m,\u001B[49m\u001B[43m \u001B[49m\u001B[43mna_action\u001B[49m\u001B[38;5;241;43m=\u001B[39;49m\u001B[43mna_action\u001B[49m\u001B[43m,\u001B[49m\u001B[43m \u001B[49m\u001B[43mconvert\u001B[49m\u001B[38;5;241;43m=\u001B[39;49m\u001B[43mconvert\u001B[49m\u001B[43m)\u001B[49m\n",
      "File \u001B[1;32m~\\anaconda3\\envs\\micro\\lib\\site-packages\\pandas\\core\\algorithms.py:1743\u001B[0m, in \u001B[0;36mmap_array\u001B[1;34m(arr, mapper, na_action, convert)\u001B[0m\n\u001B[0;32m   1741\u001B[0m values \u001B[38;5;241m=\u001B[39m arr\u001B[38;5;241m.\u001B[39mastype(\u001B[38;5;28mobject\u001B[39m, copy\u001B[38;5;241m=\u001B[39m\u001B[38;5;28;01mFalse\u001B[39;00m)\n\u001B[0;32m   1742\u001B[0m \u001B[38;5;28;01mif\u001B[39;00m na_action \u001B[38;5;129;01mis\u001B[39;00m \u001B[38;5;28;01mNone\u001B[39;00m:\n\u001B[1;32m-> 1743\u001B[0m     \u001B[38;5;28;01mreturn\u001B[39;00m \u001B[43mlib\u001B[49m\u001B[38;5;241;43m.\u001B[39;49m\u001B[43mmap_infer\u001B[49m\u001B[43m(\u001B[49m\u001B[43mvalues\u001B[49m\u001B[43m,\u001B[49m\u001B[43m \u001B[49m\u001B[43mmapper\u001B[49m\u001B[43m,\u001B[49m\u001B[43m \u001B[49m\u001B[43mconvert\u001B[49m\u001B[38;5;241;43m=\u001B[39;49m\u001B[43mconvert\u001B[49m\u001B[43m)\u001B[49m\n\u001B[0;32m   1744\u001B[0m \u001B[38;5;28;01melse\u001B[39;00m:\n\u001B[0;32m   1745\u001B[0m     \u001B[38;5;28;01mreturn\u001B[39;00m lib\u001B[38;5;241m.\u001B[39mmap_infer_mask(\n\u001B[0;32m   1746\u001B[0m         values, mapper, mask\u001B[38;5;241m=\u001B[39misna(values)\u001B[38;5;241m.\u001B[39mview(np\u001B[38;5;241m.\u001B[39muint8), convert\u001B[38;5;241m=\u001B[39mconvert\n\u001B[0;32m   1747\u001B[0m     )\n",
      "File \u001B[1;32mlib.pyx:2972\u001B[0m, in \u001B[0;36mpandas._libs.lib.map_infer\u001B[1;34m()\u001B[0m\n",
      "Cell \u001B[1;32mIn[118], line 3\u001B[0m, in \u001B[0;36m<lambda>\u001B[1;34m(x)\u001B[0m\n\u001B[0;32m      1\u001B[0m df \u001B[38;5;241m=\u001B[39m pd\u001B[38;5;241m.\u001B[39mDataFrame(\u001B[38;5;28mzip\u001B[39m(embedding[:,\u001B[38;5;241m0\u001B[39m], embedding[:, \u001B[38;5;241m1\u001B[39m], y), columns\u001B[38;5;241m=\u001B[39m[\u001B[38;5;124m'\u001B[39m\u001B[38;5;124memb1\u001B[39m\u001B[38;5;124m'\u001B[39m, \u001B[38;5;124m'\u001B[39m\u001B[38;5;124memb2\u001B[39m\u001B[38;5;124m'\u001B[39m, \u001B[38;5;124m'\u001B[39m\u001B[38;5;124mlabel\u001B[39m\u001B[38;5;124m'\u001B[39m])\n\u001B[0;32m      2\u001B[0m \u001B[38;5;66;03m# df['label'] = df['label'].apply(lambda x: ID2LABELS[x[0]+1])\u001B[39;00m\n\u001B[1;32m----> 3\u001B[0m df[\u001B[38;5;124m'\u001B[39m\u001B[38;5;124mlabel\u001B[39m\u001B[38;5;124m'\u001B[39m] \u001B[38;5;241m=\u001B[39m df[\u001B[38;5;124m'\u001B[39m\u001B[38;5;124mlabel\u001B[39m\u001B[38;5;124m'\u001B[39m]\u001B[38;5;241m.\u001B[39mapply(\u001B[38;5;28;01mlambda\u001B[39;00m x: \u001B[43mID2LABELS\u001B[49m\u001B[43m[\u001B[49m\u001B[43mx\u001B[49m\u001B[38;5;241;43m+\u001B[39;49m\u001B[38;5;241;43m1\u001B[39;49m\u001B[43m]\u001B[49m)\n\u001B[0;32m      4\u001B[0m df[\u001B[38;5;124m'\u001B[39m\u001B[38;5;124msample\u001B[39m\u001B[38;5;124m'\u001B[39m] \u001B[38;5;241m=\u001B[39m \u001B[38;5;124m'\u001B[39m\u001B[38;5;124mall\u001B[39m\u001B[38;5;124m'\u001B[39m\n\u001B[0;32m      5\u001B[0m df_sub \u001B[38;5;241m=\u001B[39m df\u001B[38;5;241m.\u001B[39miloc[sample_inds,:]\u001B[38;5;241m.\u001B[39mcopy()\n",
      "\u001B[1;31mKeyError\u001B[0m: 25"
     ]
    }
   ],
   "source": [],
   "metadata": {
    "collapsed": false,
    "ExecuteTime": {
     "end_time": "2024-05-18T09:16:42.940896Z",
     "start_time": "2024-05-18T09:16:42.879894100Z"
    }
   },
   "id": "8b691b9dc0f3d7e9"
  },
  {
   "cell_type": "code",
   "execution_count": 20,
   "outputs": [],
   "source": [],
   "metadata": {
    "collapsed": false,
    "ExecuteTime": {
     "end_time": "2024-05-08T11:55:02.600661900Z",
     "start_time": "2024-05-08T11:55:02.592655200Z"
    }
   },
   "id": "b6985ba663a0ac46"
  },
  {
   "cell_type": "code",
   "execution_count": 170,
   "outputs": [],
   "source": [
    "reducer3 = UMAP(n_components=2 )\n",
    "embedding_2 = reducer3.fit_transform(X_rus, y_rus)"
   ],
   "metadata": {
    "collapsed": false,
    "ExecuteTime": {
     "end_time": "2024-05-18T09:49:35.486221300Z",
     "start_time": "2024-05-18T09:49:33.653864800Z"
    }
   },
   "id": "cb0bd47f2b11b348"
  },
  {
   "cell_type": "code",
   "execution_count": 22,
   "outputs": [
    {
     "data": {
      "text/plain": "<seaborn.axisgrid.FacetGrid at 0x1f769d80d00>"
     },
     "execution_count": 22,
     "metadata": {},
     "output_type": "execute_result"
    },
    {
     "data": {
      "text/plain": "<Figure size 868x500 with 1 Axes>",
      "image/png": "[encoded data removed]"
     },
     "metadata": {},
     "output_type": "display_data"
    }
   ],
   "source": [
    "df = pd.DataFrame(zip(embedding_2[:,0], embedding_2[:, 1], y), columns=['emb1', 'emb2', 'label'])\n",
    "df['label'] = df['label'].apply(lambda x: ID2LABELS[x[0]+1])\n",
    "df['sample'] = 'all'\n",
    "# df_sub = df.iloc[sample_inds,:].copy()\n",
    "# df_sub['sample'] = 'resample'\n",
    "df_all = pd.concat([df], axis=0)\n",
    "sns.relplot(\n",
    "    data=df_all, x=\"emb1\", y=\"emb2\",\n",
    "    hue=\"label\",\n",
    "    kind=\"scatter\"\n",
    ")"
   ],
   "metadata": {
    "collapsed": false,
    "ExecuteTime": {
     "end_time": "2024-05-08T11:55:07.939189900Z",
     "start_time": "2024-05-08T11:55:07.161376600Z"
    }
   },
   "id": "d42b68cd6857dd4c"
  },
  {
   "cell_type": "code",
   "execution_count": 25,
   "outputs": [],
   "source": [
    "# resample train data\n",
    "\n",
    "train_data_path = osp.join(experiment_folder, run_name,'dataset','train_full.csv')\n",
    "df_train_orig = pd.read_csv(train_data_path)"
   ],
   "metadata": {
    "collapsed": false,
    "ExecuteTime": {
     "end_time": "2024-05-10T20:51:43.243267100Z",
     "start_time": "2024-05-10T20:51:43.096997700Z"
    }
   },
   "id": "ea935dbd729542fa"
  },
  {
   "cell_type": "code",
   "execution_count": 26,
   "outputs": [],
   "source": [
    "df_train_new = df_train_orig.iloc[sample_inds,:]\n",
    "labels = df_train_new['labels'].apply(lambda x: np.argmax(ast.literal_eval(x)))"
   ],
   "metadata": {
    "collapsed": false,
    "ExecuteTime": {
     "end_time": "2024-05-10T20:51:48.609331200Z",
     "start_time": "2024-05-10T20:51:48.595322700Z"
    }
   },
   "id": "8f10b739259eba4d"
  },
  {
   "cell_type": "code",
   "execution_count": 32,
   "outputs": [],
   "source": [],
   "metadata": {
    "collapsed": false,
    "ExecuteTime": {
     "end_time": "2024-05-08T11:58:59.847543900Z",
     "start_time": "2024-05-08T11:58:59.825546800Z"
    }
   },
   "id": "ea6491dea09bdf56"
  },
  {
   "cell_type": "code",
   "execution_count": 27,
   "outputs": [],
   "source": [
    "save_train_data_path = osp.join(experiment_folder, run_name,'dataset','train_InstanceHardnessThreshold.csv')\n",
    "df_train_new.to_csv(save_train_data_path)"
   ],
   "metadata": {
    "collapsed": false,
    "ExecuteTime": {
     "end_time": "2024-05-10T20:52:15.848578700Z",
     "start_time": "2024-05-10T20:52:15.811545Z"
    }
   },
   "id": "1b1db7f678a46637"
  },
  {
   "cell_type": "code",
   "execution_count": 28,
   "outputs": [
    {
     "data": {
      "text/plain": "17"
     },
     "execution_count": 28,
     "metadata": {},
     "output_type": "execute_result"
    }
   ],
   "source": [
    "len(df_train_new['labels'].values[0].split(','))"
   ],
   "metadata": {
    "collapsed": false,
    "ExecuteTime": {
     "end_time": "2024-05-10T20:52:17.432747900Z",
     "start_time": "2024-05-10T20:52:17.403720300Z"
    }
   },
   "id": "5da156807d298059"
  },
  {
   "cell_type": "code",
   "execution_count": 29,
   "outputs": [
    {
     "data": {
      "text/plain": "array([ 0,  1,  2,  3,  4,  5,  6,  7,  8,  9, 10, 11, 12, 13, 14, 15, 16],\n      dtype=int64)"
     },
     "execution_count": 29,
     "metadata": {},
     "output_type": "execute_result"
    }
   ],
   "source": [
    "labels.unique()"
   ],
   "metadata": {
    "collapsed": false,
    "ExecuteTime": {
     "end_time": "2024-05-10T20:52:21.422603100Z",
     "start_time": "2024-05-10T20:52:21.405603500Z"
    }
   },
   "id": "e28002be30fed34f"
  },
  {
   "cell_type": "code",
   "execution_count": 30,
   "outputs": [
    {
     "data": {
      "text/plain": "    class  positive_weights\n0       0          0.857143\n1       1          0.705882\n2       2          1.333333\n3       3          1.333333\n4       4          1.200000\n5       5          0.923077\n6       6          1.000000\n7       7          1.333333\n8       8          1.333333\n9       9          1.090909\n10     10          0.857143\n11     11          0.857143\n12     12          1.200000\n13     13          0.857143\n14     14          1.090909\n15     15          0.631579\n16     16          1.333333",
      "text/html": "<div>\n<style scoped>\n    .dataframe tbody tr th:only-of-type {\n        vertical-align: middle;\n    }\n\n    .dataframe tbody tr th {\n        vertical-align: top;\n    }\n\n    .dataframe thead th {\n        text-align: right;\n    }\n</style>\n<table border=\"1\" class=\"dataframe\">\n  <thead>\n    <tr style=\"text-align: right;\">\n      <th></th>\n      <th>class</th>\n      <th>positive_weights</th>\n    </tr>\n  </thead>\n  <tbody>\n    <tr>\n      <th>0</th>\n      <td>0</td>\n      <td>0.857143</td>\n    </tr>\n    <tr>\n      <th>1</th>\n      <td>1</td>\n      <td>0.705882</td>\n    </tr>\n    <tr>\n      <th>2</th>\n      <td>2</td>\n      <td>1.333333</td>\n    </tr>\n    <tr>\n      <th>3</th>\n      <td>3</td>\n      <td>1.333333</td>\n    </tr>\n    <tr>\n      <th>4</th>\n      <td>4</td>\n      <td>1.200000</td>\n    </tr>\n    <tr>\n      <th>5</th>\n      <td>5</td>\n      <td>0.923077</td>\n    </tr>\n    <tr>\n      <th>6</th>\n      <td>6</td>\n      <td>1.000000</td>\n    </tr>\n    <tr>\n      <th>7</th>\n      <td>7</td>\n      <td>1.333333</td>\n    </tr>\n    <tr>\n      <th>8</th>\n      <td>8</td>\n      <td>1.333333</td>\n    </tr>\n    <tr>\n      <th>9</th>\n      <td>9</td>\n      <td>1.090909</td>\n    </tr>\n    <tr>\n      <th>10</th>\n      <td>10</td>\n      <td>0.857143</td>\n    </tr>\n    <tr>\n      <th>11</th>\n      <td>11</td>\n      <td>0.857143</td>\n    </tr>\n    <tr>\n      <th>12</th>\n      <td>12</td>\n      <td>1.200000</td>\n    </tr>\n    <tr>\n      <th>13</th>\n      <td>13</td>\n      <td>0.857143</td>\n    </tr>\n    <tr>\n      <th>14</th>\n      <td>14</td>\n      <td>1.090909</td>\n    </tr>\n    <tr>\n      <th>15</th>\n      <td>15</td>\n      <td>0.631579</td>\n    </tr>\n    <tr>\n      <th>16</th>\n      <td>16</td>\n      <td>1.333333</td>\n    </tr>\n  </tbody>\n</table>\n</div>"
     },
     "execution_count": 30,
     "metadata": {},
     "output_type": "execute_result"
    }
   ],
   "source": [
    "# recalculate weights, use sklearn\n",
    "from sklearn.utils.class_weight import compute_class_weight\n",
    "\n",
    "classes = labels.unique()\n",
    "class_weights_vals = compute_class_weight(class_weight=\"balanced\", classes=classes, y=labels)\n",
    "# compute_class_weight()\n",
    "class_weights = pd.DataFrame(zip(classes, class_weights_vals), columns=['class', 'positive_weights'])\n",
    "class_weights.sort_values(by='class', inplace=True)\n",
    "class_weights\n",
    "\n"
   ],
   "metadata": {
    "collapsed": false,
    "ExecuteTime": {
     "end_time": "2024-05-10T20:52:27.298937900Z",
     "start_time": "2024-05-10T20:52:27.274934700Z"
    }
   },
   "id": "bbba48ab105568f6"
  },
  {
   "cell_type": "code",
   "execution_count": 31,
   "outputs": [
    {
     "data": {
      "text/plain": "    index  before  after  new   weights  \\\n0       0      40     14   14  0.857143   \n1       1      48     17   17  0.705882   \n2       2     175      9    9  1.333333   \n3       3       9      9    9  1.333333   \n4       4     720     10   10  1.200000   \n5       5      21     13   13  0.923077   \n6       6     101     12   12  1.000000   \n7       7     249      9    9  1.333333   \n8       8     724      9    9  1.333333   \n9       9      11     11   11  1.090909   \n10     10      14     14   14  0.857143   \n11     11     167     14   14  0.857143   \n12     12      41     10   10  1.200000   \n13     13      63     14   14  0.857143   \n14     14      11     11   11  1.090909   \n15     15      19     19   19  0.631579   \n16     16      39      9    9  1.333333   \n\n                                                label  \n0                          Turtling neck and shoulder  \n1                           Rubbing eyes and forehead  \n2                                        Folding arms  \n3             Touching or covering suprasternal notch  \n4                                         Moving legs  \n5                         Touching or scratching neck  \n6                            Folding arms behind body  \n7                   Rubbing hands and crossing finger  \n8                                         Arms akimbo  \n9                                       Crossing legs  \n10                       Scratching some part of body  \n11  Scratching or touching facial parts other than...  \n12                          Playing or adjusting hair  \n13                                       Holding arms  \n14                               Pulling shirt collar  \n15  Playing with jewelry, and manipulating other o...  \n16                         Illustrative hand gestures  ",
      "text/html": "<div>\n<style scoped>\n    .dataframe tbody tr th:only-of-type {\n        vertical-align: middle;\n    }\n\n    .dataframe tbody tr th {\n        vertical-align: top;\n    }\n\n    .dataframe thead th {\n        text-align: right;\n    }\n</style>\n<table border=\"1\" class=\"dataframe\">\n  <thead>\n    <tr style=\"text-align: right;\">\n      <th></th>\n      <th>index</th>\n      <th>before</th>\n      <th>after</th>\n      <th>new</th>\n      <th>weights</th>\n      <th>label</th>\n    </tr>\n  </thead>\n  <tbody>\n    <tr>\n      <th>0</th>\n      <td>0</td>\n      <td>40</td>\n      <td>14</td>\n      <td>14</td>\n      <td>0.857143</td>\n      <td>Turtling neck and shoulder</td>\n    </tr>\n    <tr>\n      <th>1</th>\n      <td>1</td>\n      <td>48</td>\n      <td>17</td>\n      <td>17</td>\n      <td>0.705882</td>\n      <td>Rubbing eyes and forehead</td>\n    </tr>\n    <tr>\n      <th>2</th>\n      <td>2</td>\n      <td>175</td>\n      <td>9</td>\n      <td>9</td>\n      <td>1.333333</td>\n      <td>Folding arms</td>\n    </tr>\n    <tr>\n      <th>3</th>\n      <td>3</td>\n      <td>9</td>\n      <td>9</td>\n      <td>9</td>\n      <td>1.333333</td>\n      <td>Touching or covering suprasternal notch</td>\n    </tr>\n    <tr>\n      <th>4</th>\n      <td>4</td>\n      <td>720</td>\n      <td>10</td>\n      <td>10</td>\n      <td>1.200000</td>\n      <td>Moving legs</td>\n    </tr>\n    <tr>\n      <th>5</th>\n      <td>5</td>\n      <td>21</td>\n      <td>13</td>\n      <td>13</td>\n      <td>0.923077</td>\n      <td>Touching or scratching neck</td>\n    </tr>\n    <tr>\n      <th>6</th>\n      <td>6</td>\n      <td>101</td>\n      <td>12</td>\n      <td>12</td>\n      <td>1.000000</td>\n      <td>Folding arms behind body</td>\n    </tr>\n    <tr>\n      <th>7</th>\n      <td>7</td>\n      <td>249</td>\n      <td>9</td>\n      <td>9</td>\n      <td>1.333333</td>\n      <td>Rubbing hands and crossing finger</td>\n    </tr>\n    <tr>\n      <th>8</th>\n      <td>8</td>\n      <td>724</td>\n      <td>9</td>\n      <td>9</td>\n      <td>1.333333</td>\n      <td>Arms akimbo</td>\n    </tr>\n    <tr>\n      <th>9</th>\n      <td>9</td>\n      <td>11</td>\n      <td>11</td>\n      <td>11</td>\n      <td>1.090909</td>\n      <td>Crossing legs</td>\n    </tr>\n    <tr>\n      <th>10</th>\n      <td>10</td>\n      <td>14</td>\n      <td>14</td>\n      <td>14</td>\n      <td>0.857143</td>\n      <td>Scratching some part of body</td>\n    </tr>\n    <tr>\n      <th>11</th>\n      <td>11</td>\n      <td>167</td>\n      <td>14</td>\n      <td>14</td>\n      <td>0.857143</td>\n      <td>Scratching or touching facial parts other than...</td>\n    </tr>\n    <tr>\n      <th>12</th>\n      <td>12</td>\n      <td>41</td>\n      <td>10</td>\n      <td>10</td>\n      <td>1.200000</td>\n      <td>Playing or adjusting hair</td>\n    </tr>\n    <tr>\n      <th>13</th>\n      <td>13</td>\n      <td>63</td>\n      <td>14</td>\n      <td>14</td>\n      <td>0.857143</td>\n      <td>Holding arms</td>\n    </tr>\n    <tr>\n      <th>14</th>\n      <td>14</td>\n      <td>11</td>\n      <td>11</td>\n      <td>11</td>\n      <td>1.090909</td>\n      <td>Pulling shirt collar</td>\n    </tr>\n    <tr>\n      <th>15</th>\n      <td>15</td>\n      <td>19</td>\n      <td>19</td>\n      <td>19</td>\n      <td>0.631579</td>\n      <td>Playing with jewelry, and manipulating other o...</td>\n    </tr>\n    <tr>\n      <th>16</th>\n      <td>16</td>\n      <td>39</td>\n      <td>9</td>\n      <td>9</td>\n      <td>1.333333</td>\n      <td>Illustrative hand gestures</td>\n    </tr>\n  </tbody>\n</table>\n</div>"
     },
     "execution_count": 31,
     "metadata": {},
     "output_type": "execute_result"
    }
   ],
   "source": [
    "before = Counter([a[0] for a in y])\n",
    "after = Counter([a for a in y_rus])\n",
    "new = Counter(labels)\n",
    "counts = {'before': before, 'after': after, 'new':new, 'weights': {a:b for a,b in zip(classes, class_weights_vals)}}\n",
    "df_counters = pd.DataFrame.from_dict(counts)\n",
    "df_counters.sort_index(inplace=True)\n",
    "df_counters = df_counters.reset_index()\n",
    "df_counters['label'] = df_counters['index'].apply(lambda x: ID2LABELS[x+1])\n",
    "df_counters"
   ],
   "metadata": {
    "collapsed": false,
    "ExecuteTime": {
     "end_time": "2024-05-10T20:52:36.848786300Z",
     "start_time": "2024-05-10T20:52:36.823861400Z"
    }
   },
   "id": "5f55666058da96f2"
  },
  {
   "cell_type": "code",
   "execution_count": 32,
   "outputs": [],
   "source": [
    "save_folder = osp.join(experiment_folder, run_name,'dataset')\n",
    "class_weights.to_csv(osp.join(save_folder, 'weights_InstanceHardnessThreshold.csv'))\n",
    "import json\n",
    "wrapped_data = {'data': class_weights.to_dict(orient='records')}\n",
    "\n",
    "# Save wrapped data as JSON\n",
    "with open(osp.join(save_folder, 'weights_InstanceHardnessThreshold.json'), 'w') as json_file:\n",
    "    json.dump(wrapped_data, json_file, indent=4)"
   ],
   "metadata": {
    "collapsed": false,
    "ExecuteTime": {
     "end_time": "2024-05-10T20:52:52.650441400Z",
     "start_time": "2024-05-10T20:52:52.603015200Z"
    }
   },
   "id": "b68e333cdbff09d0"
  },
  {
   "cell_type": "code",
   "execution_count": null,
   "outputs": [],
   "source": [],
   "metadata": {
    "collapsed": false
   },
   "id": "2cb5ea1ee895b737"
  }
 ],
 "metadata": {
  "kernelspec": {
   "display_name": "Python 3",
   "language": "python",
   "name": "python3"
  },
  "language_info": {
   "codemirror_mode": {
    "name": "ipython",
    "version": 2
   },
   "file_extension": ".py",
   "mimetype": "text/x-python",
   "name": "python",
   "nbconvert_exporter": "python",
   "pygments_lexer": "ipython2",
   "version": "2.7.6"
  }
 },
 "nbformat": 4,
 "nbformat_minor": 5
}
