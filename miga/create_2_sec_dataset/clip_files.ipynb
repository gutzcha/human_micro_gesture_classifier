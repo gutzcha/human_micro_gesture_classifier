{
 "cells": [
  {
   "cell_type": "code",
   "execution_count": 1,
   "id": "11a89c7f4e9f9f9c",
   "metadata": {
    "collapsed": false,
    "ExecuteTime": {
     "end_time": "2024-05-12T10:15:59.837050800Z",
     "start_time": "2024-05-12T10:15:59.713049800Z"
    }
   },
   "outputs": [],
   "source": [
    "import pandas as pd\n",
    "import os\n",
    "import os.path as osp\n",
    "from glob import glob\n",
    "from decord import VideoReader\n",
    "import cv2\n",
    "from tqdm import tqdm\n",
    "import numpy as np\n",
    "import matplotlib.pyplot as plt"
   ]
  },
  {
   "cell_type": "code",
   "execution_count": 2,
   "outputs": [
    {
     "data": {
      "text/plain": "'D:\\\\Project-mpg microgesture\\\\human_micro_gesture_classifier\\\\miga\\\\create_2_sec_dataset'"
     },
     "execution_count": 2,
     "metadata": {},
     "output_type": "execute_result"
    }
   ],
   "source": [
    "os.getcwd()"
   ],
   "metadata": {
    "collapsed": false,
    "ExecuteTime": {
     "end_time": "2024-05-12T10:15:59.853058400Z",
     "start_time": "2024-05-12T10:15:59.838052400Z"
    }
   },
   "id": "529be39b8067c9df"
  },
  {
   "cell_type": "code",
   "execution_count": 3,
   "outputs": [],
   "source": [
    "\n",
    "\n",
    "# dataset = 'validate'\n",
    "dataset = 'train'\n",
    "path_to_data = f'../../../smg/smg_data_phase1/smg_skeleton_{dataset}'\n",
    "path_to_data = osp.join(*path_to_data.split('/'))\n",
    "all_files = glob(osp.join(path_to_data,'*','*finelabels.csv'))"
   ],
   "metadata": {
    "collapsed": false,
    "ExecuteTime": {
     "end_time": "2024-05-12T10:16:01.197456300Z",
     "start_time": "2024-05-12T10:16:01.180458Z"
    }
   },
   "id": "e30e1ee9002996ac"
  },
  {
   "cell_type": "code",
   "execution_count": 4,
   "outputs": [],
   "source": [
    "def assign_labels_to_frames_helper(num_frames,n_classes, window_length, labels_list, start_frame, end_frame):\n",
    "    # Create frame indices\n",
    "    frame_inds = np.arange(0, num_frames, window_length)\n",
    "    \n",
    "    # Initialize dictionary to store labels for each frame sequence\n",
    "    frame_labels_onehot = {frame_idx: [np.zeros(n_classes)] for frame_idx in frame_inds}\n",
    "    frame_labels_list = {frame_idx: [[]] for frame_idx in frame_inds}\n",
    "    \n",
    "    # Iterate over frame indices\n",
    "    for start_idx in frame_inds:\n",
    "        end_idx = start_idx + window_length\n",
    "        \n",
    "        # Iterate over segments and check for overlap\n",
    "        for i, (segment_start, segment_end) in enumerate(zip(start_frame, end_frame)):\n",
    "            if (segment_start < end_idx) and (segment_end > start_idx):\n",
    "                # Overlapping segment found, add its label to the corresponding sequence\n",
    "                frame_labels_onehot[start_idx][0][labels_list[i]-1] = 1\n",
    "                frame_labels_list[start_idx][0].append(labels_list[i]-1)\n",
    "                \n",
    "                # Optionally remove the segment from the lists to improve efficiency\n",
    "                # start_frame.pop(i)\n",
    "                # end_frame.pop(i)\n",
    "    \n",
    "    return frame_labels_onehot, frame_labels_list\n",
    "\n",
    "# # Example usage\n",
    "# num_frames = 200\n",
    "# window_length = 64\n",
    "# labels_list = ['A', 'B', 'C', 'D']\n",
    "# start_frame = [20, 80, 130, 180]\n",
    "# end_frame = [40, 100, 150, 200]\n",
    "def assign_labels_to_frames(path_to_csv, n_classes=17, window_length=64):\n",
    "    df = pd.read_csv(path_to_csv, header=None)\n",
    "    df.columns = ['label','start_frame','end_frame']\n",
    "    num_frames = df.iloc[-1]['end_frame'] + window_length\n",
    "    labels_list = df['label'].values\n",
    "    start_frame = df['start_frame'].values\n",
    "    end_frame = df['end_frame'].values\n",
    "    assigned_labels_one_hot, assigned_labels_list = assign_labels_to_frames_helper(num_frames,n_classes, window_length, labels_list, start_frame, end_frame)\n",
    "    return assigned_labels_one_hot, assigned_labels_list\n",
    "\n",
    "def get_df(list_of_paths, n_classes=17, window_length=64):\n",
    "    ret = []\n",
    "    for path_to_csv in list_of_paths:\n",
    "        assigned_labels_one_hot, assigned_labels_list = assign_labels_to_frames(path_to_csv,n_classes=n_classes, window_length=window_length)\n",
    "        assigned_labels_one_hot_df = pd.DataFrame(assigned_labels_one_hot).transpose()\n",
    "        assigned_labels_one_hot_df = assigned_labels_one_hot_df.rename(columns={0:'onehot_label'})\n",
    "        assigned_labels_list_df = pd.DataFrame(assigned_labels_list).transpose()\n",
    "        assigned_labels_list_df = assigned_labels_list_df.rename(columns={0:'label'})\n",
    "        temp_df = pd.concat([assigned_labels_one_hot_df, assigned_labels_list_df], axis=1)\n",
    "        temp_df['basename'] = os.path.basename(path_to_csv)\n",
    "        temp_df['full_path'] = path_to_csv\n",
    "        temp_df = temp_df.reset_index().set_index(['full_path'])\n",
    "        temp_df.rename(columns={'index':'start_frame'}, inplace=True)\n",
    "        temp_df['end_frame'] = temp_df['start_frame'] + window_length\n",
    "        ret.append(temp_df)\n",
    "    ret = pd.concat(ret)\n",
    "    ret = ret[['basename','start_frame','end_frame','label','onehot_label']]\n",
    "    ret['is_move'] = ret['label'].apply(lambda x: len(x)>0)\n",
    "    ret['n_labels'] =  ret['label'].apply(lambda x: len(x))\n",
    "    return ret\n",
    "ret = get_df(list_of_paths=all_files)"
   ],
   "metadata": {
    "collapsed": false,
    "ExecuteTime": {
     "end_time": "2024-05-12T10:16:02.977458700Z",
     "start_time": "2024-05-12T10:16:01.851458Z"
    }
   },
   "id": "8b2d204a5244706e"
  },
  {
   "cell_type": "code",
   "execution_count": 6,
   "outputs": [
    {
     "data": {
      "text/plain": "                                                                     basename  \\\nfull_path                                                                       \n..\\..\\..\\smg\\smg_data_phase1\\smg_skeleton_train...  Sample0001_finelabels.csv   \n..\\..\\..\\smg\\smg_data_phase1\\smg_skeleton_train...  Sample0001_finelabels.csv   \n..\\..\\..\\smg\\smg_data_phase1\\smg_skeleton_train...  Sample0001_finelabels.csv   \n..\\..\\..\\smg\\smg_data_phase1\\smg_skeleton_train...  Sample0001_finelabels.csv   \n..\\..\\..\\smg\\smg_data_phase1\\smg_skeleton_train...  Sample0001_finelabels.csv   \n...                                                                       ...   \n..\\..\\..\\smg\\smg_data_phase1\\smg_skeleton_train...  Sample0030_finelabels.csv   \n..\\..\\..\\smg\\smg_data_phase1\\smg_skeleton_train...  Sample0030_finelabels.csv   \n..\\..\\..\\smg\\smg_data_phase1\\smg_skeleton_train...  Sample0030_finelabels.csv   \n..\\..\\..\\smg\\smg_data_phase1\\smg_skeleton_train...  Sample0030_finelabels.csv   \n..\\..\\..\\smg\\smg_data_phase1\\smg_skeleton_train...  Sample0030_finelabels.csv   \n\n                                                    start_frame  end_frame  \\\nfull_path                                                                    \n..\\..\\..\\smg\\smg_data_phase1\\smg_skeleton_train...            0         64   \n..\\..\\..\\smg\\smg_data_phase1\\smg_skeleton_train...           64        128   \n..\\..\\..\\smg\\smg_data_phase1\\smg_skeleton_train...          128        192   \n..\\..\\..\\smg\\smg_data_phase1\\smg_skeleton_train...          192        256   \n..\\..\\..\\smg\\smg_data_phase1\\smg_skeleton_train...          256        320   \n...                                                         ...        ...   \n..\\..\\..\\smg\\smg_data_phase1\\smg_skeleton_train...        19648      19712   \n..\\..\\..\\smg\\smg_data_phase1\\smg_skeleton_train...        19712      19776   \n..\\..\\..\\smg\\smg_data_phase1\\smg_skeleton_train...        19776      19840   \n..\\..\\..\\smg\\smg_data_phase1\\smg_skeleton_train...        19840      19904   \n..\\..\\..\\smg\\smg_data_phase1\\smg_skeleton_train...        19904      19968   \n\n                                                     label  \\\nfull_path                                                    \n..\\..\\..\\smg\\smg_data_phase1\\smg_skeleton_train...      []   \n..\\..\\..\\smg\\smg_data_phase1\\smg_skeleton_train...    [14]   \n..\\..\\..\\smg\\smg_data_phase1\\smg_skeleton_train...    [14]   \n..\\..\\..\\smg\\smg_data_phase1\\smg_skeleton_train...      []   \n..\\..\\..\\smg\\smg_data_phase1\\smg_skeleton_train...      []   \n...                                                    ...   \n..\\..\\..\\smg\\smg_data_phase1\\smg_skeleton_train...  [8, 8]   \n..\\..\\..\\smg\\smg_data_phase1\\smg_skeleton_train...  [8, 8]   \n..\\..\\..\\smg\\smg_data_phase1\\smg_skeleton_train...     [8]   \n..\\..\\..\\smg\\smg_data_phase1\\smg_skeleton_train...     [8]   \n..\\..\\..\\smg\\smg_data_phase1\\smg_skeleton_train...      []   \n\n                                                                                         onehot_label  \\\nfull_path                                                                                               \n..\\..\\..\\smg\\smg_data_phase1\\smg_skeleton_train...  [0.0, 0.0, 0.0, 0.0, 0.0, 0.0, 0.0, 0.0, 0.0, ...   \n..\\..\\..\\smg\\smg_data_phase1\\smg_skeleton_train...  [0.0, 0.0, 0.0, 0.0, 0.0, 0.0, 0.0, 0.0, 0.0, ...   \n..\\..\\..\\smg\\smg_data_phase1\\smg_skeleton_train...  [0.0, 0.0, 0.0, 0.0, 0.0, 0.0, 0.0, 0.0, 0.0, ...   \n..\\..\\..\\smg\\smg_data_phase1\\smg_skeleton_train...  [0.0, 0.0, 0.0, 0.0, 0.0, 0.0, 0.0, 0.0, 0.0, ...   \n..\\..\\..\\smg\\smg_data_phase1\\smg_skeleton_train...  [0.0, 0.0, 0.0, 0.0, 0.0, 0.0, 0.0, 0.0, 0.0, ...   \n...                                                                                               ...   \n..\\..\\..\\smg\\smg_data_phase1\\smg_skeleton_train...  [0.0, 0.0, 0.0, 0.0, 0.0, 0.0, 0.0, 0.0, 1.0, ...   \n..\\..\\..\\smg\\smg_data_phase1\\smg_skeleton_train...  [0.0, 0.0, 0.0, 0.0, 0.0, 0.0, 0.0, 0.0, 1.0, ...   \n..\\..\\..\\smg\\smg_data_phase1\\smg_skeleton_train...  [0.0, 0.0, 0.0, 0.0, 0.0, 0.0, 0.0, 0.0, 1.0, ...   \n..\\..\\..\\smg\\smg_data_phase1\\smg_skeleton_train...  [0.0, 0.0, 0.0, 0.0, 0.0, 0.0, 0.0, 0.0, 1.0, ...   \n..\\..\\..\\smg\\smg_data_phase1\\smg_skeleton_train...  [0.0, 0.0, 0.0, 0.0, 0.0, 0.0, 0.0, 0.0, 0.0, ...   \n\n                                                    is_move  n_labels  \nfull_path                                                              \n..\\..\\..\\smg\\smg_data_phase1\\smg_skeleton_train...    False         0  \n..\\..\\..\\smg\\smg_data_phase1\\smg_skeleton_train...     True         1  \n..\\..\\..\\smg\\smg_data_phase1\\smg_skeleton_train...     True         1  \n..\\..\\..\\smg\\smg_data_phase1\\smg_skeleton_train...    False         0  \n..\\..\\..\\smg\\smg_data_phase1\\smg_skeleton_train...    False         0  \n...                                                     ...       ...  \n..\\..\\..\\smg\\smg_data_phase1\\smg_skeleton_train...     True         2  \n..\\..\\..\\smg\\smg_data_phase1\\smg_skeleton_train...     True         2  \n..\\..\\..\\smg\\smg_data_phase1\\smg_skeleton_train...     True         1  \n..\\..\\..\\smg\\smg_data_phase1\\smg_skeleton_train...     True         1  \n..\\..\\..\\smg\\smg_data_phase1\\smg_skeleton_train...    False         0  \n\n[11532 rows x 7 columns]",
      "text/html": "<div>\n<style scoped>\n    .dataframe tbody tr th:only-of-type {\n        vertical-align: middle;\n    }\n\n    .dataframe tbody tr th {\n        vertical-align: top;\n    }\n\n    .dataframe thead th {\n        text-align: right;\n    }\n</style>\n<table border=\"1\" class=\"dataframe\">\n  <thead>\n    <tr style=\"text-align: right;\">\n      <th></th>\n      <th>basename</th>\n      <th>start_frame</th>\n      <th>end_frame</th>\n      <th>label</th>\n      <th>onehot_label</th>\n      <th>is_move</th>\n      <th>n_labels</th>\n    </tr>\n    <tr>\n      <th>full_path</th>\n      <th></th>\n      <th></th>\n      <th></th>\n      <th></th>\n      <th></th>\n      <th></th>\n      <th></th>\n    </tr>\n  </thead>\n  <tbody>\n    <tr>\n      <th>..\\..\\..\\smg\\smg_data_phase1\\smg_skeleton_train\\Sample0001\\Sample0001_finelabels.csv</th>\n      <td>Sample0001_finelabels.csv</td>\n      <td>0</td>\n      <td>64</td>\n      <td>[]</td>\n      <td>[0.0, 0.0, 0.0, 0.0, 0.0, 0.0, 0.0, 0.0, 0.0, ...</td>\n      <td>False</td>\n      <td>0</td>\n    </tr>\n    <tr>\n      <th>..\\..\\..\\smg\\smg_data_phase1\\smg_skeleton_train\\Sample0001\\Sample0001_finelabels.csv</th>\n      <td>Sample0001_finelabels.csv</td>\n      <td>64</td>\n      <td>128</td>\n      <td>[14]</td>\n      <td>[0.0, 0.0, 0.0, 0.0, 0.0, 0.0, 0.0, 0.0, 0.0, ...</td>\n      <td>True</td>\n      <td>1</td>\n    </tr>\n    <tr>\n      <th>..\\..\\..\\smg\\smg_data_phase1\\smg_skeleton_train\\Sample0001\\Sample0001_finelabels.csv</th>\n      <td>Sample0001_finelabels.csv</td>\n      <td>128</td>\n      <td>192</td>\n      <td>[14]</td>\n      <td>[0.0, 0.0, 0.0, 0.0, 0.0, 0.0, 0.0, 0.0, 0.0, ...</td>\n      <td>True</td>\n      <td>1</td>\n    </tr>\n    <tr>\n      <th>..\\..\\..\\smg\\smg_data_phase1\\smg_skeleton_train\\Sample0001\\Sample0001_finelabels.csv</th>\n      <td>Sample0001_finelabels.csv</td>\n      <td>192</td>\n      <td>256</td>\n      <td>[]</td>\n      <td>[0.0, 0.0, 0.0, 0.0, 0.0, 0.0, 0.0, 0.0, 0.0, ...</td>\n      <td>False</td>\n      <td>0</td>\n    </tr>\n    <tr>\n      <th>..\\..\\..\\smg\\smg_data_phase1\\smg_skeleton_train\\Sample0001\\Sample0001_finelabels.csv</th>\n      <td>Sample0001_finelabels.csv</td>\n      <td>256</td>\n      <td>320</td>\n      <td>[]</td>\n      <td>[0.0, 0.0, 0.0, 0.0, 0.0, 0.0, 0.0, 0.0, 0.0, ...</td>\n      <td>False</td>\n      <td>0</td>\n    </tr>\n    <tr>\n      <th>...</th>\n      <td>...</td>\n      <td>...</td>\n      <td>...</td>\n      <td>...</td>\n      <td>...</td>\n      <td>...</td>\n      <td>...</td>\n    </tr>\n    <tr>\n      <th>..\\..\\..\\smg\\smg_data_phase1\\smg_skeleton_train\\Sample0030\\Sample0030_finelabels.csv</th>\n      <td>Sample0030_finelabels.csv</td>\n      <td>19648</td>\n      <td>19712</td>\n      <td>[8, 8]</td>\n      <td>[0.0, 0.0, 0.0, 0.0, 0.0, 0.0, 0.0, 0.0, 1.0, ...</td>\n      <td>True</td>\n      <td>2</td>\n    </tr>\n    <tr>\n      <th>..\\..\\..\\smg\\smg_data_phase1\\smg_skeleton_train\\Sample0030\\Sample0030_finelabels.csv</th>\n      <td>Sample0030_finelabels.csv</td>\n      <td>19712</td>\n      <td>19776</td>\n      <td>[8, 8]</td>\n      <td>[0.0, 0.0, 0.0, 0.0, 0.0, 0.0, 0.0, 0.0, 1.0, ...</td>\n      <td>True</td>\n      <td>2</td>\n    </tr>\n    <tr>\n      <th>..\\..\\..\\smg\\smg_data_phase1\\smg_skeleton_train\\Sample0030\\Sample0030_finelabels.csv</th>\n      <td>Sample0030_finelabels.csv</td>\n      <td>19776</td>\n      <td>19840</td>\n      <td>[8]</td>\n      <td>[0.0, 0.0, 0.0, 0.0, 0.0, 0.0, 0.0, 0.0, 1.0, ...</td>\n      <td>True</td>\n      <td>1</td>\n    </tr>\n    <tr>\n      <th>..\\..\\..\\smg\\smg_data_phase1\\smg_skeleton_train\\Sample0030\\Sample0030_finelabels.csv</th>\n      <td>Sample0030_finelabels.csv</td>\n      <td>19840</td>\n      <td>19904</td>\n      <td>[8]</td>\n      <td>[0.0, 0.0, 0.0, 0.0, 0.0, 0.0, 0.0, 0.0, 1.0, ...</td>\n      <td>True</td>\n      <td>1</td>\n    </tr>\n    <tr>\n      <th>..\\..\\..\\smg\\smg_data_phase1\\smg_skeleton_train\\Sample0030\\Sample0030_finelabels.csv</th>\n      <td>Sample0030_finelabels.csv</td>\n      <td>19904</td>\n      <td>19968</td>\n      <td>[]</td>\n      <td>[0.0, 0.0, 0.0, 0.0, 0.0, 0.0, 0.0, 0.0, 0.0, ...</td>\n      <td>False</td>\n      <td>0</td>\n    </tr>\n  </tbody>\n</table>\n<p>11532 rows × 7 columns</p>\n</div>"
     },
     "execution_count": 6,
     "metadata": {},
     "output_type": "execute_result"
    }
   ],
   "source": [
    "ret"
   ],
   "metadata": {
    "collapsed": false,
    "ExecuteTime": {
     "end_time": "2024-05-12T10:16:08.038088400Z",
     "start_time": "2024-05-12T10:16:08.005085500Z"
    }
   },
   "id": "8bfcf43029d6c38a"
  },
  {
   "cell_type": "code",
   "execution_count": null,
   "outputs": [],
   "source": [
    "n_labels = ret['n_labels']\n",
    "plt.hist([str(a) for a in n_labels])\n",
    "\n",
    "ret_move = ret.loc[ret['is_move']]\n",
    "n_labels = ret_move['n_labels']\n",
    "plt.hist([str(a) for a in n_labels])"
   ],
   "metadata": {
    "collapsed": false,
    "is_executing": true
   },
   "id": "1961af502fa765aa"
  },
  {
   "cell_type": "code",
   "execution_count": 7,
   "outputs": [],
   "source": [
    "def extract_and_save_frames(video_path, start_indices, end_indices, output_folder, debug=False, verbose=False, margin=0, overwrite_flag=False):\n",
    "    # Create output folder if it doesn't exist\n",
    "    os.makedirs(output_folder, exist_ok=True)\n",
    "\n",
    "    # Load the video using VideoReader\n",
    "    vr = VideoReader(video_path)\n",
    "    list_of_paths = []\n",
    "    \n",
    "    len_vr = len(vr)\n",
    "    # Iterate over start and end indices\n",
    "    for i, (start_ind, end_ind) in enumerate(zip(start_indices, end_indices), start=1):\n",
    "        \n",
    "        start_ind = max(0, start_ind-margin)\n",
    "        end_ind = min(end_ind+margin, len_vr-1)\n",
    "        \n",
    "        # Create a VideoWriter object\n",
    "        output_filename = os.path.join(output_folder, f\"{os.path.basename(video_path).split('.')[0]}_{i:04d}.mp4\")\n",
    "        list_of_paths.append(output_filename)\n",
    "        if osp.exists(output_filename) and not overwrite_flag:\n",
    "            continue\n",
    "            \n",
    "        if not debug:\n",
    "            # Extract frames between start and end indices\n",
    "            frames = vr.get_batch(list(range(start_ind, end_ind + 1))).asnumpy()\n",
    "\n",
    "            fps = vr.get_avg_fps()\n",
    "            height, width, _ = frames[0].shape\n",
    "        \n",
    "            fourcc = cv2.VideoWriter_fourcc(*'mp4v')\n",
    "            \n",
    "            out = cv2.VideoWriter(output_filename, fourcc, fps, (width, height))\n",
    "            \n",
    "            # Write each frame to the video file\n",
    "            for frame in tqdm(frames, total=len(frames), leave=False, disable= not verbose):\n",
    "                frame = cv2.cvtColor(frame, cv2.COLOR_RGB2BGR)  # Convert RGB to BGR\n",
    "                out.write(frame)\n",
    "            \n",
    "            # Release the VideoWriter object\n",
    "            out.release()\n",
    "        \n",
    "    if verbose:\n",
    "        print(\"Frames extracted and saved successfully.\")\n",
    "    return list_of_paths"
   ],
   "metadata": {
    "collapsed": true,
    "ExecuteTime": {
     "end_time": "2024-05-08T14:23:30.549664800Z",
     "start_time": "2024-05-08T14:23:30.536670200Z"
    }
   },
   "id": "initial_id"
  },
  {
   "cell_type": "code",
   "execution_count": 8,
   "outputs": [],
   "source": [
    "def clip_files(list_of_df, save_folder, debug=False, verbose=False, margin=0):\n",
    "    all_csv_files = glob(osp.join(path_to_data,'*',\"*labels.csv\"))\n",
    "    df_list = []\n",
    "    column_names = [\"label\",\"start_frame\",\"end_frame\"]\n",
    "    for csv_file in tqdm(all_csv_files, total=len(all_csv_files)):\n",
    "            \n",
    "        temp_df = pd.read_csv(csv_file, header=None, names=column_names)\n",
    "        \n",
    "        file_parts = csv_file.split(os.sep)\n",
    "    \n",
    "        file_path = osp.join(osp.join(*file_parts[:-4]), 'SMG_RGB_Phase1',f'smg_rgb_{dataset}',file_parts[-2],file_parts[-2]+'_color.mp4'  )\n",
    "        temp_df['paths'] = extract_and_save_frames(video_path=file_path, start_indices=temp_df.start_frame, end_indices= temp_df.end_frame, output_folder=save_folder, debug=debug, verbose=verbose, margin=margin)\n",
    "        temp_df['basename'] = file_parts[-2]\n",
    "        temp_df['durations'] = temp_df.end_frame - temp_df.start_frame\n",
    "        df_list.append(temp_df)\n",
    "    return df_list"
   ],
   "metadata": {
    "collapsed": false,
    "ExecuteTime": {
     "end_time": "2024-05-08T14:23:31.418830400Z",
     "start_time": "2024-05-08T14:23:31.408836600Z"
    }
   },
   "id": "c7a05cfa16c83879"
  },
  {
   "cell_type": "code",
   "execution_count": 9,
   "outputs": [],
   "source": [
    "save_folder = osp.join(osp.join(*path_to_data.split(os.sep)[:-2]),'smg_split_files', 'train')\n",
    "os.makedirs(save_folder, exist_ok=True)"
   ],
   "metadata": {
    "collapsed": false,
    "ExecuteTime": {
     "end_time": "2024-05-08T14:23:32.703195700Z",
     "start_time": "2024-05-08T14:23:32.691205100Z"
    }
   },
   "id": "562462624d9a82de"
  },
  {
   "cell_type": "code",
   "execution_count": 10,
   "outputs": [
    {
     "name": "stderr",
     "output_type": "stream",
     "text": [
      "100%|██████████| 5/5 [00:01<00:00,  4.09it/s]\n"
     ]
    }
   ],
   "source": [
    "df_list = clip_files(path_to_data, save_folder, verbose=False, margin=5)\n"
   ],
   "metadata": {
    "collapsed": false,
    "ExecuteTime": {
     "end_time": "2024-05-08T14:23:35.101537100Z",
     "start_time": "2024-05-08T14:23:33.859511700Z"
    }
   },
   "id": "cf59af0b648a3d94"
  },
  {
   "cell_type": "code",
   "execution_count": 11,
   "outputs": [],
   "source": [
    "df_ret = pd.concat(df_list)\n",
    "df_ret.to_csv(osp.join(save_folder,'..',f'{dataset}.csv'))"
   ],
   "metadata": {
    "collapsed": false,
    "ExecuteTime": {
     "end_time": "2024-05-08T14:23:54.730118100Z",
     "start_time": "2024-05-08T14:23:54.719120700Z"
    }
   },
   "id": "29914aaa33b6b44a"
  },
  {
   "cell_type": "code",
   "execution_count": 12,
   "outputs": [
    {
     "data": {
      "text/plain": "     label  start_frame  end_frame  \\\n0        5          940       1029   \n1        5         1245       1329   \n2        5         1482       1587   \n3        5         1744       1826   \n4        5         1865       1933   \n..     ...          ...        ...   \n99      13        23616      23675   \n100      9        23991      24062   \n101      5        24361      24454   \n102      5        24478      24539   \n103      9        24572      24616   \n\n                                                 paths    basename  durations  \n0    ..\\..\\smg\\smg_split_files\\train\\Sample0031_col...  Sample0031         89  \n1    ..\\..\\smg\\smg_split_files\\train\\Sample0031_col...  Sample0031         84  \n2    ..\\..\\smg\\smg_split_files\\train\\Sample0031_col...  Sample0031        105  \n3    ..\\..\\smg\\smg_split_files\\train\\Sample0031_col...  Sample0031         82  \n4    ..\\..\\smg\\smg_split_files\\train\\Sample0031_col...  Sample0031         68  \n..                                                 ...         ...        ...  \n99   ..\\..\\smg\\smg_split_files\\train\\Sample0035_col...  Sample0035         59  \n100  ..\\..\\smg\\smg_split_files\\train\\Sample0035_col...  Sample0035         71  \n101  ..\\..\\smg\\smg_split_files\\train\\Sample0035_col...  Sample0035         93  \n102  ..\\..\\smg\\smg_split_files\\train\\Sample0035_col...  Sample0035         61  \n103  ..\\..\\smg\\smg_split_files\\train\\Sample0035_col...  Sample0035         44  \n\n[637 rows x 6 columns]",
      "text/html": "<div>\n<style scoped>\n    .dataframe tbody tr th:only-of-type {\n        vertical-align: middle;\n    }\n\n    .dataframe tbody tr th {\n        vertical-align: top;\n    }\n\n    .dataframe thead th {\n        text-align: right;\n    }\n</style>\n<table border=\"1\" class=\"dataframe\">\n  <thead>\n    <tr style=\"text-align: right;\">\n      <th></th>\n      <th>label</th>\n      <th>start_frame</th>\n      <th>end_frame</th>\n      <th>paths</th>\n      <th>basename</th>\n      <th>durations</th>\n    </tr>\n  </thead>\n  <tbody>\n    <tr>\n      <th>0</th>\n      <td>5</td>\n      <td>940</td>\n      <td>1029</td>\n      <td>..\\..\\smg\\smg_split_files\\train\\Sample0031_col...</td>\n      <td>Sample0031</td>\n      <td>89</td>\n    </tr>\n    <tr>\n      <th>1</th>\n      <td>5</td>\n      <td>1245</td>\n      <td>1329</td>\n      <td>..\\..\\smg\\smg_split_files\\train\\Sample0031_col...</td>\n      <td>Sample0031</td>\n      <td>84</td>\n    </tr>\n    <tr>\n      <th>2</th>\n      <td>5</td>\n      <td>1482</td>\n      <td>1587</td>\n      <td>..\\..\\smg\\smg_split_files\\train\\Sample0031_col...</td>\n      <td>Sample0031</td>\n      <td>105</td>\n    </tr>\n    <tr>\n      <th>3</th>\n      <td>5</td>\n      <td>1744</td>\n      <td>1826</td>\n      <td>..\\..\\smg\\smg_split_files\\train\\Sample0031_col...</td>\n      <td>Sample0031</td>\n      <td>82</td>\n    </tr>\n    <tr>\n      <th>4</th>\n      <td>5</td>\n      <td>1865</td>\n      <td>1933</td>\n      <td>..\\..\\smg\\smg_split_files\\train\\Sample0031_col...</td>\n      <td>Sample0031</td>\n      <td>68</td>\n    </tr>\n    <tr>\n      <th>...</th>\n      <td>...</td>\n      <td>...</td>\n      <td>...</td>\n      <td>...</td>\n      <td>...</td>\n      <td>...</td>\n    </tr>\n    <tr>\n      <th>99</th>\n      <td>13</td>\n      <td>23616</td>\n      <td>23675</td>\n      <td>..\\..\\smg\\smg_split_files\\train\\Sample0035_col...</td>\n      <td>Sample0035</td>\n      <td>59</td>\n    </tr>\n    <tr>\n      <th>100</th>\n      <td>9</td>\n      <td>23991</td>\n      <td>24062</td>\n      <td>..\\..\\smg\\smg_split_files\\train\\Sample0035_col...</td>\n      <td>Sample0035</td>\n      <td>71</td>\n    </tr>\n    <tr>\n      <th>101</th>\n      <td>5</td>\n      <td>24361</td>\n      <td>24454</td>\n      <td>..\\..\\smg\\smg_split_files\\train\\Sample0035_col...</td>\n      <td>Sample0035</td>\n      <td>93</td>\n    </tr>\n    <tr>\n      <th>102</th>\n      <td>5</td>\n      <td>24478</td>\n      <td>24539</td>\n      <td>..\\..\\smg\\smg_split_files\\train\\Sample0035_col...</td>\n      <td>Sample0035</td>\n      <td>61</td>\n    </tr>\n    <tr>\n      <th>103</th>\n      <td>9</td>\n      <td>24572</td>\n      <td>24616</td>\n      <td>..\\..\\smg\\smg_split_files\\train\\Sample0035_col...</td>\n      <td>Sample0035</td>\n      <td>44</td>\n    </tr>\n  </tbody>\n</table>\n<p>637 rows × 6 columns</p>\n</div>"
     },
     "execution_count": 12,
     "metadata": {},
     "output_type": "execute_result"
    }
   ],
   "source": [
    "df_ret"
   ],
   "metadata": {
    "collapsed": false,
    "ExecuteTime": {
     "end_time": "2024-05-08T14:24:00.197841100Z",
     "start_time": "2024-05-08T14:24:00.173833500Z"
    }
   },
   "id": "8daf1a8c99ab4630"
  },
  {
   "cell_type": "code",
   "execution_count": null,
   "outputs": [],
   "source": [],
   "metadata": {
    "collapsed": false
   },
   "id": "981221a95cf73810"
  }
 ],
 "metadata": {
  "kernelspec": {
   "display_name": "Python 3",
   "language": "python",
   "name": "python3"
  },
  "language_info": {
   "codemirror_mode": {
    "name": "ipython",
    "version": 2
   },
   "file_extension": ".py",
   "mimetype": "text/x-python",
   "name": "python",
   "nbconvert_exporter": "python",
   "pygments_lexer": "ipython2",
   "version": "2.7.6"
  }
 },
 "nbformat": 4,
 "nbformat_minor": 5
}
