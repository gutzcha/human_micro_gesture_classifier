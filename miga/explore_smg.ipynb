{
 "cells": [
  {
   "cell_type": "code",
   "execution_count": 4,
   "id": "initial_id",
   "metadata": {
    "collapsed": true,
    "ExecuteTime": {
     "end_time": "2024-05-01T08:13:15.575933200Z",
     "start_time": "2024-05-01T08:13:15.556947200Z"
    }
   },
   "outputs": [],
   "source": [
    "import numpy as np\n",
    "import matplotlib.pyplot as plt\n",
    "# import seaborn as sns\n",
    "import pandas as pd\n",
    "import os\n",
    "import os.path as osp\n",
    "from glob import glob"
   ]
  },
  {
   "cell_type": "code",
   "execution_count": 10,
   "outputs": [],
   "source": [
    "# dataset = 'validate'\n",
    "dataset = 'train'\n",
    "path_to_data = f'../../smg/smg_data_phase1/smg_skeleton_{dataset}'\n",
    "path_to_data = osp.join(*path_to_data.split('/'))"
   ],
   "metadata": {
    "collapsed": false,
    "ExecuteTime": {
     "end_time": "2024-05-01T08:13:34.241076Z",
     "start_time": "2024-05-01T08:13:34.231120Z"
    }
   },
   "id": "17fd5a5ccbb28a49"
  },
  {
   "cell_type": "code",
   "execution_count": 11,
   "outputs": [
    {
     "data": {
      "text/plain": "    label  start_frame  end_frame    filename file_num             id\n0      15          100        176  Sample0001        0   Sample0001_0\n1      12          837        889  Sample0001        1   Sample0001_1\n2      12         1710       1749  Sample0001        2   Sample0001_2\n3       8         4849       4885  Sample0001        3   Sample0001_3\n4       9         6330       6368  Sample0001        4   Sample0001_4\n..    ...          ...        ...         ...      ...            ...\n51      9        19190      19278  Sample0030       51  Sample0030_51\n52      9        19413      19510  Sample0030       52  Sample0030_52\n53      9        19555      19680  Sample0030       53  Sample0030_53\n54      9        19686      19752  Sample0030       54  Sample0030_54\n55      9        19766      19885  Sample0030       55  Sample0030_55\n\n[2452 rows x 6 columns]",
      "text/html": "<div>\n<style scoped>\n    .dataframe tbody tr th:only-of-type {\n        vertical-align: middle;\n    }\n\n    .dataframe tbody tr th {\n        vertical-align: top;\n    }\n\n    .dataframe thead th {\n        text-align: right;\n    }\n</style>\n<table border=\"1\" class=\"dataframe\">\n  <thead>\n    <tr style=\"text-align: right;\">\n      <th></th>\n      <th>label</th>\n      <th>start_frame</th>\n      <th>end_frame</th>\n      <th>filename</th>\n      <th>file_num</th>\n      <th>id</th>\n    </tr>\n  </thead>\n  <tbody>\n    <tr>\n      <th>0</th>\n      <td>15</td>\n      <td>100</td>\n      <td>176</td>\n      <td>Sample0001</td>\n      <td>0</td>\n      <td>Sample0001_0</td>\n    </tr>\n    <tr>\n      <th>1</th>\n      <td>12</td>\n      <td>837</td>\n      <td>889</td>\n      <td>Sample0001</td>\n      <td>1</td>\n      <td>Sample0001_1</td>\n    </tr>\n    <tr>\n      <th>2</th>\n      <td>12</td>\n      <td>1710</td>\n      <td>1749</td>\n      <td>Sample0001</td>\n      <td>2</td>\n      <td>Sample0001_2</td>\n    </tr>\n    <tr>\n      <th>3</th>\n      <td>8</td>\n      <td>4849</td>\n      <td>4885</td>\n      <td>Sample0001</td>\n      <td>3</td>\n      <td>Sample0001_3</td>\n    </tr>\n    <tr>\n      <th>4</th>\n      <td>9</td>\n      <td>6330</td>\n      <td>6368</td>\n      <td>Sample0001</td>\n      <td>4</td>\n      <td>Sample0001_4</td>\n    </tr>\n    <tr>\n      <th>...</th>\n      <td>...</td>\n      <td>...</td>\n      <td>...</td>\n      <td>...</td>\n      <td>...</td>\n      <td>...</td>\n    </tr>\n    <tr>\n      <th>51</th>\n      <td>9</td>\n      <td>19190</td>\n      <td>19278</td>\n      <td>Sample0030</td>\n      <td>51</td>\n      <td>Sample0030_51</td>\n    </tr>\n    <tr>\n      <th>52</th>\n      <td>9</td>\n      <td>19413</td>\n      <td>19510</td>\n      <td>Sample0030</td>\n      <td>52</td>\n      <td>Sample0030_52</td>\n    </tr>\n    <tr>\n      <th>53</th>\n      <td>9</td>\n      <td>19555</td>\n      <td>19680</td>\n      <td>Sample0030</td>\n      <td>53</td>\n      <td>Sample0030_53</td>\n    </tr>\n    <tr>\n      <th>54</th>\n      <td>9</td>\n      <td>19686</td>\n      <td>19752</td>\n      <td>Sample0030</td>\n      <td>54</td>\n      <td>Sample0030_54</td>\n    </tr>\n    <tr>\n      <th>55</th>\n      <td>9</td>\n      <td>19766</td>\n      <td>19885</td>\n      <td>Sample0030</td>\n      <td>55</td>\n      <td>Sample0030_55</td>\n    </tr>\n  </tbody>\n</table>\n<p>2452 rows × 6 columns</p>\n</div>"
     },
     "execution_count": 11,
     "metadata": {},
     "output_type": "execute_result"
    }
   ],
   "source": [
    "def extract_all_labels_files(path_to_folder):\n",
    "    all_csv_files = glob(osp.join(path_to_folder,'*',\"*labels.csv\"))\n",
    "    df_list = []\n",
    "    column_names = [\"label\",\"start_frame\",\"end_frame\"]\n",
    "    rows = ['filename','file_num']\n",
    "    for csv_file in all_csv_files:\n",
    "        temp_df = pd.read_csv(csv_file, header=None, names=column_names)\n",
    "        \n",
    "        temp_df['filename'] = osp.basename(csv_file).split('_')[0]\n",
    "        temp_df['file_num'] = [str(x) for x in range(len(temp_df))]\n",
    "        temp_df['id'] = temp_df[rows].apply(lambda x: '_'.join(x.values.astype(str)), axis=1)\n",
    "        df_list.append(temp_df)\n",
    "    return pd.concat(df_list)\n",
    "df = extract_all_labels_files(path_to_data)\n",
    "df\n",
    "    "
   ],
   "metadata": {
    "collapsed": false,
    "ExecuteTime": {
     "end_time": "2024-05-01T08:13:34.715102Z",
     "start_time": "2024-05-01T08:13:34.503699Z"
    }
   },
   "id": "80fbf38812c34071"
  },
  {
   "cell_type": "code",
   "execution_count": 12,
   "outputs": [
    {
     "data": {
      "text/plain": "'D:\\\\Project-mpg microgesture\\\\human_micro_gesture_classifier\\\\miga'"
     },
     "execution_count": 12,
     "metadata": {},
     "output_type": "execute_result"
    }
   ],
   "source": [
    "os.getcwd()"
   ],
   "metadata": {
    "collapsed": false,
    "ExecuteTime": {
     "end_time": "2024-05-01T08:13:35.053103400Z",
     "start_time": "2024-05-01T08:13:35.033104Z"
    }
   },
   "id": "67acff5350d95efa"
  },
  {
   "cell_type": "code",
   "execution_count": 13,
   "outputs": [],
   "source": [
    "from sklearn.utils.class_weight import compute_class_weight"
   ],
   "metadata": {
    "collapsed": false,
    "ExecuteTime": {
     "end_time": "2024-05-01T08:13:35.848289700Z",
     "start_time": "2024-05-01T08:13:35.828285Z"
    }
   },
   "id": "534692c7754f0877"
  },
  {
   "cell_type": "code",
   "execution_count": 17,
   "outputs": [
    {
     "data": {
      "text/plain": "array([13.11229947,  0.8636844 ,  0.57925821,  0.19922002,  3.00490196,\n        3.60588235,  2.28944911,  0.82420168,  1.42807222,  0.2003268 ,\n        7.59133127,  3.69834087,  3.517934  ,  6.86834734, 10.30252101,\n       16.02614379, 13.11229947])"
     },
     "execution_count": 17,
     "metadata": {},
     "output_type": "execute_result"
    }
   ],
   "source": [
    "labels = df['label'].values\n",
    "classes = df['label'].unique()\n",
    "compute_class_weight(class_weight=\"balanced\", classes=classes, y=labels)"
   ],
   "metadata": {
    "collapsed": false,
    "ExecuteTime": {
     "end_time": "2024-05-01T08:16:43.481775200Z",
     "start_time": "2024-05-01T08:16:43.448775500Z"
    }
   },
   "id": "475c134355cf6e8f"
  },
  {
   "cell_type": "code",
   "execution_count": null,
   "outputs": [],
   "source": [],
   "metadata": {
    "collapsed": false
   },
   "id": "f2325f13634626d6"
  }
 ],
 "metadata": {
  "kernelspec": {
   "display_name": "Python 3",
   "language": "python",
   "name": "python3"
  },
  "language_info": {
   "codemirror_mode": {
    "name": "ipython",
    "version": 2
   },
   "file_extension": ".py",
   "mimetype": "text/x-python",
   "name": "python",
   "nbconvert_exporter": "python",
   "pygments_lexer": "ipython2",
   "version": "2.7.6"
  }
 },
 "nbformat": 4,
 "nbformat_minor": 5
}
