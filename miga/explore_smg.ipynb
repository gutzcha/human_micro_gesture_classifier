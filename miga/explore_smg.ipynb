{
 "cells": [
  {
   "cell_type": "code",
   "execution_count": 4,
   "id": "initial_id",
   "metadata": {
    "collapsed": true,
    "ExecuteTime": {
     "end_time": "2024-04-25T12:01:24.825312600Z",
     "start_time": "2024-04-25T12:01:24.818305800Z"
    }
   },
   "outputs": [],
   "source": [
    "import numpy as np\n",
    "import matplotlib.pyplot as plt\n",
    "# import seaborn as sns\n",
    "import pandas as pd\n",
    "import os\n",
    "import os.path as osp\n",
    "from glob import glob"
   ]
  },
  {
   "cell_type": "code",
   "execution_count": 22,
   "outputs": [],
   "source": [
    "dataset = 'validate'\n",
    "# dataset = 'train'\n",
    "path_to_data = f'../../smg/smg_data_phase1/smg_skeleton_{dataset}'\n",
    "path_to_data = osp.join(*path_to_data.split('/'))"
   ],
   "metadata": {
    "collapsed": false,
    "ExecuteTime": {
     "end_time": "2024-04-29T13:11:49.531707500Z",
     "start_time": "2024-04-29T13:11:49.517667500Z"
    }
   },
   "id": "17fd5a5ccbb28a49"
  },
  {
   "cell_type": "code",
   "execution_count": 23,
   "outputs": [
    {
     "data": {
      "text/plain": "     label  start_frame  end_frame    filename file_num              id\n0        5          940       1029  Sample0031        0    Sample0031_0\n1        5         1245       1329  Sample0031        1    Sample0031_1\n2        5         1482       1587  Sample0031        2    Sample0031_2\n3        5         1744       1826  Sample0031        3    Sample0031_3\n4        5         1865       1933  Sample0031        4    Sample0031_4\n..     ...          ...        ...         ...      ...             ...\n99      13        23616      23675  Sample0035       99   Sample0035_99\n100      9        23991      24062  Sample0035      100  Sample0035_100\n101      5        24361      24454  Sample0035      101  Sample0035_101\n102      5        24478      24539  Sample0035      102  Sample0035_102\n103      9        24572      24616  Sample0035      103  Sample0035_103\n\n[637 rows x 6 columns]",
      "text/html": "<div>\n<style scoped>\n    .dataframe tbody tr th:only-of-type {\n        vertical-align: middle;\n    }\n\n    .dataframe tbody tr th {\n        vertical-align: top;\n    }\n\n    .dataframe thead th {\n        text-align: right;\n    }\n</style>\n<table border=\"1\" class=\"dataframe\">\n  <thead>\n    <tr style=\"text-align: right;\">\n      <th></th>\n      <th>label</th>\n      <th>start_frame</th>\n      <th>end_frame</th>\n      <th>filename</th>\n      <th>file_num</th>\n      <th>id</th>\n    </tr>\n  </thead>\n  <tbody>\n    <tr>\n      <th>0</th>\n      <td>5</td>\n      <td>940</td>\n      <td>1029</td>\n      <td>Sample0031</td>\n      <td>0</td>\n      <td>Sample0031_0</td>\n    </tr>\n    <tr>\n      <th>1</th>\n      <td>5</td>\n      <td>1245</td>\n      <td>1329</td>\n      <td>Sample0031</td>\n      <td>1</td>\n      <td>Sample0031_1</td>\n    </tr>\n    <tr>\n      <th>2</th>\n      <td>5</td>\n      <td>1482</td>\n      <td>1587</td>\n      <td>Sample0031</td>\n      <td>2</td>\n      <td>Sample0031_2</td>\n    </tr>\n    <tr>\n      <th>3</th>\n      <td>5</td>\n      <td>1744</td>\n      <td>1826</td>\n      <td>Sample0031</td>\n      <td>3</td>\n      <td>Sample0031_3</td>\n    </tr>\n    <tr>\n      <th>4</th>\n      <td>5</td>\n      <td>1865</td>\n      <td>1933</td>\n      <td>Sample0031</td>\n      <td>4</td>\n      <td>Sample0031_4</td>\n    </tr>\n    <tr>\n      <th>...</th>\n      <td>...</td>\n      <td>...</td>\n      <td>...</td>\n      <td>...</td>\n      <td>...</td>\n      <td>...</td>\n    </tr>\n    <tr>\n      <th>99</th>\n      <td>13</td>\n      <td>23616</td>\n      <td>23675</td>\n      <td>Sample0035</td>\n      <td>99</td>\n      <td>Sample0035_99</td>\n    </tr>\n    <tr>\n      <th>100</th>\n      <td>9</td>\n      <td>23991</td>\n      <td>24062</td>\n      <td>Sample0035</td>\n      <td>100</td>\n      <td>Sample0035_100</td>\n    </tr>\n    <tr>\n      <th>101</th>\n      <td>5</td>\n      <td>24361</td>\n      <td>24454</td>\n      <td>Sample0035</td>\n      <td>101</td>\n      <td>Sample0035_101</td>\n    </tr>\n    <tr>\n      <th>102</th>\n      <td>5</td>\n      <td>24478</td>\n      <td>24539</td>\n      <td>Sample0035</td>\n      <td>102</td>\n      <td>Sample0035_102</td>\n    </tr>\n    <tr>\n      <th>103</th>\n      <td>9</td>\n      <td>24572</td>\n      <td>24616</td>\n      <td>Sample0035</td>\n      <td>103</td>\n      <td>Sample0035_103</td>\n    </tr>\n  </tbody>\n</table>\n<p>637 rows × 6 columns</p>\n</div>"
     },
     "execution_count": 23,
     "metadata": {},
     "output_type": "execute_result"
    }
   ],
   "source": [
    "def extract_all_labels_files(path_to_folder):\n",
    "    all_csv_files = glob(osp.join(path_to_folder,'*',\"*labels.csv\"))\n",
    "    df_list = []\n",
    "    column_names = [\"label\",\"start_frame\",\"end_frame\"]\n",
    "    rows = ['filename','file_num']\n",
    "    for csv_file in all_csv_files:\n",
    "        temp_df = pd.read_csv(csv_file, header=None, names=column_names)\n",
    "        \n",
    "        temp_df['filename'] = osp.basename(csv_file).split('_')[0]\n",
    "        temp_df['file_num'] = [str(x) for x in range(len(temp_df))]\n",
    "        temp_df['id'] = temp_df[rows].apply(lambda x: '_'.join(x.values.astype(str)), axis=1)\n",
    "        df_list.append(temp_df)\n",
    "    return pd.concat(df_list)\n",
    "df = extract_all_labels_files(path_to_data)\n",
    "df\n",
    "    "
   ],
   "metadata": {
    "collapsed": false,
    "ExecuteTime": {
     "end_time": "2024-04-29T13:11:49.842709500Z",
     "start_time": "2024-04-29T13:11:49.780709Z"
    }
   },
   "id": "80fbf38812c34071"
  },
  {
   "cell_type": "code",
   "execution_count": 17,
   "outputs": [
    {
     "data": {
      "text/plain": "'D:\\\\Project-mpg microgesture\\\\human_micro_gesture_classifier\\\\miga'"
     },
     "execution_count": 17,
     "metadata": {},
     "output_type": "execute_result"
    }
   ],
   "source": [
    "os.getcwd()"
   ],
   "metadata": {
    "collapsed": false,
    "ExecuteTime": {
     "end_time": "2024-04-25T12:04:45.659501300Z",
     "start_time": "2024-04-25T12:04:45.640503200Z"
    }
   },
   "id": "67acff5350d95efa"
  },
  {
   "cell_type": "code",
   "execution_count": null,
   "outputs": [],
   "source": [],
   "metadata": {
    "collapsed": false
   },
   "id": "534692c7754f0877"
  }
 ],
 "metadata": {
  "kernelspec": {
   "display_name": "Python 3",
   "language": "python",
   "name": "python3"
  },
  "language_info": {
   "codemirror_mode": {
    "name": "ipython",
    "version": 2
   },
   "file_extension": ".py",
   "mimetype": "text/x-python",
   "name": "python",
   "nbconvert_exporter": "python",
   "pygments_lexer": "ipython2",
   "version": "2.7.6"
  }
 },
 "nbformat": 4,
 "nbformat_minor": 5
}
