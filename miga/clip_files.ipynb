{
 "cells": [
  {
   "cell_type": "code",
   "execution_count": 1,
   "id": "11a89c7f4e9f9f9c",
   "metadata": {
    "collapsed": false,
    "ExecuteTime": {
     "end_time": "2024-05-08T13:59:03.167906300Z",
     "start_time": "2024-05-08T13:59:02.940907600Z"
    }
   },
   "outputs": [],
   "source": [
    "import pandas as pd\n",
    "import os\n",
    "import os.path as osp\n",
    "from glob import glob\n",
    "from decord import VideoReader\n",
    "import cv2\n",
    "from tqdm import tqdm"
   ]
  },
  {
   "cell_type": "code",
   "execution_count": 2,
   "outputs": [],
   "source": [
    "\n",
    "\n",
    "dataset = 'validate'\n",
    "# dataset = 'train'\n",
    "path_to_data = f'../../smg/smg_data_phase1/smg_skeleton_{dataset}'\n",
    "path_to_data = osp.join(*path_to_data.split('/'))\n"
   ],
   "metadata": {
    "collapsed": false,
    "ExecuteTime": {
     "end_time": "2024-05-08T13:59:04.076912300Z",
     "start_time": "2024-05-08T13:59:04.057909800Z"
    }
   },
   "id": "e30e1ee9002996ac"
  },
  {
   "cell_type": "code",
   "execution_count": 7,
   "outputs": [],
   "source": [
    "def extract_and_save_frames(video_path, start_indices, end_indices, output_folder, debug=False, verbose=False, margin=0, overwrite_flag=False):\n",
    "    # Create output folder if it doesn't exist\n",
    "    os.makedirs(output_folder, exist_ok=True)\n",
    "\n",
    "    # Load the video using VideoReader\n",
    "    vr = VideoReader(video_path)\n",
    "    list_of_paths = []\n",
    "    \n",
    "    len_vr = len(vr)\n",
    "    # Iterate over start and end indices\n",
    "    for i, (start_ind, end_ind) in enumerate(zip(start_indices, end_indices), start=1):\n",
    "        \n",
    "        start_ind = max(0, start_ind-margin)\n",
    "        end_ind = min(end_ind+margin, len_vr-1)\n",
    "        \n",
    "        # Create a VideoWriter object\n",
    "        output_filename = os.path.join(output_folder, f\"{os.path.basename(video_path).split('.')[0]}_{i:04d}.mp4\")\n",
    "        list_of_paths.append(output_filename)\n",
    "        if osp.exists(output_filename) and not overwrite_flag:\n",
    "            continue\n",
    "            \n",
    "        if not debug:\n",
    "            # Extract frames between start and end indices\n",
    "            frames = vr.get_batch(list(range(start_ind, end_ind + 1))).asnumpy()\n",
    "\n",
    "            fps = vr.get_avg_fps()\n",
    "            height, width, _ = frames[0].shape\n",
    "        \n",
    "            fourcc = cv2.VideoWriter_fourcc(*'mp4v')\n",
    "            \n",
    "            out = cv2.VideoWriter(output_filename, fourcc, fps, (width, height))\n",
    "            \n",
    "            # Write each frame to the video file\n",
    "            for frame in tqdm(frames, total=len(frames), leave=False, disable= not verbose):\n",
    "                frame = cv2.cvtColor(frame, cv2.COLOR_RGB2BGR)  # Convert RGB to BGR\n",
    "                out.write(frame)\n",
    "            \n",
    "            # Release the VideoWriter object\n",
    "            out.release()\n",
    "        \n",
    "    if verbose:\n",
    "        print(\"Frames extracted and saved successfully.\")\n",
    "    return list_of_paths"
   ],
   "metadata": {
    "collapsed": true,
    "ExecuteTime": {
     "end_time": "2024-05-08T14:23:30.549664800Z",
     "start_time": "2024-05-08T14:23:30.536670200Z"
    }
   },
   "id": "initial_id"
  },
  {
   "cell_type": "code",
   "execution_count": 8,
   "outputs": [],
   "source": [
    "def clip_files(path_to_data, save_folder, debug=False, verbose=False, margin=0):\n",
    "    all_csv_files = glob(osp.join(path_to_data,'*',\"*labels.csv\"))\n",
    "    df_list = []\n",
    "    column_names = [\"label\",\"start_frame\",\"end_frame\"]\n",
    "    for csv_file in tqdm(all_csv_files, total=len(all_csv_files)):\n",
    "            \n",
    "        temp_df = pd.read_csv(csv_file, header=None, names=column_names)\n",
    "        \n",
    "        file_parts = csv_file.split(os.sep)\n",
    "    \n",
    "        file_path = osp.join(osp.join(*file_parts[:-4]), 'SMG_RGB_Phase1',f'smg_rgb_{dataset}',file_parts[-2],file_parts[-2]+'_color.mp4'  )\n",
    "        temp_df['paths'] = extract_and_save_frames(video_path=file_path, start_indices=temp_df.start_frame, end_indices= temp_df.end_frame, output_folder=save_folder, debug=debug, verbose=verbose, margin=margin)\n",
    "        temp_df['basename'] = file_parts[-2]\n",
    "        temp_df['durations'] = temp_df.end_frame - temp_df.start_frame\n",
    "        df_list.append(temp_df)\n",
    "    return df_list"
   ],
   "metadata": {
    "collapsed": false,
    "ExecuteTime": {
     "end_time": "2024-05-08T14:23:31.418830400Z",
     "start_time": "2024-05-08T14:23:31.408836600Z"
    }
   },
   "id": "c7a05cfa16c83879"
  },
  {
   "cell_type": "code",
   "execution_count": 9,
   "outputs": [],
   "source": [
    "save_folder = osp.join(osp.join(*path_to_data.split(os.sep)[:-2]),'smg_split_files', 'train')\n",
    "os.makedirs(save_folder, exist_ok=True)"
   ],
   "metadata": {
    "collapsed": false,
    "ExecuteTime": {
     "end_time": "2024-05-08T14:23:32.703195700Z",
     "start_time": "2024-05-08T14:23:32.691205100Z"
    }
   },
   "id": "562462624d9a82de"
  },
  {
   "cell_type": "code",
   "execution_count": 10,
   "outputs": [
    {
     "name": "stderr",
     "output_type": "stream",
     "text": [
      "100%|██████████| 5/5 [00:01<00:00,  4.09it/s]\n"
     ]
    }
   ],
   "source": [
    "df_list = clip_files(path_to_data, save_folder, verbose=False, margin=5)\n"
   ],
   "metadata": {
    "collapsed": false,
    "ExecuteTime": {
     "end_time": "2024-05-08T14:23:35.101537100Z",
     "start_time": "2024-05-08T14:23:33.859511700Z"
    }
   },
   "id": "cf59af0b648a3d94"
  },
  {
   "cell_type": "code",
   "execution_count": 11,
   "outputs": [],
   "source": [
    "df_ret = pd.concat(df_list)\n",
    "df_ret.to_csv(osp.join(save_folder,'..',f'{dataset}.csv'))"
   ],
   "metadata": {
    "collapsed": false,
    "ExecuteTime": {
     "end_time": "2024-05-08T14:23:54.730118100Z",
     "start_time": "2024-05-08T14:23:54.719120700Z"
    }
   },
   "id": "29914aaa33b6b44a"
  },
  {
   "cell_type": "code",
   "execution_count": 12,
   "outputs": [
    {
     "data": {
      "text/plain": "     label  start_frame  end_frame  \\\n0        5          940       1029   \n1        5         1245       1329   \n2        5         1482       1587   \n3        5         1744       1826   \n4        5         1865       1933   \n..     ...          ...        ...   \n99      13        23616      23675   \n100      9        23991      24062   \n101      5        24361      24454   \n102      5        24478      24539   \n103      9        24572      24616   \n\n                                                 paths    basename  durations  \n0    ..\\..\\smg\\smg_split_files\\train\\Sample0031_col...  Sample0031         89  \n1    ..\\..\\smg\\smg_split_files\\train\\Sample0031_col...  Sample0031         84  \n2    ..\\..\\smg\\smg_split_files\\train\\Sample0031_col...  Sample0031        105  \n3    ..\\..\\smg\\smg_split_files\\train\\Sample0031_col...  Sample0031         82  \n4    ..\\..\\smg\\smg_split_files\\train\\Sample0031_col...  Sample0031         68  \n..                                                 ...         ...        ...  \n99   ..\\..\\smg\\smg_split_files\\train\\Sample0035_col...  Sample0035         59  \n100  ..\\..\\smg\\smg_split_files\\train\\Sample0035_col...  Sample0035         71  \n101  ..\\..\\smg\\smg_split_files\\train\\Sample0035_col...  Sample0035         93  \n102  ..\\..\\smg\\smg_split_files\\train\\Sample0035_col...  Sample0035         61  \n103  ..\\..\\smg\\smg_split_files\\train\\Sample0035_col...  Sample0035         44  \n\n[637 rows x 6 columns]",
      "text/html": "<div>\n<style scoped>\n    .dataframe tbody tr th:only-of-type {\n        vertical-align: middle;\n    }\n\n    .dataframe tbody tr th {\n        vertical-align: top;\n    }\n\n    .dataframe thead th {\n        text-align: right;\n    }\n</style>\n<table border=\"1\" class=\"dataframe\">\n  <thead>\n    <tr style=\"text-align: right;\">\n      <th></th>\n      <th>label</th>\n      <th>start_frame</th>\n      <th>end_frame</th>\n      <th>paths</th>\n      <th>basename</th>\n      <th>durations</th>\n    </tr>\n  </thead>\n  <tbody>\n    <tr>\n      <th>0</th>\n      <td>5</td>\n      <td>940</td>\n      <td>1029</td>\n      <td>..\\..\\smg\\smg_split_files\\train\\Sample0031_col...</td>\n      <td>Sample0031</td>\n      <td>89</td>\n    </tr>\n    <tr>\n      <th>1</th>\n      <td>5</td>\n      <td>1245</td>\n      <td>1329</td>\n      <td>..\\..\\smg\\smg_split_files\\train\\Sample0031_col...</td>\n      <td>Sample0031</td>\n      <td>84</td>\n    </tr>\n    <tr>\n      <th>2</th>\n      <td>5</td>\n      <td>1482</td>\n      <td>1587</td>\n      <td>..\\..\\smg\\smg_split_files\\train\\Sample0031_col...</td>\n      <td>Sample0031</td>\n      <td>105</td>\n    </tr>\n    <tr>\n      <th>3</th>\n      <td>5</td>\n      <td>1744</td>\n      <td>1826</td>\n      <td>..\\..\\smg\\smg_split_files\\train\\Sample0031_col...</td>\n      <td>Sample0031</td>\n      <td>82</td>\n    </tr>\n    <tr>\n      <th>4</th>\n      <td>5</td>\n      <td>1865</td>\n      <td>1933</td>\n      <td>..\\..\\smg\\smg_split_files\\train\\Sample0031_col...</td>\n      <td>Sample0031</td>\n      <td>68</td>\n    </tr>\n    <tr>\n      <th>...</th>\n      <td>...</td>\n      <td>...</td>\n      <td>...</td>\n      <td>...</td>\n      <td>...</td>\n      <td>...</td>\n    </tr>\n    <tr>\n      <th>99</th>\n      <td>13</td>\n      <td>23616</td>\n      <td>23675</td>\n      <td>..\\..\\smg\\smg_split_files\\train\\Sample0035_col...</td>\n      <td>Sample0035</td>\n      <td>59</td>\n    </tr>\n    <tr>\n      <th>100</th>\n      <td>9</td>\n      <td>23991</td>\n      <td>24062</td>\n      <td>..\\..\\smg\\smg_split_files\\train\\Sample0035_col...</td>\n      <td>Sample0035</td>\n      <td>71</td>\n    </tr>\n    <tr>\n      <th>101</th>\n      <td>5</td>\n      <td>24361</td>\n      <td>24454</td>\n      <td>..\\..\\smg\\smg_split_files\\train\\Sample0035_col...</td>\n      <td>Sample0035</td>\n      <td>93</td>\n    </tr>\n    <tr>\n      <th>102</th>\n      <td>5</td>\n      <td>24478</td>\n      <td>24539</td>\n      <td>..\\..\\smg\\smg_split_files\\train\\Sample0035_col...</td>\n      <td>Sample0035</td>\n      <td>61</td>\n    </tr>\n    <tr>\n      <th>103</th>\n      <td>9</td>\n      <td>24572</td>\n      <td>24616</td>\n      <td>..\\..\\smg\\smg_split_files\\train\\Sample0035_col...</td>\n      <td>Sample0035</td>\n      <td>44</td>\n    </tr>\n  </tbody>\n</table>\n<p>637 rows × 6 columns</p>\n</div>"
     },
     "execution_count": 12,
     "metadata": {},
     "output_type": "execute_result"
    }
   ],
   "source": [
    "df_ret"
   ],
   "metadata": {
    "collapsed": false,
    "ExecuteTime": {
     "end_time": "2024-05-08T14:24:00.197841100Z",
     "start_time": "2024-05-08T14:24:00.173833500Z"
    }
   },
   "id": "8daf1a8c99ab4630"
  },
  {
   "cell_type": "code",
   "execution_count": null,
   "outputs": [],
   "source": [],
   "metadata": {
    "collapsed": false
   },
   "id": "981221a95cf73810"
  }
 ],
 "metadata": {
  "kernelspec": {
   "display_name": "Python 3",
   "language": "python",
   "name": "python3"
  },
  "language_info": {
   "codemirror_mode": {
    "name": "ipython",
    "version": 2
   },
   "file_extension": ".py",
   "mimetype": "text/x-python",
   "name": "python",
   "nbconvert_exporter": "python",
   "pygments_lexer": "ipython2",
   "version": "2.7.6"
  }
 },
 "nbformat": 4,
 "nbformat_minor": 5
}
