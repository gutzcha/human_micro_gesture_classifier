{
 "cells": [
  {
   "cell_type": "code",
   "execution_count": 7,
   "metadata": {
    "ExecuteTime": {
     "end_time": "2024-07-02T10:13:07.459964100Z",
     "start_time": "2024-07-02T10:13:07.276945900Z"
    }
   },
   "outputs": [],
   "source": [
    "import ast\n",
    "\n",
    "import pandas as pd\n",
    "import os\n",
    "import os.path as osp\n",
    "from glob import glob\n",
    "import sys\n",
    "\n",
    "import seaborn\n",
    "\n",
    "from const import ID2LABELS, fine2coarse, COARSE_LABEL\n",
    "# Add the parent directory to the Python path\n",
    "sys.path.insert(0, '..')\n",
    "import numpy as np\n",
    "import torch\n",
    "\n",
    "import seaborn as sns\n",
    "import matplotlib.pyplot as plt\n",
    "\n",
    "from sklearn.model_selection import StratifiedGroupKFold"
   ]
  },
  {
   "cell_type": "code",
   "execution_count": 3,
   "metadata": {
    "ExecuteTime": {
     "end_time": "2024-07-02T09:55:35.543188800Z",
     "start_time": "2024-07-02T09:55:35.529188200Z"
    }
   },
   "outputs": [],
   "source": [
    "path_to_root_folder = r'D:\\Project-mpg microgesture\\mac2024\\track1\\annotations-20240613T185539Z-001\\annotations'\n",
    "path_to_root_folder = osp.join(*path_to_root_folder.split('/'))\n",
    "\n",
    "train_data_path = osp.join(path_to_root_folder,'train_list_videos.txt')\n",
    "# val_data_path = osp.join(path_to_root_folder,'val_list_videos.txt')\n",
    "# test_data_path = osp.join(path_to_root_folder,'test_list_videos.txt')\n",
    "\n",
    "# train_files_folder = osp.join(path_to_root_folder, 'train')\n",
    "# val_files_folder = osp.join(path_to_root_folder, 'validation')"
   ]
  },
  {
   "cell_type": "code",
   "execution_count": 27,
   "outputs": [
    {
     "data": {
      "text/plain": "                  category subject_id\nfilename                             \n0003_01_0001.mp4         9       0003\n0003_01_0002.mp4         9       0003\n0003_01_0003.mp4         9       0003\n0003_01_0009.mp4         7       0003\n0003_01_0011.mp4         8       0003\n...                    ...        ...\n0193_05_0008.mp4        47       0193\n0193_05_0012.mp4        39       0193\n0193_05_0014.mp4        39       0193\n0193_06_0001.mp4        48       0193\n0193_06_0004.mp4        49       0193\n\n[11250 rows x 2 columns]",
      "text/html": "<div>\n<style scoped>\n    .dataframe tbody tr th:only-of-type {\n        vertical-align: middle;\n    }\n\n    .dataframe tbody tr th {\n        vertical-align: top;\n    }\n\n    .dataframe thead th {\n        text-align: right;\n    }\n</style>\n<table border=\"1\" class=\"dataframe\">\n  <thead>\n    <tr style=\"text-align: right;\">\n      <th></th>\n      <th>category</th>\n      <th>subject_id</th>\n    </tr>\n    <tr>\n      <th>filename</th>\n      <th></th>\n      <th></th>\n    </tr>\n  </thead>\n  <tbody>\n    <tr>\n      <th>0003_01_0001.mp4</th>\n      <td>9</td>\n      <td>0003</td>\n    </tr>\n    <tr>\n      <th>0003_01_0002.mp4</th>\n      <td>9</td>\n      <td>0003</td>\n    </tr>\n    <tr>\n      <th>0003_01_0003.mp4</th>\n      <td>9</td>\n      <td>0003</td>\n    </tr>\n    <tr>\n      <th>0003_01_0009.mp4</th>\n      <td>7</td>\n      <td>0003</td>\n    </tr>\n    <tr>\n      <th>0003_01_0011.mp4</th>\n      <td>8</td>\n      <td>0003</td>\n    </tr>\n    <tr>\n      <th>...</th>\n      <td>...</td>\n      <td>...</td>\n    </tr>\n    <tr>\n      <th>0193_05_0008.mp4</th>\n      <td>47</td>\n      <td>0193</td>\n    </tr>\n    <tr>\n      <th>0193_05_0012.mp4</th>\n      <td>39</td>\n      <td>0193</td>\n    </tr>\n    <tr>\n      <th>0193_05_0014.mp4</th>\n      <td>39</td>\n      <td>0193</td>\n    </tr>\n    <tr>\n      <th>0193_06_0001.mp4</th>\n      <td>48</td>\n      <td>0193</td>\n    </tr>\n    <tr>\n      <th>0193_06_0004.mp4</th>\n      <td>49</td>\n      <td>0193</td>\n    </tr>\n  </tbody>\n</table>\n<p>11250 rows × 2 columns</p>\n</div>"
     },
     "execution_count": 27,
     "metadata": {},
     "output_type": "execute_result"
    }
   ],
   "source": [
    "df_train_raw = pd.read_csv(train_data_path, sep=' ', header=None)\n",
    "\n",
    "df_train_raw.columns = ['filename','category']\n",
    "df_train_raw['subject_id'] = df_train_raw['filename'].apply(lambda x: x.split('_')[0])\n",
    "df_train_raw = df_train_raw.set_index('filename')\n",
    "df_train_raw"
   ],
   "metadata": {
    "collapsed": false,
    "ExecuteTime": {
     "end_time": "2024-07-02T10:24:18.062527200Z",
     "start_time": "2024-07-02T10:24:18.031527300Z"
    }
   }
  },
  {
   "cell_type": "code",
   "execution_count": 31,
   "outputs": [
    {
     "name": "stdout",
     "output_type": "stream",
     "text": [
      "Group 3. loss_train: 0.2561252437360738 | loss_val: 0.6490842075643096 | loss_test: 0.3879236174795441 | \n",
      "Group 4. loss_train: -0.39558559608349675 | loss_val: -0.130366240292199 | loss_test: -0.5295209305288371 | \n",
      "Group 5. loss_train: 0.2841556440285976 | loss_val: -0.01830797867068862 | loss_test: 0.36491020171857375 | \n",
      "Group 6. loss_train: 0.060626220486750815 | loss_val: -0.11795730066178148 | loss_test: 0.11829046929955749 | \n",
      "Group 7. loss_train: 0.41954352563383734 | loss_val: 0.050773835000785396 | loss_test: -0.0036388221661929412 | \n",
      "Group 8. loss_train: 0.2637888202473622 | loss_val: 0.04036684399791828 | loss_test: -0.030016187237785562 | \n",
      "Group 9. loss_train: 0.11460564159933327 | loss_val: 0.05821056265465761 | loss_test: -0.024944999834716 | \n",
      "Group 10. loss_train: 0.31450358964584324 | loss_val: -0.1371495578300946 | loss_test: -0.03799597943967128 | \n",
      "Group 11. loss_train: -0.08922607412854985 | loss_val: 0.10372791596396286 | loss_test: -0.044610569984044154 | \n",
      "Group 12. loss_train: 0.12738112717120498 | loss_val: -0.05020913893824123 | loss_test: 0.0235179167271292 | \n",
      "Group 13. loss_train: 0.12153627479460188 | loss_val: -0.022335800264719964 | loss_test: 0.030592086193836264 | \n",
      "Group 14. loss_train: 0.09564515891733177 | loss_val: 0.016289432654572472 | loss_test: 0.08015510704567594 | \n",
      "Group 15. loss_train: 0.08259910864108747 | loss_val: -0.009092383612360321 | loss_test: 0.03537835804560092 | \n",
      "Group 16. loss_train: 0.0510852477598335 | loss_val: -0.0030545443416598386 | loss_test: 0.09386747813883145 | \n",
      "Group 17. loss_train: 0.04619406882541692 | loss_val: -0.06553557414385888 | loss_test: 0.01307693158896158 | \n",
      "Group 18. loss_train: -0.012342833597666157 | loss_val: -0.11641131214672057 | loss_test: -0.051131081840296785 | \n",
      "Group 19. loss_train: 0.0421470898563408 | loss_val: 0.03634673026408845 | loss_test: 0.023103339008297127 | \n",
      "Group 20. loss_train: 0.03778774057860393 | loss_val: 0.023002024570923346 | loss_test: 0.047637212249548255 | \n",
      "Group 21. loss_train: 0.04517324783331983 | loss_val: 0.04708938192046919 | loss_test: 0.01934567145113057 | \n",
      "Group 22. loss_train: 0.05131364586039486 | loss_val: 0.0583111176964195 | loss_test: 0.002705681484452345 | \n",
      "Group 23. loss_train: 0.0426886879418447 | loss_val: -0.013224244709221553 | loss_test: 0.02056829215650041 | \n",
      "Group 24. loss_train: 0.03059916139747228 | loss_val: -0.05382392979586722 | loss_test: -0.1840265512987643 | \n",
      "Group 25. loss_train: 0.023754476533010393 | loss_val: 0.008838288136243546 | loss_test: 0.019482710727419104 | \n",
      "Group 26. loss_train: 0.03660376586684454 | loss_val: -0.009983372141061668 | loss_test: 0.02112250788591036 | \n",
      "Group 27. loss_train: 0.013531654570126745 | loss_val: 0.023541394112293584 | loss_test: 0.028363898872434238 | \n",
      "Group 28. loss_train: 0.014854002079079817 | loss_val: 0.01657930657862066 | loss_test: 0.01583745949948669 | \n",
      "Group 29. loss_train: 0.022021238750093958 | loss_val: 0.004119309915607005 | loss_test: 0.01679422076514124 | \n",
      "Group 30. loss_train: 0.009679997614497931 | loss_val: 0.0021265479282835155 | loss_test: 0.005492578328492299 | \n",
      "Group 31. loss_train: 0.021206101242422525 | loss_val: 0.004457824024369589 | loss_test: -0.007161952314063904 | \n",
      "Group 32. loss_train: 0.02401350245637865 | loss_val: -0.00822257122097217 | loss_test: -0.000283711979100271 | \n",
      "Group 33. loss_train: 0.007510150001167318 | loss_val: 0.01017479560596653 | loss_test: 0.0011629799999070744 | \n",
      "Group 34. loss_train: 0.005900221659465578 | loss_val: -0.0008966639478519825 | loss_test: 0.027449489952011366 | \n",
      "Group 35. loss_train: 0.0044728903552643945 | loss_val: -0.01644720583581819 | loss_test: -0.04203245177907487 | \n",
      "Group 36. loss_train: 0.004327836247279755 | loss_val: 0.0017649513853380382 | loss_test: 0.013041282162231027 | \n",
      "Group 37. loss_train: 0.0065205180825274045 | loss_val: -0.012297451009528114 | loss_test: -0.004240094241803062 | \n",
      "Group 38. loss_train: 0.004851437867638763 | loss_val: 0.005533534191939241 | loss_test: 0.008901744979868172 | \n",
      "Group 39. loss_train: 0.00419883560148312 | loss_val: 0.0075345912159551385 | loss_test: 0.005851900387388017 | \n",
      "Group 40. loss_train: 0.00790851968441008 | loss_val: 0.00235199259470413 | loss_test: 0.006475392326477541 | \n",
      "Group 41. loss_train: 0.0056586379333629245 | loss_val: 0.006231162477752654 | loss_test: 0.011878694805671898 | \n",
      "Group 42. loss_train: 0.009914719704122912 | loss_val: -0.0004613513372440049 | loss_test: -0.0002693758939930379 | \n",
      "Group 43. loss_train: 0.00925700917134271 | loss_val: 0.016087517161377247 | loss_test: -0.003922982411685296 | \n",
      "Group 44. loss_train: 0.008281879343410103 | loss_val: -0.01717505098460651 | loss_test: -0.005250641170702041 | \n",
      "Group 45. loss_train: 0.010027309028892201 | loss_val: 0.0031686867987380254 | loss_test: 0.00030550821700070377 | \n",
      "Group 46. loss_train: 0.004705083986006448 | loss_val: 0.0041357478295228605 | loss_test: -0.007522742885405576 | \n",
      "Group 47. loss_train: 0.006105634776982172 | loss_val: -0.0034494485660347294 | loss_test: 0.002953164435484326 | \n",
      "Group 48. loss_train: 0.007004382657909963 | loss_val: -0.007663416993202965 | loss_test: 0.003972319446642344 | \n",
      "Group 49. loss_train: 0.004594536622446218 | loss_val: 0.004676116739949274 | loss_test: 0.002901103503958383 | \n",
      "Group 50. loss_train: -0.004916991401832516 | loss_val: 0.006163198467065102 | loss_test: 0.007225042834338916 | \n",
      "Group 51. loss_train: 0.005992074078922172 | loss_val: 0.000514127586993499 | loss_test: 0.00018443175025494637 | \n",
      "Group 52. loss_train: 0.0031603456840717976 | loss_val: -0.000862065342854444 | loss_test: 0.0005619747913008559 | \n",
      "Group 53. loss_train: 0.007338241895615423 | loss_val: -0.02932485442378986 | loss_test: -0.012058805315678857 | \n",
      "Group 54. loss_train: 0.0022263594044892223 | loss_val: 0.004276420373675326 | loss_test: -0.0015998355677963425 | \n",
      "Group 55. loss_train: 0.004202782763870342 | loss_val: -0.0035202948388350355 | loss_test: 0.003913776477776673 | \n",
      "Group 56. loss_train: 0.0017042849137350927 | loss_val: -0.0019054876957832062 | loss_test: 0.003912072456357668 | \n",
      "Group 57. loss_train: 0.003888438476146819 | loss_val: -0.0003133557008225068 | loss_test: 0.0019946919343464377 | \n",
      "Group 58. loss_train: 0.006873635909158086 | loss_val: -0.012776393435952589 | loss_test: -0.03360590597713482 | \n",
      "Group 59. loss_train: 0.00392312434772617 | loss_val: -0.01598231128022156 | loss_test: -0.001916766363455014 | \n",
      "Group 60. loss_train: 3.4936860136735524e-05 | loss_val: 0.004659580370844017 | loss_test: 0.0002469858868641758 | \n",
      "Group 61. loss_train: -0.0028499064761345564 | loss_val: -0.01677718948816014 | loss_test: -0.006913495927100759 | \n",
      "Group 62. loss_train: 0.0018330943497497797 | loss_val: 0.0026298418947355157 | loss_test: 0.0030001133640022446 | \n",
      "Group 63. loss_train: 0.0007235889382321984 | loss_val: 0.0008709968716820275 | loss_test: 0.0010393682183067075 | \n",
      "Group 64. loss_train: 0.0018466633951093872 | loss_val: -0.0026992047533504547 | loss_test: 0.002872689674187303 | \n",
      "Group 65. loss_train: 0.00026258958654856534 | loss_val: -0.0004050350261234494 | loss_test: -0.0006901355307730839 | \n",
      "Group 66. loss_train: 0.002297243554667579 | loss_val: 0.0028787270591480655 | loss_test: 0.004480593960061601 | \n",
      "Group 67. loss_train: 0.0008882971359310223 | loss_val: 0.0007382372256758711 | loss_test: 0.0001787484305414908 | \n",
      "Group 68. loss_train: 0.0014825529426537032 | loss_val: 0.0004585721198911831 | loss_test: 0.00024596689631555565 | \n",
      "Group 69. loss_train: 0.0015169185974994652 | loss_val: -0.003982981918540223 | loss_test: 0.0008811771607789046 | \n",
      "Group 70. loss_train: 0.0017448596400597629 | loss_val: -0.005064316608357632 | loss_test: -0.006842549364426635 | \n",
      "Group 71. loss_train: 4.035455773062507e-05 | loss_val: -0.001384061667562533 | loss_test: -0.002133833196691109 | \n",
      "Group 72. loss_train: 0.000282228108660947 | loss_val: -0.006787919653676106 | loss_test: -0.011009217088830181 | \n",
      "Group 73. loss_train: -0.0015913493450466073 | loss_val: 0.004004894847172865 | loss_test: 0.001079293934457785 | \n",
      "Group 74. loss_train: 0.0012276669240796154 | loss_val: -0.003963689692284434 | loss_test: -0.0019038872250386246 | \n",
      "Group 75. loss_train: -0.0006239475898358197 | loss_val: -0.0026989741980938827 | loss_test: 0.0041433619828514755 | \n",
      "Group 76. loss_train: 0.00027701467606723075 | loss_val: -0.0013922527113560848 | loss_test: -0.008739769088785808 | \n",
      "Group 77. loss_train: 0.0013656683345822274 | loss_val: 0.006567646293715015 | loss_test: -0.006102883066596904 | \n",
      "Group 78. loss_train: 0.002248756590718162 | loss_val: -0.0076738538176877044 | loss_test: -0.006147545575317193 | \n",
      "Group 79. loss_train: 0.0008782714266680593 | loss_val: -0.00027735469926886476 | loss_test: -1.2993696801229559e-05 | \n",
      "Group 80. loss_train: -0.002081004667156161 | loss_val: -0.029344657513500443 | loss_test: -0.025109768647114613 | \n",
      "Group 81. loss_train: 0.0016001976339839951 | loss_val: 0.0041780051631890676 | loss_test: -0.005122912234398092 | \n",
      "Group 82. loss_train: -0.007173902519071174 | loss_val: -0.014196755281286118 | loss_test: -0.023173117647620714 | \n",
      "Group 83. loss_train: -0.001795935337957233 | loss_val: 0.0031335392297158543 | loss_test: -0.0030676258634507493 | \n",
      "Group 84. loss_train: 0.0012615516196455398 | loss_val: -0.005635324062479213 | loss_test: -0.006005015106516981 | \n",
      "Group 85. loss_train: -0.00025920779318279317 | loss_val: -0.0009735407216960925 | loss_test: 8.12730229175471e-05 | \n",
      "Group 86. loss_train: -0.004021584010450806 | loss_val: -0.0040246546145619195 | loss_test: -0.0034291026006543534 | \n",
      "Group 87. loss_train: 0.001030924687529549 | loss_val: -0.0006234812863340558 | loss_test: -1.6791850416571912e-05 | \n",
      "Group 88. loss_train: 0.0021799196293673952 | loss_val: 0.0009205878179967122 | loss_test: 0.004161393751396512 | \n",
      "Group 89. loss_train: 0.0009032665430104249 | loss_val: -0.0001752693213899558 | loss_test: 0.0009537292975520516 | \n",
      "Group 90. loss_train: 0.0022446905955292515 | loss_val: -0.0007614378355724368 | loss_test: 0.0005226020977844952 | \n",
      "Group 91. loss_train: 0.0004540012105758257 | loss_val: -0.0030663850732332676 | loss_test: -0.0019589944174600612 | \n",
      "Group 92. loss_train: 0.0009119798301401461 | loss_val: 0.00020877801582771654 | loss_test: 0.0010180268888190353 | \n",
      "Group 93. loss_train: -0.00048825410562698386 | loss_val: -0.0014082478887713842 | loss_test: -0.002316366193630806 | \n",
      "Group 94. loss_train: 0.0016457046979726892 | loss_val: 0.0004734273915493717 | loss_test: 0.002097303499724104 | \n",
      "Group 95. loss_train: 0.0005627596348845803 | loss_val: -0.0018236404666438094 | loss_test: -0.006159305501026227 | \n",
      "Group 96. loss_train: 0.0014411658573614213 | loss_val: 0.00025569721956995287 | loss_test: 0.00015820570734540962 | \n",
      "Group 97. loss_train: 0.0010272342066700102 | loss_val: 0.0007014421906688064 | loss_test: -0.0003208169085267875 | \n",
      "Group 98. loss_train: 0.001670542799587542 | loss_val: 0.0010537158095792751 | loss_test: -0.000315538794522904 | \n",
      "Group 99. loss_train: 0.0011349023555742982 | loss_val: 0.0006819960501288838 | loss_test: -3.0017878566827336e-05 | \n",
      "Group 100. loss_train: 0.001751346848992313 | loss_val: -0.0009899268590032768 | loss_test: -0.0011366251094049199 | \n",
      "Group 101. loss_train: 0.0011119934562885047 | loss_val: 0.0013768155808036328 | loss_test: 0.00039275498796041236 | \n",
      "Group 102. loss_train: -7.719707441071408e-05 | loss_val: 0.0004159113918165788 | loss_test: 0.0011948250389640972 | \n",
      "Group 103. loss_train: -0.00015887290869744764 | loss_val: -8.072493352131434e-05 | loss_test: -0.0010984182712064066 | \n",
      "Group 104. loss_train: 0.000619123075644479 | loss_val: 0.000403401874626639 | loss_test: 4.883297532167858e-05 | \n",
      "Group 105. loss_train: 0.00012635088412714198 | loss_val: 0.0004047899579248347 | loss_test: -0.00040215180789738875 | \n",
      "Group 106. loss_train: -0.0007311895658448725 | loss_val: 0.00013501055016211722 | loss_test: -0.0007148733731299399 | \n",
      "Group 107. loss_train: 0.0008314288909323963 | loss_val: 0.0016208657456235295 | loss_test: 0.0004045786705518583 | \n",
      "Group 108. loss_train: 0.00173884347796396 | loss_val: 3.497247449294177e-05 | loss_test: 0.00012152329460368498 | \n",
      "Group 109. loss_train: 0.0010209429834268126 | loss_val: -0.0004493329763218481 | loss_test: 0.0011854009416792514 | \n",
      "Group 110. loss_train: 0.0017186109220413042 | loss_val: 0.00025700898789971833 | loss_test: -0.00022833504772508457 | \n",
      "Group 111. loss_train: 0.0012840459086994732 | loss_val: -0.0015889249780638662 | loss_test: 0.000642932202066218 | \n",
      "Group 112. loss_train: 0.0005001252841260663 | loss_val: 0.00039309271039552956 | loss_test: -2.1312850629015026e-05 | \n",
      "Group 113. loss_train: 0.0012436388819099698 | loss_val: 0.0008822765492196624 | loss_test: -0.0001354169102160405 | \n",
      "Group 114. loss_train: 0.0006345425368428248 | loss_val: -0.00023046016805616722 | loss_test: -4.4465797494193054e-05 | \n",
      "Group 115. loss_train: 0.00030143145777218285 | loss_val: -0.00044034758066119844 | loss_test: 7.145111205938317e-05 | \n",
      "Group 116. loss_train: -0.001901139121885612 | loss_val: -0.00823545907263244 | loss_test: -0.01203231711405005 | \n",
      "Group 117. loss_train: -0.0004195681256226846 | loss_val: -0.0016409071195870827 | loss_test: -0.0025727194051093916 | \n",
      "Group 118. loss_train: 0.00099336898072365 | loss_val: -2.9678789913106387e-05 | loss_test: -0.00020589623465964302 | \n",
      "Group 119. loss_train: 0.0006972435400247065 | loss_val: -0.001168011833248148 | loss_test: -0.0019357993083155395 | \n",
      "Group 120. loss_train: 0.0005878389683721591 | loss_val: 0.0019909483046898742 | loss_test: 0.00016562344684789096 | \n",
      "Group 121. loss_train: 0.0005303065833069323 | loss_val: -0.000191125120867669 | loss_test: 0.0003608803032574463 | \n",
      "Group 122. loss_train: 0.00026170547625884545 | loss_val: -0.0008218417698485351 | loss_test: 0.00033951453426105897 | \n",
      "Group 123. loss_train: -0.0001681014190020867 | loss_val: -0.00011945621239302849 | loss_test: -0.000634664780799179 | \n",
      "Group 124. loss_train: 0.0006128187648546241 | loss_val: 0.0003292542940507263 | loss_test: 0.0003273609221212545 | \n",
      "Group 125. loss_train: 0.0006927278586014402 | loss_val: -0.0011505731679473292 | loss_test: 0.000781926964774273 | \n",
      "Group 126. loss_train: -0.0002367772458045875 | loss_val: -0.0007755221232104421 | loss_test: -0.00032889067292085703 | \n",
      "Group 127. loss_train: 0.000770401676757387 | loss_val: -0.0007997841221362529 | loss_test: 0.0007564208889279138 | \n",
      "Group 128. loss_train: 0.00020552381048538027 | loss_val: 0.00042226206759434133 | loss_test: -0.000283173700128152 | \n",
      "Group 129. loss_train: -0.00031040384181966866 | loss_val: 4.93683550228427e-06 | loss_test: 8.290030070392791e-05 | \n",
      "Group 130. loss_train: -0.0001606004953134321 | loss_val: -0.000160974520436265 | loss_test: -0.00028695360772208685 | \n",
      "Group 131. loss_train: 0.0002903826992377141 | loss_val: 0.00018552911641240958 | loss_test: -2.030654241873742e-05 | \n",
      "Group 132. loss_train: 0.0007002217179312683 | loss_val: -0.0018236064896235901 | loss_test: 0.00029059021926524666 | \n",
      "Group 133. loss_train: -9.998139017242475e-05 | loss_val: 0.00011906847354091154 | loss_test: 0.0007721059316184351 | \n",
      "Group 134. loss_train: 0.0005440600436869044 | loss_val: -0.0009469800166058027 | loss_test: -0.000160049650059252 | \n",
      "Group 135. loss_train: 5.8068803765880635e-05 | loss_val: -1.6450662020902975e-05 | loss_test: 6.944217428787573e-05 | \n",
      "Group 136. loss_train: 0.00020598898097502007 | loss_val: 0.0006142313090163359 | loss_test: -0.0004674358009419704 | \n",
      "Group 137. loss_train: 0.000802175679518633 | loss_val: -0.0009331188666288901 | loss_test: -0.0006831469895355182 | \n",
      "Group 138. loss_train: -0.00013921759378220176 | loss_val: -0.0006469577331494966 | loss_test: -3.660071057160467e-05 | \n",
      "Group 139. loss_train: 0.0003299916042817411 | loss_val: -0.000453900060579252 | loss_test: -0.000959728775654624 | \n",
      "Group 140. loss_train: 0.00028344657994824977 | loss_val: -7.099646854731573e-05 | loss_test: -0.0007019267988272817 | \n",
      "Group 141. loss_train: 0.0003544800301464312 | loss_val: -0.0006439896486494849 | loss_test: -0.00030696822659254087 | \n",
      "Group 142. loss_train: 7.638372654234724e-05 | loss_val: 3.2431659800476816e-06 | loss_test: -0.00024155633892803703 | \n",
      "Group 143. loss_train: -2.25216378533518e-07 | loss_val: 0.00012819865033256752 | loss_test: -0.0002427582421707932 | \n",
      "Group 144. loss_train: 0.00010569517514051186 | loss_val: -0.0006069662448835992 | loss_test: -0.0003420334353727858 | \n",
      "Group 145. loss_train: -7.386609909893384e-05 | loss_val: -5.08623410065309e-05 | loss_test: -0.00028308625377109837 | \n",
      "Group 146. loss_train: 0.00018574177453971 | loss_val: -0.00019144145480323366 | loss_test: -0.000986541054232677 | \n",
      "Group 147. loss_train: -0.00018024816616814298 | loss_val: -0.0010774211513389779 | loss_test: -2.450018800238591e-05 | \n",
      "Group 148. loss_train: -0.0001624003282028949 | loss_val: 0.00032932696764749827 | loss_test: 0.0007042498296165766 | \n",
      "Group 149. loss_train: 0.00013788345327032418 | loss_val: 9.916493138937763e-05 | loss_test: 0.00031241231149793056 | \n",
      "Group 150. loss_train: -0.00014368559093623704 | loss_val: 0.0007083857897545932 | loss_test: 0.00015708255090948823 | \n",
      "Group 151. loss_train: 0.00029593527567963373 | loss_val: 0.00034568108140854443 | loss_test: 0.0001664244552583706 | \n",
      "Group 152. loss_train: -0.00013897280352500815 | loss_val: -0.0013298472645362062 | loss_test: -0.0018135124072006753 | \n",
      "Group 153. loss_train: 4.780707367081297e-05 | loss_val: -0.00033532453571040373 | loss_test: -0.0005022317211172864 | \n",
      "Group 154. loss_train: 9.556400509916161e-05 | loss_val: -2.6560198759537928e-05 | loss_test: -0.0001579704143345332 | \n",
      "Group 155. loss_train: 0.00013645956631065475 | loss_val: -0.00020719315299374448 | loss_test: -6.184757935213444e-05 | \n",
      "Group 156. loss_train: 8.29714721886281e-05 | loss_val: -0.0006897804519695435 | loss_test: 0.00037507050819248633 | \n",
      "Group 157. loss_train: 5.725621788705828e-05 | loss_val: -0.00076818000354934 | loss_test: -0.0001416258778079695 | \n",
      "Group 158. loss_train: 4.7399823598721365e-05 | loss_val: -4.208253873297467e-05 | loss_test: -0.000157376439670256 | \n",
      "Group 159. loss_train: -3.569388597227278e-05 | loss_val: 0.0003796820017389483 | loss_test: -3.4537388486681224e-05 | \n",
      "Group 160. loss_train: -2.5524352325764316e-06 | loss_val: 5.134165583113615e-05 | loss_test: -0.0001271697103253241 | \n",
      "Group 161. loss_train: 0.00023242604576187274 | loss_val: -0.0004488472250734132 | loss_test: 2.0034906688328853e-05 | \n",
      "Group 162. loss_train: -1.0750040292502615e-05 | loss_val: -0.0001410188043056749 | loss_test: -2.3811053518057295e-06 | \n",
      "Group 163. loss_train: -4.9907639250542266e-05 | loss_val: 0.00024167244266935442 | loss_test: -5.920640694878114e-05 | \n",
      "Group 164. loss_train: 0.0002329252920321975 | loss_val: -0.0007201944201832728 | loss_test: -0.0002067077857799526 | \n",
      "Group 165. loss_train: -1.6447396002701334e-06 | loss_val: -8.475595419222257e-05 | loss_test: -0.0002498878763984012 | \n",
      "Group 166. loss_train: -7.153151205621987e-05 | loss_val: 9.237964871439252e-05 | loss_test: -2.3903266883073785e-05 | \n",
      "Group 167. loss_train: 0.0001271127941175384 | loss_val: -0.0006258648234531887 | loss_test: 8.018594811748337e-05 | \n",
      "Group 168. loss_train: 0.00018847147286370065 | loss_val: -0.0011398154347625168 | loss_test: -0.0006376624606982489 | \n",
      "Group 169. loss_train: -4.768609782145719e-05 | loss_val: -2.0302360503719938e-06 | loss_test: -6.65874237978879e-05 | \n",
      "Group 170. loss_train: 3.837975411214333e-05 | loss_val: -0.00015760352078658896 | loss_test: -0.0004811649061240267 | \n",
      "Group 171. loss_train: -4.195841998780332e-05 | loss_val: -5.553035076037575e-05 | loss_test: -0.00032575092272386675 | \n",
      "Group 172. loss_train: -3.7371647289041e-05 | loss_val: -0.00011283506426240947 | loss_test: 3.569871000109275e-05 | \n",
      "Group 173. loss_train: 3.156321058202305e-05 | loss_val: -0.00046202763813477186 | loss_test: -0.00014026583672339458 | \n",
      "Group 174. loss_train: -8.12406159561063e-05 | loss_val: -7.6213609604277e-05 | loss_test: 7.454771201397487e-05 | \n",
      "Group 175. loss_train: 3.1914439173049143e-05 | loss_val: -4.816527107233062e-05 | loss_test: -0.0002748562539259836 | \n",
      "Group 176. loss_train: 0.0001519907606460134 | loss_val: -0.0009660253677663401 | loss_test: -0.00037093835429348926 | \n",
      "Group 177. loss_train: -5.980216123407774e-05 | loss_val: -0.00018288663178717243 | loss_test: 0.00016396999716062458 | \n",
      "Group 178. loss_train: -3.8495991366729075e-05 | loss_val: -0.00023497822456904283 | loss_test: 9.441899965684864e-05 | \n",
      "Group 179. loss_train: 9.540467566350415e-05 | loss_val: -0.0007106081582755012 | loss_test: -0.0005022843620065852 | \n",
      "Group 180. loss_train: -6.006064704598022e-05 | loss_val: -4.9536942519237165e-05 | loss_test: 8.755527780281551e-05 | \n",
      "Group 181. loss_train: -3.666395797231932e-06 | loss_val: -0.00029048345753138335 | loss_test: -0.00015686659910922878 | \n",
      "Group 182. loss_train: -2.1169425514615256e-05 | loss_val: -0.00019318359877516282 | loss_test: -0.0003740176150874887 | \n",
      "Group 183. loss_train: -3.814209251133541e-05 | loss_val: -0.0001121100158081737 | loss_test: -0.00010424280404313629 | \n",
      "Group 184. loss_train: -8.886884401396465e-05 | loss_val: -0.000453628759514649 | loss_test: 0.00026275823171241974 | \n",
      "Group 185. loss_train: -4.9206019366419414e-05 | loss_val: 0.00015215529379248997 | loss_test: -0.00011978625085080554 | \n"
     ]
    }
   ],
   "source": [
    "import pandas as pd\n",
    "import numpy as np\n",
    "\n",
    "def StratifiedGroupShuffleSplit(df_main):\n",
    "\n",
    "    df_main = df_main.reindex(np.random.permutation(df_main.index))  # shuffle dataset\n",
    "\n",
    "    # create empty train, val, and test datasets\n",
    "    df_train = pd.DataFrame()\n",
    "    df_val = pd.DataFrame()\n",
    "    df_test = pd.DataFrame()\n",
    "\n",
    "    hparam_mse_wgt = 0.1  # must be between 0 and 1\n",
    "    assert 0 <= hparam_mse_wgt <= 1\n",
    "    train_proportion = 0.6  # must be between 0 and 1\n",
    "    assert 0 <= train_proportion <= 1\n",
    "    val_test_proportion = (1 - train_proportion) / 2\n",
    "\n",
    "    subject_grouped_df_main = df_main.groupby(['subject_id'], sort=False, as_index=False)\n",
    "    category_grouped_df_main = df_main.groupby('category').count()[['subject_id']] / len(df_main) * 100\n",
    "\n",
    "    def calc_mse_loss(df):\n",
    "        grouped_df = df.groupby('category').count()[['subject_id']] / len(df) * 100\n",
    "        df_temp = category_grouped_df_main.join(grouped_df, on='category', how='left', lsuffix='_main')\n",
    "        df_temp.fillna(0, inplace=True)\n",
    "        df_temp['diff'] = (df_temp['subject_id_main'] - df_temp['subject_id']) ** 2\n",
    "        mse_loss = np.mean(df_temp['diff'])\n",
    "        return mse_loss\n",
    "\n",
    "    i = 0\n",
    "    for _, group in subject_grouped_df_main:\n",
    "        group_df = pd.DataFrame(group)\n",
    "        if i < 3:\n",
    "            if i == 0:\n",
    "                df_train = pd.concat([df_train, group_df], ignore_index=True)\n",
    "                i += 1\n",
    "                continue\n",
    "            elif i == 1:\n",
    "                df_val = pd.concat([df_val, group_df], ignore_index=True)\n",
    "                i += 1\n",
    "                continue\n",
    "            else:\n",
    "                df_test = pd.concat([df_test, group_df], ignore_index=True)\n",
    "                i += 1\n",
    "                continue\n",
    "\n",
    "        mse_loss_diff_train = calc_mse_loss(df_train) - calc_mse_loss(pd.concat([df_train, group_df], ignore_index=True))\n",
    "        mse_loss_diff_val = calc_mse_loss(df_val) - calc_mse_loss(pd.concat([df_val, group_df], ignore_index=True))\n",
    "        mse_loss_diff_test = calc_mse_loss(df_test) - calc_mse_loss(pd.concat([df_test, group_df], ignore_index=True))\n",
    "\n",
    "        total_records = len(df_train) + len(df_val) + len(df_test)\n",
    "\n",
    "        len_diff_train = train_proportion - (len(df_train) / total_records)\n",
    "        len_diff_val = val_test_proportion - (len(df_val) / total_records)\n",
    "        len_diff_test = val_test_proportion - (len(df_test) / total_records)\n",
    "\n",
    "        len_loss_diff_train = len_diff_train * abs(len_diff_train)\n",
    "        len_loss_diff_val = len_diff_val * abs(len_diff_val)\n",
    "        len_loss_diff_test = len_diff_test * abs(len_diff_test)\n",
    "\n",
    "        loss_train = (hparam_mse_wgt * mse_loss_diff_train) + ((1 - hparam_mse_wgt) * len_loss_diff_train)\n",
    "        loss_val = (hparam_mse_wgt * mse_loss_diff_val) + ((1 - hparam_mse_wgt) * len_loss_diff_val)\n",
    "        loss_test = (hparam_mse_wgt * mse_loss_diff_test) + ((1 - hparam_mse_wgt) * len_loss_diff_test)\n",
    "\n",
    "        if max(loss_train, loss_val, loss_test) == loss_train:\n",
    "            df_train = pd.concat([df_train, group_df], ignore_index=True)\n",
    "        elif max(loss_train, loss_val, loss_test) == loss_val:\n",
    "            df_val = pd.concat([df_val, group_df], ignore_index=True)\n",
    "        else:\n",
    "            df_test = pd.concat([df_test, group_df], ignore_index=True)\n",
    "\n",
    "        print(\"Group \" + str(i) + \". loss_train: \" + str(loss_train) + \" | \" + \"loss_val: \" + str(loss_val) + \" | \" + \"loss_test: \" + str(loss_test) + \" | \")\n",
    "        i += 1\n",
    "\n",
    "    return df_train, df_val, df_test\n",
    "\n",
    "df_train, df_val, df_test = StratifiedGroupShuffleSplit(df_train_raw)\n"
   ],
   "metadata": {
    "collapsed": false,
    "ExecuteTime": {
     "end_time": "2024-07-02T10:28:54.662015600Z",
     "start_time": "2024-07-02T10:28:52.619016800Z"
    }
   }
  },
  {
   "cell_type": "code",
   "execution_count": 34,
   "outputs": [
    {
     "data": {
      "text/plain": "      category subject_id\n0           24       0047\n1           20       0047\n2           20       0047\n3            9       0047\n4           19       0047\n...        ...        ...\n2152         5       0127\n2153         4       0127\n2154         9       0127\n2155         2       0127\n2156         8       0127\n\n[2157 rows x 2 columns]",
      "text/html": "<div>\n<style scoped>\n    .dataframe tbody tr th:only-of-type {\n        vertical-align: middle;\n    }\n\n    .dataframe tbody tr th {\n        vertical-align: top;\n    }\n\n    .dataframe thead th {\n        text-align: right;\n    }\n</style>\n<table border=\"1\" class=\"dataframe\">\n  <thead>\n    <tr style=\"text-align: right;\">\n      <th></th>\n      <th>category</th>\n      <th>subject_id</th>\n    </tr>\n  </thead>\n  <tbody>\n    <tr>\n      <th>0</th>\n      <td>24</td>\n      <td>0047</td>\n    </tr>\n    <tr>\n      <th>1</th>\n      <td>20</td>\n      <td>0047</td>\n    </tr>\n    <tr>\n      <th>2</th>\n      <td>20</td>\n      <td>0047</td>\n    </tr>\n    <tr>\n      <th>3</th>\n      <td>9</td>\n      <td>0047</td>\n    </tr>\n    <tr>\n      <th>4</th>\n      <td>19</td>\n      <td>0047</td>\n    </tr>\n    <tr>\n      <th>...</th>\n      <td>...</td>\n      <td>...</td>\n    </tr>\n    <tr>\n      <th>2152</th>\n      <td>5</td>\n      <td>0127</td>\n    </tr>\n    <tr>\n      <th>2153</th>\n      <td>4</td>\n      <td>0127</td>\n    </tr>\n    <tr>\n      <th>2154</th>\n      <td>9</td>\n      <td>0127</td>\n    </tr>\n    <tr>\n      <th>2155</th>\n      <td>2</td>\n      <td>0127</td>\n    </tr>\n    <tr>\n      <th>2156</th>\n      <td>8</td>\n      <td>0127</td>\n    </tr>\n  </tbody>\n</table>\n<p>2157 rows × 2 columns</p>\n</div>"
     },
     "execution_count": 34,
     "metadata": {},
     "output_type": "execute_result"
    }
   ],
   "source": [
    "df_val"
   ],
   "metadata": {
    "collapsed": false,
    "ExecuteTime": {
     "end_time": "2024-07-02T10:30:26.911544300Z",
     "start_time": "2024-07-02T10:30:26.888539800Z"
    }
   }
  },
  {
   "cell_type": "code",
   "execution_count": 22,
   "outputs": [
    {
     "data": {
      "text/plain": "0        0003\n1        0003\n2        0003\n3        0003\n4        0003\n         ... \n11245    0193\n11246    0193\n11247    0193\n11248    0193\n11249    0193\nName: 0, Length: 11250, dtype: object"
     },
     "execution_count": 22,
     "metadata": {},
     "output_type": "execute_result"
    }
   ],
   "source": [
    "groups"
   ],
   "metadata": {
    "collapsed": false,
    "ExecuteTime": {
     "end_time": "2024-07-02T10:19:03.792044Z",
     "start_time": "2024-07-02T10:19:03.776037700Z"
    }
   }
  },
  {
   "cell_type": "code",
   "execution_count": 20,
   "outputs": [
    {
     "data": {
      "text/plain": "5626"
     },
     "execution_count": 20,
     "metadata": {},
     "output_type": "execute_result"
    }
   ],
   "source": [
    "len(test_index[0])"
   ],
   "metadata": {
    "collapsed": false,
    "ExecuteTime": {
     "end_time": "2024-07-02T10:15:49.653559900Z",
     "start_time": "2024-07-02T10:15:49.638551200Z"
    }
   }
  },
  {
   "cell_type": "code",
   "execution_count": 57,
   "outputs": [],
   "source": [
    "df_train_raw = pd.read_csv(train_data_path, sep=' ', header=None)\n",
    "# df_val_raw = pd.read_csv(val_data_path,  sep=' ', header=None)\n",
    "# df_test_raw = pd.read_csv(test_data_path,  sep=' ', header=None)\n",
    "\n",
    "\n",
    "\n",
    "df_train_raw.columns = ['filename','label']\n",
    "df_train_raw['dataset'] = 'train'\n",
    "df_val_raw.columns = ['filename','label']\n",
    "df_val_raw['dataset'] = 'val'\n",
    "df_test_raw.columns = ['filename','label']\n",
    "df_test_raw['dataset'] = 'test'\n",
    "\n",
    "\n",
    "\n",
    "# df = pd.concat([df_train_raw,df_val_raw])\n",
    "df = pd.concat([df_train_raw,df_val_raw, df_test_raw])\n",
    "df = df.set_index(['filename','dataset'])\n"
   ],
   "metadata": {
    "collapsed": false,
    "ExecuteTime": {
     "end_time": "2024-06-30T11:43:25.725756400Z",
     "start_time": "2024-06-30T11:43:25.669750800Z"
    }
   }
  },
  {
   "cell_type": "code",
   "execution_count": 58,
   "outputs": [
    {
     "data": {
      "text/plain": "                          label    label_text  coarse_label coarse_label_text\nfilename         dataset                                                     \n0003_01_0001.mp4 train        9       nodding             1              head\n0003_01_0002.mp4 train        9       nodding             1              head\n0003_01_0003.mp4 train        9       nodding             1              head\n0003_01_0009.mp4 train        7  tilting head             1              head\n0003_01_0011.mp4 train        8  turning head             1              head\n...                         ...           ...           ...               ...\ntest1133.mp4     test         0  shaking body             0              body\ntest1134.mp4     test         0  shaking body             0              body\ntest1135.mp4     test         0  shaking body             0              body\ntest1136.mp4     test         0  shaking body             0              body\ntest1137.mp4     test         0  shaking body             0              body\n\n[17974 rows x 4 columns]",
      "text/html": "<div>\n<style scoped>\n    .dataframe tbody tr th:only-of-type {\n        vertical-align: middle;\n    }\n\n    .dataframe tbody tr th {\n        vertical-align: top;\n    }\n\n    .dataframe thead th {\n        text-align: right;\n    }\n</style>\n<table border=\"1\" class=\"dataframe\">\n  <thead>\n    <tr style=\"text-align: right;\">\n      <th></th>\n      <th></th>\n      <th>label</th>\n      <th>label_text</th>\n      <th>coarse_label</th>\n      <th>coarse_label_text</th>\n    </tr>\n    <tr>\n      <th>filename</th>\n      <th>dataset</th>\n      <th></th>\n      <th></th>\n      <th></th>\n      <th></th>\n    </tr>\n  </thead>\n  <tbody>\n    <tr>\n      <th>0003_01_0001.mp4</th>\n      <th>train</th>\n      <td>9</td>\n      <td>nodding</td>\n      <td>1</td>\n      <td>head</td>\n    </tr>\n    <tr>\n      <th>0003_01_0002.mp4</th>\n      <th>train</th>\n      <td>9</td>\n      <td>nodding</td>\n      <td>1</td>\n      <td>head</td>\n    </tr>\n    <tr>\n      <th>0003_01_0003.mp4</th>\n      <th>train</th>\n      <td>9</td>\n      <td>nodding</td>\n      <td>1</td>\n      <td>head</td>\n    </tr>\n    <tr>\n      <th>0003_01_0009.mp4</th>\n      <th>train</th>\n      <td>7</td>\n      <td>tilting head</td>\n      <td>1</td>\n      <td>head</td>\n    </tr>\n    <tr>\n      <th>0003_01_0011.mp4</th>\n      <th>train</th>\n      <td>8</td>\n      <td>turning head</td>\n      <td>1</td>\n      <td>head</td>\n    </tr>\n    <tr>\n      <th>...</th>\n      <th>...</th>\n      <td>...</td>\n      <td>...</td>\n      <td>...</td>\n      <td>...</td>\n    </tr>\n    <tr>\n      <th>test1133.mp4</th>\n      <th>test</th>\n      <td>0</td>\n      <td>shaking body</td>\n      <td>0</td>\n      <td>body</td>\n    </tr>\n    <tr>\n      <th>test1134.mp4</th>\n      <th>test</th>\n      <td>0</td>\n      <td>shaking body</td>\n      <td>0</td>\n      <td>body</td>\n    </tr>\n    <tr>\n      <th>test1135.mp4</th>\n      <th>test</th>\n      <td>0</td>\n      <td>shaking body</td>\n      <td>0</td>\n      <td>body</td>\n    </tr>\n    <tr>\n      <th>test1136.mp4</th>\n      <th>test</th>\n      <td>0</td>\n      <td>shaking body</td>\n      <td>0</td>\n      <td>body</td>\n    </tr>\n    <tr>\n      <th>test1137.mp4</th>\n      <th>test</th>\n      <td>0</td>\n      <td>shaking body</td>\n      <td>0</td>\n      <td>body</td>\n    </tr>\n  </tbody>\n</table>\n<p>17974 rows × 4 columns</p>\n</div>"
     },
     "execution_count": 58,
     "metadata": {},
     "output_type": "execute_result"
    }
   ],
   "source": [
    "df['label_text'] = df['label'].apply(lambda x: ID2LABELS[x])\n",
    "df['coarse_label'] = df['label'].apply(lambda x: fine2coarse(x))\n",
    "df['coarse_label_text'] = df['coarse_label'].apply(lambda x: COARSE_LABEL[x])\n",
    "\n",
    "df"
   ],
   "metadata": {
    "collapsed": false,
    "ExecuteTime": {
     "end_time": "2024-06-30T11:43:29.724866600Z",
     "start_time": "2024-06-30T11:43:29.676837500Z"
    }
   }
  },
  {
   "cell_type": "code",
   "execution_count": 59,
   "outputs": [
    {
     "data": {
      "text/plain": "              label    label_text  coarse_label coarse_label_text\nfilename                                                         \ntest0000.mp4      0  shaking body             0              body\ntest0001.mp4      0  shaking body             0              body\ntest0002.mp4      0  shaking body             0              body\ntest0003.mp4      0  shaking body             0              body\ntest0004.mp4      0  shaking body             0              body\n...             ...           ...           ...               ...\ntest1133.mp4      0  shaking body             0              body\ntest1134.mp4      0  shaking body             0              body\ntest1135.mp4      0  shaking body             0              body\ntest1136.mp4      0  shaking body             0              body\ntest1137.mp4      0  shaking body             0              body\n\n[1138 rows x 4 columns]",
      "text/html": "<div>\n<style scoped>\n    .dataframe tbody tr th:only-of-type {\n        vertical-align: middle;\n    }\n\n    .dataframe tbody tr th {\n        vertical-align: top;\n    }\n\n    .dataframe thead th {\n        text-align: right;\n    }\n</style>\n<table border=\"1\" class=\"dataframe\">\n  <thead>\n    <tr style=\"text-align: right;\">\n      <th></th>\n      <th>label</th>\n      <th>label_text</th>\n      <th>coarse_label</th>\n      <th>coarse_label_text</th>\n    </tr>\n    <tr>\n      <th>filename</th>\n      <th></th>\n      <th></th>\n      <th></th>\n      <th></th>\n    </tr>\n  </thead>\n  <tbody>\n    <tr>\n      <th>test0000.mp4</th>\n      <td>0</td>\n      <td>shaking body</td>\n      <td>0</td>\n      <td>body</td>\n    </tr>\n    <tr>\n      <th>test0001.mp4</th>\n      <td>0</td>\n      <td>shaking body</td>\n      <td>0</td>\n      <td>body</td>\n    </tr>\n    <tr>\n      <th>test0002.mp4</th>\n      <td>0</td>\n      <td>shaking body</td>\n      <td>0</td>\n      <td>body</td>\n    </tr>\n    <tr>\n      <th>test0003.mp4</th>\n      <td>0</td>\n      <td>shaking body</td>\n      <td>0</td>\n      <td>body</td>\n    </tr>\n    <tr>\n      <th>test0004.mp4</th>\n      <td>0</td>\n      <td>shaking body</td>\n      <td>0</td>\n      <td>body</td>\n    </tr>\n    <tr>\n      <th>...</th>\n      <td>...</td>\n      <td>...</td>\n      <td>...</td>\n      <td>...</td>\n    </tr>\n    <tr>\n      <th>test1133.mp4</th>\n      <td>0</td>\n      <td>shaking body</td>\n      <td>0</td>\n      <td>body</td>\n    </tr>\n    <tr>\n      <th>test1134.mp4</th>\n      <td>0</td>\n      <td>shaking body</td>\n      <td>0</td>\n      <td>body</td>\n    </tr>\n    <tr>\n      <th>test1135.mp4</th>\n      <td>0</td>\n      <td>shaking body</td>\n      <td>0</td>\n      <td>body</td>\n    </tr>\n    <tr>\n      <th>test1136.mp4</th>\n      <td>0</td>\n      <td>shaking body</td>\n      <td>0</td>\n      <td>body</td>\n    </tr>\n    <tr>\n      <th>test1137.mp4</th>\n      <td>0</td>\n      <td>shaking body</td>\n      <td>0</td>\n      <td>body</td>\n    </tr>\n  </tbody>\n</table>\n<p>1138 rows × 4 columns</p>\n</div>"
     },
     "execution_count": 59,
     "metadata": {},
     "output_type": "execute_result"
    }
   ],
   "source": [
    "df.xs('test', level='dataset')"
   ],
   "metadata": {
    "collapsed": false,
    "ExecuteTime": {
     "end_time": "2024-06-30T11:43:39.879061400Z",
     "start_time": "2024-06-30T11:43:39.819029300Z"
    }
   }
  },
  {
   "cell_type": "code",
   "execution_count": 60,
   "outputs": [],
   "source": [
    "all_labels = list(ID2LABELS.keys())\n",
    "all_coarse_labels = list(COARSE_LABEL.keys())\n",
    "\n",
    "all_labels_txt = list(ID2LABELS.values())\n",
    "all_coarse_labels_txt = list(COARSE_LABEL.values())\n",
    "comb_labels = all_labels_txt+all_coarse_labels_txt\n",
    "\n",
    "\n"
   ],
   "metadata": {
    "collapsed": false,
    "ExecuteTime": {
     "end_time": "2024-06-30T11:44:22.588184700Z",
     "start_time": "2024-06-30T11:44:22.569184Z"
    }
   }
  },
  {
   "cell_type": "code",
   "execution_count": 61,
   "outputs": [
    {
     "data": {
      "text/plain": "Index(['label', 'label_text', 'coarse_label', 'coarse_label_text'], dtype='object')"
     },
     "execution_count": 61,
     "metadata": {},
     "output_type": "execute_result"
    }
   ],
   "source": [
    "df.columns"
   ],
   "metadata": {
    "collapsed": false,
    "ExecuteTime": {
     "end_time": "2024-06-30T11:44:23.675227500Z",
     "start_time": "2024-06-30T11:44:23.652184200Z"
    }
   }
  },
  {
   "cell_type": "code",
   "execution_count": 29,
   "outputs": [
    {
     "data": {
      "text/plain": "'\\ni want to create a multi-hot encoding from this.\\nthe labels will represent the first 52 elements (there are 52 labels)\\nthen there will be 4 labels: body, head, hands, legs.\\nlabels 4-5-6 will be encoded as having 1 in both body parts.\\nin total. there will be 52+4=56 multi-hot labels.\\neach row will have 2-3 \"ones\" , representing their label and the involving body parts.\\n'"
     },
     "execution_count": 29,
     "metadata": {},
     "output_type": "execute_result"
    }
   ],
   "source": [
    "\"\"\"\n",
    "i want to create a multi-hot encoding from this.\n",
    "the labels will represent the first 52 elements (there are 52 labels)\n",
    "then there will be 4 labels: body, head, hands, legs.\n",
    "labels 4-5-6 will be encoded as having 1 in both body parts.\n",
    "in total. there will be 52+4=56 multi-hot labels.\n",
    "each row will have 2-3 \"ones\" , representing their label and the involving body parts.\n",
    "\"\"\""
   ],
   "metadata": {
    "collapsed": false,
    "ExecuteTime": {
     "end_time": "2024-06-30T11:35:35.672794300Z",
     "start_time": "2024-06-30T11:35:35.624726700Z"
    }
   }
  },
  {
   "cell_type": "code",
   "execution_count": 62,
   "outputs": [
    {
     "data": {
      "text/plain": "                          shaking body  sitting straightly  shrugging  \\\nfilename         dataset                                                \n0003_01_0001.mp4 train               0                   0          0   \n0003_01_0002.mp4 train               0                   0          0   \n0003_01_0003.mp4 train               0                   0          0   \n0003_01_0009.mp4 train               0                   0          0   \n0003_01_0011.mp4 train               0                   0          0   \n...                                ...                 ...        ...   \ntest1133.mp4     test                1                   0          0   \ntest1134.mp4     test                1                   0          0   \ntest1135.mp4     test                1                   0          0   \ntest1136.mp4     test                1                   0          0   \ntest1137.mp4     test                1                   0          0   \n\n                          turning around  rising up  bowing head  head up  \\\nfilename         dataset                                                    \n0003_01_0001.mp4 train                 0          0            0        0   \n0003_01_0002.mp4 train                 0          0            0        0   \n0003_01_0003.mp4 train                 0          0            0        0   \n0003_01_0009.mp4 train                 0          0            0        0   \n0003_01_0011.mp4 train                 0          0            0        0   \n...                                  ...        ...          ...      ...   \ntest1133.mp4     test                  0          0            0        0   \ntest1134.mp4     test                  0          0            0        0   \ntest1135.mp4     test                  0          0            0        0   \ntest1136.mp4     test                  0          0            0        0   \ntest1137.mp4     test                  0          0            0        0   \n\n                          tilting head  turning head  nodding  ...  \\\nfilename         dataset                                       ...   \n0003_01_0001.mp4 train               0             0        1  ...   \n0003_01_0002.mp4 train               0             0        1  ...   \n0003_01_0003.mp4 train               0             0        1  ...   \n0003_01_0009.mp4 train               1             0        0  ...   \n0003_01_0011.mp4 train               0             1        0  ...   \n...                                ...           ...      ...  ...   \ntest1133.mp4     test                0             0        0  ...   \ntest1134.mp4     test                0             0        0  ...   \ntest1135.mp4     test                0             0        0  ...   \ntest1136.mp4     test                0             0        0  ...   \ntest1137.mp4     test                0             0        0  ...   \n\n                          covering mouth  pushing glasses  patting legs  \\\nfilename         dataset                                                  \n0003_01_0001.mp4 train                 0                0             0   \n0003_01_0002.mp4 train                 0                0             0   \n0003_01_0003.mp4 train                 0                0             0   \n0003_01_0009.mp4 train                 0                0             0   \n0003_01_0011.mp4 train                 0                0             0   \n...                                  ...              ...           ...   \ntest1133.mp4     test                  0                0             0   \ntest1134.mp4     test                  0                0             0   \ntest1135.mp4     test                  0                0             0   \ntest1136.mp4     test                  0                0             0   \ntest1137.mp4     test                  0                0             0   \n\n                          touching legs  scratching legs  scratching feet  \\\nfilename         dataset                                                    \n0003_01_0001.mp4 train                0                0                0   \n0003_01_0002.mp4 train                0                0                0   \n0003_01_0003.mp4 train                0                0                0   \n0003_01_0009.mp4 train                0                0                0   \n0003_01_0011.mp4 train                0                0                0   \n...                                 ...              ...              ...   \ntest1133.mp4     test                 0                0                0   \ntest1134.mp4     test                 0                0                0   \ntest1135.mp4     test                 0                0                0   \ntest1136.mp4     test                 0                0                0   \ntest1137.mp4     test                 0                0                0   \n\n                          body  head  hands  legs  \nfilename         dataset                           \n0003_01_0001.mp4 train       0     1      0     0  \n0003_01_0002.mp4 train       0     1      0     0  \n0003_01_0003.mp4 train       0     1      0     0  \n0003_01_0009.mp4 train       0     1      0     0  \n0003_01_0011.mp4 train       0     1      0     0  \n...                        ...   ...    ...   ...  \ntest1133.mp4     test        1     0      0     0  \ntest1134.mp4     test        1     0      0     0  \ntest1135.mp4     test        1     0      0     0  \ntest1136.mp4     test        1     0      0     0  \ntest1137.mp4     test        1     0      0     0  \n\n[17974 rows x 56 columns]",
      "text/html": "<div>\n<style scoped>\n    .dataframe tbody tr th:only-of-type {\n        vertical-align: middle;\n    }\n\n    .dataframe tbody tr th {\n        vertical-align: top;\n    }\n\n    .dataframe thead th {\n        text-align: right;\n    }\n</style>\n<table border=\"1\" class=\"dataframe\">\n  <thead>\n    <tr style=\"text-align: right;\">\n      <th></th>\n      <th></th>\n      <th>shaking body</th>\n      <th>sitting straightly</th>\n      <th>shrugging</th>\n      <th>turning around</th>\n      <th>rising up</th>\n      <th>bowing head</th>\n      <th>head up</th>\n      <th>tilting head</th>\n      <th>turning head</th>\n      <th>nodding</th>\n      <th>...</th>\n      <th>covering mouth</th>\n      <th>pushing glasses</th>\n      <th>patting legs</th>\n      <th>touching legs</th>\n      <th>scratching legs</th>\n      <th>scratching feet</th>\n      <th>body</th>\n      <th>head</th>\n      <th>hands</th>\n      <th>legs</th>\n    </tr>\n    <tr>\n      <th>filename</th>\n      <th>dataset</th>\n      <th></th>\n      <th></th>\n      <th></th>\n      <th></th>\n      <th></th>\n      <th></th>\n      <th></th>\n      <th></th>\n      <th></th>\n      <th></th>\n      <th></th>\n      <th></th>\n      <th></th>\n      <th></th>\n      <th></th>\n      <th></th>\n      <th></th>\n      <th></th>\n      <th></th>\n      <th></th>\n      <th></th>\n    </tr>\n  </thead>\n  <tbody>\n    <tr>\n      <th>0003_01_0001.mp4</th>\n      <th>train</th>\n      <td>0</td>\n      <td>0</td>\n      <td>0</td>\n      <td>0</td>\n      <td>0</td>\n      <td>0</td>\n      <td>0</td>\n      <td>0</td>\n      <td>0</td>\n      <td>1</td>\n      <td>...</td>\n      <td>0</td>\n      <td>0</td>\n      <td>0</td>\n      <td>0</td>\n      <td>0</td>\n      <td>0</td>\n      <td>0</td>\n      <td>1</td>\n      <td>0</td>\n      <td>0</td>\n    </tr>\n    <tr>\n      <th>0003_01_0002.mp4</th>\n      <th>train</th>\n      <td>0</td>\n      <td>0</td>\n      <td>0</td>\n      <td>0</td>\n      <td>0</td>\n      <td>0</td>\n      <td>0</td>\n      <td>0</td>\n      <td>0</td>\n      <td>1</td>\n      <td>...</td>\n      <td>0</td>\n      <td>0</td>\n      <td>0</td>\n      <td>0</td>\n      <td>0</td>\n      <td>0</td>\n      <td>0</td>\n      <td>1</td>\n      <td>0</td>\n      <td>0</td>\n    </tr>\n    <tr>\n      <th>0003_01_0003.mp4</th>\n      <th>train</th>\n      <td>0</td>\n      <td>0</td>\n      <td>0</td>\n      <td>0</td>\n      <td>0</td>\n      <td>0</td>\n      <td>0</td>\n      <td>0</td>\n      <td>0</td>\n      <td>1</td>\n      <td>...</td>\n      <td>0</td>\n      <td>0</td>\n      <td>0</td>\n      <td>0</td>\n      <td>0</td>\n      <td>0</td>\n      <td>0</td>\n      <td>1</td>\n      <td>0</td>\n      <td>0</td>\n    </tr>\n    <tr>\n      <th>0003_01_0009.mp4</th>\n      <th>train</th>\n      <td>0</td>\n      <td>0</td>\n      <td>0</td>\n      <td>0</td>\n      <td>0</td>\n      <td>0</td>\n      <td>0</td>\n      <td>1</td>\n      <td>0</td>\n      <td>0</td>\n      <td>...</td>\n      <td>0</td>\n      <td>0</td>\n      <td>0</td>\n      <td>0</td>\n      <td>0</td>\n      <td>0</td>\n      <td>0</td>\n      <td>1</td>\n      <td>0</td>\n      <td>0</td>\n    </tr>\n    <tr>\n      <th>0003_01_0011.mp4</th>\n      <th>train</th>\n      <td>0</td>\n      <td>0</td>\n      <td>0</td>\n      <td>0</td>\n      <td>0</td>\n      <td>0</td>\n      <td>0</td>\n      <td>0</td>\n      <td>1</td>\n      <td>0</td>\n      <td>...</td>\n      <td>0</td>\n      <td>0</td>\n      <td>0</td>\n      <td>0</td>\n      <td>0</td>\n      <td>0</td>\n      <td>0</td>\n      <td>1</td>\n      <td>0</td>\n      <td>0</td>\n    </tr>\n    <tr>\n      <th>...</th>\n      <th>...</th>\n      <td>...</td>\n      <td>...</td>\n      <td>...</td>\n      <td>...</td>\n      <td>...</td>\n      <td>...</td>\n      <td>...</td>\n      <td>...</td>\n      <td>...</td>\n      <td>...</td>\n      <td>...</td>\n      <td>...</td>\n      <td>...</td>\n      <td>...</td>\n      <td>...</td>\n      <td>...</td>\n      <td>...</td>\n      <td>...</td>\n      <td>...</td>\n      <td>...</td>\n      <td>...</td>\n    </tr>\n    <tr>\n      <th>test1133.mp4</th>\n      <th>test</th>\n      <td>1</td>\n      <td>0</td>\n      <td>0</td>\n      <td>0</td>\n      <td>0</td>\n      <td>0</td>\n      <td>0</td>\n      <td>0</td>\n      <td>0</td>\n      <td>0</td>\n      <td>...</td>\n      <td>0</td>\n      <td>0</td>\n      <td>0</td>\n      <td>0</td>\n      <td>0</td>\n      <td>0</td>\n      <td>1</td>\n      <td>0</td>\n      <td>0</td>\n      <td>0</td>\n    </tr>\n    <tr>\n      <th>test1134.mp4</th>\n      <th>test</th>\n      <td>1</td>\n      <td>0</td>\n      <td>0</td>\n      <td>0</td>\n      <td>0</td>\n      <td>0</td>\n      <td>0</td>\n      <td>0</td>\n      <td>0</td>\n      <td>0</td>\n      <td>...</td>\n      <td>0</td>\n      <td>0</td>\n      <td>0</td>\n      <td>0</td>\n      <td>0</td>\n      <td>0</td>\n      <td>1</td>\n      <td>0</td>\n      <td>0</td>\n      <td>0</td>\n    </tr>\n    <tr>\n      <th>test1135.mp4</th>\n      <th>test</th>\n      <td>1</td>\n      <td>0</td>\n      <td>0</td>\n      <td>0</td>\n      <td>0</td>\n      <td>0</td>\n      <td>0</td>\n      <td>0</td>\n      <td>0</td>\n      <td>0</td>\n      <td>...</td>\n      <td>0</td>\n      <td>0</td>\n      <td>0</td>\n      <td>0</td>\n      <td>0</td>\n      <td>0</td>\n      <td>1</td>\n      <td>0</td>\n      <td>0</td>\n      <td>0</td>\n    </tr>\n    <tr>\n      <th>test1136.mp4</th>\n      <th>test</th>\n      <td>1</td>\n      <td>0</td>\n      <td>0</td>\n      <td>0</td>\n      <td>0</td>\n      <td>0</td>\n      <td>0</td>\n      <td>0</td>\n      <td>0</td>\n      <td>0</td>\n      <td>...</td>\n      <td>0</td>\n      <td>0</td>\n      <td>0</td>\n      <td>0</td>\n      <td>0</td>\n      <td>0</td>\n      <td>1</td>\n      <td>0</td>\n      <td>0</td>\n      <td>0</td>\n    </tr>\n    <tr>\n      <th>test1137.mp4</th>\n      <th>test</th>\n      <td>1</td>\n      <td>0</td>\n      <td>0</td>\n      <td>0</td>\n      <td>0</td>\n      <td>0</td>\n      <td>0</td>\n      <td>0</td>\n      <td>0</td>\n      <td>0</td>\n      <td>...</td>\n      <td>0</td>\n      <td>0</td>\n      <td>0</td>\n      <td>0</td>\n      <td>0</td>\n      <td>0</td>\n      <td>1</td>\n      <td>0</td>\n      <td>0</td>\n      <td>0</td>\n    </tr>\n  </tbody>\n</table>\n<p>17974 rows × 56 columns</p>\n</div>"
     },
     "execution_count": 62,
     "metadata": {},
     "output_type": "execute_result"
    }
   ],
   "source": [
    "# Define the number of labels and body parts\n",
    "num_labels = len(all_labels)\n",
    "num_body_parts = 4\n",
    "total_length = num_labels + num_body_parts\n",
    "\n",
    "# Define the mapping for body parts\n",
    "body_parts_mapping = {\n",
    "    0: ['body'],\n",
    "    1: ['head'],\n",
    "    2: ['hands'],  # assuming upper limb is considered hands\n",
    "    3: ['legs'],\n",
    "    4: ['body', 'hands'],  # body-hand\n",
    "    5: ['head', 'hands'],  # head-hand\n",
    "    6: ['legs', 'hands'],  # leg-hand\n",
    "}\n",
    "\n",
    "# Create a mapping for body parts to their indices\n",
    "body_parts_indices = {'body': num_labels, 'head': num_labels + 1, 'hands': num_labels + 2, 'legs': num_labels + 3}\n",
    "\n",
    "\n",
    "\n",
    "\n",
    "# Initialize the multi-hot encoded array for each sample\n",
    "multi_hot_encoded = np.zeros((len(df), total_length), dtype=int)\n",
    "\n",
    "for idx,(_, row) in enumerate(df.iterrows()):\n",
    "    # Set the label position\n",
    "    label_idx = row['label']\n",
    "    multi_hot_encoded[idx, label_idx] = 1\n",
    "    \n",
    "    # Set the body part positions\n",
    "    coarse_label = row['coarse_label']\n",
    "    body_parts = body_parts_mapping[coarse_label]\n",
    "    for part in body_parts:\n",
    "        part_idx = body_parts_indices[part]\n",
    "        multi_hot_encoded[idx, part_idx] = 1\n",
    "\n",
    "# Convert to DataFrame for better readability (optional)\n",
    "multi_hot_df = pd.DataFrame(multi_hot_encoded, columns=all_labels_txt + ['body', 'head', 'hands', 'legs'], index= df.index)\n",
    "\n",
    "# Display the DataFrame\n",
    "multi_hot_df"
   ],
   "metadata": {
    "collapsed": false,
    "ExecuteTime": {
     "end_time": "2024-06-30T11:44:30.136244200Z",
     "start_time": "2024-06-30T11:44:29.029246200Z"
    }
   }
  },
  {
   "cell_type": "code",
   "execution_count": 63,
   "outputs": [
    {
     "data": {
      "text/plain": "<Figure size 640x480 with 1 Axes>",
      "image/png": "[encoded data removed]"
     },
     "metadata": {},
     "output_type": "display_data"
    },
    {
     "data": {
      "text/plain": "<Figure size 640x480 with 1 Axes>",
      "image/png": "[encoded data removed]"
     },
     "metadata": {},
     "output_type": "display_data"
    }
   ],
   "source": [
    "sns.histplot(df, x='coarse_label_text')\n",
    "plt.show()\n",
    "sns.histplot(df, x='label_text', hue='coarse_label_text')\n",
    "plt.show()"
   ],
   "metadata": {
    "collapsed": false,
    "ExecuteTime": {
     "end_time": "2024-06-30T11:44:38.231442200Z",
     "start_time": "2024-06-30T11:44:37.216914800Z"
    }
   }
  },
  {
   "cell_type": "code",
   "execution_count": 32,
   "metadata": {
    "ExecuteTime": {
     "end_time": "2024-06-30T11:35:42.753984Z",
     "start_time": "2024-06-30T11:35:42.728953500Z"
    }
   },
   "outputs": [],
   "source": [
    "# # Structure of the final dataset: filename, labels\n",
    "# def get_video_list(files_folder):\n",
    "#     all_files = glob(osp.join(files_folder, '*.mp4'))\n",
    "#     base_names = [osp.basename(f) for f in all_files]\n",
    "#     sample_id = [int(osp.splitext(f)[0].split('-')[0]) for f in base_names]\n",
    "#     view = [(osp.splitext(f)[0].split('-video')[-1]) for f in base_names]\n",
    "#     df = pd.DataFrame(zip(all_files, base_names, sample_id, view), columns=['filenames', 'base_name', 'sample_id', 'view'])\n",
    "#     return df\n",
    "# df_train_files = get_video_list(files_folder=train_files_folder)\n",
    "# df_val_files = get_video_list(files_folder=val_files_folder)\n",
    "# # file_sample_ids.sort()\n",
    "# # file_sample_ids\n",
    "# # df_train_files"
   ]
  },
  {
   "cell_type": "code",
   "execution_count": 64,
   "outputs": [],
   "source": [
    "def convert_df(df_in, multi_hot_df_in):\n",
    "        \n",
    "    df_out = pd.DataFrame()\n",
    "    \n",
    "    df_out['filenames'] = df_in['filename'].apply(lambda x: osp.basename(x))\n",
    "    df_out['folder_name'] = df_in['dataset']\n",
    "    # df_out['durations'] = df_in['durations']\n",
    "    \n",
    "    df_out['view'] = 'center'\n",
    "    metadata = pd.DataFrame()\n",
    "    \n",
    "    \n",
    "    metadata['sample_id'] = df_out['filenames'].apply(lambda x: x.split('.')[0])\n",
    "    # metadata['start_frame'] = df_in['start_frame']\n",
    "    # metadata['end_frame'] = df_in['end_frame']\n",
    "    metadata['label_txt'] = df_in['label_text']\n",
    "    metadata['label']= df_in['label']\n",
    "    metadata['view'] =  df_out['view']\n",
    "    metadata['filenames'] = df_out['filenames']\n",
    "    # metadata['durations'] = df_out['durations']\n",
    "    metadata['coarse_label'] = df_in['coarse_label']\n",
    "    metadata['coarse_label_txt'] = df_in['coarse_label_text']\n",
    "    # cat = df_in['label']\n",
    "    # categories = list(LABEL2ID.keys())\n",
    "    # one_hot_encoded = pd.get_dummies(cat.astype(pd.CategoricalDtype(categories=categories)))\n",
    "    \n",
    "    # new_columns = one_hot_encoded.columns.to_list()\n",
    "    # one_hot_encoded = one_hot_encoded.astype(float)\n",
    "    df_out['labels'] = multi_hot_df_in.values.tolist()\n",
    "    # df_out['labels'] = df_in['label'] - 1\n",
    "    df_out['metadata'] = metadata.to_dict(orient='records')\n",
    "    \n",
    "    return df_out\n",
    "\n",
    "df_new = convert_df(df_in=df.reset_index(), multi_hot_df_in=multi_hot_df)\n",
    "df_val = df_new.loc[df_new['folder_name'] == 'val']\n",
    "df_train = df_new.loc[df_new['folder_name'] == 'train']\n",
    "df_test =  df_new.loc[df_new['folder_name'] == 'test']"
   ],
   "metadata": {
    "collapsed": false,
    "ExecuteTime": {
     "end_time": "2024-06-30T11:44:42.079635400Z",
     "start_time": "2024-06-30T11:44:41.945608300Z"
    }
   }
  },
  {
   "cell_type": "code",
   "execution_count": 15,
   "outputs": [
    {
     "name": "stdout",
     "output_type": "stream",
     "text": [
      "[0, 0, 0, 0, 0, 0, 0, 0, 1, 0, 0, 0, 0, 0, 0, 0, 0, 0, 0, 0, 0, 0, 0, 0, 0, 0, 0, 0, 0, 0, 0, 0, 0, 0, 0, 0, 0, 0, 0, 0, 0, 0, 0, 0, 0, 0, 0, 0, 0, 0, 0, 0, 0, 1, 0, 0]\n",
      "56\n"
     ]
    }
   ],
   "source": [
    "print(df_val.iloc[0]['labels'])\n",
    "print(len(df_val.iloc[0]['labels']))"
   ],
   "metadata": {
    "collapsed": false,
    "ExecuteTime": {
     "end_time": "2024-06-30T11:32:25.767256400Z",
     "start_time": "2024-06-30T11:32:25.740219800Z"
    }
   }
  },
  {
   "cell_type": "code",
   "execution_count": 35,
   "metadata": {
    "ExecuteTime": {
     "end_time": "2024-06-30T11:36:00.795356200Z",
     "start_time": "2024-06-30T11:36:00.780040100Z"
    }
   },
   "outputs": [],
   "source": [
    "experiment_folder = r'D:\\Project-mpg microgesture\\human_micro_gesture_classifier\\scripts\\mac'\n",
    "run_name = 'mac_multi'\n",
    "\n",
    "# os.makedirs(osp.join(experiment_folder, run_name), exist_ok=True)\n",
    "# os.makedirs(osp.join(experiment_folder, run_name,'dataset'), exist_ok=True)\n",
    "# \n",
    "# # df_val.to_csv(osp.join(experiment_folder,run_name,'dataset','val.csv'))\n",
    "# # df_train.to_csv(osp.join(experiment_folder,run_name,'dataset','train.csv'))\n"
   ]
  },
  {
   "cell_type": "code",
   "execution_count": 15,
   "metadata": {
    "ExecuteTime": {
     "end_time": "2024-06-19T18:07:05.411851200Z",
     "start_time": "2024-06-19T18:07:03.263339500Z"
    }
   },
   "outputs": [],
   "source": [
    "from torch.utils.data import DataLoader\n",
    "import dyadic_communication\n",
    "from importlib import reload\n",
    "from utils_dir import debug_model\n",
    "import run_videomae_vis_v2\n",
    "\n",
    "reload(dyadic_communication)\n",
    "reload(debug_model)\n",
    "reload(run_videomae_vis_v2)\n",
    "\n",
    "from argparse import Namespace\n",
    "import mpigroup.const as const\n"
   ]
  },
  {
   "cell_type": "code",
   "execution_count": 16,
   "metadata": {
    "ExecuteTime": {
     "end_time": "2024-06-19T18:07:05.427851200Z",
     "start_time": "2024-06-19T18:07:05.414850700Z"
    }
   },
   "outputs": [
    {
     "data": {
      "text/plain": "{'front1': 'tr', 'front2': 'tl', 'right': 'bl', 'left': 'br', 'center': 'mm'}"
     },
     "execution_count": 16,
     "metadata": {},
     "output_type": "execute_result"
    }
   ],
   "source": [
    "reload(const)\n",
    "cropping_map = const.cropping_map\n",
    "cropping_map"
   ]
  },
  {
   "cell_type": "code",
   "execution_count": 17,
   "metadata": {
    "ExecuteTime": {
     "end_time": "2024-06-19T18:07:07.953890800Z",
     "start_time": "2024-06-19T18:07:07.206890100Z"
    }
   },
   "outputs": [],
   "source": [
    "data_path= r'D:\\Project-mpg microgesture\\mac2024\\track1'\n",
    "\n",
    "args = debug_model.args\n",
    "args.anno_path = osp.join(experiment_folder,run_name,'dataset','val.csv')\n",
    "args.data_path = data_path\n",
    "args.data_root = data_path\n",
    "args.mode = 'validation'\n",
    "args.test_mode = False\n",
    "dataset = dyadic_communication.DyadicvideoClsDataset(\n",
    "          anno_path=args.anno_path,\n",
    "            data_path=args.data_path,\n",
    "            mode=args.mode,\n",
    "            clip_len=1,\n",
    "            num_segment=args.num_frames,\n",
    "            test_num_segment=args.test_num_segment,\n",
    "            test_num_crop=args.test_num_crop,\n",
    "            num_crop=1 if not args.test_mode else 3,\n",
    "            keep_aspect_ratio=True,\n",
    "            crop_size=args.input_size,\n",
    "            short_side_size=args.short_side_size,\n",
    "            new_height=224,\n",
    "            new_width=224,\n",
    "            view_crop_mapping=cropping_map,\n",
    "            corner_crop_size=None,\n",
    "            data_root=args.data_root,\n",
    "            args=args)\n",
    "\n"
   ]
  },
  {
   "cell_type": "code",
   "execution_count": 21,
   "metadata": {
    "ExecuteTime": {
     "end_time": "2024-06-19T18:08:41.373804400Z",
     "start_time": "2024-06-19T18:08:41.081795900Z"
    }
   },
   "outputs": [],
   "source": [
    "\n",
    "data = DataLoader(dataset=dataset, batch_size=2, shuffle=True)\n",
    "iterdata = iter(data)"
   ]
  },
  {
   "cell_type": "code",
   "execution_count": 22,
   "metadata": {
    "ExecuteTime": {
     "end_time": "2024-06-19T18:08:42.220794100Z",
     "start_time": "2024-06-19T18:08:41.610798Z"
    }
   },
   "outputs": [
    {
     "name": "stdout",
     "output_type": "stream",
     "text": [
      "torch.Size([2, 3, 16, 224, 224])\n",
      "tensor([[0, 0, 0, 0, 0, 0, 0, 0, 0, 0, 1, 0, 0, 0, 0, 0, 0, 0, 0, 0, 0, 0, 0, 0,\n",
      "         0, 0, 0, 0, 0, 0, 0, 0, 0, 0, 0, 0, 0, 0, 0, 0, 0, 0, 0, 0, 0, 0, 0, 0,\n",
      "         0, 0, 0, 0, 0, 1, 0, 0],\n",
      "        [0, 0, 0, 0, 0, 0, 0, 0, 0, 0, 0, 0, 0, 0, 0, 0, 0, 0, 0, 0, 0, 0, 0, 1,\n",
      "         0, 0, 0, 0, 0, 0, 0, 0, 0, 0, 0, 0, 0, 0, 0, 0, 0, 0, 0, 0, 0, 0, 0, 0,\n",
      "         0, 0, 0, 0, 0, 0, 1, 0]], dtype=torch.int32)\n",
      "[[('D:\\\\Project-mpg microgesture\\\\mac2024\\\\track1\\\\val\\\\0078_01_0098', 'D:\\\\Project-mpg microgesture\\\\mac2024\\\\track1\\\\val\\\\0078_02_0108')], (\"{'sample_id': '0078_01_0098', 'label_txt': 'shaking head', 'label': 10, 'view': 'center', 'filenames': '0078_01_0098.mp4', 'coarse_label': 1, 'coarse_label_txt': 'head'}\", \"{'sample_id': '0078_02_0108', 'label_txt': 'illustrative gestures', 'label': 23, 'view': 'center', 'filenames': '0078_02_0108.mp4', 'coarse_label': 2, 'coarse_label_txt': 'upper limb'}\"), [], []]\n"
     ]
    }
   ],
   "source": [
    "d = next(iterdata)\n",
    "print(d[0].shape)\n",
    "print(d[1])\n",
    "print(d[2:])"
   ]
  },
  {
   "cell_type": "code",
   "execution_count": 33,
   "outputs": [
    {
     "data": {
      "text/plain": "array(['shaking head', 'illustrative gestures'], dtype=object)"
     },
     "execution_count": 33,
     "metadata": {},
     "output_type": "execute_result"
    }
   ],
   "source": [
    "pd.DataFrame([ast.literal_eval(a) for a in d[3]])['label_txt'].values"
   ],
   "metadata": {
    "collapsed": false,
    "ExecuteTime": {
     "end_time": "2024-06-19T18:12:53.102090200Z",
     "start_time": "2024-06-19T18:12:53.052084300Z"
    }
   }
  },
  {
   "cell_type": "code",
   "execution_count": 35,
   "metadata": {
    "ExecuteTime": {
     "end_time": "2024-06-19T18:13:19.069655800Z",
     "start_time": "2024-06-19T18:13:18.025670200Z"
    }
   },
   "outputs": [],
   "source": [
    "reload(run_videomae_vis_v2)\n",
    "\n",
    "vids = d[0]\n",
    "labels = d[1]\n",
    "label_txt = pd.DataFrame([ast.literal_eval(a) for a in d[3]])['label_txt'].values\n",
    "fnames = pd.DataFrame([ast.literal_eval(a) for a in d[3]])['filenames'].values\n",
    "\n",
    "for vid,label, txt_label, fname in zip(vids,labels, label_txt, fnames):\n",
    "       \n",
    "    # ret = get_activities(feature_names, label)\n",
    "\n",
    "    txt =  '\\n'.join([fname ,txt_label])\n",
    "    \n",
    "    vid = run_videomae_vis_v2.unnormalize_frames(vid)\n",
    "    run_videomae_vis_v2.save_video(vid, osp.join('testing_'+fname), txt=txt)\n",
    "    \n"
   ]
  },
  {
   "cell_type": "code",
   "execution_count": 18,
   "metadata": {
    "ExecuteTime": {
     "end_time": "2024-05-06T12:58:42.545355900Z",
     "start_time": "2024-05-06T12:58:42.530347600Z"
    }
   },
   "outputs": [],
   "source": [
    "# video_path = osp.join(path_to_root_folder,'clips_val','05942-video1.mp4')\n",
    "# video_path"
   ]
  },
  {
   "cell_type": "code",
   "execution_count": 19,
   "metadata": {
    "ExecuteTime": {
     "end_time": "2024-05-06T12:58:42.571352400Z",
     "start_time": "2024-05-06T12:58:42.548346300Z"
    }
   },
   "outputs": [],
   "source": []
  },
  {
   "cell_type": "code",
   "execution_count": 36,
   "metadata": {
    "ExecuteTime": {
     "end_time": "2024-06-19T18:21:44.045400300Z",
     "start_time": "2024-06-19T18:21:39.828358400Z"
    }
   },
   "outputs": [
    {
     "name": "stdout",
     "output_type": "stream",
     "text": [
      "Creating model: pretrain_videomae_base_patch16_224_densepose_dual\n"
     ]
    },
    {
     "data": {
      "text/plain": "PretrainVisionTransformerMultiOutout(\n  (encoder): PretrainVisionTransformerEncoder(\n    (patch_embed): PatchEmbed(\n      (proj): Conv3d(3, 768, kernel_size=(2, 16, 16), stride=(2, 16, 16))\n    )\n    (blocks): ModuleList(\n      (0-11): 12 x Block(\n        (norm1): LayerNorm((768,), eps=1e-06, elementwise_affine=True)\n        (attn): Attention(\n          (qkv): Linear(in_features=768, out_features=2304, bias=False)\n          (attn_drop): Dropout(p=0.0, inplace=False)\n          (proj): Linear(in_features=768, out_features=768, bias=True)\n          (proj_drop): Dropout(p=0.0, inplace=False)\n        )\n        (drop_path): Identity()\n        (norm2): LayerNorm((768,), eps=1e-06, elementwise_affine=True)\n        (mlp): Mlp(\n          (fc1): Linear(in_features=768, out_features=3072, bias=True)\n          (act): GELU(approximate='none')\n          (fc2): Linear(in_features=3072, out_features=768, bias=True)\n          (drop): Dropout(p=0.0, inplace=False)\n        )\n      )\n    )\n    (norm): LayerNorm((768,), eps=1e-06, elementwise_affine=True)\n    (head): Identity()\n  )\n  (decoder): PretrainVisionTransformerDecoderMultiOutput(\n    (decoders): ModuleList(\n      (0-1): 2 x PretrainVisionTransformerDecoder(\n        (blocks): ModuleList(\n          (0-3): 4 x Block(\n            (norm1): LayerNorm((384,), eps=1e-06, elementwise_affine=True)\n            (attn): Attention(\n              (qkv): Linear(in_features=384, out_features=1152, bias=False)\n              (attn_drop): Dropout(p=0.0, inplace=False)\n              (proj): Linear(in_features=384, out_features=384, bias=True)\n              (proj_drop): Dropout(p=0.0, inplace=False)\n            )\n            (drop_path): Identity()\n            (norm2): LayerNorm((384,), eps=1e-06, elementwise_affine=True)\n            (mlp): Mlp(\n              (fc1): Linear(in_features=384, out_features=1536, bias=True)\n              (act): GELU(approximate='none')\n              (fc2): Linear(in_features=1536, out_features=384, bias=True)\n              (drop): Dropout(p=0.0, inplace=False)\n            )\n          )\n        )\n        (norm): LayerNorm((384,), eps=1e-06, elementwise_affine=True)\n        (head): Linear(in_features=384, out_features=1536, bias=True)\n      )\n    )\n  )\n  (encoder_to_decoder): Linear(in_features=768, out_features=384, bias=False)\n)"
     },
     "execution_count": 36,
     "metadata": {},
     "output_type": "execute_result"
    }
   ],
   "source": [
    "# model_dict = {\n",
    "#     'experiment':'MPIG_densepose_dual_2',\n",
    "#     'description':'MPIG_densepose_dual - videoMAE-K400 , same as K400 but then was finetuned on MPIGroupInteractions dataset (train set) for 100 epochs, with denspose as additional decoding target',\n",
    "#     'checkpoint_path':r'D:\\Project-mpg microgesture\\pretrained\\pretrained\\MPIIGroupInteraction\\k400_finetune_videomae_pretrain_dual_2_patch16_224_frame_16x4_tube_mask_ratio_0.9_e100\\checkpoint-99.pth',\n",
    "#     'model_name':'pretrain_videomae_base_patch16_224_densepose_dual',\n",
    "# }\n",
    "\n",
    "model_dict = {\n",
    "    'experiment':'mac_multi',\n",
    "    'description':'mac2024 dataset, first pretrained on mpigourpinteraction for 100 epochs then trained on mac2024 track1 dataset for 100 epochs',\n",
    "    'checkpoint_path':r'D:\\Project-mpg microgesture\\human_micro_gesture_classifier\\experiments\\mac_multi\\checkpoint-199.pth',\n",
    "    'model_name':'pretrain_videomae_base_patch16_224_densepose_dual',\n",
    "}\n",
    "\n",
    "image_batch = d[0]\n",
    "save_folder = osp.join('videos')\n",
    "model_path = model_dict['checkpoint_path']\n",
    "model_name = model_dict['model_name']\n",
    "\n",
    "args = Namespace(\n",
    "        image_batch=image_batch,\n",
    "        save_path=save_folder, # list\n",
    "        model_path=model_path, \n",
    "        mask_type='tube',\n",
    "        num_frames=16,\n",
    "        sampling_rate=4,\n",
    "        decoder_depth=4,\n",
    "        input_size=224,\n",
    "        device='cuda:0',\n",
    "        imagenet_default_mean_and_std=True,\n",
    "        mask_ratio=0,\n",
    "        model=model_name,\n",
    "        densepose=True,\n",
    "        drop_path=0.0)\n",
    "\n",
    "model = run_videomae_vis_v2.get_model(args=args) \n",
    "\n",
    "checkpoint = torch.load(args.model_path, map_location='cpu')\n",
    "model.load_state_dict(checkpoint['model'])\n",
    "model.eval()"
   ]
  },
  {
   "cell_type": "code",
   "execution_count": 37,
   "metadata": {
    "ExecuteTime": {
     "end_time": "2024-06-19T18:21:55.225491200Z",
     "start_time": "2024-06-19T18:21:48.389930500Z"
    }
   },
   "outputs": [],
   "source": [
    "outputs = model(image_batch)   "
   ]
  },
  {
   "cell_type": "code",
   "execution_count": 38,
   "metadata": {
    "ExecuteTime": {
     "end_time": "2024-06-19T18:22:02.099229800Z",
     "start_time": "2024-06-19T18:22:02.076241900Z"
    }
   },
   "outputs": [],
   "source": [
    "# outputs = model(image_batch) "
   ]
  },
  {
   "cell_type": "code",
   "execution_count": 39,
   "metadata": {
    "ExecuteTime": {
     "end_time": "2024-06-19T18:22:04.465443Z",
     "start_time": "2024-06-19T18:22:04.296438800Z"
    }
   },
   "outputs": [],
   "source": [
    "reload(run_videomae_vis_v2)\n",
    "\n",
    "rec_videos_patches = outputs[0]\n",
    "rec_densepose_patches = outputs[1]\n",
    "patch_size = model.encoder.patch_embed.patch_size\n",
    "unnorm_videos = run_videomae_vis_v2.unnormalize_frames(img=image_batch)\n",
    "_, rec_videos, _ = run_videomae_vis_v2.reconstruct_video_from_patches(\n",
    "    ori_img=unnorm_videos, patch_size=patch_size, bool_masked_pos=None, outputs=rec_videos_patches, frame_id_list=None)\n",
    "\n",
    "_, rec_densepose, _ = run_videomae_vis_v2.reconstruct_video_from_patches(\n",
    "    ori_img=unnorm_videos, patch_size=patch_size, bool_masked_pos=None, \n",
    "    outputs=rec_densepose_patches, frame_id_list=None,normalize_with_orig=False)"
   ]
  },
  {
   "cell_type": "code",
   "execution_count": 40,
   "outputs": [
    {
     "data": {
      "text/plain": "torch.Size([3, 16, 224, 224])"
     },
     "execution_count": 40,
     "metadata": {},
     "output_type": "execute_result"
    }
   ],
   "source": [
    "rec_densepose[0].shape"
   ],
   "metadata": {
    "collapsed": false,
    "ExecuteTime": {
     "end_time": "2024-06-19T18:22:06.376119900Z",
     "start_time": "2024-06-19T18:22:06.368122400Z"
    }
   }
  },
  {
   "cell_type": "code",
   "execution_count": 25,
   "outputs": [],
   "source": [
    "# a = (torch.nn.functional.normalize(rec_densepose[0],dim=0) + torch.Tensor([1,1,1])[:,None,None,None]) / torch.Tensor([2,2,2])[:,None,None,None]\n"
   ],
   "metadata": {
    "collapsed": false,
    "ExecuteTime": {
     "end_time": "2024-05-06T12:59:03.332804800Z",
     "start_time": "2024-05-06T12:59:03.288806100Z"
    }
   }
  },
  {
   "cell_type": "code",
   "execution_count": 26,
   "outputs": [],
   "source": [
    "# print(f'mean: {a.mean(dim=[1,2,3])}')\n",
    "# print(f'std: {a.std(dim=[1,2,3])}')\n",
    "# print(f'min: {a.reshape(3, -1).min(dim=1)[0]}')\n",
    "# print(f'max: {a.reshape(3, -1).max(dim=1)[0] }')"
   ],
   "metadata": {
    "collapsed": false,
    "ExecuteTime": {
     "end_time": "2024-05-06T12:59:03.334803700Z",
     "start_time": "2024-05-06T12:59:03.303807100Z"
    }
   }
  },
  {
   "cell_type": "code",
   "execution_count": 41,
   "metadata": {
    "ExecuteTime": {
     "end_time": "2024-06-19T18:22:10.213781600Z",
     "start_time": "2024-06-19T18:22:10.161758300Z"
    }
   },
   "outputs": [
    {
     "name": "stdout",
     "output_type": "stream",
     "text": [
      "mean: tensor([-0.0012,  0.0004,  0.0007], grad_fn=<MeanBackward1>)\n",
      "std: tensor([0.2267, 0.2275, 0.2359], grad_fn=<StdBackward0>)\n",
      "min: tensor([-2.2379, -2.2477, -2.0032], grad_fn=<MinBackward0>)\n",
      "max: tensor([4.7746, 4.6475, 4.1586], grad_fn=<MaxBackward0>)\n"
     ]
    }
   ],
   "source": [
    "print(f'mean: {rec_densepose[0].mean(dim=[1,2,3])}')\n",
    "print(f'std: {rec_densepose[0].std(dim=[1,2,3])}')\n",
    "print(f'min: {rec_densepose[0].reshape(3, -1).min(dim=1)[0]}')\n",
    "print(f'max: {rec_densepose[0].reshape(3, -1).max(dim=1)[0] }')"
   ]
  },
  {
   "cell_type": "code",
   "execution_count": 43,
   "metadata": {
    "ExecuteTime": {
     "end_time": "2024-06-19T18:22:43.076835300Z",
     "start_time": "2024-06-19T18:22:41.456835300Z"
    }
   },
   "outputs": [],
   "source": [
    "import os\n",
    "\n",
    "vids = d[0]\n",
    "labels = d[1]\n",
    "label_txt = pd.DataFrame([ast.literal_eval(a) for a in d[3]])['label_txt'].values\n",
    "fnames = pd.DataFrame([ast.literal_eval(a) for a in d[3]])['filenames'].values\n",
    "\n",
    "softmax = torch.nn.Softmax(dim=0)\n",
    "\n",
    "for ori_vid,rec_vid,rec_dense,labels,txt_label, fname in zip(vids,rec_videos,rec_densepose,labels, label_txt, fnames):\n",
    "       \n",
    "    txt =  '\\n'.join([fname ,txt_label])\n",
    "\n",
    "    ori_vid = run_videomae_vis_v2.unnormalize_frames(ori_vid)\n",
    "    rec_dense = run_videomae_vis_v2.unnormalize_frames(rec_dense)\n",
    "    # rec_dense = (torch.nn.functional.normalize(rec_dense,dim=0) + torch.Tensor([1,1,1])[:,None,None,None]) / torch.Tensor([2,2,2])[:,None,None,None]\n",
    "    # rec_vid = run_videomae_vis_v2.unnormalize_frames(rec_vid)\n",
    "    # rec_dense = softmax(rec_dense)\n",
    "\n",
    "    save_folder = osp.join('videos',fname.replace('.mp4',''))\n",
    "    os.makedirs(save_folder, exist_ok=True)\n",
    "    \n",
    "    run_videomae_vis_v2.save_video(ori_vid, osp.join(save_folder,'ori_vid_'+fname), txt=txt)\n",
    "\n",
    "    # run_videomae_vis_v2.save_video(ori_dense, osp.join(save_folder,'ori_dense_'+fname), txt=txt)\n",
    "\n",
    "    run_videomae_vis_v2.save_video(rec_vid, osp.join(save_folder,'rec_vid_'+fname), txt=txt)\n",
    "\n",
    "    run_videomae_vis_v2.save_video(rec_dense, osp.join(save_folder,'rec_dense_'+fname), txt=txt)\n",
    "    "
   ]
  },
  {
   "cell_type": "code",
   "execution_count": 16,
   "metadata": {
    "ExecuteTime": {
     "end_time": "2024-06-30T11:33:08.175552100Z",
     "start_time": "2024-06-30T11:33:08.081552600Z"
    }
   },
   "outputs": [],
   "source": [
    "from sklearn.utils.class_weight import compute_class_weight\n",
    "\n",
    "def get_class_weights_sk(y):\n",
    "    # Assuming y is a multi-label array with both specific and higher-tier labels\n",
    "    class_weights = compute_class_weight(class_weight='balanced', classes=np.unique(y), y=y)\n",
    "    class_weights_dict = {i: class_weights[i] for i in range(len(class_weights))}\n",
    "    \n",
    "    print(class_weights_dict)\n",
    "    "
   ]
  },
  {
   "cell_type": "code",
   "execution_count": 17,
   "metadata": {
    "ExecuteTime": {
     "end_time": "2024-06-30T11:33:08.687141Z",
     "start_time": "2024-06-30T11:33:08.652555Z"
    }
   },
   "outputs": [],
   "source": [
    "def get_class_weights(df,feature_names, alpha=10, beta=2, gamma=1):\n",
    "    class_weights = {}\n",
    "    positive_weights = {}\n",
    "    negative_weights = {}\n",
    "    class_frequency = {}\n",
    "    # N = len(df)\n",
    "    n_features = len(feature_names)\n",
    "\n",
    "    N = np.sum(df[feature_names].to_numpy())\n",
    "    for label in feature_names:\n",
    "        if label in df.columns:\n",
    "            positive_weights[label] = np.power(np.log((N+n_features) /(alpha * (sum(df[label] == 1))+1)*beta),gamma)\n",
    "            negative_weights[label] = np.power(np.log((N+n_features) /(alpha * (sum(df[label] == 0))+1)*beta),gamma)\n",
    "            \n",
    "        else:\n",
    "            positive_weights[label] = 0\n",
    "            negative_weights[label] = 0\n",
    "        \n",
    "        class_frequency[label] =  sum(df[label] == 1) / N\n",
    "\n",
    "            \n",
    "    # class_weights['positive_weights'] = pd.DataFrame.from_dict(positive_weights)\n",
    "    # class_weights['negative_weights'] = pd.DataFrame.from_dict(negative_weights)\n",
    "    class_weights = pd.DataFrame(zip(positive_weights.keys(),class_frequency.values(), positive_weights.values(), negative_weights.values()),columns=['class','class_freq','positive_weights','negative_weights'])        \n",
    "    class_weights['method'] = 'inv'\n",
    "    return class_weights\n",
    "\n",
    "def get_class_weights_regular(df,feature_names):\n",
    "    class_weights = {}\n",
    "    positive_weights = {}\n",
    "    negative_weights = {}\n",
    "    class_frequency = {}\n",
    "    # N = len(df)\n",
    "    n_features = len(feature_names)\n",
    "\n",
    "    N = np.sum(df[feature_names].to_numpy())\n",
    "    for label in feature_names:\n",
    "        if label in df.columns:\n",
    "            positive_weights[label] = np.log((N+n_features) /((sum(df[label] == 1))+1))\n",
    "            negative_weights[label] = np.log((N+n_features) /((sum(df[label] == 0))+1))\n",
    "            \n",
    "        else:\n",
    "            positive_weights[label] = 0\n",
    "            negative_weights[label] = 0\n",
    "        \n",
    "        class_frequency[label] =  sum(df[label] == 1) / N\n",
    "\n",
    "            \n",
    "    # class_weights['positive_weights'] = pd.DataFrame.from_dict(positive_weights)\n",
    "    # class_weights['negative_weights'] = pd.DataFrame.from_dict(negative_weights)\n",
    "    class_weights = pd.DataFrame(zip(positive_weights.keys(),class_frequency.values(), positive_weights.values(), negative_weights.values()),columns=['class','class_freq','positive_weights','negative_weights'])        \n",
    "    class_weights['method'] = 'regular'\n",
    "    return class_weights\n",
    "\n"
   ]
  },
  {
   "cell_type": "code",
   "execution_count": 18,
   "outputs": [
    {
     "data": {
      "text/plain": "Index(['shaking body', 'sitting straightly', 'shrugging', 'turning around',\n       'rising up', 'bowing head', 'head up', 'tilting head', 'turning head',\n       'nodding', 'shaking head', 'scratching arms', 'playing objects',\n       'putting hands together', 'rubbing hands', 'pointing oneself',\n       'clenching fist', 'stretching arms', 'retracting arms', 'waving',\n       'spreading hands', 'hands touching fingers', 'other finger movements',\n       'illustrative gestures', 'shaking legs', 'curling legs', 'spread legs',\n       'closing legs', 'crossing legs', 'stretching feet', 'retracting feet',\n       'tiptoe', 'scratching or touching neck', 'scratching or touching chest',\n       'scratching or touching back', 'scratching or touching shoulder',\n       'arms akimbo', 'crossing arms', 'playing or tidying hair',\n       'scratching or touching hindbrain', 'scratching or touching forehead',\n       'scratching or touching face', 'rubbing eyes', 'touching nose',\n       'touching ears', 'covering face', 'covering mouth', 'pushing glasses',\n       'patting legs', 'touching legs', 'scratching legs', 'scratching feet',\n       'body', 'head', 'hands', 'legs'],\n      dtype='object')"
     },
     "execution_count": 18,
     "metadata": {},
     "output_type": "execute_result"
    }
   ],
   "source": [
    "multi_hot_df.columns"
   ],
   "metadata": {
    "collapsed": false,
    "ExecuteTime": {
     "end_time": "2024-06-30T11:33:10.959194200Z",
     "start_time": "2024-06-30T11:33:10.907165300Z"
    }
   }
  },
  {
   "cell_type": "code",
   "execution_count": 19,
   "outputs": [
    {
     "name": "stderr",
     "output_type": "stream",
     "text": [
      "C:\\Users\\user\\AppData\\Local\\Temp\\ipykernel_20268\\3422413943.py:13: RuntimeWarning: invalid value encountered in power\n",
      "  negative_weights[label] = np.power(np.log((N+n_features) /(alpha * (sum(df[label] == 0))+1)*beta),gamma)\n"
     ]
    },
    {
     "data": {
      "text/plain": "                               class  class_freq  positive_weights  \\\n0                       shaking body    0.012570          4.157523   \n1                 sitting straightly    0.006094          5.280892   \n2                          shrugging    0.000789          8.648039   \n3                     turning around    0.000326         10.158225   \n4                          rising up    0.006312          5.225453   \n5                        bowing head    0.013740          4.022567   \n6                            head up    0.009876          4.526836   \n7                       tilting head    0.018610          3.568165   \n8                       turning head    0.039233          2.492993   \n9                            nodding    0.052347          2.095749   \n10                      shaking head    0.048646          2.195637   \n11                   scratching arms    0.009223          4.632513   \n12                   playing objects    0.004571          5.738871   \n13            putting hands together    0.003863          6.009302   \n14                     rubbing hands    0.001714          7.342252   \n15                  pointing oneself    0.003346          6.241873   \n16                    clenching fist    0.003074          6.379810   \n17                   stretching arms    0.014447          3.946762   \n18                   retracting arms    0.003537          6.152092   \n19                            waving    0.011291          4.321182   \n20                   spreading hands    0.005986          5.309396   \n21            hands touching fingers    0.014501          3.941095   \n22            other finger movements    0.015209          3.869417   \n23             illustrative gestures    0.016161          3.778339   \n24                      shaking legs    0.009713          4.552549   \n25                      curling legs    0.002694          6.595890   \n26                       spread legs    0.003755          6.055454   \n27                      closing legs    0.003945          5.975569   \n28                     crossing legs    0.002449          6.752271   \n29                   stretching feet    0.009414          4.600895   \n30                   retracting feet    0.010529          4.428293   \n31                            tiptoe    0.016215          3.773308   \n32       scratching or touching neck    0.002530          6.698408   \n33      scratching or touching chest    0.003319          6.255132   \n34       scratching or touching back    0.002122          6.988095   \n35   scratching or touching shoulder    0.001333          7.762135   \n36                       arms akimbo    0.001741          7.316051   \n37                     crossing arms    0.001714          7.342252   \n38           playing or tidying hair    0.003619          6.115145   \n39  scratching or touching hindbrain    0.003319          6.255132   \n40   scratching or touching forehead    0.002340          6.827059   \n41       scratching or touching face    0.005142          5.550627   \n42                      rubbing eyes    0.002694          6.595890   \n43                     touching nose    0.005958          5.316606   \n44                     touching ears    0.002095          7.009419   \n45                     covering face    0.000218         10.854435   \n46                    covering mouth    0.001007          8.235101   \n47                   pushing glasses    0.002775          6.547024   \n48                      patting legs    0.017141          3.690439   \n49                     touching legs    0.020269          3.441881   \n50                   scratching legs    0.003727          6.067210   \n51                   scratching feet    0.000816          8.590438   \n52                              body    0.038852          2.506629   \n53                              head    0.211617          0.389563   \n54                             hands    0.190804          0.498012   \n55                              legs    0.100667          1.243024   \n\n    negative_weights method  \n0                NaN    inv  \n1                NaN    inv  \n2                NaN    inv  \n3                NaN    inv  \n4                NaN    inv  \n5                NaN    inv  \n6                NaN    inv  \n7                NaN    inv  \n8                NaN    inv  \n9                NaN    inv  \n10               NaN    inv  \n11               NaN    inv  \n12               NaN    inv  \n13               NaN    inv  \n14               NaN    inv  \n15               NaN    inv  \n16               NaN    inv  \n17               NaN    inv  \n18               NaN    inv  \n19               NaN    inv  \n20               NaN    inv  \n21               NaN    inv  \n22               NaN    inv  \n23               NaN    inv  \n24               NaN    inv  \n25               NaN    inv  \n26               NaN    inv  \n27               NaN    inv  \n28               NaN    inv  \n29               NaN    inv  \n30               NaN    inv  \n31               NaN    inv  \n32               NaN    inv  \n33               NaN    inv  \n34               NaN    inv  \n35               NaN    inv  \n36               NaN    inv  \n37               NaN    inv  \n38               NaN    inv  \n39               NaN    inv  \n40               NaN    inv  \n41               NaN    inv  \n42               NaN    inv  \n43               NaN    inv  \n44               NaN    inv  \n45               NaN    inv  \n46               NaN    inv  \n47               NaN    inv  \n48               NaN    inv  \n49               NaN    inv  \n50               NaN    inv  \n51               NaN    inv  \n52               NaN    inv  \n53          0.239105    inv  \n54          0.164671    inv  \n55               NaN    inv  ",
      "text/html": "<div>\n<style scoped>\n    .dataframe tbody tr th:only-of-type {\n        vertical-align: middle;\n    }\n\n    .dataframe tbody tr th {\n        vertical-align: top;\n    }\n\n    .dataframe thead th {\n        text-align: right;\n    }\n</style>\n<table border=\"1\" class=\"dataframe\">\n  <thead>\n    <tr style=\"text-align: right;\">\n      <th></th>\n      <th>class</th>\n      <th>class_freq</th>\n      <th>positive_weights</th>\n      <th>negative_weights</th>\n      <th>method</th>\n    </tr>\n  </thead>\n  <tbody>\n    <tr>\n      <th>0</th>\n      <td>shaking body</td>\n      <td>0.012570</td>\n      <td>4.157523</td>\n      <td>NaN</td>\n      <td>inv</td>\n    </tr>\n    <tr>\n      <th>1</th>\n      <td>sitting straightly</td>\n      <td>0.006094</td>\n      <td>5.280892</td>\n      <td>NaN</td>\n      <td>inv</td>\n    </tr>\n    <tr>\n      <th>2</th>\n      <td>shrugging</td>\n      <td>0.000789</td>\n      <td>8.648039</td>\n      <td>NaN</td>\n      <td>inv</td>\n    </tr>\n    <tr>\n      <th>3</th>\n      <td>turning around</td>\n      <td>0.000326</td>\n      <td>10.158225</td>\n      <td>NaN</td>\n      <td>inv</td>\n    </tr>\n    <tr>\n      <th>4</th>\n      <td>rising up</td>\n      <td>0.006312</td>\n      <td>5.225453</td>\n      <td>NaN</td>\n      <td>inv</td>\n    </tr>\n    <tr>\n      <th>5</th>\n      <td>bowing head</td>\n      <td>0.013740</td>\n      <td>4.022567</td>\n      <td>NaN</td>\n      <td>inv</td>\n    </tr>\n    <tr>\n      <th>6</th>\n      <td>head up</td>\n      <td>0.009876</td>\n      <td>4.526836</td>\n      <td>NaN</td>\n      <td>inv</td>\n    </tr>\n    <tr>\n      <th>7</th>\n      <td>tilting head</td>\n      <td>0.018610</td>\n      <td>3.568165</td>\n      <td>NaN</td>\n      <td>inv</td>\n    </tr>\n    <tr>\n      <th>8</th>\n      <td>turning head</td>\n      <td>0.039233</td>\n      <td>2.492993</td>\n      <td>NaN</td>\n      <td>inv</td>\n    </tr>\n    <tr>\n      <th>9</th>\n      <td>nodding</td>\n      <td>0.052347</td>\n      <td>2.095749</td>\n      <td>NaN</td>\n      <td>inv</td>\n    </tr>\n    <tr>\n      <th>10</th>\n      <td>shaking head</td>\n      <td>0.048646</td>\n      <td>2.195637</td>\n      <td>NaN</td>\n      <td>inv</td>\n    </tr>\n    <tr>\n      <th>11</th>\n      <td>scratching arms</td>\n      <td>0.009223</td>\n      <td>4.632513</td>\n      <td>NaN</td>\n      <td>inv</td>\n    </tr>\n    <tr>\n      <th>12</th>\n      <td>playing objects</td>\n      <td>0.004571</td>\n      <td>5.738871</td>\n      <td>NaN</td>\n      <td>inv</td>\n    </tr>\n    <tr>\n      <th>13</th>\n      <td>putting hands together</td>\n      <td>0.003863</td>\n      <td>6.009302</td>\n      <td>NaN</td>\n      <td>inv</td>\n    </tr>\n    <tr>\n      <th>14</th>\n      <td>rubbing hands</td>\n      <td>0.001714</td>\n      <td>7.342252</td>\n      <td>NaN</td>\n      <td>inv</td>\n    </tr>\n    <tr>\n      <th>15</th>\n      <td>pointing oneself</td>\n      <td>0.003346</td>\n      <td>6.241873</td>\n      <td>NaN</td>\n      <td>inv</td>\n    </tr>\n    <tr>\n      <th>16</th>\n      <td>clenching fist</td>\n      <td>0.003074</td>\n      <td>6.379810</td>\n      <td>NaN</td>\n      <td>inv</td>\n    </tr>\n    <tr>\n      <th>17</th>\n      <td>stretching arms</td>\n      <td>0.014447</td>\n      <td>3.946762</td>\n      <td>NaN</td>\n      <td>inv</td>\n    </tr>\n    <tr>\n      <th>18</th>\n      <td>retracting arms</td>\n      <td>0.003537</td>\n      <td>6.152092</td>\n      <td>NaN</td>\n      <td>inv</td>\n    </tr>\n    <tr>\n      <th>19</th>\n      <td>waving</td>\n      <td>0.011291</td>\n      <td>4.321182</td>\n      <td>NaN</td>\n      <td>inv</td>\n    </tr>\n    <tr>\n      <th>20</th>\n      <td>spreading hands</td>\n      <td>0.005986</td>\n      <td>5.309396</td>\n      <td>NaN</td>\n      <td>inv</td>\n    </tr>\n    <tr>\n      <th>21</th>\n      <td>hands touching fingers</td>\n      <td>0.014501</td>\n      <td>3.941095</td>\n      <td>NaN</td>\n      <td>inv</td>\n    </tr>\n    <tr>\n      <th>22</th>\n      <td>other finger movements</td>\n      <td>0.015209</td>\n      <td>3.869417</td>\n      <td>NaN</td>\n      <td>inv</td>\n    </tr>\n    <tr>\n      <th>23</th>\n      <td>illustrative gestures</td>\n      <td>0.016161</td>\n      <td>3.778339</td>\n      <td>NaN</td>\n      <td>inv</td>\n    </tr>\n    <tr>\n      <th>24</th>\n      <td>shaking legs</td>\n      <td>0.009713</td>\n      <td>4.552549</td>\n      <td>NaN</td>\n      <td>inv</td>\n    </tr>\n    <tr>\n      <th>25</th>\n      <td>curling legs</td>\n      <td>0.002694</td>\n      <td>6.595890</td>\n      <td>NaN</td>\n      <td>inv</td>\n    </tr>\n    <tr>\n      <th>26</th>\n      <td>spread legs</td>\n      <td>0.003755</td>\n      <td>6.055454</td>\n      <td>NaN</td>\n      <td>inv</td>\n    </tr>\n    <tr>\n      <th>27</th>\n      <td>closing legs</td>\n      <td>0.003945</td>\n      <td>5.975569</td>\n      <td>NaN</td>\n      <td>inv</td>\n    </tr>\n    <tr>\n      <th>28</th>\n      <td>crossing legs</td>\n      <td>0.002449</td>\n      <td>6.752271</td>\n      <td>NaN</td>\n      <td>inv</td>\n    </tr>\n    <tr>\n      <th>29</th>\n      <td>stretching feet</td>\n      <td>0.009414</td>\n      <td>4.600895</td>\n      <td>NaN</td>\n      <td>inv</td>\n    </tr>\n    <tr>\n      <th>30</th>\n      <td>retracting feet</td>\n      <td>0.010529</td>\n      <td>4.428293</td>\n      <td>NaN</td>\n      <td>inv</td>\n    </tr>\n    <tr>\n      <th>31</th>\n      <td>tiptoe</td>\n      <td>0.016215</td>\n      <td>3.773308</td>\n      <td>NaN</td>\n      <td>inv</td>\n    </tr>\n    <tr>\n      <th>32</th>\n      <td>scratching or touching neck</td>\n      <td>0.002530</td>\n      <td>6.698408</td>\n      <td>NaN</td>\n      <td>inv</td>\n    </tr>\n    <tr>\n      <th>33</th>\n      <td>scratching or touching chest</td>\n      <td>0.003319</td>\n      <td>6.255132</td>\n      <td>NaN</td>\n      <td>inv</td>\n    </tr>\n    <tr>\n      <th>34</th>\n      <td>scratching or touching back</td>\n      <td>0.002122</td>\n      <td>6.988095</td>\n      <td>NaN</td>\n      <td>inv</td>\n    </tr>\n    <tr>\n      <th>35</th>\n      <td>scratching or touching shoulder</td>\n      <td>0.001333</td>\n      <td>7.762135</td>\n      <td>NaN</td>\n      <td>inv</td>\n    </tr>\n    <tr>\n      <th>36</th>\n      <td>arms akimbo</td>\n      <td>0.001741</td>\n      <td>7.316051</td>\n      <td>NaN</td>\n      <td>inv</td>\n    </tr>\n    <tr>\n      <th>37</th>\n      <td>crossing arms</td>\n      <td>0.001714</td>\n      <td>7.342252</td>\n      <td>NaN</td>\n      <td>inv</td>\n    </tr>\n    <tr>\n      <th>38</th>\n      <td>playing or tidying hair</td>\n      <td>0.003619</td>\n      <td>6.115145</td>\n      <td>NaN</td>\n      <td>inv</td>\n    </tr>\n    <tr>\n      <th>39</th>\n      <td>scratching or touching hindbrain</td>\n      <td>0.003319</td>\n      <td>6.255132</td>\n      <td>NaN</td>\n      <td>inv</td>\n    </tr>\n    <tr>\n      <th>40</th>\n      <td>scratching or touching forehead</td>\n      <td>0.002340</td>\n      <td>6.827059</td>\n      <td>NaN</td>\n      <td>inv</td>\n    </tr>\n    <tr>\n      <th>41</th>\n      <td>scratching or touching face</td>\n      <td>0.005142</td>\n      <td>5.550627</td>\n      <td>NaN</td>\n      <td>inv</td>\n    </tr>\n    <tr>\n      <th>42</th>\n      <td>rubbing eyes</td>\n      <td>0.002694</td>\n      <td>6.595890</td>\n      <td>NaN</td>\n      <td>inv</td>\n    </tr>\n    <tr>\n      <th>43</th>\n      <td>touching nose</td>\n      <td>0.005958</td>\n      <td>5.316606</td>\n      <td>NaN</td>\n      <td>inv</td>\n    </tr>\n    <tr>\n      <th>44</th>\n      <td>touching ears</td>\n      <td>0.002095</td>\n      <td>7.009419</td>\n      <td>NaN</td>\n      <td>inv</td>\n    </tr>\n    <tr>\n      <th>45</th>\n      <td>covering face</td>\n      <td>0.000218</td>\n      <td>10.854435</td>\n      <td>NaN</td>\n      <td>inv</td>\n    </tr>\n    <tr>\n      <th>46</th>\n      <td>covering mouth</td>\n      <td>0.001007</td>\n      <td>8.235101</td>\n      <td>NaN</td>\n      <td>inv</td>\n    </tr>\n    <tr>\n      <th>47</th>\n      <td>pushing glasses</td>\n      <td>0.002775</td>\n      <td>6.547024</td>\n      <td>NaN</td>\n      <td>inv</td>\n    </tr>\n    <tr>\n      <th>48</th>\n      <td>patting legs</td>\n      <td>0.017141</td>\n      <td>3.690439</td>\n      <td>NaN</td>\n      <td>inv</td>\n    </tr>\n    <tr>\n      <th>49</th>\n      <td>touching legs</td>\n      <td>0.020269</td>\n      <td>3.441881</td>\n      <td>NaN</td>\n      <td>inv</td>\n    </tr>\n    <tr>\n      <th>50</th>\n      <td>scratching legs</td>\n      <td>0.003727</td>\n      <td>6.067210</td>\n      <td>NaN</td>\n      <td>inv</td>\n    </tr>\n    <tr>\n      <th>51</th>\n      <td>scratching feet</td>\n      <td>0.000816</td>\n      <td>8.590438</td>\n      <td>NaN</td>\n      <td>inv</td>\n    </tr>\n    <tr>\n      <th>52</th>\n      <td>body</td>\n      <td>0.038852</td>\n      <td>2.506629</td>\n      <td>NaN</td>\n      <td>inv</td>\n    </tr>\n    <tr>\n      <th>53</th>\n      <td>head</td>\n      <td>0.211617</td>\n      <td>0.389563</td>\n      <td>0.239105</td>\n      <td>inv</td>\n    </tr>\n    <tr>\n      <th>54</th>\n      <td>hands</td>\n      <td>0.190804</td>\n      <td>0.498012</td>\n      <td>0.164671</td>\n      <td>inv</td>\n    </tr>\n    <tr>\n      <th>55</th>\n      <td>legs</td>\n      <td>0.100667</td>\n      <td>1.243024</td>\n      <td>NaN</td>\n      <td>inv</td>\n    </tr>\n  </tbody>\n</table>\n</div>"
     },
     "execution_count": 19,
     "metadata": {},
     "output_type": "execute_result"
    }
   ],
   "source": [
    "# df = train_one_hot_encoded\n",
    "feature_names = multi_hot_df.columns\n",
    "\n",
    "class_weights =  get_class_weights(multi_hot_df,feature_names, alpha=3, beta=1, gamma=1.2)\n",
    "# class_weights = get_class_weights_regular(multi_hot_df,feature_names)\n",
    "class_weights"
   ],
   "metadata": {
    "collapsed": false,
    "ExecuteTime": {
     "end_time": "2024-06-30T11:33:26.314058500Z",
     "start_time": "2024-06-30T11:33:26.152060400Z"
    }
   }
  },
  {
   "cell_type": "code",
   "execution_count": 20,
   "outputs": [
    {
     "data": {
      "text/plain": "<Axes: xlabel='class_freq', ylabel='positive_weights'>"
     },
     "execution_count": 20,
     "metadata": {},
     "output_type": "execute_result"
    },
    {
     "data": {
      "text/plain": "<Figure size 640x480 with 1 Axes>",
      "image/png": "[encoded data removed]"
     },
     "metadata": {},
     "output_type": "display_data"
    }
   ],
   "source": [
    "sns.scatterplot(data=class_weights, x='class_freq', y='positive_weights')#, hue='class')"
   ],
   "metadata": {
    "collapsed": false,
    "ExecuteTime": {
     "end_time": "2024-06-30T11:33:39.483868300Z",
     "start_time": "2024-06-30T11:33:39.299907900Z"
    }
   }
  },
  {
   "cell_type": "code",
   "execution_count": 21,
   "metadata": {
    "ExecuteTime": {
     "end_time": "2024-06-30T11:33:39.738868700Z",
     "start_time": "2024-06-30T11:33:39.676869600Z"
    }
   },
   "outputs": [
    {
     "data": {
      "text/plain": "    class  positive_weights\n23      0          0.700149\n41      1          1.442308\n12      2         10.817308\n47      3         24.038462\n24      4          1.386834\n13      5          0.641977\n14      6          0.893992\n1       7          0.474443\n2       8          0.224892\n0       9          0.168625\n3      10          0.181346\n27     11          0.953067\n25     12          1.931662\n10     13          2.277328\n16     14          5.151099\n8      15          2.638368\n42     16          2.846660\n4      17          0.609426\n6      18          2.486737\n26     19          0.781033\n9      20          1.471743\n15     21          0.607714\n7      22          0.580016\n5      23          0.544953\n17     24          0.909017\n30     25          3.277972\n36     26          2.351589\n28     27          2.230373\n43     28          3.605769\n29     29          0.936563\n18     30          0.835313\n19     31          0.543583\n31     32          3.434066\n37     33          2.638368\n20     34          4.082003\n51     35          6.555944\n44     36          5.031306\n49     37          5.031306\n33     38          2.430856\n50     39          2.638368\n38     40          3.730106\n11     41          1.717033\n39     42          3.277972\n22     43          1.471743\n32     44          4.160503\n48     45         36.057692\n46     46          8.653846\n21     47          3.181561\n35     48          0.513886\n34     49          0.435304\n40     50          2.351589\n45     51         10.817308",
      "text/html": "<div>\n<style scoped>\n    .dataframe tbody tr th:only-of-type {\n        vertical-align: middle;\n    }\n\n    .dataframe tbody tr th {\n        vertical-align: top;\n    }\n\n    .dataframe thead th {\n        text-align: right;\n    }\n</style>\n<table border=\"1\" class=\"dataframe\">\n  <thead>\n    <tr style=\"text-align: right;\">\n      <th></th>\n      <th>class</th>\n      <th>positive_weights</th>\n    </tr>\n  </thead>\n  <tbody>\n    <tr>\n      <th>23</th>\n      <td>0</td>\n      <td>0.700149</td>\n    </tr>\n    <tr>\n      <th>41</th>\n      <td>1</td>\n      <td>1.442308</td>\n    </tr>\n    <tr>\n      <th>12</th>\n      <td>2</td>\n      <td>10.817308</td>\n    </tr>\n    <tr>\n      <th>47</th>\n      <td>3</td>\n      <td>24.038462</td>\n    </tr>\n    <tr>\n      <th>24</th>\n      <td>4</td>\n      <td>1.386834</td>\n    </tr>\n    <tr>\n      <th>13</th>\n      <td>5</td>\n      <td>0.641977</td>\n    </tr>\n    <tr>\n      <th>14</th>\n      <td>6</td>\n      <td>0.893992</td>\n    </tr>\n    <tr>\n      <th>1</th>\n      <td>7</td>\n      <td>0.474443</td>\n    </tr>\n    <tr>\n      <th>2</th>\n      <td>8</td>\n      <td>0.224892</td>\n    </tr>\n    <tr>\n      <th>0</th>\n      <td>9</td>\n      <td>0.168625</td>\n    </tr>\n    <tr>\n      <th>3</th>\n      <td>10</td>\n      <td>0.181346</td>\n    </tr>\n    <tr>\n      <th>27</th>\n      <td>11</td>\n      <td>0.953067</td>\n    </tr>\n    <tr>\n      <th>25</th>\n      <td>12</td>\n      <td>1.931662</td>\n    </tr>\n    <tr>\n      <th>10</th>\n      <td>13</td>\n      <td>2.277328</td>\n    </tr>\n    <tr>\n      <th>16</th>\n      <td>14</td>\n      <td>5.151099</td>\n    </tr>\n    <tr>\n      <th>8</th>\n      <td>15</td>\n      <td>2.638368</td>\n    </tr>\n    <tr>\n      <th>42</th>\n      <td>16</td>\n      <td>2.846660</td>\n    </tr>\n    <tr>\n      <th>4</th>\n      <td>17</td>\n      <td>0.609426</td>\n    </tr>\n    <tr>\n      <th>6</th>\n      <td>18</td>\n      <td>2.486737</td>\n    </tr>\n    <tr>\n      <th>26</th>\n      <td>19</td>\n      <td>0.781033</td>\n    </tr>\n    <tr>\n      <th>9</th>\n      <td>20</td>\n      <td>1.471743</td>\n    </tr>\n    <tr>\n      <th>15</th>\n      <td>21</td>\n      <td>0.607714</td>\n    </tr>\n    <tr>\n      <th>7</th>\n      <td>22</td>\n      <td>0.580016</td>\n    </tr>\n    <tr>\n      <th>5</th>\n      <td>23</td>\n      <td>0.544953</td>\n    </tr>\n    <tr>\n      <th>17</th>\n      <td>24</td>\n      <td>0.909017</td>\n    </tr>\n    <tr>\n      <th>30</th>\n      <td>25</td>\n      <td>3.277972</td>\n    </tr>\n    <tr>\n      <th>36</th>\n      <td>26</td>\n      <td>2.351589</td>\n    </tr>\n    <tr>\n      <th>28</th>\n      <td>27</td>\n      <td>2.230373</td>\n    </tr>\n    <tr>\n      <th>43</th>\n      <td>28</td>\n      <td>3.605769</td>\n    </tr>\n    <tr>\n      <th>29</th>\n      <td>29</td>\n      <td>0.936563</td>\n    </tr>\n    <tr>\n      <th>18</th>\n      <td>30</td>\n      <td>0.835313</td>\n    </tr>\n    <tr>\n      <th>19</th>\n      <td>31</td>\n      <td>0.543583</td>\n    </tr>\n    <tr>\n      <th>31</th>\n      <td>32</td>\n      <td>3.434066</td>\n    </tr>\n    <tr>\n      <th>37</th>\n      <td>33</td>\n      <td>2.638368</td>\n    </tr>\n    <tr>\n      <th>20</th>\n      <td>34</td>\n      <td>4.082003</td>\n    </tr>\n    <tr>\n      <th>51</th>\n      <td>35</td>\n      <td>6.555944</td>\n    </tr>\n    <tr>\n      <th>44</th>\n      <td>36</td>\n      <td>5.031306</td>\n    </tr>\n    <tr>\n      <th>49</th>\n      <td>37</td>\n      <td>5.031306</td>\n    </tr>\n    <tr>\n      <th>33</th>\n      <td>38</td>\n      <td>2.430856</td>\n    </tr>\n    <tr>\n      <th>50</th>\n      <td>39</td>\n      <td>2.638368</td>\n    </tr>\n    <tr>\n      <th>38</th>\n      <td>40</td>\n      <td>3.730106</td>\n    </tr>\n    <tr>\n      <th>11</th>\n      <td>41</td>\n      <td>1.717033</td>\n    </tr>\n    <tr>\n      <th>39</th>\n      <td>42</td>\n      <td>3.277972</td>\n    </tr>\n    <tr>\n      <th>22</th>\n      <td>43</td>\n      <td>1.471743</td>\n    </tr>\n    <tr>\n      <th>32</th>\n      <td>44</td>\n      <td>4.160503</td>\n    </tr>\n    <tr>\n      <th>48</th>\n      <td>45</td>\n      <td>36.057692</td>\n    </tr>\n    <tr>\n      <th>46</th>\n      <td>46</td>\n      <td>8.653846</td>\n    </tr>\n    <tr>\n      <th>21</th>\n      <td>47</td>\n      <td>3.181561</td>\n    </tr>\n    <tr>\n      <th>35</th>\n      <td>48</td>\n      <td>0.513886</td>\n    </tr>\n    <tr>\n      <th>34</th>\n      <td>49</td>\n      <td>0.435304</td>\n    </tr>\n    <tr>\n      <th>40</th>\n      <td>50</td>\n      <td>2.351589</td>\n    </tr>\n    <tr>\n      <th>45</th>\n      <td>51</td>\n      <td>10.817308</td>\n    </tr>\n  </tbody>\n</table>\n</div>"
     },
     "execution_count": 21,
     "metadata": {},
     "output_type": "execute_result"
    }
   ],
   "source": [
    "from sklearn.utils.class_weight import compute_class_weight\n",
    "df = df_train_raw\n",
    "labels = df['label'].values\n",
    "classes = df['label'].unique()\n",
    "class_weights_vals = compute_class_weight(class_weight=\"balanced\", classes=classes, y=labels)\n",
    "# compute_class_weight()\n",
    "class_weights = pd.DataFrame(zip(classes, class_weights_vals), columns=['class', 'positive_weights'])\n",
    "class_weights.sort_values(by='class', inplace=True)\n",
    "class_weights"
   ]
  },
  {
   "cell_type": "code",
   "execution_count": 84,
   "outputs": [],
   "source": [
    "# import pandas as pd\n",
    "# import os.path as osp\n",
    "# import ast\n",
    "# from collections import Counter\n",
    "# df_del = pd.read_csv(osp.join(r'D:\\Project-mpg microgesture\\human_micro_gesture_classifier\\scripts\\miga_smg\\videomae_vit_base_patch16_224_kinetic_400_densepose_dual\\dataset','train.csv'))\n",
    "# \n",
    "# df_del['label_text'] = df_del['metadata'].apply(lambda x: ast.literal_eval(x)['label_txt'])\n",
    "# pd.DataFrame.from_dict({'count':Counter(df_del['label_text'])}).to_clipboard()"
   ],
   "metadata": {
    "collapsed": false,
    "ExecuteTime": {
     "end_time": "2024-06-19T19:07:33.554092800Z",
     "start_time": "2024-06-19T19:07:33.535093800Z"
    }
   }
  },
  {
   "cell_type": "code",
   "execution_count": 86,
   "outputs": [],
   "source": [
    "# from itertools import Counter"
   ],
   "metadata": {
    "collapsed": false,
    "ExecuteTime": {
     "end_time": "2024-06-19T19:07:38.386641400Z",
     "start_time": "2024-06-19T19:07:38.349608800Z"
    }
   }
  },
  {
   "cell_type": "code",
   "execution_count": 65,
   "metadata": {
    "ExecuteTime": {
     "end_time": "2024-06-30T11:45:00.029097700Z",
     "start_time": "2024-06-30T11:44:59.994090800Z"
    }
   },
   "outputs": [
    {
     "name": "stdout",
     "output_type": "stream",
     "text": [
      "D:\\Project-mpg microgesture\\human_micro_gesture_classifier\\scripts\\mac\\mac_multi\\dataset\n"
     ]
    }
   ],
   "source": [
    "# save_folder = r'D:\\Project-mpg microgesture\\human_micro_gesture_classifier\\scripts\\miga_smg\\videomae_vit_base_patch16_224_kinetic_400_densepose_dual_multi\\dataset'\n",
    "# save_folder = osp.join(*save_folder.split('/'))\n",
    "save_folder = osp.join(experiment_folder, run_name, 'dataset')\n",
    "print(save_folder)\n",
    "os.makedirs(save_folder, exist_ok=True)\n",
    "\n",
    "# df_train.to_csv(osp.join(save_folder, 'train.csv'))\n",
    "df_test.to_csv(osp.join(save_folder, 'test.csv'))\n",
    "# df_val.to_csv(osp.join(save_folder, 'val.csv'))\n",
    "# class_weights.to_csv(osp.join(save_folder, 'weights.csv'))"
   ]
  },
  {
   "cell_type": "code",
   "execution_count": 88,
   "metadata": {
    "ExecuteTime": {
     "end_time": "2024-06-19T19:08:13.043237900Z",
     "start_time": "2024-06-19T19:08:13.028246800Z"
    }
   },
   "outputs": [],
   "source": [
    "\n",
    "import json\n",
    "wrapped_data = {'data': class_weights.to_dict(orient='records')}\n",
    "\n",
    "# Save wrapped data as JSON\n",
    "with open(osp.join(save_folder, 'weights.json'), 'w') as json_file:\n",
    "    json.dump(wrapped_data, json_file, indent=4)"
   ]
  },
  {
   "cell_type": "code",
   "execution_count": 89,
   "metadata": {
    "ExecuteTime": {
     "end_time": "2024-06-19T19:11:27.998650500Z",
     "start_time": "2024-06-19T19:11:27.965514Z"
    }
   },
   "outputs": [
    {
     "data": {
      "text/plain": "56"
     },
     "execution_count": 89,
     "metadata": {},
     "output_type": "execute_result"
    }
   ],
   "source": [
    "len(class_weights)"
   ]
  },
  {
   "cell_type": "code",
   "execution_count": null,
   "metadata": {
    "ExecuteTime": {
     "start_time": "2024-05-01T11:19:33.991694600Z"
    }
   },
   "outputs": [],
   "source": []
  }
 ],
 "metadata": {
  "kernelspec": {
   "display_name": "pytorch",
   "language": "python",
   "name": "python3"
  },
  "language_info": {
   "codemirror_mode": {
    "name": "ipython",
    "version": 3
   },
   "file_extension": ".py",
   "mimetype": "text/x-python",
   "name": "python",
   "nbconvert_exporter": "python",
   "pygments_lexer": "ipython3",
   "version": "3.10.12"
  }
 },
 "nbformat": 4,
 "nbformat_minor": 2
}
