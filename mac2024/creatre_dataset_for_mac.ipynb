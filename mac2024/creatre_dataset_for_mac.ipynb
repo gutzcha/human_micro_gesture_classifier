{
 "cells": [
  {
   "cell_type": "code",
   "execution_count": 2,
   "metadata": {
    "ExecuteTime": {
     "end_time": "2024-06-19T18:06:41.481463900Z",
     "start_time": "2024-06-19T18:06:40.031463600Z"
    }
   },
   "outputs": [],
   "source": [
    "import ast\n",
    "\n",
    "import pandas as pd\n",
    "import os\n",
    "import os.path as osp\n",
    "from glob import glob\n",
    "import sys\n",
    "\n",
    "import seaborn\n",
    "\n",
    "from const import ID2LABELS, fine2coarse, COARSE_LABEL\n",
    "# Add the parent directory to the Python path\n",
    "sys.path.insert(0, '..')\n",
    "import numpy as np\n",
    "import torch\n",
    "\n",
    "import seaborn as sns\n",
    "import matplotlib.pyplot as plt"
   ]
  },
  {
   "cell_type": "code",
   "execution_count": 3,
   "metadata": {
    "ExecuteTime": {
     "end_time": "2024-06-19T18:06:41.497463600Z",
     "start_time": "2024-06-19T18:06:41.484471500Z"
    }
   },
   "outputs": [],
   "source": [
    "path_to_root_folder = r'D:\\Project-mpg microgesture\\mac2024\\track1\\annotations-20240613T185539Z-001\\annotations'\n",
    "path_to_root_folder = osp.join(*path_to_root_folder.split('/'))\n",
    "\n",
    "train_data_path = osp.join(path_to_root_folder,'train_list_videos.txt')\n",
    "val_data_path = osp.join(path_to_root_folder,'val_list_videos.txt')\n",
    "\n",
    "# train_files_folder = osp.join(path_to_root_folder, 'train')\n",
    "# val_files_folder = osp.join(path_to_root_folder, 'validation')"
   ]
  },
  {
   "cell_type": "code",
   "execution_count": 4,
   "outputs": [],
   "source": [
    "df_train_raw = pd.read_csv(train_data_path, sep=' ', header=None)\n",
    "df_val_raw = pd.read_csv(val_data_path,  sep=' ', header=None)\n",
    "\n",
    "df_train_raw.columns = ['filename','label']\n",
    "df_train_raw['dataset'] = 'train'\n",
    "df_val_raw.columns = ['filename','label']\n",
    "df_val_raw['dataset'] = 'val'\n",
    "\n",
    "df = pd.concat([df_train_raw,df_val_raw])\n",
    "df = df.set_index(['filename','dataset'])\n"
   ],
   "metadata": {
    "collapsed": false,
    "ExecuteTime": {
     "end_time": "2024-06-19T18:06:41.543464600Z",
     "start_time": "2024-06-19T18:06:41.500464200Z"
    }
   }
  },
  {
   "cell_type": "code",
   "execution_count": 5,
   "outputs": [
    {
     "data": {
      "text/plain": "                          label                        label_text  \\\nfilename         dataset                                            \n0003_01_0001.mp4 train        9                           nodding   \n0003_01_0002.mp4 train        9                           nodding   \n0003_01_0003.mp4 train        9                           nodding   \n0003_01_0009.mp4 train        7                      tilting head   \n0003_01_0011.mp4 train        8                      turning head   \n...                         ...                               ...   \n0193_05_0006.mp4 val         38           playing or tidying hair   \n0193_05_0011.mp4 val         39  scratching or touching hindbrain   \n0193_05_0013.mp4 val         47                   pushing glasses   \n0193_05_0016.mp4 val         47                   pushing glasses   \n0193_06_0003.mp4 val         48                      patting legs   \n\n                          coarse_label coarse_label_text  \nfilename         dataset                                  \n0003_01_0001.mp4 train               1              head  \n0003_01_0002.mp4 train               1              head  \n0003_01_0003.mp4 train               1              head  \n0003_01_0009.mp4 train               1              head  \n0003_01_0011.mp4 train               1              head  \n...                                ...               ...  \n0193_05_0006.mp4 val                 5         head-hand  \n0193_05_0011.mp4 val                 5         head-hand  \n0193_05_0013.mp4 val                 5         head-hand  \n0193_05_0016.mp4 val                 5         head-hand  \n0193_06_0003.mp4 val                 6          leg-hand  \n\n[16836 rows x 4 columns]",
      "text/html": "<div>\n<style scoped>\n    .dataframe tbody tr th:only-of-type {\n        vertical-align: middle;\n    }\n\n    .dataframe tbody tr th {\n        vertical-align: top;\n    }\n\n    .dataframe thead th {\n        text-align: right;\n    }\n</style>\n<table border=\"1\" class=\"dataframe\">\n  <thead>\n    <tr style=\"text-align: right;\">\n      <th></th>\n      <th></th>\n      <th>label</th>\n      <th>label_text</th>\n      <th>coarse_label</th>\n      <th>coarse_label_text</th>\n    </tr>\n    <tr>\n      <th>filename</th>\n      <th>dataset</th>\n      <th></th>\n      <th></th>\n      <th></th>\n      <th></th>\n    </tr>\n  </thead>\n  <tbody>\n    <tr>\n      <th>0003_01_0001.mp4</th>\n      <th>train</th>\n      <td>9</td>\n      <td>nodding</td>\n      <td>1</td>\n      <td>head</td>\n    </tr>\n    <tr>\n      <th>0003_01_0002.mp4</th>\n      <th>train</th>\n      <td>9</td>\n      <td>nodding</td>\n      <td>1</td>\n      <td>head</td>\n    </tr>\n    <tr>\n      <th>0003_01_0003.mp4</th>\n      <th>train</th>\n      <td>9</td>\n      <td>nodding</td>\n      <td>1</td>\n      <td>head</td>\n    </tr>\n    <tr>\n      <th>0003_01_0009.mp4</th>\n      <th>train</th>\n      <td>7</td>\n      <td>tilting head</td>\n      <td>1</td>\n      <td>head</td>\n    </tr>\n    <tr>\n      <th>0003_01_0011.mp4</th>\n      <th>train</th>\n      <td>8</td>\n      <td>turning head</td>\n      <td>1</td>\n      <td>head</td>\n    </tr>\n    <tr>\n      <th>...</th>\n      <th>...</th>\n      <td>...</td>\n      <td>...</td>\n      <td>...</td>\n      <td>...</td>\n    </tr>\n    <tr>\n      <th>0193_05_0006.mp4</th>\n      <th>val</th>\n      <td>38</td>\n      <td>playing or tidying hair</td>\n      <td>5</td>\n      <td>head-hand</td>\n    </tr>\n    <tr>\n      <th>0193_05_0011.mp4</th>\n      <th>val</th>\n      <td>39</td>\n      <td>scratching or touching hindbrain</td>\n      <td>5</td>\n      <td>head-hand</td>\n    </tr>\n    <tr>\n      <th>0193_05_0013.mp4</th>\n      <th>val</th>\n      <td>47</td>\n      <td>pushing glasses</td>\n      <td>5</td>\n      <td>head-hand</td>\n    </tr>\n    <tr>\n      <th>0193_05_0016.mp4</th>\n      <th>val</th>\n      <td>47</td>\n      <td>pushing glasses</td>\n      <td>5</td>\n      <td>head-hand</td>\n    </tr>\n    <tr>\n      <th>0193_06_0003.mp4</th>\n      <th>val</th>\n      <td>48</td>\n      <td>patting legs</td>\n      <td>6</td>\n      <td>leg-hand</td>\n    </tr>\n  </tbody>\n</table>\n<p>16836 rows × 4 columns</p>\n</div>"
     },
     "execution_count": 5,
     "metadata": {},
     "output_type": "execute_result"
    }
   ],
   "source": [
    "df['label_text'] = df['label'].apply(lambda x: ID2LABELS[x])\n",
    "df['coarse_label'] = df['label'].apply(lambda x: fine2coarse(x))\n",
    "df['coarse_label_text'] = df['coarse_label'].apply(lambda x: COARSE_LABEL[x])\n",
    "\n",
    "df"
   ],
   "metadata": {
    "collapsed": false,
    "ExecuteTime": {
     "end_time": "2024-06-19T18:06:41.579467200Z",
     "start_time": "2024-06-19T18:06:41.535464400Z"
    }
   }
  },
  {
   "cell_type": "code",
   "execution_count": 6,
   "outputs": [],
   "source": [
    "all_labels = list(ID2LABELS.keys())\n",
    "all_coarse_labels = list(COARSE_LABEL.keys())\n",
    "\n",
    "all_labels_txt = list(ID2LABELS.values())\n",
    "all_coarse_labels_txt = list(COARSE_LABEL.values())\n",
    "comb_labels = all_labels_txt+all_coarse_labels_txt\n",
    "\n",
    "\n"
   ],
   "metadata": {
    "collapsed": false,
    "ExecuteTime": {
     "end_time": "2024-06-19T18:06:41.804619Z",
     "start_time": "2024-06-19T18:06:41.763615Z"
    }
   }
  },
  {
   "cell_type": "code",
   "execution_count": 7,
   "outputs": [
    {
     "data": {
      "text/plain": "Index(['label', 'label_text', 'coarse_label', 'coarse_label_text'], dtype='object')"
     },
     "execution_count": 7,
     "metadata": {},
     "output_type": "execute_result"
    }
   ],
   "source": [
    "df.columns"
   ],
   "metadata": {
    "collapsed": false,
    "ExecuteTime": {
     "end_time": "2024-06-19T18:06:42.664918700Z",
     "start_time": "2024-06-19T18:06:42.636913100Z"
    }
   }
  },
  {
   "cell_type": "code",
   "execution_count": 8,
   "outputs": [
    {
     "data": {
      "text/plain": "'\\ni want to create a multi-hot encoding from this.\\nthe labels will represent the first 52 elements (there are 52 labels)\\nthen there will be 4 labels: body, head, hands, legs.\\nlabels 4-5-6 will be encoded as having 1 in both body parts.\\nin total. there will be 52+4=56 multi-hot labels.\\neach row will have 2-3 \"ones\" , representing their label and the involving body parts.\\n'"
     },
     "execution_count": 8,
     "metadata": {},
     "output_type": "execute_result"
    }
   ],
   "source": [
    "\"\"\"\n",
    "i want to create a multi-hot encoding from this.\n",
    "the labels will represent the first 52 elements (there are 52 labels)\n",
    "then there will be 4 labels: body, head, hands, legs.\n",
    "labels 4-5-6 will be encoded as having 1 in both body parts.\n",
    "in total. there will be 52+4=56 multi-hot labels.\n",
    "each row will have 2-3 \"ones\" , representing their label and the involving body parts.\n",
    "\"\"\""
   ],
   "metadata": {
    "collapsed": false,
    "ExecuteTime": {
     "end_time": "2024-06-19T18:06:43.069827300Z",
     "start_time": "2024-06-19T18:06:43.049828300Z"
    }
   }
  },
  {
   "cell_type": "code",
   "execution_count": 9,
   "outputs": [
    {
     "data": {
      "text/plain": "                          shaking body  sitting straightly  shrugging  \\\nfilename         dataset                                                \n0003_01_0001.mp4 train               0                   0          0   \n0003_01_0002.mp4 train               0                   0          0   \n0003_01_0003.mp4 train               0                   0          0   \n0003_01_0009.mp4 train               0                   0          0   \n0003_01_0011.mp4 train               0                   0          0   \n...                                ...                 ...        ...   \n0193_05_0006.mp4 val                 0                   0          0   \n0193_05_0011.mp4 val                 0                   0          0   \n0193_05_0013.mp4 val                 0                   0          0   \n0193_05_0016.mp4 val                 0                   0          0   \n0193_06_0003.mp4 val                 0                   0          0   \n\n                          turning around  rising up  bowing head  head up  \\\nfilename         dataset                                                    \n0003_01_0001.mp4 train                 0          0            0        0   \n0003_01_0002.mp4 train                 0          0            0        0   \n0003_01_0003.mp4 train                 0          0            0        0   \n0003_01_0009.mp4 train                 0          0            0        0   \n0003_01_0011.mp4 train                 0          0            0        0   \n...                                  ...        ...          ...      ...   \n0193_05_0006.mp4 val                   0          0            0        0   \n0193_05_0011.mp4 val                   0          0            0        0   \n0193_05_0013.mp4 val                   0          0            0        0   \n0193_05_0016.mp4 val                   0          0            0        0   \n0193_06_0003.mp4 val                   0          0            0        0   \n\n                          tilting head  turning head  nodding  ...  \\\nfilename         dataset                                       ...   \n0003_01_0001.mp4 train               0             0        1  ...   \n0003_01_0002.mp4 train               0             0        1  ...   \n0003_01_0003.mp4 train               0             0        1  ...   \n0003_01_0009.mp4 train               1             0        0  ...   \n0003_01_0011.mp4 train               0             1        0  ...   \n...                                ...           ...      ...  ...   \n0193_05_0006.mp4 val                 0             0        0  ...   \n0193_05_0011.mp4 val                 0             0        0  ...   \n0193_05_0013.mp4 val                 0             0        0  ...   \n0193_05_0016.mp4 val                 0             0        0  ...   \n0193_06_0003.mp4 val                 0             0        0  ...   \n\n                          covering mouth  pushing glasses  patting legs  \\\nfilename         dataset                                                  \n0003_01_0001.mp4 train                 0                0             0   \n0003_01_0002.mp4 train                 0                0             0   \n0003_01_0003.mp4 train                 0                0             0   \n0003_01_0009.mp4 train                 0                0             0   \n0003_01_0011.mp4 train                 0                0             0   \n...                                  ...              ...           ...   \n0193_05_0006.mp4 val                   0                0             0   \n0193_05_0011.mp4 val                   0                0             0   \n0193_05_0013.mp4 val                   0                1             0   \n0193_05_0016.mp4 val                   0                1             0   \n0193_06_0003.mp4 val                   0                0             1   \n\n                          touching legs  scratching legs  scratching feet  \\\nfilename         dataset                                                    \n0003_01_0001.mp4 train                0                0                0   \n0003_01_0002.mp4 train                0                0                0   \n0003_01_0003.mp4 train                0                0                0   \n0003_01_0009.mp4 train                0                0                0   \n0003_01_0011.mp4 train                0                0                0   \n...                                 ...              ...              ...   \n0193_05_0006.mp4 val                  0                0                0   \n0193_05_0011.mp4 val                  0                0                0   \n0193_05_0013.mp4 val                  0                0                0   \n0193_05_0016.mp4 val                  0                0                0   \n0193_06_0003.mp4 val                  0                0                0   \n\n                          body  head  hands  legs  \nfilename         dataset                           \n0003_01_0001.mp4 train       0     1      0     0  \n0003_01_0002.mp4 train       0     1      0     0  \n0003_01_0003.mp4 train       0     1      0     0  \n0003_01_0009.mp4 train       0     1      0     0  \n0003_01_0011.mp4 train       0     1      0     0  \n...                        ...   ...    ...   ...  \n0193_05_0006.mp4 val         0     1      1     0  \n0193_05_0011.mp4 val         0     1      1     0  \n0193_05_0013.mp4 val         0     1      1     0  \n0193_05_0016.mp4 val         0     1      1     0  \n0193_06_0003.mp4 val         0     0      1     1  \n\n[16836 rows x 56 columns]",
      "text/html": "<div>\n<style scoped>\n    .dataframe tbody tr th:only-of-type {\n        vertical-align: middle;\n    }\n\n    .dataframe tbody tr th {\n        vertical-align: top;\n    }\n\n    .dataframe thead th {\n        text-align: right;\n    }\n</style>\n<table border=\"1\" class=\"dataframe\">\n  <thead>\n    <tr style=\"text-align: right;\">\n      <th></th>\n      <th></th>\n      <th>shaking body</th>\n      <th>sitting straightly</th>\n      <th>shrugging</th>\n      <th>turning around</th>\n      <th>rising up</th>\n      <th>bowing head</th>\n      <th>head up</th>\n      <th>tilting head</th>\n      <th>turning head</th>\n      <th>nodding</th>\n      <th>...</th>\n      <th>covering mouth</th>\n      <th>pushing glasses</th>\n      <th>patting legs</th>\n      <th>touching legs</th>\n      <th>scratching legs</th>\n      <th>scratching feet</th>\n      <th>body</th>\n      <th>head</th>\n      <th>hands</th>\n      <th>legs</th>\n    </tr>\n    <tr>\n      <th>filename</th>\n      <th>dataset</th>\n      <th></th>\n      <th></th>\n      <th></th>\n      <th></th>\n      <th></th>\n      <th></th>\n      <th></th>\n      <th></th>\n      <th></th>\n      <th></th>\n      <th></th>\n      <th></th>\n      <th></th>\n      <th></th>\n      <th></th>\n      <th></th>\n      <th></th>\n      <th></th>\n      <th></th>\n      <th></th>\n      <th></th>\n    </tr>\n  </thead>\n  <tbody>\n    <tr>\n      <th>0003_01_0001.mp4</th>\n      <th>train</th>\n      <td>0</td>\n      <td>0</td>\n      <td>0</td>\n      <td>0</td>\n      <td>0</td>\n      <td>0</td>\n      <td>0</td>\n      <td>0</td>\n      <td>0</td>\n      <td>1</td>\n      <td>...</td>\n      <td>0</td>\n      <td>0</td>\n      <td>0</td>\n      <td>0</td>\n      <td>0</td>\n      <td>0</td>\n      <td>0</td>\n      <td>1</td>\n      <td>0</td>\n      <td>0</td>\n    </tr>\n    <tr>\n      <th>0003_01_0002.mp4</th>\n      <th>train</th>\n      <td>0</td>\n      <td>0</td>\n      <td>0</td>\n      <td>0</td>\n      <td>0</td>\n      <td>0</td>\n      <td>0</td>\n      <td>0</td>\n      <td>0</td>\n      <td>1</td>\n      <td>...</td>\n      <td>0</td>\n      <td>0</td>\n      <td>0</td>\n      <td>0</td>\n      <td>0</td>\n      <td>0</td>\n      <td>0</td>\n      <td>1</td>\n      <td>0</td>\n      <td>0</td>\n    </tr>\n    <tr>\n      <th>0003_01_0003.mp4</th>\n      <th>train</th>\n      <td>0</td>\n      <td>0</td>\n      <td>0</td>\n      <td>0</td>\n      <td>0</td>\n      <td>0</td>\n      <td>0</td>\n      <td>0</td>\n      <td>0</td>\n      <td>1</td>\n      <td>...</td>\n      <td>0</td>\n      <td>0</td>\n      <td>0</td>\n      <td>0</td>\n      <td>0</td>\n      <td>0</td>\n      <td>0</td>\n      <td>1</td>\n      <td>0</td>\n      <td>0</td>\n    </tr>\n    <tr>\n      <th>0003_01_0009.mp4</th>\n      <th>train</th>\n      <td>0</td>\n      <td>0</td>\n      <td>0</td>\n      <td>0</td>\n      <td>0</td>\n      <td>0</td>\n      <td>0</td>\n      <td>1</td>\n      <td>0</td>\n      <td>0</td>\n      <td>...</td>\n      <td>0</td>\n      <td>0</td>\n      <td>0</td>\n      <td>0</td>\n      <td>0</td>\n      <td>0</td>\n      <td>0</td>\n      <td>1</td>\n      <td>0</td>\n      <td>0</td>\n    </tr>\n    <tr>\n      <th>0003_01_0011.mp4</th>\n      <th>train</th>\n      <td>0</td>\n      <td>0</td>\n      <td>0</td>\n      <td>0</td>\n      <td>0</td>\n      <td>0</td>\n      <td>0</td>\n      <td>0</td>\n      <td>1</td>\n      <td>0</td>\n      <td>...</td>\n      <td>0</td>\n      <td>0</td>\n      <td>0</td>\n      <td>0</td>\n      <td>0</td>\n      <td>0</td>\n      <td>0</td>\n      <td>1</td>\n      <td>0</td>\n      <td>0</td>\n    </tr>\n    <tr>\n      <th>...</th>\n      <th>...</th>\n      <td>...</td>\n      <td>...</td>\n      <td>...</td>\n      <td>...</td>\n      <td>...</td>\n      <td>...</td>\n      <td>...</td>\n      <td>...</td>\n      <td>...</td>\n      <td>...</td>\n      <td>...</td>\n      <td>...</td>\n      <td>...</td>\n      <td>...</td>\n      <td>...</td>\n      <td>...</td>\n      <td>...</td>\n      <td>...</td>\n      <td>...</td>\n      <td>...</td>\n      <td>...</td>\n    </tr>\n    <tr>\n      <th>0193_05_0006.mp4</th>\n      <th>val</th>\n      <td>0</td>\n      <td>0</td>\n      <td>0</td>\n      <td>0</td>\n      <td>0</td>\n      <td>0</td>\n      <td>0</td>\n      <td>0</td>\n      <td>0</td>\n      <td>0</td>\n      <td>...</td>\n      <td>0</td>\n      <td>0</td>\n      <td>0</td>\n      <td>0</td>\n      <td>0</td>\n      <td>0</td>\n      <td>0</td>\n      <td>1</td>\n      <td>1</td>\n      <td>0</td>\n    </tr>\n    <tr>\n      <th>0193_05_0011.mp4</th>\n      <th>val</th>\n      <td>0</td>\n      <td>0</td>\n      <td>0</td>\n      <td>0</td>\n      <td>0</td>\n      <td>0</td>\n      <td>0</td>\n      <td>0</td>\n      <td>0</td>\n      <td>0</td>\n      <td>...</td>\n      <td>0</td>\n      <td>0</td>\n      <td>0</td>\n      <td>0</td>\n      <td>0</td>\n      <td>0</td>\n      <td>0</td>\n      <td>1</td>\n      <td>1</td>\n      <td>0</td>\n    </tr>\n    <tr>\n      <th>0193_05_0013.mp4</th>\n      <th>val</th>\n      <td>0</td>\n      <td>0</td>\n      <td>0</td>\n      <td>0</td>\n      <td>0</td>\n      <td>0</td>\n      <td>0</td>\n      <td>0</td>\n      <td>0</td>\n      <td>0</td>\n      <td>...</td>\n      <td>0</td>\n      <td>1</td>\n      <td>0</td>\n      <td>0</td>\n      <td>0</td>\n      <td>0</td>\n      <td>0</td>\n      <td>1</td>\n      <td>1</td>\n      <td>0</td>\n    </tr>\n    <tr>\n      <th>0193_05_0016.mp4</th>\n      <th>val</th>\n      <td>0</td>\n      <td>0</td>\n      <td>0</td>\n      <td>0</td>\n      <td>0</td>\n      <td>0</td>\n      <td>0</td>\n      <td>0</td>\n      <td>0</td>\n      <td>0</td>\n      <td>...</td>\n      <td>0</td>\n      <td>1</td>\n      <td>0</td>\n      <td>0</td>\n      <td>0</td>\n      <td>0</td>\n      <td>0</td>\n      <td>1</td>\n      <td>1</td>\n      <td>0</td>\n    </tr>\n    <tr>\n      <th>0193_06_0003.mp4</th>\n      <th>val</th>\n      <td>0</td>\n      <td>0</td>\n      <td>0</td>\n      <td>0</td>\n      <td>0</td>\n      <td>0</td>\n      <td>0</td>\n      <td>0</td>\n      <td>0</td>\n      <td>0</td>\n      <td>...</td>\n      <td>0</td>\n      <td>0</td>\n      <td>1</td>\n      <td>0</td>\n      <td>0</td>\n      <td>0</td>\n      <td>0</td>\n      <td>0</td>\n      <td>1</td>\n      <td>1</td>\n    </tr>\n  </tbody>\n</table>\n<p>16836 rows × 56 columns</p>\n</div>"
     },
     "execution_count": 9,
     "metadata": {},
     "output_type": "execute_result"
    }
   ],
   "source": [
    "# Define the number of labels and body parts\n",
    "num_labels = len(all_labels)\n",
    "num_body_parts = 4\n",
    "total_length = num_labels + num_body_parts\n",
    "\n",
    "# Define the mapping for body parts\n",
    "body_parts_mapping = {\n",
    "    0: ['body'],\n",
    "    1: ['head'],\n",
    "    2: ['hands'],  # assuming upper limb is considered hands\n",
    "    3: ['legs'],\n",
    "    4: ['body', 'hands'],  # body-hand\n",
    "    5: ['head', 'hands'],  # head-hand\n",
    "    6: ['legs', 'hands'],  # leg-hand\n",
    "}\n",
    "\n",
    "# Create a mapping for body parts to their indices\n",
    "body_parts_indices = {'body': num_labels, 'head': num_labels + 1, 'hands': num_labels + 2, 'legs': num_labels + 3}\n",
    "\n",
    "\n",
    "\n",
    "\n",
    "# Initialize the multi-hot encoded array for each sample\n",
    "multi_hot_encoded = np.zeros((len(df), total_length), dtype=int)\n",
    "\n",
    "for idx,(_, row) in enumerate(df.iterrows()):\n",
    "    # Set the label position\n",
    "    label_idx = row['label']\n",
    "    multi_hot_encoded[idx, label_idx] = 1\n",
    "    \n",
    "    # Set the body part positions\n",
    "    coarse_label = row['coarse_label']\n",
    "    body_parts = body_parts_mapping[coarse_label]\n",
    "    for part in body_parts:\n",
    "        part_idx = body_parts_indices[part]\n",
    "        multi_hot_encoded[idx, part_idx] = 1\n",
    "\n",
    "# Convert to DataFrame for better readability (optional)\n",
    "multi_hot_df = pd.DataFrame(multi_hot_encoded, columns=all_labels_txt + ['body', 'head', 'hands', 'legs'], index= df.index)\n",
    "\n",
    "# Display the DataFrame\n",
    "multi_hot_df"
   ],
   "metadata": {
    "collapsed": false,
    "ExecuteTime": {
     "end_time": "2024-06-19T18:06:44.394363900Z",
     "start_time": "2024-06-19T18:06:43.498355400Z"
    }
   }
  },
  {
   "cell_type": "code",
   "execution_count": 10,
   "outputs": [
    {
     "name": "stderr",
     "output_type": "stream",
     "text": [
      "C:\\Users\\user\\anaconda3\\envs\\micro\\lib\\site-packages\\seaborn\\_oldcore.py:1119: FutureWarning: use_inf_as_na option is deprecated and will be removed in a future version. Convert inf values to NaN before operating instead.\n",
      "  with pd.option_context('mode.use_inf_as_na', True):\n"
     ]
    },
    {
     "data": {
      "text/plain": "<Figure size 640x480 with 1 Axes>",
      "image/png": "[encoded data removed]"
     },
     "metadata": {},
     "output_type": "display_data"
    },
    {
     "name": "stderr",
     "output_type": "stream",
     "text": [
      "C:\\Users\\user\\anaconda3\\envs\\micro\\lib\\site-packages\\seaborn\\_oldcore.py:1119: FutureWarning: use_inf_as_na option is deprecated and will be removed in a future version. Convert inf values to NaN before operating instead.\n",
      "  with pd.option_context('mode.use_inf_as_na', True):\n",
      "C:\\Users\\user\\anaconda3\\envs\\micro\\lib\\site-packages\\seaborn\\_oldcore.py:1075: FutureWarning: When grouping with a length-1 list-like, you will need to pass a length-1 tuple to get_group in a future version of pandas. Pass `(name,)` instead of `name` to silence this warning.\n",
      "  data_subset = grouped_data.get_group(pd_key)\n",
      "C:\\Users\\user\\anaconda3\\envs\\micro\\lib\\site-packages\\seaborn\\_oldcore.py:1075: FutureWarning: When grouping with a length-1 list-like, you will need to pass a length-1 tuple to get_group in a future version of pandas. Pass `(name,)` instead of `name` to silence this warning.\n",
      "  data_subset = grouped_data.get_group(pd_key)\n",
      "C:\\Users\\user\\anaconda3\\envs\\micro\\lib\\site-packages\\seaborn\\_oldcore.py:1075: FutureWarning: When grouping with a length-1 list-like, you will need to pass a length-1 tuple to get_group in a future version of pandas. Pass `(name,)` instead of `name` to silence this warning.\n",
      "  data_subset = grouped_data.get_group(pd_key)\n",
      "C:\\Users\\user\\anaconda3\\envs\\micro\\lib\\site-packages\\seaborn\\_oldcore.py:1075: FutureWarning: When grouping with a length-1 list-like, you will need to pass a length-1 tuple to get_group in a future version of pandas. Pass `(name,)` instead of `name` to silence this warning.\n",
      "  data_subset = grouped_data.get_group(pd_key)\n",
      "C:\\Users\\user\\anaconda3\\envs\\micro\\lib\\site-packages\\seaborn\\_oldcore.py:1075: FutureWarning: When grouping with a length-1 list-like, you will need to pass a length-1 tuple to get_group in a future version of pandas. Pass `(name,)` instead of `name` to silence this warning.\n",
      "  data_subset = grouped_data.get_group(pd_key)\n",
      "C:\\Users\\user\\anaconda3\\envs\\micro\\lib\\site-packages\\seaborn\\_oldcore.py:1075: FutureWarning: When grouping with a length-1 list-like, you will need to pass a length-1 tuple to get_group in a future version of pandas. Pass `(name,)` instead of `name` to silence this warning.\n",
      "  data_subset = grouped_data.get_group(pd_key)\n",
      "C:\\Users\\user\\anaconda3\\envs\\micro\\lib\\site-packages\\seaborn\\_oldcore.py:1075: FutureWarning: When grouping with a length-1 list-like, you will need to pass a length-1 tuple to get_group in a future version of pandas. Pass `(name,)` instead of `name` to silence this warning.\n",
      "  data_subset = grouped_data.get_group(pd_key)\n",
      "C:\\Users\\user\\anaconda3\\envs\\micro\\lib\\site-packages\\seaborn\\_oldcore.py:1075: FutureWarning: When grouping with a length-1 list-like, you will need to pass a length-1 tuple to get_group in a future version of pandas. Pass `(name,)` instead of `name` to silence this warning.\n",
      "  data_subset = grouped_data.get_group(pd_key)\n",
      "C:\\Users\\user\\anaconda3\\envs\\micro\\lib\\site-packages\\seaborn\\_oldcore.py:1075: FutureWarning: When grouping with a length-1 list-like, you will need to pass a length-1 tuple to get_group in a future version of pandas. Pass `(name,)` instead of `name` to silence this warning.\n",
      "  data_subset = grouped_data.get_group(pd_key)\n"
     ]
    },
    {
     "data": {
      "text/plain": "<Figure size 640x480 with 1 Axes>",
      "image/png": "[encoded data removed]"
     },
     "metadata": {},
     "output_type": "display_data"
    }
   ],
   "source": [
    "sns.histplot(df, x='coarse_label_text')\n",
    "plt.show()\n",
    "sns.histplot(df, x='label_text', hue='coarse_label_text')\n",
    "plt.show()"
   ],
   "metadata": {
    "collapsed": false,
    "ExecuteTime": {
     "end_time": "2024-06-19T18:06:46.766690200Z",
     "start_time": "2024-06-19T18:06:45.185558900Z"
    }
   }
  },
  {
   "cell_type": "code",
   "execution_count": 11,
   "metadata": {
    "ExecuteTime": {
     "end_time": "2024-06-19T18:06:51.548502500Z",
     "start_time": "2024-06-19T18:06:51.524378Z"
    }
   },
   "outputs": [],
   "source": [
    "# # Structure of the final dataset: filename, labels\n",
    "# def get_video_list(files_folder):\n",
    "#     all_files = glob(osp.join(files_folder, '*.mp4'))\n",
    "#     base_names = [osp.basename(f) for f in all_files]\n",
    "#     sample_id = [int(osp.splitext(f)[0].split('-')[0]) for f in base_names]\n",
    "#     view = [(osp.splitext(f)[0].split('-video')[-1]) for f in base_names]\n",
    "#     df = pd.DataFrame(zip(all_files, base_names, sample_id, view), columns=['filenames', 'base_name', 'sample_id', 'view'])\n",
    "#     return df\n",
    "# df_train_files = get_video_list(files_folder=train_files_folder)\n",
    "# df_val_files = get_video_list(files_folder=val_files_folder)\n",
    "# # file_sample_ids.sort()\n",
    "# # file_sample_ids\n",
    "# # df_train_files"
   ]
  },
  {
   "cell_type": "code",
   "execution_count": 12,
   "outputs": [],
   "source": [
    "def convert_df(df_in, multi_hot_df_in):\n",
    "        \n",
    "    df_out = pd.DataFrame()\n",
    "    \n",
    "    df_out['filenames'] = df_in['filename'].apply(lambda x: osp.basename(x))\n",
    "    df_out['folder_name'] = df_in['dataset']\n",
    "    # df_out['durations'] = df_in['durations']\n",
    "    \n",
    "    df_out['view'] = 'center'\n",
    "    metadata = pd.DataFrame()\n",
    "    \n",
    "    \n",
    "    metadata['sample_id'] = df_out['filenames'].apply(lambda x: x.split('.')[0])\n",
    "    # metadata['start_frame'] = df_in['start_frame']\n",
    "    # metadata['end_frame'] = df_in['end_frame']\n",
    "    metadata['label_txt'] = df_in['label_text']\n",
    "    metadata['label']= df_in['label']\n",
    "    metadata['view'] =  df_out['view']\n",
    "    metadata['filenames'] = df_out['filenames']\n",
    "    # metadata['durations'] = df_out['durations']\n",
    "    metadata['coarse_label'] = df_in['coarse_label']\n",
    "    metadata['coarse_label_txt'] = df_in['coarse_label_text']\n",
    "    # cat = df_in['label']\n",
    "    # categories = list(LABEL2ID.keys())\n",
    "    # one_hot_encoded = pd.get_dummies(cat.astype(pd.CategoricalDtype(categories=categories)))\n",
    "    \n",
    "    # new_columns = one_hot_encoded.columns.to_list()\n",
    "    # one_hot_encoded = one_hot_encoded.astype(float)\n",
    "    df_out['labels'] = multi_hot_df_in.values.tolist()\n",
    "    # df_out['labels'] = df_in['label'] - 1\n",
    "    df_out['metadata'] = metadata.to_dict(orient='records')\n",
    "    \n",
    "    return df_out\n",
    "\n",
    "df_new = convert_df(df_in=df.reset_index(), multi_hot_df_in=multi_hot_df)\n",
    "df_val = df_new.loc[df_new['folder_name'] == 'val']\n",
    "df_train = df_new.loc[df_new['folder_name'] == 'train']"
   ],
   "metadata": {
    "collapsed": false,
    "ExecuteTime": {
     "end_time": "2024-06-19T18:06:51.951632Z",
     "start_time": "2024-06-19T18:06:51.835632500Z"
    }
   }
  },
  {
   "cell_type": "code",
   "execution_count": 13,
   "outputs": [
    {
     "name": "stdout",
     "output_type": "stream",
     "text": [
      "[0, 0, 0, 0, 0, 0, 0, 0, 1, 0, 0, 0, 0, 0, 0, 0, 0, 0, 0, 0, 0, 0, 0, 0, 0, 0, 0, 0, 0, 0, 0, 0, 0, 0, 0, 0, 0, 0, 0, 0, 0, 0, 0, 0, 0, 0, 0, 0, 0, 0, 0, 0, 0, 1, 0, 0]\n",
      "56\n"
     ]
    }
   ],
   "source": [
    "print(df_val.iloc[0]['labels'])\n",
    "print(len(df_val.iloc[0]['labels']))"
   ],
   "metadata": {
    "collapsed": false,
    "ExecuteTime": {
     "end_time": "2024-06-19T18:06:54.194872100Z",
     "start_time": "2024-06-19T18:06:54.186908100Z"
    }
   }
  },
  {
   "cell_type": "code",
   "execution_count": 14,
   "metadata": {
    "ExecuteTime": {
     "end_time": "2024-06-19T18:07:02.223332100Z",
     "start_time": "2024-06-19T18:07:02.205334900Z"
    }
   },
   "outputs": [],
   "source": [
    "experiment_folder = r'D:\\Project-mpg microgesture\\human_micro_gesture_classifier\\scripts\\mac'\n",
    "run_name = 'mac_multi'\n",
    "\n",
    "# os.makedirs(osp.join(experiment_folder, run_name), exist_ok=True)\n",
    "# os.makedirs(osp.join(experiment_folder, run_name,'dataset'), exist_ok=True)\n",
    "# \n",
    "# # df_val.to_csv(osp.join(experiment_folder,run_name,'dataset','val.csv'))\n",
    "# # df_train.to_csv(osp.join(experiment_folder,run_name,'dataset','train.csv'))\n"
   ]
  },
  {
   "cell_type": "code",
   "execution_count": 15,
   "metadata": {
    "ExecuteTime": {
     "end_time": "2024-06-19T18:07:05.411851200Z",
     "start_time": "2024-06-19T18:07:03.263339500Z"
    }
   },
   "outputs": [],
   "source": [
    "from torch.utils.data import DataLoader\n",
    "import dyadic_communication\n",
    "from importlib import reload\n",
    "from utils_dir import debug_model\n",
    "import run_videomae_vis_v2\n",
    "\n",
    "reload(dyadic_communication)\n",
    "reload(debug_model)\n",
    "reload(run_videomae_vis_v2)\n",
    "\n",
    "from argparse import Namespace\n",
    "import mpigroup.const as const\n"
   ]
  },
  {
   "cell_type": "code",
   "execution_count": 16,
   "metadata": {
    "ExecuteTime": {
     "end_time": "2024-06-19T18:07:05.427851200Z",
     "start_time": "2024-06-19T18:07:05.414850700Z"
    }
   },
   "outputs": [
    {
     "data": {
      "text/plain": "{'front1': 'tr', 'front2': 'tl', 'right': 'bl', 'left': 'br', 'center': 'mm'}"
     },
     "execution_count": 16,
     "metadata": {},
     "output_type": "execute_result"
    }
   ],
   "source": [
    "reload(const)\n",
    "cropping_map = const.cropping_map\n",
    "cropping_map"
   ]
  },
  {
   "cell_type": "code",
   "execution_count": 17,
   "metadata": {
    "ExecuteTime": {
     "end_time": "2024-06-19T18:07:07.953890800Z",
     "start_time": "2024-06-19T18:07:07.206890100Z"
    }
   },
   "outputs": [],
   "source": [
    "data_path= r'D:\\Project-mpg microgesture\\mac2024\\track1'\n",
    "\n",
    "args = debug_model.args\n",
    "args.anno_path = osp.join(experiment_folder,run_name,'dataset','val.csv')\n",
    "args.data_path = data_path\n",
    "args.data_root = data_path\n",
    "args.mode = 'validation'\n",
    "args.test_mode = False\n",
    "dataset = dyadic_communication.DyadicvideoClsDataset(\n",
    "          anno_path=args.anno_path,\n",
    "            data_path=args.data_path,\n",
    "            mode=args.mode,\n",
    "            clip_len=1,\n",
    "            num_segment=args.num_frames,\n",
    "            test_num_segment=args.test_num_segment,\n",
    "            test_num_crop=args.test_num_crop,\n",
    "            num_crop=1 if not args.test_mode else 3,\n",
    "            keep_aspect_ratio=True,\n",
    "            crop_size=args.input_size,\n",
    "            short_side_size=args.short_side_size,\n",
    "            new_height=224,\n",
    "            new_width=224,\n",
    "            view_crop_mapping=cropping_map,\n",
    "            corner_crop_size=None,\n",
    "            data_root=args.data_root,\n",
    "            args=args)\n",
    "\n"
   ]
  },
  {
   "cell_type": "code",
   "execution_count": 21,
   "metadata": {
    "ExecuteTime": {
     "end_time": "2024-06-19T18:08:41.373804400Z",
     "start_time": "2024-06-19T18:08:41.081795900Z"
    }
   },
   "outputs": [],
   "source": [
    "\n",
    "data = DataLoader(dataset=dataset, batch_size=2, shuffle=True)\n",
    "iterdata = iter(data)"
   ]
  },
  {
   "cell_type": "code",
   "execution_count": 22,
   "metadata": {
    "ExecuteTime": {
     "end_time": "2024-06-19T18:08:42.220794100Z",
     "start_time": "2024-06-19T18:08:41.610798Z"
    }
   },
   "outputs": [
    {
     "name": "stdout",
     "output_type": "stream",
     "text": [
      "torch.Size([2, 3, 16, 224, 224])\n",
      "tensor([[0, 0, 0, 0, 0, 0, 0, 0, 0, 0, 1, 0, 0, 0, 0, 0, 0, 0, 0, 0, 0, 0, 0, 0,\n",
      "         0, 0, 0, 0, 0, 0, 0, 0, 0, 0, 0, 0, 0, 0, 0, 0, 0, 0, 0, 0, 0, 0, 0, 0,\n",
      "         0, 0, 0, 0, 0, 1, 0, 0],\n",
      "        [0, 0, 0, 0, 0, 0, 0, 0, 0, 0, 0, 0, 0, 0, 0, 0, 0, 0, 0, 0, 0, 0, 0, 1,\n",
      "         0, 0, 0, 0, 0, 0, 0, 0, 0, 0, 0, 0, 0, 0, 0, 0, 0, 0, 0, 0, 0, 0, 0, 0,\n",
      "         0, 0, 0, 0, 0, 0, 1, 0]], dtype=torch.int32)\n",
      "[[('D:\\\\Project-mpg microgesture\\\\mac2024\\\\track1\\\\val\\\\0078_01_0098', 'D:\\\\Project-mpg microgesture\\\\mac2024\\\\track1\\\\val\\\\0078_02_0108')], (\"{'sample_id': '0078_01_0098', 'label_txt': 'shaking head', 'label': 10, 'view': 'center', 'filenames': '0078_01_0098.mp4', 'coarse_label': 1, 'coarse_label_txt': 'head'}\", \"{'sample_id': '0078_02_0108', 'label_txt': 'illustrative gestures', 'label': 23, 'view': 'center', 'filenames': '0078_02_0108.mp4', 'coarse_label': 2, 'coarse_label_txt': 'upper limb'}\"), [], []]\n"
     ]
    }
   ],
   "source": [
    "d = next(iterdata)\n",
    "print(d[0].shape)\n",
    "print(d[1])\n",
    "print(d[2:])"
   ]
  },
  {
   "cell_type": "code",
   "execution_count": 33,
   "outputs": [
    {
     "data": {
      "text/plain": "array(['shaking head', 'illustrative gestures'], dtype=object)"
     },
     "execution_count": 33,
     "metadata": {},
     "output_type": "execute_result"
    }
   ],
   "source": [
    "pd.DataFrame([ast.literal_eval(a) for a in d[3]])['label_txt'].values"
   ],
   "metadata": {
    "collapsed": false,
    "ExecuteTime": {
     "end_time": "2024-06-19T18:12:53.102090200Z",
     "start_time": "2024-06-19T18:12:53.052084300Z"
    }
   }
  },
  {
   "cell_type": "code",
   "execution_count": 35,
   "metadata": {
    "ExecuteTime": {
     "end_time": "2024-06-19T18:13:19.069655800Z",
     "start_time": "2024-06-19T18:13:18.025670200Z"
    }
   },
   "outputs": [],
   "source": [
    "reload(run_videomae_vis_v2)\n",
    "\n",
    "vids = d[0]\n",
    "labels = d[1]\n",
    "label_txt = pd.DataFrame([ast.literal_eval(a) for a in d[3]])['label_txt'].values\n",
    "fnames = pd.DataFrame([ast.literal_eval(a) for a in d[3]])['filenames'].values\n",
    "\n",
    "for vid,label, txt_label, fname in zip(vids,labels, label_txt, fnames):\n",
    "       \n",
    "    # ret = get_activities(feature_names, label)\n",
    "\n",
    "    txt =  '\\n'.join([fname ,txt_label])\n",
    "    \n",
    "    vid = run_videomae_vis_v2.unnormalize_frames(vid)\n",
    "    run_videomae_vis_v2.save_video(vid, osp.join('testing_'+fname), txt=txt)\n",
    "    \n"
   ]
  },
  {
   "cell_type": "code",
   "execution_count": 18,
   "metadata": {
    "ExecuteTime": {
     "end_time": "2024-05-06T12:58:42.545355900Z",
     "start_time": "2024-05-06T12:58:42.530347600Z"
    }
   },
   "outputs": [],
   "source": [
    "# video_path = osp.join(path_to_root_folder,'clips_val','05942-video1.mp4')\n",
    "# video_path"
   ]
  },
  {
   "cell_type": "code",
   "execution_count": 19,
   "metadata": {
    "ExecuteTime": {
     "end_time": "2024-05-06T12:58:42.571352400Z",
     "start_time": "2024-05-06T12:58:42.548346300Z"
    }
   },
   "outputs": [],
   "source": []
  },
  {
   "cell_type": "code",
   "execution_count": 36,
   "metadata": {
    "ExecuteTime": {
     "end_time": "2024-06-19T18:21:44.045400300Z",
     "start_time": "2024-06-19T18:21:39.828358400Z"
    }
   },
   "outputs": [
    {
     "name": "stdout",
     "output_type": "stream",
     "text": [
      "Creating model: pretrain_videomae_base_patch16_224_densepose_dual\n"
     ]
    },
    {
     "data": {
      "text/plain": "PretrainVisionTransformerMultiOutout(\n  (encoder): PretrainVisionTransformerEncoder(\n    (patch_embed): PatchEmbed(\n      (proj): Conv3d(3, 768, kernel_size=(2, 16, 16), stride=(2, 16, 16))\n    )\n    (blocks): ModuleList(\n      (0-11): 12 x Block(\n        (norm1): LayerNorm((768,), eps=1e-06, elementwise_affine=True)\n        (attn): Attention(\n          (qkv): Linear(in_features=768, out_features=2304, bias=False)\n          (attn_drop): Dropout(p=0.0, inplace=False)\n          (proj): Linear(in_features=768, out_features=768, bias=True)\n          (proj_drop): Dropout(p=0.0, inplace=False)\n        )\n        (drop_path): Identity()\n        (norm2): LayerNorm((768,), eps=1e-06, elementwise_affine=True)\n        (mlp): Mlp(\n          (fc1): Linear(in_features=768, out_features=3072, bias=True)\n          (act): GELU(approximate='none')\n          (fc2): Linear(in_features=3072, out_features=768, bias=True)\n          (drop): Dropout(p=0.0, inplace=False)\n        )\n      )\n    )\n    (norm): LayerNorm((768,), eps=1e-06, elementwise_affine=True)\n    (head): Identity()\n  )\n  (decoder): PretrainVisionTransformerDecoderMultiOutput(\n    (decoders): ModuleList(\n      (0-1): 2 x PretrainVisionTransformerDecoder(\n        (blocks): ModuleList(\n          (0-3): 4 x Block(\n            (norm1): LayerNorm((384,), eps=1e-06, elementwise_affine=True)\n            (attn): Attention(\n              (qkv): Linear(in_features=384, out_features=1152, bias=False)\n              (attn_drop): Dropout(p=0.0, inplace=False)\n              (proj): Linear(in_features=384, out_features=384, bias=True)\n              (proj_drop): Dropout(p=0.0, inplace=False)\n            )\n            (drop_path): Identity()\n            (norm2): LayerNorm((384,), eps=1e-06, elementwise_affine=True)\n            (mlp): Mlp(\n              (fc1): Linear(in_features=384, out_features=1536, bias=True)\n              (act): GELU(approximate='none')\n              (fc2): Linear(in_features=1536, out_features=384, bias=True)\n              (drop): Dropout(p=0.0, inplace=False)\n            )\n          )\n        )\n        (norm): LayerNorm((384,), eps=1e-06, elementwise_affine=True)\n        (head): Linear(in_features=384, out_features=1536, bias=True)\n      )\n    )\n  )\n  (encoder_to_decoder): Linear(in_features=768, out_features=384, bias=False)\n)"
     },
     "execution_count": 36,
     "metadata": {},
     "output_type": "execute_result"
    }
   ],
   "source": [
    "# model_dict = {\n",
    "#     'experiment':'MPIG_densepose_dual_2',\n",
    "#     'description':'MPIG_densepose_dual - videoMAE-K400 , same as K400 but then was finetuned on MPIGroupInteractions dataset (train set) for 100 epochs, with denspose as additional decoding target',\n",
    "#     'checkpoint_path':r'D:\\Project-mpg microgesture\\pretrained\\pretrained\\MPIIGroupInteraction\\k400_finetune_videomae_pretrain_dual_2_patch16_224_frame_16x4_tube_mask_ratio_0.9_e100\\checkpoint-99.pth',\n",
    "#     'model_name':'pretrain_videomae_base_patch16_224_densepose_dual',\n",
    "# }\n",
    "\n",
    "model_dict = {\n",
    "    'experiment':'mac_multi',\n",
    "    'description':'mac2024 dataset, first pretrained on mpigourpinteraction for 100 epochs then trained on mac2024 track1 dataset for 100 epochs',\n",
    "    'checkpoint_path':r'D:\\Project-mpg microgesture\\human_micro_gesture_classifier\\experiments\\mac_multi\\checkpoint-199.pth',\n",
    "    'model_name':'pretrain_videomae_base_patch16_224_densepose_dual',\n",
    "}\n",
    "\n",
    "image_batch = d[0]\n",
    "save_folder = osp.join('videos')\n",
    "model_path = model_dict['checkpoint_path']\n",
    "model_name = model_dict['model_name']\n",
    "\n",
    "args = Namespace(\n",
    "        image_batch=image_batch,\n",
    "        save_path=save_folder, # list\n",
    "        model_path=model_path, \n",
    "        mask_type='tube',\n",
    "        num_frames=16,\n",
    "        sampling_rate=4,\n",
    "        decoder_depth=4,\n",
    "        input_size=224,\n",
    "        device='cuda:0',\n",
    "        imagenet_default_mean_and_std=True,\n",
    "        mask_ratio=0,\n",
    "        model=model_name,\n",
    "        densepose=True,\n",
    "        drop_path=0.0)\n",
    "\n",
    "model = run_videomae_vis_v2.get_model(args=args) \n",
    "\n",
    "checkpoint = torch.load(args.model_path, map_location='cpu')\n",
    "model.load_state_dict(checkpoint['model'])\n",
    "model.eval()"
   ]
  },
  {
   "cell_type": "code",
   "execution_count": 37,
   "metadata": {
    "ExecuteTime": {
     "end_time": "2024-06-19T18:21:55.225491200Z",
     "start_time": "2024-06-19T18:21:48.389930500Z"
    }
   },
   "outputs": [],
   "source": [
    "outputs = model(image_batch)   "
   ]
  },
  {
   "cell_type": "code",
   "execution_count": 38,
   "metadata": {
    "ExecuteTime": {
     "end_time": "2024-06-19T18:22:02.099229800Z",
     "start_time": "2024-06-19T18:22:02.076241900Z"
    }
   },
   "outputs": [],
   "source": [
    "# outputs = model(image_batch) "
   ]
  },
  {
   "cell_type": "code",
   "execution_count": 39,
   "metadata": {
    "ExecuteTime": {
     "end_time": "2024-06-19T18:22:04.465443Z",
     "start_time": "2024-06-19T18:22:04.296438800Z"
    }
   },
   "outputs": [],
   "source": [
    "reload(run_videomae_vis_v2)\n",
    "\n",
    "rec_videos_patches = outputs[0]\n",
    "rec_densepose_patches = outputs[1]\n",
    "patch_size = model.encoder.patch_embed.patch_size\n",
    "unnorm_videos = run_videomae_vis_v2.unnormalize_frames(img=image_batch)\n",
    "_, rec_videos, _ = run_videomae_vis_v2.reconstruct_video_from_patches(\n",
    "    ori_img=unnorm_videos, patch_size=patch_size, bool_masked_pos=None, outputs=rec_videos_patches, frame_id_list=None)\n",
    "\n",
    "_, rec_densepose, _ = run_videomae_vis_v2.reconstruct_video_from_patches(\n",
    "    ori_img=unnorm_videos, patch_size=patch_size, bool_masked_pos=None, \n",
    "    outputs=rec_densepose_patches, frame_id_list=None,normalize_with_orig=False)"
   ]
  },
  {
   "cell_type": "code",
   "execution_count": 40,
   "outputs": [
    {
     "data": {
      "text/plain": "torch.Size([3, 16, 224, 224])"
     },
     "execution_count": 40,
     "metadata": {},
     "output_type": "execute_result"
    }
   ],
   "source": [
    "rec_densepose[0].shape"
   ],
   "metadata": {
    "collapsed": false,
    "ExecuteTime": {
     "end_time": "2024-06-19T18:22:06.376119900Z",
     "start_time": "2024-06-19T18:22:06.368122400Z"
    }
   }
  },
  {
   "cell_type": "code",
   "execution_count": 25,
   "outputs": [],
   "source": [
    "# a = (torch.nn.functional.normalize(rec_densepose[0],dim=0) + torch.Tensor([1,1,1])[:,None,None,None]) / torch.Tensor([2,2,2])[:,None,None,None]\n"
   ],
   "metadata": {
    "collapsed": false,
    "ExecuteTime": {
     "end_time": "2024-05-06T12:59:03.332804800Z",
     "start_time": "2024-05-06T12:59:03.288806100Z"
    }
   }
  },
  {
   "cell_type": "code",
   "execution_count": 26,
   "outputs": [],
   "source": [
    "# print(f'mean: {a.mean(dim=[1,2,3])}')\n",
    "# print(f'std: {a.std(dim=[1,2,3])}')\n",
    "# print(f'min: {a.reshape(3, -1).min(dim=1)[0]}')\n",
    "# print(f'max: {a.reshape(3, -1).max(dim=1)[0] }')"
   ],
   "metadata": {
    "collapsed": false,
    "ExecuteTime": {
     "end_time": "2024-05-06T12:59:03.334803700Z",
     "start_time": "2024-05-06T12:59:03.303807100Z"
    }
   }
  },
  {
   "cell_type": "code",
   "execution_count": 41,
   "metadata": {
    "ExecuteTime": {
     "end_time": "2024-06-19T18:22:10.213781600Z",
     "start_time": "2024-06-19T18:22:10.161758300Z"
    }
   },
   "outputs": [
    {
     "name": "stdout",
     "output_type": "stream",
     "text": [
      "mean: tensor([-0.0012,  0.0004,  0.0007], grad_fn=<MeanBackward1>)\n",
      "std: tensor([0.2267, 0.2275, 0.2359], grad_fn=<StdBackward0>)\n",
      "min: tensor([-2.2379, -2.2477, -2.0032], grad_fn=<MinBackward0>)\n",
      "max: tensor([4.7746, 4.6475, 4.1586], grad_fn=<MaxBackward0>)\n"
     ]
    }
   ],
   "source": [
    "print(f'mean: {rec_densepose[0].mean(dim=[1,2,3])}')\n",
    "print(f'std: {rec_densepose[0].std(dim=[1,2,3])}')\n",
    "print(f'min: {rec_densepose[0].reshape(3, -1).min(dim=1)[0]}')\n",
    "print(f'max: {rec_densepose[0].reshape(3, -1).max(dim=1)[0] }')"
   ]
  },
  {
   "cell_type": "code",
   "execution_count": 43,
   "metadata": {
    "ExecuteTime": {
     "end_time": "2024-06-19T18:22:43.076835300Z",
     "start_time": "2024-06-19T18:22:41.456835300Z"
    }
   },
   "outputs": [],
   "source": [
    "import os\n",
    "\n",
    "vids = d[0]\n",
    "labels = d[1]\n",
    "label_txt = pd.DataFrame([ast.literal_eval(a) for a in d[3]])['label_txt'].values\n",
    "fnames = pd.DataFrame([ast.literal_eval(a) for a in d[3]])['filenames'].values\n",
    "\n",
    "softmax = torch.nn.Softmax(dim=0)\n",
    "\n",
    "for ori_vid,rec_vid,rec_dense,labels,txt_label, fname in zip(vids,rec_videos,rec_densepose,labels, label_txt, fnames):\n",
    "       \n",
    "    txt =  '\\n'.join([fname ,txt_label])\n",
    "\n",
    "    ori_vid = run_videomae_vis_v2.unnormalize_frames(ori_vid)\n",
    "    rec_dense = run_videomae_vis_v2.unnormalize_frames(rec_dense)\n",
    "    # rec_dense = (torch.nn.functional.normalize(rec_dense,dim=0) + torch.Tensor([1,1,1])[:,None,None,None]) / torch.Tensor([2,2,2])[:,None,None,None]\n",
    "    # rec_vid = run_videomae_vis_v2.unnormalize_frames(rec_vid)\n",
    "    # rec_dense = softmax(rec_dense)\n",
    "\n",
    "    save_folder = osp.join('videos',fname.replace('.mp4',''))\n",
    "    os.makedirs(save_folder, exist_ok=True)\n",
    "    \n",
    "    run_videomae_vis_v2.save_video(ori_vid, osp.join(save_folder,'ori_vid_'+fname), txt=txt)\n",
    "\n",
    "    # run_videomae_vis_v2.save_video(ori_dense, osp.join(save_folder,'ori_dense_'+fname), txt=txt)\n",
    "\n",
    "    run_videomae_vis_v2.save_video(rec_vid, osp.join(save_folder,'rec_vid_'+fname), txt=txt)\n",
    "\n",
    "    run_videomae_vis_v2.save_video(rec_dense, osp.join(save_folder,'rec_dense_'+fname), txt=txt)\n",
    "    "
   ]
  },
  {
   "cell_type": "code",
   "execution_count": 29,
   "metadata": {
    "ExecuteTime": {
     "end_time": "2024-05-06T12:59:05.640871400Z",
     "start_time": "2024-05-06T12:59:05.266805Z"
    }
   },
   "outputs": [],
   "source": [
    "from sklearn.utils.class_weight import compute_class_weight\n",
    "\n",
    "def get_class_weights_sk(y):\n",
    "    # Assuming y is a multi-label array with both specific and higher-tier labels\n",
    "    class_weights = compute_class_weight(class_weight='balanced', classes=np.unique(y), y=y)\n",
    "    class_weights_dict = {i: class_weights[i] for i in range(len(class_weights))}\n",
    "    \n",
    "    print(class_weights_dict)\n",
    "    "
   ]
  },
  {
   "cell_type": "code",
   "execution_count": 78,
   "metadata": {
    "ExecuteTime": {
     "end_time": "2024-06-19T19:05:08.336076600Z",
     "start_time": "2024-06-19T19:05:08.297081700Z"
    }
   },
   "outputs": [],
   "source": [
    "def get_class_weights(df,feature_names, alpha=10, beta=2, gamma=1):\n",
    "    class_weights = {}\n",
    "    positive_weights = {}\n",
    "    negative_weights = {}\n",
    "    class_frequency = {}\n",
    "    # N = len(df)\n",
    "    n_features = len(feature_names)\n",
    "\n",
    "    N = np.sum(df[feature_names].to_numpy())\n",
    "    for label in feature_names:\n",
    "        if label in df.columns:\n",
    "            positive_weights[label] = np.power(np.log((N+n_features) /(alpha * (sum(df[label] == 1))+1)*beta),gamma)\n",
    "            negative_weights[label] = np.power(np.log((N+n_features) /(alpha * (sum(df[label] == 0))+1)*beta),gamma)\n",
    "            \n",
    "        else:\n",
    "            positive_weights[label] = 0\n",
    "            negative_weights[label] = 0\n",
    "        \n",
    "        class_frequency[label] =  sum(df[label] == 1) / N\n",
    "\n",
    "            \n",
    "    # class_weights['positive_weights'] = pd.DataFrame.from_dict(positive_weights)\n",
    "    # class_weights['negative_weights'] = pd.DataFrame.from_dict(negative_weights)\n",
    "    class_weights = pd.DataFrame(zip(positive_weights.keys(),class_frequency.values(), positive_weights.values(), negative_weights.values()),columns=['class','class_freq','positive_weights','negative_weights'])        \n",
    "    class_weights['method'] = 'inv'\n",
    "    return class_weights\n",
    "\n",
    "def get_class_weights_regular(df,feature_names):\n",
    "    class_weights = {}\n",
    "    positive_weights = {}\n",
    "    negative_weights = {}\n",
    "    class_frequency = {}\n",
    "    # N = len(df)\n",
    "    n_features = len(feature_names)\n",
    "\n",
    "    N = np.sum(df[feature_names].to_numpy())\n",
    "    for label in feature_names:\n",
    "        if label in df.columns:\n",
    "            positive_weights[label] = np.log((N+n_features) /((sum(df[label] == 1))+1))\n",
    "            negative_weights[label] = np.log((N+n_features) /((sum(df[label] == 0))+1))\n",
    "            \n",
    "        else:\n",
    "            positive_weights[label] = 0\n",
    "            negative_weights[label] = 0\n",
    "        \n",
    "        class_frequency[label] =  sum(df[label] == 1) / N\n",
    "\n",
    "            \n",
    "    # class_weights['positive_weights'] = pd.DataFrame.from_dict(positive_weights)\n",
    "    # class_weights['negative_weights'] = pd.DataFrame.from_dict(negative_weights)\n",
    "    class_weights = pd.DataFrame(zip(positive_weights.keys(),class_frequency.values(), positive_weights.values(), negative_weights.values()),columns=['class','class_freq','positive_weights','negative_weights'])        \n",
    "    class_weights['method'] = 'regular'\n",
    "    return class_weights\n",
    "\n"
   ]
  },
  {
   "cell_type": "code",
   "execution_count": 79,
   "outputs": [
    {
     "data": {
      "text/plain": "Index(['shaking body', 'sitting straightly', 'shrugging', 'turning around',\n       'rising up', 'bowing head', 'head up', 'tilting head', 'turning head',\n       'nodding', 'shaking head', 'scratching arms', 'playing objects',\n       'putting hands together', 'rubbing hands', 'pointing oneself',\n       'clenching fist', 'stretching arms', 'retracting arms', 'waving',\n       'spreading hands', 'hands touching fingers', 'other finger movements',\n       'illustrative gestures', 'shaking legs', 'curling legs', 'spread legs',\n       'closing legs', 'crossing legs', 'stretching feet', 'retracting feet',\n       'tiptoe', 'scratching or touching neck', 'scratching or touching chest',\n       'scratching or touching back', 'scratching or touching shoulder',\n       'arms akimbo', 'crossing arms', 'playing or tidying hair',\n       'scratching or touching hindbrain', 'scratching or touching forehead',\n       'scratching or touching face', 'rubbing eyes', 'touching nose',\n       'touching ears', 'covering face', 'covering mouth', 'pushing glasses',\n       'patting legs', 'touching legs', 'scratching legs', 'scratching feet',\n       'body', 'head', 'hands', 'legs'],\n      dtype='object')"
     },
     "execution_count": 79,
     "metadata": {},
     "output_type": "execute_result"
    }
   ],
   "source": [
    "multi_hot_df.columns"
   ],
   "metadata": {
    "collapsed": false,
    "ExecuteTime": {
     "end_time": "2024-06-19T19:05:09.649731400Z",
     "start_time": "2024-06-19T19:05:09.622731100Z"
    }
   }
  },
  {
   "cell_type": "code",
   "execution_count": 82,
   "outputs": [
    {
     "name": "stderr",
     "output_type": "stream",
     "text": [
      "C:\\Users\\user\\AppData\\Local\\Temp\\ipykernel_32380\\3422413943.py:13: RuntimeWarning: invalid value encountered in power\n",
      "  negative_weights[label] = np.power(np.log((N+n_features) /(alpha * (sum(df[label] == 0))+1)*beta),gamma)\n"
     ]
    },
    {
     "data": {
      "text/plain": "                               class  class_freq  positive_weights  \\\n0                       shaking body    0.012570          4.157523   \n1                 sitting straightly    0.006094          5.280892   \n2                          shrugging    0.000789          8.648039   \n3                     turning around    0.000326         10.158225   \n4                          rising up    0.006312          5.225453   \n5                        bowing head    0.013740          4.022567   \n6                            head up    0.009876          4.526836   \n7                       tilting head    0.018610          3.568165   \n8                       turning head    0.039233          2.492993   \n9                            nodding    0.052347          2.095749   \n10                      shaking head    0.048646          2.195637   \n11                   scratching arms    0.009223          4.632513   \n12                   playing objects    0.004571          5.738871   \n13            putting hands together    0.003863          6.009302   \n14                     rubbing hands    0.001714          7.342252   \n15                  pointing oneself    0.003346          6.241873   \n16                    clenching fist    0.003074          6.379810   \n17                   stretching arms    0.014447          3.946762   \n18                   retracting arms    0.003537          6.152092   \n19                            waving    0.011291          4.321182   \n20                   spreading hands    0.005986          5.309396   \n21            hands touching fingers    0.014501          3.941095   \n22            other finger movements    0.015209          3.869417   \n23             illustrative gestures    0.016161          3.778339   \n24                      shaking legs    0.009713          4.552549   \n25                      curling legs    0.002694          6.595890   \n26                       spread legs    0.003755          6.055454   \n27                      closing legs    0.003945          5.975569   \n28                     crossing legs    0.002449          6.752271   \n29                   stretching feet    0.009414          4.600895   \n30                   retracting feet    0.010529          4.428293   \n31                            tiptoe    0.016215          3.773308   \n32       scratching or touching neck    0.002530          6.698408   \n33      scratching or touching chest    0.003319          6.255132   \n34       scratching or touching back    0.002122          6.988095   \n35   scratching or touching shoulder    0.001333          7.762135   \n36                       arms akimbo    0.001741          7.316051   \n37                     crossing arms    0.001714          7.342252   \n38           playing or tidying hair    0.003619          6.115145   \n39  scratching or touching hindbrain    0.003319          6.255132   \n40   scratching or touching forehead    0.002340          6.827059   \n41       scratching or touching face    0.005142          5.550627   \n42                      rubbing eyes    0.002694          6.595890   \n43                     touching nose    0.005958          5.316606   \n44                     touching ears    0.002095          7.009419   \n45                     covering face    0.000218         10.854435   \n46                    covering mouth    0.001007          8.235101   \n47                   pushing glasses    0.002775          6.547024   \n48                      patting legs    0.017141          3.690439   \n49                     touching legs    0.020269          3.441881   \n50                   scratching legs    0.003727          6.067210   \n51                   scratching feet    0.000816          8.590438   \n52                              body    0.038852          2.506629   \n53                              head    0.211617          0.389563   \n54                             hands    0.190804          0.498012   \n55                              legs    0.100667          1.243024   \n\n    negative_weights method  \n0                NaN    inv  \n1                NaN    inv  \n2                NaN    inv  \n3                NaN    inv  \n4                NaN    inv  \n5                NaN    inv  \n6                NaN    inv  \n7                NaN    inv  \n8                NaN    inv  \n9                NaN    inv  \n10               NaN    inv  \n11               NaN    inv  \n12               NaN    inv  \n13               NaN    inv  \n14               NaN    inv  \n15               NaN    inv  \n16               NaN    inv  \n17               NaN    inv  \n18               NaN    inv  \n19               NaN    inv  \n20               NaN    inv  \n21               NaN    inv  \n22               NaN    inv  \n23               NaN    inv  \n24               NaN    inv  \n25               NaN    inv  \n26               NaN    inv  \n27               NaN    inv  \n28               NaN    inv  \n29               NaN    inv  \n30               NaN    inv  \n31               NaN    inv  \n32               NaN    inv  \n33               NaN    inv  \n34               NaN    inv  \n35               NaN    inv  \n36               NaN    inv  \n37               NaN    inv  \n38               NaN    inv  \n39               NaN    inv  \n40               NaN    inv  \n41               NaN    inv  \n42               NaN    inv  \n43               NaN    inv  \n44               NaN    inv  \n45               NaN    inv  \n46               NaN    inv  \n47               NaN    inv  \n48               NaN    inv  \n49               NaN    inv  \n50               NaN    inv  \n51               NaN    inv  \n52               NaN    inv  \n53          0.239105    inv  \n54          0.164671    inv  \n55               NaN    inv  ",
      "text/html": "<div>\n<style scoped>\n    .dataframe tbody tr th:only-of-type {\n        vertical-align: middle;\n    }\n\n    .dataframe tbody tr th {\n        vertical-align: top;\n    }\n\n    .dataframe thead th {\n        text-align: right;\n    }\n</style>\n<table border=\"1\" class=\"dataframe\">\n  <thead>\n    <tr style=\"text-align: right;\">\n      <th></th>\n      <th>class</th>\n      <th>class_freq</th>\n      <th>positive_weights</th>\n      <th>negative_weights</th>\n      <th>method</th>\n    </tr>\n  </thead>\n  <tbody>\n    <tr>\n      <th>0</th>\n      <td>shaking body</td>\n      <td>0.012570</td>\n      <td>4.157523</td>\n      <td>NaN</td>\n      <td>inv</td>\n    </tr>\n    <tr>\n      <th>1</th>\n      <td>sitting straightly</td>\n      <td>0.006094</td>\n      <td>5.280892</td>\n      <td>NaN</td>\n      <td>inv</td>\n    </tr>\n    <tr>\n      <th>2</th>\n      <td>shrugging</td>\n      <td>0.000789</td>\n      <td>8.648039</td>\n      <td>NaN</td>\n      <td>inv</td>\n    </tr>\n    <tr>\n      <th>3</th>\n      <td>turning around</td>\n      <td>0.000326</td>\n      <td>10.158225</td>\n      <td>NaN</td>\n      <td>inv</td>\n    </tr>\n    <tr>\n      <th>4</th>\n      <td>rising up</td>\n      <td>0.006312</td>\n      <td>5.225453</td>\n      <td>NaN</td>\n      <td>inv</td>\n    </tr>\n    <tr>\n      <th>5</th>\n      <td>bowing head</td>\n      <td>0.013740</td>\n      <td>4.022567</td>\n      <td>NaN</td>\n      <td>inv</td>\n    </tr>\n    <tr>\n      <th>6</th>\n      <td>head up</td>\n      <td>0.009876</td>\n      <td>4.526836</td>\n      <td>NaN</td>\n      <td>inv</td>\n    </tr>\n    <tr>\n      <th>7</th>\n      <td>tilting head</td>\n      <td>0.018610</td>\n      <td>3.568165</td>\n      <td>NaN</td>\n      <td>inv</td>\n    </tr>\n    <tr>\n      <th>8</th>\n      <td>turning head</td>\n      <td>0.039233</td>\n      <td>2.492993</td>\n      <td>NaN</td>\n      <td>inv</td>\n    </tr>\n    <tr>\n      <th>9</th>\n      <td>nodding</td>\n      <td>0.052347</td>\n      <td>2.095749</td>\n      <td>NaN</td>\n      <td>inv</td>\n    </tr>\n    <tr>\n      <th>10</th>\n      <td>shaking head</td>\n      <td>0.048646</td>\n      <td>2.195637</td>\n      <td>NaN</td>\n      <td>inv</td>\n    </tr>\n    <tr>\n      <th>11</th>\n      <td>scratching arms</td>\n      <td>0.009223</td>\n      <td>4.632513</td>\n      <td>NaN</td>\n      <td>inv</td>\n    </tr>\n    <tr>\n      <th>12</th>\n      <td>playing objects</td>\n      <td>0.004571</td>\n      <td>5.738871</td>\n      <td>NaN</td>\n      <td>inv</td>\n    </tr>\n    <tr>\n      <th>13</th>\n      <td>putting hands together</td>\n      <td>0.003863</td>\n      <td>6.009302</td>\n      <td>NaN</td>\n      <td>inv</td>\n    </tr>\n    <tr>\n      <th>14</th>\n      <td>rubbing hands</td>\n      <td>0.001714</td>\n      <td>7.342252</td>\n      <td>NaN</td>\n      <td>inv</td>\n    </tr>\n    <tr>\n      <th>15</th>\n      <td>pointing oneself</td>\n      <td>0.003346</td>\n      <td>6.241873</td>\n      <td>NaN</td>\n      <td>inv</td>\n    </tr>\n    <tr>\n      <th>16</th>\n      <td>clenching fist</td>\n      <td>0.003074</td>\n      <td>6.379810</td>\n      <td>NaN</td>\n      <td>inv</td>\n    </tr>\n    <tr>\n      <th>17</th>\n      <td>stretching arms</td>\n      <td>0.014447</td>\n      <td>3.946762</td>\n      <td>NaN</td>\n      <td>inv</td>\n    </tr>\n    <tr>\n      <th>18</th>\n      <td>retracting arms</td>\n      <td>0.003537</td>\n      <td>6.152092</td>\n      <td>NaN</td>\n      <td>inv</td>\n    </tr>\n    <tr>\n      <th>19</th>\n      <td>waving</td>\n      <td>0.011291</td>\n      <td>4.321182</td>\n      <td>NaN</td>\n      <td>inv</td>\n    </tr>\n    <tr>\n      <th>20</th>\n      <td>spreading hands</td>\n      <td>0.005986</td>\n      <td>5.309396</td>\n      <td>NaN</td>\n      <td>inv</td>\n    </tr>\n    <tr>\n      <th>21</th>\n      <td>hands touching fingers</td>\n      <td>0.014501</td>\n      <td>3.941095</td>\n      <td>NaN</td>\n      <td>inv</td>\n    </tr>\n    <tr>\n      <th>22</th>\n      <td>other finger movements</td>\n      <td>0.015209</td>\n      <td>3.869417</td>\n      <td>NaN</td>\n      <td>inv</td>\n    </tr>\n    <tr>\n      <th>23</th>\n      <td>illustrative gestures</td>\n      <td>0.016161</td>\n      <td>3.778339</td>\n      <td>NaN</td>\n      <td>inv</td>\n    </tr>\n    <tr>\n      <th>24</th>\n      <td>shaking legs</td>\n      <td>0.009713</td>\n      <td>4.552549</td>\n      <td>NaN</td>\n      <td>inv</td>\n    </tr>\n    <tr>\n      <th>25</th>\n      <td>curling legs</td>\n      <td>0.002694</td>\n      <td>6.595890</td>\n      <td>NaN</td>\n      <td>inv</td>\n    </tr>\n    <tr>\n      <th>26</th>\n      <td>spread legs</td>\n      <td>0.003755</td>\n      <td>6.055454</td>\n      <td>NaN</td>\n      <td>inv</td>\n    </tr>\n    <tr>\n      <th>27</th>\n      <td>closing legs</td>\n      <td>0.003945</td>\n      <td>5.975569</td>\n      <td>NaN</td>\n      <td>inv</td>\n    </tr>\n    <tr>\n      <th>28</th>\n      <td>crossing legs</td>\n      <td>0.002449</td>\n      <td>6.752271</td>\n      <td>NaN</td>\n      <td>inv</td>\n    </tr>\n    <tr>\n      <th>29</th>\n      <td>stretching feet</td>\n      <td>0.009414</td>\n      <td>4.600895</td>\n      <td>NaN</td>\n      <td>inv</td>\n    </tr>\n    <tr>\n      <th>30</th>\n      <td>retracting feet</td>\n      <td>0.010529</td>\n      <td>4.428293</td>\n      <td>NaN</td>\n      <td>inv</td>\n    </tr>\n    <tr>\n      <th>31</th>\n      <td>tiptoe</td>\n      <td>0.016215</td>\n      <td>3.773308</td>\n      <td>NaN</td>\n      <td>inv</td>\n    </tr>\n    <tr>\n      <th>32</th>\n      <td>scratching or touching neck</td>\n      <td>0.002530</td>\n      <td>6.698408</td>\n      <td>NaN</td>\n      <td>inv</td>\n    </tr>\n    <tr>\n      <th>33</th>\n      <td>scratching or touching chest</td>\n      <td>0.003319</td>\n      <td>6.255132</td>\n      <td>NaN</td>\n      <td>inv</td>\n    </tr>\n    <tr>\n      <th>34</th>\n      <td>scratching or touching back</td>\n      <td>0.002122</td>\n      <td>6.988095</td>\n      <td>NaN</td>\n      <td>inv</td>\n    </tr>\n    <tr>\n      <th>35</th>\n      <td>scratching or touching shoulder</td>\n      <td>0.001333</td>\n      <td>7.762135</td>\n      <td>NaN</td>\n      <td>inv</td>\n    </tr>\n    <tr>\n      <th>36</th>\n      <td>arms akimbo</td>\n      <td>0.001741</td>\n      <td>7.316051</td>\n      <td>NaN</td>\n      <td>inv</td>\n    </tr>\n    <tr>\n      <th>37</th>\n      <td>crossing arms</td>\n      <td>0.001714</td>\n      <td>7.342252</td>\n      <td>NaN</td>\n      <td>inv</td>\n    </tr>\n    <tr>\n      <th>38</th>\n      <td>playing or tidying hair</td>\n      <td>0.003619</td>\n      <td>6.115145</td>\n      <td>NaN</td>\n      <td>inv</td>\n    </tr>\n    <tr>\n      <th>39</th>\n      <td>scratching or touching hindbrain</td>\n      <td>0.003319</td>\n      <td>6.255132</td>\n      <td>NaN</td>\n      <td>inv</td>\n    </tr>\n    <tr>\n      <th>40</th>\n      <td>scratching or touching forehead</td>\n      <td>0.002340</td>\n      <td>6.827059</td>\n      <td>NaN</td>\n      <td>inv</td>\n    </tr>\n    <tr>\n      <th>41</th>\n      <td>scratching or touching face</td>\n      <td>0.005142</td>\n      <td>5.550627</td>\n      <td>NaN</td>\n      <td>inv</td>\n    </tr>\n    <tr>\n      <th>42</th>\n      <td>rubbing eyes</td>\n      <td>0.002694</td>\n      <td>6.595890</td>\n      <td>NaN</td>\n      <td>inv</td>\n    </tr>\n    <tr>\n      <th>43</th>\n      <td>touching nose</td>\n      <td>0.005958</td>\n      <td>5.316606</td>\n      <td>NaN</td>\n      <td>inv</td>\n    </tr>\n    <tr>\n      <th>44</th>\n      <td>touching ears</td>\n      <td>0.002095</td>\n      <td>7.009419</td>\n      <td>NaN</td>\n      <td>inv</td>\n    </tr>\n    <tr>\n      <th>45</th>\n      <td>covering face</td>\n      <td>0.000218</td>\n      <td>10.854435</td>\n      <td>NaN</td>\n      <td>inv</td>\n    </tr>\n    <tr>\n      <th>46</th>\n      <td>covering mouth</td>\n      <td>0.001007</td>\n      <td>8.235101</td>\n      <td>NaN</td>\n      <td>inv</td>\n    </tr>\n    <tr>\n      <th>47</th>\n      <td>pushing glasses</td>\n      <td>0.002775</td>\n      <td>6.547024</td>\n      <td>NaN</td>\n      <td>inv</td>\n    </tr>\n    <tr>\n      <th>48</th>\n      <td>patting legs</td>\n      <td>0.017141</td>\n      <td>3.690439</td>\n      <td>NaN</td>\n      <td>inv</td>\n    </tr>\n    <tr>\n      <th>49</th>\n      <td>touching legs</td>\n      <td>0.020269</td>\n      <td>3.441881</td>\n      <td>NaN</td>\n      <td>inv</td>\n    </tr>\n    <tr>\n      <th>50</th>\n      <td>scratching legs</td>\n      <td>0.003727</td>\n      <td>6.067210</td>\n      <td>NaN</td>\n      <td>inv</td>\n    </tr>\n    <tr>\n      <th>51</th>\n      <td>scratching feet</td>\n      <td>0.000816</td>\n      <td>8.590438</td>\n      <td>NaN</td>\n      <td>inv</td>\n    </tr>\n    <tr>\n      <th>52</th>\n      <td>body</td>\n      <td>0.038852</td>\n      <td>2.506629</td>\n      <td>NaN</td>\n      <td>inv</td>\n    </tr>\n    <tr>\n      <th>53</th>\n      <td>head</td>\n      <td>0.211617</td>\n      <td>0.389563</td>\n      <td>0.239105</td>\n      <td>inv</td>\n    </tr>\n    <tr>\n      <th>54</th>\n      <td>hands</td>\n      <td>0.190804</td>\n      <td>0.498012</td>\n      <td>0.164671</td>\n      <td>inv</td>\n    </tr>\n    <tr>\n      <th>55</th>\n      <td>legs</td>\n      <td>0.100667</td>\n      <td>1.243024</td>\n      <td>NaN</td>\n      <td>inv</td>\n    </tr>\n  </tbody>\n</table>\n</div>"
     },
     "execution_count": 82,
     "metadata": {},
     "output_type": "execute_result"
    }
   ],
   "source": [
    "# df = train_one_hot_encoded\n",
    "feature_names = multi_hot_df.columns\n",
    "\n",
    "class_weights =  get_class_weights(multi_hot_df,feature_names, alpha=3, beta=1, gamma=1.2)\n",
    "# class_weights = get_class_weights_regular(multi_hot_df,feature_names)\n",
    "class_weights"
   ],
   "metadata": {
    "collapsed": false,
    "ExecuteTime": {
     "end_time": "2024-06-19T19:05:43.874084200Z",
     "start_time": "2024-06-19T19:05:43.712109400Z"
    }
   }
  },
  {
   "cell_type": "code",
   "execution_count": 83,
   "outputs": [
    {
     "data": {
      "text/plain": "<Axes: xlabel='class_freq', ylabel='positive_weights'>"
     },
     "execution_count": 83,
     "metadata": {},
     "output_type": "execute_result"
    },
    {
     "data": {
      "text/plain": "<Figure size 640x480 with 1 Axes>",
      "image/png": "[encoded data removed]"
     },
     "metadata": {},
     "output_type": "display_data"
    }
   ],
   "source": [
    "sns.scatterplot(data=class_weights, x='class_freq', y='positive_weights')#, hue='class')"
   ],
   "metadata": {
    "collapsed": false,
    "ExecuteTime": {
     "end_time": "2024-06-19T19:06:07.276696800Z",
     "start_time": "2024-06-19T19:06:07.121688600Z"
    }
   }
  },
  {
   "cell_type": "code",
   "execution_count": 49,
   "metadata": {
    "ExecuteTime": {
     "end_time": "2024-05-08T11:53:16.298254100Z",
     "start_time": "2024-05-08T11:53:16.275268100Z"
    }
   },
   "outputs": [],
   "source": [
    "from sklearn.utils.class_weight import compute_class_weight\n",
    "df = df_train_raw\n",
    "labels = df['label'].values\n",
    "classes = df['label'].unique()\n",
    "class_weights_vals = compute_class_weight(class_weight=\"balanced\", classes=classes, y=labels)\n",
    "# compute_class_weight()\n",
    "class_weights = pd.DataFrame(zip(classes, class_weights_vals), columns=['class', 'positive_weights'])\n",
    "class_weights.sort_values(by='class', inplace=True)\n",
    "class_weights"
   ]
  },
  {
   "cell_type": "code",
   "execution_count": 84,
   "outputs": [],
   "source": [
    "# import pandas as pd\n",
    "# import os.path as osp\n",
    "# import ast\n",
    "# from collections import Counter\n",
    "# df_del = pd.read_csv(osp.join(r'D:\\Project-mpg microgesture\\human_micro_gesture_classifier\\scripts\\miga_smg\\videomae_vit_base_patch16_224_kinetic_400_densepose_dual\\dataset','train.csv'))\n",
    "# \n",
    "# df_del['label_text'] = df_del['metadata'].apply(lambda x: ast.literal_eval(x)['label_txt'])\n",
    "# pd.DataFrame.from_dict({'count':Counter(df_del['label_text'])}).to_clipboard()"
   ],
   "metadata": {
    "collapsed": false,
    "ExecuteTime": {
     "end_time": "2024-06-19T19:07:33.554092800Z",
     "start_time": "2024-06-19T19:07:33.535093800Z"
    }
   }
  },
  {
   "cell_type": "code",
   "execution_count": 86,
   "outputs": [],
   "source": [
    "# from itertools import Counter"
   ],
   "metadata": {
    "collapsed": false,
    "ExecuteTime": {
     "end_time": "2024-06-19T19:07:38.386641400Z",
     "start_time": "2024-06-19T19:07:38.349608800Z"
    }
   }
  },
  {
   "cell_type": "code",
   "execution_count": 87,
   "metadata": {
    "ExecuteTime": {
     "end_time": "2024-06-19T19:08:10.410309800Z",
     "start_time": "2024-06-19T19:08:10.238262100Z"
    }
   },
   "outputs": [],
   "source": [
    "# save_folder = r'D:\\Project-mpg microgesture\\human_micro_gesture_classifier\\scripts\\miga_smg\\videomae_vit_base_patch16_224_kinetic_400_densepose_dual_multi\\dataset'\n",
    "# save_folder = osp.join(*save_folder.split('/'))\n",
    "save_folder = osp.join(experiment_folder, run_name, 'dataset')\n",
    "\n",
    "os.makedirs(save_folder, exist_ok=True)\n",
    "\n",
    "df_train.to_csv(osp.join(save_folder, 'train.csv'))\n",
    "# df_test.to_csv(osp.join(save_folder, 'test.csv'))\n",
    "df_val.to_csv(osp.join(save_folder, 'val.csv'))\n",
    "class_weights.to_csv(osp.join(save_folder, 'weights.csv'))"
   ]
  },
  {
   "cell_type": "code",
   "execution_count": 88,
   "metadata": {
    "ExecuteTime": {
     "end_time": "2024-06-19T19:08:13.043237900Z",
     "start_time": "2024-06-19T19:08:13.028246800Z"
    }
   },
   "outputs": [],
   "source": [
    "\n",
    "import json\n",
    "wrapped_data = {'data': class_weights.to_dict(orient='records')}\n",
    "\n",
    "# Save wrapped data as JSON\n",
    "with open(osp.join(save_folder, 'weights.json'), 'w') as json_file:\n",
    "    json.dump(wrapped_data, json_file, indent=4)"
   ]
  },
  {
   "cell_type": "code",
   "execution_count": 89,
   "metadata": {
    "ExecuteTime": {
     "end_time": "2024-06-19T19:11:27.998650500Z",
     "start_time": "2024-06-19T19:11:27.965514Z"
    }
   },
   "outputs": [
    {
     "data": {
      "text/plain": "56"
     },
     "execution_count": 89,
     "metadata": {},
     "output_type": "execute_result"
    }
   ],
   "source": [
    "len(class_weights)"
   ]
  },
  {
   "cell_type": "code",
   "execution_count": null,
   "metadata": {
    "ExecuteTime": {
     "start_time": "2024-05-01T11:19:33.991694600Z"
    }
   },
   "outputs": [],
   "source": []
  }
 ],
 "metadata": {
  "kernelspec": {
   "display_name": "pytorch",
   "language": "python",
   "name": "python3"
  },
  "language_info": {
   "codemirror_mode": {
    "name": "ipython",
    "version": 3
   },
   "file_extension": ".py",
   "mimetype": "text/x-python",
   "name": "python",
   "nbconvert_exporter": "python",
   "pygments_lexer": "ipython3",
   "version": "3.10.12"
  }
 },
 "nbformat": 4,
 "nbformat_minor": 2
}
