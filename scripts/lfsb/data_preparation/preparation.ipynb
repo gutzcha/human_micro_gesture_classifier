{
 "cells": [
  {
   "cell_type": "code",
   "execution_count": 1,
   "id": "initial_id",
   "metadata": {
    "collapsed": true,
    "ExecuteTime": {
     "end_time": "2023-11-02T17:59:54.095788Z",
     "start_time": "2023-11-02T17:35:00.895821Z"
    }
   },
   "outputs": [
    {
     "name": "stdout",
     "output_type": "stream",
     "text": [
      "Number of unique signs: 4657\n"
     ]
    },
    {
     "name": "stderr",
     "output_type": "stream",
     "text": [
      "ALSA lib confmisc.c:767:(parse_card) cannot find card '0'\n",
      "ALSA lib conf.c:4732:(_snd_config_evaluate) function snd_func_card_driver returned error: No such file or directory\n",
      "ALSA lib confmisc.c:392:(snd_func_concat) error evaluating strings\n",
      "ALSA lib conf.c:4732:(_snd_config_evaluate) function snd_func_concat returned error: No such file or directory\n",
      "ALSA lib confmisc.c:1246:(snd_func_refer) error evaluating name\n",
      "ALSA lib conf.c:4732:(_snd_config_evaluate) function snd_func_refer returned error: No such file or directory\n",
      "ALSA lib conf.c:5220:(snd_config_expand) Evaluate error: No such file or directory\n",
      "ALSA lib pcm.c:2642:(snd_pcm_open_noupdate) Unknown PCM default\n",
      "ALSA lib confmisc.c:767:(parse_card) cannot find card '0'\n",
      "ALSA lib conf.c:4732:(_snd_config_evaluate) function snd_func_card_driver returned error: No such file or directory\n",
      "ALSA lib confmisc.c:392:(snd_func_concat) error evaluating strings\n",
      "ALSA lib conf.c:4732:(_snd_config_evaluate) function snd_func_concat returned error: No such file or directory\n",
      "ALSA lib confmisc.c:1246:(snd_func_refer) error evaluating name\n",
      "ALSA lib conf.c:4732:(_snd_config_evaluate) function snd_func_refer returned error: No such file or directory\n",
      "ALSA lib conf.c:5220:(snd_config_expand) Evaluate error: No such file or directory\n",
      "ALSA lib pcm.c:2642:(snd_pcm_open_noupdate) Unknown PCM default\n",
      " 23%|██▎       | 28106/120739 [14:28<55:00, 28.07it/s]  "
     ]
    }
   ],
   "source": [
    "import os.path as osp\n",
    "import pandas as pd\n",
    "import os\n",
    "from moviepy.editor import VideoFileClip\n",
    "from tqdm import tqdm\n",
    "\n",
    "root_folder = osp.join('/data_1000', 'lsfb_dataset')\n",
    "instances_file_path = osp.join(root_folder, 'isol', 'instances.csv')\n",
    "instances_df = pd.read_csv(instances_file_path)\n",
    "\n",
    "# recode the signs and generates a map\n",
    "# Create a mapping of unique signs to unique integers\n",
    "unique_signs = instances_df['sign'].unique()\n",
    "sign_to_id = {sign: i for i, sign in enumerate(unique_signs)}\n",
    "\n",
    "# Add the 'sign_id' column based on the mapping\n",
    "instances_df['sign_id'] = instances_df['sign'].map(sign_to_id)\n",
    "print(f'Number of unique signs: {len(unique_signs)}')\n",
    "\n",
    "\n",
    "# Function to get video duration using moviepy\n",
    "def get_video_duration(file_path):\n",
    "    try:\n",
    "        video_clip = VideoFileClip(file_path)\n",
    "        duration = video_clip.duration\n",
    "        return duration\n",
    "    except Exception as e:\n",
    "        return 0.0  # Return 0 for any error\n",
    "\n",
    "\n",
    "# Function to process a folder and create the output file\n",
    "def process_folder(input_folder, info_df, output_file):\n",
    "    with open(output_file, 'w') as output:\n",
    "        for _, (fname, label, signer, start_frame, end_frame, label_num) in tqdm(info_df.iterrows(), total=len(info_df)):\n",
    "            # print(fname, label, signer,start_frame,end_frame)\n",
    "\n",
    "            video_path = os.path.join(input_folder, fname + '.mp4')\n",
    "            video_duration = get_video_duration(video_path)\n",
    "\n",
    "            output.write(f\"{video_path} {label_num} {video_duration} {label} {signer} {start_frame} {end_frame}\\n\")\n",
    "\n",
    "\n",
    "input_folder = osp.join(root_folder, 'isol', 'videos')  # Replace with the path to your input folder\n",
    "output_file = osp.join(root_folder, 'isol', 'train.txt')  # Replace with the desired output file name\n",
    "\n",
    "process_folder(input_folder, instances_df, output_file)"
   ]
  },
  {
   "cell_type": "code",
   "execution_count": 2,
   "outputs": [],
   "source": [
    "1"
   ],
   "metadata": {
    "collapsed": false
   },
   "id": "1ffcfc1ba9ba7d57"
  },
  {
   "cell_type": "code",
   "execution_count": null,
   "outputs": [],
   "source": [],
   "metadata": {
    "collapsed": false
   },
   "id": "89b0a410f9084430"
  }
 ],
 "metadata": {
  "kernelspec": {
   "display_name": "Python 3",
   "language": "python",
   "name": "python3"
  },
  "language_info": {
   "codemirror_mode": {
    "name": "ipython",
    "version": 2
   },
   "file_extension": ".py",
   "mimetype": "text/x-python",
   "name": "python",
   "nbconvert_exporter": "python",
   "pygments_lexer": "ipython2",
   "version": "2.7.6"
  }
 },
 "nbformat": 4,
 "nbformat_minor": 5
}
