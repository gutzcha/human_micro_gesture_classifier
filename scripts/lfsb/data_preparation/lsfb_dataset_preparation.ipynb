{
 "cells": [
  {
   "cell_type": "code",
   "execution_count": 8,
   "outputs": [],
   "source": [
    "import json\n",
    "import glob\n",
    "import os\n",
    "import os.path as osp\n",
    "import csv"
   ],
   "metadata": {
    "collapsed": false,
    "ExecuteTime": {
     "end_time": "2023-12-04T08:43:18.760370Z",
     "start_time": "2023-12-04T08:43:18.760074Z"
    }
   },
   "id": "1f2533f0155df97f"
  },
  {
   "cell_type": "code",
   "execution_count": 9,
   "outputs": [],
   "source": [
    "root_folder = osp.join('/data','lsfb_dataset')"
   ],
   "metadata": {
    "collapsed": false,
    "ExecuteTime": {
     "end_time": "2023-12-04T08:43:19.282790Z",
     "start_time": "2023-12-04T08:43:19.282274Z"
    }
   },
   "id": "3be991f8be2dfafc"
  },
  {
   "cell_type": "code",
   "execution_count": 10,
   "outputs": [],
   "source": [
    "train_file_list_path = osp.join(root_folder,'isol','metadata','splits','train.json')\n",
    "# test_file_list_path = train_file_list_path.replace('train','test')"
   ],
   "metadata": {
    "collapsed": false,
    "ExecuteTime": {
     "end_time": "2023-12-04T08:43:30.801663Z",
     "start_time": "2023-12-04T08:43:30.801216Z"
    }
   },
   "id": "6741738245777307"
  },
  {
   "cell_type": "code",
   "execution_count": 11,
   "outputs": [
    {
     "data": {
      "text/plain": "'/data/lsfb_dataset/isol/metadata/splits/train.json'"
     },
     "execution_count": 11,
     "metadata": {},
     "output_type": "execute_result"
    }
   ],
   "source": [
    "train_file_list_path"
   ],
   "metadata": {
    "collapsed": false,
    "ExecuteTime": {
     "end_time": "2023-12-04T08:43:35.015681Z",
     "start_time": "2023-12-04T08:43:35.014265Z"
    }
   },
   "id": "6bd98e41990b971b"
  },
  {
   "cell_type": "code",
   "execution_count": 4,
   "outputs": [],
   "source": [
    "with open(train_file_list_path, 'rb') as f:\n",
    "    train_file_list = json.load(f)\n",
    "    \n",
    "with open(test_file_list_path, 'rb') as f:\n",
    "    test_file_list = json.load(f)\n",
    "    \n",
    "\n",
    "    \n",
    "list_of_all_vids = glob.glob(osp.join(root_folder,'isol','videos','*.mp4'))\n"
   ],
   "metadata": {
    "collapsed": false,
    "ExecuteTime": {
     "end_time": "2023-12-04T08:39:25.605929Z",
     "start_time": "2023-12-04T08:39:25.387666Z"
    }
   },
   "id": "c11812416034ca3f"
  },
  {
   "cell_type": "code",
   "execution_count": 5,
   "outputs": [],
   "source": [
    "import pandas as pd"
   ],
   "metadata": {
    "collapsed": false,
    "ExecuteTime": {
     "end_time": "2023-12-04T08:39:29.173354Z",
     "start_time": "2023-12-04T08:39:28.958968Z"
    }
   },
   "id": "dad8092d6a057142"
  },
  {
   "cell_type": "code",
   "execution_count": 6,
   "outputs": [],
   "source": [
    "instances_file_path = osp.join(root_folder,'isol','instances.csv')\n",
    "instances_df = pd.read_csv(instances_file_path)"
   ],
   "metadata": {
    "collapsed": false,
    "ExecuteTime": {
     "end_time": "2023-12-04T08:39:36.604927Z",
     "start_time": "2023-12-04T08:39:36.495774Z"
    }
   },
   "id": "ae290b2e453831dd"
  },
  {
   "cell_type": "code",
   "execution_count": 7,
   "outputs": [
    {
     "data": {
      "text/plain": "                                      id         sign signer   start     end\n0       CLSFBI0103A_S001_B_251203_251361     MOI-MEME   S001  251203  251361\n1       CLSFBI0103A_S001_B_251516_252209       SENTIR   S001  251516  252209\n2       CLSFBI0103A_S001_B_285772_285869        NON.N   S001  285772  285869\n3       CLSFBI0103A_S001_B_286114_286297       MAISON   S001  286114  286297\n4       CLSFBI0103A_S001_B_286621_286862    DIFFERENT   S001  286621  286862\n...                                  ...          ...    ...     ...     ...\n120734  CLSFBI5078A_S102_B_483316_483412        AVOIR   S102  483316  483412\n120735  CLSFBI5078A_S102_B_483446_483920           LA   S102  483446  483920\n120736  CLSFBI5078A_S102_B_485025_485543  BIEN.PAPIER   S102  485025  485543\n120737  CLSFBI5078A_S102_B_485581_485826          OUI   S102  485581  485826\n120738  CLSFBI5078A_S102_B_492207_492864        VOILA   S102  492207  492864\n\n[120739 rows x 5 columns]",
      "text/html": "<div>\n<style scoped>\n    .dataframe tbody tr th:only-of-type {\n        vertical-align: middle;\n    }\n\n    .dataframe tbody tr th {\n        vertical-align: top;\n    }\n\n    .dataframe thead th {\n        text-align: right;\n    }\n</style>\n<table border=\"1\" class=\"dataframe\">\n  <thead>\n    <tr style=\"text-align: right;\">\n      <th></th>\n      <th>id</th>\n      <th>sign</th>\n      <th>signer</th>\n      <th>start</th>\n      <th>end</th>\n    </tr>\n  </thead>\n  <tbody>\n    <tr>\n      <th>0</th>\n      <td>CLSFBI0103A_S001_B_251203_251361</td>\n      <td>MOI-MEME</td>\n      <td>S001</td>\n      <td>251203</td>\n      <td>251361</td>\n    </tr>\n    <tr>\n      <th>1</th>\n      <td>CLSFBI0103A_S001_B_251516_252209</td>\n      <td>SENTIR</td>\n      <td>S001</td>\n      <td>251516</td>\n      <td>252209</td>\n    </tr>\n    <tr>\n      <th>2</th>\n      <td>CLSFBI0103A_S001_B_285772_285869</td>\n      <td>NON.N</td>\n      <td>S001</td>\n      <td>285772</td>\n      <td>285869</td>\n    </tr>\n    <tr>\n      <th>3</th>\n      <td>CLSFBI0103A_S001_B_286114_286297</td>\n      <td>MAISON</td>\n      <td>S001</td>\n      <td>286114</td>\n      <td>286297</td>\n    </tr>\n    <tr>\n      <th>4</th>\n      <td>CLSFBI0103A_S001_B_286621_286862</td>\n      <td>DIFFERENT</td>\n      <td>S001</td>\n      <td>286621</td>\n      <td>286862</td>\n    </tr>\n    <tr>\n      <th>...</th>\n      <td>...</td>\n      <td>...</td>\n      <td>...</td>\n      <td>...</td>\n      <td>...</td>\n    </tr>\n    <tr>\n      <th>120734</th>\n      <td>CLSFBI5078A_S102_B_483316_483412</td>\n      <td>AVOIR</td>\n      <td>S102</td>\n      <td>483316</td>\n      <td>483412</td>\n    </tr>\n    <tr>\n      <th>120735</th>\n      <td>CLSFBI5078A_S102_B_483446_483920</td>\n      <td>LA</td>\n      <td>S102</td>\n      <td>483446</td>\n      <td>483920</td>\n    </tr>\n    <tr>\n      <th>120736</th>\n      <td>CLSFBI5078A_S102_B_485025_485543</td>\n      <td>BIEN.PAPIER</td>\n      <td>S102</td>\n      <td>485025</td>\n      <td>485543</td>\n    </tr>\n    <tr>\n      <th>120737</th>\n      <td>CLSFBI5078A_S102_B_485581_485826</td>\n      <td>OUI</td>\n      <td>S102</td>\n      <td>485581</td>\n      <td>485826</td>\n    </tr>\n    <tr>\n      <th>120738</th>\n      <td>CLSFBI5078A_S102_B_492207_492864</td>\n      <td>VOILA</td>\n      <td>S102</td>\n      <td>492207</td>\n      <td>492864</td>\n    </tr>\n  </tbody>\n</table>\n<p>120739 rows × 5 columns</p>\n</div>"
     },
     "execution_count": 7,
     "metadata": {},
     "output_type": "execute_result"
    }
   ],
   "source": [
    "instances_df"
   ],
   "metadata": {
    "collapsed": false,
    "ExecuteTime": {
     "end_time": "2023-12-04T08:39:38.221946Z",
     "start_time": "2023-12-04T08:39:38.214549Z"
    }
   },
   "id": "cc0eb2506613aecb"
  },
  {
   "cell_type": "code",
   "execution_count": 25,
   "outputs": [],
   "source": [
    "print(f'Number of train files: {len(train_file_list)}')\n",
    "print(f'Number of test files: {len(test_file_list)}')\n",
    "print(f'Total number of files: {len(train_file_list)+len(test_file_list)}')\n",
    "print(f'Number of files downloaded: {len(list_of_all_vids)}')"
   ],
   "metadata": {
    "collapsed": false,
    "ExecuteTime": {
     "end_time": "2023-11-02T17:02:29.540079Z",
     "start_time": "2023-11-02T17:02:29.536738Z"
    }
   },
   "id": "b57aecb5c0ef62b6"
  },
  {
   "cell_type": "code",
   "execution_count": 20,
   "outputs": [
    {
     "data": {
      "text/plain": "(9,\n id        CLSFBI0103A_S001_B_292357_292795\n sign                             AUTREFOIS\n signer                                S001\n start                               292357\n end                                 292795\n Name: 9, dtype: object)"
     },
     "execution_count": 20,
     "metadata": {},
     "output_type": "execute_result"
    }
   ],
   "source": [
    "list_of_all_vids[:5]"
   ],
   "metadata": {
    "collapsed": false,
    "ExecuteTime": {
     "end_time": "2023-11-02T16:59:54.974364Z",
     "start_time": "2023-11-02T16:59:54.973725Z"
    }
   },
   "id": "dbdfab361a370790"
  },
  {
   "cell_type": "code",
   "execution_count": 28,
   "outputs": [],
   "source": [
    "# We are training the model on this dataset only as a pretrianing step, so we will use all files\n",
    "import csv\n",
    "\n",
    "\n",
    "# Specify the CSV file name\n",
    "csv_file = osp.join(root_folder,'isol','train.csv')\n",
    "\n",
    "# Open the CSV file in write mode\n",
    "with open(csv_file, 'w', newline='') as file:\n",
    "    writer = csv.writer(file)\n",
    "    \n",
    "    # Write the list of paths to the CSV file\n",
    "    for path in list_of_all_vids:\n",
    "        writer.writerow([path])\n"
   ],
   "metadata": {
    "collapsed": false,
    "ExecuteTime": {
     "end_time": "2023-11-02T17:10:20.169910Z",
     "start_time": "2023-11-02T17:09:50.244Z"
    }
   },
   "id": "8e0a4d52fc73adbc"
  },
  {
   "cell_type": "code",
   "execution_count": null,
   "outputs": [
    {
     "name": "stderr",
     "output_type": "stream",
     "text": [
      "952it [00:27, 30.79it/s]"
     ]
    }
   ],
   "source": [],
   "metadata": {
    "collapsed": false,
    "is_executing": true,
    "ExecuteTime": {
     "start_time": "2023-11-02T17:25:56.972072Z"
    }
   },
   "id": "637abda973079381"
  }
 ],
 "metadata": {
  "kernelspec": {
   "display_name": "Python 3",
   "language": "python",
   "name": "python3"
  },
  "language_info": {
   "codemirror_mode": {
    "name": "ipython",
    "version": 2
   },
   "file_extension": ".py",
   "mimetype": "text/x-python",
   "name": "python",
   "nbconvert_exporter": "python",
   "pygments_lexer": "ipython2",
   "version": "2.7.6"
  }
 },
 "nbformat": 4,
 "nbformat_minor": 5
}
