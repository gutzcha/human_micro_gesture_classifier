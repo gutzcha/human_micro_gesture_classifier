{
 "cells": [
  {
   "cell_type": "code",
   "execution_count": 2,
   "id": "initial_id",
   "metadata": {
    "collapsed": true,
    "ExecuteTime": {
     "end_time": "2024-07-01T15:46:55.636251900Z",
     "start_time": "2024-07-01T15:46:55.533251900Z"
    }
   },
   "outputs": [],
   "source": [
    "import os\n",
    "import os.path as osp\n",
    "from decord import VideoReader\n",
    "import cv2\n",
    "import numpy as np"
   ]
  },
  {
   "cell_type": "code",
   "execution_count": 7,
   "outputs": [],
   "source": [
    "def average_videos(video_path1, video_path2, output_path):\n",
    "    # Open the two videos\n",
    "    cap1 = cv2.VideoCapture(video_path1)\n",
    "    cap2 = cv2.VideoCapture(video_path2)\n",
    "    \n",
    "    # Get properties from the first video\n",
    "    width = int(cap1.get(cv2.CAP_PROP_FRAME_WIDTH))\n",
    "    height = int(cap1.get(cv2.CAP_PROP_FRAME_HEIGHT))\n",
    "    fps = cap1.get(cv2.CAP_PROP_FPS)\n",
    "    frame_count = int(cap1.get(cv2.CAP_PROP_FRAME_COUNT))\n",
    "    \n",
    "    # Ensure the second video has the same properties\n",
    "    assert int(cap2.get(cv2.CAP_PROP_FRAME_WIDTH)) == width, \"Videos must have the same width\"\n",
    "    assert int(cap2.get(cv2.CAP_PROP_FRAME_HEIGHT)) == height, \"Videos must have the same height\"\n",
    "    assert cap2.get(cv2.CAP_PROP_FPS) == fps, \"Videos must have the same frame rate\"\n",
    "    assert int(cap2.get(cv2.CAP_PROP_FRAME_COUNT)) == frame_count, \"Videos must have the same number of frames\"\n",
    "    \n",
    "    # Define the codec and create VideoWriter object\n",
    "    fourcc = cv2.VideoWriter_fourcc(*'mp4v')\n",
    "    out = cv2.VideoWriter(output_path, fourcc, fps, (width, height))\n",
    "    try:\n",
    "        while cap1.isOpened() and cap2.isOpened():\n",
    "            ret1, frame1 = cap1.read()\n",
    "            ret2, frame2 = cap2.read()\n",
    "            \n",
    "            if not ret1 or not ret2:\n",
    "                break\n",
    "                \n",
    "            frame1 = cv2.cvtColor(frame1, cv2.COLOR_BGR2GRAY)\n",
    "            frame1 = cv2.cvtColor(frame1, cv2.COLOR_GRAY2BGR)\n",
    "            # Average the frames\n",
    "            avg_frame = cv2.addWeighted(frame1, 0.5, frame2, 0.5, 0)\n",
    "            # avg_frame = frame1\n",
    "            \n",
    "            # Write the frame to the output video\n",
    "            out.write(avg_frame)\n",
    "        \n",
    "        # Release everything\n",
    "    finally:\n",
    "        cap1.release()\n",
    "        cap2.release()\n",
    "        out.release()\n",
    "\n",
    "# Example usage:\n",
    "# average_videos('path_to_video1.mp4', 'path_to_video2.mp4', 'output_combined_video.mp4')\n"
   ],
   "metadata": {
    "collapsed": false,
    "ExecuteTime": {
     "end_time": "2024-07-01T15:47:48.693641300Z",
     "start_time": "2024-07-01T15:47:48.683636300Z"
    }
   },
   "id": "484759a05902b747"
  },
  {
   "cell_type": "code",
   "execution_count": 8,
   "outputs": [],
   "source": [
    "path_to_folder_main = r'D:\\Project-mpg microgesture\\human_micro_gesture_classifier\\video_samples_results\\MPIG_densepose_dual_2\\checkpoint-99\\MPIIGroupInteraction\\clips_train'\n",
    "\n",
    "vid_name = '00000-video1'\n",
    "\n",
    "path_to_folder_sub = f'{vid_name}\\\\videos'\n",
    "path_to_folder = osp.join(path_to_folder_main, path_to_folder_sub)\n",
    "video_path1 = osp.join(path_to_folder, 'ori_vid.mp4')\n",
    "video_path2 = osp.join(path_to_folder, 'densepose_vid.mp4')\n",
    "output_path = osp.join(path_to_folder, 'combined.mp4')\n",
    "\n",
    "average_videos(video_path1, video_path2, output_path)\n",
    "# average_videos(video_path1, video_path1, output_path)"
   ],
   "metadata": {
    "collapsed": false,
    "ExecuteTime": {
     "end_time": "2024-07-01T15:47:49.911539700Z",
     "start_time": "2024-07-01T15:47:49.875535600Z"
    }
   },
   "id": "70c27186921ed070"
  },
  {
   "cell_type": "code",
   "execution_count": 6,
   "outputs": [
    {
     "data": {
      "text/plain": "'00000-video1\\\\videos'"
     },
     "execution_count": 6,
     "metadata": {},
     "output_type": "execute_result"
    }
   ],
   "source": [
    "path_to_folder_sub"
   ],
   "metadata": {
    "collapsed": false,
    "ExecuteTime": {
     "end_time": "2024-07-01T15:44:33.624038800Z",
     "start_time": "2024-07-01T15:44:33.609039Z"
    }
   },
   "id": "3b9267c3dc570a00"
  },
  {
   "cell_type": "code",
   "execution_count": 6,
   "outputs": [],
   "source": [],
   "metadata": {
    "collapsed": false,
    "ExecuteTime": {
     "end_time": "2024-07-01T15:44:33.649037900Z",
     "start_time": "2024-07-01T15:44:33.626037600Z"
    }
   },
   "id": "2c502887ca7d75f3"
  }
 ],
 "metadata": {
  "kernelspec": {
   "display_name": "Python 3",
   "language": "python",
   "name": "python3"
  },
  "language_info": {
   "codemirror_mode": {
    "name": "ipython",
    "version": 2
   },
   "file_extension": ".py",
   "mimetype": "text/x-python",
   "name": "python",
   "nbconvert_exporter": "python",
   "pygments_lexer": "ipython2",
   "version": "2.7.6"
  }
 },
 "nbformat": 4,
 "nbformat_minor": 5
}
