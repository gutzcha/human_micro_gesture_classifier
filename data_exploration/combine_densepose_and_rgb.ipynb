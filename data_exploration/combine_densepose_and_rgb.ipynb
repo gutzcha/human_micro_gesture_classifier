{
 "cells": [
  {
   "cell_type": "code",
   "execution_count": 1,
   "id": "initial_id",
   "metadata": {
    "collapsed": true,
    "ExecuteTime": {
     "end_time": "2024-07-07T12:50:14.533703600Z",
     "start_time": "2024-07-07T12:50:14.490703600Z"
    }
   },
   "outputs": [],
   "source": [
    "import ast\n",
    "\n",
    "import pandas as pd\n",
    "import os \n",
    "import os.path as osp\n",
    "import numpy as np\n",
    "import seaborn as sns \n",
    "import matplotlib.pyplot as plt\n",
    "import json\n",
    "import ast"
   ]
  },
  {
   "cell_type": "code",
   "execution_count": 2,
   "outputs": [],
   "source": [
    "from sklearn.metrics import classification_report, roc_auc_score, roc_curve, RocCurveDisplay,  average_precision_score\n"
   ],
   "metadata": {
    "collapsed": false,
    "ExecuteTime": {
     "end_time": "2024-07-07T12:50:14.644705Z",
     "start_time": "2024-07-07T12:50:14.524705800Z"
    }
   },
   "id": "9c2c703e156d6f0a"
  },
  {
   "cell_type": "code",
   "execution_count": 3,
   "outputs": [],
   "source": [
    "from mac2024.const import ID2LABELS as ID2LABELS\n",
    "from mac2024.const import fine2coarse, COARSE_LABEL, COARSE2FINE"
   ],
   "metadata": {
    "collapsed": false,
    "ExecuteTime": {
     "end_time": "2024-07-07T12:50:14.660703800Z",
     "start_time": "2024-07-07T12:50:14.647705700Z"
    }
   },
   "id": "a70167f636b07aa0"
  },
  {
   "cell_type": "code",
   "execution_count": 4,
   "outputs": [],
   "source": [
    "experiment_folder = r'D:\\Project-mpg microgesture\\human_micro_gesture_classifier\\experiments'\n",
    "run_name = 'mac_multi'\n",
    "\n",
    "path_to_weights = osp.join(experiment_folder,run_name,'dataset','weights.json')\n",
    "with open(path_to_weights, 'r') as json_file:\n",
    "    positive_weights_dict = json.load(json_file)\n",
    "\n",
    "        \n",
    "feature_names = [entry['class'] for entry in positive_weights_dict['data']]"
   ],
   "metadata": {
    "collapsed": false,
    "ExecuteTime": {
     "end_time": "2024-07-07T12:50:14.678706800Z",
     "start_time": "2024-07-07T12:50:14.663703900Z"
    }
   },
   "id": "c59888d576184a05"
  },
  {
   "cell_type": "code",
   "execution_count": 5,
   "outputs": [],
   "source": [
    "# path_to_rgb = osp.join(experiment_folder,run_name,'split_loss_fine_coarse_70','eval_29_best','raw_test_results.csv')\n",
    "# path_to_densepose = osp.join(experiment_folder,run_name,'densepose_input','eval_149','raw_test_results.csv')\n",
    "# path_to_gt = osp.join(experiment_folder,run_name,'dataset', 'val.csv')\n",
    "\n",
    "path_to_rgb = osp.join(experiment_folder,run_name,'split_loss_fine_coarse_70','test','raw_test_results.csv')\n",
    "path_to_densepose = osp.join(experiment_folder,run_name,'densepose_input','test_151','raw_test_results.csv')\n",
    "path_to_gt = osp.join(experiment_folder,run_name,'dataset', 'test.csv')\n",
    "\n",
    "\n"
   ],
   "metadata": {
    "collapsed": false,
    "ExecuteTime": {
     "end_time": "2024-07-07T12:50:14.691705Z",
     "start_time": "2024-07-07T12:50:14.678706800Z"
    }
   },
   "id": "5d1b0e255156e49d"
  },
  {
   "cell_type": "code",
   "execution_count": 6,
   "outputs": [],
   "source": [
    "fine_labels = feature_names[:52]\n",
    "coarse_labels = feature_names[52:]"
   ],
   "metadata": {
    "collapsed": false,
    "ExecuteTime": {
     "end_time": "2024-07-07T12:50:14.710709600Z",
     "start_time": "2024-07-07T12:50:14.694705300Z"
    }
   },
   "id": "a0f0ca4a7f1baa2c"
  },
  {
   "cell_type": "code",
   "execution_count": 6,
   "outputs": [],
   "source": [],
   "metadata": {
    "collapsed": false,
    "ExecuteTime": {
     "end_time": "2024-07-07T12:50:15.853515800Z",
     "start_time": "2024-07-07T12:50:15.845509900Z"
    }
   },
   "id": "27a74de40f86a970"
  },
  {
   "cell_type": "code",
   "execution_count": 7,
   "outputs": [],
   "source": [
    "df_rgb = pd.read_csv(path_to_rgb)\n",
    "df_densepose = pd.read_csv(path_to_densepose)\n",
    "df_gt_raw = pd.read_csv(path_to_gt)"
   ],
   "metadata": {
    "collapsed": false,
    "ExecuteTime": {
     "end_time": "2024-07-07T12:50:16.306509200Z",
     "start_time": "2024-07-07T12:50:16.232512600Z"
    }
   },
   "id": "64c3f959c8f35a5b"
  },
  {
   "cell_type": "code",
   "execution_count": 8,
   "outputs": [],
   "source": [
    "df_rgb['filenames'] = df_rgb['filenames'].apply(lambda x: x.split('.')[0])\n",
    "df_densepose['filenames'] = df_densepose['filenames'].apply(lambda x: x.split('.')[0])\n",
    "\n",
    "df_rgb.set_index('filenames', inplace=True, drop=True)\n",
    "df_densepose.set_index('filenames', inplace=True, drop=True)\n",
    "\n",
    "df_gt_raw['filenames'] = df_gt_raw['metadata'].apply(lambda x: ast.literal_eval(x)['sample_id'][:52])"
   ],
   "metadata": {
    "collapsed": false,
    "ExecuteTime": {
     "end_time": "2024-07-07T12:50:16.747165900Z",
     "start_time": "2024-07-07T12:50:16.703165800Z"
    }
   },
   "id": "4366a169aff7f4af"
  },
  {
   "cell_type": "code",
   "execution_count": 9,
   "outputs": [],
   "source": [
    "df_gt_raw['pred'] = df_gt_raw['labels']\n",
    "fine_df_gt = pd.DataFrame(np.argmax(df_gt_raw['labels'].apply(lambda x: np.array(ast.literal_eval(x))[:52]).to_list(), axis=1), index=df_gt_raw['filenames'])\n",
    "fine_df_gt.columns = ['gt_label']\n",
    " "
   ],
   "metadata": {
    "collapsed": false,
    "ExecuteTime": {
     "end_time": "2024-07-07T12:50:17.519558200Z",
     "start_time": "2024-07-07T12:50:17.454562Z"
    }
   },
   "id": "f22ce3bc7bf84b6a"
  },
  {
   "cell_type": "code",
   "execution_count": 10,
   "outputs": [],
   "source": [
    "def softmax(x):\n",
    "    e_x = np.exp(x - np.max(x))  # Subtracting the maximum for numerical stability\n",
    "    return e_x / e_x.sum(axis=0)\n",
    "def sigmoid(x):\n",
    "    return 1 / (1 + np.exp(-x))"
   ],
   "metadata": {
    "collapsed": false,
    "ExecuteTime": {
     "end_time": "2024-07-07T12:50:17.788247600Z",
     "start_time": "2024-07-07T12:50:17.779247900Z"
    }
   },
   "id": "ff9d0424ef537d99"
  },
  {
   "cell_type": "code",
   "execution_count": 11,
   "outputs": [],
   "source": [
    "def extract_logits(df_in, modality, labels_in=None, logit_func = None):\n",
    "    df_in_logits =  df_in[[a for a in df_in.columns if 'logit' in a]]\n",
    "    if labels_in:\n",
    "        df_in_logits = df_in_logits[[a for a in df_in_logits.columns if a.split('-')[1] in labels_in]]\n",
    "    if logit_func:\n",
    "        df_in_logits = df_in_logits.apply(softmax, axis=1)\n",
    "    df_in_logits['modality'] = modality\n",
    "    return df_in_logits\n",
    "\n",
    "\n",
    "\n",
    "df_rgs_fine_logits = extract_logits(df_in=df_rgb, modality='rbg', labels_in=fine_labels, logit_func=None)\n",
    "df_dp_fine_logits = extract_logits(df_in=df_densepose, modality='dp', labels_in=fine_labels, logit_func=None)\n"
   ],
   "metadata": {
    "collapsed": false,
    "ExecuteTime": {
     "end_time": "2024-07-07T12:50:18.072555500Z",
     "start_time": "2024-07-07T12:50:18.053391700Z"
    }
   },
   "id": "240bb81463e5b1f9"
  },
  {
   "cell_type": "code",
   "execution_count": 12,
   "outputs": [
    {
     "data": {
      "text/plain": "           logit-shaking body  logit-sitting straightly  logit-shrugging  \\\nfilenames                                                                  \ntest0000            -3.201172                 -3.132202        -4.597168   \ntest0001            -1.023438                 -0.874268        -2.749023   \ntest0002            -3.303101                 -5.597656        -7.650391   \ntest0003            -2.242188                  0.005371        -1.365967   \ntest0004            -2.715332                 -3.670898        -6.054688   \n...                       ...                       ...              ...   \ntest1133             2.592773                 -1.036621        -2.474121   \ntest1134             2.598633                  1.573730        -0.048828   \ntest1135            -2.746094                 -5.100098        -6.023438   \ntest1136            -3.140625                 -3.189453        -4.208984   \ntest1137            -5.649414                 -5.867188        -6.904297   \n\n           logit-turning around  logit-rising up  logit-bowing head  \\\nfilenames                                                             \ntest0000              -6.513672        -3.237396          -0.193359   \ntest0001              -2.654785        -0.395020          -0.266113   \ntest0002              -6.783203        -4.116211          -1.658813   \ntest0003              -2.509277        -2.787109           0.770386   \ntest0004              -6.187500        -3.860352          -1.808424   \n...                         ...              ...                ...   \ntest1133              -3.524414        -1.592163          -2.587891   \ntest1134              -4.152344        -2.749023          -2.997559   \ntest1135              -5.869141        -4.912109          -2.383057   \ntest1136              -4.468750        -5.939453          -1.798218   \ntest1137              -7.984375        -6.519531          -1.156891   \n\n           logit-head up  logit-tilting head  logit-turning head  \\\nfilenames                                                          \ntest0000        0.741455           -1.332397           -1.312256   \ntest0001       -0.357422            0.821289            0.039062   \ntest0002       -4.298828           -0.576660           -0.369629   \ntest0003       -0.031540            1.274414            1.838867   \ntest0004       -3.692871           -1.157959           -1.621521   \n...                  ...                 ...                 ...   \ntest1133       -0.315430            0.767929            3.478516   \ntest1134       -1.858887           -1.135986           -1.113647   \ntest1135       -4.280762            0.324585            0.128174   \ntest1136       -2.793457           -0.931274           -1.675964   \ntest1137       -1.714111           -1.743774           -0.317383   \n\n           logit-nodding  ...  logit-rubbing eyes  logit-touching nose  \\\nfilenames                 ...                                            \ntest0000        7.816406  ...           -4.901367            -5.591797   \ntest0001        0.692383  ...           -3.897461            -3.514648   \ntest0002       -1.524414  ...           -5.767578            -6.236328   \ntest0003        0.211914  ...            0.695740             3.835938   \ntest0004       -2.213379  ...           -4.059570            -3.712891   \n...                  ...  ...                 ...                  ...   \ntest1133        1.277100  ...           -5.135742            -4.145508   \ntest1134        0.905762  ...           -5.309570            -3.674805   \ntest1135       -2.741211  ...           -6.246094            -4.627930   \ntest1136       -2.058105  ...           -4.435547            -0.809448   \ntest1137        2.541504  ...           -4.555664            -4.694336   \n\n           logit-touching ears  logit-covering face  logit-covering mouth  \\\nfilenames                                                                   \ntest0000             -4.206055            -4.726562             -5.800781   \ntest0001             -3.503906            -4.375000             -3.014648   \ntest0002             -3.917969            -8.042969             -7.728516   \ntest0003              2.304688            -2.422363              0.709621   \ntest0004             -2.991699            -7.349609             -6.060547   \n...                        ...                  ...                   ...   \ntest1133             -4.152344            -6.234375             -4.616211   \ntest1134             -2.623535            -4.497070             -4.192383   \ntest1135             -5.090820            -8.326172             -7.783203   \ntest1136              0.433960            -5.373047             -2.297852   \ntest1137             -2.213181            -6.613281             -6.031250   \n\n           logit-pushing glasses  logit-patting legs  logit-touching legs  \\\nfilenames                                                                   \ntest0000               -3.109863           -1.606812            -1.588501   \ntest0001               -2.273438           -4.628906            -1.644531   \ntest0002               -5.646484           -0.212585            -0.135742   \ntest0003                6.646484           -0.410645            -1.337158   \ntest0004               -4.125000            0.211914            -2.781250   \n...                          ...                 ...                  ...   \ntest1133               -5.654297           -1.293823             0.548828   \ntest1134               -4.168945           -2.849121             0.801025   \ntest1135               -5.846680            0.013916            -1.036465   \ntest1136               -0.852417           -2.833008            -2.768555   \ntest1137               -4.164062           -1.138611            -0.769775   \n\n           logit-scratching legs  logit-scratching feet  \nfilenames                                                \ntest0000               -3.062988              -4.978516  \ntest0001               -4.496094              -4.601562  \ntest0002               -3.856445              -6.667969  \ntest0003               -2.298828              -3.438477  \ntest0004               -3.536133              -5.982422  \n...                          ...                    ...  \ntest1133               -2.913086              -5.516602  \ntest1134               -1.148880              -4.513672  \ntest1135               -1.960938              -7.484375  \ntest1136               -4.697266              -5.251953  \ntest1137                0.120605              -1.486450  \n\n[1138 rows x 52 columns]",
      "text/html": "<div>\n<style scoped>\n    .dataframe tbody tr th:only-of-type {\n        vertical-align: middle;\n    }\n\n    .dataframe tbody tr th {\n        vertical-align: top;\n    }\n\n    .dataframe thead th {\n        text-align: right;\n    }\n</style>\n<table border=\"1\" class=\"dataframe\">\n  <thead>\n    <tr style=\"text-align: right;\">\n      <th></th>\n      <th>logit-shaking body</th>\n      <th>logit-sitting straightly</th>\n      <th>logit-shrugging</th>\n      <th>logit-turning around</th>\n      <th>logit-rising up</th>\n      <th>logit-bowing head</th>\n      <th>logit-head up</th>\n      <th>logit-tilting head</th>\n      <th>logit-turning head</th>\n      <th>logit-nodding</th>\n      <th>...</th>\n      <th>logit-rubbing eyes</th>\n      <th>logit-touching nose</th>\n      <th>logit-touching ears</th>\n      <th>logit-covering face</th>\n      <th>logit-covering mouth</th>\n      <th>logit-pushing glasses</th>\n      <th>logit-patting legs</th>\n      <th>logit-touching legs</th>\n      <th>logit-scratching legs</th>\n      <th>logit-scratching feet</th>\n    </tr>\n    <tr>\n      <th>filenames</th>\n      <th></th>\n      <th></th>\n      <th></th>\n      <th></th>\n      <th></th>\n      <th></th>\n      <th></th>\n      <th></th>\n      <th></th>\n      <th></th>\n      <th></th>\n      <th></th>\n      <th></th>\n      <th></th>\n      <th></th>\n      <th></th>\n      <th></th>\n      <th></th>\n      <th></th>\n      <th></th>\n      <th></th>\n    </tr>\n  </thead>\n  <tbody>\n    <tr>\n      <th>test0000</th>\n      <td>-3.201172</td>\n      <td>-3.132202</td>\n      <td>-4.597168</td>\n      <td>-6.513672</td>\n      <td>-3.237396</td>\n      <td>-0.193359</td>\n      <td>0.741455</td>\n      <td>-1.332397</td>\n      <td>-1.312256</td>\n      <td>7.816406</td>\n      <td>...</td>\n      <td>-4.901367</td>\n      <td>-5.591797</td>\n      <td>-4.206055</td>\n      <td>-4.726562</td>\n      <td>-5.800781</td>\n      <td>-3.109863</td>\n      <td>-1.606812</td>\n      <td>-1.588501</td>\n      <td>-3.062988</td>\n      <td>-4.978516</td>\n    </tr>\n    <tr>\n      <th>test0001</th>\n      <td>-1.023438</td>\n      <td>-0.874268</td>\n      <td>-2.749023</td>\n      <td>-2.654785</td>\n      <td>-0.395020</td>\n      <td>-0.266113</td>\n      <td>-0.357422</td>\n      <td>0.821289</td>\n      <td>0.039062</td>\n      <td>0.692383</td>\n      <td>...</td>\n      <td>-3.897461</td>\n      <td>-3.514648</td>\n      <td>-3.503906</td>\n      <td>-4.375000</td>\n      <td>-3.014648</td>\n      <td>-2.273438</td>\n      <td>-4.628906</td>\n      <td>-1.644531</td>\n      <td>-4.496094</td>\n      <td>-4.601562</td>\n    </tr>\n    <tr>\n      <th>test0002</th>\n      <td>-3.303101</td>\n      <td>-5.597656</td>\n      <td>-7.650391</td>\n      <td>-6.783203</td>\n      <td>-4.116211</td>\n      <td>-1.658813</td>\n      <td>-4.298828</td>\n      <td>-0.576660</td>\n      <td>-0.369629</td>\n      <td>-1.524414</td>\n      <td>...</td>\n      <td>-5.767578</td>\n      <td>-6.236328</td>\n      <td>-3.917969</td>\n      <td>-8.042969</td>\n      <td>-7.728516</td>\n      <td>-5.646484</td>\n      <td>-0.212585</td>\n      <td>-0.135742</td>\n      <td>-3.856445</td>\n      <td>-6.667969</td>\n    </tr>\n    <tr>\n      <th>test0003</th>\n      <td>-2.242188</td>\n      <td>0.005371</td>\n      <td>-1.365967</td>\n      <td>-2.509277</td>\n      <td>-2.787109</td>\n      <td>0.770386</td>\n      <td>-0.031540</td>\n      <td>1.274414</td>\n      <td>1.838867</td>\n      <td>0.211914</td>\n      <td>...</td>\n      <td>0.695740</td>\n      <td>3.835938</td>\n      <td>2.304688</td>\n      <td>-2.422363</td>\n      <td>0.709621</td>\n      <td>6.646484</td>\n      <td>-0.410645</td>\n      <td>-1.337158</td>\n      <td>-2.298828</td>\n      <td>-3.438477</td>\n    </tr>\n    <tr>\n      <th>test0004</th>\n      <td>-2.715332</td>\n      <td>-3.670898</td>\n      <td>-6.054688</td>\n      <td>-6.187500</td>\n      <td>-3.860352</td>\n      <td>-1.808424</td>\n      <td>-3.692871</td>\n      <td>-1.157959</td>\n      <td>-1.621521</td>\n      <td>-2.213379</td>\n      <td>...</td>\n      <td>-4.059570</td>\n      <td>-3.712891</td>\n      <td>-2.991699</td>\n      <td>-7.349609</td>\n      <td>-6.060547</td>\n      <td>-4.125000</td>\n      <td>0.211914</td>\n      <td>-2.781250</td>\n      <td>-3.536133</td>\n      <td>-5.982422</td>\n    </tr>\n    <tr>\n      <th>...</th>\n      <td>...</td>\n      <td>...</td>\n      <td>...</td>\n      <td>...</td>\n      <td>...</td>\n      <td>...</td>\n      <td>...</td>\n      <td>...</td>\n      <td>...</td>\n      <td>...</td>\n      <td>...</td>\n      <td>...</td>\n      <td>...</td>\n      <td>...</td>\n      <td>...</td>\n      <td>...</td>\n      <td>...</td>\n      <td>...</td>\n      <td>...</td>\n      <td>...</td>\n      <td>...</td>\n    </tr>\n    <tr>\n      <th>test1133</th>\n      <td>2.592773</td>\n      <td>-1.036621</td>\n      <td>-2.474121</td>\n      <td>-3.524414</td>\n      <td>-1.592163</td>\n      <td>-2.587891</td>\n      <td>-0.315430</td>\n      <td>0.767929</td>\n      <td>3.478516</td>\n      <td>1.277100</td>\n      <td>...</td>\n      <td>-5.135742</td>\n      <td>-4.145508</td>\n      <td>-4.152344</td>\n      <td>-6.234375</td>\n      <td>-4.616211</td>\n      <td>-5.654297</td>\n      <td>-1.293823</td>\n      <td>0.548828</td>\n      <td>-2.913086</td>\n      <td>-5.516602</td>\n    </tr>\n    <tr>\n      <th>test1134</th>\n      <td>2.598633</td>\n      <td>1.573730</td>\n      <td>-0.048828</td>\n      <td>-4.152344</td>\n      <td>-2.749023</td>\n      <td>-2.997559</td>\n      <td>-1.858887</td>\n      <td>-1.135986</td>\n      <td>-1.113647</td>\n      <td>0.905762</td>\n      <td>...</td>\n      <td>-5.309570</td>\n      <td>-3.674805</td>\n      <td>-2.623535</td>\n      <td>-4.497070</td>\n      <td>-4.192383</td>\n      <td>-4.168945</td>\n      <td>-2.849121</td>\n      <td>0.801025</td>\n      <td>-1.148880</td>\n      <td>-4.513672</td>\n    </tr>\n    <tr>\n      <th>test1135</th>\n      <td>-2.746094</td>\n      <td>-5.100098</td>\n      <td>-6.023438</td>\n      <td>-5.869141</td>\n      <td>-4.912109</td>\n      <td>-2.383057</td>\n      <td>-4.280762</td>\n      <td>0.324585</td>\n      <td>0.128174</td>\n      <td>-2.741211</td>\n      <td>...</td>\n      <td>-6.246094</td>\n      <td>-4.627930</td>\n      <td>-5.090820</td>\n      <td>-8.326172</td>\n      <td>-7.783203</td>\n      <td>-5.846680</td>\n      <td>0.013916</td>\n      <td>-1.036465</td>\n      <td>-1.960938</td>\n      <td>-7.484375</td>\n    </tr>\n    <tr>\n      <th>test1136</th>\n      <td>-3.140625</td>\n      <td>-3.189453</td>\n      <td>-4.208984</td>\n      <td>-4.468750</td>\n      <td>-5.939453</td>\n      <td>-1.798218</td>\n      <td>-2.793457</td>\n      <td>-0.931274</td>\n      <td>-1.675964</td>\n      <td>-2.058105</td>\n      <td>...</td>\n      <td>-4.435547</td>\n      <td>-0.809448</td>\n      <td>0.433960</td>\n      <td>-5.373047</td>\n      <td>-2.297852</td>\n      <td>-0.852417</td>\n      <td>-2.833008</td>\n      <td>-2.768555</td>\n      <td>-4.697266</td>\n      <td>-5.251953</td>\n    </tr>\n    <tr>\n      <th>test1137</th>\n      <td>-5.649414</td>\n      <td>-5.867188</td>\n      <td>-6.904297</td>\n      <td>-7.984375</td>\n      <td>-6.519531</td>\n      <td>-1.156891</td>\n      <td>-1.714111</td>\n      <td>-1.743774</td>\n      <td>-0.317383</td>\n      <td>2.541504</td>\n      <td>...</td>\n      <td>-4.555664</td>\n      <td>-4.694336</td>\n      <td>-2.213181</td>\n      <td>-6.613281</td>\n      <td>-6.031250</td>\n      <td>-4.164062</td>\n      <td>-1.138611</td>\n      <td>-0.769775</td>\n      <td>0.120605</td>\n      <td>-1.486450</td>\n    </tr>\n  </tbody>\n</table>\n<p>1138 rows × 52 columns</p>\n</div>"
     },
     "execution_count": 12,
     "metadata": {},
     "output_type": "execute_result"
    }
   ],
   "source": [
    "df1 =  df_rgs_fine_logits\n",
    "df2 = df_dp_fine_logits\n",
    "\n",
    "df1_reset = df1.reset_index()\n",
    "df2_reset = df2.reset_index()\n",
    "\n",
    "# Merge the two DataFrames on 'filename'\n",
    "merged_df = pd.merge(df1_reset, df2_reset, on='filenames', suffixes=('_mod1', '_mod2'))\n",
    "\n",
    "# Calculate the average for each pair of columns\n",
    "fine_average_df = merged_df[['filenames', 'modality_mod1', 'modality_mod2']].copy()\n",
    "for col in df1.columns:\n",
    "    if col != 'modality':\n",
    "        fine_average_df[col] = merged_df[[f\"{col}_mod1\", f\"{col}_mod2\"]].mean(axis=1)\n",
    "\n",
    "# Optionally, rename the modality columns or drop them if not needed\n",
    "# average_df['modality'] = average_df['modality_mod1'] + '_' + average_df['modality_mod2']\n",
    "fine_average_df = fine_average_df.drop(columns=['modality_mod1', 'modality_mod2'])\n",
    "\n",
    "# Set 'filename' as index again if needed\n",
    "fine_average_df = fine_average_df.set_index('filenames')\n",
    "fine_average_df\n"
   ],
   "metadata": {
    "collapsed": false,
    "ExecuteTime": {
     "end_time": "2024-07-07T12:50:18.783525400Z",
     "start_time": "2024-07-07T12:50:18.707524200Z"
    }
   },
   "id": "7da3cae5220bfd05"
  },
  {
   "cell_type": "code",
   "execution_count": 13,
   "outputs": [],
   "source": [
    "fine_average_df['pred'] = np.argmax(fine_average_df.values[:,:52], axis=1)\n"
   ],
   "metadata": {
    "collapsed": false,
    "ExecuteTime": {
     "end_time": "2024-07-07T12:50:42.051949100Z",
     "start_time": "2024-07-07T12:50:42.038435Z"
    }
   },
   "id": "e7c38f305391bf85"
  },
  {
   "cell_type": "code",
   "execution_count": 14,
   "outputs": [
    {
     "ename": "ValueError",
     "evalue": "Number of classes, 49, does not match size of target_names, 52. Try specifying the labels parameter",
     "output_type": "error",
     "traceback": [
      "\u001B[1;31m---------------------------------------------------------------------------\u001B[0m",
      "\u001B[1;31mValueError\u001B[0m                                Traceback (most recent call last)",
      "Cell \u001B[1;32mIn[14], line 4\u001B[0m\n\u001B[0;32m      1\u001B[0m fine_gt \u001B[38;5;241m=\u001B[39m fine_df_gt[\u001B[38;5;124m'\u001B[39m\u001B[38;5;124mgt_label\u001B[39m\u001B[38;5;124m'\u001B[39m]\n\u001B[0;32m      2\u001B[0m fine_pred \u001B[38;5;241m=\u001B[39m fine_average_df[\u001B[38;5;124m'\u001B[39m\u001B[38;5;124mpred\u001B[39m\u001B[38;5;124m'\u001B[39m]\n\u001B[1;32m----> 4\u001B[0m rep_dict \u001B[38;5;241m=\u001B[39m \u001B[43mclassification_report\u001B[49m\u001B[43m(\u001B[49m\u001B[43mfine_gt\u001B[49m\u001B[43m,\u001B[49m\u001B[43mfine_pred\u001B[49m\u001B[43m,\u001B[49m\u001B[43moutput_dict\u001B[49m\u001B[38;5;241;43m=\u001B[39;49m\u001B[38;5;28;43;01mTrue\u001B[39;49;00m\u001B[43m,\u001B[49m\u001B[43m \u001B[49m\u001B[43mtarget_names\u001B[49m\u001B[38;5;241;43m=\u001B[39;49m\u001B[43mfine_labels\u001B[49m\u001B[43m)\u001B[49m\n\u001B[0;32m      5\u001B[0m fine_classification_rep \u001B[38;5;241m=\u001B[39m pd\u001B[38;5;241m.\u001B[39mDataFrame\u001B[38;5;241m.\u001B[39mfrom_dict(rep_dict)\n\u001B[0;32m      6\u001B[0m fine_classification_rep \u001B[38;5;241m=\u001B[39m fine_classification_rep\u001B[38;5;241m.\u001B[39mtranspose()\u001B[38;5;241m.\u001B[39mrename(index\u001B[38;5;241m=\u001B[39m{\u001B[38;5;124m'\u001B[39m\u001B[38;5;124maccuracy\u001B[39m\u001B[38;5;124m'\u001B[39m:\u001B[38;5;124m'\u001B[39m\u001B[38;5;124mmicro avg\u001B[39m\u001B[38;5;124m'\u001B[39m})\n",
      "File \u001B[1;32m~\\anaconda3\\envs\\micro\\lib\\site-packages\\sklearn\\utils\\_param_validation.py:211\u001B[0m, in \u001B[0;36mvalidate_params.<locals>.decorator.<locals>.wrapper\u001B[1;34m(*args, **kwargs)\u001B[0m\n\u001B[0;32m    205\u001B[0m \u001B[38;5;28;01mtry\u001B[39;00m:\n\u001B[0;32m    206\u001B[0m     \u001B[38;5;28;01mwith\u001B[39;00m config_context(\n\u001B[0;32m    207\u001B[0m         skip_parameter_validation\u001B[38;5;241m=\u001B[39m(\n\u001B[0;32m    208\u001B[0m             prefer_skip_nested_validation \u001B[38;5;129;01mor\u001B[39;00m global_skip_validation\n\u001B[0;32m    209\u001B[0m         )\n\u001B[0;32m    210\u001B[0m     ):\n\u001B[1;32m--> 211\u001B[0m         \u001B[38;5;28;01mreturn\u001B[39;00m func(\u001B[38;5;241m*\u001B[39margs, \u001B[38;5;241m*\u001B[39m\u001B[38;5;241m*\u001B[39mkwargs)\n\u001B[0;32m    212\u001B[0m \u001B[38;5;28;01mexcept\u001B[39;00m InvalidParameterError \u001B[38;5;28;01mas\u001B[39;00m e:\n\u001B[0;32m    213\u001B[0m     \u001B[38;5;66;03m# When the function is just a wrapper around an estimator, we allow\u001B[39;00m\n\u001B[0;32m    214\u001B[0m     \u001B[38;5;66;03m# the function to delegate validation to the estimator, but we replace\u001B[39;00m\n\u001B[0;32m    215\u001B[0m     \u001B[38;5;66;03m# the name of the estimator by the name of the function in the error\u001B[39;00m\n\u001B[0;32m    216\u001B[0m     \u001B[38;5;66;03m# message to avoid confusion.\u001B[39;00m\n\u001B[0;32m    217\u001B[0m     msg \u001B[38;5;241m=\u001B[39m re\u001B[38;5;241m.\u001B[39msub(\n\u001B[0;32m    218\u001B[0m         \u001B[38;5;124mr\u001B[39m\u001B[38;5;124m\"\u001B[39m\u001B[38;5;124mparameter of \u001B[39m\u001B[38;5;124m\\\u001B[39m\u001B[38;5;124mw+ must be\u001B[39m\u001B[38;5;124m\"\u001B[39m,\n\u001B[0;32m    219\u001B[0m         \u001B[38;5;124mf\u001B[39m\u001B[38;5;124m\"\u001B[39m\u001B[38;5;124mparameter of \u001B[39m\u001B[38;5;132;01m{\u001B[39;00mfunc\u001B[38;5;241m.\u001B[39m\u001B[38;5;18m__qualname__\u001B[39m\u001B[38;5;132;01m}\u001B[39;00m\u001B[38;5;124m must be\u001B[39m\u001B[38;5;124m\"\u001B[39m,\n\u001B[0;32m    220\u001B[0m         \u001B[38;5;28mstr\u001B[39m(e),\n\u001B[0;32m    221\u001B[0m     )\n",
      "File \u001B[1;32m~\\anaconda3\\envs\\micro\\lib\\site-packages\\sklearn\\metrics\\_classification.py:2561\u001B[0m, in \u001B[0;36mclassification_report\u001B[1;34m(y_true, y_pred, labels, target_names, sample_weight, digits, output_dict, zero_division)\u001B[0m\n\u001B[0;32m   2555\u001B[0m         warnings\u001B[38;5;241m.\u001B[39mwarn(\n\u001B[0;32m   2556\u001B[0m             \u001B[38;5;124m\"\u001B[39m\u001B[38;5;124mlabels size, \u001B[39m\u001B[38;5;132;01m{0}\u001B[39;00m\u001B[38;5;124m, does not match size of target_names, \u001B[39m\u001B[38;5;132;01m{1}\u001B[39;00m\u001B[38;5;124m\"\u001B[39m\u001B[38;5;241m.\u001B[39mformat(\n\u001B[0;32m   2557\u001B[0m                 \u001B[38;5;28mlen\u001B[39m(labels), \u001B[38;5;28mlen\u001B[39m(target_names)\n\u001B[0;32m   2558\u001B[0m             )\n\u001B[0;32m   2559\u001B[0m         )\n\u001B[0;32m   2560\u001B[0m     \u001B[38;5;28;01melse\u001B[39;00m:\n\u001B[1;32m-> 2561\u001B[0m         \u001B[38;5;28;01mraise\u001B[39;00m \u001B[38;5;167;01mValueError\u001B[39;00m(\n\u001B[0;32m   2562\u001B[0m             \u001B[38;5;124m\"\u001B[39m\u001B[38;5;124mNumber of classes, \u001B[39m\u001B[38;5;132;01m{0}\u001B[39;00m\u001B[38;5;124m, does not match size of \u001B[39m\u001B[38;5;124m\"\u001B[39m\n\u001B[0;32m   2563\u001B[0m             \u001B[38;5;124m\"\u001B[39m\u001B[38;5;124mtarget_names, \u001B[39m\u001B[38;5;132;01m{1}\u001B[39;00m\u001B[38;5;124m. Try specifying the labels \u001B[39m\u001B[38;5;124m\"\u001B[39m\n\u001B[0;32m   2564\u001B[0m             \u001B[38;5;124m\"\u001B[39m\u001B[38;5;124mparameter\u001B[39m\u001B[38;5;124m\"\u001B[39m\u001B[38;5;241m.\u001B[39mformat(\u001B[38;5;28mlen\u001B[39m(labels), \u001B[38;5;28mlen\u001B[39m(target_names))\n\u001B[0;32m   2565\u001B[0m         )\n\u001B[0;32m   2566\u001B[0m \u001B[38;5;28;01mif\u001B[39;00m target_names \u001B[38;5;129;01mis\u001B[39;00m \u001B[38;5;28;01mNone\u001B[39;00m:\n\u001B[0;32m   2567\u001B[0m     target_names \u001B[38;5;241m=\u001B[39m [\u001B[38;5;124m\"\u001B[39m\u001B[38;5;132;01m%s\u001B[39;00m\u001B[38;5;124m\"\u001B[39m \u001B[38;5;241m%\u001B[39m l \u001B[38;5;28;01mfor\u001B[39;00m l \u001B[38;5;129;01min\u001B[39;00m labels]\n",
      "\u001B[1;31mValueError\u001B[0m: Number of classes, 49, does not match size of target_names, 52. Try specifying the labels parameter"
     ]
    }
   ],
   "source": [
    "fine_gt = fine_df_gt['gt_label']\n",
    "fine_pred = fine_average_df['pred']\n",
    "\n",
    "rep_dict = classification_report(fine_gt,fine_pred,output_dict=True, target_names=fine_labels)\n",
    "fine_classification_rep = pd.DataFrame.from_dict(rep_dict)\n",
    "fine_classification_rep = fine_classification_rep.transpose().rename(index={'accuracy':'micro avg'})\n",
    "fine_classification_rep.reset_index().reset_index()"
   ],
   "metadata": {
    "collapsed": false,
    "ExecuteTime": {
     "end_time": "2024-07-07T12:50:46.083226500Z",
     "start_time": "2024-07-07T12:50:44.856238300Z"
    }
   },
   "id": "a9fa4c8bf259bb2"
  },
  {
   "cell_type": "code",
   "execution_count": 27,
   "outputs": [],
   "source": [
    "coarse_pred = np.array([fine2coarse(a) for a in fine_pred.values])"
   ],
   "metadata": {
    "collapsed": false,
    "ExecuteTime": {
     "end_time": "2024-07-07T12:53:24.246613100Z",
     "start_time": "2024-07-07T12:53:24.210619Z"
    }
   },
   "id": "cefce8a42c6eae8e"
  },
  {
   "cell_type": "code",
   "execution_count": 159,
   "outputs": [],
   "source": [
    "metadata_dict_list = df_gt_raw['metadata'].apply(lambda x: ast.literal_eval(x)).values"
   ],
   "metadata": {
    "collapsed": false,
    "ExecuteTime": {
     "end_time": "2024-07-07T12:30:32.125080900Z",
     "start_time": "2024-07-07T12:30:31.998996200Z"
    }
   },
   "id": "74bb7d50232b12e"
  },
  {
   "cell_type": "code",
   "execution_count": 160,
   "outputs": [],
   "source": [
    "coarse_gt = [a['coarse_label_txt'] for a in metadata_dict_list] "
   ],
   "metadata": {
    "collapsed": false,
    "ExecuteTime": {
     "end_time": "2024-07-07T12:30:32.269080Z",
     "start_time": "2024-07-07T12:30:32.255078600Z"
    }
   },
   "id": "8f2089da5510496f"
  },
  {
   "cell_type": "code",
   "execution_count": 161,
   "outputs": [],
   "source": [
    "COARSE_LABEL_INV = {v:k for k,v in COARSE_LABEL.items()}\n"
   ],
   "metadata": {
    "collapsed": false,
    "ExecuteTime": {
     "end_time": "2024-07-07T12:30:32.423079800Z",
     "start_time": "2024-07-07T12:30:32.396079700Z"
    }
   },
   "id": "57cf3e33f452ffa3"
  },
  {
   "cell_type": "code",
   "execution_count": 162,
   "outputs": [],
   "source": [
    "coarse_labels = list(COARSE_LABEL.values())"
   ],
   "metadata": {
    "collapsed": false,
    "ExecuteTime": {
     "end_time": "2024-07-07T12:30:32.652379100Z",
     "start_time": "2024-07-07T12:30:32.632374400Z"
    }
   },
   "id": "f7fc700b7f9f426e"
  },
  {
   "cell_type": "code",
   "execution_count": 163,
   "outputs": [
    {
     "data": {
      "text/plain": "              precision    recall  f1-score      support\nbody           0.640000  0.711111  0.673684   315.000000\nhead           0.921209  0.832512  0.874618  2233.000000\nupper limb     0.765828  0.769939  0.767878  1304.000000\nlower limb     0.773333  0.808926  0.790729   717.000000\nbody-hand      0.613095  0.677632  0.643750   152.000000\nhead-hand      0.755000  0.855524  0.802125   353.000000\nleg-hand       0.677419  0.779297  0.724796   512.000000\nmicro avg      0.800394  0.800394  0.800394     0.800394\nmacro avg      0.735126  0.776420  0.753940  5586.000000\nweighted avg   0.808866  0.800394  0.803006  5586.000000",
      "text/html": "<div>\n<style scoped>\n    .dataframe tbody tr th:only-of-type {\n        vertical-align: middle;\n    }\n\n    .dataframe tbody tr th {\n        vertical-align: top;\n    }\n\n    .dataframe thead th {\n        text-align: right;\n    }\n</style>\n<table border=\"1\" class=\"dataframe\">\n  <thead>\n    <tr style=\"text-align: right;\">\n      <th></th>\n      <th>precision</th>\n      <th>recall</th>\n      <th>f1-score</th>\n      <th>support</th>\n    </tr>\n  </thead>\n  <tbody>\n    <tr>\n      <th>body</th>\n      <td>0.640000</td>\n      <td>0.711111</td>\n      <td>0.673684</td>\n      <td>315.000000</td>\n    </tr>\n    <tr>\n      <th>head</th>\n      <td>0.921209</td>\n      <td>0.832512</td>\n      <td>0.874618</td>\n      <td>2233.000000</td>\n    </tr>\n    <tr>\n      <th>upper limb</th>\n      <td>0.765828</td>\n      <td>0.769939</td>\n      <td>0.767878</td>\n      <td>1304.000000</td>\n    </tr>\n    <tr>\n      <th>lower limb</th>\n      <td>0.773333</td>\n      <td>0.808926</td>\n      <td>0.790729</td>\n      <td>717.000000</td>\n    </tr>\n    <tr>\n      <th>body-hand</th>\n      <td>0.613095</td>\n      <td>0.677632</td>\n      <td>0.643750</td>\n      <td>152.000000</td>\n    </tr>\n    <tr>\n      <th>head-hand</th>\n      <td>0.755000</td>\n      <td>0.855524</td>\n      <td>0.802125</td>\n      <td>353.000000</td>\n    </tr>\n    <tr>\n      <th>leg-hand</th>\n      <td>0.677419</td>\n      <td>0.779297</td>\n      <td>0.724796</td>\n      <td>512.000000</td>\n    </tr>\n    <tr>\n      <th>micro avg</th>\n      <td>0.800394</td>\n      <td>0.800394</td>\n      <td>0.800394</td>\n      <td>0.800394</td>\n    </tr>\n    <tr>\n      <th>macro avg</th>\n      <td>0.735126</td>\n      <td>0.776420</td>\n      <td>0.753940</td>\n      <td>5586.000000</td>\n    </tr>\n    <tr>\n      <th>weighted avg</th>\n      <td>0.808866</td>\n      <td>0.800394</td>\n      <td>0.803006</td>\n      <td>5586.000000</td>\n    </tr>\n  </tbody>\n</table>\n</div>"
     },
     "execution_count": 163,
     "metadata": {},
     "output_type": "execute_result"
    }
   ],
   "source": [
    "gt = [COARSE_LABEL_INV[a] for a in coarse_gt]\n",
    "pred = coarse_pred\n",
    "\n",
    "rep_dict = classification_report(gt, pred,output_dict=True, target_names=coarse_labels)\n",
    "coarse_classification_rep = pd.DataFrame.from_dict(rep_dict)\n",
    "coarse_classification_rep = coarse_classification_rep.transpose().rename(index={'accuracy':'micro avg'})\n",
    "coarse_classification_rep"
   ],
   "metadata": {
    "collapsed": false,
    "ExecuteTime": {
     "end_time": "2024-07-07T12:30:32.983737900Z",
     "start_time": "2024-07-07T12:30:32.952737Z"
    }
   },
   "id": "4db5b96560bee399"
  },
  {
   "cell_type": "code",
   "execution_count": 164,
   "outputs": [
    {
     "data": {
      "text/plain": "0.6727179864779893"
     },
     "execution_count": 164,
     "metadata": {},
     "output_type": "execute_result"
    }
   ],
   "source": [
    "a = coarse_classification_rep.loc['micro avg', 'f1-score']\n",
    "b = coarse_classification_rep.loc['macro avg', 'f1-score']\n",
    "c = fine_classification_rep.loc['micro avg', 'f1-score']\n",
    "d = fine_classification_rep.loc['macro avg', 'f1-score']\n",
    "np.mean([a,b,c,d])"
   ],
   "metadata": {
    "collapsed": false,
    "ExecuteTime": {
     "end_time": "2024-07-07T12:30:33.660368Z",
     "start_time": "2024-07-07T12:30:33.637371300Z"
    }
   },
   "id": "6a91a8094ebd28f9"
  },
  {
   "cell_type": "code",
   "execution_count": 29,
   "outputs": [
    {
     "data": {
      "text/plain": "filenames\ntest0000     9\ntest0001    30\ntest0002    20\ntest0003    47\ntest0004    17\n            ..\ntest1133    36\ntest1134    31\ntest1135    17\ntest1136    15\ntest1137    22\nName: pred, Length: 1138, dtype: int64"
     },
     "execution_count": 29,
     "metadata": {},
     "output_type": "execute_result"
    }
   ],
   "source": [
    "fine_pred"
   ],
   "metadata": {
    "collapsed": false,
    "ExecuteTime": {
     "end_time": "2024-07-07T12:53:40.976118200Z",
     "start_time": "2024-07-07T12:53:40.966113800Z"
    }
   },
   "id": "8c3a1c34cea37d32"
  },
  {
   "cell_type": "code",
   "execution_count": 28,
   "outputs": [
    {
     "data": {
      "text/plain": "array([1, 3, 2, ..., 2, 2, 2])"
     },
     "execution_count": 28,
     "metadata": {},
     "output_type": "execute_result"
    }
   ],
   "source": [
    "coarse_pred"
   ],
   "metadata": {
    "collapsed": false,
    "ExecuteTime": {
     "end_time": "2024-07-07T12:53:32.892648300Z",
     "start_time": "2024-07-07T12:53:32.871628700Z"
    }
   },
   "id": "894bc007afe1651b"
  },
  {
   "cell_type": "code",
   "execution_count": 121,
   "outputs": [],
   "source": [
    "filenames = fine_pred.index.values\n",
    "filenames = [a+'.mp4' for a in filenames]"
   ],
   "metadata": {
    "collapsed": false,
    "ExecuteTime": {
     "end_time": "2024-07-07T13:22:47.033087900Z",
     "start_time": "2024-07-07T13:22:47.019083500Z"
    }
   },
   "id": "ab400d32bdbe441e"
  },
  {
   "cell_type": "code",
   "execution_count": 122,
   "outputs": [
    {
     "data": {
      "text/plain": "              fine  coarse               fine_text coarse_text\ntest0000.mp4     9       1                 nodding        head\ntest0001.mp4    30       3         retracting feet  lower limb\ntest0002.mp4    20       2         spreading hands  upper limb\ntest0003.mp4    47       5         pushing glasses   head-hand\ntest0004.mp4    17       2         stretching arms  upper limb\n...            ...     ...                     ...         ...\ntest1133.mp4    36       4             arms akimbo   body-hand\ntest1134.mp4    31       3                  tiptoe  lower limb\ntest1135.mp4    17       2         stretching arms  upper limb\ntest1136.mp4    15       2        pointing oneself  upper limb\ntest1137.mp4    22       2  other finger movements  upper limb\n\n[1138 rows x 4 columns]",
      "text/html": "<div>\n<style scoped>\n    .dataframe tbody tr th:only-of-type {\n        vertical-align: middle;\n    }\n\n    .dataframe tbody tr th {\n        vertical-align: top;\n    }\n\n    .dataframe thead th {\n        text-align: right;\n    }\n</style>\n<table border=\"1\" class=\"dataframe\">\n  <thead>\n    <tr style=\"text-align: right;\">\n      <th></th>\n      <th>fine</th>\n      <th>coarse</th>\n      <th>fine_text</th>\n      <th>coarse_text</th>\n    </tr>\n  </thead>\n  <tbody>\n    <tr>\n      <th>test0000.mp4</th>\n      <td>9</td>\n      <td>1</td>\n      <td>nodding</td>\n      <td>head</td>\n    </tr>\n    <tr>\n      <th>test0001.mp4</th>\n      <td>30</td>\n      <td>3</td>\n      <td>retracting feet</td>\n      <td>lower limb</td>\n    </tr>\n    <tr>\n      <th>test0002.mp4</th>\n      <td>20</td>\n      <td>2</td>\n      <td>spreading hands</td>\n      <td>upper limb</td>\n    </tr>\n    <tr>\n      <th>test0003.mp4</th>\n      <td>47</td>\n      <td>5</td>\n      <td>pushing glasses</td>\n      <td>head-hand</td>\n    </tr>\n    <tr>\n      <th>test0004.mp4</th>\n      <td>17</td>\n      <td>2</td>\n      <td>stretching arms</td>\n      <td>upper limb</td>\n    </tr>\n    <tr>\n      <th>...</th>\n      <td>...</td>\n      <td>...</td>\n      <td>...</td>\n      <td>...</td>\n    </tr>\n    <tr>\n      <th>test1133.mp4</th>\n      <td>36</td>\n      <td>4</td>\n      <td>arms akimbo</td>\n      <td>body-hand</td>\n    </tr>\n    <tr>\n      <th>test1134.mp4</th>\n      <td>31</td>\n      <td>3</td>\n      <td>tiptoe</td>\n      <td>lower limb</td>\n    </tr>\n    <tr>\n      <th>test1135.mp4</th>\n      <td>17</td>\n      <td>2</td>\n      <td>stretching arms</td>\n      <td>upper limb</td>\n    </tr>\n    <tr>\n      <th>test1136.mp4</th>\n      <td>15</td>\n      <td>2</td>\n      <td>pointing oneself</td>\n      <td>upper limb</td>\n    </tr>\n    <tr>\n      <th>test1137.mp4</th>\n      <td>22</td>\n      <td>2</td>\n      <td>other finger movements</td>\n      <td>upper limb</td>\n    </tr>\n  </tbody>\n</table>\n<p>1138 rows × 4 columns</p>\n</div>"
     },
     "execution_count": 122,
     "metadata": {},
     "output_type": "execute_result"
    }
   ],
   "source": [
    "# Test preds\n",
    "# Compute argmax for each set of logits\n",
    "argmax_fine = fine_pred.values\n",
    "argmax_coarse = coarse_pred\n",
    "\n",
    "# Create the DataFrame with appropriate index\n",
    "df_test_preds = pd.DataFrame({\n",
    "    'fine': argmax_fine,\n",
    "    'coarse': argmax_coarse\n",
    "}, index=filenames)\n",
    "df_test_preds['fine_text'] = df_test_preds['fine'].map(ID2LABELS)\n",
    "df_test_preds['coarse_text'] = df_test_preds['coarse'].map(COARSE_LABEL)\n",
    "df_test_preds"
   ],
   "metadata": {
    "collapsed": false,
    "ExecuteTime": {
     "end_time": "2024-07-07T13:22:47.594146900Z",
     "start_time": "2024-07-07T13:22:47.559141400Z"
    }
   },
   "id": "736a4846eb89b72a"
  },
  {
   "cell_type": "code",
   "execution_count": 123,
   "outputs": [],
   "source": [
    "path_to_log_folder = r'D:\\Project-mpg microgesture\\human_micro_gesture_classifier\\experiments\\mac_multi\\densepose_input\\test_151'\n",
    "df_test_preds.to_csv(osp.join(path_to_log_folder,'prediction_full_table.csv'))"
   ],
   "metadata": {
    "collapsed": false,
    "ExecuteTime": {
     "end_time": "2024-07-07T13:22:48.388343400Z",
     "start_time": "2024-07-07T13:22:48.360343100Z"
    }
   },
   "id": "754e33e4236b494f"
  },
  {
   "cell_type": "code",
   "execution_count": 124,
   "outputs": [],
   "source": [
    "df_test_preds_to_save = pd.DataFrame({\n",
    "    'pred_label_1': argmax_coarse,\n",
    "    'pred_label_2': argmax_fine\n",
    "}, index=filenames)\n",
    "df_test_preds_to_save.index.names = ['id']\n",
    "# df_test_preds_to_save = df_test_preds_to_save.rename_axis(index={'': 'id'})\n",
    "\n",
    "df_test_preds_to_save.to_csv(osp.join(path_to_log_folder,'prediction.csv'))\n",
    "# df_test_preds_to_save.index.name"
   ],
   "metadata": {
    "collapsed": false,
    "ExecuteTime": {
     "end_time": "2024-07-07T13:22:48.847113900Z",
     "start_time": "2024-07-07T13:22:48.822104700Z"
    }
   },
   "id": "8c05f72af2af7b62"
  },
  {
   "cell_type": "code",
   "execution_count": 125,
   "outputs": [],
   "source": [
    "# compare preds \n"
   ],
   "metadata": {
    "collapsed": false,
    "ExecuteTime": {
     "end_time": "2024-07-07T13:22:49.278273600Z",
     "start_time": "2024-07-07T13:22:49.264270500Z"
    }
   },
   "id": "8708714c9e0001ce"
  },
  {
   "cell_type": "code",
   "execution_count": 126,
   "outputs": [],
   "source": [
    "path_pred1 = osp.join(path_to_log_folder,'prediction.csv')\n",
    "path_pred2 = osp.join(r'D:\\Project-mpg microgesture\\human_micro_gesture_classifier\\experiments\\mac_multi\\split_loss_fine_coarse_70\\test','prediction.csv')\n"
   ],
   "metadata": {
    "collapsed": false,
    "ExecuteTime": {
     "end_time": "2024-07-07T13:22:49.684877700Z",
     "start_time": "2024-07-07T13:22:49.666892800Z"
    }
   },
   "id": "69b4b602607555e3"
  },
  {
   "cell_type": "code",
   "execution_count": 127,
   "outputs": [],
   "source": [
    "df_final_rgb = pd.read_csv(path_pred1, index_col='id')\n",
    "df_final_comb = pd.read_csv(path_pred2, index_col='id')"
   ],
   "metadata": {
    "collapsed": false,
    "ExecuteTime": {
     "end_time": "2024-07-07T13:22:50.036727800Z",
     "start_time": "2024-07-07T13:22:50.012724700Z"
    }
   },
   "id": "9fe7cb55ad5d186a"
  },
  {
   "cell_type": "code",
   "execution_count": 140,
   "outputs": [],
   "source": [
    "df_1 = df_final_rgb[['pred_label_2']]\n",
    "df_2 = df_final_comb[['pred_label_2']]"
   ],
   "metadata": {
    "collapsed": false,
    "ExecuteTime": {
     "end_time": "2024-07-07T13:30:37.789776700Z",
     "start_time": "2024-07-07T13:30:37.764777800Z"
    }
   },
   "id": "5d1fc0defe06563"
  },
  {
   "cell_type": "code",
   "execution_count": 141,
   "outputs": [
    {
     "data": {
      "text/plain": "              pred_label_2\nid                        \ntest0000.mp4             9\ntest0001.mp4            30\ntest0002.mp4            20\ntest0003.mp4            47\ntest0004.mp4            17\n...                    ...\ntest1133.mp4            36\ntest1134.mp4            31\ntest1135.mp4            17\ntest1136.mp4            15\ntest1137.mp4            22\n\n[1138 rows x 1 columns]",
      "text/html": "<div>\n<style scoped>\n    .dataframe tbody tr th:only-of-type {\n        vertical-align: middle;\n    }\n\n    .dataframe tbody tr th {\n        vertical-align: top;\n    }\n\n    .dataframe thead th {\n        text-align: right;\n    }\n</style>\n<table border=\"1\" class=\"dataframe\">\n  <thead>\n    <tr style=\"text-align: right;\">\n      <th></th>\n      <th>pred_label_2</th>\n    </tr>\n    <tr>\n      <th>id</th>\n      <th></th>\n    </tr>\n  </thead>\n  <tbody>\n    <tr>\n      <th>test0000.mp4</th>\n      <td>9</td>\n    </tr>\n    <tr>\n      <th>test0001.mp4</th>\n      <td>30</td>\n    </tr>\n    <tr>\n      <th>test0002.mp4</th>\n      <td>20</td>\n    </tr>\n    <tr>\n      <th>test0003.mp4</th>\n      <td>47</td>\n    </tr>\n    <tr>\n      <th>test0004.mp4</th>\n      <td>17</td>\n    </tr>\n    <tr>\n      <th>...</th>\n      <td>...</td>\n    </tr>\n    <tr>\n      <th>test1133.mp4</th>\n      <td>36</td>\n    </tr>\n    <tr>\n      <th>test1134.mp4</th>\n      <td>31</td>\n    </tr>\n    <tr>\n      <th>test1135.mp4</th>\n      <td>17</td>\n    </tr>\n    <tr>\n      <th>test1136.mp4</th>\n      <td>15</td>\n    </tr>\n    <tr>\n      <th>test1137.mp4</th>\n      <td>22</td>\n    </tr>\n  </tbody>\n</table>\n<p>1138 rows × 1 columns</p>\n</div>"
     },
     "execution_count": 141,
     "metadata": {},
     "output_type": "execute_result"
    }
   ],
   "source": [
    "df_1\n"
   ],
   "metadata": {
    "collapsed": false,
    "ExecuteTime": {
     "end_time": "2024-07-07T13:30:38.556639400Z",
     "start_time": "2024-07-07T13:30:38.529634400Z"
    }
   },
   "id": "3d3a693748003052"
  },
  {
   "cell_type": "code",
   "execution_count": 142,
   "outputs": [
    {
     "data": {
      "text/plain": "                           rgb                    comb   same\nid                                                           \ntest0001.mp4   retracting feet                  tiptoe  False\ntest0007.mp4      turning head            tilting head  False\ntest0012.mp4       bowing head         stretching arms  False\ntest0013.mp4      turning head                 head up  False\ntest0022.mp4     touching legs            shaking body  False\n...                        ...                     ...    ...\ntest1116.mp4    clenching fist           touching legs  False\ntest1125.mp4   stretching arms         spreading hands  False\ntest1132.mp4      turning head                 head up  False\ntest1133.mp4       arms akimbo            turning head  False\ntest1136.mp4  pointing oneself  other finger movements  False\n\n[190 rows x 3 columns]",
      "text/html": "<div>\n<style scoped>\n    .dataframe tbody tr th:only-of-type {\n        vertical-align: middle;\n    }\n\n    .dataframe tbody tr th {\n        vertical-align: top;\n    }\n\n    .dataframe thead th {\n        text-align: right;\n    }\n</style>\n<table border=\"1\" class=\"dataframe\">\n  <thead>\n    <tr style=\"text-align: right;\">\n      <th></th>\n      <th>rgb</th>\n      <th>comb</th>\n      <th>same</th>\n    </tr>\n    <tr>\n      <th>id</th>\n      <th></th>\n      <th></th>\n      <th></th>\n    </tr>\n  </thead>\n  <tbody>\n    <tr>\n      <th>test0001.mp4</th>\n      <td>retracting feet</td>\n      <td>tiptoe</td>\n      <td>False</td>\n    </tr>\n    <tr>\n      <th>test0007.mp4</th>\n      <td>turning head</td>\n      <td>tilting head</td>\n      <td>False</td>\n    </tr>\n    <tr>\n      <th>test0012.mp4</th>\n      <td>bowing head</td>\n      <td>stretching arms</td>\n      <td>False</td>\n    </tr>\n    <tr>\n      <th>test0013.mp4</th>\n      <td>turning head</td>\n      <td>head up</td>\n      <td>False</td>\n    </tr>\n    <tr>\n      <th>test0022.mp4</th>\n      <td>touching legs</td>\n      <td>shaking body</td>\n      <td>False</td>\n    </tr>\n    <tr>\n      <th>...</th>\n      <td>...</td>\n      <td>...</td>\n      <td>...</td>\n    </tr>\n    <tr>\n      <th>test1116.mp4</th>\n      <td>clenching fist</td>\n      <td>touching legs</td>\n      <td>False</td>\n    </tr>\n    <tr>\n      <th>test1125.mp4</th>\n      <td>stretching arms</td>\n      <td>spreading hands</td>\n      <td>False</td>\n    </tr>\n    <tr>\n      <th>test1132.mp4</th>\n      <td>turning head</td>\n      <td>head up</td>\n      <td>False</td>\n    </tr>\n    <tr>\n      <th>test1133.mp4</th>\n      <td>arms akimbo</td>\n      <td>turning head</td>\n      <td>False</td>\n    </tr>\n    <tr>\n      <th>test1136.mp4</th>\n      <td>pointing oneself</td>\n      <td>other finger movements</td>\n      <td>False</td>\n    </tr>\n  </tbody>\n</table>\n<p>190 rows × 3 columns</p>\n</div>"
     },
     "execution_count": 142,
     "metadata": {},
     "output_type": "execute_result"
    }
   ],
   "source": [
    "df_final = pd.DataFrame(index=df_1.index)\n",
    "df_final['rgb'] = df_1['pred_label_2'].astype(int).apply(lambda x: ID2LABELS[x])\n",
    "df_final['comb'] = df_2['pred_label_2'].astype(int).apply(lambda x: ID2LABELS[x])\n",
    "df_final['same'] = df_final['rgb'] ==df_final['comb'] \n",
    "df_final.loc[~df_final['same']]"
   ],
   "metadata": {
    "collapsed": false,
    "ExecuteTime": {
     "end_time": "2024-07-07T13:30:39.590788800Z",
     "start_time": "2024-07-07T13:30:39.554786400Z"
    }
   },
   "id": "76fdeacc57c9e6c9"
  },
  {
   "cell_type": "code",
   "execution_count": null,
   "outputs": [],
   "source": [],
   "metadata": {
    "collapsed": false
   },
   "id": "2efb47b327d3fc36"
  }
 ],
 "metadata": {
  "kernelspec": {
   "display_name": "Python 3",
   "language": "python",
   "name": "python3"
  },
  "language_info": {
   "codemirror_mode": {
    "name": "ipython",
    "version": 2
   },
   "file_extension": ".py",
   "mimetype": "text/x-python",
   "name": "python",
   "nbconvert_exporter": "python",
   "pygments_lexer": "ipython2",
   "version": "2.7.6"
  }
 },
 "nbformat": 4,
 "nbformat_minor": 5
}
